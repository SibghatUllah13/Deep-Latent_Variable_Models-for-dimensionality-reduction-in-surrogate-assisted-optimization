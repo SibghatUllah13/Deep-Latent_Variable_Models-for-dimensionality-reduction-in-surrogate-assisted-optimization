{
 "cells": [
  {
   "cell_type": "code",
   "execution_count": 1,
   "metadata": {},
   "outputs": [],
   "source": [
    "import numpy as np\n",
    "import pandas as pd\n",
    "import os\n",
    "import bbobbenchmarks as bn\n",
    "from scipy import stats"
   ]
  },
  {
   "cell_type": "markdown",
   "metadata": {},
   "source": [
    "## Benchmark Functions for Optimization"
   ]
  },
  {
   "cell_type": "code",
   "execution_count": 2,
   "metadata": {},
   "outputs": [],
   "source": [
    "''' F2 '''\n",
    "def F2(X):\n",
    "    f = bn.F2()\n",
    "    X = np.array(X)\n",
    "    return f(X)\n",
    "\n",
    "''' F3 '''\n",
    "def F3(X):\n",
    "    f = bn.F3()\n",
    "    X = np.array(X)\n",
    "    return f(X)\n",
    "\n",
    "''' F7 '''\n",
    "def F7(X):\n",
    "    f = bn.F7()\n",
    "    X = np.array(X)\n",
    "    return f(X)\n",
    "\n",
    "''' F9 '''\n",
    "def F9(X):\n",
    "    f = bn.F9()\n",
    "    X = np.array(X)\n",
    "    return f(X)\n",
    "\n",
    "''' F10 '''\n",
    "def F10(X):\n",
    "    f = bn.F10()\n",
    "    X = np.array(X)\n",
    "    return f(X)\n",
    "\n",
    "''' F13 '''\n",
    "def F13(X):\n",
    "    f = bn.F13()\n",
    "    X = np.array(X)\n",
    "    return f(X)\n",
    "\n",
    "''' F15 '''\n",
    "def F15(X):\n",
    "    f = bn.F15()\n",
    "    X = np.array(X)\n",
    "    return f(X)\n",
    "\n",
    "''' F16 '''\n",
    "def F16(X):\n",
    "    f = bn.F16()\n",
    "    X = np.array(X)\n",
    "    return f(X)\n",
    "\n",
    "''' F20 '''\n",
    "def F20(X):\n",
    "    f = bn.F20()\n",
    "    X = np.array(X)\n",
    "    return f(X)\n",
    "\n",
    "''' F24 '''\n",
    "def F24(X):\n",
    "    f = bn.F24()\n",
    "    X = np.array(X)\n",
    "    return f(X)"
   ]
  },
  {
   "cell_type": "code",
   "execution_count": 3,
   "metadata": {},
   "outputs": [],
   "source": [
    "path_1 = \"first\" \n",
    "F2_1 = pd.read_csv(path_1+'\\\\F2.csv', index_col=0)\n",
    "F3_1 = pd.read_csv(path_1+'\\\\F3.csv', index_col=0)\n",
    "F7_1 = pd.read_csv(path_1+'\\\\F7.csv', index_col=0)\n",
    "F9_1 = pd.read_csv(path_1+'\\\\F9.csv', index_col=0)\n",
    "F10_1 = pd.read_csv(path_1+'\\\\F10.csv', index_col=0)\n",
    "F13_1 = pd.read_csv(path_1+'\\\\F13.csv', index_col=0)\n",
    "F15_1 = pd.read_csv(path_1+'\\\\F15.csv', index_col=0)\n",
    "F16_1 = pd.read_csv(path_1+'\\\\F16.csv', index_col=0)\n",
    "F20_1 = pd.read_csv(path_1+'\\\\F20.csv', index_col=0)\n",
    "F24_1 = pd.read_csv(path_1+'\\\\F24.csv', index_col=0)\n",
    "\n",
    "path_2 = \"second\" \n",
    "F2_2 = pd.read_csv(path_2+'\\\\F2.csv', index_col=0)\n",
    "F3_2 = pd.read_csv(path_2+'\\\\F3.csv', index_col=0)\n",
    "F7_2 = pd.read_csv(path_2+'\\\\F7.csv', index_col=0)\n",
    "F9_2 = pd.read_csv(path_2+'\\\\F9.csv', index_col=0)\n",
    "F10_2 = pd.read_csv(path_2+'\\\\F10.csv', index_col=0)\n",
    "F13_2 = pd.read_csv(path_2+'\\\\F13.csv', index_col=0)\n",
    "F15_2 = pd.read_csv(path_2+'\\\\F15.csv', index_col=0)\n",
    "F16_2 = pd.read_csv(path_2+'\\\\F16.csv', index_col=0)\n",
    "F20_2 = pd.read_csv(path_2+'\\\\F20.csv', index_col=0)\n",
    "F24_2 = pd.read_csv(path_2+'\\\\F24.csv', index_col=0)\n",
    "\n",
    "path_3 = \"third\" \n",
    "F2_3 = pd.read_csv(path_3+'\\\\F2.csv', index_col=0)\n",
    "F3_3 = pd.read_csv(path_3+'\\\\F3.csv', index_col=0)\n",
    "F7_3 = pd.read_csv(path_3+'\\\\F7.csv', index_col=0)\n",
    "F9_3 = pd.read_csv(path_3+'\\\\F9.csv', index_col=0)\n",
    "F10_3 = pd.read_csv(path_3+'\\\\F10.csv', index_col=0)\n",
    "F13_3 = pd.read_csv(path_3+'\\\\F13.csv', index_col=0)\n",
    "F15_3 = pd.read_csv(path_3+'\\\\F15.csv', index_col=0)\n",
    "F16_3 = pd.read_csv(path_3+'\\\\F16.csv', index_col=0)\n",
    "F20_3 = pd.read_csv(path_3+'\\\\F20.csv', index_col=0)\n",
    "F24_3 = pd.read_csv(path_3+'\\\\F24.csv', index_col=0)\n",
    "\n",
    "F2_all = pd.concat([F2_1,F2_2,F2_3])\n",
    "F3_all = pd.concat([F3_1,F3_2,F3_3])\n",
    "F7_all = pd.concat([F7_1,F7_2,F7_3])\n",
    "F9_all = pd.concat([F9_1,F9_2,F9_3])\n",
    "F10_all = pd.concat([F10_1,F10_2,F10_3])\n",
    "F13_all = pd.concat([F13_1,F13_2,F13_3])\n",
    "F15_all = pd.concat([F15_1,F15_2,F15_3])\n",
    "F16_all = pd.concat([F15_1,F16_2,F16_3])\n",
    "F20_all = pd.concat([F20_1,F20_2,F20_3])\n",
    "F24_all = pd.concat([F24_1,F24_2,F24_3])"
   ]
  },
  {
   "cell_type": "code",
   "execution_count": 4,
   "metadata": {},
   "outputs": [
    {
     "name": "stdout",
     "output_type": "stream",
     "text": [
      "F2\n",
      "Kriging\n",
      "ModeResult(mode=array([50672203.99846563]), count=array([1])) 0.42702116871438717\n",
      "SVM\n",
      "ModeResult(mode=array([1.42251931e+08]), count=array([1])) 39887844.844051026\n",
      "ELN\n",
      "ModeResult(mode=array([2865738.1884947]), count=array([1])) 375081.8812360394\n"
     ]
    }
   ],
   "source": [
    "Krig = np.zeros(30)\n",
    "SVM = np.zeros(30)\n",
    "ELN = np.zeros(30)\n",
    "for i in range(F2_all.shape[0]):\n",
    "    Krig [i] = F2(F2_all.iloc[i,:200].values)\n",
    "    SVM [i] = F2(F2_all.iloc[i,200:400].values)\n",
    "    ELN [i] = F2(F2_all.iloc[i,400:600].values)\n",
    "print ('F2')\n",
    "print ('Kriging')\n",
    "print (stats.mode(Krig) , np.std(Krig))\n",
    "print ('SVM')\n",
    "print (stats.mode(SVM) , np.std(SVM))\n",
    "print ('ELN')\n",
    "print (stats.mode(ELN) , np.std(ELN))"
   ]
  },
  {
   "cell_type": "code",
   "execution_count": 5,
   "metadata": {},
   "outputs": [
    {
     "name": "stdout",
     "output_type": "stream",
     "text": [
      "F3\n",
      "Kriging\n",
      "ModeResult(mode=array([4292.73421439]), count=array([1])) 0.00012090101447602955\n",
      "SVM\n",
      "ModeResult(mode=array([15471.72525769]), count=array([1])) 4018.4034123888546\n",
      "ELN\n",
      "ModeResult(mode=array([9774.41750749]), count=array([1])) 385.45564538255286\n"
     ]
    }
   ],
   "source": [
    "Krig = np.zeros(30)\n",
    "SVM = np.zeros(30)\n",
    "ELN = np.zeros(30)\n",
    "for i in range(F3_all.shape[0]):\n",
    "    Krig [i] = F3(F3_all.iloc[i,:200].values)\n",
    "    SVM [i] = F3(F3_all.iloc[i,200:400].values)\n",
    "    ELN [i] = F3(F3_all.iloc[i,400:600].values)\n",
    "print ('F3')\n",
    "print ('Kriging')\n",
    "print (stats.mode(Krig) , np.std(Krig))\n",
    "print ('SVM')\n",
    "print (stats.mode(SVM) , np.std(SVM))\n",
    "print ('ELN')\n",
    "print (stats.mode(ELN) , np.std(ELN))"
   ]
  },
  {
   "cell_type": "code",
   "execution_count": 6,
   "metadata": {},
   "outputs": [
    {
     "name": "stdout",
     "output_type": "stream",
     "text": [
      "F7\n",
      "Kriging\n",
      "ModeResult(mode=array([4151.53796328]), count=array([30])) 0.0\n",
      "SVM\n",
      "ModeResult(mode=array([17890.7127378]), count=array([1])) 3527.0417869363696\n",
      "ELN\n",
      "ModeResult(mode=array([23944.25308796]), count=array([2])) 1300.2383704752665\n"
     ]
    }
   ],
   "source": [
    "Krig = np.zeros(30)\n",
    "SVM = np.zeros(30)\n",
    "ELN = np.zeros(30)\n",
    "for i in range(F7_all.shape[0]):\n",
    "    Krig [i] = F7(F7_all.iloc[i,:200].values)\n",
    "    SVM [i] = F7(F7_all.iloc[i,200:400].values)\n",
    "    ELN [i] = F7(F7_all.iloc[i,400:600].values)\n",
    "print ('F7')\n",
    "print ('Kriging')\n",
    "print (stats.mode(Krig) , np.std(Krig))\n",
    "print ('SVM')\n",
    "print (stats.mode(SVM) , np.std(SVM))\n",
    "print ('ELN')\n",
    "print (stats.mode(ELN) , np.std(ELN))"
   ]
  },
  {
   "cell_type": "code",
   "execution_count": 7,
   "metadata": {},
   "outputs": [
    {
     "name": "stdout",
     "output_type": "stream",
     "text": [
      "F9\n",
      "Kriging\n",
      "ModeResult(mode=array([94775.48811092]), count=array([1])) 0.0024222804762165265\n",
      "SVM\n",
      "ModeResult(mode=array([38651644.70460991]), count=array([1])) 6933235.204152776\n",
      "ELN\n",
      "ModeResult(mode=array([37446105.00453843]), count=array([1])) 9689392.156619012\n"
     ]
    }
   ],
   "source": [
    "Krig = np.zeros(30)\n",
    "SVM = np.zeros(30)\n",
    "ELN = np.zeros(30)\n",
    "for i in range(F9_all.shape[0]):\n",
    "    Krig [i] = F9(F9_all.iloc[i,:200].values)\n",
    "    SVM [i] = F9(F9_all.iloc[i,200:400].values)\n",
    "    ELN [i] = F9(F9_all.iloc[i,400:600].values)\n",
    "print ('F9')\n",
    "print ('Kriging')\n",
    "print (stats.mode(Krig) , np.std(Krig))\n",
    "print ('SVM')\n",
    "print (stats.mode(SVM) , np.std(SVM))\n",
    "print ('ELN')\n",
    "print (stats.mode(ELN) , np.std(ELN))"
   ]
  },
  {
   "cell_type": "code",
   "execution_count": 8,
   "metadata": {},
   "outputs": [
    {
     "name": "stdout",
     "output_type": "stream",
     "text": [
      "F10\n",
      "Kriging\n",
      "ModeResult(mode=array([1.12086623e+08]), count=array([1])) 1.5042311612539134\n",
      "SVM\n",
      "ModeResult(mode=array([98746170.29152507]), count=array([1])) 34045989.61504203\n",
      "ELN\n",
      "ModeResult(mode=array([1.23875042e+08]), count=array([1])) 47630807.00165591\n"
     ]
    }
   ],
   "source": [
    "Krig = np.zeros(30)\n",
    "SVM = np.zeros(30)\n",
    "ELN = np.zeros(30)\n",
    "for i in range(F10_all.shape[0]):\n",
    "    Krig [i] = F10(F10_all.iloc[i,:200].values)\n",
    "    SVM [i] = F10(F10_all.iloc[i,200:400].values)\n",
    "    ELN [i] = F10(F10_all.iloc[i,400:600].values)\n",
    "print ('F10')\n",
    "print ('Kriging')\n",
    "print (stats.mode(Krig) , np.std(Krig))\n",
    "print ('SVM')\n",
    "print (stats.mode(SVM) , np.std(SVM))\n",
    "print ('ELN')\n",
    "print (stats.mode(ELN) , np.std(ELN))"
   ]
  },
  {
   "cell_type": "code",
   "execution_count": 9,
   "metadata": {},
   "outputs": [
    {
     "name": "stdout",
     "output_type": "stream",
     "text": [
      "F13\n",
      "Kriging\n",
      "ModeResult(mode=array([2858.18444392]), count=array([1])) 2.1823225066748656e-05\n",
      "SVM\n",
      "ModeResult(mode=array([9462.46927809]), count=array([1])) 539.9270748923732\n",
      "ELN\n",
      "ModeResult(mode=array([7428.35332639]), count=array([1])) 22.014742524833842\n"
     ]
    }
   ],
   "source": [
    "Krig = np.zeros(30)\n",
    "SVM = np.zeros(30)\n",
    "ELN = np.zeros(30)\n",
    "for i in range(F13_all.shape[0]):\n",
    "    Krig [i] = F13(F13_all.iloc[i,:200].values)\n",
    "    SVM [i] = F13(F13_all.iloc[i,200:400].values)\n",
    "    ELN [i] = F13(F13_all.iloc[i,400:600].values)\n",
    "print ('F13')\n",
    "print ('Kriging')\n",
    "print (stats.mode(Krig) , np.std(Krig))\n",
    "print ('SVM')\n",
    "print (stats.mode(SVM) , np.std(SVM))\n",
    "print ('ELN')\n",
    "print (stats.mode(ELN) , np.std(ELN))"
   ]
  },
  {
   "cell_type": "code",
   "execution_count": 10,
   "metadata": {},
   "outputs": [
    {
     "name": "stdout",
     "output_type": "stream",
     "text": [
      "F15\n",
      "Kriging\n",
      "ModeResult(mode=array([3719.67591773]), count=array([1])) 0.00013604238992815444\n",
      "SVM\n",
      "ModeResult(mode=array([18245.74669736]), count=array([1])) 3233.120313767481\n",
      "ELN\n",
      "ModeResult(mode=array([19281.51654953]), count=array([1])) 12196.769914137976\n"
     ]
    }
   ],
   "source": [
    "Krig = np.zeros(30)\n",
    "SVM = np.zeros(30)\n",
    "ELN = np.zeros(30)\n",
    "for i in range(F15_all.shape[0]):\n",
    "    Krig [i] = F15(F15_all.iloc[i,:200].values)\n",
    "    SVM [i] = F15(F15_all.iloc[i,200:400].values)\n",
    "    ELN [i] = F15(F15_all.iloc[i,400:600].values)\n",
    "print ('F15')\n",
    "print ('Kriging')\n",
    "print (stats.mode(Krig) , np.std(Krig))\n",
    "print ('SVM')\n",
    "print (stats.mode(SVM) , np.std(SVM))\n",
    "print ('ELN')\n",
    "print (stats.mode(ELN) , np.std(ELN))"
   ]
  },
  {
   "cell_type": "code",
   "execution_count": 11,
   "metadata": {},
   "outputs": [
    {
     "name": "stdout",
     "output_type": "stream",
     "text": [
      "F16\n",
      "Kriging\n",
      "ModeResult(mode=array([-195.92060499]), count=array([1])) 7.938832787543901\n",
      "SVM\n",
      "ModeResult(mode=array([-190.2649438]), count=array([1])) 7.5587313833231615\n",
      "ELN\n",
      "ModeResult(mode=array([-193.81745135]), count=array([1])) 6.673876404352025\n"
     ]
    }
   ],
   "source": [
    "Krig = np.zeros(30)\n",
    "SVM = np.zeros(30)\n",
    "ELN = np.zeros(30)\n",
    "for i in range(F16_all.shape[0]):\n",
    "    Krig [i] = F16(F16_all.iloc[i,:200].values)\n",
    "    SVM [i] = F16(F16_all.iloc[i,200:400].values)\n",
    "    ELN [i] = F16(F16_all.iloc[i,400:600].values)\n",
    "print ('F16')\n",
    "print ('Kriging')\n",
    "print (stats.mode(Krig) , np.std(Krig))\n",
    "print ('SVM')\n",
    "print (stats.mode(SVM) , np.std(SVM))\n",
    "print ('ELN')\n",
    "print (stats.mode(ELN) , np.std(ELN))"
   ]
  },
  {
   "cell_type": "code",
   "execution_count": 12,
   "metadata": {},
   "outputs": [
    {
     "name": "stdout",
     "output_type": "stream",
     "text": [
      "F20\n",
      "Kriging\n",
      "ModeResult(mode=array([208029.50531966]), count=array([1])) 0.004299363408181616\n",
      "SVM\n",
      "ModeResult(mode=array([1494511.7831825]), count=array([1])) 301189.6526182988\n",
      "ELN\n",
      "ModeResult(mode=array([64242.26058638]), count=array([1])) 7851.497329638046\n"
     ]
    }
   ],
   "source": [
    "Krig = np.zeros(30)\n",
    "SVM = np.zeros(30)\n",
    "ELN = np.zeros(30)\n",
    "for i in range(F20_all.shape[0]):\n",
    "    Krig [i] = F20(F20_all.iloc[i,:200].values)\n",
    "    SVM [i] = F20(F20_all.iloc[i,200:400].values)\n",
    "    ELN [i] = F20(F20_all.iloc[i,400:600].values)\n",
    "print ('F20')\n",
    "print ('Kriging')\n",
    "print (stats.mode(Krig) , np.std(Krig))\n",
    "print ('SVM')\n",
    "print (stats.mode(SVM) , np.std(SVM))\n",
    "print ('ELN')\n",
    "print (stats.mode(ELN) , np.std(ELN))"
   ]
  },
  {
   "cell_type": "code",
   "execution_count": 13,
   "metadata": {},
   "outputs": [
    {
     "name": "stdout",
     "output_type": "stream",
     "text": [
      "F24\n",
      "Kriging\n",
      "ModeResult(mode=array([2661.80667092]), count=array([1])) 0.0003956386844455862\n",
      "SVM\n",
      "ModeResult(mode=array([8757.94073824]), count=array([1])) 633.3848923003007\n",
      "ELN\n",
      "ModeResult(mode=array([10437.83524057]), count=array([1])) 0.0002400291929379034\n"
     ]
    }
   ],
   "source": [
    "Krig = np.zeros(30)\n",
    "SVM = np.zeros(30)\n",
    "ELN = np.zeros(30)\n",
    "for i in range(F24_all.shape[0]):\n",
    "    Krig [i] = F24(F24_all.iloc[i,:200].values)\n",
    "    SVM [i] = F24(F24_all.iloc[i,200:400].values)\n",
    "    ELN [i] = F24(F24_all.iloc[i,400:600].values)\n",
    "print ('F24')\n",
    "print ('Kriging')\n",
    "print (stats.mode(Krig) , np.std(Krig))\n",
    "print ('SVM')\n",
    "print (stats.mode(SVM) , np.std(SVM))\n",
    "print ('ELN')\n",
    "print (stats.mode(ELN) , np.std(ELN))"
   ]
  },
  {
   "cell_type": "code",
   "execution_count": null,
   "metadata": {},
   "outputs": [],
   "source": []
  },
  {
   "cell_type": "code",
   "execution_count": null,
   "metadata": {},
   "outputs": [],
   "source": []
  },
  {
   "cell_type": "code",
   "execution_count": null,
   "metadata": {},
   "outputs": [],
   "source": []
  },
  {
   "cell_type": "code",
   "execution_count": null,
   "metadata": {},
   "outputs": [],
   "source": []
  },
  {
   "cell_type": "code",
   "execution_count": null,
   "metadata": {},
   "outputs": [],
   "source": []
  },
  {
   "cell_type": "code",
   "execution_count": null,
   "metadata": {},
   "outputs": [],
   "source": []
  },
  {
   "cell_type": "code",
   "execution_count": null,
   "metadata": {},
   "outputs": [],
   "source": []
  },
  {
   "cell_type": "code",
   "execution_count": null,
   "metadata": {},
   "outputs": [],
   "source": []
  },
  {
   "cell_type": "code",
   "execution_count": null,
   "metadata": {},
   "outputs": [],
   "source": []
  },
  {
   "cell_type": "code",
   "execution_count": null,
   "metadata": {},
   "outputs": [],
   "source": []
  },
  {
   "cell_type": "code",
   "execution_count": null,
   "metadata": {},
   "outputs": [],
   "source": []
  },
  {
   "cell_type": "code",
   "execution_count": null,
   "metadata": {},
   "outputs": [],
   "source": []
  }
 ],
 "metadata": {
  "kernelspec": {
   "display_name": "Python 3",
   "language": "python",
   "name": "python3"
  },
  "language_info": {
   "codemirror_mode": {
    "name": "ipython",
    "version": 3
   },
   "file_extension": ".py",
   "mimetype": "text/x-python",
   "name": "python",
   "nbconvert_exporter": "python",
   "pygments_lexer": "ipython3",
   "version": "3.7.0"
  }
 },
 "nbformat": 4,
 "nbformat_minor": 2
}
