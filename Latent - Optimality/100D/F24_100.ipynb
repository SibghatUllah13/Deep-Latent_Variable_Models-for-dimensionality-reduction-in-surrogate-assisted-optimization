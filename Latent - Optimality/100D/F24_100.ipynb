{
  "nbformat": 4,
  "nbformat_minor": 0,
  "metadata": {
    "kernelspec": {
      "name": "python3",
      "display_name": "Python 3"
    },
    "language_info": {
      "codemirror_mode": {
        "name": "ipython",
        "version": 3
      },
      "file_extension": ".py",
      "mimetype": "text/x-python",
      "name": "python",
      "nbconvert_exporter": "python",
      "pygments_lexer": "ipython3",
      "version": "3.7.0"
    },
    "colab": {
      "name": "F24_100.ipynb",
      "provenance": [],
      "collapsed_sections": []
    }
  },
  "cells": [
    {
      "cell_type": "code",
      "metadata": {
        "id": "6zkV22S_a51g",
        "colab_type": "code",
        "outputId": "6b1428bf-1da3-4d32-cf92-52d92d915118",
        "colab": {
          "base_uri": "https://localhost:8080/",
          "height": 315
        }
      },
      "source": [
        "!pip install pyDOE\n",
        "!pip install cma\n"
      ],
      "execution_count": 1,
      "outputs": [
        {
          "output_type": "stream",
          "text": [
            "Collecting pyDOE\n",
            "  Downloading https://files.pythonhosted.org/packages/bc/ac/91fe4c039e2744466621343d3b8af4a485193ed0aab53af5b1db03be0989/pyDOE-0.3.8.zip\n",
            "Requirement already satisfied: numpy in /usr/local/lib/python3.6/dist-packages (from pyDOE) (1.18.2)\n",
            "Requirement already satisfied: scipy in /usr/local/lib/python3.6/dist-packages (from pyDOE) (1.4.1)\n",
            "Building wheels for collected packages: pyDOE\n",
            "  Building wheel for pyDOE (setup.py) ... \u001b[?25l\u001b[?25hdone\n",
            "  Created wheel for pyDOE: filename=pyDOE-0.3.8-cp36-none-any.whl size=18178 sha256=a8497ecd1f97be818b1ff463452c1fae75462e5b39b5da3bfc0f9b6c91e641a5\n",
            "  Stored in directory: /root/.cache/pip/wheels/7c/c8/58/a6493bd415e8ba5735082b5e0c096d7c1f2933077a8ce34544\n",
            "Successfully built pyDOE\n",
            "Installing collected packages: pyDOE\n",
            "Successfully installed pyDOE-0.3.8\n",
            "Collecting cma\n",
            "\u001b[?25l  Downloading https://files.pythonhosted.org/packages/b9/3b/87a4efbcfeaf3172d81ef843f0b0c34c3ba60ec884aa6777f34f68b57418/cma-2.7.0-py2.py3-none-any.whl (239kB)\n",
            "\u001b[K     |████████████████████████████████| 245kB 2.8MB/s \n",
            "\u001b[?25hInstalling collected packages: cma\n",
            "Successfully installed cma-2.7.0\n"
          ],
          "name": "stdout"
        }
      ]
    },
    {
      "cell_type": "code",
      "metadata": {
        "id": "-SLdZF_crfs5",
        "colab_type": "code",
        "colab": {}
      },
      "source": [
        ""
      ],
      "execution_count": 0,
      "outputs": []
    },
    {
      "cell_type": "code",
      "metadata": {
        "id": "G7KSBbE6rjkt",
        "colab_type": "code",
        "colab": {}
      },
      "source": [
        ""
      ],
      "execution_count": 0,
      "outputs": []
    },
    {
      "cell_type": "code",
      "metadata": {
        "id": "gtM9rgADZ6Ly",
        "colab_type": "code",
        "colab": {}
      },
      "source": [
        "import pyDOE\n",
        "from scipy import stats\n",
        "import pandas as pd\n",
        "import numpy as np\n",
        "from scipy.optimize import minimize\n",
        "from scipy.optimize import Bounds\n",
        "from collections import namedtuple\n",
        "import cma\n",
        "from sklearn.preprocessing import MinMaxScaler\n",
        "import scipy.stats.distributions as dist\n",
        "from sklearn.gaussian_process import GaussianProcessRegressor\n",
        "from sklearn.gaussian_process.kernels import RBF, ConstantKernel as C\n",
        "from sklearn.gaussian_process.kernels import DotProduct\n",
        "from sklearn.model_selection import train_test_split\n",
        "from sklearn import preprocessing\n",
        "from sklearn.neighbors import KNeighborsRegressor\n",
        "from sklearn.svm import SVR\n",
        "from sklearn.linear_model import ElasticNet\n",
        "from sklearn.preprocessing import PolynomialFeatures\n",
        "import bbobbenchmarks as bn\n",
        "import sklearn"
      ],
      "execution_count": 0,
      "outputs": []
    },
    {
      "cell_type": "markdown",
      "metadata": {
        "id": "yl7hfUygZ6L3",
        "colab_type": "text"
      },
      "source": [
        "## Surrogate Models & Helper Functions"
      ]
    },
    {
      "cell_type": "code",
      "metadata": {
        "id": "7laVf7KtZ6L3",
        "colab_type": "code",
        "colab": {}
      },
      "source": [
        "ValueRange = namedtuple('ValueRange', ['min', 'max'])\n",
        "\n",
        "def determinerange(values):\n",
        "    \"\"\"Determine the range of values in each dimension\"\"\"\n",
        "    return ValueRange(np.min(values, axis=0), np.max(values, axis=0))\n",
        "\n",
        "\n",
        "def linearscaletransform(values, *, range_in=None, range_out=ValueRange(0, 1), scale_only=False):\n",
        "    \"\"\"Perform a scale transformation of `values`: [range_in] --> [range_out]\"\"\"\n",
        "\n",
        "    if range_in is None:\n",
        "        range_in = determinerange(values)\n",
        "    elif not isinstance(range_in, ValueRange):\n",
        "        range_in = ValueRange(*range_in)\n",
        "\n",
        "    if not isinstance(range_out, ValueRange):\n",
        "        range_out = ValueRange(*range_out)\n",
        "\n",
        "    scale_out = range_out.max - range_out.min\n",
        "    scale_in = range_in.max - range_in.min\n",
        "\n",
        "    if scale_only:\n",
        "        scaled_values = (values / scale_in) * scale_out\n",
        "    else:\n",
        "        scaled_values = (values - range_in.min) / scale_in\n",
        "        scaled_values = (scaled_values * scale_out) + range_out.min\n",
        "\n",
        "    return scaled_values\n",
        "\n",
        "\n",
        "''' F24 '''\n",
        "def F24(X):\n",
        "    f = bn.F24()\n",
        "    X = np.array(X)\n",
        "    return f(X)\n",
        "\n",
        "''' Latin HyperCube Sampling Design of Experiment '''\n",
        "def DOE(n_obs, dim):\n",
        "    np.random.seed(0)\n",
        "    lhd = pyDOE.lhs(n=dim, samples=n_obs, criterion='m')\n",
        "    X = [lhd[:,idx] for idx in range(dim)]\n",
        "    return X\n",
        "\n",
        "def create_basis_function(data):\n",
        "    true = np.array(data['Y'])\n",
        "    data = pd.DataFrame(np.atleast_2d(PolynomialFeatures(degree=2).fit_transform(data.iloc[:,:-1])))\n",
        "    data['Y'] = pd.Series(true)\n",
        "    return data\n",
        "\n",
        "''' Create Basis Functions '''\n",
        "def create_function_basis(x):\n",
        "    return np.atleast_2d(PolynomialFeatures(degree=2).fit_transform(x.reshape(1,-1)))\n",
        "      \n",
        "\n",
        "''' Elastic Net Regression '''\n",
        "def elastic_net(train_data,test_data):\n",
        "    scaler =  MinMaxScaler().fit(np.r_[train_data.iloc[:,:-1].values])\n",
        "    regr = ElasticNet(alpha= 0.0256 ,random_state=0 , l1_ratio=0.797, fit_intercept =True, max_iter=3000,selection='random').fit(scaler.transform ( np.array(train_data.iloc[:,:-1])) ,  np.array(train_data.iloc[:,-1]))\n",
        "    pred = regr.predict(scaler.transform(test_data))\n",
        "    def predict(scaler, regr):\n",
        "        def __predict__(x):\n",
        "            x = create_function_basis(x)\n",
        "            return regr.predict(scaler.transform(x))\n",
        "        return __predict__\n",
        "    return regr,pred, predict(scaler, regr)\n",
        "    \n",
        "\n",
        "''' Kriging'''\n",
        "def kriging(train_data,test_data):\n",
        "    kernel =  RBF()\n",
        "    scaler = MinMaxScaler().fit(np.r_[train_data.iloc[:,:-1].values])\n",
        "    gpr = GaussianProcessRegressor(kernel=kernel,n_restarts_optimizer= 15,random_state=0,\n",
        "                                   normalize_y=True ).fit(scaler.transform(train_data.iloc[:,:-1]), train_data.iloc[:,-1])\n",
        "    pred = gpr.predict(scaler.transform(test_data))\n",
        "    def predict(scaler, gpr):\n",
        "        def __predict__(x):\n",
        "            x = np.atleast_2d(x)\n",
        "            return gpr.predict(scaler.transform(x))\n",
        "        return __predict__\n",
        "    return gpr,pred, predict(scaler,gpr)\n",
        "\n",
        "''' Support Vector Regression'''\n",
        "def _SVR(train_data,test_data):\n",
        "    scaler = MinMaxScaler().fit(np.r_[train_data.iloc[:,:-1].values])\n",
        "    gpr = sklearn.svm.SVR(kernel='rbf', gamma = 6.18 , C = 938.57 ,max_iter=1500).fit( scaler.transform(train_data.iloc[:,:-1]), train_data.iloc[:,-1])\n",
        "    pred = gpr.predict(scaler.transform(test_data))\n",
        "    def predict(scaler, gpr):\n",
        "        def __predict__(x):\n",
        "            x = np.atleast_2d(x)\n",
        "            return gpr.predict(scaler.transform(x))\n",
        "        return __predict__\n",
        "    return gpr,pred, predict(scaler,gpr)"
      ],
      "execution_count": 0,
      "outputs": []
    },
    {
      "cell_type": "markdown",
      "metadata": {
        "id": "s5Dro9woZ6L7",
        "colab_type": "text"
      },
      "source": [
        "## Load Training and Test Data Set initially Generated"
      ]
    },
    {
      "cell_type": "code",
      "metadata": {
        "id": "j9jwRavXZ6L8",
        "colab_type": "code",
        "colab": {}
      },
      "source": [
        "path = \"train_242000Samples.csv\"\n",
        "train_y = pd.read_csv(path).iloc[:,-1]\n",
        "test_y = pd.read_csv('test_24_400Samples.csv').iloc[:,-1]\n",
        "path = \"train_latent_100D.csv\"\n",
        "train = pd.read_csv(path, index_col = 0)\n",
        "test = pd.read_csv('test_latent_100D.csv', index_col = 0)\n",
        "train ['Y'] = train_y\n",
        "test ['Y'] = test_y\n",
        "del train_y\n",
        "del test_y\n",
        "true = np.array(test['Y'])"
      ],
      "execution_count": 0,
      "outputs": []
    },
    {
      "cell_type": "markdown",
      "metadata": {
        "id": "c1az15PJZ6MA",
        "colab_type": "text"
      },
      "source": [
        "## Surrogate Models"
      ]
    },
    {
      "cell_type": "code",
      "metadata": {
        "id": "Fw-8Jpm1Z6MA",
        "colab_type": "code",
        "outputId": "4b7cb3a7-1b1c-4367-cda4-c2cd5cf61a18",
        "colab": {
          "base_uri": "https://localhost:8080/",
          "height": 72
        }
      },
      "source": [
        "model_kri , pred_kri , predict_kri = kriging(train,test.iloc[:,:-1])\n",
        "model_svr , pred_svr , predict_svr = _SVR(train,test.iloc[:,:-1])\n",
        "train = create_basis_function(train)\n",
        "test = create_basis_function(test)\n",
        "model_eln , pred_eln , predict_eln = elastic_net(train,test.iloc[:,:-1])"
      ],
      "execution_count": 5,
      "outputs": [
        {
          "output_type": "stream",
          "text": [
            "/usr/local/lib/python3.6/dist-packages/sklearn/svm/_base.py:231: ConvergenceWarning: Solver terminated early (max_iter=1500).  Consider pre-processing your data with StandardScaler or MinMaxScaler.\n",
            "  % self.max_iter, ConvergenceWarning)\n"
          ],
          "name": "stderr"
        }
      ]
    },
    {
      "cell_type": "markdown",
      "metadata": {
        "id": "ehujGygVZ6ME",
        "colab_type": "text"
      },
      "source": [
        "## CMA-ES"
      ]
    },
    {
      "cell_type": "code",
      "metadata": {
        "id": "eTYv39UzZ6MF",
        "colab_type": "code",
        "outputId": "bd5f077f-ea6a-4f4e-ec46-a8617720e56c",
        "colab": {
          "base_uri": "https://localhost:8080/",
          "height": 1000
        }
      },
      "source": [
        "Columns = ['Kri' , 'SVR' , 'ELN' ]\n",
        "Cols = []\n",
        "for j in range(len(Columns)):\n",
        "    for i in range(1,51):\n",
        "        Cols.append(Columns[j]+'_Z'+str(i))\n",
        "\n",
        "opt = cma.CMAOptions()\n",
        "opt.set (\"seed\" , 0)\n",
        "opt.set (\"maxfevals\" , 50000)\n",
        "\n",
        "n_obs , dim =  30, 50\n",
        "G = DOE(n_obs, dim)\n",
        "G = [ G[idx].reshape(n_obs,1) for idx in range(len(G)) ]\n",
        "X_Values = np.zeros([30,150])\n",
        "for i in range(G[1].shape[0]):\n",
        "    print ('Run : '+ str(i))\n",
        "    min_kri = cma.fmin(predict_kri , np.concatenate(G, 1)[i] , 0.2689433305566933 , options=opt) [0]\n",
        "    min_svr = cma.fmin(predict_svr , np.concatenate(G, 1)[i] , 0.2689433305566933 , options=opt) [0]\n",
        "    min_eln = cma.fmin(predict_eln , np.concatenate(G, 1)[i] , 0.2689433305566933 , options=opt) [0]\n",
        "    X_Values [i,:] = list(min_kri)+list(min_svr)+list(min_eln)"
      ],
      "execution_count": 6,
      "outputs": [
        {
          "output_type": "stream",
          "text": [
            "Run : 0\n",
            "(7_w,15)-aCMA-ES (mu_w=4.5,w_1=34%) in dimension 50 (seed=871937, Mon Apr 13 14:49:17 2020)\n",
            "Iterat #Fevals   function value  axis ratio  sigma  min&max std  t[m:s]\n",
            "    1     15 4.647342854770534e+03 1.0e+00 2.57e-01  3e-01  3e-01 0:00.0\n",
            "    2     30 4.647342720574976e+03 1.0e+00 2.50e-01  2e-01  3e-01 0:00.0\n",
            "    3     45 4.647342793649037e+03 1.1e+00 2.46e-01  2e-01  2e-01 0:00.1\n"
          ],
          "name": "stdout"
        },
        {
          "output_type": "stream",
          "text": [
            "/usr/local/lib/python3.6/dist-packages/cma/utilities/utils.py:333: UserWarning: function_values is not a list of scalars,\n",
            "                        the first element equals [4647.34324818] with non-scalar type <class 'numpy.ndarray'>.\n",
            "                        Using now ``[v[0] for v in function_values]`` instead (further warnings are suppressed) ()\n",
            "  ')')\n",
            "/usr/local/lib/python3.6/dist-packages/cma/utilities/utils.py:333: UserWarning: function_values is not a list of scalars,\n",
            "                        the first element equals [4647.34379319] with non-scalar type <class 'numpy.ndarray'>.\n",
            "                        Using now ``[v[0] for v in function_values]`` instead (further warnings are suppressed) ()\n",
            "  ')')\n"
          ],
          "name": "stderr"
        },
        {
          "output_type": "stream",
          "text": [
            "  100   1500 3.210911867376171e+03 1.5e+00 7.62e-02  7e-02  8e-02 0:02.0\n",
            "  200   3000 2.717211145943859e+03 1.6e+00 4.87e-03  4e-03  5e-03 0:03.9\n",
            "  300   4500 2.715183418077729e+03 1.6e+00 3.30e-04  3e-04  3e-04 0:05.9\n",
            "  400   6000 2.715174435773029e+03 1.6e+00 2.39e-05  2e-05  2e-05 0:07.8\n",
            "  500   7500 2.715174386093827e+03 1.6e+00 1.42e-06  1e-06  1e-06 0:09.7\n",
            "  600   9000 2.715174385942035e+03 1.6e+00 1.02e-07  8e-08  9e-08 0:11.7\n",
            "  700  10500 2.715174385941114e+03 1.6e+00 7.08e-09  5e-09  6e-09 0:13.6\n",
            "  789  11835 2.715174385941112e+03 1.8e+00 1.81e-09  1e-09  2e-09 0:15.4\n",
            "termination on tolfun=1e-11 (Mon Apr 13 14:49:35 2020)\n",
            "final/bestever f-value = 2.715174e+03 2.715174e+03\n",
            "incumbent solution: [ 0.04675072  0.02542598 -0.14006052 -0.03997052 -0.02560333  0.01900346\n",
            " -0.06408277 -0.04565247 ...]\n",
            "std deviations: [1.42139519e-09 1.33855964e-09 1.44227583e-09 1.39817452e-09\n",
            " 1.35817576e-09 1.49761299e-09 1.32030683e-09 1.43630755e-09 ...]\n",
            "(7_w,15)-aCMA-ES (mu_w=4.5,w_1=34%) in dimension 50 (seed=836741, Mon Apr 13 14:49:35 2020)\n",
            "Iterat #Fevals   function value  axis ratio  sigma  min&max std  t[m:s]\n",
            "    1     15 4.649697134864669e+03 1.0e+00 2.55e-01  3e-01  3e-01 0:00.0\n",
            "    2     30 4.649697134709480e+03 1.0e+00 2.46e-01  2e-01  2e-01 0:00.0\n",
            "    3     45 4.649697133724209e+03 1.1e+00 2.41e-01  2e-01  2e-01 0:00.0\n"
          ],
          "name": "stdout"
        },
        {
          "output_type": "stream",
          "text": [
            "/usr/local/lib/python3.6/dist-packages/cma/utilities/utils.py:333: UserWarning: function_values is not a list of scalars,\n",
            "                        the first element equals [4649.69713495] with non-scalar type <class 'numpy.ndarray'>.\n",
            "                        Using now ``[v[0] for v in function_values]`` instead (further warnings are suppressed) ()\n",
            "  ')')\n",
            "/usr/local/lib/python3.6/dist-packages/cma/utilities/utils.py:333: UserWarning: function_values is not a list of scalars,\n",
            "                        the first element equals [4649.69713495] with non-scalar type <class 'numpy.ndarray'>.\n",
            "                        Using now ``[v[0] for v in function_values]`` instead (further warnings are suppressed) ()\n",
            "  ')')\n"
          ],
          "name": "stderr"
        },
        {
          "output_type": "stream",
          "text": [
            "  100   1500 3.905303123849475e+03 1.4e+00 2.48e-02  2e-02  2e-02 0:01.4\n",
            "  200   3000 3.859663285907642e+03 1.4e+00 1.48e-03  1e-03  1e-03 0:02.7\n",
            "  300   4500 3.859475157524766e+03 1.5e+00 7.03e-05  6e-05  7e-05 0:04.1\n",
            "  400   6000 3.859474783173079e+03 1.5e+00 4.08e-06  3e-06  4e-06 0:05.5\n",
            "  500   7500 3.859474782129350e+03 1.5e+00 1.84e-07  1e-07  2e-07 0:06.8\n",
            "  600   9000 3.859474782127299e+03 1.6e+00 1.02e-08  8e-09  9e-09 0:08.2\n",
            "  700  10500 3.859474782127291e+03 1.8e+00 2.77e-09  2e-09  2e-09 0:09.6\n",
            "  701  10515 3.859474782127292e+03 1.8e+00 2.79e-09  2e-09  2e-09 0:09.6\n",
            "termination on tolfun=1e-11 (Mon Apr 13 14:49:47 2020)\n",
            "final/bestever f-value = 3.859475e+03 3.859475e+03\n",
            "incumbent solution: [-0.20965541  0.23430562 -0.18941671  0.19926813  0.16801467 -0.18444434\n",
            "  0.18802589  0.13200742 ...]\n",
            "std deviations: [2.09622682e-09 2.06442764e-09 2.26224706e-09 2.10503939e-09\n",
            " 2.10038134e-09 2.21584070e-09 2.17043721e-09 2.14409760e-09 ...]\n",
            "(7_w,15)-aCMA-ES (mu_w=4.5,w_1=34%) in dimension 50 (seed=891253, Mon Apr 13 14:49:47 2020)\n",
            "Iterat #Fevals   function value  axis ratio  sigma  min&max std  t[m:s]\n",
            "    1     15 6.579062023991799e+03 1.0e+00 2.54e-01  3e-01  3e-01 0:00.0\n",
            "    2     30 6.210564330089397e+03 1.0e+00 2.46e-01  2e-01  2e-01 0:00.0\n",
            "    3     45 6.086219897996880e+03 1.1e+00 2.41e-01  2e-01  2e-01 0:00.1\n"
          ],
          "name": "stdout"
        },
        {
          "output_type": "stream",
          "text": [
            "/usr/local/lib/python3.6/dist-packages/cma/utilities/utils.py:333: UserWarning: function_values is not a list of scalars,\n",
            "                        the first element equals [7033.75121472] with non-scalar type <class 'numpy.ndarray'>.\n",
            "                        Using now ``[v[0] for v in function_values]`` instead (further warnings are suppressed) ()\n",
            "  ')')\n",
            "/usr/local/lib/python3.6/dist-packages/cma/utilities/utils.py:333: UserWarning: function_values is not a list of scalars,\n",
            "                        the first element equals [6905.35596811] with non-scalar type <class 'numpy.ndarray'>.\n",
            "                        Using now ``[v[0] for v in function_values]`` instead (further warnings are suppressed) ()\n",
            "  ')')\n"
          ],
          "name": "stderr"
        },
        {
          "output_type": "stream",
          "text": [
            "  100   1500 -6.697662400483914e+07 1.9e+00 3.42e+01  3e+01  4e+01 0:01.9\n",
            "  127   1905 -3.236413502028232e+09 1.9e+00 2.52e+02  2e+02  3e+02 0:02.4\n",
            "termination on tolfacupx=1000.0 (Mon Apr 13 14:49:50 2020)\n",
            "final/bestever f-value = -3.344838e+09 -3.344838e+09\n",
            "incumbent solution: [   59.12112958   485.10849255   -28.6736795     72.70493667\n",
            "  -826.88819387   379.26149208     2.74960554 -1017.14782907 ...]\n",
            "std deviations: [239.53201497 249.86035952 240.3762369  237.87913709 253.24482294\n",
            " 241.34253413 239.98936926 248.98102366 ...]\n",
            "Run : 1\n",
            "(7_w,15)-aCMA-ES (mu_w=4.5,w_1=34%) in dimension 50 (seed=884817, Mon Apr 13 14:49:50 2020)\n",
            "Iterat #Fevals   function value  axis ratio  sigma  min&max std  t[m:s]\n",
            "    1     15 4.647332335922268e+03 1.0e+00 2.57e-01  3e-01  3e-01 0:00.0\n",
            "    2     30 4.647322523075052e+03 1.0e+00 2.48e-01  2e-01  3e-01 0:00.0\n",
            "    3     45 4.647339525014107e+03 1.0e+00 2.41e-01  2e-01  2e-01 0:00.1\n"
          ],
          "name": "stdout"
        },
        {
          "output_type": "stream",
          "text": [
            "/usr/local/lib/python3.6/dist-packages/cma/utilities/utils.py:333: UserWarning: function_values is not a list of scalars,\n",
            "                        the first element equals [4647.35140907] with non-scalar type <class 'numpy.ndarray'>.\n",
            "                        Using now ``[v[0] for v in function_values]`` instead (further warnings are suppressed) ()\n",
            "  ')')\n",
            "/usr/local/lib/python3.6/dist-packages/cma/utilities/utils.py:333: UserWarning: function_values is not a list of scalars,\n",
            "                        the first element equals [4647.34516166] with non-scalar type <class 'numpy.ndarray'>.\n",
            "                        Using now ``[v[0] for v in function_values]`` instead (further warnings are suppressed) ()\n",
            "  ')')\n"
          ],
          "name": "stderr"
        },
        {
          "output_type": "stream",
          "text": [
            "  100   1500 2.879575058921521e+03 1.4e+00 3.79e-02  4e-02  4e-02 0:01.9\n",
            "  200   3000 2.715819796363285e+03 1.5e+00 2.56e-03  2e-03  3e-03 0:03.9\n",
            "  300   4500 2.715175693197954e+03 1.5e+00 1.17e-04  1e-04  1e-04 0:05.8\n",
            "  400   6000 2.715174391858173e+03 1.6e+00 9.32e-06  8e-06  9e-06 0:07.8\n",
            "  500   7500 2.715174385972109e+03 1.6e+00 6.06e-07  5e-07  6e-07 0:09.7\n",
            "  600   9000 2.715174385941183e+03 1.6e+00 3.52e-08  3e-08  3e-08 0:11.7\n",
            "  700  10500 2.715174385941111e+03 1.7e+00 2.79e-09  2e-09  2e-09 0:13.6\n",
            "  746  11190 2.715174385941111e+03 1.7e+00 1.37e-09  1e-09  1e-09 0:14.5\n",
            "termination on tolfun=1e-11 (Mon Apr 13 14:50:07 2020)\n",
            "final/bestever f-value = 2.715174e+03 2.715174e+03\n",
            "incumbent solution: [ 0.04675072  0.02542598 -0.14006052 -0.03997052 -0.02560333  0.01900346\n",
            " -0.06408277 -0.04565248 ...]\n",
            "std deviations: [1.03950902e-09 1.00030253e-09 1.09926731e-09 1.09788248e-09\n",
            " 1.02532471e-09 1.10071568e-09 1.00178578e-09 1.06702502e-09 ...]\n",
            "(7_w,15)-aCMA-ES (mu_w=4.5,w_1=34%) in dimension 50 (seed=860009, Mon Apr 13 14:50:07 2020)\n",
            "Iterat #Fevals   function value  axis ratio  sigma  min&max std  t[m:s]\n",
            "    1     15 4.649697118743417e+03 1.0e+00 2.52e-01  3e-01  3e-01 0:00.0\n",
            "    2     30 4.649697121083833e+03 1.0e+00 2.41e-01  2e-01  2e-01 0:00.0\n",
            "    3     45 4.649697100074133e+03 1.0e+00 2.35e-01  2e-01  2e-01 0:00.0\n"
          ],
          "name": "stdout"
        },
        {
          "output_type": "stream",
          "text": [
            "/usr/local/lib/python3.6/dist-packages/cma/utilities/utils.py:333: UserWarning: function_values is not a list of scalars,\n",
            "                        the first element equals [4649.69711874] with non-scalar type <class 'numpy.ndarray'>.\n",
            "                        Using now ``[v[0] for v in function_values]`` instead (further warnings are suppressed) ()\n",
            "  ')')\n",
            "/usr/local/lib/python3.6/dist-packages/cma/utilities/utils.py:333: UserWarning: function_values is not a list of scalars,\n",
            "                        the first element equals [4649.6971349] with non-scalar type <class 'numpy.ndarray'>.\n",
            "                        Using now ``[v[0] for v in function_values]`` instead (further warnings are suppressed) ()\n",
            "  ')')\n"
          ],
          "name": "stderr"
        },
        {
          "output_type": "stream",
          "text": [
            "  100   1500 3.905035760046351e+03 1.4e+00 2.64e-02  3e-02  3e-02 0:01.4\n",
            "  200   3000 3.859633859054574e+03 1.4e+00 1.63e-03  1e-03  2e-03 0:02.7\n",
            "  300   4500 3.859475356109341e+03 1.5e+00 7.86e-05  7e-05  7e-05 0:04.1\n",
            "  400   6000 3.859474783155817e+03 1.5e+00 4.29e-06  4e-06  4e-06 0:05.5\n",
            "  500   7500 3.859474782132375e+03 1.5e+00 2.46e-07  2e-07  2e-07 0:06.9\n",
            "  600   9000 3.859474782127304e+03 1.6e+00 1.42e-08  1e-08  1e-08 0:08.3\n",
            "  700  10500 3.859474782127291e+03 1.7e+00 2.71e-09  2e-09  2e-09 0:09.7\n",
            "  713  10695 3.859474782127292e+03 1.6e+00 2.35e-09  2e-09  2e-09 0:09.8\n",
            "termination on tolfun=1e-11 (Mon Apr 13 14:50:19 2020)\n",
            "final/bestever f-value = 3.859475e+03 3.859475e+03\n",
            "incumbent solution: [-0.2096554   0.23430562 -0.18941671  0.19926812  0.16801466 -0.18444434\n",
            "  0.1880259   0.13200742 ...]\n",
            "std deviations: [1.90884163e-09 1.74184154e-09 1.90754022e-09 1.75956148e-09\n",
            " 1.90531691e-09 1.89219725e-09 1.82257070e-09 1.87231119e-09 ...]\n",
            "(7_w,15)-aCMA-ES (mu_w=4.5,w_1=34%) in dimension 50 (seed=875485, Mon Apr 13 14:50:19 2020)\n",
            "Iterat #Fevals   function value  axis ratio  sigma  min&max std  t[m:s]\n",
            "    1     15 5.995012843430461e+03 1.0e+00 2.54e-01  3e-01  3e-01 0:00.0\n",
            "    2     30 5.819518190001430e+03 1.0e+00 2.45e-01  2e-01  2e-01 0:00.0\n",
            "    3     45 5.401067223656815e+03 1.0e+00 2.41e-01  2e-01  2e-01 0:00.1\n"
          ],
          "name": "stdout"
        },
        {
          "output_type": "stream",
          "text": [
            "/usr/local/lib/python3.6/dist-packages/cma/utilities/utils.py:333: UserWarning: function_values is not a list of scalars,\n",
            "                        the first element equals [6172.17076767] with non-scalar type <class 'numpy.ndarray'>.\n",
            "                        Using now ``[v[0] for v in function_values]`` instead (further warnings are suppressed) ()\n",
            "  ')')\n",
            "/usr/local/lib/python3.6/dist-packages/cma/utilities/utils.py:333: UserWarning: function_values is not a list of scalars,\n",
            "                        the first element equals [6274.03585324] with non-scalar type <class 'numpy.ndarray'>.\n",
            "                        Using now ``[v[0] for v in function_values]`` instead (further warnings are suppressed) ()\n",
            "  ')')\n"
          ],
          "name": "stderr"
        },
        {
          "output_type": "stream",
          "text": [
            "  100   1500 -3.110340488032425e+08 1.7e+00 7.12e+01  7e+01  7e+01 0:01.9\n",
            "  120   1800 -5.398099618409364e+09 1.8e+00 2.69e+02  3e+02  3e+02 0:02.3\n",
            "termination on tolfacupx=1000.0 (Mon Apr 13 14:50:22 2020)\n",
            "final/bestever f-value = -5.139774e+09 -5.398100e+09\n",
            "incumbent solution: [ -338.92501357    96.84343628   -99.06450211  -417.48895761\n",
            " -1079.94491659   362.84114402  -253.12931415 -1284.78225987 ...]\n",
            "std deviations: [263.21788107 257.57482311 254.47739781 257.12686024 265.3579189\n",
            " 261.04189398 259.52722767 264.70520587 ...]\n",
            "Run : 2\n",
            "(7_w,15)-aCMA-ES (mu_w=4.5,w_1=34%) in dimension 50 (seed=881838, Mon Apr 13 14:50:22 2020)\n",
            "Iterat #Fevals   function value  axis ratio  sigma  min&max std  t[m:s]\n",
            "    1     15 4.647338519125722e+03 1.0e+00 2.55e-01  3e-01  3e-01 0:00.0\n",
            "    2     30 4.647340752221327e+03 1.0e+00 2.47e-01  2e-01  2e-01 0:00.0\n",
            "    3     45 4.647342582570028e+03 1.1e+00 2.42e-01  2e-01  2e-01 0:00.1\n"
          ],
          "name": "stdout"
        },
        {
          "output_type": "stream",
          "text": [
            "/usr/local/lib/python3.6/dist-packages/cma/utilities/utils.py:333: UserWarning: function_values is not a list of scalars,\n",
            "                        the first element equals [4647.40208087] with non-scalar type <class 'numpy.ndarray'>.\n",
            "                        Using now ``[v[0] for v in function_values]`` instead (further warnings are suppressed) ()\n",
            "  ')')\n",
            "/usr/local/lib/python3.6/dist-packages/cma/utilities/utils.py:333: UserWarning: function_values is not a list of scalars,\n",
            "                        the first element equals [4647.34528886] with non-scalar type <class 'numpy.ndarray'>.\n",
            "                        Using now ``[v[0] for v in function_values]`` instead (further warnings are suppressed) ()\n",
            "  ')')\n"
          ],
          "name": "stderr"
        },
        {
          "output_type": "stream",
          "text": [
            "  100   1500 2.847443653352713e+03 1.4e+00 4.02e-02  4e-02  4e-02 0:01.9\n",
            "  200   3000 2.715605235230633e+03 1.4e+00 2.64e-03  2e-03  3e-03 0:03.9\n",
            "  300   4500 2.715177364431471e+03 1.5e+00 1.80e-04  2e-04  2e-04 0:05.9\n",
            "  400   6000 2.715174394365767e+03 1.5e+00 1.13e-05  9e-06  1e-05 0:07.8\n",
            "  500   7500 2.715174385958136e+03 1.6e+00 5.72e-07  4e-07  5e-07 0:09.8\n",
            "  600   9000 2.715174385941205e+03 1.6e+00 3.88e-08  3e-08  3e-08 0:11.7\n",
            "  700  10500 2.715174385941111e+03 1.7e+00 2.65e-09  2e-09  2e-09 0:13.7\n",
            "  751  11265 2.715174385941111e+03 1.8e+00 2.10e-09  1e-09  2e-09 0:14.7\n",
            "termination on tolfun=1e-11 (Mon Apr 13 14:50:39 2020)\n",
            "final/bestever f-value = 2.715174e+03 2.715174e+03\n",
            "incumbent solution: [ 0.04675072  0.02542598 -0.14006053 -0.03997052 -0.02560333  0.01900346\n",
            " -0.06408277 -0.04565248 ...]\n",
            "std deviations: [1.66378143e-09 1.58729324e-09 1.60036445e-09 1.75624728e-09\n",
            " 1.56244722e-09 1.73911450e-09 1.70973874e-09 1.67190604e-09 ...]\n",
            "(7_w,15)-aCMA-ES (mu_w=4.5,w_1=34%) in dimension 50 (seed=890885, Mon Apr 13 14:50:39 2020)\n",
            "Iterat #Fevals   function value  axis ratio  sigma  min&max std  t[m:s]\n",
            "    1     15 4.649697123692506e+03 1.0e+00 2.55e-01  3e-01  3e-01 0:00.0\n",
            "    2     30 4.649697134344621e+03 1.0e+00 2.45e-01  2e-01  2e-01 0:00.0\n",
            "    3     45 4.649697133298440e+03 1.1e+00 2.37e-01  2e-01  2e-01 0:00.0\n"
          ],
          "name": "stdout"
        },
        {
          "output_type": "stream",
          "text": [
            "/usr/local/lib/python3.6/dist-packages/cma/utilities/utils.py:333: UserWarning: function_values is not a list of scalars,\n",
            "                        the first element equals [4649.6971352] with non-scalar type <class 'numpy.ndarray'>.\n",
            "                        Using now ``[v[0] for v in function_values]`` instead (further warnings are suppressed) ()\n",
            "  ')')\n",
            "/usr/local/lib/python3.6/dist-packages/cma/utilities/utils.py:333: UserWarning: function_values is not a list of scalars,\n",
            "                        the first element equals [4649.69713494] with non-scalar type <class 'numpy.ndarray'>.\n",
            "                        Using now ``[v[0] for v in function_values]`` instead (further warnings are suppressed) ()\n",
            "  ')')\n"
          ],
          "name": "stderr"
        },
        {
          "output_type": "stream",
          "text": [
            "  100   1500 4.039613438303230e+03 1.4e+00 2.51e-02  2e-02  3e-02 0:01.4\n",
            "  200   3000 3.994931248754088e+03 1.4e+00 1.36e-03  1e-03  1e-03 0:02.8\n",
            "  300   4500 3.994836308387994e+03 1.4e+00 7.69e-05  7e-05  7e-05 0:04.1\n",
            "  400   6000 3.994836069290868e+03 1.5e+00 3.84e-06  3e-06  4e-06 0:05.5\n",
            "  500   7500 3.994836068452094e+03 1.5e+00 1.89e-07  1e-07  2e-07 0:06.9\n",
            "  600   9000 3.994836068450313e+03 1.5e+00 1.06e-08  8e-09  9e-09 0:08.3\n",
            "  699  10485 3.994836068450309e+03 1.7e+00 3.48e-09  2e-09  3e-09 0:09.6\n",
            "termination on tolfun=1e-11 (Mon Apr 13 14:50:51 2020)\n",
            "final/bestever f-value = 3.994836e+03 3.994836e+03\n",
            "incumbent solution: [ 0.41603758  0.39726237 -0.13214832  0.4427994   0.40479205  0.45548758\n",
            "  0.11560696  0.05886015 ...]\n",
            "std deviations: [2.71689667e-09 2.63576477e-09 2.67832799e-09 2.84600744e-09\n",
            " 2.68190599e-09 2.85284396e-09 2.65247602e-09 2.94581888e-09 ...]\n",
            "(7_w,15)-aCMA-ES (mu_w=4.5,w_1=34%) in dimension 50 (seed=906084, Mon Apr 13 14:50:51 2020)\n",
            "Iterat #Fevals   function value  axis ratio  sigma  min&max std  t[m:s]\n",
            "    1     15 6.021578932558125e+03 1.0e+00 2.54e-01  3e-01  3e-01 0:00.0\n",
            "    2     30 5.969528287689546e+03 1.0e+00 2.45e-01  2e-01  2e-01 0:00.0\n",
            "    3     45 5.938136285059845e+03 1.0e+00 2.38e-01  2e-01  2e-01 0:00.1\n"
          ],
          "name": "stdout"
        },
        {
          "output_type": "stream",
          "text": [
            "/usr/local/lib/python3.6/dist-packages/cma/utilities/utils.py:333: UserWarning: function_values is not a list of scalars,\n",
            "                        the first element equals [7162.37847823] with non-scalar type <class 'numpy.ndarray'>.\n",
            "                        Using now ``[v[0] for v in function_values]`` instead (further warnings are suppressed) ()\n",
            "  ')')\n",
            "/usr/local/lib/python3.6/dist-packages/cma/utilities/utils.py:333: UserWarning: function_values is not a list of scalars,\n",
            "                        the first element equals [6952.4972521] with non-scalar type <class 'numpy.ndarray'>.\n",
            "                        Using now ``[v[0] for v in function_values]`` instead (further warnings are suppressed) ()\n",
            "  ')')\n"
          ],
          "name": "stderr"
        },
        {
          "output_type": "stream",
          "text": [
            "  100   1500 -1.155138539537579e+09 1.7e+00 1.48e+02  1e+02  2e+02 0:01.9\n",
            "  108   1620 -5.062341309235812e+09 1.7e+00 2.69e+02  3e+02  3e+02 0:02.0\n",
            "termination on tolfacupx=1000.0 (Mon Apr 13 14:50:54 2020)\n",
            "final/bestever f-value = -4.623360e+09 -5.062341e+09\n",
            "incumbent solution: [ -528.32778644   276.8154802  -1068.11716154  -791.39299013\n",
            "  -142.73754394  1546.4773781   -183.99264573  -487.34353975 ...]\n",
            "std deviations: [264.81955844 260.68342014 267.3072983  261.7211682  261.13271936\n",
            " 261.2676948  264.69003634 267.73371601 ...]\n",
            "Run : 3\n",
            "(7_w,15)-aCMA-ES (mu_w=4.5,w_1=34%) in dimension 50 (seed=893995, Mon Apr 13 14:50:54 2020)\n",
            "Iterat #Fevals   function value  axis ratio  sigma  min&max std  t[m:s]\n",
            "    1     15 4.647324842615632e+03 1.0e+00 2.55e-01  3e-01  3e-01 0:00.0\n",
            "    2     30 4.647214491991568e+03 1.0e+00 2.48e-01  2e-01  2e-01 0:00.0\n",
            "    3     45 4.646939073668171e+03 1.1e+00 2.45e-01  2e-01  2e-01 0:00.1\n"
          ],
          "name": "stdout"
        },
        {
          "output_type": "stream",
          "text": [
            "/usr/local/lib/python3.6/dist-packages/cma/utilities/utils.py:333: UserWarning: function_values is not a list of scalars,\n",
            "                        the first element equals [4647.33958005] with non-scalar type <class 'numpy.ndarray'>.\n",
            "                        Using now ``[v[0] for v in function_values]`` instead (further warnings are suppressed) ()\n",
            "  ')')\n",
            "/usr/local/lib/python3.6/dist-packages/cma/utilities/utils.py:333: UserWarning: function_values is not a list of scalars,\n",
            "                        the first element equals [4647.33920226] with non-scalar type <class 'numpy.ndarray'>.\n",
            "                        Using now ``[v[0] for v in function_values]`` instead (further warnings are suppressed) ()\n",
            "  ')')\n"
          ],
          "name": "stderr"
        },
        {
          "output_type": "stream",
          "text": [
            "  100   1500 2.845454545959782e+03 1.4e+00 3.72e-02  4e-02  4e-02 0:01.9\n",
            "  200   3000 2.715551191103881e+03 1.4e+00 2.07e-03  2e-03  2e-03 0:03.9\n",
            "  300   4500 2.715175269190146e+03 1.5e+00 1.11e-04  1e-04  1e-04 0:05.8\n",
            "  400   6000 2.715174389131554e+03 1.5e+00 6.66e-06  5e-06  6e-06 0:07.8\n",
            "  500   7500 2.715174385949590e+03 1.5e+00 3.62e-07  3e-07  3e-07 0:09.7\n",
            "  600   9000 2.715174385941138e+03 1.6e+00 2.12e-08  2e-08  2e-08 0:11.6\n",
            "  700  10500 2.715174385941112e+03 1.7e+00 2.83e-09  2e-09  2e-09 0:13.6\n",
            "  735  11025 2.715174385941111e+03 1.7e+00 1.98e-09  1e-09  2e-09 0:14.3\n",
            "termination on tolfun=1e-11 (Mon Apr 13 14:51:11 2020)\n",
            "final/bestever f-value = 2.715174e+03 2.715174e+03\n",
            "incumbent solution: [ 0.04675071  0.02542598 -0.14006053 -0.03997052 -0.02560333  0.01900346\n",
            " -0.06408277 -0.04565247 ...]\n",
            "std deviations: [1.56569176e-09 1.51967992e-09 1.55391482e-09 1.54609974e-09\n",
            " 1.53021395e-09 1.63302480e-09 1.56775158e-09 1.59771616e-09 ...]\n",
            "(7_w,15)-aCMA-ES (mu_w=4.5,w_1=34%) in dimension 50 (seed=815503, Mon Apr 13 14:51:11 2020)\n",
            "Iterat #Fevals   function value  axis ratio  sigma  min&max std  t[m:s]\n",
            "    1     15 4.649697134499063e+03 1.0e+00 2.53e-01  3e-01  3e-01 0:00.0\n",
            "    2     30 4.649697128970033e+03 1.0e+00 2.42e-01  2e-01  2e-01 0:00.0\n",
            "    3     45 4.649696940210594e+03 1.1e+00 2.33e-01  2e-01  2e-01 0:00.0\n"
          ],
          "name": "stdout"
        },
        {
          "output_type": "stream",
          "text": [
            "/usr/local/lib/python3.6/dist-packages/cma/utilities/utils.py:333: UserWarning: function_values is not a list of scalars,\n",
            "                        the first element equals [4649.69713492] with non-scalar type <class 'numpy.ndarray'>.\n",
            "                        Using now ``[v[0] for v in function_values]`` instead (further warnings are suppressed) ()\n",
            "  ')')\n",
            "/usr/local/lib/python3.6/dist-packages/cma/utilities/utils.py:333: UserWarning: function_values is not a list of scalars,\n",
            "                        the first element equals [4649.697135] with non-scalar type <class 'numpy.ndarray'>.\n",
            "                        Using now ``[v[0] for v in function_values]`` instead (further warnings are suppressed) ()\n",
            "  ')')\n"
          ],
          "name": "stderr"
        },
        {
          "output_type": "stream",
          "text": [
            "  100   1500 4.033268958974476e+03 1.4e+00 2.28e-02  2e-02  2e-02 0:01.4\n",
            "  200   3000 3.994995085490407e+03 1.5e+00 1.48e-03  1e-03  1e-03 0:02.8\n",
            "  300   4500 3.994836589722013e+03 1.5e+00 8.94e-05  8e-05  9e-05 0:04.1\n",
            "  400   6000 3.994836069967885e+03 1.5e+00 5.28e-06  4e-06  5e-06 0:05.5\n",
            "  500   7500 3.994836068456769e+03 1.6e+00 3.60e-07  3e-07  3e-07 0:06.9\n",
            "  600   9000 3.994836068450325e+03 1.6e+00 2.01e-08  1e-08  2e-08 0:08.3\n",
            "  700  10500 3.994836068450309e+03 1.7e+00 3.81e-09  3e-09  3e-09 0:09.6\n",
            "  725  10875 3.994836068450308e+03 1.8e+00 3.48e-09  3e-09  3e-09 0:10.0\n",
            "termination on tolfun=1e-11 (Mon Apr 13 14:51:23 2020)\n",
            "final/bestever f-value = 3.994836e+03 3.994836e+03\n",
            "incumbent solution: [ 0.41603758  0.39726235 -0.13214832  0.44279941  0.40479206  0.4554876\n",
            "  0.11560695  0.05886014 ...]\n",
            "std deviations: [2.73527490e-09 2.75872012e-09 2.72041903e-09 2.77652551e-09\n",
            " 2.59498830e-09 2.88860162e-09 2.75927312e-09 2.65064630e-09 ...]\n",
            "(7_w,15)-aCMA-ES (mu_w=4.5,w_1=34%) in dimension 50 (seed=912490, Mon Apr 13 14:51:23 2020)\n",
            "Iterat #Fevals   function value  axis ratio  sigma  min&max std  t[m:s]\n",
            "    1     15 5.741701509914141e+03 1.0e+00 2.54e-01  3e-01  3e-01 0:00.0\n",
            "    2     30 5.884349193203252e+03 1.0e+00 2.47e-01  2e-01  2e-01 0:00.0\n",
            "    3     45 5.538642525256464e+03 1.1e+00 2.44e-01  2e-01  2e-01 0:00.1\n"
          ],
          "name": "stdout"
        },
        {
          "output_type": "stream",
          "text": [
            "/usr/local/lib/python3.6/dist-packages/cma/utilities/utils.py:333: UserWarning: function_values is not a list of scalars,\n",
            "                        the first element equals [7476.87274092] with non-scalar type <class 'numpy.ndarray'>.\n",
            "                        Using now ``[v[0] for v in function_values]`` instead (further warnings are suppressed) ()\n",
            "  ')')\n",
            "/usr/local/lib/python3.6/dist-packages/cma/utilities/utils.py:333: UserWarning: function_values is not a list of scalars,\n",
            "                        the first element equals [6976.60213314] with non-scalar type <class 'numpy.ndarray'>.\n",
            "                        Using now ``[v[0] for v in function_values]`` instead (further warnings are suppressed) ()\n",
            "  ')')\n"
          ],
          "name": "stderr"
        },
        {
          "output_type": "stream",
          "text": [
            "  100   1500 -5.069049565382487e+07 2.0e+00 2.33e+01  2e+01  3e+01 0:01.9\n",
            "  135   2025 -4.759307842990488e+09 2.1e+00 2.59e+02  2e+02  3e+02 0:02.6\n",
            "termination on tolfacupx=1000.0 (Mon Apr 13 14:51:26 2020)\n",
            "final/bestever f-value = -4.738791e+09 -4.759308e+09\n",
            "incumbent solution: [ -285.82327461   594.00647949  -383.71703759  -570.85558125\n",
            "  -654.13732934  1242.63643444 -1275.12216854 -1543.21320316 ...]\n",
            "std deviations: [246.42917963 264.37769843 246.87360993 249.59128253 260.29562505\n",
            " 250.61962672 256.91618342 265.40980964 ...]\n",
            "Run : 4\n",
            "(7_w,15)-aCMA-ES (mu_w=4.5,w_1=34%) in dimension 50 (seed=909403, Mon Apr 13 14:51:26 2020)\n",
            "Iterat #Fevals   function value  axis ratio  sigma  min&max std  t[m:s]\n",
            "    1     15 4.647342050292234e+03 1.0e+00 2.54e-01  3e-01  3e-01 0:00.0\n",
            "    2     30 4.647342643085265e+03 1.0e+00 2.46e-01  2e-01  2e-01 0:00.0\n",
            "    3     45 4.647341758280030e+03 1.1e+00 2.42e-01  2e-01  2e-01 0:00.1\n"
          ],
          "name": "stdout"
        },
        {
          "output_type": "stream",
          "text": [
            "/usr/local/lib/python3.6/dist-packages/cma/utilities/utils.py:333: UserWarning: function_values is not a list of scalars,\n",
            "                        the first element equals [4647.34288772] with non-scalar type <class 'numpy.ndarray'>.\n",
            "                        Using now ``[v[0] for v in function_values]`` instead (further warnings are suppressed) ()\n",
            "  ')')\n",
            "/usr/local/lib/python3.6/dist-packages/cma/utilities/utils.py:333: UserWarning: function_values is not a list of scalars,\n",
            "                        the first element equals [4647.34500149] with non-scalar type <class 'numpy.ndarray'>.\n",
            "                        Using now ``[v[0] for v in function_values]`` instead (further warnings are suppressed) ()\n",
            "  ')')\n"
          ],
          "name": "stderr"
        },
        {
          "output_type": "stream",
          "text": [
            "  100   1500 2.833632502385293e+03 1.4e+00 3.63e-02  3e-02  4e-02 0:02.0\n",
            "  200   3000 2.715473775990858e+03 1.5e+00 1.97e-03  2e-03  2e-03 0:03.9\n",
            "  300   4500 2.715175504275358e+03 1.5e+00 1.11e-04  9e-05  1e-04 0:05.9\n",
            "  400   6000 2.715174390302397e+03 1.6e+00 7.53e-06  6e-06  7e-06 0:07.8\n",
            "  500   7500 2.715174385961217e+03 1.6e+00 5.24e-07  4e-07  5e-07 0:09.7\n",
            "  600   9000 2.715174385941174e+03 1.7e+00 3.30e-08  2e-08  3e-08 0:11.7\n",
            "  700  10500 2.715174385941111e+03 1.6e+00 2.71e-09  2e-09  2e-09 0:13.6\n",
            "  747  11205 2.715174385941112e+03 1.7e+00 1.70e-09  1e-09  1e-09 0:14.5\n",
            "termination on tolfun=1e-11 (Mon Apr 13 14:51:43 2020)\n",
            "final/bestever f-value = 2.715174e+03 2.715174e+03\n",
            "incumbent solution: [ 0.04675071  0.02542598 -0.14006052 -0.03997052 -0.02560333  0.01900346\n",
            " -0.06408278 -0.04565248 ...]\n",
            "std deviations: [1.30708242e-09 1.31463868e-09 1.34935727e-09 1.34446704e-09\n",
            " 1.27351889e-09 1.44070156e-09 1.26198430e-09 1.35210264e-09 ...]\n",
            "(7_w,15)-aCMA-ES (mu_w=4.5,w_1=34%) in dimension 50 (seed=899315, Mon Apr 13 14:51:43 2020)\n",
            "Iterat #Fevals   function value  axis ratio  sigma  min&max std  t[m:s]\n",
            "    1     15 4.649697134949005e+03 1.0e+00 2.56e-01  3e-01  3e-01 0:00.0\n",
            "    2     30 4.649697134948776e+03 1.0e+00 2.47e-01  2e-01  2e-01 0:00.0\n",
            "    3     45 4.649697134949003e+03 1.0e+00 2.41e-01  2e-01  2e-01 0:00.0\n"
          ],
          "name": "stdout"
        },
        {
          "output_type": "stream",
          "text": [
            "/usr/local/lib/python3.6/dist-packages/cma/utilities/utils.py:333: UserWarning: function_values is not a list of scalars,\n",
            "                        the first element equals [4649.69713495] with non-scalar type <class 'numpy.ndarray'>.\n",
            "                        Using now ``[v[0] for v in function_values]`` instead (further warnings are suppressed) ()\n",
            "  ')')\n",
            "/usr/local/lib/python3.6/dist-packages/cma/utilities/utils.py:333: UserWarning: function_values is not a list of scalars,\n",
            "                        the first element equals [4649.69713495] with non-scalar type <class 'numpy.ndarray'>.\n",
            "                        Using now ``[v[0] for v in function_values]`` instead (further warnings are suppressed) ()\n",
            "  ')')\n"
          ],
          "name": "stderr"
        },
        {
          "output_type": "stream",
          "text": [
            "  100   1500 4.030902268581204e+03 1.4e+00 2.34e-02  2e-02  2e-02 0:01.4\n",
            "  200   3000 3.994945153129134e+03 1.5e+00 1.36e-03  1e-03  1e-03 0:02.7\n",
            "  300   4500 3.994836405484047e+03 1.5e+00 7.96e-05  7e-05  7e-05 0:04.2\n",
            "  400   6000 3.994836069172582e+03 1.5e+00 3.25e-06  3e-06  3e-06 0:05.6\n",
            "  500   7500 3.994836068453224e+03 1.6e+00 2.34e-07  2e-07  2e-07 0:06.9\n",
            "  600   9000 3.994836068450322e+03 1.6e+00 1.62e-08  1e-08  1e-08 0:08.3\n",
            "  700  10500 3.994836068450310e+03 1.7e+00 3.77e-09  3e-09  3e-09 0:09.7\n",
            "  715  10725 3.994836068450310e+03 1.7e+00 3.58e-09  3e-09  3e-09 0:09.9\n",
            "termination on tolfun=1e-11 (Mon Apr 13 14:51:56 2020)\n",
            "final/bestever f-value = 3.994836e+03 3.994836e+03\n",
            "incumbent solution: [ 0.41603759  0.39726235 -0.13214832  0.4427994   0.40479204  0.45548759\n",
            "  0.11560697  0.05886013 ...]\n",
            "std deviations: [2.90182274e-09 2.69472255e-09 2.71744732e-09 2.81664089e-09\n",
            " 2.74743851e-09 3.12329081e-09 2.69298797e-09 2.92276300e-09 ...]\n",
            "(7_w,15)-aCMA-ES (mu_w=4.5,w_1=34%) in dimension 50 (seed=890256, Mon Apr 13 14:51:56 2020)\n",
            "Iterat #Fevals   function value  axis ratio  sigma  min&max std  t[m:s]\n",
            "    1     15 7.020596780799141e+03 1.0e+00 2.56e-01  3e-01  3e-01 0:00.0\n",
            "    2     30 6.694817667657459e+03 1.0e+00 2.47e-01  2e-01  2e-01 0:00.0\n",
            "    3     45 6.123189392114253e+03 1.0e+00 2.42e-01  2e-01  2e-01 0:00.1\n"
          ],
          "name": "stdout"
        },
        {
          "output_type": "stream",
          "text": [
            "/usr/local/lib/python3.6/dist-packages/cma/utilities/utils.py:333: UserWarning: function_values is not a list of scalars,\n",
            "                        the first element equals [7760.91799901] with non-scalar type <class 'numpy.ndarray'>.\n",
            "                        Using now ``[v[0] for v in function_values]`` instead (further warnings are suppressed) ()\n",
            "  ')')\n",
            "/usr/local/lib/python3.6/dist-packages/cma/utilities/utils.py:333: UserWarning: function_values is not a list of scalars,\n",
            "                        the first element equals [6953.37683519] with non-scalar type <class 'numpy.ndarray'>.\n",
            "                        Using now ``[v[0] for v in function_values]`` instead (further warnings are suppressed) ()\n",
            "  ')')\n"
          ],
          "name": "stderr"
        },
        {
          "output_type": "stream",
          "text": [
            "  100   1500 -1.960804925532728e+08 1.8e+00 5.73e+01  5e+01  6e+01 0:01.9\n",
            "  125   1875 -4.451117679523356e+09 1.8e+00 2.50e+02  2e+02  3e+02 0:02.4\n",
            "termination on tolfacupx=1000.0 (Mon Apr 13 14:51:59 2020)\n",
            "final/bestever f-value = -4.389161e+09 -4.451118e+09\n",
            "incumbent solution: [  151.62919701   145.16374406   511.26540014  1122.17985241\n",
            "  -391.39940968 -1568.4082381    854.48625656   904.36435406 ...]\n",
            "std deviations: [243.19210005 237.74309723 243.84123389 246.45920649 242.01563604\n",
            " 251.74212119 241.32728741 246.45708259 ...]\n",
            "Run : 5\n",
            "(7_w,15)-aCMA-ES (mu_w=4.5,w_1=34%) in dimension 50 (seed=840730, Mon Apr 13 14:51:59 2020)\n",
            "Iterat #Fevals   function value  axis ratio  sigma  min&max std  t[m:s]\n",
            "    1     15 4.647328007520951e+03 1.0e+00 2.56e-01  3e-01  3e-01 0:00.0\n",
            "    2     30 4.647275885491053e+03 1.0e+00 2.47e-01  2e-01  2e-01 0:00.0\n",
            "    3     45 4.647118210509216e+03 1.1e+00 2.39e-01  2e-01  2e-01 0:00.1\n"
          ],
          "name": "stdout"
        },
        {
          "output_type": "stream",
          "text": [
            "/usr/local/lib/python3.6/dist-packages/cma/utilities/utils.py:333: UserWarning: function_values is not a list of scalars,\n",
            "                        the first element equals [4647.40784403] with non-scalar type <class 'numpy.ndarray'>.\n",
            "                        Using now ``[v[0] for v in function_values]`` instead (further warnings are suppressed) ()\n",
            "  ')')\n",
            "/usr/local/lib/python3.6/dist-packages/cma/utilities/utils.py:333: UserWarning: function_values is not a list of scalars,\n",
            "                        the first element equals [4647.34161583] with non-scalar type <class 'numpy.ndarray'>.\n",
            "                        Using now ``[v[0] for v in function_values]`` instead (further warnings are suppressed) ()\n",
            "  ')')\n"
          ],
          "name": "stderr"
        },
        {
          "output_type": "stream",
          "text": [
            "  100   1500 2.798536052784280e+03 1.4e+00 3.09e-02  3e-02  3e-02 0:01.9\n",
            "  200   3000 2.715481344697776e+03 1.5e+00 1.77e-03  2e-03  2e-03 0:03.9\n",
            "  300   4500 2.715175866670094e+03 1.5e+00 1.25e-04  1e-04  1e-04 0:05.8\n",
            "  400   6000 2.715174393638166e+03 1.5e+00 9.83e-06  8e-06  9e-06 0:07.8\n",
            "  500   7500 2.715174385976580e+03 1.5e+00 6.32e-07  5e-07  6e-07 0:09.7\n",
            "  600   9000 2.715174385941192e+03 1.6e+00 3.88e-08  3e-08  3e-08 0:11.6\n",
            "  700  10500 2.715174385941112e+03 1.6e+00 3.87e-09  3e-09  3e-09 0:13.6\n",
            "  762  11430 2.715174385941112e+03 1.7e+00 1.57e-09  1e-09  1e-09 0:14.8\n",
            "termination on tolfun=1e-11 (Mon Apr 13 14:52:16 2020)\n",
            "final/bestever f-value = 2.715174e+03 2.715174e+03\n",
            "incumbent solution: [ 0.04675071  0.02542597 -0.14006053 -0.03997051 -0.02560333  0.01900346\n",
            " -0.06408276 -0.04565247 ...]\n",
            "std deviations: [1.23776536e-09 1.26249415e-09 1.19106646e-09 1.25502815e-09\n",
            " 1.14589065e-09 1.26223939e-09 1.19264814e-09 1.22413252e-09 ...]\n",
            "(7_w,15)-aCMA-ES (mu_w=4.5,w_1=34%) in dimension 50 (seed=886785, Mon Apr 13 14:52:16 2020)\n",
            "Iterat #Fevals   function value  axis ratio  sigma  min&max std  t[m:s]\n",
            "    1     15 4.649697133780687e+03 1.0e+00 2.55e-01  3e-01  3e-01 0:00.0\n",
            "    2     30 4.649697091782145e+03 1.0e+00 2.47e-01  2e-01  2e-01 0:00.0\n",
            "    3     45 4.649697059218385e+03 1.1e+00 2.42e-01  2e-01  2e-01 0:00.0\n"
          ],
          "name": "stdout"
        },
        {
          "output_type": "stream",
          "text": [
            "/usr/local/lib/python3.6/dist-packages/cma/utilities/utils.py:333: UserWarning: function_values is not a list of scalars,\n",
            "                        the first element equals [4649.69713492] with non-scalar type <class 'numpy.ndarray'>.\n",
            "                        Using now ``[v[0] for v in function_values]`` instead (further warnings are suppressed) ()\n",
            "  ')')\n",
            "/usr/local/lib/python3.6/dist-packages/cma/utilities/utils.py:333: UserWarning: function_values is not a list of scalars,\n",
            "                        the first element equals [4649.69713438] with non-scalar type <class 'numpy.ndarray'>.\n",
            "                        Using now ``[v[0] for v in function_values]`` instead (further warnings are suppressed) ()\n",
            "  ')')\n"
          ],
          "name": "stderr"
        },
        {
          "output_type": "stream",
          "text": [
            "  100   1500 4.021076123180468e+03 1.4e+00 2.06e-02  2e-02  2e-02 0:01.4\n",
            "  200   3000 3.994913536249838e+03 1.4e+00 1.03e-03  9e-04  1e-03 0:02.8\n",
            "  300   4500 3.994836222207094e+03 1.5e+00 5.40e-05  5e-05  5e-05 0:04.1\n",
            "  400   6000 3.994836069164693e+03 1.5e+00 3.41e-06  3e-06  3e-06 0:05.5\n",
            "  500   7500 3.994836068451600e+03 1.5e+00 1.62e-07  1e-07  1e-07 0:06.9\n",
            "  600   9000 3.994836068450315e+03 1.6e+00 9.97e-09  7e-09  8e-09 0:08.3\n",
            "  700  10500 3.994836068450309e+03 1.8e+00 3.26e-09  2e-09  3e-09 0:09.6\n",
            "  708  10620 3.994836068450308e+03 1.8e+00 2.89e-09  2e-09  2e-09 0:09.7\n",
            "termination on tolfun=1e-11 (Mon Apr 13 14:52:28 2020)\n",
            "final/bestever f-value = 3.994836e+03 3.994836e+03\n",
            "incumbent solution: [ 0.41603758  0.39726236 -0.13214833  0.4427994   0.40479205  0.45548759\n",
            "  0.11560695  0.05886013 ...]\n",
            "std deviations: [2.22601150e-09 2.24405379e-09 2.30981553e-09 2.39757743e-09\n",
            " 2.13166053e-09 2.31157807e-09 2.24158825e-09 2.26527962e-09 ...]\n",
            "(7_w,15)-aCMA-ES (mu_w=4.5,w_1=34%) in dimension 50 (seed=882456, Mon Apr 13 14:52:28 2020)\n",
            "Iterat #Fevals   function value  axis ratio  sigma  min&max std  t[m:s]\n",
            "    1     15 6.344903478723796e+03 1.0e+00 2.55e-01  3e-01  3e-01 0:00.0\n",
            "    2     30 5.765819941679298e+03 1.0e+00 2.48e-01  2e-01  2e-01 0:00.0\n",
            "    3     45 5.404086145669001e+03 1.1e+00 2.46e-01  2e-01  2e-01 0:00.1\n"
          ],
          "name": "stdout"
        },
        {
          "output_type": "stream",
          "text": [
            "/usr/local/lib/python3.6/dist-packages/cma/utilities/utils.py:333: UserWarning: function_values is not a list of scalars,\n",
            "                        the first element equals [6344.90347872] with non-scalar type <class 'numpy.ndarray'>.\n",
            "                        Using now ``[v[0] for v in function_values]`` instead (further warnings are suppressed) ()\n",
            "  ')')\n",
            "/usr/local/lib/python3.6/dist-packages/cma/utilities/utils.py:333: UserWarning: function_values is not a list of scalars,\n",
            "                        the first element equals [6068.16346364] with non-scalar type <class 'numpy.ndarray'>.\n",
            "                        Using now ``[v[0] for v in function_values]`` instead (further warnings are suppressed) ()\n",
            "  ')')\n"
          ],
          "name": "stderr"
        },
        {
          "output_type": "stream",
          "text": [
            "  100   1500 -5.821377286588991e+08 1.5e+00 9.35e+01  9e+01  9e+01 0:01.9\n",
            "  116   1740 -5.523625405699831e+09 1.6e+00 2.86e+02  3e+02  3e+02 0:02.2\n",
            "termination on tolfacupx=1000.0 (Mon Apr 13 14:52:31 2020)\n",
            "final/bestever f-value = -5.540579e+09 -5.540579e+09\n",
            "incumbent solution: [-1139.18349091   601.10057347 -1101.97151755 -1802.88249109\n",
            "    87.67221499   754.51678785  -644.47810688  -625.0725441  ...]\n",
            "std deviations: [276.21500389 276.09087925 276.3767622  279.62502596 276.53625566\n",
            " 274.36015969 275.89640704 288.56776058 ...]\n",
            "Run : 6\n",
            "(7_w,15)-aCMA-ES (mu_w=4.5,w_1=34%) in dimension 50 (seed=928717, Mon Apr 13 14:52:31 2020)\n",
            "Iterat #Fevals   function value  axis ratio  sigma  min&max std  t[m:s]\n",
            "    1     15 4.647343149268849e+03 1.0e+00 2.55e-01  3e-01  3e-01 0:00.0\n",
            "    2     30 4.647342902406487e+03 1.0e+00 2.46e-01  2e-01  2e-01 0:00.0\n",
            "    3     45 4.647342820728248e+03 1.0e+00 2.42e-01  2e-01  2e-01 0:00.1\n"
          ],
          "name": "stdout"
        },
        {
          "output_type": "stream",
          "text": [
            "/usr/local/lib/python3.6/dist-packages/cma/utilities/utils.py:333: UserWarning: function_values is not a list of scalars,\n",
            "                        the first element equals [4647.35055084] with non-scalar type <class 'numpy.ndarray'>.\n",
            "                        Using now ``[v[0] for v in function_values]`` instead (further warnings are suppressed) ()\n",
            "  ')')\n",
            "/usr/local/lib/python3.6/dist-packages/cma/utilities/utils.py:333: UserWarning: function_values is not a list of scalars,\n",
            "                        the first element equals [4647.34491149] with non-scalar type <class 'numpy.ndarray'>.\n",
            "                        Using now ``[v[0] for v in function_values]`` instead (further warnings are suppressed) ()\n",
            "  ')')\n"
          ],
          "name": "stderr"
        },
        {
          "output_type": "stream",
          "text": [
            "  100   1500 2.879242949020796e+03 1.5e+00 4.12e-02  4e-02  4e-02 0:02.0\n",
            "  200   3000 2.715657524983468e+03 1.5e+00 2.19e-03  2e-03  2e-03 0:03.9\n",
            "  300   4500 2.715175880816792e+03 1.5e+00 1.27e-04  1e-04  1e-04 0:05.8\n",
            "  400   6000 2.715174396473352e+03 1.6e+00 1.15e-05  9e-06  1e-05 0:07.8\n",
            "  500   7500 2.715174385976167e+03 1.6e+00 7.08e-07  6e-07  6e-07 0:09.7\n",
            "  600   9000 2.715174385941251e+03 1.6e+00 4.32e-08  3e-08  4e-08 0:11.7\n",
            "  700  10500 2.715174385941111e+03 1.7e+00 3.14e-09  2e-09  3e-09 0:13.6\n",
            "  753  11295 2.715174385941111e+03 1.8e+00 2.01e-09  1e-09  2e-09 0:14.6\n",
            "termination on tolfun=1e-11 (Mon Apr 13 14:52:48 2020)\n",
            "final/bestever f-value = 2.715174e+03 2.715174e+03\n",
            "incumbent solution: [ 0.04675072  0.02542598 -0.14006052 -0.03997052 -0.02560333  0.01900346\n",
            " -0.06408277 -0.04565247 ...]\n",
            "std deviations: [1.57263887e-09 1.54191776e-09 1.61110245e-09 1.56829748e-09\n",
            " 1.52594505e-09 1.68418062e-09 1.46738421e-09 1.53924786e-09 ...]\n",
            "(7_w,15)-aCMA-ES (mu_w=4.5,w_1=34%) in dimension 50 (seed=919110, Mon Apr 13 14:52:48 2020)\n",
            "Iterat #Fevals   function value  axis ratio  sigma  min&max std  t[m:s]\n",
            "    1     15 4.649697132674269e+03 1.0e+00 2.57e-01  3e-01  3e-01 0:00.0\n",
            "    2     30 4.649697134577893e+03 1.0e+00 2.49e-01  2e-01  2e-01 0:00.0\n",
            "    3     45 4.649697127340377e+03 1.1e+00 2.43e-01  2e-01  2e-01 0:00.0\n"
          ],
          "name": "stdout"
        },
        {
          "output_type": "stream",
          "text": [
            "/usr/local/lib/python3.6/dist-packages/cma/utilities/utils.py:333: UserWarning: function_values is not a list of scalars,\n",
            "                        the first element equals [4649.69713494] with non-scalar type <class 'numpy.ndarray'>.\n",
            "                        Using now ``[v[0] for v in function_values]`` instead (further warnings are suppressed) ()\n",
            "  ')')\n",
            "/usr/local/lib/python3.6/dist-packages/cma/utilities/utils.py:333: UserWarning: function_values is not a list of scalars,\n",
            "                        the first element equals [4649.69713493] with non-scalar type <class 'numpy.ndarray'>.\n",
            "                        Using now ``[v[0] for v in function_values]`` instead (further warnings are suppressed) ()\n",
            "  ')')\n"
          ],
          "name": "stderr"
        },
        {
          "output_type": "stream",
          "text": [
            "  100   1500 4.202922385649568e+03 1.4e+00 2.81e-02  3e-02  3e-02 0:01.4\n",
            "  200   3000 4.174816302554415e+03 1.5e+00 1.44e-03  1e-03  1e-03 0:02.7\n",
            "  300   4500 4.174731736965155e+03 1.5e+00 8.18e-05  7e-05  8e-05 0:04.1\n",
            "  400   6000 4.174731475467754e+03 1.6e+00 4.36e-06  4e-06  4e-06 0:05.5\n",
            "  500   7500 4.174731474871463e+03 1.6e+00 2.66e-07  2e-07  2e-07 0:06.9\n",
            "  600   9000 4.174731474869520e+03 1.7e+00 1.26e-08  9e-09  1e-08 0:08.3\n",
            "  692  10380 4.174731474869516e+03 1.7e+00 3.63e-09  3e-09  3e-09 0:09.5\n",
            "termination on tolfun=1e-11 (Mon Apr 13 14:53:00 2020)\n",
            "final/bestever f-value = 4.174731e+03 4.174731e+03\n",
            "incumbent solution: [ 0.03363366  0.05651835 -0.06186882 -0.00846281  0.04025514 -0.0460314\n",
            " -0.01140647 -0.08156257 ...]\n",
            "std deviations: [2.78286087e-09 2.81108988e-09 2.90246842e-09 2.79465457e-09\n",
            " 2.68289298e-09 3.12529460e-09 2.90163342e-09 2.96188663e-09 ...]\n",
            "(7_w,15)-aCMA-ES (mu_w=4.5,w_1=34%) in dimension 50 (seed=946994, Mon Apr 13 14:53:00 2020)\n",
            "Iterat #Fevals   function value  axis ratio  sigma  min&max std  t[m:s]\n",
            "    1     15 6.838933415979302e+03 1.0e+00 2.54e-01  3e-01  3e-01 0:00.0\n",
            "    2     30 6.448725045151675e+03 1.0e+00 2.46e-01  2e-01  2e-01 0:00.0\n",
            "    3     45 6.373006840773276e+03 1.1e+00 2.38e-01  2e-01  2e-01 0:00.1\n"
          ],
          "name": "stdout"
        },
        {
          "output_type": "stream",
          "text": [
            "/usr/local/lib/python3.6/dist-packages/cma/utilities/utils.py:333: UserWarning: function_values is not a list of scalars,\n",
            "                        the first element equals [7468.74585481] with non-scalar type <class 'numpy.ndarray'>.\n",
            "                        Using now ``[v[0] for v in function_values]`` instead (further warnings are suppressed) ()\n",
            "  ')')\n",
            "/usr/local/lib/python3.6/dist-packages/cma/utilities/utils.py:333: UserWarning: function_values is not a list of scalars,\n",
            "                        the first element equals [6931.79990889] with non-scalar type <class 'numpy.ndarray'>.\n",
            "                        Using now ``[v[0] for v in function_values]`` instead (further warnings are suppressed) ()\n",
            "  ')')\n"
          ],
          "name": "stderr"
        },
        {
          "output_type": "stream",
          "text": [
            "  100   1500 -4.254913542717540e+07 1.8e+00 2.50e+01  2e+01  3e+01 0:01.9\n",
            "  139   2085 -4.675952658609991e+09 1.8e+00 2.63e+02  2e+02  3e+02 0:02.7\n",
            "termination on tolfacupx=1000.0 (Mon Apr 13 14:53:03 2020)\n",
            "final/bestever f-value = -4.812925e+09 -4.812925e+09\n",
            "incumbent solution: [  -54.29648663   -79.04064597 -1512.91294842 -1394.74055708\n",
            "  -590.02989927   952.38893107  -358.6719471   -852.14718036 ...]\n",
            "std deviations: [252.19202488 255.26849425 251.53127904 252.80139474 252.64953071\n",
            " 262.83854042 249.98316846 251.59518791 ...]\n",
            "Run : 7\n",
            "(7_w,15)-aCMA-ES (mu_w=4.5,w_1=34%) in dimension 50 (seed=969055, Mon Apr 13 14:53:03 2020)\n",
            "Iterat #Fevals   function value  axis ratio  sigma  min&max std  t[m:s]\n",
            "    1     15 4.647338986319589e+03 1.0e+00 2.55e-01  3e-01  3e-01 0:00.0\n",
            "    2     30 4.647338004542239e+03 1.0e+00 2.45e-01  2e-01  2e-01 0:00.0\n",
            "    3     45 4.647333190006646e+03 1.0e+00 2.38e-01  2e-01  2e-01 0:00.1\n"
          ],
          "name": "stdout"
        },
        {
          "output_type": "stream",
          "text": [
            "/usr/local/lib/python3.6/dist-packages/cma/utilities/utils.py:333: UserWarning: function_values is not a list of scalars,\n",
            "                        the first element equals [4647.34341328] with non-scalar type <class 'numpy.ndarray'>.\n",
            "                        Using now ``[v[0] for v in function_values]`` instead (further warnings are suppressed) ()\n",
            "  ')')\n",
            "/usr/local/lib/python3.6/dist-packages/cma/utilities/utils.py:333: UserWarning: function_values is not a list of scalars,\n",
            "                        the first element equals [4647.34252757] with non-scalar type <class 'numpy.ndarray'>.\n",
            "                        Using now ``[v[0] for v in function_values]`` instead (further warnings are suppressed) ()\n",
            "  ')')\n"
          ],
          "name": "stderr"
        },
        {
          "output_type": "stream",
          "text": [
            "  100   1500 3.731724734419904e+03 1.4e+00 4.45e-02  4e-02  5e-02 0:02.0\n",
            "  200   3000 2.721423242777326e+03 1.8e+00 7.97e-03  7e-03  8e-03 0:03.9\n",
            "  300   4500 2.715210469405157e+03 1.7e+00 6.13e-04  5e-04  6e-04 0:05.8\n",
            "  400   6000 2.715174532355436e+03 1.8e+00 4.02e-05  3e-05  4e-05 0:07.8\n",
            "  500   7500 2.715174386449588e+03 1.8e+00 2.57e-06  2e-06  2e-06 0:09.7\n",
            "  600   9000 2.715174385942485e+03 1.8e+00 1.34e-07  1e-07  1e-07 0:11.7\n",
            "  700  10500 2.715174385941116e+03 1.8e+00 9.15e-09  7e-09  8e-09 0:13.6\n",
            "  800  12000 2.715174385941111e+03 1.9e+00 1.71e-09  1e-09  1e-09 0:15.6\n",
            "  801  12015 2.715174385941111e+03 1.9e+00 1.70e-09  1e-09  1e-09 0:15.6\n",
            "termination on tolfun=1e-11 (Mon Apr 13 14:53:22 2020)\n",
            "final/bestever f-value = 2.715174e+03 2.715174e+03\n",
            "incumbent solution: [ 0.04675072  0.02542599 -0.14006053 -0.03997052 -0.02560333  0.01900346\n",
            " -0.06408278 -0.04565247 ...]\n",
            "std deviations: [1.32753199e-09 1.23158288e-09 1.27450444e-09 1.32143388e-09\n",
            " 1.29073241e-09 1.36023342e-09 1.24467379e-09 1.37897135e-09 ...]\n",
            "(7_w,15)-aCMA-ES (mu_w=4.5,w_1=34%) in dimension 50 (seed=848716, Mon Apr 13 14:53:22 2020)\n",
            "Iterat #Fevals   function value  axis ratio  sigma  min&max std  t[m:s]\n",
            "    1     15 4.649697134936143e+03 1.0e+00 2.54e-01  3e-01  3e-01 0:00.0\n",
            "    2     30 4.649697130594237e+03 1.0e+00 2.45e-01  2e-01  2e-01 0:00.0\n",
            "    3     45 4.649697007876157e+03 1.0e+00 2.37e-01  2e-01  2e-01 0:00.0\n"
          ],
          "name": "stdout"
        },
        {
          "output_type": "stream",
          "text": [
            "/usr/local/lib/python3.6/dist-packages/cma/utilities/utils.py:333: UserWarning: function_values is not a list of scalars,\n",
            "                        the first element equals [4649.69713495] with non-scalar type <class 'numpy.ndarray'>.\n",
            "                        Using now ``[v[0] for v in function_values]`` instead (further warnings are suppressed) ()\n",
            "  ')')\n",
            "/usr/local/lib/python3.6/dist-packages/cma/utilities/utils.py:333: UserWarning: function_values is not a list of scalars,\n",
            "                        the first element equals [4649.69713495] with non-scalar type <class 'numpy.ndarray'>.\n",
            "                        Using now ``[v[0] for v in function_values]`` instead (further warnings are suppressed) ()\n",
            "  ')')\n"
          ],
          "name": "stderr"
        },
        {
          "output_type": "stream",
          "text": [
            "  100   1500 4.021779068065201e+03 1.4e+00 2.34e-02  2e-02  2e-02 0:01.4\n",
            "  200   3000 3.994953404426124e+03 1.5e+00 1.36e-03  1e-03  1e-03 0:02.8\n",
            "  300   4500 3.994836357577607e+03 1.5e+00 7.55e-05  6e-05  7e-05 0:04.1\n",
            "  400   6000 3.994836069491073e+03 1.5e+00 4.44e-06  4e-06  4e-06 0:05.5\n",
            "  500   7500 3.994836068452783e+03 1.5e+00 2.47e-07  2e-07  2e-07 0:06.9\n",
            "  600   9000 3.994836068450314e+03 1.6e+00 1.17e-08  9e-09  1e-08 0:08.3\n",
            "  700  10500 3.994836068450309e+03 1.7e+00 2.61e-09  2e-09  2e-09 0:09.7\n",
            "  705  10575 3.994836068450308e+03 1.7e+00 2.65e-09  2e-09  2e-09 0:09.7\n",
            "termination on tolfun=1e-11 (Mon Apr 13 14:53:34 2020)\n",
            "final/bestever f-value = 3.994836e+03 3.994836e+03\n",
            "incumbent solution: [ 0.41603757  0.39726236 -0.13214833  0.44279941  0.40479205  0.45548758\n",
            "  0.11560696  0.05886012 ...]\n",
            "std deviations: [2.02159796e-09 2.08707678e-09 2.15113860e-09 2.17817191e-09\n",
            " 1.97896606e-09 2.14835143e-09 2.10524060e-09 2.06712031e-09 ...]\n",
            "(7_w,15)-aCMA-ES (mu_w=4.5,w_1=34%) in dimension 50 (seed=894962, Mon Apr 13 14:53:34 2020)\n",
            "Iterat #Fevals   function value  axis ratio  sigma  min&max std  t[m:s]\n",
            "    1     15 7.147737766629498e+03 1.0e+00 2.55e-01  3e-01  3e-01 0:00.0\n",
            "    2     30 6.773441273679342e+03 1.0e+00 2.46e-01  2e-01  2e-01 0:00.0\n",
            "    3     45 6.252214465740852e+03 1.0e+00 2.39e-01  2e-01  2e-01 0:00.1\n"
          ],
          "name": "stdout"
        },
        {
          "output_type": "stream",
          "text": [
            "/usr/local/lib/python3.6/dist-packages/cma/utilities/utils.py:333: UserWarning: function_values is not a list of scalars,\n",
            "                        the first element equals [7404.37405559] with non-scalar type <class 'numpy.ndarray'>.\n",
            "                        Using now ``[v[0] for v in function_values]`` instead (further warnings are suppressed) ()\n",
            "  ')')\n",
            "/usr/local/lib/python3.6/dist-packages/cma/utilities/utils.py:333: UserWarning: function_values is not a list of scalars,\n",
            "                        the first element equals [7449.64542659] with non-scalar type <class 'numpy.ndarray'>.\n",
            "                        Using now ``[v[0] for v in function_values]`` instead (further warnings are suppressed) ()\n",
            "  ')')\n"
          ],
          "name": "stderr"
        },
        {
          "output_type": "stream",
          "text": [
            "  100   1500 -9.042438871184507e+07 1.6e+00 4.22e+01  4e+01  4e+01 0:01.9\n",
            "  128   1920 -4.149642107572258e+09 1.7e+00 2.78e+02  3e+02  3e+02 0:02.5\n",
            "termination on tolfacupx=1000.0 (Mon Apr 13 14:53:37 2020)\n",
            "final/bestever f-value = -3.910569e+09 -4.149642e+09\n",
            "incumbent solution: [  572.77637956   286.98156146  1134.13670403  1511.40996564\n",
            "  -362.37121199 -1593.55227933   386.51182399   230.97648541 ...]\n",
            "std deviations: [260.1508179  259.13163328 269.91011137 272.19717235 268.43328902\n",
            " 281.58745837 266.70475443 265.9202989  ...]\n",
            "Run : 8\n",
            "(7_w,15)-aCMA-ES (mu_w=4.5,w_1=34%) in dimension 50 (seed=911006, Mon Apr 13 14:53:37 2020)\n",
            "Iterat #Fevals   function value  axis ratio  sigma  min&max std  t[m:s]\n",
            "    1     15 4.647342705123133e+03 1.0e+00 2.55e-01  3e-01  3e-01 0:00.0\n",
            "    2     30 4.647339770594549e+03 1.0e+00 2.45e-01  2e-01  2e-01 0:00.0\n",
            "    3     45 4.647321626613625e+03 1.1e+00 2.35e-01  2e-01  2e-01 0:00.1\n"
          ],
          "name": "stdout"
        },
        {
          "output_type": "stream",
          "text": [
            "/usr/local/lib/python3.6/dist-packages/cma/utilities/utils.py:333: UserWarning: function_values is not a list of scalars,\n",
            "                        the first element equals [4647.35008639] with non-scalar type <class 'numpy.ndarray'>.\n",
            "                        Using now ``[v[0] for v in function_values]`` instead (further warnings are suppressed) ()\n",
            "  ')')\n",
            "/usr/local/lib/python3.6/dist-packages/cma/utilities/utils.py:333: UserWarning: function_values is not a list of scalars,\n",
            "                        the first element equals [4647.34231139] with non-scalar type <class 'numpy.ndarray'>.\n",
            "                        Using now ``[v[0] for v in function_values]`` instead (further warnings are suppressed) ()\n",
            "  ')')\n"
          ],
          "name": "stderr"
        },
        {
          "output_type": "stream",
          "text": [
            "  100   1500 2.916856435010490e+03 1.5e+00 4.41e-02  4e-02  4e-02 0:02.0\n",
            "  200   3000 2.715635267624592e+03 1.5e+00 2.19e-03  2e-03  2e-03 0:04.0\n",
            "  300   4500 2.715176189854478e+03 1.5e+00 1.57e-04  1e-04  2e-04 0:05.9\n",
            "  400   6000 2.715174394337187e+03 1.6e+00 9.65e-06  8e-06  9e-06 0:07.9\n",
            "  500   7500 2.715174385966329e+03 1.6e+00 6.64e-07  5e-07  6e-07 0:09.8\n",
            "  600   9000 2.715174385941275e+03 1.7e+00 4.53e-08  3e-08  4e-08 0:11.8\n",
            "  700  10500 2.715174385941111e+03 1.7e+00 3.13e-09  2e-09  3e-09 0:13.7\n",
            "  757  11355 2.715174385941111e+03 1.8e+00 1.76e-09  1e-09  2e-09 0:14.8\n",
            "termination on tolfun=1e-11 (Mon Apr 13 14:53:54 2020)\n",
            "final/bestever f-value = 2.715174e+03 2.715174e+03\n",
            "incumbent solution: [ 0.04675072  0.02542598 -0.14006052 -0.03997052 -0.02560333  0.01900346\n",
            " -0.06408277 -0.04565247 ...]\n",
            "std deviations: [1.34274945e-09 1.29168163e-09 1.39801556e-09 1.40109997e-09\n",
            " 1.27001936e-09 1.45133511e-09 1.37830442e-09 1.40483272e-09 ...]\n",
            "(7_w,15)-aCMA-ES (mu_w=4.5,w_1=34%) in dimension 50 (seed=897993, Mon Apr 13 14:53:54 2020)\n",
            "Iterat #Fevals   function value  axis ratio  sigma  min&max std  t[m:s]\n",
            "    1     15 4.649697002529746e+03 1.0e+00 2.56e-01  3e-01  3e-01 0:00.0\n",
            "    2     30 4.649697004771809e+03 1.0e+00 2.47e-01  2e-01  2e-01 0:00.0\n",
            "    3     45 4.649696881858607e+03 1.1e+00 2.41e-01  2e-01  2e-01 0:00.0\n"
          ],
          "name": "stdout"
        },
        {
          "output_type": "stream",
          "text": [
            "/usr/local/lib/python3.6/dist-packages/cma/utilities/utils.py:333: UserWarning: function_values is not a list of scalars,\n",
            "                        the first element equals [4649.69713475] with non-scalar type <class 'numpy.ndarray'>.\n",
            "                        Using now ``[v[0] for v in function_values]`` instead (further warnings are suppressed) ()\n",
            "  ')')\n",
            "/usr/local/lib/python3.6/dist-packages/cma/utilities/utils.py:333: UserWarning: function_values is not a list of scalars,\n",
            "                        the first element equals [4649.69712027] with non-scalar type <class 'numpy.ndarray'>.\n",
            "                        Using now ``[v[0] for v in function_values]`` instead (further warnings are suppressed) ()\n",
            "  ')')\n"
          ],
          "name": "stderr"
        },
        {
          "output_type": "stream",
          "text": [
            "  100   1500 4.202646615656751e+03 1.4e+00 2.77e-02  3e-02  3e-02 0:01.4\n",
            "  200   3000 4.174836505936632e+03 1.5e+00 1.69e-03  2e-03  2e-03 0:02.8\n",
            "  300   4500 4.174731714252867e+03 1.5e+00 8.95e-05  8e-05  9e-05 0:04.2\n",
            "  400   6000 4.174731475834455e+03 1.6e+00 5.54e-06  5e-06  5e-06 0:05.5\n",
            "  500   7500 4.174731474875488e+03 1.6e+00 3.89e-07  3e-07  4e-07 0:06.9\n",
            "  600   9000 4.174731474869533e+03 1.7e+00 2.40e-08  2e-08  2e-08 0:08.3\n",
            "  700  10500 4.174731474869516e+03 1.7e+00 3.58e-09  3e-09  3e-09 0:09.6\n",
            "  722  10830 4.174731474869516e+03 1.7e+00 2.73e-09  2e-09  2e-09 0:09.9\n",
            "termination on tolfun=1e-11 (Mon Apr 13 14:54:07 2020)\n",
            "final/bestever f-value = 4.174731e+03 4.174731e+03\n",
            "incumbent solution: [ 0.03363367  0.05651835 -0.06186882 -0.00846282  0.04025513 -0.04603141\n",
            " -0.01140644 -0.08156256 ...]\n",
            "std deviations: [2.12174383e-09 2.01631958e-09 2.12463567e-09 2.15651745e-09\n",
            " 2.04323918e-09 2.26663671e-09 2.13989433e-09 2.17260679e-09 ...]\n",
            "(7_w,15)-aCMA-ES (mu_w=4.5,w_1=34%) in dimension 50 (seed=850836, Mon Apr 13 14:54:07 2020)\n",
            "Iterat #Fevals   function value  axis ratio  sigma  min&max std  t[m:s]\n",
            "    1     15 6.033616883850079e+03 1.0e+00 2.57e-01  3e-01  3e-01 0:00.0\n",
            "    2     30 5.492895778778770e+03 1.0e+00 2.49e-01  2e-01  2e-01 0:00.0\n",
            "    3     45 4.947106099436797e+03 1.1e+00 2.42e-01  2e-01  2e-01 0:00.0\n"
          ],
          "name": "stdout"
        },
        {
          "output_type": "stream",
          "text": [
            "/usr/local/lib/python3.6/dist-packages/cma/utilities/utils.py:333: UserWarning: function_values is not a list of scalars,\n",
            "                        the first element equals [6520.72188569] with non-scalar type <class 'numpy.ndarray'>.\n",
            "                        Using now ``[v[0] for v in function_values]`` instead (further warnings are suppressed) ()\n",
            "  ')')\n",
            "/usr/local/lib/python3.6/dist-packages/cma/utilities/utils.py:333: UserWarning: function_values is not a list of scalars,\n",
            "                        the first element equals [6153.02808849] with non-scalar type <class 'numpy.ndarray'>.\n",
            "                        Using now ``[v[0] for v in function_values]`` instead (further warnings are suppressed) ()\n",
            "  ')')\n"
          ],
          "name": "stderr"
        },
        {
          "output_type": "stream",
          "text": [
            "  100   1500 -1.201298519073805e+07 2.0e+00 1.28e+01  1e+01  1e+01 0:01.9\n",
            "  145   2175 -3.590920534424786e+09 2.0e+00 2.53e+02  2e+02  3e+02 0:02.7\n",
            "termination on tolfacupx=1000.0 (Mon Apr 13 14:54:10 2020)\n",
            "final/bestever f-value = -3.549428e+09 -3.590921e+09\n",
            "incumbent solution: [-383.14317076  293.26333514  219.15942461  820.29630751  452.32380633\n",
            " -672.24518347  837.59789983  551.16723286 ...]\n",
            "std deviations: [247.79222448 243.85578238 242.54876106 250.75137208 243.63999722\n",
            " 239.9960677  251.37125343 244.09792154 ...]\n",
            "Run : 9\n",
            "(7_w,15)-aCMA-ES (mu_w=4.5,w_1=34%) in dimension 50 (seed=909705, Mon Apr 13 14:54:10 2020)\n",
            "Iterat #Fevals   function value  axis ratio  sigma  min&max std  t[m:s]\n",
            "    1     15 4.647342551917639e+03 1.0e+00 2.55e-01  3e-01  3e-01 0:00.0\n",
            "    2     30 4.647341594342602e+03 1.0e+00 2.46e-01  2e-01  2e-01 0:00.0\n",
            "    3     45 4.647341823120260e+03 1.0e+00 2.41e-01  2e-01  2e-01 0:00.1\n"
          ],
          "name": "stdout"
        },
        {
          "output_type": "stream",
          "text": [
            "/usr/local/lib/python3.6/dist-packages/cma/utilities/utils.py:333: UserWarning: function_values is not a list of scalars,\n",
            "                        the first element equals [4647.34355245] with non-scalar type <class 'numpy.ndarray'>.\n",
            "                        Using now ``[v[0] for v in function_values]`` instead (further warnings are suppressed) ()\n",
            "  ')')\n",
            "/usr/local/lib/python3.6/dist-packages/cma/utilities/utils.py:333: UserWarning: function_values is not a list of scalars,\n",
            "                        the first element equals [4647.34283011] with non-scalar type <class 'numpy.ndarray'>.\n",
            "                        Using now ``[v[0] for v in function_values]`` instead (further warnings are suppressed) ()\n",
            "  ')')\n"
          ],
          "name": "stderr"
        },
        {
          "output_type": "stream",
          "text": [
            "  100   1500 2.865227837851780e+03 1.5e+00 4.11e-02  4e-02  4e-02 0:02.0\n",
            "  200   3000 2.716010555334537e+03 1.5e+00 2.67e-03  2e-03  3e-03 0:03.9\n",
            "  300   4500 2.715176547622213e+03 1.6e+00 1.80e-04  2e-04  2e-04 0:05.9\n",
            "  400   6000 2.715174399139828e+03 1.6e+00 1.11e-05  9e-06  1e-05 0:07.9\n",
            "  500   7500 2.715174385998455e+03 1.7e+00 8.30e-07  6e-07  7e-07 0:09.8\n",
            "  600   9000 2.715174385941312e+03 1.7e+00 5.37e-08  4e-08  5e-08 0:11.8\n",
            "  700  10500 2.715174385941112e+03 1.7e+00 4.11e-09  3e-09  4e-09 0:13.7\n",
            "  762  11430 2.715174385941111e+03 1.8e+00 1.94e-09  1e-09  2e-09 0:14.9\n",
            "termination on tolfun=1e-11 (Mon Apr 13 14:54:28 2020)\n",
            "final/bestever f-value = 2.715174e+03 2.715174e+03\n",
            "incumbent solution: [ 0.04675072  0.02542598 -0.14006053 -0.03997052 -0.02560333  0.01900347\n",
            " -0.06408277 -0.04565248 ...]\n",
            "std deviations: [1.50789516e-09 1.42061595e-09 1.53410332e-09 1.53691148e-09\n",
            " 1.44656789e-09 1.58249107e-09 1.48199637e-09 1.52366504e-09 ...]\n",
            "(7_w,15)-aCMA-ES (mu_w=4.5,w_1=34%) in dimension 50 (seed=875275, Mon Apr 13 14:54:28 2020)\n",
            "Iterat #Fevals   function value  axis ratio  sigma  min&max std  t[m:s]\n",
            "    1     15 4.649697134770776e+03 1.0e+00 2.53e-01  3e-01  3e-01 0:00.0\n",
            "    2     30 4.649697134897805e+03 1.0e+00 2.45e-01  2e-01  2e-01 0:00.0\n",
            "    3     45 4.649697130817121e+03 1.0e+00 2.38e-01  2e-01  2e-01 0:00.0\n"
          ],
          "name": "stdout"
        },
        {
          "output_type": "stream",
          "text": [
            "/usr/local/lib/python3.6/dist-packages/cma/utilities/utils.py:333: UserWarning: function_values is not a list of scalars,\n",
            "                        the first element equals [4649.69713495] with non-scalar type <class 'numpy.ndarray'>.\n",
            "                        Using now ``[v[0] for v in function_values]`` instead (further warnings are suppressed) ()\n",
            "  ')')\n",
            "/usr/local/lib/python3.6/dist-packages/cma/utilities/utils.py:333: UserWarning: function_values is not a list of scalars,\n",
            "                        the first element equals [4649.69713494] with non-scalar type <class 'numpy.ndarray'>.\n",
            "                        Using now ``[v[0] for v in function_values]`` instead (further warnings are suppressed) ()\n",
            "  ')')\n"
          ],
          "name": "stderr"
        },
        {
          "output_type": "stream",
          "text": [
            "  100   1500 4.045885872316780e+03 1.4e+00 2.97e-02  3e-02  3e-02 0:01.4\n",
            "  200   3000 3.994991860182762e+03 1.4e+00 1.58e-03  1e-03  2e-03 0:02.7\n",
            "  300   4500 3.994836601984843e+03 1.5e+00 9.64e-05  8e-05  9e-05 0:04.1\n",
            "  400   6000 3.994836070131555e+03 1.5e+00 6.57e-06  5e-06  6e-06 0:05.5\n",
            "  500   7500 3.994836068459694e+03 1.6e+00 4.35e-07  3e-07  4e-07 0:06.9\n",
            "  600   9000 3.994836068450345e+03 1.6e+00 2.98e-08  2e-08  3e-08 0:08.2\n",
            "  700  10500 3.994836068450310e+03 1.7e+00 4.01e-09  3e-09  3e-09 0:09.6\n",
            "  736  11040 3.994836068450308e+03 1.8e+00 3.24e-09  2e-09  3e-09 0:10.1\n",
            "termination on tolfun=1e-11 (Mon Apr 13 14:54:40 2020)\n",
            "final/bestever f-value = 3.994836e+03 3.994836e+03\n",
            "incumbent solution: [ 0.41603758  0.39726235 -0.13214832  0.44279941  0.40479205  0.45548758\n",
            "  0.11560695  0.05886013 ...]\n",
            "std deviations: [2.44588823e-09 2.43742854e-09 2.57722772e-09 2.59250126e-09\n",
            " 2.52728995e-09 2.90756149e-09 2.51497214e-09 2.55517004e-09 ...]\n",
            "(7_w,15)-aCMA-ES (mu_w=4.5,w_1=34%) in dimension 50 (seed=920335, Mon Apr 13 14:54:40 2020)\n",
            "Iterat #Fevals   function value  axis ratio  sigma  min&max std  t[m:s]\n",
            "    1     15 6.569568059894624e+03 1.0e+00 2.53e-01  3e-01  3e-01 0:00.0\n",
            "    2     30 6.494061464620268e+03 1.0e+00 2.43e-01  2e-01  2e-01 0:00.0\n",
            "    3     45 6.165001942403908e+03 1.0e+00 2.37e-01  2e-01  2e-01 0:00.0\n"
          ],
          "name": "stdout"
        },
        {
          "output_type": "stream",
          "text": [
            "/usr/local/lib/python3.6/dist-packages/cma/utilities/utils.py:333: UserWarning: function_values is not a list of scalars,\n",
            "                        the first element equals [7265.42862015] with non-scalar type <class 'numpy.ndarray'>.\n",
            "                        Using now ``[v[0] for v in function_values]`` instead (further warnings are suppressed) ()\n",
            "  ')')\n",
            "/usr/local/lib/python3.6/dist-packages/cma/utilities/utils.py:333: UserWarning: function_values is not a list of scalars,\n",
            "                        the first element equals [6744.14704685] with non-scalar type <class 'numpy.ndarray'>.\n",
            "                        Using now ``[v[0] for v in function_values]`` instead (further warnings are suppressed) ()\n",
            "  ')')\n"
          ],
          "name": "stderr"
        },
        {
          "output_type": "stream",
          "text": [
            "  100   1500 -3.970411124683917e+07 1.9e+00 2.24e+01  2e+01  2e+01 0:01.9\n",
            "  142   2130 -5.927785219700747e+09 2.1e+00 2.56e+02  2e+02  3e+02 0:02.7\n",
            "termination on tolfacupx=1000.0 (Mon Apr 13 14:54:44 2020)\n",
            "final/bestever f-value = -5.679541e+09 -5.927785e+09\n",
            "incumbent solution: [  -52.59555285   -39.10874399  -214.23812434   508.55685598\n",
            " -2227.20636295   161.91613007  -435.34121131 -1558.60240779 ...]\n",
            "std deviations: [244.8152472  246.39517775 244.89878931 244.65500003 269.31653779\n",
            " 252.11397273 248.61095553 256.76738319 ...]\n",
            "Run : 10\n",
            "(7_w,15)-aCMA-ES (mu_w=4.5,w_1=34%) in dimension 50 (seed=822311, Mon Apr 13 14:54:44 2020)\n",
            "Iterat #Fevals   function value  axis ratio  sigma  min&max std  t[m:s]\n",
            "    1     15 4.647213358363159e+03 1.0e+00 2.56e-01  3e-01  3e-01 0:00.0\n",
            "    2     30 4.647172375924490e+03 1.0e+00 2.46e-01  2e-01  2e-01 0:00.0\n",
            "    3     45 4.647024520775089e+03 1.1e+00 2.42e-01  2e-01  2e-01 0:00.1\n"
          ],
          "name": "stdout"
        },
        {
          "output_type": "stream",
          "text": [
            "/usr/local/lib/python3.6/dist-packages/cma/utilities/utils.py:333: UserWarning: function_values is not a list of scalars,\n",
            "                        the first element equals [4647.43303396] with non-scalar type <class 'numpy.ndarray'>.\n",
            "                        Using now ``[v[0] for v in function_values]`` instead (further warnings are suppressed) ()\n",
            "  ')')\n",
            "/usr/local/lib/python3.6/dist-packages/cma/utilities/utils.py:333: UserWarning: function_values is not a list of scalars,\n",
            "                        the first element equals [4647.33693719] with non-scalar type <class 'numpy.ndarray'>.\n",
            "                        Using now ``[v[0] for v in function_values]`` instead (further warnings are suppressed) ()\n",
            "  ')')\n"
          ],
          "name": "stderr"
        },
        {
          "output_type": "stream",
          "text": [
            "  100   1500 2.780922518693483e+03 1.4e+00 2.89e-02  3e-02  3e-02 0:02.0\n",
            "  200   3000 2.715393588023023e+03 1.4e+00 1.56e-03  1e-03  2e-03 0:03.9\n",
            "  300   4500 2.715174998436429e+03 1.5e+00 9.01e-05  8e-05  9e-05 0:05.9\n",
            "  400   6000 2.715174387967040e+03 1.5e+00 5.13e-06  4e-06  5e-06 0:07.8\n",
            "  500   7500 2.715174385953212e+03 1.5e+00 4.02e-07  3e-07  4e-07 0:09.7\n",
            "  600   9000 2.715174385941141e+03 1.6e+00 2.19e-08  2e-08  2e-08 0:11.7\n",
            "  700  10500 2.715174385941112e+03 1.6e+00 2.32e-09  2e-09  2e-09 0:13.6\n",
            "  729  10935 2.715174385941112e+03 1.7e+00 1.91e-09  1e-09  2e-09 0:14.2\n",
            "termination on tolfun=1e-11 (Mon Apr 13 14:55:00 2020)\n",
            "final/bestever f-value = 2.715174e+03 2.715174e+03\n",
            "incumbent solution: [ 0.04675071  0.02542598 -0.14006052 -0.03997052 -0.02560333  0.01900346\n",
            " -0.06408277 -0.04565247 ...]\n",
            "std deviations: [1.58895698e-09 1.44718317e-09 1.48611990e-09 1.56324227e-09\n",
            " 1.55166877e-09 1.62427063e-09 1.49158219e-09 1.47735212e-09 ...]\n",
            "(7_w,15)-aCMA-ES (mu_w=4.5,w_1=34%) in dimension 50 (seed=912408, Mon Apr 13 14:55:00 2020)\n",
            "Iterat #Fevals   function value  axis ratio  sigma  min&max std  t[m:s]\n",
            "    1     15 4.649696986949079e+03 1.0e+00 2.55e-01  3e-01  3e-01 0:00.0\n",
            "    2     30 4.649697091139045e+03 1.0e+00 2.47e-01  2e-01  2e-01 0:00.0\n",
            "    3     45 4.649696683650030e+03 1.0e+00 2.40e-01  2e-01  2e-01 0:00.0\n"
          ],
          "name": "stdout"
        },
        {
          "output_type": "stream",
          "text": [
            "/usr/local/lib/python3.6/dist-packages/cma/utilities/utils.py:333: UserWarning: function_values is not a list of scalars,\n",
            "                        the first element equals [4649.6971347] with non-scalar type <class 'numpy.ndarray'>.\n",
            "                        Using now ``[v[0] for v in function_values]`` instead (further warnings are suppressed) ()\n",
            "  ')')\n",
            "/usr/local/lib/python3.6/dist-packages/cma/utilities/utils.py:333: UserWarning: function_values is not a list of scalars,\n",
            "                        the first element equals [4649.69713493] with non-scalar type <class 'numpy.ndarray'>.\n",
            "                        Using now ``[v[0] for v in function_values]`` instead (further warnings are suppressed) ()\n",
            "  ')')\n"
          ],
          "name": "stderr"
        },
        {
          "output_type": "stream",
          "text": [
            "  100   1500 4.020697347180465e+03 1.3e+00 2.17e-02  2e-02  2e-02 0:01.4\n",
            "  200   3000 3.994887332948663e+03 1.4e+00 1.01e-03  9e-04  1e-03 0:02.8\n",
            "  300   4500 3.994836386820583e+03 1.4e+00 6.58e-05  5e-05  6e-05 0:04.1\n",
            "  400   6000 3.994836069089702e+03 1.5e+00 3.78e-06  3e-06  3e-06 0:05.5\n",
            "  500   7500 3.994836068453901e+03 1.6e+00 2.71e-07  2e-07  2e-07 0:06.9\n",
            "  600   9000 3.994836068450324e+03 1.6e+00 1.78e-08  1e-08  2e-08 0:08.3\n",
            "  700  10500 3.994836068450309e+03 1.7e+00 3.59e-09  3e-09  3e-09 0:09.6\n",
            "  719  10785 3.994836068450309e+03 1.8e+00 3.23e-09  2e-09  3e-09 0:09.9\n",
            "termination on tolfun=1e-11 (Mon Apr 13 14:55:13 2020)\n",
            "final/bestever f-value = 3.994836e+03 3.994836e+03\n",
            "incumbent solution: [ 0.41603758  0.39726237 -0.13214833  0.4427994   0.40479205  0.45548759\n",
            "  0.11560696  0.05886014 ...]\n",
            "std deviations: [2.56012997e-09 2.51567763e-09 2.52657471e-09 2.56638199e-09\n",
            " 2.33001063e-09 2.80050623e-09 2.58187147e-09 2.53004898e-09 ...]\n",
            "(7_w,15)-aCMA-ES (mu_w=4.5,w_1=34%) in dimension 50 (seed=897689, Mon Apr 13 14:55:13 2020)\n",
            "Iterat #Fevals   function value  axis ratio  sigma  min&max std  t[m:s]\n",
            "    1     15 5.923603290125424e+03 1.0e+00 2.55e-01  3e-01  3e-01 0:00.0\n",
            "    2     30 5.621423878754211e+03 1.0e+00 2.46e-01  2e-01  2e-01 0:00.0\n",
            "    3     45 5.054093156861720e+03 1.1e+00 2.41e-01  2e-01  2e-01 0:00.1\n"
          ],
          "name": "stdout"
        },
        {
          "output_type": "stream",
          "text": [
            "/usr/local/lib/python3.6/dist-packages/cma/utilities/utils.py:333: UserWarning: function_values is not a list of scalars,\n",
            "                        the first element equals [6497.54716785] with non-scalar type <class 'numpy.ndarray'>.\n",
            "                        Using now ``[v[0] for v in function_values]`` instead (further warnings are suppressed) ()\n",
            "  ')')\n",
            "/usr/local/lib/python3.6/dist-packages/cma/utilities/utils.py:333: UserWarning: function_values is not a list of scalars,\n",
            "                        the first element equals [6427.2073384] with non-scalar type <class 'numpy.ndarray'>.\n",
            "                        Using now ``[v[0] for v in function_values]`` instead (further warnings are suppressed) ()\n",
            "  ')')\n"
          ],
          "name": "stderr"
        },
        {
          "output_type": "stream",
          "text": [
            "  100   1500 -2.043054753090160e+08 1.7e+00 5.48e+01  5e+01  6e+01 0:01.9\n",
            "  120   1800 -4.318919697678271e+09 1.7e+00 2.66e+02  3e+02  3e+02 0:02.3\n",
            "termination on tolfacupx=1000.0 (Mon Apr 13 14:55:15 2020)\n",
            "final/bestever f-value = -4.331060e+09 -4.331060e+09\n",
            "incumbent solution: [ -824.43433871    55.54897115 -1112.10496199  -895.87948896\n",
            "   -96.72327881  1626.3926368    365.21779582 -1061.99633204 ...]\n",
            "std deviations: [263.35765596 258.90128407 270.78742502 254.45186444 255.3981515\n",
            " 268.6715665  255.41955505 257.54692432 ...]\n",
            "Run : 11\n",
            "(7_w,15)-aCMA-ES (mu_w=4.5,w_1=34%) in dimension 50 (seed=891207, Mon Apr 13 14:55:16 2020)\n",
            "Iterat #Fevals   function value  axis ratio  sigma  min&max std  t[m:s]\n",
            "    1     15 4.647342815925454e+03 1.0e+00 2.53e-01  3e-01  3e-01 0:00.0\n",
            "    2     30 4.647342598473720e+03 1.0e+00 2.43e-01  2e-01  2e-01 0:00.0\n",
            "    3     45 4.647338176490561e+03 1.0e+00 2.34e-01  2e-01  2e-01 0:00.1\n"
          ],
          "name": "stdout"
        },
        {
          "output_type": "stream",
          "text": [
            "/usr/local/lib/python3.6/dist-packages/cma/utilities/utils.py:333: UserWarning: function_values is not a list of scalars,\n",
            "                        the first element equals [4647.34368691] with non-scalar type <class 'numpy.ndarray'>.\n",
            "                        Using now ``[v[0] for v in function_values]`` instead (further warnings are suppressed) ()\n",
            "  ')')\n",
            "/usr/local/lib/python3.6/dist-packages/cma/utilities/utils.py:333: UserWarning: function_values is not a list of scalars,\n",
            "                        the first element equals [4647.34339535] with non-scalar type <class 'numpy.ndarray'>.\n",
            "                        Using now ``[v[0] for v in function_values]`` instead (further warnings are suppressed) ()\n",
            "  ')')\n"
          ],
          "name": "stderr"
        },
        {
          "output_type": "stream",
          "text": [
            "  100   1500 2.899368517021983e+03 1.5e+00 4.88e-02  5e-02  5e-02 0:01.9\n",
            "  200   3000 2.716314852372487e+03 1.6e+00 3.24e-03  3e-03  3e-03 0:03.9\n",
            "  300   4500 2.715177841739782e+03 1.6e+00 2.07e-04  2e-04  2e-04 0:05.8\n",
            "  400   6000 2.715174392830225e+03 1.6e+00 1.16e-05  9e-06  1e-05 0:07.7\n",
            "  500   7500 2.715174385981109e+03 1.6e+00 6.93e-07  5e-07  6e-07 0:09.7\n",
            "  600   9000 2.715174385941240e+03 1.6e+00 5.10e-08  4e-08  5e-08 0:11.6\n",
            "  700  10500 2.715174385941112e+03 1.7e+00 4.39e-09  3e-09  4e-09 0:13.6\n",
            "  763  11445 2.715174385941111e+03 1.8e+00 2.39e-09  2e-09  2e-09 0:14.8\n",
            "termination on tolfun=1e-11 (Mon Apr 13 14:55:33 2020)\n",
            "final/bestever f-value = 2.715174e+03 2.715174e+03\n",
            "incumbent solution: [ 0.04675072  0.02542598 -0.14006053 -0.03997052 -0.02560333  0.01900345\n",
            " -0.06408277 -0.04565247 ...]\n",
            "std deviations: [1.91555877e-09 1.72495080e-09 1.80708465e-09 1.87922003e-09\n",
            " 1.70887889e-09 1.92703911e-09 1.87643190e-09 1.76105496e-09 ...]\n",
            "(7_w,15)-aCMA-ES (mu_w=4.5,w_1=34%) in dimension 50 (seed=890487, Mon Apr 13 14:55:33 2020)\n",
            "Iterat #Fevals   function value  axis ratio  sigma  min&max std  t[m:s]\n",
            "    1     15 4.649697132852455e+03 1.0e+00 2.54e-01  3e-01  3e-01 0:00.0\n",
            "    2     30 4.649697130523708e+03 1.0e+00 2.43e-01  2e-01  2e-01 0:00.0\n",
            "    3     45 4.649697127229848e+03 1.0e+00 2.35e-01  2e-01  2e-01 0:00.0\n"
          ],
          "name": "stdout"
        },
        {
          "output_type": "stream",
          "text": [
            "/usr/local/lib/python3.6/dist-packages/cma/utilities/utils.py:333: UserWarning: function_values is not a list of scalars,\n",
            "                        the first element equals [4649.69713495] with non-scalar type <class 'numpy.ndarray'>.\n",
            "                        Using now ``[v[0] for v in function_values]`` instead (further warnings are suppressed) ()\n",
            "  ')')\n",
            "/usr/local/lib/python3.6/dist-packages/cma/utilities/utils.py:333: UserWarning: function_values is not a list of scalars,\n",
            "                        the first element equals [4649.69713485] with non-scalar type <class 'numpy.ndarray'>.\n",
            "                        Using now ``[v[0] for v in function_values]`` instead (further warnings are suppressed) ()\n",
            "  ')')\n"
          ],
          "name": "stderr"
        },
        {
          "output_type": "stream",
          "text": [
            "  100   1500 3.898154284787842e+03 1.4e+00 2.55e-02  2e-02  3e-02 0:01.4\n",
            "  200   3000 3.859607836733164e+03 1.5e+00 1.57e-03  1e-03  2e-03 0:02.7\n",
            "  300   4500 3.859475099164602e+03 1.5e+00 7.10e-05  6e-05  7e-05 0:04.1\n",
            "  400   6000 3.859474783139040e+03 1.5e+00 3.36e-06  3e-06  3e-06 0:05.4\n",
            "  500   7500 3.859474782130307e+03 1.6e+00 2.35e-07  2e-07  2e-07 0:06.8\n",
            "  600   9000 3.859474782127303e+03 1.6e+00 1.30e-08  1e-08  1e-08 0:08.2\n",
            "  700  10500 3.859474782127293e+03 1.8e+00 2.55e-09  2e-09  2e-09 0:09.5\n",
            "  713  10695 3.859474782127293e+03 1.8e+00 2.25e-09  2e-09  2e-09 0:09.7\n",
            "termination on tolfun=1e-11 (Mon Apr 13 14:55:45 2020)\n",
            "final/bestever f-value = 3.859475e+03 3.859475e+03\n",
            "incumbent solution: [-0.20965541  0.23430563 -0.1894167   0.19926813  0.16801466 -0.18444435\n",
            "  0.18802589  0.13200741 ...]\n",
            "std deviations: [1.78779762e-09 1.67812272e-09 1.85826149e-09 1.80679973e-09\n",
            " 1.68502798e-09 1.76296958e-09 1.73904160e-09 1.74668094e-09 ...]\n",
            "(7_w,15)-aCMA-ES (mu_w=4.5,w_1=34%) in dimension 50 (seed=949295, Mon Apr 13 14:55:45 2020)\n",
            "Iterat #Fevals   function value  axis ratio  sigma  min&max std  t[m:s]\n",
            "    1     15 5.939118021574395e+03 1.0e+00 2.54e-01  3e-01  3e-01 0:00.0\n",
            "    2     30 5.710076621642135e+03 1.0e+00 2.46e-01  2e-01  2e-01 0:00.0\n",
            "    3     45 5.384524802192996e+03 1.1e+00 2.41e-01  2e-01  2e-01 0:00.1\n"
          ],
          "name": "stdout"
        },
        {
          "output_type": "stream",
          "text": [
            "/usr/local/lib/python3.6/dist-packages/cma/utilities/utils.py:333: UserWarning: function_values is not a list of scalars,\n",
            "                        the first element equals [5939.11802157] with non-scalar type <class 'numpy.ndarray'>.\n",
            "                        Using now ``[v[0] for v in function_values]`` instead (further warnings are suppressed) ()\n",
            "  ')')\n",
            "/usr/local/lib/python3.6/dist-packages/cma/utilities/utils.py:333: UserWarning: function_values is not a list of scalars,\n",
            "                        the first element equals [6530.5856558] with non-scalar type <class 'numpy.ndarray'>.\n",
            "                        Using now ``[v[0] for v in function_values]`` instead (further warnings are suppressed) ()\n",
            "  ')')\n"
          ],
          "name": "stderr"
        },
        {
          "output_type": "stream",
          "text": [
            "  100   1500 -2.468538224938034e+08 1.7e+00 5.34e+01  5e+01  6e+01 0:01.9\n",
            "  127   1905 -5.576590304252265e+09 1.8e+00 2.75e+02  3e+02  3e+02 0:02.4\n",
            "termination on tolfacupx=1000.0 (Mon Apr 13 14:55:48 2020)\n",
            "final/bestever f-value = -5.678239e+09 -5.678239e+09\n",
            "incumbent solution: [ -932.66619318   141.87027824 -1005.78035127  -715.36693736\n",
            "    32.02707082  1395.24710119  -765.35511103  -862.21340708 ...]\n",
            "std deviations: [269.41549599 272.80687868 265.03346849 264.27517726 263.18212857\n",
            " 265.51240066 265.12410406 268.23965646 ...]\n",
            "Run : 12\n",
            "(7_w,15)-aCMA-ES (mu_w=4.5,w_1=34%) in dimension 50 (seed=912666, Mon Apr 13 14:55:48 2020)\n",
            "Iterat #Fevals   function value  axis ratio  sigma  min&max std  t[m:s]\n",
            "    1     15 4.647342165259111e+03 1.0e+00 2.57e-01  3e-01  3e-01 0:00.0\n",
            "    2     30 4.647338738079751e+03 1.0e+00 2.49e-01  2e-01  2e-01 0:00.0\n",
            "    3     45 4.647334304226770e+03 1.1e+00 2.42e-01  2e-01  2e-01 0:00.1\n"
          ],
          "name": "stdout"
        },
        {
          "output_type": "stream",
          "text": [
            "/usr/local/lib/python3.6/dist-packages/cma/utilities/utils.py:333: UserWarning: function_values is not a list of scalars,\n",
            "                        the first element equals [4647.34221067] with non-scalar type <class 'numpy.ndarray'>.\n",
            "                        Using now ``[v[0] for v in function_values]`` instead (further warnings are suppressed) ()\n",
            "  ')')\n",
            "/usr/local/lib/python3.6/dist-packages/cma/utilities/utils.py:333: UserWarning: function_values is not a list of scalars,\n",
            "                        the first element equals [4647.34375202] with non-scalar type <class 'numpy.ndarray'>.\n",
            "                        Using now ``[v[0] for v in function_values]`` instead (further warnings are suppressed) ()\n",
            "  ')')\n"
          ],
          "name": "stderr"
        },
        {
          "output_type": "stream",
          "text": [
            "  100   1500 2.778166784251811e+03 1.4e+00 2.93e-02  3e-02  3e-02 0:01.9\n",
            "  200   3000 2.715319253718827e+03 1.5e+00 1.44e-03  1e-03  1e-03 0:03.9\n",
            "  300   4500 2.715174760565208e+03 1.5e+00 6.91e-05  6e-05  7e-05 0:05.8\n",
            "  400   6000 2.715174388020142e+03 1.5e+00 5.23e-06  4e-06  5e-06 0:07.8\n",
            "  500   7500 2.715174385948978e+03 1.6e+00 3.39e-07  3e-07  3e-07 0:09.7\n",
            "  600   9000 2.715174385941131e+03 1.6e+00 1.86e-08  1e-08  2e-08 0:11.7\n",
            "  700  10500 2.715174385941112e+03 1.7e+00 2.18e-09  2e-09  2e-09 0:13.7\n",
            "  726  10890 2.715174385941111e+03 1.7e+00 1.53e-09  1e-09  1e-09 0:14.2\n",
            "termination on tolfun=1e-11 (Mon Apr 13 14:56:05 2020)\n",
            "final/bestever f-value = 2.715174e+03 2.715174e+03\n",
            "incumbent solution: [ 0.04675071  0.02542598 -0.14006052 -0.03997052 -0.02560333  0.01900346\n",
            " -0.06408278 -0.04565247 ...]\n",
            "std deviations: [1.20311651e-09 1.21134112e-09 1.21663160e-09 1.23196960e-09\n",
            " 1.16879072e-09 1.26075348e-09 1.19367527e-09 1.21366880e-09 ...]\n",
            "(7_w,15)-aCMA-ES (mu_w=4.5,w_1=34%) in dimension 50 (seed=871278, Mon Apr 13 14:56:05 2020)\n",
            "Iterat #Fevals   function value  axis ratio  sigma  min&max std  t[m:s]\n",
            "    1     15 4.649697134827683e+03 1.0e+00 2.54e-01  3e-01  3e-01 0:00.0\n",
            "    2     30 4.649697126371226e+03 1.0e+00 2.45e-01  2e-01  2e-01 0:00.0\n",
            "    3     45 4.649697115111197e+03 1.1e+00 2.36e-01  2e-01  2e-01 0:00.0\n"
          ],
          "name": "stdout"
        },
        {
          "output_type": "stream",
          "text": [
            "/usr/local/lib/python3.6/dist-packages/cma/utilities/utils.py:333: UserWarning: function_values is not a list of scalars,\n",
            "                        the first element equals [4649.69713498] with non-scalar type <class 'numpy.ndarray'>.\n",
            "                        Using now ``[v[0] for v in function_values]`` instead (further warnings are suppressed) ()\n",
            "  ')')\n",
            "/usr/local/lib/python3.6/dist-packages/cma/utilities/utils.py:333: UserWarning: function_values is not a list of scalars,\n",
            "                        the first element equals [4649.69713494] with non-scalar type <class 'numpy.ndarray'>.\n",
            "                        Using now ``[v[0] for v in function_values]`` instead (further warnings are suppressed) ()\n",
            "  ')')\n"
          ],
          "name": "stderr"
        },
        {
          "output_type": "stream",
          "text": [
            "  100   1500 4.034446358597588e+03 1.4e+00 2.40e-02  2e-02  2e-02 0:01.4\n",
            "  200   3000 3.994940395327434e+03 1.4e+00 1.20e-03  1e-03  1e-03 0:02.7\n",
            "  300   4500 3.994836263494013e+03 1.5e+00 6.76e-05  6e-05  6e-05 0:04.1\n",
            "  400   6000 3.994836069526781e+03 1.5e+00 4.37e-06  3e-06  4e-06 0:05.5\n",
            "  500   7500 3.994836068454059e+03 1.6e+00 2.76e-07  2e-07  3e-07 0:06.8\n",
            "  600   9000 3.994836068450315e+03 1.6e+00 1.44e-08  1e-08  1e-08 0:08.2\n",
            "  700  10500 3.994836068450307e+03 1.7e+00 3.70e-09  3e-09  3e-09 0:09.6\n",
            "  707  10605 3.994836068450308e+03 1.7e+00 3.49e-09  2e-09  3e-09 0:09.7\n",
            "termination on tolfun=1e-11 (Mon Apr 13 14:56:17 2020)\n",
            "final/bestever f-value = 3.994836e+03 3.994836e+03\n",
            "incumbent solution: [ 0.41603757  0.39726237 -0.13214833  0.44279941  0.40479206  0.45548758\n",
            "  0.11560697  0.05886012 ...]\n",
            "std deviations: [2.79684716e-09 2.59129818e-09 2.85386857e-09 2.67853718e-09\n",
            " 2.70785722e-09 3.00487178e-09 2.74271755e-09 2.67295555e-09 ...]\n",
            "(7_w,15)-aCMA-ES (mu_w=4.5,w_1=34%) in dimension 50 (seed=872220, Mon Apr 13 14:56:17 2020)\n",
            "Iterat #Fevals   function value  axis ratio  sigma  min&max std  t[m:s]\n",
            "    1     15 6.345602886617161e+03 1.0e+00 2.54e-01  3e-01  3e-01 0:00.0\n",
            "    2     30 6.174174793620732e+03 1.0e+00 2.44e-01  2e-01  2e-01 0:00.0\n",
            "    3     45 5.945963989039515e+03 1.0e+00 2.37e-01  2e-01  2e-01 0:00.1\n"
          ],
          "name": "stdout"
        },
        {
          "output_type": "stream",
          "text": [
            "/usr/local/lib/python3.6/dist-packages/cma/utilities/utils.py:333: UserWarning: function_values is not a list of scalars,\n",
            "                        the first element equals [7509.28113599] with non-scalar type <class 'numpy.ndarray'>.\n",
            "                        Using now ``[v[0] for v in function_values]`` instead (further warnings are suppressed) ()\n",
            "  ')')\n",
            "/usr/local/lib/python3.6/dist-packages/cma/utilities/utils.py:333: UserWarning: function_values is not a list of scalars,\n",
            "                        the first element equals [7108.77123666] with non-scalar type <class 'numpy.ndarray'>.\n",
            "                        Using now ``[v[0] for v in function_values]`` instead (further warnings are suppressed) ()\n",
            "  ')')\n"
          ],
          "name": "stderr"
        },
        {
          "output_type": "stream",
          "text": [
            "  100   1500 -8.500515915976392e+07 1.9e+00 3.09e+01  3e+01  3e+01 0:01.9\n",
            "  130   1950 -5.012443638682359e+09 2.0e+00 2.51e+02  2e+02  3e+02 0:02.5\n",
            "termination on tolfacupx=1000.0 (Mon Apr 13 14:56:20 2020)\n",
            "final/bestever f-value = -5.066869e+09 -5.066869e+09\n",
            "incumbent solution: [ -619.13942882  -784.4179784  -1172.30311616 -1029.60144627\n",
            "  -397.45362137  1102.05696131   211.60222628 -1672.89957724 ...]\n",
            "std deviations: [244.68886994 244.54084834 244.63472395 252.30700289 241.51464471\n",
            " 248.42952494 237.06516897 256.78858471 ...]\n",
            "Run : 13\n",
            "(7_w,15)-aCMA-ES (mu_w=4.5,w_1=34%) in dimension 50 (seed=843979, Mon Apr 13 14:56:20 2020)\n",
            "Iterat #Fevals   function value  axis ratio  sigma  min&max std  t[m:s]\n",
            "    1     15 4.647335822769607e+03 1.0e+00 2.55e-01  3e-01  3e-01 0:00.0\n",
            "    2     30 4.647328795045472e+03 1.0e+00 2.45e-01  2e-01  2e-01 0:00.0\n",
            "    3     45 4.647329786390069e+03 1.0e+00 2.39e-01  2e-01  2e-01 0:00.1\n"
          ],
          "name": "stdout"
        },
        {
          "output_type": "stream",
          "text": [
            "/usr/local/lib/python3.6/dist-packages/cma/utilities/utils.py:333: UserWarning: function_values is not a list of scalars,\n",
            "                        the first element equals [4647.34484299] with non-scalar type <class 'numpy.ndarray'>.\n",
            "                        Using now ``[v[0] for v in function_values]`` instead (further warnings are suppressed) ()\n",
            "  ')')\n",
            "/usr/local/lib/python3.6/dist-packages/cma/utilities/utils.py:333: UserWarning: function_values is not a list of scalars,\n",
            "                        the first element equals [4647.34521657] with non-scalar type <class 'numpy.ndarray'>.\n",
            "                        Using now ``[v[0] for v in function_values]`` instead (further warnings are suppressed) ()\n",
            "  ')')\n"
          ],
          "name": "stderr"
        },
        {
          "output_type": "stream",
          "text": [
            "  100   1500 2.901810818680754e+03 1.5e+00 4.30e-02  4e-02  4e-02 0:02.0\n",
            "  200   3000 2.716103773610476e+03 1.5e+00 2.75e-03  2e-03  3e-03 0:03.9\n",
            "  300   4500 2.715176865563432e+03 1.5e+00 1.71e-04  1e-04  2e-04 0:05.9\n",
            "  400   6000 2.715174393748031e+03 1.6e+00 9.55e-06  8e-06  9e-06 0:07.8\n",
            "  500   7500 2.715174385963659e+03 1.6e+00 5.40e-07  4e-07  5e-07 0:09.8\n",
            "  600   9000 2.715174385941176e+03 1.7e+00 3.40e-08  3e-08  3e-08 0:11.7\n",
            "  700  10500 2.715174385941112e+03 1.7e+00 2.95e-09  2e-09  3e-09 0:13.7\n",
            "  752  11280 2.715174385941111e+03 1.8e+00 1.62e-09  1e-09  1e-09 0:14.7\n",
            "termination on tolfun=1e-11 (Mon Apr 13 14:56:37 2020)\n",
            "final/bestever f-value = 2.715174e+03 2.715174e+03\n",
            "incumbent solution: [ 0.04675071  0.02542598 -0.14006053 -0.03997052 -0.02560333  0.01900346\n",
            " -0.06408277 -0.04565248 ...]\n",
            "std deviations: [1.22991663e-09 1.21613653e-09 1.31617534e-09 1.25472242e-09\n",
            " 1.23739926e-09 1.33382557e-09 1.24079977e-09 1.28078430e-09 ...]\n",
            "(7_w,15)-aCMA-ES (mu_w=4.5,w_1=34%) in dimension 50 (seed=878743, Mon Apr 13 14:56:37 2020)\n",
            "Iterat #Fevals   function value  axis ratio  sigma  min&max std  t[m:s]\n",
            "    1     15 4.649697110698459e+03 1.0e+00 2.55e-01  3e-01  3e-01 0:00.0\n",
            "    2     30 4.649695311016031e+03 1.0e+00 2.45e-01  2e-01  2e-01 0:00.0\n",
            "    3     45 4.649696676973561e+03 1.1e+00 2.38e-01  2e-01  2e-01 0:00.0\n"
          ],
          "name": "stdout"
        },
        {
          "output_type": "stream",
          "text": [
            "/usr/local/lib/python3.6/dist-packages/cma/utilities/utils.py:333: UserWarning: function_values is not a list of scalars,\n",
            "                        the first element equals [4649.69713615] with non-scalar type <class 'numpy.ndarray'>.\n",
            "                        Using now ``[v[0] for v in function_values]`` instead (further warnings are suppressed) ()\n",
            "  ')')\n",
            "/usr/local/lib/python3.6/dist-packages/cma/utilities/utils.py:333: UserWarning: function_values is not a list of scalars,\n",
            "                        the first element equals [4649.6971373] with non-scalar type <class 'numpy.ndarray'>.\n",
            "                        Using now ``[v[0] for v in function_values]`` instead (further warnings are suppressed) ()\n",
            "  ')')\n"
          ],
          "name": "stderr"
        },
        {
          "output_type": "stream",
          "text": [
            "  100   1500 3.911740753478514e+03 1.4e+00 2.46e-02  2e-02  2e-02 0:01.4\n",
            "  200   3000 3.859693728588580e+03 1.4e+00 1.52e-03  1e-03  1e-03 0:02.7\n",
            "  300   4500 3.859475196861306e+03 1.5e+00 8.78e-05  7e-05  8e-05 0:04.1\n",
            "  400   6000 3.859474783785202e+03 1.6e+00 5.36e-06  4e-06  5e-06 0:05.5\n",
            "  500   7500 3.859474782137077e+03 1.6e+00 3.68e-07  3e-07  3e-07 0:06.8\n",
            "  600   9000 3.859474782127321e+03 1.6e+00 2.29e-08  2e-08  2e-08 0:08.2\n",
            "  700  10500 3.859474782127293e+03 1.7e+00 3.91e-09  3e-09  3e-09 0:09.6\n",
            "  728  10920 3.859474782127292e+03 1.8e+00 2.98e-09  2e-09  3e-09 0:10.0\n",
            "termination on tolfun=1e-11 (Mon Apr 13 14:56:50 2020)\n",
            "final/bestever f-value = 3.859475e+03 3.859475e+03\n",
            "incumbent solution: [-0.20965541  0.23430563 -0.18941671  0.19926812  0.16801466 -0.18444433\n",
            "  0.18802589  0.13200742 ...]\n",
            "std deviations: [2.33529969e-09 2.25609772e-09 2.49135014e-09 2.31264716e-09\n",
            " 2.31248149e-09 2.32633009e-09 2.56461483e-09 2.43669353e-09 ...]\n",
            "(7_w,15)-aCMA-ES (mu_w=4.5,w_1=34%) in dimension 50 (seed=876657, Mon Apr 13 14:56:50 2020)\n",
            "Iterat #Fevals   function value  axis ratio  sigma  min&max std  t[m:s]\n",
            "    1     15 5.818545909423163e+03 1.0e+00 2.53e-01  3e-01  3e-01 0:00.0\n",
            "    2     30 5.603425334726615e+03 1.0e+00 2.45e-01  2e-01  2e-01 0:00.0\n",
            "    3     45 5.153159792398988e+03 1.1e+00 2.42e-01  2e-01  2e-01 0:00.1\n"
          ],
          "name": "stdout"
        },
        {
          "output_type": "stream",
          "text": [
            "/usr/local/lib/python3.6/dist-packages/cma/utilities/utils.py:333: UserWarning: function_values is not a list of scalars,\n",
            "                        the first element equals [6459.11782382] with non-scalar type <class 'numpy.ndarray'>.\n",
            "                        Using now ``[v[0] for v in function_values]`` instead (further warnings are suppressed) ()\n",
            "  ')')\n",
            "/usr/local/lib/python3.6/dist-packages/cma/utilities/utils.py:333: UserWarning: function_values is not a list of scalars,\n",
            "                        the first element equals [6556.51557813] with non-scalar type <class 'numpy.ndarray'>.\n",
            "                        Using now ``[v[0] for v in function_values]`` instead (further warnings are suppressed) ()\n",
            "  ')')\n"
          ],
          "name": "stderr"
        },
        {
          "output_type": "stream",
          "text": [
            "  100   1500 -1.488330655484206e+08 1.9e+00 3.98e+01  4e+01  4e+01 0:01.9\n",
            "  126   1890 -5.187412281983802e+09 2.0e+00 2.64e+02  2e+02  3e+02 0:02.4\n",
            "termination on tolfacupx=1000.0 (Mon Apr 13 14:56:53 2020)\n",
            "final/bestever f-value = -5.266387e+09 -5.266387e+09\n",
            "incumbent solution: [ -225.93377314  -338.16234281 -1133.07182626 -1633.70998235\n",
            "    20.41183604   997.85556517  -801.0645022   -663.33257677 ...]\n",
            "std deviations: [258.18503853 256.82313612 257.13037865 269.6157676  252.12016825\n",
            " 252.11727859 256.6719645  253.49741112 ...]\n",
            "Run : 14\n",
            "(7_w,15)-aCMA-ES (mu_w=4.5,w_1=34%) in dimension 50 (seed=875898, Mon Apr 13 14:56:53 2020)\n",
            "Iterat #Fevals   function value  axis ratio  sigma  min&max std  t[m:s]\n",
            "    1     15 4.647340961102726e+03 1.0e+00 2.55e-01  3e-01  3e-01 0:00.0\n",
            "    2     30 4.647341111565537e+03 1.0e+00 2.46e-01  2e-01  2e-01 0:00.0\n",
            "    3     45 4.647341174118792e+03 1.0e+00 2.41e-01  2e-01  2e-01 0:00.1\n"
          ],
          "name": "stdout"
        },
        {
          "output_type": "stream",
          "text": [
            "/usr/local/lib/python3.6/dist-packages/cma/utilities/utils.py:333: UserWarning: function_values is not a list of scalars,\n",
            "                        the first element equals [4647.34221942] with non-scalar type <class 'numpy.ndarray'>.\n",
            "                        Using now ``[v[0] for v in function_values]`` instead (further warnings are suppressed) ()\n",
            "  ')')\n",
            "/usr/local/lib/python3.6/dist-packages/cma/utilities/utils.py:333: UserWarning: function_values is not a list of scalars,\n",
            "                        the first element equals [4647.34199142] with non-scalar type <class 'numpy.ndarray'>.\n",
            "                        Using now ``[v[0] for v in function_values]`` instead (further warnings are suppressed) ()\n",
            "  ')')\n"
          ],
          "name": "stderr"
        },
        {
          "output_type": "stream",
          "text": [
            "  100   1500 3.002316150264269e+03 1.4e+00 5.08e-02  5e-02  5e-02 0:02.0\n",
            "  200   3000 2.716055858998102e+03 1.5e+00 3.24e-03  3e-03  3e-03 0:03.9\n",
            "  300   4500 2.715177371944463e+03 1.5e+00 1.95e-04  2e-04  2e-04 0:05.9\n",
            "  400   6000 2.715174393970343e+03 1.6e+00 1.16e-05  9e-06  1e-05 0:07.8\n",
            "  500   7500 2.715174385976248e+03 1.6e+00 7.49e-07  6e-07  7e-07 0:09.7\n",
            "  600   9000 2.715174385941234e+03 1.6e+00 4.30e-08  3e-08  4e-08 0:11.7\n",
            "  700  10500 2.715174385941111e+03 1.7e+00 2.57e-09  2e-09  2e-09 0:13.6\n",
            "  747  11205 2.715174385941111e+03 1.7e+00 1.39e-09  1e-09  1e-09 0:14.5\n",
            "termination on tolfun=1e-11 (Mon Apr 13 14:57:10 2020)\n",
            "final/bestever f-value = 2.715174e+03 2.715174e+03\n",
            "incumbent solution: [ 0.04675072  0.02542598 -0.14006053 -0.03997052 -0.02560333  0.01900346\n",
            " -0.06408276 -0.04565247 ...]\n",
            "std deviations: [1.08211179e-09 1.02036582e-09 1.12771223e-09 1.08657729e-09\n",
            " 1.04984652e-09 1.12993002e-09 9.97229656e-10 1.12389376e-09 ...]\n",
            "(7_w,15)-aCMA-ES (mu_w=4.5,w_1=34%) in dimension 50 (seed=900212, Mon Apr 13 14:57:10 2020)\n",
            "Iterat #Fevals   function value  axis ratio  sigma  min&max std  t[m:s]\n",
            "    1     15 4.649697134848826e+03 1.0e+00 2.55e-01  3e-01  3e-01 0:00.0\n",
            "    2     30 4.649697130053323e+03 1.0e+00 2.45e-01  2e-01  2e-01 0:00.0\n",
            "    3     45 4.649697089853352e+03 1.0e+00 2.40e-01  2e-01  2e-01 0:00.0\n"
          ],
          "name": "stdout"
        },
        {
          "output_type": "stream",
          "text": [
            "/usr/local/lib/python3.6/dist-packages/cma/utilities/utils.py:333: UserWarning: function_values is not a list of scalars,\n",
            "                        the first element equals [4649.69713495] with non-scalar type <class 'numpy.ndarray'>.\n",
            "                        Using now ``[v[0] for v in function_values]`` instead (further warnings are suppressed) ()\n",
            "  ')')\n",
            "/usr/local/lib/python3.6/dist-packages/cma/utilities/utils.py:333: UserWarning: function_values is not a list of scalars,\n",
            "                        the first element equals [4649.69713493] with non-scalar type <class 'numpy.ndarray'>.\n",
            "                        Using now ``[v[0] for v in function_values]`` instead (further warnings are suppressed) ()\n",
            "  ')')\n"
          ],
          "name": "stderr"
        },
        {
          "output_type": "stream",
          "text": [
            "  100   1500 4.197739763458097e+03 1.4e+00 2.39e-02  2e-02  2e-02 0:01.4\n",
            "  200   3000 4.174794736387382e+03 1.5e+00 1.21e-03  1e-03  1e-03 0:02.8\n",
            "  300   4500 4.174731643956483e+03 1.5e+00 7.01e-05  6e-05  7e-05 0:04.1\n",
            "  400   6000 4.174731475390988e+03 1.5e+00 4.52e-06  4e-06  4e-06 0:05.5\n",
            "  500   7500 4.174731474870739e+03 1.6e+00 1.92e-07  2e-07  2e-07 0:06.8\n",
            "  600   9000 4.174731474869519e+03 1.6e+00 1.12e-08  8e-09  1e-08 0:08.2\n",
            "  690  10350 4.174731474869516e+03 1.7e+00 3.14e-09  2e-09  3e-09 0:09.5\n",
            "termination on tolfun=1e-11 (Mon Apr 13 14:57:22 2020)\n",
            "final/bestever f-value = 4.174731e+03 4.174731e+03\n",
            "incumbent solution: [ 0.03363367  0.05651833 -0.06186883 -0.00846281  0.04025514 -0.04603139\n",
            " -0.01140646 -0.08156258 ...]\n",
            "std deviations: [2.46405167e-09 2.31604659e-09 2.58559022e-09 2.45320851e-09\n",
            " 2.38603583e-09 2.63558190e-09 2.50363719e-09 2.45571895e-09 ...]\n",
            "(7_w,15)-aCMA-ES (mu_w=4.5,w_1=34%) in dimension 50 (seed=894080, Mon Apr 13 14:57:22 2020)\n",
            "Iterat #Fevals   function value  axis ratio  sigma  min&max std  t[m:s]\n",
            "    1     15 6.780588539780047e+03 1.0e+00 2.58e-01  3e-01  3e-01 0:00.0\n",
            "    2     30 6.786512391019633e+03 1.1e+00 2.51e-01  2e-01  3e-01 0:00.0\n",
            "    3     45 6.249309261436811e+03 1.1e+00 2.46e-01  2e-01  2e-01 0:00.1\n"
          ],
          "name": "stdout"
        },
        {
          "output_type": "stream",
          "text": [
            "/usr/local/lib/python3.6/dist-packages/cma/utilities/utils.py:333: UserWarning: function_values is not a list of scalars,\n",
            "                        the first element equals [7343.64888495] with non-scalar type <class 'numpy.ndarray'>.\n",
            "                        Using now ``[v[0] for v in function_values]`` instead (further warnings are suppressed) ()\n",
            "  ')')\n",
            "/usr/local/lib/python3.6/dist-packages/cma/utilities/utils.py:333: UserWarning: function_values is not a list of scalars,\n",
            "                        the first element equals [7046.41827749] with non-scalar type <class 'numpy.ndarray'>.\n",
            "                        Using now ``[v[0] for v in function_values]`` instead (further warnings are suppressed) ()\n",
            "  ')')\n"
          ],
          "name": "stderr"
        },
        {
          "output_type": "stream",
          "text": [
            "  100   1500 -2.516851083130509e+08 2.1e+00 5.15e+01  5e+01  6e+01 0:01.9\n",
            "  118   1770 -4.596585872928818e+09 2.2e+00 2.41e+02  2e+02  3e+02 0:02.2\n",
            "termination on tolfacupx=1000.0 (Mon Apr 13 14:57:24 2020)\n",
            "final/bestever f-value = -4.478761e+09 -4.596586e+09\n",
            "incumbent solution: [-1235.31292598    30.20683689 -1544.4446248  -1657.79306585\n",
            "   380.74462459   768.19967513  -975.68667507   -38.10909269 ...]\n",
            "std deviations: [252.37099564 235.69315041 257.56787179 255.39256314 234.51410927\n",
            " 233.87758139 239.34230523 229.33561891 ...]\n",
            "Run : 15\n",
            "(7_w,15)-aCMA-ES (mu_w=4.5,w_1=34%) in dimension 50 (seed=947339, Mon Apr 13 14:57:24 2020)\n",
            "Iterat #Fevals   function value  axis ratio  sigma  min&max std  t[m:s]\n",
            "    1     15 4.647259429422685e+03 1.0e+00 2.55e-01  3e-01  3e-01 0:00.0\n",
            "    2     30 4.647075333852613e+03 1.0e+00 2.46e-01  2e-01  2e-01 0:00.0\n",
            "    3     45 4.646916451266790e+03 1.1e+00 2.38e-01  2e-01  2e-01 0:00.1\n"
          ],
          "name": "stdout"
        },
        {
          "output_type": "stream",
          "text": [
            "/usr/local/lib/python3.6/dist-packages/cma/utilities/utils.py:333: UserWarning: function_values is not a list of scalars,\n",
            "                        the first element equals [4647.3320475] with non-scalar type <class 'numpy.ndarray'>.\n",
            "                        Using now ``[v[0] for v in function_values]`` instead (further warnings are suppressed) ()\n",
            "  ')')\n",
            "/usr/local/lib/python3.6/dist-packages/cma/utilities/utils.py:333: UserWarning: function_values is not a list of scalars,\n",
            "                        the first element equals [4647.30659647] with non-scalar type <class 'numpy.ndarray'>.\n",
            "                        Using now ``[v[0] for v in function_values]`` instead (further warnings are suppressed) ()\n",
            "  ')')\n"
          ],
          "name": "stderr"
        },
        {
          "output_type": "stream",
          "text": [
            "  100   1500 2.902419294765700e+03 1.4e+00 3.84e-02  4e-02  4e-02 0:01.9\n",
            "  200   3000 2.716052849860135e+03 1.5e+00 3.24e-03  3e-03  3e-03 0:03.9\n",
            "  300   4500 2.715176594253281e+03 1.6e+00 1.47e-04  1e-04  1e-04 0:05.8\n",
            "  400   6000 2.715174389536079e+03 1.6e+00 8.12e-06  7e-06  7e-06 0:07.8\n",
            "  500   7500 2.715174385963850e+03 1.6e+00 4.89e-07  4e-07  4e-07 0:09.7\n",
            "  600   9000 2.715174385941142e+03 1.6e+00 2.30e-08  2e-08  2e-08 0:11.6\n",
            "  700  10500 2.715174385941112e+03 1.7e+00 2.41e-09  2e-09  2e-09 0:13.5\n"
          ],
          "name": "stdout"
        },
        {
          "output_type": "stream",
          "text": [
            "/usr/local/lib/python3.6/dist-packages/cma/utilities/utils.py:333: UserWarning: flat fitness (f=2715.174386, sigma=2.15e-09).\n",
            "                    For small sigma, this could indicate numerical convergence.\n",
            "                    Otherwise, please (re)consider how to compute the fitness more elaborately. (iteration=714)\n",
            "  ')')\n"
          ],
          "name": "stderr"
        },
        {
          "output_type": "stream",
          "text": [
            "  730  10950 2.715174385941112e+03 1.7e+00 1.83e-09  1e-09  2e-09 0:14.1\n",
            "termination on tolfun=1e-11 (Mon Apr 13 14:57:41 2020)\n",
            "final/bestever f-value = 2.715174e+03 2.715174e+03\n",
            "incumbent solution: [ 0.04675071  0.02542598 -0.14006052 -0.03997052 -0.02560333  0.01900346\n",
            " -0.06408277 -0.04565247 ...]\n",
            "std deviations: [1.40347194e-09 1.40539874e-09 1.42620459e-09 1.45904861e-09\n",
            " 1.41804693e-09 1.51833553e-09 1.39826653e-09 1.48297786e-09 ...]\n",
            "(7_w,15)-aCMA-ES (mu_w=4.5,w_1=34%) in dimension 50 (seed=869353, Mon Apr 13 14:57:41 2020)\n",
            "Iterat #Fevals   function value  axis ratio  sigma  min&max std  t[m:s]\n",
            "    1     15 4.649697039071730e+03 1.0e+00 2.55e-01  3e-01  3e-01 0:00.0\n",
            "    2     30 4.649694978796794e+03 1.0e+00 2.48e-01  2e-01  2e-01 0:00.0\n",
            "    3     45 4.649692750693783e+03 1.1e+00 2.41e-01  2e-01  2e-01 0:00.0\n"
          ],
          "name": "stdout"
        },
        {
          "output_type": "stream",
          "text": [
            "/usr/local/lib/python3.6/dist-packages/cma/utilities/utils.py:333: UserWarning: function_values is not a list of scalars,\n",
            "                        the first element equals [4649.69713754] with non-scalar type <class 'numpy.ndarray'>.\n",
            "                        Using now ``[v[0] for v in function_values]`` instead (further warnings are suppressed) ()\n",
            "  ')')\n",
            "/usr/local/lib/python3.6/dist-packages/cma/utilities/utils.py:333: UserWarning: function_values is not a list of scalars,\n",
            "                        the first element equals [4649.69713401] with non-scalar type <class 'numpy.ndarray'>.\n",
            "                        Using now ``[v[0] for v in function_values]`` instead (further warnings are suppressed) ()\n",
            "  ')')\n"
          ],
          "name": "stderr"
        },
        {
          "output_type": "stream",
          "text": [
            "  100   1500 4.026744652369902e+03 1.4e+00 2.20e-02  2e-02  2e-02 0:01.4\n",
            "  200   3000 3.994913596855336e+03 1.4e+00 1.14e-03  1e-03  1e-03 0:02.8\n",
            "  300   4500 3.994836246353269e+03 1.5e+00 6.04e-05  5e-05  6e-05 0:04.1\n",
            "  400   6000 3.994836069139479e+03 1.5e+00 3.38e-06  3e-06  3e-06 0:05.5\n",
            "  500   7500 3.994836068451982e+03 1.6e+00 2.04e-07  2e-07  2e-07 0:06.9\n",
            "  600   9000 3.994836068450316e+03 1.6e+00 1.09e-08  8e-09  9e-09 0:08.2\n",
            "  700  10500 3.994836068450308e+03 1.8e+00 3.10e-09  2e-09  3e-09 0:09.6\n",
            "  703  10545 3.994836068450308e+03 1.8e+00 3.09e-09  2e-09  3e-09 0:09.7\n",
            "termination on tolfun=1e-11 (Mon Apr 13 14:57:53 2020)\n",
            "final/bestever f-value = 3.994836e+03 3.994836e+03\n",
            "incumbent solution: [ 0.41603757  0.39726236 -0.13214833  0.44279941  0.40479206  0.45548758\n",
            "  0.11560695  0.05886014 ...]\n",
            "std deviations: [2.55146705e-09 2.46615615e-09 2.43582451e-09 2.45748662e-09\n",
            " 2.25468377e-09 2.51093437e-09 2.37777124e-09 2.50915595e-09 ...]\n",
            "(7_w,15)-aCMA-ES (mu_w=4.5,w_1=34%) in dimension 50 (seed=866023, Mon Apr 13 14:57:53 2020)\n",
            "Iterat #Fevals   function value  axis ratio  sigma  min&max std  t[m:s]\n",
            "    1     15 5.160582612933269e+03 1.0e+00 2.55e-01  3e-01  3e-01 0:00.0\n",
            "    2     30 5.131122810729923e+03 1.0e+00 2.45e-01  2e-01  2e-01 0:00.0\n",
            "    3     45 4.891146340813647e+03 1.0e+00 2.38e-01  2e-01  2e-01 0:00.1\n"
          ],
          "name": "stdout"
        },
        {
          "output_type": "stream",
          "text": [
            "/usr/local/lib/python3.6/dist-packages/cma/utilities/utils.py:333: UserWarning: function_values is not a list of scalars,\n",
            "                        the first element equals [6500.62078841] with non-scalar type <class 'numpy.ndarray'>.\n",
            "                        Using now ``[v[0] for v in function_values]`` instead (further warnings are suppressed) ()\n",
            "  ')')\n",
            "/usr/local/lib/python3.6/dist-packages/cma/utilities/utils.py:333: UserWarning: function_values is not a list of scalars,\n",
            "                        the first element equals [5911.23175672] with non-scalar type <class 'numpy.ndarray'>.\n",
            "                        Using now ``[v[0] for v in function_values]`` instead (further warnings are suppressed) ()\n",
            "  ')')\n"
          ],
          "name": "stderr"
        },
        {
          "output_type": "stream",
          "text": [
            "  100   1500 -1.305413978656767e+09 1.7e+00 1.29e+02  1e+02  1e+02 0:01.9\n",
            "  112   1680 -5.263424356136413e+09 1.7e+00 2.59e+02  2e+02  3e+02 0:02.1\n",
            "termination on tolfacupx=1000.0 (Mon Apr 13 14:57:56 2020)\n",
            "final/bestever f-value = -5.303581e+09 -5.303581e+09\n",
            "incumbent solution: [  803.41749236    87.63757605  1347.42069581  1102.93166801\n",
            "   -80.82885496 -1324.44868718   557.06049783   230.93729534 ...]\n",
            "std deviations: [251.43770395 250.54709231 255.62740864 255.85487431 250.58389389\n",
            " 260.278262   244.57392965 250.72989542 ...]\n",
            "Run : 16\n",
            "(7_w,15)-aCMA-ES (mu_w=4.5,w_1=34%) in dimension 50 (seed=898646, Mon Apr 13 14:57:56 2020)\n",
            "Iterat #Fevals   function value  axis ratio  sigma  min&max std  t[m:s]\n",
            "    1     15 4.647344045495010e+03 1.0e+00 2.57e-01  3e-01  3e-01 0:00.0\n",
            "    2     30 4.647342778922757e+03 1.0e+00 2.50e-01  2e-01  3e-01 0:00.0\n",
            "    3     45 4.647342518886748e+03 1.1e+00 2.49e-01  2e-01  2e-01 0:00.1\n"
          ],
          "name": "stdout"
        },
        {
          "output_type": "stream",
          "text": [
            "/usr/local/lib/python3.6/dist-packages/cma/utilities/utils.py:333: UserWarning: function_values is not a list of scalars,\n",
            "                        the first element equals [4647.34507752] with non-scalar type <class 'numpy.ndarray'>.\n",
            "                        Using now ``[v[0] for v in function_values]`` instead (further warnings are suppressed) ()\n",
            "  ')')\n",
            "/usr/local/lib/python3.6/dist-packages/cma/utilities/utils.py:333: UserWarning: function_values is not a list of scalars,\n",
            "                        the first element equals [4647.34552548] with non-scalar type <class 'numpy.ndarray'>.\n",
            "                        Using now ``[v[0] for v in function_values]`` instead (further warnings are suppressed) ()\n",
            "  ')')\n"
          ],
          "name": "stderr"
        },
        {
          "output_type": "stream",
          "text": [
            "  100   1500 2.996327525225779e+03 1.5e+00 5.57e-02  5e-02  6e-02 0:02.0\n",
            "  200   3000 2.715867142913700e+03 1.5e+00 2.89e-03  3e-03  3e-03 0:03.9\n",
            "  300   4500 2.715176153474428e+03 1.5e+00 1.51e-04  1e-04  1e-04 0:05.8\n",
            "  400   6000 2.715174392671469e+03 1.6e+00 8.61e-06  7e-06  8e-06 0:07.8\n",
            "  500   7500 2.715174385977176e+03 1.7e+00 6.47e-07  5e-07  6e-07 0:09.7\n",
            "  600   9000 2.715174385941173e+03 1.7e+00 3.09e-08  2e-08  3e-08 0:11.7\n",
            "  700  10500 2.715174385941111e+03 1.7e+00 3.16e-09  2e-09  3e-09 0:13.6\n",
            "  750  11250 2.715174385941111e+03 1.8e+00 2.24e-09  2e-09  2e-09 0:14.6\n",
            "termination on tolfun=1e-11 (Mon Apr 13 14:58:13 2020)\n",
            "final/bestever f-value = 2.715174e+03 2.715174e+03\n",
            "incumbent solution: [ 0.04675072  0.02542599 -0.14006053 -0.03997051 -0.02560334  0.01900346\n",
            " -0.06408277 -0.04565248 ...]\n",
            "std deviations: [1.71041310e-09 1.67719735e-09 1.88080679e-09 1.71004776e-09\n",
            " 1.74051375e-09 1.79555762e-09 1.82081737e-09 1.74385813e-09 ...]\n",
            "(7_w,15)-aCMA-ES (mu_w=4.5,w_1=34%) in dimension 50 (seed=884926, Mon Apr 13 14:58:13 2020)\n",
            "Iterat #Fevals   function value  axis ratio  sigma  min&max std  t[m:s]\n",
            "    1     15 4.649697130804326e+03 1.0e+00 2.56e-01  3e-01  3e-01 0:00.0\n",
            "    2     30 4.649697133495865e+03 1.0e+00 2.46e-01  2e-01  2e-01 0:00.0\n",
            "    3     45 4.649697101328339e+03 1.1e+00 2.37e-01  2e-01  2e-01 0:00.0\n"
          ],
          "name": "stdout"
        },
        {
          "output_type": "stream",
          "text": [
            "/usr/local/lib/python3.6/dist-packages/cma/utilities/utils.py:333: UserWarning: function_values is not a list of scalars,\n",
            "                        the first element equals [4649.69713495] with non-scalar type <class 'numpy.ndarray'>.\n",
            "                        Using now ``[v[0] for v in function_values]`` instead (further warnings are suppressed) ()\n",
            "  ')')\n",
            "/usr/local/lib/python3.6/dist-packages/cma/utilities/utils.py:333: UserWarning: function_values is not a list of scalars,\n",
            "                        the first element equals [4649.69715389] with non-scalar type <class 'numpy.ndarray'>.\n",
            "                        Using now ``[v[0] for v in function_values]`` instead (further warnings are suppressed) ()\n",
            "  ')')\n"
          ],
          "name": "stderr"
        },
        {
          "output_type": "stream",
          "text": [
            "  100   1500 4.030270092009247e+03 1.3e+00 2.29e-02  2e-02  2e-02 0:01.4\n",
            "  200   3000 3.994968738946414e+03 1.4e+00 1.54e-03  1e-03  1e-03 0:02.8\n",
            "  300   4500 3.994836556778676e+03 1.5e+00 1.01e-04  9e-05  1e-04 0:04.1\n",
            "  400   6000 3.994836069818218e+03 1.5e+00 5.37e-06  4e-06  5e-06 0:05.5\n",
            "  500   7500 3.994836068454905e+03 1.6e+00 3.06e-07  2e-07  3e-07 0:06.9\n",
            "  600   9000 3.994836068450317e+03 1.6e+00 1.69e-08  1e-08  1e-08 0:08.3\n",
            "  700  10500 3.994836068450309e+03 1.8e+00 3.04e-09  2e-09  3e-09 0:09.6\n",
            "  711  10665 3.994836068450309e+03 1.8e+00 2.95e-09  2e-09  3e-09 0:09.8\n",
            "termination on tolfun=1e-11 (Mon Apr 13 14:58:25 2020)\n",
            "final/bestever f-value = 3.994836e+03 3.994836e+03\n",
            "incumbent solution: [ 0.41603757  0.39726235 -0.13214832  0.44279939  0.40479205  0.45548759\n",
            "  0.11560696  0.05886013 ...]\n",
            "std deviations: [2.22485314e-09 2.20745856e-09 2.40093488e-09 2.31307655e-09\n",
            " 2.24142379e-09 2.53926051e-09 2.28594486e-09 2.51625547e-09 ...]\n",
            "(7_w,15)-aCMA-ES (mu_w=4.5,w_1=34%) in dimension 50 (seed=847153, Mon Apr 13 14:58:25 2020)\n",
            "Iterat #Fevals   function value  axis ratio  sigma  min&max std  t[m:s]\n",
            "    1     15 6.227078799546781e+03 1.0e+00 2.56e-01  3e-01  3e-01 0:00.0\n",
            "    2     30 5.861063369892079e+03 1.0e+00 2.50e-01  2e-01  3e-01 0:00.0\n",
            "    3     45 5.570964427983019e+03 1.1e+00 2.47e-01  2e-01  2e-01 0:00.1\n"
          ],
          "name": "stdout"
        },
        {
          "output_type": "stream",
          "text": [
            "/usr/local/lib/python3.6/dist-packages/cma/utilities/utils.py:333: UserWarning: function_values is not a list of scalars,\n",
            "                        the first element equals [6979.06750079] with non-scalar type <class 'numpy.ndarray'>.\n",
            "                        Using now ``[v[0] for v in function_values]`` instead (further warnings are suppressed) ()\n",
            "  ')')\n",
            "/usr/local/lib/python3.6/dist-packages/cma/utilities/utils.py:333: UserWarning: function_values is not a list of scalars,\n",
            "                        the first element equals [6560.85450909] with non-scalar type <class 'numpy.ndarray'>.\n",
            "                        Using now ``[v[0] for v in function_values]`` instead (further warnings are suppressed) ()\n",
            "  ')')\n"
          ],
          "name": "stderr"
        },
        {
          "output_type": "stream",
          "text": [
            "  100   1500 -2.298507901328846e+08 2.0e+00 4.97e+01  5e+01  5e+01 0:01.9\n",
            "  124   1860 -5.728122426145085e+09 2.0e+00 2.53e+02  2e+02  3e+02 0:02.4\n",
            "termination on tolfacupx=1000.0 (Mon Apr 13 14:58:28 2020)\n",
            "final/bestever f-value = -5.747217e+09 -5.747217e+09\n",
            "incumbent solution: [  -57.70784154   162.91457574 -1494.22272638 -1685.4787507\n",
            "  -409.08091446   777.5526628     70.36540765  -955.14256776 ...]\n",
            "std deviations: [245.93562472 243.51600761 249.85359099 249.12519023 244.17066467\n",
            " 243.59260351 239.2355811  254.47961545 ...]\n",
            "Run : 17\n",
            "(7_w,15)-aCMA-ES (mu_w=4.5,w_1=34%) in dimension 50 (seed=915168, Mon Apr 13 14:58:28 2020)\n",
            "Iterat #Fevals   function value  axis ratio  sigma  min&max std  t[m:s]\n",
            "    1     15 4.647342130420783e+03 1.0e+00 2.55e-01  3e-01  3e-01 0:00.0\n",
            "    2     30 4.647341392951313e+03 1.0e+00 2.45e-01  2e-01  2e-01 0:00.0\n",
            "    3     45 4.647340149309847e+03 1.0e+00 2.38e-01  2e-01  2e-01 0:00.1\n"
          ],
          "name": "stdout"
        },
        {
          "output_type": "stream",
          "text": [
            "/usr/local/lib/python3.6/dist-packages/cma/utilities/utils.py:333: UserWarning: function_values is not a list of scalars,\n",
            "                        the first element equals [4647.34478455] with non-scalar type <class 'numpy.ndarray'>.\n",
            "                        Using now ``[v[0] for v in function_values]`` instead (further warnings are suppressed) ()\n",
            "  ')')\n",
            "/usr/local/lib/python3.6/dist-packages/cma/utilities/utils.py:333: UserWarning: function_values is not a list of scalars,\n",
            "                        the first element equals [4647.34192662] with non-scalar type <class 'numpy.ndarray'>.\n",
            "                        Using now ``[v[0] for v in function_values]`` instead (further warnings are suppressed) ()\n",
            "  ')')\n"
          ],
          "name": "stderr"
        },
        {
          "output_type": "stream",
          "text": [
            "  100   1500 2.833239207138417e+03 1.4e+00 3.49e-02  3e-02  4e-02 0:02.0\n",
            "  200   3000 2.715565789456282e+03 1.5e+00 1.99e-03  2e-03  2e-03 0:03.9\n",
            "  300   4500 2.715176361612700e+03 1.5e+00 1.24e-04  1e-04  1e-04 0:05.8\n",
            "  400   6000 2.715174397296899e+03 1.5e+00 1.03e-05  8e-06  1e-05 0:07.8\n",
            "  500   7500 2.715174385964980e+03 1.6e+00 5.55e-07  4e-07  5e-07 0:09.7\n",
            "  600   9000 2.715174385941231e+03 1.6e+00 3.67e-08  3e-08  3e-08 0:11.6\n",
            "  700  10500 2.715174385941111e+03 1.7e+00 3.55e-09  3e-09  3e-09 0:13.6\n",
            "  749  11235 2.715174385941111e+03 1.7e+00 1.86e-09  1e-09  2e-09 0:14.6\n",
            "termination on tolfun=1e-11 (Mon Apr 13 14:58:45 2020)\n",
            "final/bestever f-value = 2.715174e+03 2.715174e+03\n",
            "incumbent solution: [ 0.04675072  0.02542599 -0.14006052 -0.03997052 -0.02560333  0.01900346\n",
            " -0.06408277 -0.04565248 ...]\n",
            "std deviations: [1.45033869e-09 1.44001116e-09 1.48818456e-09 1.44557187e-09\n",
            " 1.37013387e-09 1.47572562e-09 1.44216570e-09 1.48206427e-09 ...]\n",
            "(7_w,15)-aCMA-ES (mu_w=4.5,w_1=34%) in dimension 50 (seed=934655, Mon Apr 13 14:58:45 2020)\n",
            "Iterat #Fevals   function value  axis ratio  sigma  min&max std  t[m:s]\n",
            "    1     15 4.649697121158084e+03 1.0e+00 2.53e-01  3e-01  3e-01 0:00.0\n",
            "    2     30 4.649697054813720e+03 1.0e+00 2.42e-01  2e-01  2e-01 0:00.0\n",
            "    3     45 4.649697081519165e+03 1.0e+00 2.35e-01  2e-01  2e-01 0:00.0\n"
          ],
          "name": "stdout"
        },
        {
          "output_type": "stream",
          "text": [
            "/usr/local/lib/python3.6/dist-packages/cma/utilities/utils.py:333: UserWarning: function_values is not a list of scalars,\n",
            "                        the first element equals [4649.69713497] with non-scalar type <class 'numpy.ndarray'>.\n",
            "                        Using now ``[v[0] for v in function_values]`` instead (further warnings are suppressed) ()\n",
            "  ')')\n",
            "/usr/local/lib/python3.6/dist-packages/cma/utilities/utils.py:333: UserWarning: function_values is not a list of scalars,\n",
            "                        the first element equals [4649.69713463] with non-scalar type <class 'numpy.ndarray'>.\n",
            "                        Using now ``[v[0] for v in function_values]`` instead (further warnings are suppressed) ()\n",
            "  ')')\n"
          ],
          "name": "stderr"
        },
        {
          "output_type": "stream",
          "text": [
            "  100   1500 4.209359857169517e+03 1.4e+00 3.19e-02  3e-02  3e-02 0:01.4\n",
            "  200   3000 4.174848207061043e+03 1.5e+00 2.00e-03  2e-03  2e-03 0:02.8\n",
            "  300   4500 4.174732018197445e+03 1.5e+00 1.28e-04  1e-04  1e-04 0:04.2\n",
            "  400   6000 4.174731476426337e+03 1.6e+00 7.12e-06  6e-06  7e-06 0:05.6\n",
            "  500   7500 4.174731474881954e+03 1.6e+00 5.75e-07  5e-07  5e-07 0:06.9\n",
            "  600   9000 4.174731474869553e+03 1.7e+00 3.86e-08  3e-08  3e-08 0:08.3\n",
            "  700  10500 4.174731474869516e+03 1.7e+00 4.30e-09  3e-09  4e-09 0:09.7\n",
            "  731  10965 4.174731474869515e+03 1.8e+00 3.54e-09  3e-09  3e-09 0:10.1\n",
            "termination on tolfun=1e-11 (Mon Apr 13 14:58:58 2020)\n",
            "final/bestever f-value = 4.174731e+03 4.174731e+03\n",
            "incumbent solution: [ 0.03363367  0.05651833 -0.06186881 -0.00846281  0.04025514 -0.0460314\n",
            " -0.01140646 -0.08156256 ...]\n",
            "std deviations: [2.83170243e-09 2.60680529e-09 2.83926121e-09 2.76270899e-09\n",
            " 2.58986542e-09 2.88492822e-09 2.70893368e-09 2.90032892e-09 ...]\n",
            "(7_w,15)-aCMA-ES (mu_w=4.5,w_1=34%) in dimension 50 (seed=861145, Mon Apr 13 14:58:58 2020)\n",
            "Iterat #Fevals   function value  axis ratio  sigma  min&max std  t[m:s]\n",
            "    1     15 6.748884243771722e+03 1.0e+00 2.55e-01  3e-01  3e-01 0:00.0\n",
            "    2     30 6.394069287505728e+03 1.0e+00 2.45e-01  2e-01  2e-01 0:00.0\n",
            "    3     45 6.238821904353335e+03 1.1e+00 2.37e-01  2e-01  2e-01 0:00.1\n"
          ],
          "name": "stdout"
        },
        {
          "output_type": "stream",
          "text": [
            "/usr/local/lib/python3.6/dist-packages/cma/utilities/utils.py:333: UserWarning: function_values is not a list of scalars,\n",
            "                        the first element equals [7739.42861902] with non-scalar type <class 'numpy.ndarray'>.\n",
            "                        Using now ``[v[0] for v in function_values]`` instead (further warnings are suppressed) ()\n",
            "  ')')\n",
            "/usr/local/lib/python3.6/dist-packages/cma/utilities/utils.py:333: UserWarning: function_values is not a list of scalars,\n",
            "                        the first element equals [6394.06928751] with non-scalar type <class 'numpy.ndarray'>.\n",
            "                        Using now ``[v[0] for v in function_values]`` instead (further warnings are suppressed) ()\n",
            "  ')')\n"
          ],
          "name": "stderr"
        },
        {
          "output_type": "stream",
          "text": [
            "  100   1500 -9.154356040978819e+07 1.8e+00 3.30e+01  3e+01  4e+01 0:01.9\n",
            "  130   1950 -5.333253947642668e+09 1.8e+00 2.67e+02  3e+02  3e+02 0:02.5\n",
            "termination on tolfacupx=1000.0 (Mon Apr 13 14:59:01 2020)\n",
            "final/bestever f-value = -5.083583e+09 -5.333254e+09\n",
            "incumbent solution: [  114.71411035  -322.23953611  -658.5840488   -567.45731869\n",
            "  -775.94487127   928.09333517  -191.89268651 -1456.7015372  ...]\n",
            "std deviations: [256.45657322 267.11510977 256.65288375 260.62304991 267.23856926\n",
            " 254.09287371 258.73474598 274.27106846 ...]\n",
            "Run : 18\n",
            "(7_w,15)-aCMA-ES (mu_w=4.5,w_1=34%) in dimension 50 (seed=894063, Mon Apr 13 14:59:01 2020)\n",
            "Iterat #Fevals   function value  axis ratio  sigma  min&max std  t[m:s]\n",
            "    1     15 4.647342976081425e+03 1.0e+00 2.57e-01  3e-01  3e-01 0:00.0\n",
            "    2     30 4.647342833168958e+03 1.0e+00 2.50e-01  2e-01  3e-01 0:00.0\n",
            "    3     45 4.647342817970595e+03 1.1e+00 2.48e-01  2e-01  2e-01 0:00.1\n"
          ],
          "name": "stdout"
        },
        {
          "output_type": "stream",
          "text": [
            "/usr/local/lib/python3.6/dist-packages/cma/utilities/utils.py:333: UserWarning: function_values is not a list of scalars,\n",
            "                        the first element equals [4647.34392753] with non-scalar type <class 'numpy.ndarray'>.\n",
            "                        Using now ``[v[0] for v in function_values]`` instead (further warnings are suppressed) ()\n",
            "  ')')\n",
            "/usr/local/lib/python3.6/dist-packages/cma/utilities/utils.py:333: UserWarning: function_values is not a list of scalars,\n",
            "                        the first element equals [4647.34301791] with non-scalar type <class 'numpy.ndarray'>.\n",
            "                        Using now ``[v[0] for v in function_values]`` instead (further warnings are suppressed) ()\n",
            "  ')')\n",
            "/usr/local/lib/python3.6/dist-packages/cma/utilities/utils.py:333: UserWarning: flat fitness (f=4647.342817, sigma=3.23e-01).\n",
            "                    For small sigma, this could indicate numerical convergence.\n",
            "                    Otherwise, please (re)consider how to compute the fitness more elaborately. (iteration=12)\n",
            "  ')')\n",
            "/usr/local/lib/python3.6/dist-packages/cma/utilities/utils.py:333: UserWarning: flat fitness (f=4647.342817, sigma=3.34e-01).\n",
            "                    For small sigma, this could indicate numerical convergence.\n",
            "                    Otherwise, please (re)consider how to compute the fitness more elaborately. (iteration=13)\n",
            "  ')')\n",
            "/usr/local/lib/python3.6/dist-packages/cma/utilities/utils.py:333: UserWarning: flat fitness (f=4647.342817, sigma=3.40e-01).\n",
            "                    For small sigma, this could indicate numerical convergence.\n",
            "                    Otherwise, please (re)consider how to compute the fitness more elaborately. (iteration=14)\n",
            "  ')')\n",
            "/usr/local/lib/python3.6/dist-packages/cma/utilities/utils.py:333: UserWarning: flat fitness (f=4647.342817, sigma=3.44e-01).\n",
            "                    For small sigma, this could indicate numerical convergence.\n",
            "                    Otherwise, please (re)consider how to compute the fitness more elaborately. (iteration=15)\n",
            "  ')')\n",
            "/usr/local/lib/python3.6/dist-packages/cma/utilities/utils.py:333: UserWarning: flat fitness (f=4647.342817, sigma=3.49e-01).\n",
            "                    For small sigma, this could indicate numerical convergence.\n",
            "                    Otherwise, please (re)consider how to compute the fitness more elaborately. (iteration=16)\n",
            "  ')')\n",
            "/usr/local/lib/python3.6/dist-packages/cma/utilities/utils.py:333: UserWarning: flat fitness (f=4647.342817, sigma=3.49e-01).\n",
            "                    For small sigma, this could indicate numerical convergence.\n",
            "                    Otherwise, please (re)consider how to compute the fitness more elaborately. (iteration=17)\n",
            "  ')')\n",
            "/usr/local/lib/python3.6/dist-packages/cma/utilities/utils.py:333: UserWarning: flat fitness (f=4647.342817, sigma=3.44e-01).\n",
            "                    For small sigma, this could indicate numerical convergence.\n",
            "                    Otherwise, please (re)consider how to compute the fitness more elaborately. (iteration=18)\n",
            "  ')')\n",
            "/usr/local/lib/python3.6/dist-packages/cma/utilities/utils.py:333: UserWarning: flat fitness (f=4647.342817, sigma=3.30e-01).\n",
            "                    For small sigma, this could indicate numerical convergence.\n",
            "                    Otherwise, please (re)consider how to compute the fitness more elaborately. (iteration=20)\n",
            "  ')')\n",
            "/usr/local/lib/python3.6/dist-packages/cma/utilities/utils.py:333: UserWarning: flat fitness (f=4647.342817, sigma=3.27e-01).\n",
            "                    For small sigma, this could indicate numerical convergence.\n",
            "                    Otherwise, please (re)consider how to compute the fitness more elaborately. (iteration=21)\n",
            "  ')')\n",
            "/usr/local/lib/python3.6/dist-packages/cma/utilities/utils.py:333: UserWarning: flat fitness (f=4647.342817, sigma=3.23e-01).\n",
            "                    For small sigma, this could indicate numerical convergence.\n",
            "                    Otherwise, please (re)consider how to compute the fitness more elaborately. (iteration=22)\n",
            "  ')')\n",
            "/usr/local/lib/python3.6/dist-packages/cma/utilities/utils.py:333: UserWarning: flat fitness (f=4647.342817, sigma=3.21e-01).\n",
            "                    For small sigma, this could indicate numerical convergence.\n",
            "                    Otherwise, please (re)consider how to compute the fitness more elaborately. (iteration=23)\n",
            "  ')')\n",
            "/usr/local/lib/python3.6/dist-packages/cma/utilities/utils.py:333: UserWarning: flat fitness (f=4647.342817, sigma=3.19e-01).\n",
            "                    For small sigma, this could indicate numerical convergence.\n",
            "                    Otherwise, please (re)consider how to compute the fitness more elaborately. (iteration=24)\n",
            "  ')')\n",
            "/usr/local/lib/python3.6/dist-packages/cma/utilities/utils.py:333: UserWarning: flat fitness (f=4647.342817, sigma=3.17e-01).\n",
            "                    For small sigma, this could indicate numerical convergence.\n",
            "                    Otherwise, please (re)consider how to compute the fitness more elaborately. (iteration=25)\n",
            "  ')')\n",
            "/usr/local/lib/python3.6/dist-packages/cma/utilities/utils.py:333: UserWarning: flat fitness (f=4647.342817, sigma=3.15e-01).\n",
            "                    For small sigma, this could indicate numerical convergence.\n",
            "                    Otherwise, please (re)consider how to compute the fitness more elaborately. (iteration=26)\n",
            "  ')')\n",
            "/usr/local/lib/python3.6/dist-packages/cma/utilities/utils.py:333: UserWarning: flat fitness (f=4647.342817, sigma=3.12e-01).\n",
            "                    For small sigma, this could indicate numerical convergence.\n",
            "                    Otherwise, please (re)consider how to compute the fitness more elaborately. (iteration=27)\n",
            "  ')')\n",
            "/usr/local/lib/python3.6/dist-packages/cma/utilities/utils.py:333: UserWarning: flat fitness (f=4647.342817, sigma=3.11e-01).\n",
            "                    For small sigma, this could indicate numerical convergence.\n",
            "                    Otherwise, please (re)consider how to compute the fitness more elaborately. (iteration=28)\n",
            "  ')')\n",
            "/usr/local/lib/python3.6/dist-packages/cma/utilities/utils.py:333: UserWarning: flat fitness (f=4647.342817, sigma=3.11e-01).\n",
            "                    For small sigma, this could indicate numerical convergence.\n",
            "                    Otherwise, please (re)consider how to compute the fitness more elaborately. (iteration=29)\n",
            "  ')')\n",
            "/usr/local/lib/python3.6/dist-packages/cma/utilities/utils.py:333: UserWarning: flat fitness (f=4647.342817, sigma=3.07e-01).\n",
            "                    For small sigma, this could indicate numerical convergence.\n",
            "                    Otherwise, please (re)consider how to compute the fitness more elaborately. (iteration=30)\n",
            "  ')')\n",
            "/usr/local/lib/python3.6/dist-packages/cma/utilities/utils.py:333: UserWarning: flat fitness (f=4647.342817, sigma=3.04e-01).\n",
            "                    For small sigma, this could indicate numerical convergence.\n",
            "                    Otherwise, please (re)consider how to compute the fitness more elaborately. (iteration=31)\n",
            "  ')')\n",
            "/usr/local/lib/python3.6/dist-packages/cma/utilities/utils.py:333: UserWarning: flat fitness (f=4647.342817, sigma=3.01e-01).\n",
            "                    For small sigma, this could indicate numerical convergence.\n",
            "                    Otherwise, please (re)consider how to compute the fitness more elaborately. (iteration=32)\n",
            "  ')')\n",
            "/usr/local/lib/python3.6/dist-packages/cma/utilities/utils.py:333: UserWarning: flat fitness (f=4647.342817, sigma=3.00e-01).\n",
            "                    For small sigma, this could indicate numerical convergence.\n",
            "                    Otherwise, please (re)consider how to compute the fitness more elaborately. (iteration=33)\n",
            "  ')')\n",
            "/usr/local/lib/python3.6/dist-packages/cma/utilities/utils.py:333: UserWarning: flat fitness (f=4647.342817, sigma=3.00e-01).\n",
            "                    For small sigma, this could indicate numerical convergence.\n",
            "                    Otherwise, please (re)consider how to compute the fitness more elaborately. (iteration=34)\n",
            "  ')')\n",
            "/usr/local/lib/python3.6/dist-packages/cma/utilities/utils.py:333: UserWarning: flat fitness (f=4647.342817, sigma=3.01e-01).\n",
            "                    For small sigma, this could indicate numerical convergence.\n",
            "                    Otherwise, please (re)consider how to compute the fitness more elaborately. (iteration=35)\n",
            "  ')')\n",
            "/usr/local/lib/python3.6/dist-packages/cma/utilities/utils.py:333: UserWarning: flat fitness (f=4647.342817, sigma=3.03e-01).\n",
            "                    For small sigma, this could indicate numerical convergence.\n",
            "                    Otherwise, please (re)consider how to compute the fitness more elaborately. (iteration=36)\n",
            "  ')')\n",
            "/usr/local/lib/python3.6/dist-packages/cma/utilities/utils.py:333: UserWarning: flat fitness (f=4647.342817, sigma=3.06e-01).\n",
            "                    For small sigma, this could indicate numerical convergence.\n",
            "                    Otherwise, please (re)consider how to compute the fitness more elaborately. (iteration=37)\n",
            "  ')')\n",
            "/usr/local/lib/python3.6/dist-packages/cma/utilities/utils.py:333: UserWarning: flat fitness (f=4647.342817, sigma=3.10e-01).\n",
            "                    For small sigma, this could indicate numerical convergence.\n",
            "                    Otherwise, please (re)consider how to compute the fitness more elaborately. (iteration=38)\n",
            "  ')')\n",
            "/usr/local/lib/python3.6/dist-packages/cma/utilities/utils.py:333: UserWarning: flat fitness (f=4647.342817, sigma=3.09e-01).\n",
            "                    For small sigma, this could indicate numerical convergence.\n",
            "                    Otherwise, please (re)consider how to compute the fitness more elaborately. (iteration=39)\n",
            "  ')')\n",
            "/usr/local/lib/python3.6/dist-packages/cma/utilities/utils.py:333: UserWarning: flat fitness (f=4647.342817, sigma=3.14e-01).\n",
            "                    For small sigma, this could indicate numerical convergence.\n",
            "                    Otherwise, please (re)consider how to compute the fitness more elaborately. (iteration=40)\n",
            "  ')')\n",
            "/usr/local/lib/python3.6/dist-packages/cma/utilities/utils.py:333: UserWarning: flat fitness (f=4647.342817, sigma=3.18e-01).\n",
            "                    For small sigma, this could indicate numerical convergence.\n",
            "                    Otherwise, please (re)consider how to compute the fitness more elaborately. (iteration=41)\n",
            "  ')')\n",
            "/usr/local/lib/python3.6/dist-packages/cma/utilities/utils.py:333: UserWarning: flat fitness (f=4647.342817, sigma=3.19e-01).\n",
            "                    For small sigma, this could indicate numerical convergence.\n",
            "                    Otherwise, please (re)consider how to compute the fitness more elaborately. (iteration=42)\n",
            "  ')')\n",
            "/usr/local/lib/python3.6/dist-packages/cma/utilities/utils.py:333: UserWarning: flat fitness (f=4647.342817, sigma=3.21e-01).\n",
            "                    For small sigma, this could indicate numerical convergence.\n",
            "                    Otherwise, please (re)consider how to compute the fitness more elaborately. (iteration=43)\n",
            "  ')')\n",
            "/usr/local/lib/python3.6/dist-packages/cma/utilities/utils.py:333: UserWarning: flat fitness (f=4647.342817, sigma=3.21e-01).\n",
            "                    For small sigma, this could indicate numerical convergence.\n",
            "                    Otherwise, please (re)consider how to compute the fitness more elaborately. (iteration=44)\n",
            "  ')')\n",
            "/usr/local/lib/python3.6/dist-packages/cma/utilities/utils.py:333: UserWarning: flat fitness (f=4647.342817, sigma=3.18e-01).\n",
            "                    For small sigma, this could indicate numerical convergence.\n",
            "                    Otherwise, please (re)consider how to compute the fitness more elaborately. (iteration=45)\n",
            "  ')')\n",
            "/usr/local/lib/python3.6/dist-packages/cma/utilities/utils.py:333: UserWarning: flat fitness (f=4647.342817, sigma=3.16e-01).\n",
            "                    For small sigma, this could indicate numerical convergence.\n",
            "                    Otherwise, please (re)consider how to compute the fitness more elaborately. (iteration=46)\n",
            "  ')')\n",
            "/usr/local/lib/python3.6/dist-packages/cma/utilities/utils.py:333: UserWarning: flat fitness (f=4647.342817, sigma=3.14e-01).\n",
            "                    For small sigma, this could indicate numerical convergence.\n",
            "                    Otherwise, please (re)consider how to compute the fitness more elaborately. (iteration=47)\n",
            "  ')')\n",
            "/usr/local/lib/python3.6/dist-packages/cma/utilities/utils.py:333: UserWarning: flat fitness (f=4647.342817, sigma=3.13e-01).\n",
            "                    For small sigma, this could indicate numerical convergence.\n",
            "                    Otherwise, please (re)consider how to compute the fitness more elaborately. (iteration=48)\n",
            "  ')')\n",
            "/usr/local/lib/python3.6/dist-packages/cma/utilities/utils.py:333: UserWarning: flat fitness (f=4647.342817, sigma=3.12e-01).\n",
            "                    For small sigma, this could indicate numerical convergence.\n",
            "                    Otherwise, please (re)consider how to compute the fitness more elaborately. (iteration=49)\n",
            "  ')')\n",
            "/usr/local/lib/python3.6/dist-packages/cma/utilities/utils.py:333: UserWarning: flat fitness (f=4647.342817, sigma=3.11e-01).\n",
            "                    For small sigma, this could indicate numerical convergence.\n",
            "                    Otherwise, please (re)consider how to compute the fitness more elaborately. (iteration=50)\n",
            "  ')')\n",
            "/usr/local/lib/python3.6/dist-packages/cma/utilities/utils.py:333: UserWarning: flat fitness (f=4647.342817, sigma=3.12e-01).\n",
            "                    For small sigma, this could indicate numerical convergence.\n",
            "                    Otherwise, please (re)consider how to compute the fitness more elaborately. (iteration=51)\n",
            "  ')')\n",
            "/usr/local/lib/python3.6/dist-packages/cma/utilities/utils.py:333: UserWarning: flat fitness (f=4647.342817, sigma=3.13e-01).\n",
            "                    For small sigma, this could indicate numerical convergence.\n",
            "                    Otherwise, please (re)consider how to compute the fitness more elaborately. (iteration=52)\n",
            "  ')')\n",
            "/usr/local/lib/python3.6/dist-packages/cma/utilities/utils.py:333: UserWarning: flat fitness (f=4647.342817, sigma=3.17e-01).\n",
            "                    For small sigma, this could indicate numerical convergence.\n",
            "                    Otherwise, please (re)consider how to compute the fitness more elaborately. (iteration=53)\n",
            "  ')')\n",
            "/usr/local/lib/python3.6/dist-packages/cma/utilities/utils.py:333: UserWarning: flat fitness (f=4647.342817, sigma=3.19e-01).\n",
            "                    For small sigma, this could indicate numerical convergence.\n",
            "                    Otherwise, please (re)consider how to compute the fitness more elaborately. (iteration=54)\n",
            "  ')')\n",
            "/usr/local/lib/python3.6/dist-packages/cma/utilities/utils.py:333: UserWarning: flat fitness (f=4647.342817, sigma=3.22e-01).\n",
            "                    For small sigma, this could indicate numerical convergence.\n",
            "                    Otherwise, please (re)consider how to compute the fitness more elaborately. (iteration=55)\n",
            "  ')')\n",
            "/usr/local/lib/python3.6/dist-packages/cma/utilities/utils.py:333: UserWarning: flat fitness (f=4647.342817, sigma=3.24e-01).\n",
            "                    For small sigma, this could indicate numerical convergence.\n",
            "                    Otherwise, please (re)consider how to compute the fitness more elaborately. (iteration=56)\n",
            "  ')')\n",
            "/usr/local/lib/python3.6/dist-packages/cma/utilities/utils.py:333: UserWarning: flat fitness (f=4647.342817, sigma=3.24e-01).\n",
            "                    For small sigma, this could indicate numerical convergence.\n",
            "                    Otherwise, please (re)consider how to compute the fitness more elaborately. (iteration=57)\n",
            "  ')')\n",
            "/usr/local/lib/python3.6/dist-packages/cma/utilities/utils.py:333: UserWarning: flat fitness (f=4647.342817, sigma=3.23e-01).\n",
            "                    For small sigma, this could indicate numerical convergence.\n",
            "                    Otherwise, please (re)consider how to compute the fitness more elaborately. (iteration=58)\n",
            "  ')')\n",
            "/usr/local/lib/python3.6/dist-packages/cma/utilities/utils.py:333: UserWarning: flat fitness (f=4647.342817, sigma=3.21e-01).\n",
            "                    For small sigma, this could indicate numerical convergence.\n",
            "                    Otherwise, please (re)consider how to compute the fitness more elaborately. (iteration=59)\n",
            "  ')')\n",
            "/usr/local/lib/python3.6/dist-packages/cma/utilities/utils.py:333: UserWarning: flat fitness (f=4647.342817, sigma=3.17e-01).\n",
            "                    For small sigma, this could indicate numerical convergence.\n",
            "                    Otherwise, please (re)consider how to compute the fitness more elaborately. (iteration=60)\n",
            "  ')')\n",
            "/usr/local/lib/python3.6/dist-packages/cma/utilities/utils.py:333: UserWarning: flat fitness (f=4647.342817, sigma=3.14e-01).\n",
            "                    For small sigma, this could indicate numerical convergence.\n",
            "                    Otherwise, please (re)consider how to compute the fitness more elaborately. (iteration=61)\n",
            "  ')')\n",
            "/usr/local/lib/python3.6/dist-packages/cma/utilities/utils.py:333: UserWarning: flat fitness (f=4647.342817, sigma=3.10e-01).\n",
            "                    For small sigma, this could indicate numerical convergence.\n",
            "                    Otherwise, please (re)consider how to compute the fitness more elaborately. (iteration=62)\n",
            "  ')')\n",
            "/usr/local/lib/python3.6/dist-packages/cma/utilities/utils.py:333: UserWarning: flat fitness (f=4647.342817, sigma=3.04e-01).\n",
            "                    For small sigma, this could indicate numerical convergence.\n",
            "                    Otherwise, please (re)consider how to compute the fitness more elaborately. (iteration=63)\n",
            "  ')')\n",
            "/usr/local/lib/python3.6/dist-packages/cma/utilities/utils.py:333: UserWarning: flat fitness (f=4647.342817, sigma=2.99e-01).\n",
            "                    For small sigma, this could indicate numerical convergence.\n",
            "                    Otherwise, please (re)consider how to compute the fitness more elaborately. (iteration=64)\n",
            "  ')')\n",
            "/usr/local/lib/python3.6/dist-packages/cma/utilities/utils.py:333: UserWarning: flat fitness (f=4647.342817, sigma=2.97e-01).\n",
            "                    For small sigma, this could indicate numerical convergence.\n",
            "                    Otherwise, please (re)consider how to compute the fitness more elaborately. (iteration=65)\n",
            "  ')')\n",
            "/usr/local/lib/python3.6/dist-packages/cma/utilities/utils.py:333: UserWarning: flat fitness (f=4647.342817, sigma=2.92e-01).\n",
            "                    For small sigma, this could indicate numerical convergence.\n",
            "                    Otherwise, please (re)consider how to compute the fitness more elaborately. (iteration=66)\n",
            "  ')')\n",
            "/usr/local/lib/python3.6/dist-packages/cma/utilities/utils.py:333: UserWarning: flat fitness (f=4647.342817, sigma=2.87e-01).\n",
            "                    For small sigma, this could indicate numerical convergence.\n",
            "                    Otherwise, please (re)consider how to compute the fitness more elaborately. (iteration=67)\n",
            "  ')')\n",
            "/usr/local/lib/python3.6/dist-packages/cma/utilities/utils.py:333: UserWarning: flat fitness (f=4647.342817, sigma=2.82e-01).\n",
            "                    For small sigma, this could indicate numerical convergence.\n",
            "                    Otherwise, please (re)consider how to compute the fitness more elaborately. (iteration=68)\n",
            "  ')')\n",
            "/usr/local/lib/python3.6/dist-packages/cma/utilities/utils.py:333: UserWarning: flat fitness (f=4647.342817, sigma=2.75e-01).\n",
            "                    For small sigma, this could indicate numerical convergence.\n",
            "                    Otherwise, please (re)consider how to compute the fitness more elaborately. (iteration=69)\n",
            "  ')')\n",
            "/usr/local/lib/python3.6/dist-packages/cma/utilities/utils.py:333: UserWarning: flat fitness (f=4647.342817, sigma=2.68e-01).\n",
            "                    For small sigma, this could indicate numerical convergence.\n",
            "                    Otherwise, please (re)consider how to compute the fitness more elaborately. (iteration=70)\n",
            "  ')')\n",
            "/usr/local/lib/python3.6/dist-packages/cma/utilities/utils.py:333: UserWarning: flat fitness (f=4647.342817, sigma=2.60e-01).\n",
            "                    For small sigma, this could indicate numerical convergence.\n",
            "                    Otherwise, please (re)consider how to compute the fitness more elaborately. (iteration=71)\n",
            "  ')')\n",
            "/usr/local/lib/python3.6/dist-packages/cma/utilities/utils.py:333: UserWarning: flat fitness (f=4647.342817, sigma=2.54e-01).\n",
            "                    For small sigma, this could indicate numerical convergence.\n",
            "                    Otherwise, please (re)consider how to compute the fitness more elaborately. (iteration=72)\n",
            "  ')')\n",
            "/usr/local/lib/python3.6/dist-packages/cma/utilities/utils.py:333: UserWarning: flat fitness (f=4647.342817, sigma=2.48e-01).\n",
            "                    For small sigma, this could indicate numerical convergence.\n",
            "                    Otherwise, please (re)consider how to compute the fitness more elaborately. (iteration=73)\n",
            "  ')')\n",
            "/usr/local/lib/python3.6/dist-packages/cma/utilities/utils.py:333: UserWarning: flat fitness (f=4647.342817, sigma=2.43e-01).\n",
            "                    For small sigma, this could indicate numerical convergence.\n",
            "                    Otherwise, please (re)consider how to compute the fitness more elaborately. (iteration=74)\n",
            "  ')')\n",
            "/usr/local/lib/python3.6/dist-packages/cma/utilities/utils.py:333: UserWarning: flat fitness (f=4647.342817, sigma=2.41e-01).\n",
            "                    For small sigma, this could indicate numerical convergence.\n",
            "                    Otherwise, please (re)consider how to compute the fitness more elaborately. (iteration=75)\n",
            "  ')')\n",
            "/usr/local/lib/python3.6/dist-packages/cma/utilities/utils.py:333: UserWarning: flat fitness (f=4647.342817, sigma=2.38e-01).\n",
            "                    For small sigma, this could indicate numerical convergence.\n",
            "                    Otherwise, please (re)consider how to compute the fitness more elaborately. (iteration=76)\n",
            "  ')')\n",
            "/usr/local/lib/python3.6/dist-packages/cma/utilities/utils.py:333: UserWarning: flat fitness (f=4647.342817, sigma=2.35e-01).\n",
            "                    For small sigma, this could indicate numerical convergence.\n",
            "                    Otherwise, please (re)consider how to compute the fitness more elaborately. (iteration=77)\n",
            "  ')')\n",
            "/usr/local/lib/python3.6/dist-packages/cma/utilities/utils.py:333: UserWarning: flat fitness (f=4647.342817, sigma=2.31e-01).\n",
            "                    For small sigma, this could indicate numerical convergence.\n",
            "                    Otherwise, please (re)consider how to compute the fitness more elaborately. (iteration=78)\n",
            "  ')')\n",
            "/usr/local/lib/python3.6/dist-packages/cma/utilities/utils.py:333: UserWarning: flat fitness (f=4647.342817, sigma=2.26e-01).\n",
            "                    For small sigma, this could indicate numerical convergence.\n",
            "                    Otherwise, please (re)consider how to compute the fitness more elaborately. (iteration=79)\n",
            "  ')')\n",
            "/usr/local/lib/python3.6/dist-packages/cma/utilities/utils.py:333: UserWarning: flat fitness (f=4647.342817, sigma=2.22e-01).\n",
            "                    For small sigma, this could indicate numerical convergence.\n",
            "                    Otherwise, please (re)consider how to compute the fitness more elaborately. (iteration=80)\n",
            "  ')')\n",
            "/usr/local/lib/python3.6/dist-packages/cma/utilities/utils.py:333: UserWarning: flat fitness (f=4647.342817, sigma=2.20e-01).\n",
            "                    For small sigma, this could indicate numerical convergence.\n",
            "                    Otherwise, please (re)consider how to compute the fitness more elaborately. (iteration=81)\n",
            "  ')')\n",
            "/usr/local/lib/python3.6/dist-packages/cma/utilities/utils.py:333: UserWarning: flat fitness (f=4647.342817, sigma=2.19e-01).\n",
            "                    For small sigma, this could indicate numerical convergence.\n",
            "                    Otherwise, please (re)consider how to compute the fitness more elaborately. (iteration=82)\n",
            "  ')')\n",
            "/usr/local/lib/python3.6/dist-packages/cma/utilities/utils.py:333: UserWarning: flat fitness (f=4647.342817, sigma=2.17e-01).\n",
            "                    For small sigma, this could indicate numerical convergence.\n",
            "                    Otherwise, please (re)consider how to compute the fitness more elaborately. (iteration=83)\n",
            "  ')')\n",
            "/usr/local/lib/python3.6/dist-packages/cma/utilities/utils.py:333: UserWarning: flat fitness (f=4647.342817, sigma=2.15e-01).\n",
            "                    For small sigma, this could indicate numerical convergence.\n",
            "                    Otherwise, please (re)consider how to compute the fitness more elaborately. (iteration=84)\n",
            "  ')')\n",
            "/usr/local/lib/python3.6/dist-packages/cma/utilities/utils.py:333: UserWarning: flat fitness (f=4647.342817, sigma=2.13e-01).\n",
            "                    For small sigma, this could indicate numerical convergence.\n",
            "                    Otherwise, please (re)consider how to compute the fitness more elaborately. (iteration=85)\n",
            "  ')')\n",
            "/usr/local/lib/python3.6/dist-packages/cma/utilities/utils.py:333: UserWarning: flat fitness (f=4647.342817, sigma=2.12e-01).\n",
            "                    For small sigma, this could indicate numerical convergence.\n",
            "                    Otherwise, please (re)consider how to compute the fitness more elaborately. (iteration=86)\n",
            "  ')')\n",
            "/usr/local/lib/python3.6/dist-packages/cma/utilities/utils.py:333: UserWarning: flat fitness (f=4647.342817, sigma=2.11e-01).\n",
            "                    For small sigma, this could indicate numerical convergence.\n",
            "                    Otherwise, please (re)consider how to compute the fitness more elaborately. (iteration=87)\n",
            "  ')')\n",
            "/usr/local/lib/python3.6/dist-packages/cma/utilities/utils.py:333: UserWarning: flat fitness (f=4647.342817, sigma=2.09e-01).\n",
            "                    For small sigma, this could indicate numerical convergence.\n",
            "                    Otherwise, please (re)consider how to compute the fitness more elaborately. (iteration=88)\n",
            "  ')')\n",
            "/usr/local/lib/python3.6/dist-packages/cma/utilities/utils.py:333: UserWarning: flat fitness (f=4647.342817, sigma=2.09e-01).\n",
            "                    For small sigma, this could indicate numerical convergence.\n",
            "                    Otherwise, please (re)consider how to compute the fitness more elaborately. (iteration=89)\n",
            "  ')')\n",
            "/usr/local/lib/python3.6/dist-packages/cma/utilities/utils.py:333: UserWarning: flat fitness (f=4647.342817, sigma=2.07e-01).\n",
            "                    For small sigma, this could indicate numerical convergence.\n",
            "                    Otherwise, please (re)consider how to compute the fitness more elaborately. (iteration=90)\n",
            "  ')')\n",
            "/usr/local/lib/python3.6/dist-packages/cma/utilities/utils.py:333: UserWarning: flat fitness (f=4647.342817, sigma=2.06e-01).\n",
            "                    For small sigma, this could indicate numerical convergence.\n",
            "                    Otherwise, please (re)consider how to compute the fitness more elaborately. (iteration=91)\n",
            "  ')')\n",
            "/usr/local/lib/python3.6/dist-packages/cma/utilities/utils.py:333: UserWarning: flat fitness (f=4647.342817, sigma=2.05e-01).\n",
            "                    For small sigma, this could indicate numerical convergence.\n",
            "                    Otherwise, please (re)consider how to compute the fitness more elaborately. (iteration=92)\n",
            "  ')')\n",
            "/usr/local/lib/python3.6/dist-packages/cma/utilities/utils.py:333: UserWarning: flat fitness (f=4647.342817, sigma=2.03e-01).\n",
            "                    For small sigma, this could indicate numerical convergence.\n",
            "                    Otherwise, please (re)consider how to compute the fitness more elaborately. (iteration=93)\n",
            "  ')')\n"
          ],
          "name": "stderr"
        },
        {
          "output_type": "stream",
          "text": [
            "  100   1500 4.647342816677239e+03 1.6e+00 1.93e-01  2e-01  2e-01 0:02.0\n"
          ],
          "name": "stdout"
        },
        {
          "output_type": "stream",
          "text": [
            "/usr/local/lib/python3.6/dist-packages/cma/utilities/utils.py:333: UserWarning: flat fitness (f=4647.342817, sigma=2.01e-01).\n",
            "                    For small sigma, this could indicate numerical convergence.\n",
            "                    Otherwise, please (re)consider how to compute the fitness more elaborately. (iteration=94)\n",
            "  ')')\n",
            "/usr/local/lib/python3.6/dist-packages/cma/utilities/utils.py:333: UserWarning: flat fitness (f=4647.342817, sigma=1.99e-01).\n",
            "                    For small sigma, this could indicate numerical convergence.\n",
            "                    Otherwise, please (re)consider how to compute the fitness more elaborately. (iteration=95)\n",
            "  ')')\n",
            "/usr/local/lib/python3.6/dist-packages/cma/utilities/utils.py:333: UserWarning: flat fitness (f=4647.342817, sigma=1.96e-01).\n",
            "                    For small sigma, this could indicate numerical convergence.\n",
            "                    Otherwise, please (re)consider how to compute the fitness more elaborately. (iteration=96)\n",
            "  ')')\n",
            "/usr/local/lib/python3.6/dist-packages/cma/utilities/utils.py:333: UserWarning: flat fitness (f=4647.342817, sigma=1.96e-01).\n",
            "                    For small sigma, this could indicate numerical convergence.\n",
            "                    Otherwise, please (re)consider how to compute the fitness more elaborately. (iteration=97)\n",
            "  ')')\n",
            "/usr/local/lib/python3.6/dist-packages/cma/utilities/utils.py:333: UserWarning: flat fitness (f=4647.342817, sigma=1.94e-01).\n",
            "                    For small sigma, this could indicate numerical convergence.\n",
            "                    Otherwise, please (re)consider how to compute the fitness more elaborately. (iteration=98)\n",
            "  ')')\n",
            "/usr/local/lib/python3.6/dist-packages/cma/utilities/utils.py:333: UserWarning: flat fitness (f=4647.342817, sigma=1.94e-01).\n",
            "                    For small sigma, this could indicate numerical convergence.\n",
            "                    Otherwise, please (re)consider how to compute the fitness more elaborately. (iteration=99)\n",
            "  ')')\n",
            "/usr/local/lib/python3.6/dist-packages/cma/utilities/utils.py:333: UserWarning: flat fitness (f=4647.342817, sigma=1.93e-01).\n",
            "                    For small sigma, this could indicate numerical convergence.\n",
            "                    Otherwise, please (re)consider how to compute the fitness more elaborately. (iteration=100)\n",
            "  ')')\n",
            "/usr/local/lib/python3.6/dist-packages/cma/utilities/utils.py:333: UserWarning: flat fitness (f=4647.342817, sigma=1.92e-01).\n",
            "                    For small sigma, this could indicate numerical convergence.\n",
            "                    Otherwise, please (re)consider how to compute the fitness more elaborately. (iteration=101)\n",
            "  ')')\n",
            "/usr/local/lib/python3.6/dist-packages/cma/utilities/utils.py:333: UserWarning: flat fitness (f=4647.342817, sigma=1.92e-01).\n",
            "                    For small sigma, this could indicate numerical convergence.\n",
            "                    Otherwise, please (re)consider how to compute the fitness more elaborately. (iteration=102)\n",
            "  ')')\n",
            "/usr/local/lib/python3.6/dist-packages/cma/utilities/utils.py:333: UserWarning: flat fitness (f=4647.342817, sigma=1.92e-01).\n",
            "                    For small sigma, this could indicate numerical convergence.\n",
            "                    Otherwise, please (re)consider how to compute the fitness more elaborately. (iteration=103)\n",
            "  ')')\n",
            "/usr/local/lib/python3.6/dist-packages/cma/utilities/utils.py:333: UserWarning: flat fitness (f=4647.342817, sigma=1.92e-01).\n",
            "                    For small sigma, this could indicate numerical convergence.\n",
            "                    Otherwise, please (re)consider how to compute the fitness more elaborately. (iteration=104)\n",
            "  ')')\n",
            "/usr/local/lib/python3.6/dist-packages/cma/utilities/utils.py:333: UserWarning: flat fitness (f=4647.342817, sigma=1.91e-01).\n",
            "                    For small sigma, this could indicate numerical convergence.\n",
            "                    Otherwise, please (re)consider how to compute the fitness more elaborately. (iteration=105)\n",
            "  ')')\n",
            "/usr/local/lib/python3.6/dist-packages/cma/utilities/utils.py:333: UserWarning: flat fitness (f=4647.342817, sigma=1.90e-01).\n",
            "                    For small sigma, this could indicate numerical convergence.\n",
            "                    Otherwise, please (re)consider how to compute the fitness more elaborately. (iteration=106)\n",
            "  ')')\n",
            "/usr/local/lib/python3.6/dist-packages/cma/utilities/utils.py:333: UserWarning: flat fitness (f=4647.342817, sigma=1.92e-01).\n",
            "                    For small sigma, this could indicate numerical convergence.\n",
            "                    Otherwise, please (re)consider how to compute the fitness more elaborately. (iteration=107)\n",
            "  ')')\n",
            "/usr/local/lib/python3.6/dist-packages/cma/utilities/utils.py:333: UserWarning: flat fitness (f=4647.342817, sigma=1.96e-01).\n",
            "                    For small sigma, this could indicate numerical convergence.\n",
            "                    Otherwise, please (re)consider how to compute the fitness more elaborately. (iteration=108)\n",
            "  ')')\n",
            "/usr/local/lib/python3.6/dist-packages/cma/utilities/utils.py:333: UserWarning: flat fitness (f=4647.342817, sigma=1.97e-01).\n",
            "                    For small sigma, this could indicate numerical convergence.\n",
            "                    Otherwise, please (re)consider how to compute the fitness more elaborately. (iteration=109)\n",
            "  ')')\n",
            "/usr/local/lib/python3.6/dist-packages/cma/utilities/utils.py:333: UserWarning: flat fitness (f=4647.342817, sigma=1.98e-01).\n",
            "                    For small sigma, this could indicate numerical convergence.\n",
            "                    Otherwise, please (re)consider how to compute the fitness more elaborately. (iteration=110)\n",
            "  ')')\n",
            "/usr/local/lib/python3.6/dist-packages/cma/utilities/utils.py:333: UserWarning: flat fitness (f=4647.342817, sigma=1.99e-01).\n",
            "                    For small sigma, this could indicate numerical convergence.\n",
            "                    Otherwise, please (re)consider how to compute the fitness more elaborately. (iteration=111)\n",
            "  ')')\n"
          ],
          "name": "stderr"
        },
        {
          "output_type": "stream",
          "text": [
            "  116   1740 4.647342816677239e+03 1.6e+00 1.96e-01  2e-01  2e-01 0:02.3\n"
          ],
          "name": "stdout"
        },
        {
          "output_type": "stream",
          "text": [
            "/usr/local/lib/python3.6/dist-packages/cma/utilities/utils.py:333: UserWarning: flat fitness (f=4647.342817, sigma=1.97e-01).\n",
            "                    For small sigma, this could indicate numerical convergence.\n",
            "                    Otherwise, please (re)consider how to compute the fitness more elaborately. (iteration=112)\n",
            "  ')')\n",
            "/usr/local/lib/python3.6/dist-packages/cma/utilities/utils.py:333: UserWarning: flat fitness (f=4647.342817, sigma=1.97e-01).\n",
            "                    For small sigma, this could indicate numerical convergence.\n",
            "                    Otherwise, please (re)consider how to compute the fitness more elaborately. (iteration=113)\n",
            "  ')')\n",
            "/usr/local/lib/python3.6/dist-packages/cma/utilities/utils.py:333: UserWarning: flat fitness (f=4647.342817, sigma=1.96e-01).\n",
            "                    For small sigma, this could indicate numerical convergence.\n",
            "                    Otherwise, please (re)consider how to compute the fitness more elaborately. (iteration=114)\n",
            "  ')')\n",
            "/usr/local/lib/python3.6/dist-packages/cma/utilities/utils.py:333: UserWarning: flat fitness (f=4647.342817, sigma=1.96e-01).\n",
            "                    For small sigma, this could indicate numerical convergence.\n",
            "                    Otherwise, please (re)consider how to compute the fitness more elaborately. (iteration=115)\n",
            "  ')')\n",
            "/usr/local/lib/python3.6/dist-packages/cma/utilities/utils.py:333: UserWarning: flat fitness (f=4647.342817, sigma=1.96e-01).\n",
            "                    For small sigma, this could indicate numerical convergence.\n",
            "                    Otherwise, please (re)consider how to compute the fitness more elaborately. (iteration=116)\n",
            "  ')')\n",
            "/usr/local/lib/python3.6/dist-packages/cma/utilities/utils.py:333: UserWarning: flat fitness (f=4647.342817, sigma=1.96e-01).\n",
            "                    For small sigma, this could indicate numerical convergence.\n",
            "                    Otherwise, please (re)consider how to compute the fitness more elaborately. (iteration=116)\n",
            "  ')')\n"
          ],
          "name": "stderr"
        },
        {
          "output_type": "stream",
          "text": [
            "termination on tolfun=1e-11 (Mon Apr 13 14:59:04 2020)\n",
            "final/bestever f-value = 4.647343e+03 4.647343e+03\n",
            "incumbent solution: [-1.14559922  0.08204162  1.85758055  1.27935853  3.65563403  0.13610817\n",
            "  0.01324383  1.65634598 ...]\n",
            "std deviations: [0.18854461 0.19012022 0.20063794 0.19603253 0.19575033 0.19484713\n",
            " 0.18957355 0.19431711 ...]\n",
            "(7_w,15)-aCMA-ES (mu_w=4.5,w_1=34%) in dimension 50 (seed=862030, Mon Apr 13 14:59:04 2020)\n",
            "Iterat #Fevals   function value  axis ratio  sigma  min&max std  t[m:s]\n",
            "    1     15 4.649697134949279e+03 1.0e+00 2.53e-01  3e-01  3e-01 0:00.0\n",
            "    2     30 4.649697134949007e+03 1.0e+00 2.47e-01  2e-01  2e-01 0:00.0\n",
            "    3     45 4.649697134949006e+03 1.1e+00 2.46e-01  2e-01  2e-01 0:00.0\n"
          ],
          "name": "stdout"
        },
        {
          "output_type": "stream",
          "text": [
            "/usr/local/lib/python3.6/dist-packages/cma/utilities/utils.py:333: UserWarning: function_values is not a list of scalars,\n",
            "                        the first element equals [4649.69713519] with non-scalar type <class 'numpy.ndarray'>.\n",
            "                        Using now ``[v[0] for v in function_values]`` instead (further warnings are suppressed) ()\n",
            "  ')')\n",
            "/usr/local/lib/python3.6/dist-packages/cma/utilities/utils.py:333: UserWarning: function_values is not a list of scalars,\n",
            "                        the first element equals [4649.69713496] with non-scalar type <class 'numpy.ndarray'>.\n",
            "                        Using now ``[v[0] for v in function_values]`` instead (further warnings are suppressed) ()\n",
            "  ')')\n"
          ],
          "name": "stderr"
        },
        {
          "output_type": "stream",
          "text": [
            "  100   1500 4.236552629376088e+03 1.4e+00 4.17e-02  4e-02  4e-02 0:01.4\n",
            "  200   3000 4.174895339432182e+03 1.4e+00 2.28e-03  2e-03  2e-03 0:02.7\n",
            "  300   4500 4.174732058296933e+03 1.5e+00 1.23e-04  1e-04  1e-04 0:04.1\n",
            "  400   6000 4.174731478183099e+03 1.5e+00 8.69e-06  7e-06  8e-06 0:05.4\n",
            "  500   7500 4.174731474877080e+03 1.6e+00 5.32e-07  4e-07  5e-07 0:06.8\n",
            "  600   9000 4.174731474869542e+03 1.6e+00 3.58e-08  3e-08  3e-08 0:08.2\n",
            "  700  10500 4.174731474869516e+03 1.7e+00 3.44e-09  3e-09  3e-09 0:09.6\n",
            "  729  10935 4.174731474869516e+03 1.8e+00 2.71e-09  2e-09  2e-09 0:10.0\n",
            "termination on tolfun=1e-11 (Mon Apr 13 14:59:16 2020)\n",
            "final/bestever f-value = 4.174731e+03 4.174731e+03\n",
            "incumbent solution: [ 0.03363367  0.05651834 -0.06186882 -0.00846283  0.04025514 -0.04603139\n",
            " -0.01140646 -0.08156256 ...]\n",
            "std deviations: [2.12389980e-09 2.15355079e-09 2.07112385e-09 2.18372877e-09\n",
            " 2.04446005e-09 2.22710029e-09 2.14951424e-09 2.13424944e-09 ...]\n",
            "(7_w,15)-aCMA-ES (mu_w=4.5,w_1=34%) in dimension 50 (seed=849100, Mon Apr 13 14:59:16 2020)\n",
            "Iterat #Fevals   function value  axis ratio  sigma  min&max std  t[m:s]\n",
            "    1     15 6.300463092921383e+03 1.0e+00 2.55e-01  3e-01  3e-01 0:00.0\n",
            "    2     30 6.015458225513241e+03 1.0e+00 2.48e-01  2e-01  2e-01 0:00.0\n",
            "    3     45 6.008596233130516e+03 1.0e+00 2.43e-01  2e-01  2e-01 0:00.1\n"
          ],
          "name": "stdout"
        },
        {
          "output_type": "stream",
          "text": [
            "/usr/local/lib/python3.6/dist-packages/cma/utilities/utils.py:333: UserWarning: function_values is not a list of scalars,\n",
            "                        the first element equals [6855.41034119] with non-scalar type <class 'numpy.ndarray'>.\n",
            "                        Using now ``[v[0] for v in function_values]`` instead (further warnings are suppressed) ()\n",
            "  ')')\n",
            "/usr/local/lib/python3.6/dist-packages/cma/utilities/utils.py:333: UserWarning: function_values is not a list of scalars,\n",
            "                        the first element equals [6632.28534129] with non-scalar type <class 'numpy.ndarray'>.\n",
            "                        Using now ``[v[0] for v in function_values]`` instead (further warnings are suppressed) ()\n",
            "  ')')\n"
          ],
          "name": "stderr"
        },
        {
          "output_type": "stream",
          "text": [
            "  100   1500 -1.084839747071231e+08 1.8e+00 4.26e+01  4e+01  5e+01 0:01.9\n",
            "  129   1935 -5.687486716190568e+09 1.9e+00 2.59e+02  2e+02  3e+02 0:02.4\n",
            "termination on tolfacupx=1000.0 (Mon Apr 13 14:59:19 2020)\n",
            "final/bestever f-value = -5.605358e+09 -5.687487e+09\n",
            "incumbent solution: [    5.44361541  -308.54183096  1140.54718902  1394.21882095\n",
            "   178.28446775 -1825.09686931   231.11486442  1165.26389966 ...]\n",
            "std deviations: [245.17039963 252.28687325 251.15535207 249.97313701 251.56328916\n",
            " 278.54739954 256.48922707 253.28966427 ...]\n",
            "Run : 19\n",
            "(7_w,15)-aCMA-ES (mu_w=4.5,w_1=34%) in dimension 50 (seed=842850, Mon Apr 13 14:59:19 2020)\n",
            "Iterat #Fevals   function value  axis ratio  sigma  min&max std  t[m:s]\n",
            "    1     15 4.647352691338693e+03 1.0e+00 2.56e-01  3e-01  3e-01 0:00.0\n",
            "    2     30 4.647343107068125e+03 1.0e+00 2.49e-01  2e-01  3e-01 0:00.0\n",
            "    3     45 4.647342970532702e+03 1.1e+00 2.46e-01  2e-01  2e-01 0:00.1\n"
          ],
          "name": "stdout"
        },
        {
          "output_type": "stream",
          "text": [
            "/usr/local/lib/python3.6/dist-packages/cma/utilities/utils.py:333: UserWarning: function_values is not a list of scalars,\n",
            "                        the first element equals [4647.36504714] with non-scalar type <class 'numpy.ndarray'>.\n",
            "                        Using now ``[v[0] for v in function_values]`` instead (further warnings are suppressed) ()\n",
            "  ')')\n",
            "/usr/local/lib/python3.6/dist-packages/cma/utilities/utils.py:333: UserWarning: function_values is not a list of scalars,\n",
            "                        the first element equals [4647.37124903] with non-scalar type <class 'numpy.ndarray'>.\n",
            "                        Using now ``[v[0] for v in function_values]`` instead (further warnings are suppressed) ()\n",
            "  ')')\n"
          ],
          "name": "stderr"
        },
        {
          "output_type": "stream",
          "text": [
            "  100   1500 2.850945094544823e+03 1.4e+00 4.07e-02  4e-02  4e-02 0:01.9\n",
            "  200   3000 2.715780734373134e+03 1.5e+00 2.67e-03  2e-03  3e-03 0:03.9\n",
            "  300   4500 2.715176410582270e+03 1.5e+00 1.53e-04  1e-04  1e-04 0:05.8\n",
            "  400   6000 2.715174391533285e+03 1.5e+00 9.28e-06  8e-06  9e-06 0:07.7\n",
            "  500   7500 2.715174385959855e+03 1.6e+00 5.45e-07  4e-07  5e-07 0:09.7\n",
            "  600   9000 2.715174385941196e+03 1.6e+00 3.21e-08  2e-08  3e-08 0:11.6\n",
            "  700  10500 2.715174385941112e+03 1.7e+00 2.91e-09  2e-09  2e-09 0:13.5\n",
            "  745  11175 2.715174385941111e+03 1.8e+00 1.74e-09  1e-09  1e-09 0:14.4\n",
            "termination on tolfun=1e-11 (Mon Apr 13 14:59:36 2020)\n",
            "final/bestever f-value = 2.715174e+03 2.715174e+03\n",
            "incumbent solution: [ 0.04675072  0.02542598 -0.14006052 -0.03997052 -0.02560333  0.01900346\n",
            " -0.06408277 -0.04565248 ...]\n",
            "std deviations: [1.27460348e-09 1.31764020e-09 1.39707163e-09 1.39971113e-09\n",
            " 1.33356510e-09 1.42701898e-09 1.37433974e-09 1.36383717e-09 ...]\n",
            "(7_w,15)-aCMA-ES (mu_w=4.5,w_1=34%) in dimension 50 (seed=900580, Mon Apr 13 14:59:36 2020)\n",
            "Iterat #Fevals   function value  axis ratio  sigma  min&max std  t[m:s]\n",
            "    1     15 4.649697134949361e+03 1.0e+00 2.58e-01  3e-01  3e-01 0:00.0\n",
            "    2     30 4.649697134947129e+03 1.0e+00 2.50e-01  2e-01  3e-01 0:00.0\n",
            "    3     45 4.649697134948977e+03 1.1e+00 2.47e-01  2e-01  2e-01 0:00.0\n"
          ],
          "name": "stdout"
        },
        {
          "output_type": "stream",
          "text": [
            "/usr/local/lib/python3.6/dist-packages/cma/utilities/utils.py:333: UserWarning: function_values is not a list of scalars,\n",
            "                        the first element equals [4649.69713498] with non-scalar type <class 'numpy.ndarray'>.\n",
            "                        Using now ``[v[0] for v in function_values]`` instead (further warnings are suppressed) ()\n",
            "  ')')\n",
            "/usr/local/lib/python3.6/dist-packages/cma/utilities/utils.py:333: UserWarning: function_values is not a list of scalars,\n",
            "                        the first element equals [4649.69713862] with non-scalar type <class 'numpy.ndarray'>.\n",
            "                        Using now ``[v[0] for v in function_values]`` instead (further warnings are suppressed) ()\n",
            "  ')')\n"
          ],
          "name": "stderr"
        },
        {
          "output_type": "stream",
          "text": [
            "  100   1500 4.490782441546760e+03 1.4e+00 3.01e-02  3e-02  3e-02 0:01.4\n",
            "  200   3000 4.474016919609026e+03 1.4e+00 2.05e-03  2e-03  2e-03 0:02.7\n",
            "  300   4500 4.473943877103842e+03 1.5e+00 1.29e-04  1e-04  1e-04 0:04.1\n",
            "  400   6000 4.473943653867684e+03 1.5e+00 8.75e-06  7e-06  8e-06 0:05.5\n",
            "  500   7500 4.473943652474719e+03 1.6e+00 4.45e-07  3e-07  4e-07 0:06.9\n",
            "  600   9000 4.473943652472211e+03 1.6e+00 2.74e-08  2e-08  2e-08 0:08.2\n"
          ],
          "name": "stdout"
        },
        {
          "output_type": "stream",
          "text": [
            "/usr/local/lib/python3.6/dist-packages/cma/utilities/utils.py:333: UserWarning: flat fitness (f=4473.943652, sigma=6.60e-09).\n",
            "                    For small sigma, this could indicate numerical convergence.\n",
            "                    Otherwise, please (re)consider how to compute the fitness more elaborately. (iteration=657)\n",
            "  ')')\n"
          ],
          "name": "stderr"
        },
        {
          "output_type": "stream",
          "text": [
            "  700  10500 4.473943652472201e+03 1.7e+00 3.42e-09  2e-09  3e-09 0:09.6\n"
          ],
          "name": "stdout"
        },
        {
          "output_type": "stream",
          "text": [
            "/usr/local/lib/python3.6/dist-packages/cma/utilities/utils.py:333: UserWarning: flat fitness (f=4473.943652, sigma=4.06e-09).\n",
            "                    For small sigma, this could indicate numerical convergence.\n",
            "                    Otherwise, please (re)consider how to compute the fitness more elaborately. (iteration=689)\n",
            "  ')')\n"
          ],
          "name": "stderr"
        },
        {
          "output_type": "stream",
          "text": [
            "  714  10710 4.473943652472201e+03 1.7e+00 3.29e-09  2e-09  3e-09 0:09.8\n"
          ],
          "name": "stdout"
        },
        {
          "output_type": "stream",
          "text": [
            "/usr/local/lib/python3.6/dist-packages/cma/utilities/utils.py:333: UserWarning: flat fitness (f=4473.943652, sigma=3.24e-09).\n",
            "                    For small sigma, this could indicate numerical convergence.\n",
            "                    Otherwise, please (re)consider how to compute the fitness more elaborately. (iteration=703)\n",
            "  ')')\n",
            "/usr/local/lib/python3.6/dist-packages/cma/utilities/utils.py:333: UserWarning: flat fitness (f=4473.943652, sigma=3.20e-09).\n",
            "                    For small sigma, this could indicate numerical convergence.\n",
            "                    Otherwise, please (re)consider how to compute the fitness more elaborately. (iteration=710)\n",
            "  ')')\n"
          ],
          "name": "stderr"
        },
        {
          "output_type": "stream",
          "text": [
            "termination on tolfun=1e-11 (Mon Apr 13 14:59:48 2020)\n",
            "final/bestever f-value = 4.473944e+03 4.473944e+03\n",
            "incumbent solution: [-0.0890267   0.08408296  0.47132753  0.6517617   0.37362132  0.11483965\n",
            " -0.17034789 -0.24404494 ...]\n",
            "std deviations: [2.65890821e-09 2.48100007e-09 2.57017687e-09 2.60865436e-09\n",
            " 2.51019077e-09 2.71813649e-09 2.59650144e-09 2.58496127e-09 ...]\n",
            "(7_w,15)-aCMA-ES (mu_w=4.5,w_1=34%) in dimension 50 (seed=956080, Mon Apr 13 14:59:48 2020)\n",
            "Iterat #Fevals   function value  axis ratio  sigma  min&max std  t[m:s]\n",
            "    1     15 6.272907570958327e+03 1.0e+00 2.55e-01  3e-01  3e-01 0:00.0\n",
            "    2     30 6.016737878171603e+03 1.0e+00 2.47e-01  2e-01  2e-01 0:00.0\n",
            "    3     45 5.669265634653114e+03 1.1e+00 2.42e-01  2e-01  2e-01 0:00.1\n"
          ],
          "name": "stdout"
        },
        {
          "output_type": "stream",
          "text": [
            "/usr/local/lib/python3.6/dist-packages/cma/utilities/utils.py:333: UserWarning: function_values is not a list of scalars,\n",
            "                        the first element equals [7025.64842651] with non-scalar type <class 'numpy.ndarray'>.\n",
            "                        Using now ``[v[0] for v in function_values]`` instead (further warnings are suppressed) ()\n",
            "  ')')\n",
            "/usr/local/lib/python3.6/dist-packages/cma/utilities/utils.py:333: UserWarning: function_values is not a list of scalars,\n",
            "                        the first element equals [6016.73787817] with non-scalar type <class 'numpy.ndarray'>.\n",
            "                        Using now ``[v[0] for v in function_values]`` instead (further warnings are suppressed) ()\n",
            "  ')')\n"
          ],
          "name": "stderr"
        },
        {
          "output_type": "stream",
          "text": [
            "  100   1500 -2.467513471028836e+08 1.6e+00 6.02e+01  6e+01  6e+01 0:01.9\n",
            "  119   1785 -3.557671438492305e+09 1.7e+00 2.70e+02  3e+02  3e+02 0:02.2\n",
            "termination on tolfacupx=1000.0 (Mon Apr 13 14:59:51 2020)\n",
            "final/bestever f-value = -3.515923e+09 -3.557671e+09\n",
            "incumbent solution: [ -263.30966964   -25.87794894 -1150.80554223 -1085.38847197\n",
            "  -244.81778811   848.92003193  -614.15778394  -550.96883378 ...]\n",
            "std deviations: [258.61139791 258.16151851 267.92384899 261.0589548  257.50755809\n",
            " 258.54988175 261.50688738 269.38509532 ...]\n",
            "Run : 20\n",
            "(7_w,15)-aCMA-ES (mu_w=4.5,w_1=34%) in dimension 50 (seed=914888, Mon Apr 13 14:59:51 2020)\n",
            "Iterat #Fevals   function value  axis ratio  sigma  min&max std  t[m:s]\n",
            "    1     15 4.647343045486035e+03 1.0e+00 2.53e-01  3e-01  3e-01 0:00.0\n",
            "    2     30 4.647342894302052e+03 1.0e+00 2.43e-01  2e-01  2e-01 0:00.0\n",
            "    3     45 4.647342818803247e+03 1.1e+00 2.37e-01  2e-01  2e-01 0:00.1\n"
          ],
          "name": "stdout"
        },
        {
          "output_type": "stream",
          "text": [
            "/usr/local/lib/python3.6/dist-packages/cma/utilities/utils.py:333: UserWarning: function_values is not a list of scalars,\n",
            "                        the first element equals [4647.34606092] with non-scalar type <class 'numpy.ndarray'>.\n",
            "                        Using now ``[v[0] for v in function_values]`` instead (further warnings are suppressed) ()\n",
            "  ')')\n",
            "/usr/local/lib/python3.6/dist-packages/cma/utilities/utils.py:333: UserWarning: function_values is not a list of scalars,\n",
            "                        the first element equals [4647.34668015] with non-scalar type <class 'numpy.ndarray'>.\n",
            "                        Using now ``[v[0] for v in function_values]`` instead (further warnings are suppressed) ()\n",
            "  ')')\n"
          ],
          "name": "stderr"
        },
        {
          "output_type": "stream",
          "text": [
            "  100   1500 2.993616716075799e+03 1.5e+00 5.74e-02  5e-02  6e-02 0:01.9\n",
            "  200   3000 2.716347170956295e+03 1.6e+00 3.37e-03  3e-03  3e-03 0:03.8\n",
            "  300   4500 2.715178887535149e+03 1.6e+00 2.15e-04  2e-04  2e-04 0:05.8\n",
            "  400   6000 2.715174398526788e+03 1.6e+00 1.26e-05  1e-05  1e-05 0:07.7\n",
            "  500   7500 2.715174385970528e+03 1.6e+00 7.30e-07  6e-07  7e-07 0:09.7\n",
            "  600   9000 2.715174385941193e+03 1.7e+00 4.35e-08  3e-08  4e-08 0:11.6\n",
            "  700  10500 2.715174385941111e+03 1.7e+00 2.37e-09  2e-09  2e-09 0:13.6\n",
            "  746  11190 2.715174385941112e+03 1.8e+00 1.65e-09  1e-09  1e-09 0:14.5\n",
            "termination on tolfun=1e-11 (Mon Apr 13 15:00:08 2020)\n",
            "final/bestever f-value = 2.715174e+03 2.715174e+03\n",
            "incumbent solution: [ 0.04675072  0.02542598 -0.14006052 -0.03997052 -0.02560333  0.01900345\n",
            " -0.06408277 -0.04565247 ...]\n",
            "std deviations: [1.30005841e-09 1.21364210e-09 1.31545904e-09 1.25885911e-09\n",
            " 1.25637356e-09 1.31259730e-09 1.29954806e-09 1.28275854e-09 ...]\n",
            "(7_w,15)-aCMA-ES (mu_w=4.5,w_1=34%) in dimension 50 (seed=850644, Mon Apr 13 15:00:08 2020)\n",
            "Iterat #Fevals   function value  axis ratio  sigma  min&max std  t[m:s]\n",
            "    1     15 4.649697134871661e+03 1.0e+00 2.56e-01  3e-01  3e-01 0:00.0\n",
            "    2     30 4.649697134948892e+03 1.0e+00 2.50e-01  2e-01  3e-01 0:00.0\n",
            "    3     45 4.649697134948887e+03 1.1e+00 2.45e-01  2e-01  2e-01 0:00.0\n"
          ],
          "name": "stdout"
        },
        {
          "output_type": "stream",
          "text": [
            "/usr/local/lib/python3.6/dist-packages/cma/utilities/utils.py:333: UserWarning: function_values is not a list of scalars,\n",
            "                        the first element equals [4649.69713495] with non-scalar type <class 'numpy.ndarray'>.\n",
            "                        Using now ``[v[0] for v in function_values]`` instead (further warnings are suppressed) ()\n",
            "  ')')\n",
            "/usr/local/lib/python3.6/dist-packages/cma/utilities/utils.py:333: UserWarning: function_values is not a list of scalars,\n",
            "                        the first element equals [4649.69713495] with non-scalar type <class 'numpy.ndarray'>.\n",
            "                        Using now ``[v[0] for v in function_values]`` instead (further warnings are suppressed) ()\n",
            "  ')')\n"
          ],
          "name": "stderr"
        },
        {
          "output_type": "stream",
          "text": [
            "  100   1500 4.051703571930125e+03 1.4e+00 3.25e-02  3e-02  3e-02 0:01.4\n",
            "  200   3000 3.994981211816950e+03 1.4e+00 1.56e-03  1e-03  2e-03 0:02.7\n",
            "  300   4500 3.994836591819971e+03 1.5e+00 9.01e-05  8e-05  8e-05 0:04.1\n",
            "  400   6000 3.994836070234525e+03 1.5e+00 5.58e-06  5e-06  5e-06 0:05.5\n",
            "  500   7500 3.994836068454390e+03 1.6e+00 3.26e-07  2e-07  3e-07 0:06.9\n",
            "  600   9000 3.994836068450318e+03 1.6e+00 1.70e-08  1e-08  1e-08 0:08.3\n",
            "  700  10500 3.994836068450308e+03 1.7e+00 3.22e-09  2e-09  3e-09 0:09.7\n",
            "  716  10740 3.994836068450308e+03 1.7e+00 2.57e-09  2e-09  2e-09 0:09.9\n",
            "termination on tolfun=1e-11 (Mon Apr 13 15:00:20 2020)\n",
            "final/bestever f-value = 3.994836e+03 3.994836e+03\n",
            "incumbent solution: [ 0.41603757  0.39726236 -0.13214833  0.44279941  0.40479204  0.45548759\n",
            "  0.11560696  0.05886013 ...]\n",
            "std deviations: [2.06825574e-09 2.02375035e-09 2.05077677e-09 2.09685490e-09\n",
            " 1.90181218e-09 2.10188913e-09 2.01622952e-09 1.99587885e-09 ...]\n",
            "(7_w,15)-aCMA-ES (mu_w=4.5,w_1=34%) in dimension 50 (seed=923069, Mon Apr 13 15:00:20 2020)\n",
            "Iterat #Fevals   function value  axis ratio  sigma  min&max std  t[m:s]\n",
            "    1     15 7.121878598899330e+03 1.0e+00 2.55e-01  3e-01  3e-01 0:00.0\n",
            "    2     30 6.758629097401461e+03 1.0e+00 2.45e-01  2e-01  2e-01 0:00.0\n",
            "    3     45 6.407503414738541e+03 1.0e+00 2.38e-01  2e-01  2e-01 0:00.1\n"
          ],
          "name": "stdout"
        },
        {
          "output_type": "stream",
          "text": [
            "/usr/local/lib/python3.6/dist-packages/cma/utilities/utils.py:333: UserWarning: function_values is not a list of scalars,\n",
            "                        the first element equals [8301.10841971] with non-scalar type <class 'numpy.ndarray'>.\n",
            "                        Using now ``[v[0] for v in function_values]`` instead (further warnings are suppressed) ()\n",
            "  ')')\n",
            "/usr/local/lib/python3.6/dist-packages/cma/utilities/utils.py:333: UserWarning: function_values is not a list of scalars,\n",
            "                        the first element equals [6758.6290974] with non-scalar type <class 'numpy.ndarray'>.\n",
            "                        Using now ``[v[0] for v in function_values]`` instead (further warnings are suppressed) ()\n",
            "  ')')\n"
          ],
          "name": "stderr"
        },
        {
          "output_type": "stream",
          "text": [
            "  100   1500 -3.427256180091906e+08 1.7e+00 8.28e+01  8e+01  9e+01 0:01.9\n",
            "  120   1800 -5.244846380016097e+09 1.7e+00 2.64e+02  2e+02  3e+02 0:02.3\n",
            "termination on tolfacupx=1000.0 (Mon Apr 13 15:00:23 2020)\n",
            "final/bestever f-value = -5.119015e+09 -5.244846e+09\n",
            "incumbent solution: [ -894.51773838   780.89460222  -819.64374189  -550.74629273\n",
            "  -528.04669305  1012.78755448  -604.18804269 -1120.48746437 ...]\n",
            "std deviations: [260.75775071 255.30166745 257.25639208 254.06025887 255.34010323\n",
            " 257.79614836 261.33849789 261.4398028  ...]\n",
            "Run : 21\n",
            "(7_w,15)-aCMA-ES (mu_w=4.5,w_1=34%) in dimension 50 (seed=851806, Mon Apr 13 15:00:23 2020)\n",
            "Iterat #Fevals   function value  axis ratio  sigma  min&max std  t[m:s]\n",
            "    1     15 4.647340427005266e+03 1.0e+00 2.55e-01  3e-01  3e-01 0:00.0\n",
            "    2     30 4.647336230112716e+03 1.0e+00 2.45e-01  2e-01  2e-01 0:00.0\n",
            "    3     45 4.647332275115477e+03 1.1e+00 2.37e-01  2e-01  2e-01 0:00.1\n"
          ],
          "name": "stdout"
        },
        {
          "output_type": "stream",
          "text": [
            "/usr/local/lib/python3.6/dist-packages/cma/utilities/utils.py:333: UserWarning: function_values is not a list of scalars,\n",
            "                        the first element equals [4647.34042701] with non-scalar type <class 'numpy.ndarray'>.\n",
            "                        Using now ``[v[0] for v in function_values]`` instead (further warnings are suppressed) ()\n",
            "  ')')\n",
            "/usr/local/lib/python3.6/dist-packages/cma/utilities/utils.py:333: UserWarning: function_values is not a list of scalars,\n",
            "                        the first element equals [4647.34268149] with non-scalar type <class 'numpy.ndarray'>.\n",
            "                        Using now ``[v[0] for v in function_values]`` instead (further warnings are suppressed) ()\n",
            "  ')')\n"
          ],
          "name": "stderr"
        },
        {
          "output_type": "stream",
          "text": [
            "  100   1500 2.807689643020080e+03 1.4e+00 3.12e-02  3e-02  3e-02 0:02.0\n",
            "  200   3000 2.715622002693058e+03 1.5e+00 2.12e-03  2e-03  2e-03 0:03.9\n",
            "  300   4500 2.715175738784524e+03 1.5e+00 1.23e-04  1e-04  1e-04 0:05.9\n",
            "  400   6000 2.715174390641074e+03 1.5e+00 7.16e-06  6e-06  7e-06 0:07.8\n",
            "  500   7500 2.715174385957825e+03 1.6e+00 4.72e-07  4e-07  4e-07 0:09.8\n",
            "  600   9000 2.715174385941196e+03 1.6e+00 3.26e-08  2e-08  3e-08 0:11.7\n",
            "  700  10500 2.715174385941111e+03 1.7e+00 2.82e-09  2e-09  2e-09 0:13.7\n",
            "  745  11175 2.715174385941112e+03 1.7e+00 1.85e-09  1e-09  2e-09 0:14.5\n",
            "termination on tolfun=1e-11 (Mon Apr 13 15:00:40 2020)\n",
            "final/bestever f-value = 2.715174e+03 2.715174e+03\n",
            "incumbent solution: [ 0.04675072  0.02542598 -0.14006053 -0.03997051 -0.02560334  0.01900346\n",
            " -0.06408278 -0.04565248 ...]\n",
            "std deviations: [1.39189302e-09 1.36602161e-09 1.51269228e-09 1.46435236e-09\n",
            " 1.39543841e-09 1.54761388e-09 1.45234373e-09 1.49810615e-09 ...]\n",
            "(7_w,15)-aCMA-ES (mu_w=4.5,w_1=34%) in dimension 50 (seed=907720, Mon Apr 13 15:00:40 2020)\n",
            "Iterat #Fevals   function value  axis ratio  sigma  min&max std  t[m:s]\n",
            "    1     15 4.649697134949010e+03 1.0e+00 2.57e-01  3e-01  3e-01 0:00.0\n",
            "    2     30 4.649697134872427e+03 1.0e+00 2.50e-01  2e-01  3e-01 0:00.0\n",
            "    3     45 4.649697134927958e+03 1.1e+00 2.45e-01  2e-01  2e-01 0:00.0\n"
          ],
          "name": "stdout"
        },
        {
          "output_type": "stream",
          "text": [
            "/usr/local/lib/python3.6/dist-packages/cma/utilities/utils.py:333: UserWarning: function_values is not a list of scalars,\n",
            "                        the first element equals [4649.69713495] with non-scalar type <class 'numpy.ndarray'>.\n",
            "                        Using now ``[v[0] for v in function_values]`` instead (further warnings are suppressed) ()\n",
            "  ')')\n",
            "/usr/local/lib/python3.6/dist-packages/cma/utilities/utils.py:333: UserWarning: function_values is not a list of scalars,\n",
            "                        the first element equals [4649.69713495] with non-scalar type <class 'numpy.ndarray'>.\n",
            "                        Using now ``[v[0] for v in function_values]`` instead (further warnings are suppressed) ()\n",
            "  ')')\n"
          ],
          "name": "stderr"
        },
        {
          "output_type": "stream",
          "text": [
            "  100   1500 4.377535553198985e+03 1.4e+00 3.04e-02  3e-02  3e-02 0:01.4\n",
            "  200   3000 4.347971408093964e+03 1.4e+00 1.66e-03  1e-03  2e-03 0:02.8\n",
            "  300   4500 4.347893581494074e+03 1.5e+00 8.78e-05  8e-05  8e-05 0:04.1\n",
            "  400   6000 4.347893414758631e+03 1.5e+00 4.82e-06  4e-06  4e-06 0:05.5\n",
            "  500   7500 4.347893414103135e+03 1.6e+00 3.37e-07  3e-07  3e-07 0:06.9\n",
            "  600   9000 4.347893414100032e+03 1.6e+00 1.84e-08  1e-08  2e-08 0:08.3\n"
          ],
          "name": "stdout"
        },
        {
          "output_type": "stream",
          "text": [
            "/usr/local/lib/python3.6/dist-packages/cma/utilities/utils.py:333: UserWarning: flat fitness (f=4347.893414, sigma=3.75e-09).\n",
            "                    For small sigma, this could indicate numerical convergence.\n",
            "                    Otherwise, please (re)consider how to compute the fitness more elaborately. (iteration=683)\n",
            "  ')')\n"
          ],
          "name": "stderr"
        },
        {
          "output_type": "stream",
          "text": [
            "  700  10500 4.347893414100025e+03 1.7e+00 2.96e-09  2e-09  3e-09 0:09.6\n",
            "  708  10620 4.347893414100025e+03 1.7e+00 2.97e-09  2e-09  3e-09 0:09.7\n",
            "termination on tolfun=1e-11 (Mon Apr 13 15:00:52 2020)\n",
            "final/bestever f-value = 4.347893e+03 4.347893e+03\n",
            "incumbent solution: [-0.03662408  0.36872401  0.42531561  0.16898093  0.34876528  0.31898688\n",
            " -0.05726376  0.11404956 ...]\n",
            "std deviations: [2.25700549e-09 2.17987863e-09 2.36354497e-09 2.32659653e-09\n",
            " 2.26395876e-09 2.52794602e-09 2.29861191e-09 2.35503137e-09 ...]\n",
            "(7_w,15)-aCMA-ES (mu_w=4.5,w_1=34%) in dimension 50 (seed=916053, Mon Apr 13 15:00:52 2020)\n",
            "Iterat #Fevals   function value  axis ratio  sigma  min&max std  t[m:s]\n",
            "    1     15 6.219136080660961e+03 1.0e+00 2.51e-01  3e-01  3e-01 0:00.0\n",
            "    2     30 5.993773475745099e+03 1.0e+00 2.39e-01  2e-01  2e-01 0:00.0\n",
            "    3     45 5.803394666175640e+03 1.0e+00 2.32e-01  2e-01  2e-01 0:00.1\n"
          ],
          "name": "stdout"
        },
        {
          "output_type": "stream",
          "text": [
            "/usr/local/lib/python3.6/dist-packages/cma/utilities/utils.py:333: UserWarning: function_values is not a list of scalars,\n",
            "                        the first element equals [6991.80514931] with non-scalar type <class 'numpy.ndarray'>.\n",
            "                        Using now ``[v[0] for v in function_values]`` instead (further warnings are suppressed) ()\n",
            "  ')')\n",
            "/usr/local/lib/python3.6/dist-packages/cma/utilities/utils.py:333: UserWarning: function_values is not a list of scalars,\n",
            "                        the first element equals [6115.71177985] with non-scalar type <class 'numpy.ndarray'>.\n",
            "                        Using now ``[v[0] for v in function_values]`` instead (further warnings are suppressed) ()\n",
            "  ')')\n"
          ],
          "name": "stderr"
        },
        {
          "output_type": "stream",
          "text": [
            "  100   1500 -1.001122585088458e+08 1.6e+00 4.13e+01  4e+01  4e+01 0:01.9\n",
            "  126   1890 -4.145547251473606e+09 1.7e+00 2.70e+02  3e+02  3e+02 0:02.4\n",
            "termination on tolfacupx=1000.0 (Mon Apr 13 15:00:55 2020)\n",
            "final/bestever f-value = -4.265526e+09 -4.265526e+09\n",
            "incumbent solution: [ -393.86430503  -107.13663526  -969.58788067  -987.18350125\n",
            "  -634.17587509  1140.92819573  -143.22129111 -1029.48631496 ...]\n",
            "std deviations: [252.64133874 259.4594481  266.22885276 263.61016815 256.73493915\n",
            " 262.2489815  263.19366009 270.57247916 ...]\n",
            "Run : 22\n",
            "(7_w,15)-aCMA-ES (mu_w=4.5,w_1=34%) in dimension 50 (seed=901438, Mon Apr 13 15:00:55 2020)\n",
            "Iterat #Fevals   function value  axis ratio  sigma  min&max std  t[m:s]\n",
            "    1     15 4.647342334048797e+03 1.0e+00 2.53e-01  3e-01  3e-01 0:00.0\n",
            "    2     30 4.647341206124841e+03 1.0e+00 2.44e-01  2e-01  2e-01 0:00.0\n",
            "    3     45 4.647338361259530e+03 1.0e+00 2.36e-01  2e-01  2e-01 0:00.1\n"
          ],
          "name": "stdout"
        },
        {
          "output_type": "stream",
          "text": [
            "/usr/local/lib/python3.6/dist-packages/cma/utilities/utils.py:333: UserWarning: function_values is not a list of scalars,\n",
            "                        the first element equals [4647.34499951] with non-scalar type <class 'numpy.ndarray'>.\n",
            "                        Using now ``[v[0] for v in function_values]`` instead (further warnings are suppressed) ()\n",
            "  ')')\n",
            "/usr/local/lib/python3.6/dist-packages/cma/utilities/utils.py:333: UserWarning: function_values is not a list of scalars,\n",
            "                        the first element equals [4647.34379157] with non-scalar type <class 'numpy.ndarray'>.\n",
            "                        Using now ``[v[0] for v in function_values]`` instead (further warnings are suppressed) ()\n",
            "  ')')\n"
          ],
          "name": "stderr"
        },
        {
          "output_type": "stream",
          "text": [
            "  100   1500 2.808318756612252e+03 1.4e+00 3.16e-02  3e-02  3e-02 0:02.0\n",
            "  200   3000 2.715556769120413e+03 1.5e+00 2.05e-03  2e-03  2e-03 0:03.9\n",
            "  300   4500 2.715175673974406e+03 1.5e+00 1.21e-04  1e-04  1e-04 0:05.9\n",
            "  400   6000 2.715174389648238e+03 1.5e+00 7.17e-06  6e-06  7e-06 0:07.8\n",
            "  500   7500 2.715174385956641e+03 1.5e+00 4.62e-07  4e-07  4e-07 0:09.8\n",
            "  600   9000 2.715174385941175e+03 1.6e+00 3.24e-08  2e-08  3e-08 0:11.8\n",
            "  700  10500 2.715174385941111e+03 1.7e+00 2.99e-09  2e-09  3e-09 0:13.7\n",
            "  738  11070 2.715174385941111e+03 1.7e+00 1.48e-09  1e-09  1e-09 0:14.5\n",
            "termination on tolfun=1e-11 (Mon Apr 13 15:01:12 2020)\n",
            "final/bestever f-value = 2.715174e+03 2.715174e+03\n",
            "incumbent solution: [ 0.04675071  0.02542598 -0.14006053 -0.03997052 -0.02560333  0.01900346\n",
            " -0.06408278 -0.04565248 ...]\n",
            "std deviations: [1.15640298e-09 1.11482401e-09 1.13664605e-09 1.16354770e-09\n",
            " 1.12775883e-09 1.22251817e-09 1.16499275e-09 1.17653954e-09 ...]\n",
            "(7_w,15)-aCMA-ES (mu_w=4.5,w_1=34%) in dimension 50 (seed=879899, Mon Apr 13 15:01:12 2020)\n",
            "Iterat #Fevals   function value  axis ratio  sigma  min&max std  t[m:s]\n",
            "    1     15 4.649697134276027e+03 1.0e+00 2.54e-01  3e-01  3e-01 0:00.0\n",
            "    2     30 4.649697131215088e+03 1.0e+00 2.43e-01  2e-01  2e-01 0:00.0\n",
            "    3     45 4.649697094073168e+03 1.0e+00 2.36e-01  2e-01  2e-01 0:00.0\n"
          ],
          "name": "stdout"
        },
        {
          "output_type": "stream",
          "text": [
            "/usr/local/lib/python3.6/dist-packages/cma/utilities/utils.py:333: UserWarning: function_values is not a list of scalars,\n",
            "                        the first element equals [4649.69713494] with non-scalar type <class 'numpy.ndarray'>.\n",
            "                        Using now ``[v[0] for v in function_values]`` instead (further warnings are suppressed) ()\n",
            "  ')')\n",
            "/usr/local/lib/python3.6/dist-packages/cma/utilities/utils.py:333: UserWarning: function_values is not a list of scalars,\n",
            "                        the first element equals [4649.69713494] with non-scalar type <class 'numpy.ndarray'>.\n",
            "                        Using now ``[v[0] for v in function_values]`` instead (further warnings are suppressed) ()\n",
            "  ')')\n"
          ],
          "name": "stderr"
        },
        {
          "output_type": "stream",
          "text": [
            "  100   1500 4.042629483010565e+03 1.4e+00 2.84e-02  3e-02  3e-02 0:01.4\n",
            "  200   3000 3.995054434226985e+03 1.4e+00 1.93e-03  2e-03  2e-03 0:02.8\n",
            "  300   4500 3.994836730187087e+03 1.5e+00 1.06e-04  9e-05  1e-04 0:04.2\n",
            "  400   6000 3.994836069570089e+03 1.5e+00 4.74e-06  4e-06  4e-06 0:05.5\n",
            "  500   7500 3.994836068455766e+03 1.6e+00 3.45e-07  3e-07  3e-07 0:06.9\n",
            "  600   9000 3.994836068450327e+03 1.6e+00 2.00e-08  1e-08  2e-08 0:08.3\n",
            "  700  10500 3.994836068450307e+03 1.7e+00 3.74e-09  3e-09  3e-09 0:09.7\n",
            "  725  10875 3.994836068450310e+03 1.8e+00 3.89e-09  3e-09  3e-09 0:10.0\n",
            "termination on tolfun=1e-11 (Mon Apr 13 15:01:25 2020)\n",
            "final/bestever f-value = 3.994836e+03 3.994836e+03\n",
            "incumbent solution: [ 0.41603758  0.39726236 -0.13214833  0.44279939  0.40479205  0.45548758\n",
            "  0.11560695  0.05886012 ...]\n",
            "std deviations: [3.04492840e-09 2.82353845e-09 3.19955047e-09 3.01895741e-09\n",
            " 2.91742023e-09 3.19242377e-09 3.04276348e-09 3.20713877e-09 ...]\n",
            "(7_w,15)-aCMA-ES (mu_w=4.5,w_1=34%) in dimension 50 (seed=883642, Mon Apr 13 15:01:25 2020)\n",
            "Iterat #Fevals   function value  axis ratio  sigma  min&max std  t[m:s]\n",
            "    1     15 5.607396645474115e+03 1.0e+00 2.54e-01  3e-01  3e-01 0:00.0\n",
            "    2     30 5.324401336528055e+03 1.0e+00 2.44e-01  2e-01  2e-01 0:00.0\n",
            "    3     45 5.301723514582636e+03 1.0e+00 2.36e-01  2e-01  2e-01 0:00.1\n"
          ],
          "name": "stdout"
        },
        {
          "output_type": "stream",
          "text": [
            "/usr/local/lib/python3.6/dist-packages/cma/utilities/utils.py:333: UserWarning: function_values is not a list of scalars,\n",
            "                        the first element equals [6478.88705233] with non-scalar type <class 'numpy.ndarray'>.\n",
            "                        Using now ``[v[0] for v in function_values]`` instead (further warnings are suppressed) ()\n",
            "  ')')\n",
            "/usr/local/lib/python3.6/dist-packages/cma/utilities/utils.py:333: UserWarning: function_values is not a list of scalars,\n",
            "                        the first element equals [6061.20574549] with non-scalar type <class 'numpy.ndarray'>.\n",
            "                        Using now ``[v[0] for v in function_values]`` instead (further warnings are suppressed) ()\n",
            "  ')')\n"
          ],
          "name": "stderr"
        },
        {
          "output_type": "stream",
          "text": [
            "  100   1500 -2.527868846347704e+08 2.3e+00 5.16e+01  5e+01  6e+01 0:01.9\n",
            "  119   1785 -4.540926498648228e+09 2.3e+00 2.30e+02  2e+02  3e+02 0:02.3\n",
            "termination on tolfacupx=1000.0 (Mon Apr 13 15:01:28 2020)\n",
            "final/bestever f-value = -4.304631e+09 -4.540926e+09\n",
            "incumbent solution: [  901.91961238  -318.55663224   961.64428315   999.96224522\n",
            "  -845.51170871 -1212.83051962   374.91962654   142.30482953 ...]\n",
            "std deviations: [227.35741296 219.63546934 228.10380432 224.2787066  234.26030561\n",
            " 226.55436466 225.52952157 223.55982199 ...]\n",
            "Run : 23\n",
            "(7_w,15)-aCMA-ES (mu_w=4.5,w_1=34%) in dimension 50 (seed=871661, Mon Apr 13 15:01:28 2020)\n",
            "Iterat #Fevals   function value  axis ratio  sigma  min&max std  t[m:s]\n",
            "    1     15 4.647342073319741e+03 1.0e+00 2.55e-01  3e-01  3e-01 0:00.0\n",
            "    2     30 4.647342030397039e+03 1.0e+00 2.47e-01  2e-01  2e-01 0:00.0\n",
            "    3     45 4.647334870556404e+03 1.1e+00 2.41e-01  2e-01  2e-01 0:00.1\n"
          ],
          "name": "stdout"
        },
        {
          "output_type": "stream",
          "text": [
            "/usr/local/lib/python3.6/dist-packages/cma/utilities/utils.py:333: UserWarning: function_values is not a list of scalars,\n",
            "                        the first element equals [4647.34262489] with non-scalar type <class 'numpy.ndarray'>.\n",
            "                        Using now ``[v[0] for v in function_values]`` instead (further warnings are suppressed) ()\n",
            "  ')')\n",
            "/usr/local/lib/python3.6/dist-packages/cma/utilities/utils.py:333: UserWarning: function_values is not a list of scalars,\n",
            "                        the first element equals [4647.34310728] with non-scalar type <class 'numpy.ndarray'>.\n",
            "                        Using now ``[v[0] for v in function_values]`` instead (further warnings are suppressed) ()\n",
            "  ')')\n"
          ],
          "name": "stderr"
        },
        {
          "output_type": "stream",
          "text": [
            "  100   1500 2.858397447742347e+03 1.4e+00 3.87e-02  4e-02  4e-02 0:02.0\n",
            "  200   3000 2.715718103689613e+03 1.4e+00 2.18e-03  2e-03  2e-03 0:03.9\n",
            "  300   4500 2.715176296863225e+03 1.5e+00 1.48e-04  1e-04  1e-04 0:05.9\n",
            "  400   6000 2.715174390208339e+03 1.6e+00 7.31e-06  6e-06  7e-06 0:07.8\n",
            "  500   7500 2.715174385953617e+03 1.6e+00 4.19e-07  3e-07  4e-07 0:09.8\n",
            "  600   9000 2.715174385941163e+03 1.6e+00 2.78e-08  2e-08  2e-08 0:11.7\n",
            "  700  10500 2.715174385941112e+03 1.7e+00 2.61e-09  2e-09  2e-09 0:13.7\n",
            "  742  11130 2.715174385941111e+03 1.8e+00 1.60e-09  1e-09  1e-09 0:14.5\n",
            "termination on tolfun=1e-11 (Mon Apr 13 15:01:45 2020)\n",
            "final/bestever f-value = 2.715174e+03 2.715174e+03\n",
            "incumbent solution: [ 0.04675071  0.02542598 -0.14006053 -0.03997052 -0.02560332  0.01900346\n",
            " -0.06408277 -0.04565248 ...]\n",
            "std deviations: [1.21659096e-09 1.18624621e-09 1.30538473e-09 1.20967798e-09\n",
            " 1.20550512e-09 1.34360153e-09 1.15924279e-09 1.24319742e-09 ...]\n",
            "(7_w,15)-aCMA-ES (mu_w=4.5,w_1=34%) in dimension 50 (seed=849501, Mon Apr 13 15:01:45 2020)\n",
            "Iterat #Fevals   function value  axis ratio  sigma  min&max std  t[m:s]\n",
            "    1     15 4.649697134894911e+03 1.0e+00 2.55e-01  3e-01  3e-01 0:00.0\n",
            "    2     30 4.649697101535921e+03 1.0e+00 2.48e-01  2e-01  2e-01 0:00.0\n",
            "    3     45 4.649697070054066e+03 1.1e+00 2.45e-01  2e-01  2e-01 0:00.0\n"
          ],
          "name": "stdout"
        },
        {
          "output_type": "stream",
          "text": [
            "/usr/local/lib/python3.6/dist-packages/cma/utilities/utils.py:333: UserWarning: function_values is not a list of scalars,\n",
            "                        the first element equals [4649.69713505] with non-scalar type <class 'numpy.ndarray'>.\n",
            "                        Using now ``[v[0] for v in function_values]`` instead (further warnings are suppressed) ()\n",
            "  ')')\n",
            "/usr/local/lib/python3.6/dist-packages/cma/utilities/utils.py:333: UserWarning: function_values is not a list of scalars,\n",
            "                        the first element equals [4649.69713495] with non-scalar type <class 'numpy.ndarray'>.\n",
            "                        Using now ``[v[0] for v in function_values]`` instead (further warnings are suppressed) ()\n",
            "  ')')\n"
          ],
          "name": "stderr"
        },
        {
          "output_type": "stream",
          "text": [
            "  100   1500 4.035176673071362e+03 1.4e+00 2.64e-02  2e-02  3e-02 0:01.4\n",
            "  200   3000 3.994985350219680e+03 1.4e+00 1.60e-03  1e-03  2e-03 0:02.7\n",
            "  300   4500 3.994836620721705e+03 1.5e+00 1.03e-04  9e-05  1e-04 0:04.1\n",
            "  400   6000 3.994836070817743e+03 1.5e+00 6.81e-06  6e-06  6e-06 0:05.5\n",
            "  500   7500 3.994836068460737e+03 1.5e+00 4.99e-07  4e-07  4e-07 0:06.8\n",
            "  600   9000 3.994836068450342e+03 1.6e+00 2.64e-08  2e-08  2e-08 0:08.2\n",
            "  700  10500 3.994836068450310e+03 1.7e+00 4.95e-09  4e-09  4e-09 0:09.6\n",
            "  735  11025 3.994836068450310e+03 1.7e+00 4.04e-09  3e-09  4e-09 0:10.1\n",
            "termination on tolfun=1e-11 (Mon Apr 13 15:01:57 2020)\n",
            "final/bestever f-value = 3.994836e+03 3.994836e+03\n",
            "incumbent solution: [ 0.41603756  0.39726235 -0.13214833  0.4427994   0.40479206  0.4554876\n",
            "  0.11560695  0.05886012 ...]\n",
            "std deviations: [3.28435820e-09 3.10059724e-09 3.21970760e-09 3.30491830e-09\n",
            " 3.05520589e-09 3.15871038e-09 2.96115209e-09 3.21642503e-09 ...]\n",
            "(7_w,15)-aCMA-ES (mu_w=4.5,w_1=34%) in dimension 50 (seed=906358, Mon Apr 13 15:01:57 2020)\n",
            "Iterat #Fevals   function value  axis ratio  sigma  min&max std  t[m:s]\n",
            "    1     15 6.406458041397867e+03 1.0e+00 2.55e-01  3e-01  3e-01 0:00.0\n",
            "    2     30 6.157867454067851e+03 1.0e+00 2.46e-01  2e-01  2e-01 0:00.0\n",
            "    3     45 5.955576944458589e+03 1.0e+00 2.40e-01  2e-01  2e-01 0:00.1\n"
          ],
          "name": "stdout"
        },
        {
          "output_type": "stream",
          "text": [
            "/usr/local/lib/python3.6/dist-packages/cma/utilities/utils.py:333: UserWarning: function_values is not a list of scalars,\n",
            "                        the first element equals [6905.80739968] with non-scalar type <class 'numpy.ndarray'>.\n",
            "                        Using now ``[v[0] for v in function_values]`` instead (further warnings are suppressed) ()\n",
            "  ')')\n",
            "/usr/local/lib/python3.6/dist-packages/cma/utilities/utils.py:333: UserWarning: function_values is not a list of scalars,\n",
            "                        the first element equals [6826.33949437] with non-scalar type <class 'numpy.ndarray'>.\n",
            "                        Using now ``[v[0] for v in function_values]`` instead (further warnings are suppressed) ()\n",
            "  ')')\n"
          ],
          "name": "stderr"
        },
        {
          "output_type": "stream",
          "text": [
            "  100   1500 -1.129753874665505e+08 1.9e+00 4.41e+01  4e+01  5e+01 0:01.9\n",
            "  125   1875 -5.778919639325374e+09 2.0e+00 2.67e+02  3e+02  3e+02 0:02.4\n",
            "termination on tolfacupx=1000.0 (Mon Apr 13 15:02:00 2020)\n",
            "final/bestever f-value = -5.237305e+09 -5.778920e+09\n",
            "incumbent solution: [-1266.54151469   137.59397551  -618.08387362  -865.03698134\n",
            "  -725.32087631  1171.51179092   488.10304607  -891.99675461 ...]\n",
            "std deviations: [275.58428519 252.56190167 253.09815096 263.9642549  259.43345815\n",
            " 264.97418436 271.21546755 255.00658987 ...]\n",
            "Run : 24\n",
            "(7_w,15)-aCMA-ES (mu_w=4.5,w_1=34%) in dimension 50 (seed=897668, Mon Apr 13 15:02:00 2020)\n",
            "Iterat #Fevals   function value  axis ratio  sigma  min&max std  t[m:s]\n",
            "    1     15 4.647323061291919e+03 1.0e+00 2.55e-01  3e-01  3e-01 0:00.0\n",
            "    2     30 4.647164900724889e+03 1.0e+00 2.47e-01  2e-01  2e-01 0:00.0\n",
            "    3     45 4.646279910634331e+03 1.1e+00 2.42e-01  2e-01  2e-01 0:00.1\n"
          ],
          "name": "stdout"
        },
        {
          "output_type": "stream",
          "text": [
            "/usr/local/lib/python3.6/dist-packages/cma/utilities/utils.py:333: UserWarning: function_values is not a list of scalars,\n",
            "                        the first element equals [4647.34368342] with non-scalar type <class 'numpy.ndarray'>.\n",
            "                        Using now ``[v[0] for v in function_values]`` instead (further warnings are suppressed) ()\n",
            "  ')')\n",
            "/usr/local/lib/python3.6/dist-packages/cma/utilities/utils.py:333: UserWarning: function_values is not a list of scalars,\n",
            "                        the first element equals [4647.33864109] with non-scalar type <class 'numpy.ndarray'>.\n",
            "                        Using now ``[v[0] for v in function_values]`` instead (further warnings are suppressed) ()\n",
            "  ')')\n"
          ],
          "name": "stderr"
        },
        {
          "output_type": "stream",
          "text": [
            "  100   1500 2.872582014575234e+03 1.4e+00 3.82e-02  4e-02  4e-02 0:02.0\n",
            "  200   3000 2.715415555506466e+03 1.5e+00 1.61e-03  1e-03  2e-03 0:03.9\n",
            "  300   4500 2.715175274294987e+03 1.5e+00 9.45e-05  8e-05  9e-05 0:05.9\n",
            "  400   6000 2.715174387712990e+03 1.5e+00 4.88e-06  4e-06  5e-06 0:07.8\n",
            "  500   7500 2.715174385948535e+03 1.6e+00 3.00e-07  2e-07  3e-07 0:09.8\n",
            "  600   9000 2.715174385941137e+03 1.6e+00 1.90e-08  1e-08  2e-08 0:11.7\n",
            "  700  10500 2.715174385941112e+03 1.7e+00 2.01e-09  1e-09  2e-09 0:13.7\n",
            "  726  10890 2.715174385941111e+03 1.7e+00 1.55e-09  1e-09  1e-09 0:14.2\n",
            "termination on tolfun=1e-11 (Mon Apr 13 15:02:17 2020)\n",
            "final/bestever f-value = 2.715174e+03 2.715174e+03\n",
            "incumbent solution: [ 0.04675071  0.02542598 -0.14006053 -0.03997052 -0.02560333  0.01900346\n",
            " -0.06408277 -0.04565247 ...]\n",
            "std deviations: [1.18797093e-09 1.17663331e-09 1.27593644e-09 1.21776581e-09\n",
            " 1.23376104e-09 1.24445185e-09 1.20240477e-09 1.27700717e-09 ...]\n",
            "(7_w,15)-aCMA-ES (mu_w=4.5,w_1=34%) in dimension 50 (seed=869742, Mon Apr 13 15:02:17 2020)\n",
            "Iterat #Fevals   function value  axis ratio  sigma  min&max std  t[m:s]\n",
            "    1     15 4.649697132261723e+03 1.0e+00 2.54e-01  3e-01  3e-01 0:00.0\n",
            "    2     30 4.649697119474645e+03 1.0e+00 2.46e-01  2e-01  2e-01 0:00.0\n",
            "    3     45 4.649697072382932e+03 1.1e+00 2.40e-01  2e-01  2e-01 0:00.0\n"
          ],
          "name": "stdout"
        },
        {
          "output_type": "stream",
          "text": [
            "/usr/local/lib/python3.6/dist-packages/cma/utilities/utils.py:333: UserWarning: function_values is not a list of scalars,\n",
            "                        the first element equals [4649.69713495] with non-scalar type <class 'numpy.ndarray'>.\n",
            "                        Using now ``[v[0] for v in function_values]`` instead (further warnings are suppressed) ()\n",
            "  ')')\n",
            "/usr/local/lib/python3.6/dist-packages/cma/utilities/utils.py:333: UserWarning: function_values is not a list of scalars,\n",
            "                        the first element equals [4649.69713494] with non-scalar type <class 'numpy.ndarray'>.\n",
            "                        Using now ``[v[0] for v in function_values]`` instead (further warnings are suppressed) ()\n",
            "  ')')\n"
          ],
          "name": "stderr"
        },
        {
          "output_type": "stream",
          "text": [
            "  100   1500 4.043208584160205e+03 1.4e+00 2.94e-02  3e-02  3e-02 0:01.4\n",
            "  200   3000 3.995000354191159e+03 1.5e+00 1.88e-03  2e-03  2e-03 0:02.7\n",
            "  300   4500 3.994836622209176e+03 1.5e+00 9.10e-05  8e-05  9e-05 0:04.1\n",
            "  400   6000 3.994836069684075e+03 1.5e+00 5.38e-06  4e-06  5e-06 0:05.5\n",
            "  500   7500 3.994836068457455e+03 1.6e+00 3.44e-07  3e-07  3e-07 0:06.9\n",
            "  600   9000 3.994836068450329e+03 1.6e+00 2.35e-08  2e-08  2e-08 0:08.3\n",
            "  700  10500 3.994836068450308e+03 1.7e+00 3.61e-09  3e-09  3e-09 0:09.6\n",
            "  733  10995 3.994836068450307e+03 1.7e+00 2.96e-09  2e-09  2e-09 0:10.1\n",
            "termination on tolfun=1e-11 (Mon Apr 13 15:02:29 2020)\n",
            "final/bestever f-value = 3.994836e+03 3.994836e+03\n",
            "incumbent solution: [ 0.41603757  0.39726236 -0.13214834  0.4427994   0.40479206  0.45548759\n",
            "  0.11560695  0.05886013 ...]\n",
            "std deviations: [2.33635200e-09 2.27369760e-09 2.37437403e-09 2.44712982e-09\n",
            " 2.20522121e-09 2.41767238e-09 2.28029118e-09 2.44202999e-09 ...]\n",
            "(7_w,15)-aCMA-ES (mu_w=4.5,w_1=34%) in dimension 50 (seed=825656, Mon Apr 13 15:02:30 2020)\n",
            "Iterat #Fevals   function value  axis ratio  sigma  min&max std  t[m:s]\n",
            "    1     15 5.996979194781382e+03 1.0e+00 2.56e-01  3e-01  3e-01 0:00.0\n",
            "    2     30 5.729173454777473e+03 1.0e+00 2.49e-01  2e-01  3e-01 0:00.0\n",
            "    3     45 5.713413479984131e+03 1.1e+00 2.46e-01  2e-01  2e-01 0:00.1\n"
          ],
          "name": "stdout"
        },
        {
          "output_type": "stream",
          "text": [
            "/usr/local/lib/python3.6/dist-packages/cma/utilities/utils.py:333: UserWarning: function_values is not a list of scalars,\n",
            "                        the first element equals [7034.21736177] with non-scalar type <class 'numpy.ndarray'>.\n",
            "                        Using now ``[v[0] for v in function_values]`` instead (further warnings are suppressed) ()\n",
            "  ')')\n",
            "/usr/local/lib/python3.6/dist-packages/cma/utilities/utils.py:333: UserWarning: function_values is not a list of scalars,\n",
            "                        the first element equals [6487.31933867] with non-scalar type <class 'numpy.ndarray'>.\n",
            "                        Using now ``[v[0] for v in function_values]`` instead (further warnings are suppressed) ()\n",
            "  ')')\n"
          ],
          "name": "stderr"
        },
        {
          "output_type": "stream",
          "text": [
            "  100   1500 -6.824101550781038e+07 1.9e+00 3.14e+01  3e+01  4e+01 0:01.9\n",
            "  131   1965 -4.251231482231334e+09 2.0e+00 2.26e+02  2e+02  3e+02 0:02.5\n",
            "termination on tolfacupx=1000.0 (Mon Apr 13 15:02:32 2020)\n",
            "final/bestever f-value = -4.033766e+09 -4.251231e+09\n",
            "incumbent solution: [ -607.59349528   -37.19218105   815.78624215   -91.28253108\n",
            " -1206.40012994   634.55671661  -248.20438131 -1693.23733793 ...]\n",
            "std deviations: [218.23072787 215.92467632 221.72353281 211.65203233 234.49251027\n",
            " 218.15561967 216.4992618  228.19181843 ...]\n",
            "Run : 25\n",
            "(7_w,15)-aCMA-ES (mu_w=4.5,w_1=34%) in dimension 50 (seed=892824, Mon Apr 13 15:02:33 2020)\n",
            "Iterat #Fevals   function value  axis ratio  sigma  min&max std  t[m:s]\n",
            "    1     15 4.647337809394672e+03 1.0e+00 2.55e-01  3e-01  3e-01 0:00.0\n",
            "    2     30 4.647342597214637e+03 1.0e+00 2.49e-01  2e-01  2e-01 0:00.0\n",
            "    3     45 4.647342770358453e+03 1.1e+00 2.46e-01  2e-01  2e-01 0:00.1\n"
          ],
          "name": "stdout"
        },
        {
          "output_type": "stream",
          "text": [
            "/usr/local/lib/python3.6/dist-packages/cma/utilities/utils.py:333: UserWarning: function_values is not a list of scalars,\n",
            "                        the first element equals [4647.342914] with non-scalar type <class 'numpy.ndarray'>.\n",
            "                        Using now ``[v[0] for v in function_values]`` instead (further warnings are suppressed) ()\n",
            "  ')')\n",
            "/usr/local/lib/python3.6/dist-packages/cma/utilities/utils.py:333: UserWarning: function_values is not a list of scalars,\n",
            "                        the first element equals [4647.34324347] with non-scalar type <class 'numpy.ndarray'>.\n",
            "                        Using now ``[v[0] for v in function_values]`` instead (further warnings are suppressed) ()\n",
            "  ')')\n"
          ],
          "name": "stderr"
        },
        {
          "output_type": "stream",
          "text": [
            "  100   1500 3.428392496104143e+03 1.7e+00 8.41e-02  8e-02  9e-02 0:02.0\n",
            "  200   3000 2.720007853688436e+03 1.8e+00 7.09e-03  6e-03  7e-03 0:03.9\n",
            "  300   4500 2.715188845466960e+03 1.8e+00 4.09e-04  4e-04  4e-04 0:05.9\n",
            "  400   6000 2.715174423125321e+03 1.8e+00 2.47e-05  2e-05  2e-05 0:07.8\n",
            "  500   7500 2.715174386030165e+03 1.7e+00 1.28e-06  1e-06  1e-06 0:09.8\n",
            "  600   9000 2.715174385941326e+03 1.8e+00 5.89e-08  5e-08  5e-08 0:11.8\n",
            "  700  10500 2.715174385941112e+03 1.8e+00 4.12e-09  3e-09  4e-09 0:13.7\n",
            "  766  11490 2.715174385941112e+03 1.8e+00 2.46e-09  2e-09  2e-09 0:15.0\n",
            "termination on tolfun=1e-11 (Mon Apr 13 15:02:50 2020)\n",
            "final/bestever f-value = 2.715174e+03 2.715174e+03\n",
            "incumbent solution: [ 0.04675072  0.02542598 -0.14006052 -0.03997052 -0.02560333  0.01900346\n",
            " -0.06408277 -0.04565247 ...]\n",
            "std deviations: [1.86132239e-09 1.88319133e-09 1.92564249e-09 2.01847125e-09\n",
            " 1.85358162e-09 2.04953769e-09 1.87363901e-09 1.93296145e-09 ...]\n",
            "(7_w,15)-aCMA-ES (mu_w=4.5,w_1=34%) in dimension 50 (seed=941577, Mon Apr 13 15:02:50 2020)\n",
            "Iterat #Fevals   function value  axis ratio  sigma  min&max std  t[m:s]\n",
            "    1     15 4.649697134948567e+03 1.0e+00 2.56e-01  3e-01  3e-01 0:00.0\n",
            "    2     30 4.649697134947921e+03 1.0e+00 2.48e-01  2e-01  2e-01 0:00.0\n",
            "    3     45 4.649697134929153e+03 1.1e+00 2.43e-01  2e-01  2e-01 0:00.0\n"
          ],
          "name": "stdout"
        },
        {
          "output_type": "stream",
          "text": [
            "/usr/local/lib/python3.6/dist-packages/cma/utilities/utils.py:333: UserWarning: function_values is not a list of scalars,\n",
            "                        the first element equals [4649.69713497] with non-scalar type <class 'numpy.ndarray'>.\n",
            "                        Using now ``[v[0] for v in function_values]`` instead (further warnings are suppressed) ()\n",
            "  ')')\n",
            "/usr/local/lib/python3.6/dist-packages/cma/utilities/utils.py:333: UserWarning: function_values is not a list of scalars,\n",
            "                        the first element equals [4649.69713495] with non-scalar type <class 'numpy.ndarray'>.\n",
            "                        Using now ``[v[0] for v in function_values]`` instead (further warnings are suppressed) ()\n",
            "  ')')\n"
          ],
          "name": "stderr"
        },
        {
          "output_type": "stream",
          "text": [
            "  100   1500 4.216735284216938e+03 1.5e+00 3.04e-02  3e-02  3e-02 0:01.4\n",
            "  200   3000 4.174854048288068e+03 1.5e+00 2.01e-03  2e-03  2e-03 0:02.7\n",
            "  300   4500 4.174731952205872e+03 1.5e+00 1.16e-04  1e-04  1e-04 0:04.1\n",
            "  400   6000 4.174731476088318e+03 1.6e+00 6.39e-06  5e-06  6e-06 0:05.5\n",
            "  500   7500 4.174731474872756e+03 1.6e+00 3.06e-07  2e-07  3e-07 0:06.9\n",
            "  600   9000 4.174731474869521e+03 1.7e+00 1.47e-08  1e-08  1e-08 0:08.2\n",
            "  700  10500 4.174731474869517e+03 1.8e+00 3.57e-09  3e-09  3e-09 0:09.6\n",
            "termination on tolfun=1e-11 (Mon Apr 13 15:03:02 2020)\n",
            "final/bestever f-value = 4.174731e+03 4.174731e+03\n",
            "incumbent solution: [ 0.03363369  0.05651834 -0.06186882 -0.00846281  0.04025515 -0.04603141\n",
            " -0.01140645 -0.08156257 ...]\n",
            "std deviations: [2.78117741e-09 2.66939193e-09 2.84632541e-09 2.75432837e-09\n",
            " 2.84155804e-09 2.97987556e-09 2.87189216e-09 2.95059652e-09 ...]\n",
            "(7_w,15)-aCMA-ES (mu_w=4.5,w_1=34%) in dimension 50 (seed=891312, Mon Apr 13 15:03:02 2020)\n",
            "Iterat #Fevals   function value  axis ratio  sigma  min&max std  t[m:s]\n",
            "    1     15 6.604282488243369e+03 1.0e+00 2.56e-01  3e-01  3e-01 0:00.0\n",
            "    2     30 6.202406962851082e+03 1.0e+00 2.46e-01  2e-01  2e-01 0:00.0\n",
            "    3     45 5.596301379385929e+03 1.1e+00 2.41e-01  2e-01  2e-01 0:00.1\n"
          ],
          "name": "stdout"
        },
        {
          "output_type": "stream",
          "text": [
            "/usr/local/lib/python3.6/dist-packages/cma/utilities/utils.py:333: UserWarning: function_values is not a list of scalars,\n",
            "                        the first element equals [7334.49331027] with non-scalar type <class 'numpy.ndarray'>.\n",
            "                        Using now ``[v[0] for v in function_values]`` instead (further warnings are suppressed) ()\n",
            "  ')')\n",
            "/usr/local/lib/python3.6/dist-packages/cma/utilities/utils.py:333: UserWarning: function_values is not a list of scalars,\n",
            "                        the first element equals [6306.06460629] with non-scalar type <class 'numpy.ndarray'>.\n",
            "                        Using now ``[v[0] for v in function_values]`` instead (further warnings are suppressed) ()\n",
            "  ')')\n"
          ],
          "name": "stderr"
        },
        {
          "output_type": "stream",
          "text": [
            "  100   1500 -3.446529602824818e+08 1.8e+00 7.78e+01  7e+01  9e+01 0:01.9\n",
            "  117   1755 -4.983024032659244e+09 1.8e+00 2.59e+02  2e+02  3e+02 0:02.3\n",
            "termination on tolfacupx=1000.0 (Mon Apr 13 15:03:05 2020)\n",
            "final/bestever f-value = -4.562784e+09 -4.983024e+09\n",
            "incumbent solution: [   62.22944648   246.79340992   -45.94177954  -367.0703322\n",
            " -1356.63145157  1020.18907048     8.472399   -1514.01435899 ...]\n",
            "std deviations: [252.04156371 245.05271141 250.32952855 244.66392804 262.62261242\n",
            " 251.36398663 248.77429382 264.59138679 ...]\n",
            "Run : 26\n",
            "(7_w,15)-aCMA-ES (mu_w=4.5,w_1=34%) in dimension 50 (seed=937226, Mon Apr 13 15:03:05 2020)\n",
            "Iterat #Fevals   function value  axis ratio  sigma  min&max std  t[m:s]\n",
            "    1     15 4.647342425221861e+03 1.0e+00 2.54e-01  3e-01  3e-01 0:00.0\n",
            "    2     30 4.647343023454834e+03 1.0e+00 2.47e-01  2e-01  2e-01 0:00.0\n",
            "    3     45 4.647342831867485e+03 1.1e+00 2.46e-01  2e-01  2e-01 0:00.1\n"
          ],
          "name": "stdout"
        },
        {
          "output_type": "stream",
          "text": [
            "/usr/local/lib/python3.6/dist-packages/cma/utilities/utils.py:333: UserWarning: function_values is not a list of scalars,\n",
            "                        the first element equals [4647.38075226] with non-scalar type <class 'numpy.ndarray'>.\n",
            "                        Using now ``[v[0] for v in function_values]`` instead (further warnings are suppressed) ()\n",
            "  ')')\n",
            "/usr/local/lib/python3.6/dist-packages/cma/utilities/utils.py:333: UserWarning: function_values is not a list of scalars,\n",
            "                        the first element equals [4647.34350823] with non-scalar type <class 'numpy.ndarray'>.\n",
            "                        Using now ``[v[0] for v in function_values]`` instead (further warnings are suppressed) ()\n",
            "  ')')\n"
          ],
          "name": "stderr"
        },
        {
          "output_type": "stream",
          "text": [
            "  100   1500 3.304693980721448e+03 1.5e+00 8.62e-02  8e-02  9e-02 0:01.9\n",
            "  200   3000 2.718152521018252e+03 1.6e+00 5.72e-03  5e-03  6e-03 0:03.9\n",
            "  300   4500 2.715190565693383e+03 1.6e+00 4.07e-04  3e-04  4e-04 0:05.8\n",
            "  400   6000 2.715174418453544e+03 1.6e+00 2.09e-05  2e-05  2e-05 0:07.7\n",
            "  500   7500 2.715174386101798e+03 1.6e+00 1.26e-06  1e-06  1e-06 0:09.7\n",
            "  600   9000 2.715174385941877e+03 1.6e+00 9.65e-08  7e-08  9e-08 0:11.7\n",
            "  700  10500 2.715174385941115e+03 1.6e+00 6.66e-09  5e-09  6e-09 0:13.6\n",
            "  792  11880 2.715174385941111e+03 1.7e+00 2.06e-09  1e-09  2e-09 0:15.4\n",
            "termination on tolfun=1e-11 (Mon Apr 13 15:03:23 2020)\n",
            "final/bestever f-value = 2.715174e+03 2.715174e+03\n",
            "incumbent solution: [ 0.04675072  0.02542598 -0.14006052 -0.03997052 -0.02560333  0.01900346\n",
            " -0.06408277 -0.04565247 ...]\n",
            "std deviations: [1.65896893e-09 1.60041947e-09 1.55897359e-09 1.59785233e-09\n",
            " 1.52614761e-09 1.68872539e-09 1.63574429e-09 1.60690073e-09 ...]\n",
            "(7_w,15)-aCMA-ES (mu_w=4.5,w_1=34%) in dimension 50 (seed=896636, Mon Apr 13 15:03:23 2020)\n",
            "Iterat #Fevals   function value  axis ratio  sigma  min&max std  t[m:s]\n",
            "    1     15 4.649697134880701e+03 1.0e+00 2.56e-01  3e-01  3e-01 0:00.0\n",
            "    2     30 4.649697134868887e+03 1.0e+00 2.47e-01  2e-01  2e-01 0:00.0\n",
            "    3     45 4.649697134941371e+03 1.1e+00 2.38e-01  2e-01  2e-01 0:00.0\n"
          ],
          "name": "stdout"
        },
        {
          "output_type": "stream",
          "text": [
            "/usr/local/lib/python3.6/dist-packages/cma/utilities/utils.py:333: UserWarning: function_values is not a list of scalars,\n",
            "                        the first element equals [4649.69713495] with non-scalar type <class 'numpy.ndarray'>.\n",
            "                        Using now ``[v[0] for v in function_values]`` instead (further warnings are suppressed) ()\n",
            "  ')')\n",
            "/usr/local/lib/python3.6/dist-packages/cma/utilities/utils.py:333: UserWarning: function_values is not a list of scalars,\n",
            "                        the first element equals [4649.69713487] with non-scalar type <class 'numpy.ndarray'>.\n",
            "                        Using now ``[v[0] for v in function_values]`` instead (further warnings are suppressed) ()\n",
            "  ')')\n"
          ],
          "name": "stderr"
        },
        {
          "output_type": "stream",
          "text": [
            "  100   1500 4.039242943880744e+03 1.4e+00 2.86e-02  3e-02  3e-02 0:01.4\n",
            "  200   3000 3.994951692357060e+03 1.5e+00 1.39e-03  1e-03  1e-03 0:02.8\n",
            "  300   4500 3.994836268923285e+03 1.5e+00 6.35e-05  5e-05  6e-05 0:04.1\n",
            "  400   6000 3.994836069248408e+03 1.5e+00 3.51e-06  3e-06  3e-06 0:05.5\n",
            "  500   7500 3.994836068451296e+03 1.6e+00 1.50e-07  1e-07  1e-07 0:06.9\n",
            "  600   9000 3.994836068450312e+03 1.5e+00 8.15e-09  6e-09  7e-09 0:08.3\n",
            "  687  10305 3.994836068450309e+03 1.7e+00 2.86e-09  2e-09  2e-09 0:09.5\n",
            "termination on tolfun=1e-11 (Mon Apr 13 15:03:35 2020)\n",
            "final/bestever f-value = 3.994836e+03 3.994836e+03\n",
            "incumbent solution: [ 0.41603758  0.39726235 -0.13214834  0.44279939  0.40479205  0.45548759\n",
            "  0.11560696  0.05886013 ...]\n",
            "std deviations: [2.14964321e-09 2.22366832e-09 2.27202103e-09 2.29392668e-09\n",
            " 2.22738857e-09 2.39406127e-09 2.31336496e-09 2.19557017e-09 ...]\n",
            "(7_w,15)-aCMA-ES (mu_w=4.5,w_1=34%) in dimension 50 (seed=851574, Mon Apr 13 15:03:35 2020)\n",
            "Iterat #Fevals   function value  axis ratio  sigma  min&max std  t[m:s]\n",
            "    1     15 6.034643342105797e+03 1.0e+00 2.54e-01  3e-01  3e-01 0:00.0\n",
            "    2     30 5.855629632937324e+03 1.0e+00 2.43e-01  2e-01  2e-01 0:00.0\n",
            "    3     45 5.432590546943040e+03 1.1e+00 2.36e-01  2e-01  2e-01 0:00.1\n"
          ],
          "name": "stdout"
        },
        {
          "output_type": "stream",
          "text": [
            "/usr/local/lib/python3.6/dist-packages/cma/utilities/utils.py:333: UserWarning: function_values is not a list of scalars,\n",
            "                        the first element equals [6968.66007466] with non-scalar type <class 'numpy.ndarray'>.\n",
            "                        Using now ``[v[0] for v in function_values]`` instead (further warnings are suppressed) ()\n",
            "  ')')\n",
            "/usr/local/lib/python3.6/dist-packages/cma/utilities/utils.py:333: UserWarning: function_values is not a list of scalars,\n",
            "                        the first element equals [6332.55282731] with non-scalar type <class 'numpy.ndarray'>.\n",
            "                        Using now ``[v[0] for v in function_values]`` instead (further warnings are suppressed) ()\n",
            "  ')')\n"
          ],
          "name": "stderr"
        },
        {
          "output_type": "stream",
          "text": [
            "  100   1500 -8.126192353827594e+07 1.9e+00 3.47e+01  3e+01  4e+01 0:01.9\n",
            "  125   1875 -3.919452833633811e+09 1.9e+00 2.67e+02  3e+02  3e+02 0:02.4\n",
            "termination on tolfacupx=1000.0 (Mon Apr 13 15:03:38 2020)\n",
            "final/bestever f-value = -3.729691e+09 -3.919453e+09\n",
            "incumbent solution: [ -490.80301628  1230.79446868  -533.2830997    471.9979684\n",
            "  -781.67016156   936.62729683  -136.23999804 -1143.24896763 ...]\n",
            "std deviations: [256.30236947 266.27676154 252.23298495 257.8568796  262.32080042\n",
            " 258.06879154 267.33379365 266.6651836  ...]\n",
            "Run : 27\n",
            "(7_w,15)-aCMA-ES (mu_w=4.5,w_1=34%) in dimension 50 (seed=904085, Mon Apr 13 15:03:38 2020)\n",
            "Iterat #Fevals   function value  axis ratio  sigma  min&max std  t[m:s]\n",
            "    1     15 4.647342467269383e+03 1.0e+00 2.54e-01  3e-01  3e-01 0:00.0\n",
            "    2     30 4.647342258429898e+03 1.0e+00 2.45e-01  2e-01  2e-01 0:00.0\n",
            "    3     45 4.647340325355067e+03 1.0e+00 2.39e-01  2e-01  2e-01 0:00.1\n"
          ],
          "name": "stdout"
        },
        {
          "output_type": "stream",
          "text": [
            "/usr/local/lib/python3.6/dist-packages/cma/utilities/utils.py:333: UserWarning: function_values is not a list of scalars,\n",
            "                        the first element equals [4647.38277134] with non-scalar type <class 'numpy.ndarray'>.\n",
            "                        Using now ``[v[0] for v in function_values]`` instead (further warnings are suppressed) ()\n",
            "  ')')\n",
            "/usr/local/lib/python3.6/dist-packages/cma/utilities/utils.py:333: UserWarning: function_values is not a list of scalars,\n",
            "                        the first element equals [4647.34340234] with non-scalar type <class 'numpy.ndarray'>.\n",
            "                        Using now ``[v[0] for v in function_values]`` instead (further warnings are suppressed) ()\n",
            "  ')')\n"
          ],
          "name": "stderr"
        },
        {
          "output_type": "stream",
          "text": [
            "  100   1500 2.775058973937206e+03 1.5e+00 2.49e-02  2e-02  2e-02 0:02.0\n",
            "  200   3000 2.715544218921777e+03 1.5e+00 1.96e-03  2e-03  2e-03 0:03.9\n",
            "  300   4500 2.715175664879620e+03 1.5e+00 1.16e-04  1e-04  1e-04 0:05.9\n",
            "  400   6000 2.715174389073148e+03 1.5e+00 6.77e-06  6e-06  6e-06 0:07.8\n",
            "  500   7500 2.715174385950664e+03 1.6e+00 3.28e-07  3e-07  3e-07 0:09.8\n",
            "  600   9000 2.715174385941134e+03 1.6e+00 2.18e-08  2e-08  2e-08 0:11.7\n",
            "  700  10500 2.715174385941111e+03 1.7e+00 2.02e-09  1e-09  2e-09 0:13.6\n",
            "  734  11010 2.715174385941111e+03 1.8e+00 1.70e-09  1e-09  1e-09 0:14.3\n",
            "termination on tolfun=1e-11 (Mon Apr 13 15:03:55 2020)\n",
            "final/bestever f-value = 2.715174e+03 2.715174e+03\n",
            "incumbent solution: [ 0.04675072  0.02542597 -0.14006052 -0.03997052 -0.02560333  0.01900346\n",
            " -0.06408277 -0.04565247 ...]\n",
            "std deviations: [1.28762825e-09 1.30070927e-09 1.38061674e-09 1.42757274e-09\n",
            " 1.30011522e-09 1.42964553e-09 1.27547358e-09 1.33247834e-09 ...]\n",
            "(7_w,15)-aCMA-ES (mu_w=4.5,w_1=34%) in dimension 50 (seed=879423, Mon Apr 13 15:03:55 2020)\n",
            "Iterat #Fevals   function value  axis ratio  sigma  min&max std  t[m:s]\n",
            "    1     15 4.649697134768655e+03 1.0e+00 2.58e-01  3e-01  3e-01 0:00.0\n",
            "    2     30 4.649697133978178e+03 1.1e+00 2.51e-01  2e-01  3e-01 0:00.0\n",
            "    3     45 4.649697125377311e+03 1.1e+00 2.47e-01  2e-01  2e-01 0:00.0\n"
          ],
          "name": "stdout"
        },
        {
          "output_type": "stream",
          "text": [
            "/usr/local/lib/python3.6/dist-packages/cma/utilities/utils.py:333: UserWarning: function_values is not a list of scalars,\n",
            "                        the first element equals [4649.69713524] with non-scalar type <class 'numpy.ndarray'>.\n",
            "                        Using now ``[v[0] for v in function_values]`` instead (further warnings are suppressed) ()\n",
            "  ')')\n",
            "/usr/local/lib/python3.6/dist-packages/cma/utilities/utils.py:333: UserWarning: function_values is not a list of scalars,\n",
            "                        the first element equals [4649.69713486] with non-scalar type <class 'numpy.ndarray'>.\n",
            "                        Using now ``[v[0] for v in function_values]`` instead (further warnings are suppressed) ()\n",
            "  ')')\n"
          ],
          "name": "stderr"
        },
        {
          "output_type": "stream",
          "text": [
            "  100   1500 4.264781138186763e+03 1.4e+00 1.93e-02  2e-02  2e-02 0:01.4\n",
            "  200   3000 4.249055128539272e+03 1.4e+00 9.55e-04  9e-04  9e-04 0:02.8\n",
            "  300   4500 4.249025816522196e+03 1.5e+00 4.26e-05  4e-05  4e-05 0:04.2\n",
            "  400   6000 4.249025735012028e+03 1.5e+00 2.26e-06  2e-06  2e-06 0:05.6\n",
            "  500   7500 4.249025734816167e+03 1.5e+00 1.62e-07  1e-07  1e-07 0:07.0\n",
            "  600   9000 4.249025734815557e+03 1.6e+00 8.28e-09  6e-09  7e-09 0:08.4\n",
            "  683  10245 4.249025734815556e+03 1.6e+00 3.75e-09  3e-09  3e-09 0:09.6\n",
            "termination on tolfun=1e-11 (Mon Apr 13 15:04:07 2020)\n",
            "final/bestever f-value = 4.249026e+03 4.249026e+03\n",
            "incumbent solution: [ 0.48467293  0.1885652   0.03604512  0.49891242 -0.2150642  -0.03585518\n",
            " -0.16853898 -0.23180059 ...]\n",
            "std deviations: [2.99705867e-09 2.96501303e-09 3.06475587e-09 3.03468255e-09\n",
            " 2.88189533e-09 3.13011088e-09 2.94084356e-09 3.02161288e-09 ...]\n",
            "(7_w,15)-aCMA-ES (mu_w=4.5,w_1=34%) in dimension 50 (seed=878335, Mon Apr 13 15:04:07 2020)\n",
            "Iterat #Fevals   function value  axis ratio  sigma  min&max std  t[m:s]\n",
            "    1     15 6.209999697102738e+03 1.0e+00 2.54e-01  3e-01  3e-01 0:00.0\n",
            "    2     30 5.266207113840148e+03 1.0e+00 2.47e-01  2e-01  2e-01 0:00.0\n",
            "    3     45 5.446502311704300e+03 1.1e+00 2.40e-01  2e-01  2e-01 0:00.1\n"
          ],
          "name": "stdout"
        },
        {
          "output_type": "stream",
          "text": [
            "/usr/local/lib/python3.6/dist-packages/cma/utilities/utils.py:333: UserWarning: function_values is not a list of scalars,\n",
            "                        the first element equals [6788.31217458] with non-scalar type <class 'numpy.ndarray'>.\n",
            "                        Using now ``[v[0] for v in function_values]`` instead (further warnings are suppressed) ()\n",
            "  ')')\n",
            "/usr/local/lib/python3.6/dist-packages/cma/utilities/utils.py:333: UserWarning: function_values is not a list of scalars,\n",
            "                        the first element equals [6273.80463723] with non-scalar type <class 'numpy.ndarray'>.\n",
            "                        Using now ``[v[0] for v in function_values]`` instead (further warnings are suppressed) ()\n",
            "  ')')\n"
          ],
          "name": "stderr"
        },
        {
          "output_type": "stream",
          "text": [
            "  100   1500 -9.640634625345960e+07 2.1e+00 3.93e+01  4e+01  4e+01 0:01.9\n",
            "  124   1860 -3.743161476122616e+09 2.1e+00 2.49e+02  2e+02  3e+02 0:02.3\n",
            "termination on tolfacupx=1000.0 (Mon Apr 13 15:04:09 2020)\n",
            "final/bestever f-value = -3.814369e+09 -3.814369e+09\n",
            "incumbent solution: [  465.59418545  1029.77477298   151.89410295  -263.95807607\n",
            "  -907.02715951  -160.64926177   113.54403028 -1136.04447369 ...]\n",
            "std deviations: [235.46608622 247.391536   239.71332662 244.83644412 239.65843209\n",
            " 248.86863936 243.16128813 264.072773   ...]\n",
            "Run : 28\n",
            "(7_w,15)-aCMA-ES (mu_w=4.5,w_1=34%) in dimension 50 (seed=910784, Mon Apr 13 15:04:10 2020)\n",
            "Iterat #Fevals   function value  axis ratio  sigma  min&max std  t[m:s]\n",
            "    1     15 4.647339628706290e+03 1.0e+00 2.53e-01  3e-01  3e-01 0:00.0\n",
            "    2     30 4.647329691240847e+03 1.0e+00 2.44e-01  2e-01  2e-01 0:00.0\n",
            "    3     45 4.647223295381244e+03 1.0e+00 2.39e-01  2e-01  2e-01 0:00.1\n"
          ],
          "name": "stdout"
        },
        {
          "output_type": "stream",
          "text": [
            "/usr/local/lib/python3.6/dist-packages/cma/utilities/utils.py:333: UserWarning: function_values is not a list of scalars,\n",
            "                        the first element equals [4647.3435938] with non-scalar type <class 'numpy.ndarray'>.\n",
            "                        Using now ``[v[0] for v in function_values]`` instead (further warnings are suppressed) ()\n",
            "  ')')\n",
            "/usr/local/lib/python3.6/dist-packages/cma/utilities/utils.py:333: UserWarning: function_values is not a list of scalars,\n",
            "                        the first element equals [4647.34096306] with non-scalar type <class 'numpy.ndarray'>.\n",
            "                        Using now ``[v[0] for v in function_values]`` instead (further warnings are suppressed) ()\n",
            "  ')')\n"
          ],
          "name": "stderr"
        },
        {
          "output_type": "stream",
          "text": [
            "  100   1500 3.985151016241722e+03 1.4e+00 3.10e-02  3e-02  3e-02 0:02.0\n",
            "  200   3000 2.762749131767032e+03 2.1e+00 2.07e-02  2e-02  2e-02 0:03.9\n",
            "  300   4500 2.715297645830852e+03 2.1e+00 1.12e-03  1e-03  1e-03 0:05.9\n",
            "  400   6000 2.715174811032261e+03 2.0e+00 7.18e-05  6e-05  7e-05 0:07.8\n",
            "  500   7500 2.715174387821329e+03 2.0e+00 4.92e-06  4e-06  5e-06 0:09.8\n",
            "  600   9000 2.715174385946804e+03 1.9e+00 2.89e-07  2e-07  3e-07 0:11.7\n",
            "  700  10500 2.715174385941151e+03 1.9e+00 2.30e-08  2e-08  2e-08 0:13.7\n",
            "  800  12000 2.715174385941111e+03 1.8e+00 2.18e-09  2e-09  2e-09 0:15.6\n",
            "  830  12450 2.715174385941111e+03 1.9e+00 1.95e-09  1e-09  2e-09 0:16.2\n",
            "termination on tolfun=1e-11 (Mon Apr 13 15:04:28 2020)\n",
            "final/bestever f-value = 2.715174e+03 2.715174e+03\n",
            "incumbent solution: [ 0.04675071  0.02542598 -0.14006052 -0.03997051 -0.02560333  0.01900346\n",
            " -0.06408278 -0.04565248 ...]\n",
            "std deviations: [1.43684061e-09 1.45724199e-09 1.42291663e-09 1.49494334e-09\n",
            " 1.41145541e-09 1.53629781e-09 1.52419527e-09 1.46124513e-09 ...]\n",
            "(7_w,15)-aCMA-ES (mu_w=4.5,w_1=34%) in dimension 50 (seed=878146, Mon Apr 13 15:04:29 2020)\n",
            "Iterat #Fevals   function value  axis ratio  sigma  min&max std  t[m:s]\n",
            "    1     15 4.649697134311405e+03 1.0e+00 2.54e-01  3e-01  3e-01 0:00.0\n",
            "    2     30 4.649697113978221e+03 1.0e+00 2.44e-01  2e-01  2e-01 0:00.0\n",
            "    3     45 4.649691990619205e+03 1.0e+00 2.38e-01  2e-01  2e-01 0:00.0\n"
          ],
          "name": "stdout"
        },
        {
          "output_type": "stream",
          "text": [
            "/usr/local/lib/python3.6/dist-packages/cma/utilities/utils.py:333: UserWarning: function_values is not a list of scalars,\n",
            "                        the first element equals [4649.69713493] with non-scalar type <class 'numpy.ndarray'>.\n",
            "                        Using now ``[v[0] for v in function_values]`` instead (further warnings are suppressed) ()\n",
            "  ')')\n",
            "/usr/local/lib/python3.6/dist-packages/cma/utilities/utils.py:333: UserWarning: function_values is not a list of scalars,\n",
            "                        the first element equals [4649.69713491] with non-scalar type <class 'numpy.ndarray'>.\n",
            "                        Using now ``[v[0] for v in function_values]`` instead (further warnings are suppressed) ()\n",
            "  ')')\n"
          ],
          "name": "stderr"
        },
        {
          "output_type": "stream",
          "text": [
            "  100   1500 4.021539334015488e+03 1.4e+00 2.13e-02  2e-02  2e-02 0:01.3\n",
            "  200   3000 3.994948107283021e+03 1.4e+00 1.30e-03  1e-03  1e-03 0:02.7\n",
            "  300   4500 3.994836405304046e+03 1.4e+00 7.47e-05  6e-05  7e-05 0:04.1\n",
            "  400   6000 3.994836069382090e+03 1.5e+00 4.45e-06  4e-06  4e-06 0:05.4\n",
            "  500   7500 3.994836068452764e+03 1.5e+00 2.28e-07  2e-07  2e-07 0:06.8\n",
            "  600   9000 3.994836068450313e+03 1.6e+00 1.13e-08  8e-09  1e-08 0:08.2\n",
            "  700  10500 3.994836068450308e+03 1.7e+00 3.60e-09  3e-09  3e-09 0:09.5\n",
            "  702  10530 3.994836068450308e+03 1.7e+00 3.48e-09  3e-09  3e-09 0:09.5\n",
            "termination on tolfun=1e-11 (Mon Apr 13 15:04:40 2020)\n",
            "final/bestever f-value = 3.994836e+03 3.994836e+03\n",
            "incumbent solution: [ 0.41603758  0.39726236 -0.13214833  0.4427994   0.40479205  0.45548759\n",
            "  0.11560695  0.05886014 ...]\n",
            "std deviations: [2.71000784e-09 2.51884635e-09 2.85108238e-09 2.79753283e-09\n",
            " 2.56138384e-09 2.70489886e-09 2.80345794e-09 2.59523574e-09 ...]\n",
            "(7_w,15)-aCMA-ES (mu_w=4.5,w_1=34%) in dimension 50 (seed=872514, Mon Apr 13 15:04:41 2020)\n",
            "Iterat #Fevals   function value  axis ratio  sigma  min&max std  t[m:s]\n",
            "    1     15 6.410629988323339e+03 1.0e+00 2.55e-01  3e-01  3e-01 0:00.0\n",
            "    2     30 6.097586227474369e+03 1.0e+00 2.45e-01  2e-01  2e-01 0:00.0\n",
            "    3     45 5.700446129771488e+03 1.0e+00 2.39e-01  2e-01  2e-01 0:00.1\n"
          ],
          "name": "stdout"
        },
        {
          "output_type": "stream",
          "text": [
            "/usr/local/lib/python3.6/dist-packages/cma/utilities/utils.py:333: UserWarning: function_values is not a list of scalars,\n",
            "                        the first element equals [6798.08508166] with non-scalar type <class 'numpy.ndarray'>.\n",
            "                        Using now ``[v[0] for v in function_values]`` instead (further warnings are suppressed) ()\n",
            "  ')')\n",
            "/usr/local/lib/python3.6/dist-packages/cma/utilities/utils.py:333: UserWarning: function_values is not a list of scalars,\n",
            "                        the first element equals [6636.35126533] with non-scalar type <class 'numpy.ndarray'>.\n",
            "                        Using now ``[v[0] for v in function_values]`` instead (further warnings are suppressed) ()\n",
            "  ')')\n"
          ],
          "name": "stderr"
        },
        {
          "output_type": "stream",
          "text": [
            "  100   1500 -1.629096174408755e+08 1.9e+00 4.57e+01  4e+01  5e+01 0:01.9\n",
            "  129   1935 -6.363512142145638e+09 1.9e+00 2.71e+02  3e+02  3e+02 0:02.5\n",
            "termination on tolfacupx=1000.0 (Mon Apr 13 15:04:43 2020)\n",
            "final/bestever f-value = -6.379046e+09 -6.379046e+09\n",
            "incumbent solution: [  413.67962412  -593.47899336  1550.63166422  1414.48515448\n",
            "  -356.33880961 -1545.32988368   530.24548781    54.53150361 ...]\n",
            "std deviations: [264.56924578 258.54146513 259.89565856 265.78570656 264.04777228\n",
            " 282.55686666 259.82315934 260.4766762  ...]\n",
            "Run : 29\n",
            "(7_w,15)-aCMA-ES (mu_w=4.5,w_1=34%) in dimension 50 (seed=864765, Mon Apr 13 15:04:44 2020)\n",
            "Iterat #Fevals   function value  axis ratio  sigma  min&max std  t[m:s]\n",
            "    1     15 4.647332064568785e+03 1.0e+00 2.56e-01  3e-01  3e-01 0:00.0\n",
            "    2     30 4.647342584369681e+03 1.0e+00 2.48e-01  2e-01  2e-01 0:00.0\n",
            "    3     45 4.647339055527507e+03 1.1e+00 2.42e-01  2e-01  2e-01 0:00.1\n"
          ],
          "name": "stdout"
        },
        {
          "output_type": "stream",
          "text": [
            "/usr/local/lib/python3.6/dist-packages/cma/utilities/utils.py:333: UserWarning: function_values is not a list of scalars,\n",
            "                        the first element equals [4647.34870676] with non-scalar type <class 'numpy.ndarray'>.\n",
            "                        Using now ``[v[0] for v in function_values]`` instead (further warnings are suppressed) ()\n",
            "  ')')\n",
            "/usr/local/lib/python3.6/dist-packages/cma/utilities/utils.py:333: UserWarning: function_values is not a list of scalars,\n",
            "                        the first element equals [4647.3481474] with non-scalar type <class 'numpy.ndarray'>.\n",
            "                        Using now ``[v[0] for v in function_values]`` instead (further warnings are suppressed) ()\n",
            "  ')')\n"
          ],
          "name": "stderr"
        },
        {
          "output_type": "stream",
          "text": [
            "  100   1500 2.875102041738263e+03 1.5e+00 4.08e-02  4e-02  4e-02 0:02.0\n",
            "  200   3000 2.715908091709638e+03 1.5e+00 3.05e-03  3e-03  3e-03 0:03.9\n",
            "  300   4500 2.715177662454295e+03 1.6e+00 1.90e-04  2e-04  2e-04 0:05.9\n",
            "  400   6000 2.715174395748747e+03 1.6e+00 1.11e-05  9e-06  1e-05 0:07.8\n",
            "  500   7500 2.715174385986147e+03 1.7e+00 7.47e-07  6e-07  7e-07 0:09.7\n",
            "  600   9000 2.715174385941283e+03 1.7e+00 5.16e-08  4e-08  5e-08 0:11.7\n",
            "  700  10500 2.715174385941112e+03 1.7e+00 4.90e-09  4e-09  4e-09 0:13.7\n",
            "  777  11655 2.715174385941111e+03 1.7e+00 1.88e-09  1e-09  2e-09 0:15.2\n",
            "termination on tolfun=1e-11 (Mon Apr 13 15:05:01 2020)\n",
            "final/bestever f-value = 2.715174e+03 2.715174e+03\n",
            "incumbent solution: [ 0.04675072  0.02542598 -0.14006053 -0.03997052 -0.02560332  0.01900346\n",
            " -0.06408277 -0.04565247 ...]\n",
            "std deviations: [1.40195580e-09 1.48289985e-09 1.51324630e-09 1.49319345e-09\n",
            " 1.37960303e-09 1.54808150e-09 1.42167997e-09 1.42332417e-09 ...]\n",
            "(7_w,15)-aCMA-ES (mu_w=4.5,w_1=34%) in dimension 50 (seed=912194, Mon Apr 13 15:05:01 2020)\n",
            "Iterat #Fevals   function value  axis ratio  sigma  min&max std  t[m:s]\n",
            "    1     15 4.649697130789596e+03 1.0e+00 2.55e-01  3e-01  3e-01 0:00.0\n",
            "    2     30 4.649697079722974e+03 1.0e+00 2.47e-01  2e-01  2e-01 0:00.0\n",
            "    3     45 4.649696588833213e+03 1.0e+00 2.42e-01  2e-01  2e-01 0:00.0\n"
          ],
          "name": "stdout"
        },
        {
          "output_type": "stream",
          "text": [
            "/usr/local/lib/python3.6/dist-packages/cma/utilities/utils.py:333: UserWarning: function_values is not a list of scalars,\n",
            "                        the first element equals [4649.69713492] with non-scalar type <class 'numpy.ndarray'>.\n",
            "                        Using now ``[v[0] for v in function_values]`` instead (further warnings are suppressed) ()\n",
            "  ')')\n",
            "/usr/local/lib/python3.6/dist-packages/cma/utilities/utils.py:333: UserWarning: function_values is not a list of scalars,\n",
            "                        the first element equals [4649.69712905] with non-scalar type <class 'numpy.ndarray'>.\n",
            "                        Using now ``[v[0] for v in function_values]`` instead (further warnings are suppressed) ()\n",
            "  ')')\n"
          ],
          "name": "stderr"
        },
        {
          "output_type": "stream",
          "text": [
            "  100   1500 4.015594410928207e+03 1.4e+00 2.04e-02  2e-02  2e-02 0:01.4\n",
            "  200   3000 3.994881552037458e+03 1.4e+00 9.57e-04  9e-04  9e-04 0:02.7\n",
            "  300   4500 3.994836256012446e+03 1.5e+00 6.21e-05  5e-05  6e-05 0:04.1\n",
            "  400   6000 3.994836069527981e+03 1.5e+00 4.26e-06  4e-06  4e-06 0:05.4\n",
            "  500   7500 3.994836068453372e+03 1.6e+00 2.63e-07  2e-07  2e-07 0:06.8\n",
            "  600   9000 3.994836068450319e+03 1.6e+00 1.57e-08  1e-08  1e-08 0:08.2\n",
            "  700  10500 3.994836068450308e+03 1.8e+00 3.43e-09  3e-09  3e-09 0:09.6\n",
            "  717  10755 3.994836068450308e+03 1.8e+00 3.08e-09  2e-09  3e-09 0:09.8\n",
            "termination on tolfun=1e-11 (Mon Apr 13 15:05:14 2020)\n",
            "final/bestever f-value = 3.994836e+03 3.994836e+03\n",
            "incumbent solution: [ 0.41603757  0.39726236 -0.13214832  0.44279941  0.40479205  0.45548759\n",
            "  0.11560693  0.05886012 ...]\n",
            "std deviations: [2.47986448e-09 2.31677935e-09 2.41578898e-09 2.40373814e-09\n",
            " 2.41988584e-09 2.52502523e-09 2.39732122e-09 2.47524358e-09 ...]\n",
            "(7_w,15)-aCMA-ES (mu_w=4.5,w_1=34%) in dimension 50 (seed=899703, Mon Apr 13 15:05:14 2020)\n",
            "Iterat #Fevals   function value  axis ratio  sigma  min&max std  t[m:s]\n",
            "    1     15 6.028663318094515e+03 1.0e+00 2.56e-01  3e-01  3e-01 0:00.0\n",
            "    2     30 5.856710814712987e+03 1.0e+00 2.49e-01  2e-01  2e-01 0:00.0\n",
            "    3     45 5.682640440918447e+03 1.1e+00 2.45e-01  2e-01  2e-01 0:00.1\n"
          ],
          "name": "stdout"
        },
        {
          "output_type": "stream",
          "text": [
            "/usr/local/lib/python3.6/dist-packages/cma/utilities/utils.py:333: UserWarning: function_values is not a list of scalars,\n",
            "                        the first element equals [6169.57622327] with non-scalar type <class 'numpy.ndarray'>.\n",
            "                        Using now ``[v[0] for v in function_values]`` instead (further warnings are suppressed) ()\n",
            "  ')')\n",
            "/usr/local/lib/python3.6/dist-packages/cma/utilities/utils.py:333: UserWarning: function_values is not a list of scalars,\n",
            "                        the first element equals [6632.56709326] with non-scalar type <class 'numpy.ndarray'>.\n",
            "                        Using now ``[v[0] for v in function_values]`` instead (further warnings are suppressed) ()\n",
            "  ')')\n"
          ],
          "name": "stderr"
        },
        {
          "output_type": "stream",
          "text": [
            "  100   1500 -2.840793216124743e+07 2.0e+00 1.99e+01  2e+01  2e+01 0:01.9\n",
            "  139   2085 -4.329552484483438e+09 2.1e+00 2.47e+02  2e+02  3e+02 0:02.6\n",
            "termination on tolfacupx=1000.0 (Mon Apr 13 15:05:17 2020)\n",
            "final/bestever f-value = -4.423128e+09 -4.423128e+09\n",
            "incumbent solution: [  360.22070423   516.71843691  1202.76269073  1541.57094756\n",
            " -2232.93867744  -540.89696903   228.40956139  -852.06913951 ...]\n",
            "std deviations: [238.72864708 235.57151769 237.2148183  245.49390555 248.80183147\n",
            " 237.43433607 233.5883459  242.40440572 ...]\n"
          ],
          "name": "stdout"
        }
      ]
    },
    {
      "cell_type": "code",
      "metadata": {
        "id": "9SYW02OkZ6MM",
        "colab_type": "code",
        "outputId": "ef47e0d0-a2b2-488b-a448-5a0ec79b3a11",
        "colab": {
          "base_uri": "https://localhost:8080/",
          "height": 121
        }
      },
      "source": [
        "X_Values = pd.DataFrame(X_Values)\n",
        "X_Values.columns = Cols\n",
        "X_Values.to_csv('F24_100_X_Values.csv')\n",
        "Krig_Fun = np.zeros(30)\n",
        "SVM_Fun = np.zeros(30)\n",
        "KNN_Fun = np.zeros(30)\n",
        "ELN_Fun = np.zeros(30)\n",
        "for i in range(X_Values.shape[0]):\n",
        "    Krig_Fun [i] = F24(X_Values.iloc[i,:50])\n",
        "    SVM_Fun [i] = F24(X_Values.iloc[i,50:100])\n",
        "    ELN_Fun [i] = F24(X_Values.iloc[i,100:150])\n",
        "print ('Kriging')\n",
        "print (stats.mode(Krig_Fun) , np.std(Krig_Fun))\n",
        "print ('SVM')\n",
        "print (stats.mode(SVM_Fun) , np.std(SVM_Fun))\n",
        "print ('ELN')\n",
        "print (stats.mode(ELN_Fun) , np.std(ELN_Fun))"
      ],
      "execution_count": 7,
      "outputs": [
        {
          "output_type": "stream",
          "text": [
            "Kriging\n",
            "ModeResult(mode=array([860.19646685]), count=array([1])) 24.812353524486937\n",
            "SVM\n",
            "ModeResult(mode=array([809.96855958]), count=array([1])) 22.55982734079779\n",
            "ELN\n",
            "ModeResult(mode=array([2.93947147e+11]), count=array([1])) 65546515269.58327\n"
          ],
          "name": "stdout"
        }
      ]
    }
  ]
}