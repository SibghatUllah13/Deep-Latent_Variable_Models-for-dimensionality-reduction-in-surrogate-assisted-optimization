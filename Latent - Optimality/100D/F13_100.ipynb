{
 "cells": [
  {
   "cell_type": "code",
   "execution_count": 1,
   "metadata": {
    "colab": {
     "base_uri": "https://localhost:8080/",
     "height": 315
    },
    "colab_type": "code",
    "id": "6zkV22S_a51g",
    "outputId": "d754ce19-621b-4d38-803c-93faec89faac"
   },
   "outputs": [
    {
     "name": "stdout",
     "output_type": "stream",
     "text": [
      "Collecting pyDOE\n",
      "  Downloading https://files.pythonhosted.org/packages/bc/ac/91fe4c039e2744466621343d3b8af4a485193ed0aab53af5b1db03be0989/pyDOE-0.3.8.zip\n",
      "Requirement already satisfied: numpy in /usr/local/lib/python3.6/dist-packages (from pyDOE) (1.18.2)\n",
      "Requirement already satisfied: scipy in /usr/local/lib/python3.6/dist-packages (from pyDOE) (1.4.1)\n",
      "Building wheels for collected packages: pyDOE\n",
      "  Building wheel for pyDOE (setup.py) ... \u001b[?25l\u001b[?25hdone\n",
      "  Created wheel for pyDOE: filename=pyDOE-0.3.8-cp36-none-any.whl size=18178 sha256=f16897685661c0684e3080a50c920cf34b2d526130a593ed3787c2ff9ccc0859\n",
      "  Stored in directory: /root/.cache/pip/wheels/7c/c8/58/a6493bd415e8ba5735082b5e0c096d7c1f2933077a8ce34544\n",
      "Successfully built pyDOE\n",
      "Installing collected packages: pyDOE\n",
      "Successfully installed pyDOE-0.3.8\n",
      "Collecting cma\n",
      "\u001b[?25l  Downloading https://files.pythonhosted.org/packages/b9/3b/87a4efbcfeaf3172d81ef843f0b0c34c3ba60ec884aa6777f34f68b57418/cma-2.7.0-py2.py3-none-any.whl (239kB)\n",
      "\u001b[K     |████████████████████████████████| 245kB 4.6MB/s \n",
      "\u001b[?25hInstalling collected packages: cma\n",
      "Successfully installed cma-2.7.0\n"
     ]
    }
   ],
   "source": [
    "!pip install pyDOE\n",
    "!pip install cma\n"
   ]
  },
  {
   "cell_type": "code",
   "execution_count": 0,
   "metadata": {
    "colab": {},
    "colab_type": "code",
    "id": "-SLdZF_crfs5"
   },
   "outputs": [],
   "source": []
  },
  {
   "cell_type": "code",
   "execution_count": 0,
   "metadata": {
    "colab": {},
    "colab_type": "code",
    "id": "G7KSBbE6rjkt"
   },
   "outputs": [],
   "source": []
  },
  {
   "cell_type": "code",
   "execution_count": 0,
   "metadata": {
    "colab": {},
    "colab_type": "code",
    "id": "gtM9rgADZ6Ly"
   },
   "outputs": [],
   "source": [
    "import pyDOE\n",
    "from scipy import stats\n",
    "import pandas as pd\n",
    "import numpy as np\n",
    "from scipy.optimize import minimize\n",
    "from scipy.optimize import Bounds\n",
    "from collections import namedtuple\n",
    "import cma\n",
    "from sklearn.preprocessing import MinMaxScaler\n",
    "import scipy.stats.distributions as dist\n",
    "from sklearn.gaussian_process import GaussianProcessRegressor\n",
    "from sklearn.gaussian_process.kernels import RBF, ConstantKernel as C\n",
    "from sklearn.gaussian_process.kernels import DotProduct\n",
    "from sklearn.model_selection import train_test_split\n",
    "from sklearn import preprocessing\n",
    "from sklearn.neighbors import KNeighborsRegressor\n",
    "from sklearn.svm import SVR\n",
    "from sklearn.linear_model import ElasticNet\n",
    "from sklearn.preprocessing import PolynomialFeatures\n",
    "import bbobbenchmarks as bn\n",
    "import sklearn"
   ]
  },
  {
   "cell_type": "markdown",
   "metadata": {
    "colab_type": "text",
    "id": "yl7hfUygZ6L3"
   },
   "source": [
    "## Surrogate Models & Helper Functions"
   ]
  },
  {
   "cell_type": "code",
   "execution_count": 0,
   "metadata": {
    "colab": {},
    "colab_type": "code",
    "id": "7laVf7KtZ6L3"
   },
   "outputs": [],
   "source": [
    "ValueRange = namedtuple('ValueRange', ['min', 'max'])\n",
    "\n",
    "def determinerange(values):\n",
    "    \"\"\"Determine the range of values in each dimension\"\"\"\n",
    "    return ValueRange(np.min(values, axis=0), np.max(values, axis=0))\n",
    "\n",
    "\n",
    "def linearscaletransform(values, *, range_in=None, range_out=ValueRange(0, 1), scale_only=False):\n",
    "    \"\"\"Perform a scale transformation of `values`: [range_in] --> [range_out]\"\"\"\n",
    "\n",
    "    if range_in is None:\n",
    "        range_in = determinerange(values)\n",
    "    elif not isinstance(range_in, ValueRange):\n",
    "        range_in = ValueRange(*range_in)\n",
    "\n",
    "    if not isinstance(range_out, ValueRange):\n",
    "        range_out = ValueRange(*range_out)\n",
    "\n",
    "    scale_out = range_out.max - range_out.min\n",
    "    scale_in = range_in.max - range_in.min\n",
    "\n",
    "    if scale_only:\n",
    "        scaled_values = (values / scale_in) * scale_out\n",
    "    else:\n",
    "        scaled_values = (values - range_in.min) / scale_in\n",
    "        scaled_values = (scaled_values * scale_out) + range_out.min\n",
    "\n",
    "    return scaled_values\n",
    "\n",
    "\n",
    "''' F13 '''\n",
    "def F13(X):\n",
    "    f = bn.F13()\n",
    "    X = np.array(X)\n",
    "    return f(X)\n",
    "\n",
    "''' Latin HyperCube Sampling Design of Experiment '''\n",
    "def DOE(n_obs, dim):\n",
    "    np.random.seed(0)\n",
    "    lhd = pyDOE.lhs(n=dim, samples=n_obs, criterion='m')\n",
    "    X = [lhd[:,idx] for idx in range(dim)]\n",
    "    return X\n",
    "\n",
    "def create_basis_function(data):\n",
    "    true = np.array(data['Y'])\n",
    "    data = pd.DataFrame(np.atleast_2d(PolynomialFeatures(degree=2).fit_transform(data.iloc[:,:-1])))\n",
    "    data['Y'] = pd.Series(true)\n",
    "    return data\n",
    "\n",
    "''' Create Basis Functions '''\n",
    "def create_function_basis(x):\n",
    "    return np.atleast_2d(PolynomialFeatures(degree=2).fit_transform(x.reshape(1,-1)))\n",
    "      \n",
    "\n",
    "''' Elastic Net Regression '''\n",
    "def elastic_net(train_data,test_data):\n",
    "    scaler =  MinMaxScaler().fit(np.r_[train_data.iloc[:,:-1].values])\n",
    "    regr = ElasticNet(alpha= 0.0285 ,random_state=0 , l1_ratio=0.6432, fit_intercept =True, max_iter=3000,selection='random').fit(scaler.transform ( np.array(train_data.iloc[:,:-1])) ,  np.array(train_data.iloc[:,-1]))\n",
    "    pred = regr.predict(scaler.transform(test_data))\n",
    "    def predict(scaler, regr):\n",
    "        def __predict__(x):\n",
    "            x = create_function_basis(x)\n",
    "            return regr.predict(scaler.transform(x))\n",
    "        return __predict__\n",
    "    return regr,pred, predict(scaler, regr)\n",
    "    \n",
    "\n",
    "''' Kriging'''\n",
    "def kriging(train_data,test_data):\n",
    "    kernel =  RBF()\n",
    "    scaler = MinMaxScaler().fit(np.r_[train_data.iloc[:,:-1].values])\n",
    "    gpr = GaussianProcessRegressor(kernel=kernel,n_restarts_optimizer= 15,random_state=0,\n",
    "                                   normalize_y=True ).fit(scaler.transform(train_data.iloc[:,:-1]), train_data.iloc[:,-1])\n",
    "    pred = gpr.predict(scaler.transform(test_data))\n",
    "    def predict(scaler, gpr):\n",
    "        def __predict__(x):\n",
    "            x = np.atleast_2d(x)\n",
    "            return gpr.predict(scaler.transform(x))\n",
    "        return __predict__\n",
    "    return gpr,pred, predict(scaler,gpr)\n",
    "\n",
    "''' Support Vector Regression'''\n",
    "def _SVR(train_data,test_data):\n",
    "    scaler = MinMaxScaler().fit(np.r_[train_data.iloc[:,:-1].values])\n",
    "    gpr = sklearn.svm.SVR(kernel='rbf', gamma = 6.40 , C = 365.65 ,max_iter=1500).fit( scaler.transform(train_data.iloc[:,:-1]), train_data.iloc[:,-1])\n",
    "    pred = gpr.predict(scaler.transform(test_data))\n",
    "    def predict(scaler, gpr):\n",
    "        def __predict__(x):\n",
    "            x = np.atleast_2d(x)\n",
    "            return gpr.predict(scaler.transform(x))\n",
    "        return __predict__\n",
    "    return gpr,pred, predict(scaler,gpr)"
   ]
  },
  {
   "cell_type": "markdown",
   "metadata": {
    "colab_type": "text",
    "id": "s5Dro9woZ6L7"
   },
   "source": [
    "## Load Training and Test Data Set initially Generated"
   ]
  },
  {
   "cell_type": "code",
   "execution_count": 0,
   "metadata": {
    "colab": {},
    "colab_type": "code",
    "id": "j9jwRavXZ6L8"
   },
   "outputs": [],
   "source": [
    "path = \"train_13_2000Samples.csv\"\n",
    "train_y = pd.read_csv(path).iloc[:,-1]\n",
    "test_y = pd.read_csv('test_13_400Samples.csv').iloc[:,-1]\n",
    "path = \"train_latent_100D.csv\"\n",
    "train = pd.read_csv(path, index_col = 0)\n",
    "test = pd.read_csv('test_latent_100D.csv', index_col = 0)\n",
    "train ['Y'] = train_y\n",
    "test ['Y'] = test_y\n",
    "del train_y\n",
    "del test_y\n",
    "true = np.array(test['Y'])"
   ]
  },
  {
   "cell_type": "markdown",
   "metadata": {
    "colab_type": "text",
    "id": "c1az15PJZ6MA"
   },
   "source": [
    "## Surrogate Models"
   ]
  },
  {
   "cell_type": "code",
   "execution_count": 5,
   "metadata": {
    "colab": {
     "base_uri": "https://localhost:8080/",
     "height": 72
    },
    "colab_type": "code",
    "id": "Fw-8Jpm1Z6MA",
    "outputId": "90f135b4-2129-4942-f588-bd33bfc08d37"
   },
   "outputs": [
    {
     "name": "stderr",
     "output_type": "stream",
     "text": [
      "/usr/local/lib/python3.6/dist-packages/sklearn/svm/_base.py:231: ConvergenceWarning: Solver terminated early (max_iter=1500).  Consider pre-processing your data with StandardScaler or MinMaxScaler.\n",
      "  % self.max_iter, ConvergenceWarning)\n"
     ]
    }
   ],
   "source": [
    "model_kri , pred_kri , predict_kri = kriging(train,test.iloc[:,:-1])\n",
    "model_svr , pred_svr , predict_svr = _SVR(train,test.iloc[:,:-1])\n",
    "train = create_basis_function(train)\n",
    "test = create_basis_function(test)\n",
    "model_eln , pred_eln , predict_eln = elastic_net(train,test.iloc[:,:-1])"
   ]
  },
  {
   "cell_type": "markdown",
   "metadata": {
    "colab_type": "text",
    "id": "ehujGygVZ6ME"
   },
   "source": [
    "## CMA-ES"
   ]
  },
  {
   "cell_type": "code",
   "execution_count": 6,
   "metadata": {
    "colab": {
     "base_uri": "https://localhost:8080/",
     "height": 1000
    },
    "colab_type": "code",
    "id": "eTYv39UzZ6MF",
    "outputId": "12fd9cbb-c8ae-4d33-c0ce-59a8f25f8ec3"
   },
   "outputs": [
    {
     "name": "stdout",
     "output_type": "stream",
     "text": [
      "Run : 0\n",
      "(7_w,15)-aCMA-ES (mu_w=4.5,w_1=34%) in dimension 50 (seed=893877, Mon Apr 13 14:47:20 2020)\n",
      "Iterat #Fevals   function value  axis ratio  sigma  min&max std  t[m:s]\n",
      "    1     15 7.741269651966092e+03 1.0e+00 2.55e-01  3e-01  3e-01 0:00.0\n",
      "    2     30 7.741263575547718e+03 1.0e+00 2.48e-01  2e-01  2e-01 0:00.0\n",
      "    3     45 7.741258766969286e+03 1.1e+00 2.43e-01  2e-01  2e-01 0:00.1\n"
     ]
    },
    {
     "name": "stderr",
     "output_type": "stream",
     "text": [
      "/usr/local/lib/python3.6/dist-packages/cma/utilities/utils.py:333: UserWarning: function_values is not a list of scalars,\n",
      "                        the first element equals [7741.30729349] with non-scalar type <class 'numpy.ndarray'>.\n",
      "                        Using now ``[v[0] for v in function_values]`` instead (further warnings are suppressed) ()\n",
      "  ')')\n",
      "/usr/local/lib/python3.6/dist-packages/cma/utilities/utils.py:333: UserWarning: function_values is not a list of scalars,\n",
      "                        the first element equals [7741.31855163] with non-scalar type <class 'numpy.ndarray'>.\n",
      "                        Using now ``[v[0] for v in function_values]`` instead (further warnings are suppressed) ()\n",
      "  ')')\n"
     ]
    },
    {
     "name": "stdout",
     "output_type": "stream",
     "text": [
      "  100   1500 3.556576688948165e+03 1.5e+00 4.94e-02  5e-02  5e-02 0:01.9\n",
      "  200   3000 3.161919740552764e+03 1.5e+00 3.23e-03  3e-03  3e-03 0:03.8\n",
      "  300   4500 3.160081945726964e+03 1.6e+00 2.18e-04  2e-04  2e-04 0:05.6\n",
      "  400   6000 3.160076317731175e+03 1.6e+00 1.47e-05  1e-05  1e-05 0:07.5\n",
      "  500   7500 3.160076282256422e+03 1.6e+00 9.14e-07  7e-07  8e-07 0:09.4\n",
      "  600   9000 3.160076282154881e+03 1.7e+00 5.37e-08  4e-08  5e-08 0:11.3\n",
      "  700  10500 3.160076282154425e+03 1.7e+00 4.50e-09  3e-09  4e-09 0:13.1\n",
      "  780  11700 3.160076282154423e+03 1.8e+00 1.99e-09  1e-09  2e-09 0:14.6\n",
      "termination on tolfun=1e-11 (Mon Apr 13 14:47:37 2020)\n",
      "final/bestever f-value = 3.160076e+03 3.160076e+03\n",
      "incumbent solution: [-0.03729192  0.16792745 -0.24733188  0.21473333  0.1418224  -0.02816852\n",
      " -0.12247467  0.07988005 ...]\n",
      "std deviations: [1.51945137e-09 1.40648199e-09 1.58403568e-09 1.58463494e-09\n",
      " 1.47156062e-09 1.63854113e-09 1.59610598e-09 1.49870859e-09 ...]\n",
      "(7_w,15)-aCMA-ES (mu_w=4.5,w_1=34%) in dimension 50 (seed=862648, Mon Apr 13 14:47:37 2020)\n",
      "Iterat #Fevals   function value  axis ratio  sigma  min&max std  t[m:s]\n",
      "    1     15 7.748048691462061e+03 1.0e+00 2.55e-01  3e-01  3e-01 0:00.0\n",
      "    2     30 7.748048690050695e+03 1.0e+00 2.46e-01  2e-01  2e-01 0:00.0\n",
      "    3     45 7.748048688726396e+03 1.1e+00 2.39e-01  2e-01  2e-01 0:00.0\n"
     ]
    },
    {
     "name": "stderr",
     "output_type": "stream",
     "text": [
      "/usr/local/lib/python3.6/dist-packages/cma/utilities/utils.py:333: UserWarning: function_values is not a list of scalars,\n",
      "                        the first element equals [7748.04869204] with non-scalar type <class 'numpy.ndarray'>.\n",
      "                        Using now ``[v[0] for v in function_values]`` instead (further warnings are suppressed) ()\n",
      "  ')')\n",
      "/usr/local/lib/python3.6/dist-packages/cma/utilities/utils.py:333: UserWarning: function_values is not a list of scalars,\n",
      "                        the first element equals [7748.0486904] with non-scalar type <class 'numpy.ndarray'>.\n",
      "                        Using now ``[v[0] for v in function_values]`` instead (further warnings are suppressed) ()\n",
      "  ')')\n"
     ]
    },
    {
     "name": "stdout",
     "output_type": "stream",
     "text": [
      "  100   1500 7.505287786437639e+03 1.4e+00 2.55e-02  2e-02  3e-02 0:01.3\n",
      "  200   3000 7.485731714997612e+03 1.5e+00 1.25e-03  1e-03  1e-03 0:02.7\n",
      "  300   4500 7.485681456772003e+03 1.5e+00 7.50e-05  6e-05  7e-05 0:04.0\n",
      "  400   6000 7.485681309009656e+03 1.5e+00 5.04e-06  4e-06  5e-06 0:05.3\n",
      "  500   7500 7.485681308470898e+03 1.6e+00 3.55e-07  3e-07  3e-07 0:06.6\n",
      "  600   9000 7.485681308468722e+03 1.6e+00 2.16e-08  2e-08  2e-08 0:08.0\n"
     ]
    },
    {
     "name": "stderr",
     "output_type": "stream",
     "text": [
      "/usr/local/lib/python3.6/dist-packages/cma/utilities/utils.py:333: UserWarning: flat fitness (f=7485.681308, sigma=4.29e-09).\n",
      "                    For small sigma, this could indicate numerical convergence.\n",
      "                    Otherwise, please (re)consider how to compute the fitness more elaborately. (iteration=672)\n",
      "  ')')\n"
     ]
    },
    {
     "name": "stdout",
     "output_type": "stream",
     "text": [
      "  700  10500 7.485681308468716e+03 1.7e+00 3.40e-09  3e-09  3e-09 0:09.3\n",
      "  705  10575 7.485681308468716e+03 1.7e+00 3.24e-09  2e-09  3e-09 0:09.4\n",
      "termination on tolfun=1e-11 (Mon Apr 13 14:47:48 2020)\n",
      "final/bestever f-value = 7.485681e+03 7.485681e+03\n",
      "incumbent solution: [-0.20866782  0.23479969 -0.18946767  0.20019915  0.16936801 -0.18498836\n",
      "  0.1881877   0.1327112  ...]\n",
      "std deviations: [2.57264194e-09 2.57096056e-09 2.67393756e-09 2.56507652e-09\n",
      " 2.53633974e-09 2.78011477e-09 2.58217634e-09 2.54914998e-09 ...]\n",
      "(7_w,15)-aCMA-ES (mu_w=4.5,w_1=34%) in dimension 50 (seed=952430, Mon Apr 13 14:47:48 2020)\n",
      "Iterat #Fevals   function value  axis ratio  sigma  min&max std  t[m:s]\n",
      "    1     15 8.035956167267233e+03 1.0e+00 2.55e-01  3e-01  3e-01 0:00.0\n",
      "    2     30 7.727834398325179e+03 1.0e+00 2.47e-01  2e-01  2e-01 0:00.0\n",
      "    3     45 7.754665018445176e+03 1.1e+00 2.41e-01  2e-01  2e-01 0:00.1\n"
     ]
    },
    {
     "name": "stderr",
     "output_type": "stream",
     "text": [
      "/usr/local/lib/python3.6/dist-packages/cma/utilities/utils.py:333: UserWarning: function_values is not a list of scalars,\n",
      "                        the first element equals [9504.59400925] with non-scalar type <class 'numpy.ndarray'>.\n",
      "                        Using now ``[v[0] for v in function_values]`` instead (further warnings are suppressed) ()\n",
      "  ')')\n",
      "/usr/local/lib/python3.6/dist-packages/cma/utilities/utils.py:333: UserWarning: function_values is not a list of scalars,\n",
      "                        the first element equals [9687.94341633] with non-scalar type <class 'numpy.ndarray'>.\n",
      "                        Using now ``[v[0] for v in function_values]`` instead (further warnings are suppressed) ()\n",
      "  ')')\n"
     ]
    },
    {
     "name": "stdout",
     "output_type": "stream",
     "text": [
      "  100   1500 -5.962924359392002e+08 1.6e+00 9.20e+01  9e+01  9e+01 0:01.9\n",
      "  117   1755 -5.672514651717237e+09 1.6e+00 2.81e+02  3e+02  3e+02 0:02.2\n",
      "termination on tolfacupx=1000.0 (Mon Apr 13 14:47:51 2020)\n",
      "final/bestever f-value = -5.520583e+09 -5.672515e+09\n",
      "incumbent solution: [-474.26987598 1653.08812911 -779.48147567 -123.10318616   18.37262799\n",
      "  166.72151454 -316.00604034 -966.97499845 ...]\n",
      "std deviations: [267.14458512 278.02324233 268.78472376 274.74730044 265.37640695\n",
      " 265.99832519 265.58430451 264.9351093  ...]\n",
      "Run : 1\n",
      "(7_w,15)-aCMA-ES (mu_w=4.5,w_1=34%) in dimension 50 (seed=934976, Mon Apr 13 14:47:51 2020)\n",
      "Iterat #Fevals   function value  axis ratio  sigma  min&max std  t[m:s]\n",
      "    1     15 7.737325154358284e+03 1.0e+00 2.55e-01  3e-01  3e-01 0:00.0\n",
      "    2     30 7.726556600420749e+03 1.0e+00 2.46e-01  2e-01  2e-01 0:00.0\n",
      "    3     45 7.716711241092697e+03 1.0e+00 2.40e-01  2e-01  2e-01 0:00.1\n"
     ]
    },
    {
     "name": "stderr",
     "output_type": "stream",
     "text": [
      "/usr/local/lib/python3.6/dist-packages/cma/utilities/utils.py:333: UserWarning: function_values is not a list of scalars,\n",
      "                        the first element equals [7740.98516671] with non-scalar type <class 'numpy.ndarray'>.\n",
      "                        Using now ``[v[0] for v in function_values]`` instead (further warnings are suppressed) ()\n",
      "  ')')\n",
      "/usr/local/lib/python3.6/dist-packages/cma/utilities/utils.py:333: UserWarning: function_values is not a list of scalars,\n",
      "                        the first element equals [7739.48487266] with non-scalar type <class 'numpy.ndarray'>.\n",
      "                        Using now ``[v[0] for v in function_values]`` instead (further warnings are suppressed) ()\n",
      "  ')')\n"
     ]
    },
    {
     "name": "stdout",
     "output_type": "stream",
     "text": [
      "  100   1500 3.279581102464871e+03 1.4e+00 2.55e-02  2e-02  3e-02 0:01.9\n",
      "  200   3000 3.160465473308499e+03 1.5e+00 1.78e-03  2e-03  2e-03 0:03.7\n",
      "  300   4500 3.160077515428200e+03 1.5e+00 9.78e-05  8e-05  9e-05 0:05.6\n",
      "  400   6000 3.160076287940497e+03 1.6e+00 6.84e-06  6e-06  6e-06 0:07.5\n",
      "  500   7500 3.160076282170294e+03 1.6e+00 4.38e-07  3e-07  4e-07 0:09.4\n",
      "  600   9000 3.160076282154474e+03 1.6e+00 2.42e-08  2e-08  2e-08 0:11.2\n",
      "  700  10500 3.160076282154424e+03 1.7e+00 3.18e-09  2e-09  3e-09 0:13.1\n",
      "  747  11205 3.160076282154423e+03 1.8e+00 1.70e-09  1e-09  1e-09 0:14.0\n",
      "termination on tolfun=1e-11 (Mon Apr 13 14:48:07 2020)\n",
      "final/bestever f-value = 3.160076e+03 3.160076e+03\n",
      "incumbent solution: [-0.03729193  0.16792747 -0.24733188  0.21473332  0.14182241 -0.02816851\n",
      " -0.12247467  0.07988004 ...]\n",
      "std deviations: [1.34014729e-09 1.22176667e-09 1.34203668e-09 1.40227066e-09\n",
      " 1.28524087e-09 1.43470105e-09 1.31695985e-09 1.39108280e-09 ...]\n",
      "(7_w,15)-aCMA-ES (mu_w=4.5,w_1=34%) in dimension 50 (seed=918190, Mon Apr 13 14:48:07 2020)\n",
      "Iterat #Fevals   function value  axis ratio  sigma  min&max std  t[m:s]\n",
      "    1     15 7.748048687239165e+03 1.0e+00 2.56e-01  3e-01  3e-01 0:00.0\n",
      "    2     30 7.748048682281865e+03 1.0e+00 2.44e-01  2e-01  2e-01 0:00.0\n",
      "    3     45 7.748048609878104e+03 1.1e+00 2.34e-01  2e-01  2e-01 0:00.0\n"
     ]
    },
    {
     "name": "stderr",
     "output_type": "stream",
     "text": [
      "/usr/local/lib/python3.6/dist-packages/cma/utilities/utils.py:333: UserWarning: function_values is not a list of scalars,\n",
      "                        the first element equals [7748.04869204] with non-scalar type <class 'numpy.ndarray'>.\n",
      "                        Using now ``[v[0] for v in function_values]`` instead (further warnings are suppressed) ()\n",
      "  ')')\n",
      "/usr/local/lib/python3.6/dist-packages/cma/utilities/utils.py:333: UserWarning: function_values is not a list of scalars,\n",
      "                        the first element equals [7748.0486882] with non-scalar type <class 'numpy.ndarray'>.\n",
      "                        Using now ``[v[0] for v in function_values]`` instead (further warnings are suppressed) ()\n",
      "  ')')\n"
     ]
    },
    {
     "name": "stdout",
     "output_type": "stream",
     "text": [
      "  100   1500 7.402565068509017e+03 1.4e+00 2.34e-02  2e-02  2e-02 0:01.3\n",
      "  200   3000 7.381180580432167e+03 1.4e+00 1.20e-03  1e-03  1e-03 0:02.7\n",
      "  300   4500 7.381124280455224e+03 1.5e+00 6.82e-05  6e-05  6e-05 0:04.0\n",
      "  400   6000 7.381124143727994e+03 1.5e+00 3.24e-06  3e-06  3e-06 0:05.3\n",
      "  500   7500 7.381124143358327e+03 1.6e+00 1.35e-07  1e-07  1e-07 0:06.7\n",
      "  600   9000 7.381124143357785e+03 1.6e+00 7.97e-09  6e-09  7e-09 0:08.0\n",
      "  682  10230 7.381124143357782e+03 1.7e+00 3.48e-09  3e-09  3e-09 0:09.1\n",
      "termination on tolfun=1e-11 (Mon Apr 13 14:48:19 2020)\n",
      "final/bestever f-value = 7.381124e+03 7.381124e+03\n",
      "incumbent solution: [ 0.42082589  0.11940132  0.17413694  0.2936002  -0.01749304  0.0193602\n",
      "  0.01598215  0.00594598 ...]\n",
      "std deviations: [2.76784531e-09 2.69474052e-09 2.81089173e-09 2.88317573e-09\n",
      " 2.64404468e-09 2.97666901e-09 2.76649670e-09 2.85165740e-09 ...]\n",
      "(7_w,15)-aCMA-ES (mu_w=4.5,w_1=34%) in dimension 50 (seed=865884, Mon Apr 13 14:48:19 2020)\n",
      "Iterat #Fevals   function value  axis ratio  sigma  min&max std  t[m:s]\n",
      "    1     15 7.477328472211506e+03 1.0e+00 2.57e-01  3e-01  3e-01 0:00.0\n",
      "    2     30 7.067409609161121e+03 1.0e+00 2.51e-01  2e-01  3e-01 0:00.0\n",
      "    3     45 6.714779720738541e+03 1.1e+00 2.50e-01  2e-01  3e-01 0:00.1\n"
     ]
    },
    {
     "name": "stderr",
     "output_type": "stream",
     "text": [
      "/usr/local/lib/python3.6/dist-packages/cma/utilities/utils.py:333: UserWarning: function_values is not a list of scalars,\n",
      "                        the first element equals [8857.53547257] with non-scalar type <class 'numpy.ndarray'>.\n",
      "                        Using now ``[v[0] for v in function_values]`` instead (further warnings are suppressed) ()\n",
      "  ')')\n",
      "/usr/local/lib/python3.6/dist-packages/cma/utilities/utils.py:333: UserWarning: function_values is not a list of scalars,\n",
      "                        the first element equals [8086.962625] with non-scalar type <class 'numpy.ndarray'>.\n",
      "                        Using now ``[v[0] for v in function_values]`` instead (further warnings are suppressed) ()\n",
      "  ')')\n"
     ]
    },
    {
     "name": "stdout",
     "output_type": "stream",
     "text": [
      "  100   1500 -2.131767452941696e+09 1.5e+00 2.11e+02  2e+02  2e+02 0:01.8\n",
      "  103   1545 -3.201998277601795e+09 1.5e+00 2.68e+02  3e+02  3e+02 0:01.9\n",
      "termination on tolfacupx=1000.0 (Mon Apr 13 14:48:21 2020)\n",
      "final/bestever f-value = -3.116404e+09 -3.201998e+09\n",
      "incumbent solution: [   68.34439237  1131.24661937 -1111.65738108   424.70231766\n",
      "   706.74679421  -854.38112228   309.08547513   443.96403825 ...]\n",
      "std deviations: [259.45298942 264.14608437 262.52600633 259.03663499 256.86464621\n",
      " 259.6828626  258.17317535 255.7571314  ...]\n",
      "Run : 2\n",
      "(7_w,15)-aCMA-ES (mu_w=4.5,w_1=34%) in dimension 50 (seed=839596, Mon Apr 13 14:48:21 2020)\n",
      "Iterat #Fevals   function value  axis ratio  sigma  min&max std  t[m:s]\n",
      "    1     15 7.739950536907826e+03 1.0e+00 2.54e-01  3e-01  3e-01 0:00.0\n",
      "    2     30 7.739898924967169e+03 1.0e+00 2.45e-01  2e-01  2e-01 0:00.0\n",
      "    3     45 7.738268928690200e+03 1.0e+00 2.37e-01  2e-01  2e-01 0:00.1\n"
     ]
    },
    {
     "name": "stderr",
     "output_type": "stream",
     "text": [
      "/usr/local/lib/python3.6/dist-packages/cma/utilities/utils.py:333: UserWarning: function_values is not a list of scalars,\n",
      "                        the first element equals [7741.11970238] with non-scalar type <class 'numpy.ndarray'>.\n",
      "                        Using now ``[v[0] for v in function_values]`` instead (further warnings are suppressed) ()\n",
      "  ')')\n",
      "/usr/local/lib/python3.6/dist-packages/cma/utilities/utils.py:333: UserWarning: function_values is not a list of scalars,\n",
      "                        the first element equals [7741.12580383] with non-scalar type <class 'numpy.ndarray'>.\n",
      "                        Using now ``[v[0] for v in function_values]`` instead (further warnings are suppressed) ()\n",
      "  ')')\n"
     ]
    },
    {
     "name": "stdout",
     "output_type": "stream",
     "text": [
      "  100   1500 3.264182973517175e+03 1.4e+00 2.39e-02  2e-02  2e-02 0:01.9\n",
      "  200   3000 3.160235953301600e+03 1.4e+00 1.20e-03  1e-03  1e-03 0:03.8\n",
      "  300   4500 3.160077216907266e+03 1.5e+00 8.70e-05  7e-05  8e-05 0:05.6\n",
      "  400   6000 3.160076285849920e+03 1.5e+00 5.43e-06  4e-06  5e-06 0:07.5\n",
      "  500   7500 3.160076282163099e+03 1.6e+00 2.82e-07  2e-07  2e-07 0:09.4\n",
      "  600   9000 3.160076282154439e+03 1.6e+00 1.33e-08  1e-08  1e-08 0:11.3\n",
      "  700  10500 3.160076282154423e+03 1.7e+00 2.34e-09  2e-09  2e-09 0:13.1\n",
      "  724  10860 3.160076282154424e+03 1.7e+00 2.19e-09  2e-09  2e-09 0:13.6\n",
      "termination on tolfun=1e-11 (Mon Apr 13 14:48:37 2020)\n",
      "final/bestever f-value = 3.160076e+03 3.160076e+03\n",
      "incumbent solution: [-0.03729193  0.16792746 -0.24733188  0.21473332  0.14182239 -0.02816851\n",
      " -0.12247467  0.07988005 ...]\n",
      "std deviations: [1.67847411e-09 1.64530319e-09 1.82507450e-09 1.77055730e-09\n",
      " 1.68648726e-09 1.78455447e-09 1.60945301e-09 1.72311011e-09 ...]\n",
      "(7_w,15)-aCMA-ES (mu_w=4.5,w_1=34%) in dimension 50 (seed=873520, Mon Apr 13 14:48:37 2020)\n",
      "Iterat #Fevals   function value  axis ratio  sigma  min&max std  t[m:s]\n",
      "    1     15 7.748048680479670e+03 1.0e+00 2.54e-01  3e-01  3e-01 0:00.0\n",
      "    2     30 7.748048598047343e+03 1.0e+00 2.44e-01  2e-01  2e-01 0:00.0\n",
      "    3     45 7.748048376301619e+03 1.1e+00 2.38e-01  2e-01  2e-01 0:00.0\n"
     ]
    },
    {
     "name": "stderr",
     "output_type": "stream",
     "text": [
      "/usr/local/lib/python3.6/dist-packages/cma/utilities/utils.py:333: UserWarning: function_values is not a list of scalars,\n",
      "                        the first element equals [7748.0486916] with non-scalar type <class 'numpy.ndarray'>.\n",
      "                        Using now ``[v[0] for v in function_values]`` instead (further warnings are suppressed) ()\n",
      "  ')')\n",
      "/usr/local/lib/python3.6/dist-packages/cma/utilities/utils.py:333: UserWarning: function_values is not a list of scalars,\n",
      "                        the first element equals [7748.0486909] with non-scalar type <class 'numpy.ndarray'>.\n",
      "                        Using now ``[v[0] for v in function_values]`` instead (further warnings are suppressed) ()\n",
      "  ')')\n"
     ]
    },
    {
     "name": "stdout",
     "output_type": "stream",
     "text": [
      "  100   1500 7.519665512351188e+03 1.4e+00 2.70e-02  3e-02  3e-02 0:01.3\n",
      "  200   3000 7.506733445793351e+03 1.5e+00 1.81e-03  2e-03  2e-03 0:02.7\n",
      "  300   4500 7.506683845343259e+03 1.6e+00 9.36e-05  8e-05  9e-05 0:04.0\n",
      "  400   6000 7.506683665565847e+03 1.7e+00 6.88e-06  6e-06  6e-06 0:05.3\n",
      "  500   7500 7.506683664722439e+03 1.7e+00 4.25e-07  3e-07  4e-07 0:06.6\n",
      "  600   9000 7.506683664720569e+03 1.7e+00 2.65e-08  2e-08  2e-08 0:08.0\n"
     ]
    },
    {
     "name": "stderr",
     "output_type": "stream",
     "text": [
      "/usr/local/lib/python3.6/dist-packages/cma/utilities/utils.py:333: UserWarning: flat fitness (f=7506.683665, sigma=6.35e-09).\n",
      "                    For small sigma, this could indicate numerical convergence.\n",
      "                    Otherwise, please (re)consider how to compute the fitness more elaborately. (iteration=667)\n",
      "  ')')\n"
     ]
    },
    {
     "name": "stdout",
     "output_type": "stream",
     "text": [
      "  700  10500 7.506683664720559e+03 1.8e+00 4.11e-09  3e-09  4e-09 0:09.3\n",
      "  714  10710 7.506683664720559e+03 1.8e+00 3.42e-09  2e-09  3e-09 0:09.5\n",
      "termination on tolfun=1e-11 (Mon Apr 13 14:48:49 2020)\n",
      "final/bestever f-value = 7.506684e+03 7.506684e+03\n",
      "incumbent solution: [-0.03043294  0.07527818 -0.17371063  0.12669348  0.12777736 -0.06348447\n",
      " -0.05164055  0.00230375 ...]\n",
      "std deviations: [2.63869284e-09 2.60389088e-09 2.85902640e-09 2.70000548e-09\n",
      " 2.57483448e-09 2.67338634e-09 2.60143402e-09 2.78131098e-09 ...]\n",
      "(7_w,15)-aCMA-ES (mu_w=4.5,w_1=34%) in dimension 50 (seed=826117, Mon Apr 13 14:48:49 2020)\n",
      "Iterat #Fevals   function value  axis ratio  sigma  min&max std  t[m:s]\n",
      "    1     15 7.630266988397181e+03 1.0e+00 2.55e-01  3e-01  3e-01 0:00.0\n",
      "    2     30 7.412124799215532e+03 1.0e+00 2.47e-01  2e-01  2e-01 0:00.0\n",
      "    3     45 7.361871953321386e+03 1.1e+00 2.43e-01  2e-01  2e-01 0:00.1\n"
     ]
    },
    {
     "name": "stderr",
     "output_type": "stream",
     "text": [
      "/usr/local/lib/python3.6/dist-packages/cma/utilities/utils.py:333: UserWarning: function_values is not a list of scalars,\n",
      "                        the first element equals [8276.75240226] with non-scalar type <class 'numpy.ndarray'>.\n",
      "                        Using now ``[v[0] for v in function_values]`` instead (further warnings are suppressed) ()\n",
      "  ')')\n",
      "/usr/local/lib/python3.6/dist-packages/cma/utilities/utils.py:333: UserWarning: function_values is not a list of scalars,\n",
      "                        the first element equals [8417.45713136] with non-scalar type <class 'numpy.ndarray'>.\n",
      "                        Using now ``[v[0] for v in function_values]`` instead (further warnings are suppressed) ()\n",
      "  ')')\n"
     ]
    },
    {
     "name": "stdout",
     "output_type": "stream",
     "text": [
      "  100   1500 -1.014434713938014e+09 1.5e+00 1.32e+02  1e+02  1e+02 0:01.8\n",
      "  109   1635 -3.987195209229243e+09 1.5e+00 2.65e+02  2e+02  3e+02 0:02.0\n",
      "termination on tolfacupx=1000.0 (Mon Apr 13 14:48:51 2020)\n",
      "final/bestever f-value = -3.947483e+09 -3.987195e+09\n",
      "incumbent solution: [  198.31890353  -428.67337056  -272.16990785  -141.65686652\n",
      "   473.07454998 -1082.87777132   476.79932193   222.73493601 ...]\n",
      "std deviations: [254.46649703 257.43784031 258.59110197 261.90137024 248.97412431\n",
      " 255.16354211 255.96904428 257.4866782  ...]\n",
      "Run : 3\n",
      "(7_w,15)-aCMA-ES (mu_w=4.5,w_1=34%) in dimension 50 (seed=918417, Mon Apr 13 14:48:51 2020)\n",
      "Iterat #Fevals   function value  axis ratio  sigma  min&max std  t[m:s]\n",
      "    1     15 7.740799392804692e+03 1.0e+00 2.54e-01  3e-01  3e-01 0:00.0\n",
      "    2     30 7.739858912484489e+03 1.0e+00 2.44e-01  2e-01  2e-01 0:00.0\n",
      "    3     45 7.738977535169039e+03 1.0e+00 2.37e-01  2e-01  2e-01 0:00.1\n"
     ]
    },
    {
     "name": "stderr",
     "output_type": "stream",
     "text": [
      "/usr/local/lib/python3.6/dist-packages/cma/utilities/utils.py:333: UserWarning: function_values is not a list of scalars,\n",
      "                        the first element equals [7741.28207066] with non-scalar type <class 'numpy.ndarray'>.\n",
      "                        Using now ``[v[0] for v in function_values]`` instead (further warnings are suppressed) ()\n",
      "  ')')\n",
      "/usr/local/lib/python3.6/dist-packages/cma/utilities/utils.py:333: UserWarning: function_values is not a list of scalars,\n",
      "                        the first element equals [7740.9705799] with non-scalar type <class 'numpy.ndarray'>.\n",
      "                        Using now ``[v[0] for v in function_values]`` instead (further warnings are suppressed) ()\n",
      "  ')')\n"
     ]
    },
    {
     "name": "stdout",
     "output_type": "stream",
     "text": [
      "  100   1500 3.242503498090548e+03 1.4e+00 2.61e-02  2e-02  3e-02 0:01.9\n",
      "  200   3000 3.160307007279366e+03 1.4e+00 1.23e-03  1e-03  1e-03 0:03.8\n",
      "  300   4500 3.160077040042669e+03 1.5e+00 7.45e-05  6e-05  7e-05 0:05.7\n",
      "  400   6000 3.160076284094386e+03 1.6e+00 3.85e-06  3e-06  4e-06 0:07.6\n",
      "  500   7500 3.160076282159596e+03 1.6e+00 2.32e-07  2e-07  2e-07 0:09.4\n",
      "  600   9000 3.160076282154442e+03 1.7e+00 1.42e-08  1e-08  1e-08 0:11.3\n",
      "  700  10500 3.160076282154423e+03 1.7e+00 2.32e-09  2e-09  2e-09 0:13.2\n",
      "  730  10950 3.160076282154425e+03 1.8e+00 2.16e-09  2e-09  2e-09 0:13.7\n",
      "termination on tolfun=1e-11 (Mon Apr 13 14:49:07 2020)\n",
      "final/bestever f-value = 3.160076e+03 3.160076e+03\n",
      "incumbent solution: [-0.03729192  0.16792746 -0.24733189  0.21473332  0.14182239 -0.02816852\n",
      " -0.12247467  0.07988005 ...]\n",
      "std deviations: [1.73760227e-09 1.72569200e-09 1.69818906e-09 1.73657438e-09\n",
      " 1.66974306e-09 1.78930200e-09 1.68995077e-09 1.68707982e-09 ...]\n",
      "(7_w,15)-aCMA-ES (mu_w=4.5,w_1=34%) in dimension 50 (seed=937713, Mon Apr 13 14:49:07 2020)\n",
      "Iterat #Fevals   function value  axis ratio  sigma  min&max std  t[m:s]\n",
      "    1     15 7.748048689080050e+03 1.0e+00 2.54e-01  3e-01  3e-01 0:00.0\n",
      "    2     30 7.748048670104542e+03 1.0e+00 2.45e-01  2e-01  2e-01 0:00.0\n",
      "    3     45 7.748048649211376e+03 1.0e+00 2.41e-01  2e-01  2e-01 0:00.0\n"
     ]
    },
    {
     "name": "stderr",
     "output_type": "stream",
     "text": [
      "/usr/local/lib/python3.6/dist-packages/cma/utilities/utils.py:333: UserWarning: function_values is not a list of scalars,\n",
      "                        the first element equals [7748.04869204] with non-scalar type <class 'numpy.ndarray'>.\n",
      "                        Using now ``[v[0] for v in function_values]`` instead (further warnings are suppressed) ()\n",
      "  ')')\n",
      "/usr/local/lib/python3.6/dist-packages/cma/utilities/utils.py:333: UserWarning: function_values is not a list of scalars,\n",
      "                        the first element equals [7748.04869199] with non-scalar type <class 'numpy.ndarray'>.\n",
      "                        Using now ``[v[0] for v in function_values]`` instead (further warnings are suppressed) ()\n",
      "  ')')\n"
     ]
    },
    {
     "name": "stdout",
     "output_type": "stream",
     "text": [
      "  100   1500 7.519287184394914e+03 1.4e+00 2.60e-02  2e-02  3e-02 0:01.3\n",
      "  200   3000 7.506722724428363e+03 1.4e+00 1.48e-03  1e-03  1e-03 0:02.6\n",
      "  300   4500 7.506683819128682e+03 1.5e+00 9.57e-05  8e-05  9e-05 0:04.0\n",
      "  400   6000 7.506683665744436e+03 1.5e+00 7.97e-06  7e-06  7e-06 0:05.3\n",
      "  500   7500 7.506683664724384e+03 1.6e+00 4.84e-07  4e-07  4e-07 0:06.6\n",
      "  600   9000 7.506683664720568e+03 1.6e+00 3.11e-08  2e-08  3e-08 0:07.9\n",
      "  700  10500 7.506683664720559e+03 1.7e+00 4.25e-09  3e-09  4e-09 0:09.2\n",
      "  719  10785 7.506683664720559e+03 1.8e+00 3.33e-09  2e-09  3e-09 0:09.4\n",
      "termination on tolfun=1e-11 (Mon Apr 13 14:49:19 2020)\n",
      "final/bestever f-value = 7.506684e+03 7.506684e+03\n",
      "incumbent solution: [-0.03043295  0.07527816 -0.17371063  0.12669347  0.12777737 -0.06348446\n",
      " -0.05164056  0.00230374 ...]\n",
      "std deviations: [2.63404255e-09 2.61458771e-09 2.46610924e-09 2.60232215e-09\n",
      " 2.59521257e-09 2.74479443e-09 2.55407468e-09 2.63572641e-09 ...]\n",
      "(7_w,15)-aCMA-ES (mu_w=4.5,w_1=34%) in dimension 50 (seed=915354, Mon Apr 13 14:49:19 2020)\n",
      "Iterat #Fevals   function value  axis ratio  sigma  min&max std  t[m:s]\n",
      "    1     15 7.846834109416739e+03 1.0e+00 2.55e-01  3e-01  3e-01 0:00.0\n",
      "    2     30 7.604284321488880e+03 1.0e+00 2.48e-01  2e-01  2e-01 0:00.0\n",
      "    3     45 6.784505408141661e+03 1.1e+00 2.47e-01  2e-01  2e-01 0:00.1\n"
     ]
    },
    {
     "name": "stderr",
     "output_type": "stream",
     "text": [
      "/usr/local/lib/python3.6/dist-packages/cma/utilities/utils.py:333: UserWarning: function_values is not a list of scalars,\n",
      "                        the first element equals [8792.29943631] with non-scalar type <class 'numpy.ndarray'>.\n",
      "                        Using now ``[v[0] for v in function_values]`` instead (further warnings are suppressed) ()\n",
      "  ')')\n",
      "/usr/local/lib/python3.6/dist-packages/cma/utilities/utils.py:333: UserWarning: function_values is not a list of scalars,\n",
      "                        the first element equals [8880.43408075] with non-scalar type <class 'numpy.ndarray'>.\n",
      "                        Using now ``[v[0] for v in function_values]`` instead (further warnings are suppressed) ()\n",
      "  ')')\n"
     ]
    },
    {
     "name": "stdout",
     "output_type": "stream",
     "text": [
      "  100   1500 -1.759851855896905e+09 1.5e+00 1.83e+02  2e+02  2e+02 0:01.8\n",
      "  105   1575 -4.190765285743200e+09 1.5e+00 2.68e+02  3e+02  3e+02 0:01.9\n",
      "termination on tolfacupx=1000.0 (Mon Apr 13 14:49:21 2020)\n",
      "final/bestever f-value = -3.963403e+09 -4.190765e+09\n",
      "incumbent solution: [  471.86429069  1122.92431507  -983.89891948   -16.03585863\n",
      "  -102.57377767  -459.592052   -1357.35733766  -359.66788129 ...]\n",
      "std deviations: [261.93092722 266.24090035 266.05998459 258.50161679 258.03211648\n",
      " 263.07149768 266.72824263 259.33556665 ...]\n",
      "Run : 4\n",
      "(7_w,15)-aCMA-ES (mu_w=4.5,w_1=34%) in dimension 50 (seed=930637, Mon Apr 13 14:49:21 2020)\n",
      "Iterat #Fevals   function value  axis ratio  sigma  min&max std  t[m:s]\n",
      "    1     15 7.741220456050294e+03 1.0e+00 2.56e-01  3e-01  3e-01 0:00.0\n",
      "    2     30 7.741165595277080e+03 1.0e+00 2.47e-01  2e-01  2e-01 0:00.0\n",
      "    3     45 7.741123470117659e+03 1.1e+00 2.39e-01  2e-01  2e-01 0:00.1\n"
     ]
    },
    {
     "name": "stderr",
     "output_type": "stream",
     "text": [
      "/usr/local/lib/python3.6/dist-packages/cma/utilities/utils.py:333: UserWarning: function_values is not a list of scalars,\n",
      "                        the first element equals [7741.2543968] with non-scalar type <class 'numpy.ndarray'>.\n",
      "                        Using now ``[v[0] for v in function_values]`` instead (further warnings are suppressed) ()\n",
      "  ')')\n",
      "/usr/local/lib/python3.6/dist-packages/cma/utilities/utils.py:333: UserWarning: function_values is not a list of scalars,\n",
      "                        the first element equals [7741.25967359] with non-scalar type <class 'numpy.ndarray'>.\n",
      "                        Using now ``[v[0] for v in function_values]`` instead (further warnings are suppressed) ()\n",
      "  ')')\n"
     ]
    },
    {
     "name": "stdout",
     "output_type": "stream",
     "text": [
      "  100   1500 3.399114787009090e+03 1.4e+00 3.80e-02  4e-02  4e-02 0:01.9\n",
      "  200   3000 3.160701937699330e+03 1.5e+00 2.17e-03  2e-03  2e-03 0:03.7\n",
      "  300   4500 3.160078201566928e+03 1.5e+00 1.23e-04  1e-04  1e-04 0:05.6\n",
      "  400   6000 3.160076286827658e+03 1.5e+00 6.88e-06  6e-06  6e-06 0:07.4\n",
      "  500   7500 3.160076282166988e+03 1.6e+00 3.16e-07  2e-07  3e-07 0:09.3\n",
      "  600   9000 3.160076282154472e+03 1.6e+00 2.10e-08  2e-08  2e-08 0:11.2\n",
      "  700  10500 3.160076282154425e+03 1.7e+00 2.83e-09  2e-09  2e-09 0:13.0\n",
      "  735  11025 3.160076282154424e+03 1.9e+00 2.69e-09  2e-09  2e-09 0:13.7\n",
      "termination on tolfun=1e-11 (Mon Apr 13 14:49:37 2020)\n",
      "final/bestever f-value = 3.160076e+03 3.160076e+03\n",
      "incumbent solution: [-0.03729192  0.16792746 -0.24733189  0.21473333  0.1418224  -0.02816852\n",
      " -0.12247467  0.07988006 ...]\n",
      "std deviations: [2.00623576e-09 2.03241438e-09 2.18828571e-09 2.10794372e-09\n",
      " 2.01250931e-09 2.37570624e-09 2.16277885e-09 2.12414744e-09 ...]\n",
      "(7_w,15)-aCMA-ES (mu_w=4.5,w_1=34%) in dimension 50 (seed=882381, Mon Apr 13 14:49:37 2020)\n",
      "Iterat #Fevals   function value  axis ratio  sigma  min&max std  t[m:s]\n",
      "    1     15 7.748048692040813e+03 1.0e+00 2.55e-01  3e-01  3e-01 0:00.0\n",
      "    2     30 7.748048692040814e+03 1.0e+00 2.43e-01  2e-01  2e-01 0:00.0\n",
      "    3     45 7.748048691889008e+03 1.1e+00 2.35e-01  2e-01  2e-01 0:00.0\n"
     ]
    },
    {
     "name": "stderr",
     "output_type": "stream",
     "text": [
      "/usr/local/lib/python3.6/dist-packages/cma/utilities/utils.py:333: UserWarning: function_values is not a list of scalars,\n",
      "                        the first element equals [7748.04869204] with non-scalar type <class 'numpy.ndarray'>.\n",
      "                        Using now ``[v[0] for v in function_values]`` instead (further warnings are suppressed) ()\n",
      "  ')')\n",
      "/usr/local/lib/python3.6/dist-packages/cma/utilities/utils.py:333: UserWarning: function_values is not a list of scalars,\n",
      "                        the first element equals [7748.04869204] with non-scalar type <class 'numpy.ndarray'>.\n",
      "                        Using now ``[v[0] for v in function_values]`` instead (further warnings are suppressed) ()\n",
      "  ')')\n"
     ]
    },
    {
     "name": "stdout",
     "output_type": "stream",
     "text": [
      "  100   1500 7.528537747694829e+03 1.5e+00 3.32e-02  3e-02  3e-02 0:01.3\n",
      "  200   3000 7.506735472654505e+03 1.6e+00 1.83e-03  2e-03  2e-03 0:02.6\n",
      "  300   4500 7.506683794503344e+03 1.6e+00 9.34e-05  8e-05  9e-05 0:04.0\n",
      "  400   6000 7.506683665352295e+03 1.5e+00 5.97e-06  5e-06  6e-06 0:05.3\n",
      "  500   7500 7.506683664723535e+03 1.6e+00 4.25e-07  3e-07  4e-07 0:06.6\n",
      "  600   9000 7.506683664720564e+03 1.7e+00 2.04e-08  2e-08  2e-08 0:07.9\n",
      "  698  10470 7.506683664720559e+03 1.8e+00 3.92e-09  3e-09  3e-09 0:09.2\n",
      "termination on tolfun=1e-11 (Mon Apr 13 14:49:48 2020)\n",
      "final/bestever f-value = 7.506684e+03 7.506684e+03\n",
      "incumbent solution: [-0.03043294  0.07527818 -0.17371063  0.12669349  0.12777737 -0.06348446\n",
      " -0.05164056  0.00230375 ...]\n",
      "std deviations: [3.12402844e-09 3.13657562e-09 3.06017463e-09 3.12184947e-09\n",
      " 3.07373062e-09 3.25961317e-09 3.25597861e-09 3.03099747e-09 ...]\n",
      "(7_w,15)-aCMA-ES (mu_w=4.5,w_1=34%) in dimension 50 (seed=795966, Mon Apr 13 14:49:49 2020)\n",
      "Iterat #Fevals   function value  axis ratio  sigma  min&max std  t[m:s]\n",
      "    1     15 8.246389591055233e+03 1.0e+00 2.55e-01  3e-01  3e-01 0:00.0\n",
      "    2     30 7.897640176847322e+03 1.0e+00 2.51e-01  2e-01  3e-01 0:00.0\n",
      "    3     45 7.233609061855301e+03 1.1e+00 2.49e-01  2e-01  3e-01 0:00.0\n"
     ]
    },
    {
     "name": "stderr",
     "output_type": "stream",
     "text": [
      "/usr/local/lib/python3.6/dist-packages/cma/utilities/utils.py:333: UserWarning: function_values is not a list of scalars,\n",
      "                        the first element equals [8830.83267371] with non-scalar type <class 'numpy.ndarray'>.\n",
      "                        Using now ``[v[0] for v in function_values]`` instead (further warnings are suppressed) ()\n",
      "  ')')\n",
      "/usr/local/lib/python3.6/dist-packages/cma/utilities/utils.py:333: UserWarning: function_values is not a list of scalars,\n",
      "                        the first element equals [9320.8213311] with non-scalar type <class 'numpy.ndarray'>.\n",
      "                        Using now ``[v[0] for v in function_values]`` instead (further warnings are suppressed) ()\n",
      "  ')')\n"
     ]
    },
    {
     "name": "stdout",
     "output_type": "stream",
     "text": [
      "  100   1500 -1.773428264782631e+09 1.5e+00 1.82e+02  2e+02  2e+02 0:01.8\n",
      "  105   1575 -3.842535903608088e+09 1.5e+00 2.73e+02  3e+02  3e+02 0:01.9\n",
      "termination on tolfacupx=1000.0 (Mon Apr 13 14:49:51 2020)\n",
      "final/bestever f-value = -3.621201e+09 -3.842536e+09\n",
      "incumbent solution: [-693.85067002  880.88215912  382.35920235  421.88615371   78.12083009\n",
      " -858.3973445   601.30703745  -17.98889244 ...]\n",
      "std deviations: [264.53848896 269.97889138 263.48637262 266.77117571 262.36281779\n",
      " 263.85487957 262.53969487 263.61109815 ...]\n",
      "Run : 5\n",
      "(7_w,15)-aCMA-ES (mu_w=4.5,w_1=34%) in dimension 50 (seed=850163, Mon Apr 13 14:49:51 2020)\n",
      "Iterat #Fevals   function value  axis ratio  sigma  min&max std  t[m:s]\n",
      "    1     15 7.740902330146336e+03 1.0e+00 2.54e-01  3e-01  3e-01 0:00.0\n",
      "    2     30 7.739072596835451e+03 1.0e+00 2.46e-01  2e-01  2e-01 0:00.0\n",
      "    3     45 7.739118036700769e+03 1.1e+00 2.42e-01  2e-01  2e-01 0:00.1\n"
     ]
    },
    {
     "name": "stderr",
     "output_type": "stream",
     "text": [
      "/usr/local/lib/python3.6/dist-packages/cma/utilities/utils.py:333: UserWarning: function_values is not a list of scalars,\n",
      "                        the first element equals [7741.30084981] with non-scalar type <class 'numpy.ndarray'>.\n",
      "                        Using now ``[v[0] for v in function_values]`` instead (further warnings are suppressed) ()\n",
      "  ')')\n",
      "/usr/local/lib/python3.6/dist-packages/cma/utilities/utils.py:333: UserWarning: function_values is not a list of scalars,\n",
      "                        the first element equals [7741.20973133] with non-scalar type <class 'numpy.ndarray'>.\n",
      "                        Using now ``[v[0] for v in function_values]`` instead (further warnings are suppressed) ()\n",
      "  ')')\n"
     ]
    },
    {
     "name": "stdout",
     "output_type": "stream",
     "text": [
      "  100   1500 3.275544803991561e+03 1.4e+00 3.19e-02  3e-02  3e-02 0:01.9\n",
      "  200   3000 3.160376971452680e+03 1.5e+00 1.50e-03  1e-03  1e-03 0:03.8\n",
      "  300   4500 3.160077061824569e+03 1.5e+00 8.09e-05  7e-05  8e-05 0:05.7\n",
      "  400   6000 3.160076284408420e+03 1.5e+00 4.37e-06  4e-06  4e-06 0:07.5\n",
      "  500   7500 3.160076282165061e+03 1.6e+00 2.94e-07  2e-07  3e-07 0:09.4\n",
      "  600   9000 3.160076282154467e+03 1.7e+00 2.01e-08  1e-08  2e-08 0:11.3\n",
      "  700  10500 3.160076282154425e+03 1.7e+00 3.44e-09  2e-09  3e-09 0:13.1\n",
      "  748  11220 3.160076282154424e+03 1.8e+00 1.90e-09  1e-09  2e-09 0:14.0\n",
      "termination on tolfun=1e-11 (Mon Apr 13 14:50:07 2020)\n",
      "final/bestever f-value = 3.160076e+03 3.160076e+03\n",
      "incumbent solution: [-0.03729193  0.16792746 -0.24733187  0.21473332  0.1418224  -0.02816851\n",
      " -0.12247467  0.07988005 ...]\n",
      "std deviations: [1.40988372e-09 1.37798578e-09 1.49826755e-09 1.42881204e-09\n",
      " 1.43920104e-09 1.60073119e-09 1.51051350e-09 1.58791189e-09 ...]\n",
      "(7_w,15)-aCMA-ES (mu_w=4.5,w_1=34%) in dimension 50 (seed=934801, Mon Apr 13 14:50:07 2020)\n",
      "Iterat #Fevals   function value  axis ratio  sigma  min&max std  t[m:s]\n",
      "    1     15 7.748048690881201e+03 1.0e+00 2.55e-01  3e-01  3e-01 0:00.0\n",
      "    2     30 7.748048691514129e+03 1.0e+00 2.46e-01  2e-01  2e-01 0:00.0\n",
      "    3     45 7.748048668027547e+03 1.1e+00 2.40e-01  2e-01  2e-01 0:00.0\n"
     ]
    },
    {
     "name": "stderr",
     "output_type": "stream",
     "text": [
      "/usr/local/lib/python3.6/dist-packages/cma/utilities/utils.py:333: UserWarning: function_values is not a list of scalars,\n",
      "                        the first element equals [7748.04869204] with non-scalar type <class 'numpy.ndarray'>.\n",
      "                        Using now ``[v[0] for v in function_values]`` instead (further warnings are suppressed) ()\n",
      "  ')')\n",
      "/usr/local/lib/python3.6/dist-packages/cma/utilities/utils.py:333: UserWarning: function_values is not a list of scalars,\n",
      "                        the first element equals [7748.04869159] with non-scalar type <class 'numpy.ndarray'>.\n",
      "                        Using now ``[v[0] for v in function_values]`` instead (further warnings are suppressed) ()\n",
      "  ')')\n"
     ]
    },
    {
     "name": "stdout",
     "output_type": "stream",
     "text": [
      "  100   1500 7.421325925832212e+03 1.4e+00 2.94e-02  3e-02  3e-02 0:01.3\n",
      "  200   3000 7.382294390638327e+03 1.4e+00 1.85e-03  2e-03  2e-03 0:02.6\n",
      "  300   4500 7.382153447580662e+03 1.5e+00 1.09e-04  9e-05  1e-04 0:04.0\n",
      "  400   6000 7.382153099625537e+03 1.5e+00 5.48e-06  5e-06  5e-06 0:05.3\n",
      "  500   7500 7.382153098811624e+03 1.6e+00 2.90e-07  2e-07  3e-07 0:06.6\n",
      "  600   9000 7.382153098809406e+03 1.6e+00 1.74e-08  1e-08  1e-08 0:07.9\n",
      "  700  10500 7.382153098809398e+03 1.7e+00 2.95e-09  2e-09  3e-09 0:09.2\n",
      "  702  10530 7.382153098809399e+03 1.7e+00 2.93e-09  2e-09  3e-09 0:09.2\n",
      "termination on tolfun=1e-11 (Mon Apr 13 14:50:19 2020)\n",
      "final/bestever f-value = 7.382153e+03 7.382153e+03\n",
      "incumbent solution: [-0.61410341  0.36699772  0.07146941 -0.19695377  0.29383152  0.45920663\n",
      "  0.07898789  0.45707625 ...]\n",
      "std deviations: [2.31806825e-09 2.18650205e-09 2.37632883e-09 2.40977044e-09\n",
      " 2.24081144e-09 2.32380693e-09 2.44827725e-09 2.28551317e-09 ...]\n",
      "(7_w,15)-aCMA-ES (mu_w=4.5,w_1=34%) in dimension 50 (seed=837880, Mon Apr 13 14:50:19 2020)\n",
      "Iterat #Fevals   function value  axis ratio  sigma  min&max std  t[m:s]\n",
      "    1     15 8.352449773870632e+03 1.0e+00 2.55e-01  3e-01  3e-01 0:00.0\n",
      "    2     30 8.000083163398318e+03 1.0e+00 2.48e-01  2e-01  2e-01 0:00.0\n",
      "    3     45 7.845515592728888e+03 1.1e+00 2.43e-01  2e-01  2e-01 0:00.1\n"
     ]
    },
    {
     "name": "stderr",
     "output_type": "stream",
     "text": [
      "/usr/local/lib/python3.6/dist-packages/cma/utilities/utils.py:333: UserWarning: function_values is not a list of scalars,\n",
      "                        the first element equals [8500.69575927] with non-scalar type <class 'numpy.ndarray'>.\n",
      "                        Using now ``[v[0] for v in function_values]`` instead (further warnings are suppressed) ()\n",
      "  ')')\n",
      "/usr/local/lib/python3.6/dist-packages/cma/utilities/utils.py:333: UserWarning: function_values is not a list of scalars,\n",
      "                        the first element equals [8256.47290009] with non-scalar type <class 'numpy.ndarray'>.\n",
      "                        Using now ``[v[0] for v in function_values]`` instead (further warnings are suppressed) ()\n",
      "  ')')\n"
     ]
    },
    {
     "name": "stdout",
     "output_type": "stream",
     "text": [
      "  100   1500 -8.222075679498255e+08 1.5e+00 1.12e+02  1e+02  1e+02 0:01.8\n",
      "  113   1695 -5.026847191129831e+09 1.5e+00 2.84e+02  3e+02  3e+02 0:02.0\n",
      "termination on tolfacupx=1000.0 (Mon Apr 13 14:50:21 2020)\n",
      "final/bestever f-value = -5.033525e+09 -5.033525e+09\n",
      "incumbent solution: [ -983.12386848  1773.05592907 -1120.78403533  -582.99749256\n",
      "   705.52778723    85.31998499  -501.30192622  -216.78934106 ...]\n",
      "std deviations: [270.68135529 273.9237363  281.48887974 279.31722247 273.06013858\n",
      " 277.35826027 276.04966245 270.30494157 ...]\n",
      "Run : 6\n",
      "(7_w,15)-aCMA-ES (mu_w=4.5,w_1=34%) in dimension 50 (seed=932448, Mon Apr 13 14:50:21 2020)\n",
      "Iterat #Fevals   function value  axis ratio  sigma  min&max std  t[m:s]\n",
      "    1     15 7.741190096680022e+03 1.0e+00 2.56e-01  3e-01  3e-01 0:00.0\n",
      "    2     30 7.741257696531575e+03 1.0e+00 2.47e-01  2e-01  2e-01 0:00.0\n",
      "    3     45 7.741250511437038e+03 1.1e+00 2.43e-01  2e-01  2e-01 0:00.1\n"
     ]
    },
    {
     "name": "stderr",
     "output_type": "stream",
     "text": [
      "/usr/local/lib/python3.6/dist-packages/cma/utilities/utils.py:333: UserWarning: function_values is not a list of scalars,\n",
      "                        the first element equals [7742.01576756] with non-scalar type <class 'numpy.ndarray'>.\n",
      "                        Using now ``[v[0] for v in function_values]`` instead (further warnings are suppressed) ()\n",
      "  ')')\n",
      "/usr/local/lib/python3.6/dist-packages/cma/utilities/utils.py:333: UserWarning: function_values is not a list of scalars,\n",
      "                        the first element equals [7741.26001712] with non-scalar type <class 'numpy.ndarray'>.\n",
      "                        Using now ``[v[0] for v in function_values]`` instead (further warnings are suppressed) ()\n",
      "  ')')\n"
     ]
    },
    {
     "name": "stdout",
     "output_type": "stream",
     "text": [
      "  100   1500 3.501685514343150e+03 1.4e+00 4.31e-02  4e-02  4e-02 0:01.9\n",
      "  200   3000 3.160958730049983e+03 1.5e+00 2.25e-03  2e-03  2e-03 0:03.7\n",
      "  300   4500 3.160080015187894e+03 1.5e+00 1.45e-04  1e-04  1e-04 0:05.6\n",
      "  400   6000 3.160076294210779e+03 1.5e+00 9.15e-06  8e-06  8e-06 0:07.5\n",
      "  500   7500 3.160076282204052e+03 1.5e+00 6.22e-07  5e-07  6e-07 0:09.3\n",
      "  600   9000 3.160076282154656e+03 1.6e+00 4.41e-08  3e-08  4e-08 0:11.2\n",
      "  700  10500 3.160076282154426e+03 1.7e+00 4.38e-09  3e-09  4e-09 0:13.1\n",
      "  772  11580 3.160076282154423e+03 1.8e+00 1.64e-09  1e-09  1e-09 0:14.4\n",
      "termination on tolfun=1e-11 (Mon Apr 13 14:50:38 2020)\n",
      "final/bestever f-value = 3.160076e+03 3.160076e+03\n",
      "incumbent solution: [-0.03729192  0.16792746 -0.24733188  0.21473333  0.14182239 -0.02816851\n",
      " -0.12247467  0.07988005 ...]\n",
      "std deviations: [1.27106939e-09 1.25253355e-09 1.31522813e-09 1.26733115e-09\n",
      " 1.19784767e-09 1.38824060e-09 1.30136359e-09 1.29484086e-09 ...]\n",
      "(7_w,15)-aCMA-ES (mu_w=4.5,w_1=34%) in dimension 50 (seed=858139, Mon Apr 13 14:50:38 2020)\n",
      "Iterat #Fevals   function value  axis ratio  sigma  min&max std  t[m:s]\n",
      "    1     15 7.748048689333476e+03 1.0e+00 2.55e-01  3e-01  3e-01 0:00.0\n",
      "    2     30 7.748048691402961e+03 1.0e+00 2.46e-01  2e-01  2e-01 0:00.0\n",
      "    3     45 7.748048666931914e+03 1.1e+00 2.38e-01  2e-01  2e-01 0:00.1\n"
     ]
    },
    {
     "name": "stderr",
     "output_type": "stream",
     "text": [
      "/usr/local/lib/python3.6/dist-packages/cma/utilities/utils.py:333: UserWarning: function_values is not a list of scalars,\n",
      "                        the first element equals [7748.04869204] with non-scalar type <class 'numpy.ndarray'>.\n",
      "                        Using now ``[v[0] for v in function_values]`` instead (further warnings are suppressed) ()\n",
      "  ')')\n",
      "/usr/local/lib/python3.6/dist-packages/cma/utilities/utils.py:333: UserWarning: function_values is not a list of scalars,\n",
      "                        the first element equals [7748.04869201] with non-scalar type <class 'numpy.ndarray'>.\n",
      "                        Using now ``[v[0] for v in function_values]`` instead (further warnings are suppressed) ()\n",
      "  ')')\n"
     ]
    },
    {
     "name": "stdout",
     "output_type": "stream",
     "text": [
      "  100   1500 7.474475659633604e+03 1.4e+00 2.83e-02  3e-02  3e-02 0:01.3\n",
      "  200   3000 7.452502497646897e+03 1.4e+00 1.38e-03  1e-03  1e-03 0:02.6\n",
      "  300   4500 7.452450408190528e+03 1.5e+00 8.26e-05  7e-05  8e-05 0:04.0\n",
      "  400   6000 7.452450255039677e+03 1.5e+00 5.17e-06  4e-06  5e-06 0:05.3\n",
      "  500   7500 7.452450254211168e+03 1.5e+00 3.11e-07  2e-07  3e-07 0:06.6\n",
      "  600   9000 7.452450254208145e+03 1.5e+00 1.67e-08  1e-08  1e-08 0:07.9\n",
      "  700  10500 7.452450254208140e+03 1.7e+00 3.85e-09  3e-09  3e-09 0:09.2\n",
      "termination on tolfun=1e-11 (Mon Apr 13 14:50:49 2020)\n",
      "final/bestever f-value = 7.452450e+03 7.452450e+03\n",
      "incumbent solution: [ 0.2379651  -0.42151809 -0.30045166  0.01802129  0.19291308 -0.04983127\n",
      " -0.73366667 -0.14218704 ...]\n",
      "std deviations: [3.05234333e-09 2.91769291e-09 3.08896479e-09 2.98236600e-09\n",
      " 2.90009205e-09 3.26081637e-09 3.01766598e-09 3.01233999e-09 ...]\n",
      "(7_w,15)-aCMA-ES (mu_w=4.5,w_1=34%) in dimension 50 (seed=939971, Mon Apr 13 14:50:49 2020)\n",
      "Iterat #Fevals   function value  axis ratio  sigma  min&max std  t[m:s]\n",
      "    1     15 8.581320132006635e+03 1.0e+00 2.53e-01  3e-01  3e-01 0:00.0\n",
      "    2     30 8.046061136283633e+03 1.0e+00 2.43e-01  2e-01  2e-01 0:00.0\n",
      "    3     45 7.464898303832736e+03 1.0e+00 2.39e-01  2e-01  2e-01 0:00.0\n"
     ]
    },
    {
     "name": "stderr",
     "output_type": "stream",
     "text": [
      "/usr/local/lib/python3.6/dist-packages/cma/utilities/utils.py:333: UserWarning: function_values is not a list of scalars,\n",
      "                        the first element equals [9888.09353554] with non-scalar type <class 'numpy.ndarray'>.\n",
      "                        Using now ``[v[0] for v in function_values]`` instead (further warnings are suppressed) ()\n",
      "  ')')\n",
      "/usr/local/lib/python3.6/dist-packages/cma/utilities/utils.py:333: UserWarning: function_values is not a list of scalars,\n",
      "                        the first element equals [8723.09897336] with non-scalar type <class 'numpy.ndarray'>.\n",
      "                        Using now ``[v[0] for v in function_values]`` instead (further warnings are suppressed) ()\n",
      "  ')')\n"
     ]
    },
    {
     "name": "stdout",
     "output_type": "stream",
     "text": [
      "  100   1500 -4.796613278484932e+08 1.5e+00 9.23e+01  9e+01  9e+01 0:01.8\n",
      "  112   1680 -3.728804551161174e+09 1.6e+00 2.83e+02  3e+02  3e+02 0:02.0\n",
      "termination on tolfacupx=1000.0 (Mon Apr 13 14:50:52 2020)\n",
      "final/bestever f-value = -3.684748e+09 -3.728805e+09\n",
      "incumbent solution: [ 148.44627351 1179.07473448 -518.9345115   764.03251673  724.20932207\n",
      " -190.04220605  734.09859059 -578.16129495 ...]\n",
      "std deviations: [270.06668049 272.61169497 275.96224422 273.55441979 274.39580324\n",
      " 279.27054984 279.16474991 269.14167084 ...]\n",
      "Run : 7\n",
      "(7_w,15)-aCMA-ES (mu_w=4.5,w_1=34%) in dimension 50 (seed=877974, Mon Apr 13 14:50:52 2020)\n",
      "Iterat #Fevals   function value  axis ratio  sigma  min&max std  t[m:s]\n",
      "    1     15 7.740658062815526e+03 1.0e+00 2.56e-01  3e-01  3e-01 0:00.0\n",
      "    2     30 7.741158906342633e+03 1.0e+00 2.45e-01  2e-01  2e-01 0:00.0\n",
      "    3     45 7.740427902862048e+03 1.1e+00 2.39e-01  2e-01  2e-01 0:00.1\n"
     ]
    },
    {
     "name": "stderr",
     "output_type": "stream",
     "text": [
      "/usr/local/lib/python3.6/dist-packages/cma/utilities/utils.py:333: UserWarning: function_values is not a list of scalars,\n",
      "                        the first element equals [7741.3201678] with non-scalar type <class 'numpy.ndarray'>.\n",
      "                        Using now ``[v[0] for v in function_values]`` instead (further warnings are suppressed) ()\n",
      "  ')')\n",
      "/usr/local/lib/python3.6/dist-packages/cma/utilities/utils.py:333: UserWarning: function_values is not a list of scalars,\n",
      "                        the first element equals [7741.20606524] with non-scalar type <class 'numpy.ndarray'>.\n",
      "                        Using now ``[v[0] for v in function_values]`` instead (further warnings are suppressed) ()\n",
      "  ')')\n"
     ]
    },
    {
     "name": "stdout",
     "output_type": "stream",
     "text": [
      "  100   1500 3.299078349290994e+03 1.4e+00 2.58e-02  2e-02  3e-02 0:01.9\n",
      "  200   3000 3.160405228249707e+03 1.5e+00 1.33e-03  1e-03  1e-03 0:03.7\n",
      "  300   4500 3.160077306182512e+03 1.5e+00 9.13e-05  8e-05  9e-05 0:05.6\n",
      "  400   6000 3.160076284362233e+03 1.5e+00 3.91e-06  3e-06  4e-06 0:07.5\n",
      "  500   7500 3.160076282161224e+03 1.5e+00 2.36e-07  2e-07  2e-07 0:09.4\n",
      "  600   9000 3.160076282154438e+03 1.6e+00 1.24e-08  9e-09  1e-08 0:11.2\n",
      "  700  10500 3.160076282154424e+03 1.8e+00 2.66e-09  2e-09  2e-09 0:13.1\n",
      "  712  10680 3.160076282154424e+03 1.8e+00 2.41e-09  2e-09  2e-09 0:13.3\n",
      "termination on tolfun=1e-11 (Mon Apr 13 14:51:07 2020)\n",
      "final/bestever f-value = 3.160076e+03 3.160076e+03\n",
      "incumbent solution: [-0.03729192  0.16792745 -0.24733188  0.21473332  0.1418224  -0.02816851\n",
      " -0.12247467  0.07988004 ...]\n",
      "std deviations: [1.87154732e-09 1.78519468e-09 1.98191663e-09 1.88581399e-09\n",
      " 1.83645316e-09 1.94659834e-09 1.89597891e-09 1.98973472e-09 ...]\n",
      "(7_w,15)-aCMA-ES (mu_w=4.5,w_1=34%) in dimension 50 (seed=845815, Mon Apr 13 14:51:08 2020)\n",
      "Iterat #Fevals   function value  axis ratio  sigma  min&max std  t[m:s]\n",
      "    1     15 7.748048691896605e+03 1.0e+00 2.55e-01  3e-01  3e-01 0:00.0\n",
      "    2     30 7.748048665727430e+03 1.0e+00 2.48e-01  2e-01  2e-01 0:00.0\n",
      "    3     45 7.748048614219284e+03 1.1e+00 2.44e-01  2e-01  2e-01 0:00.0\n"
     ]
    },
    {
     "name": "stderr",
     "output_type": "stream",
     "text": [
      "/usr/local/lib/python3.6/dist-packages/cma/utilities/utils.py:333: UserWarning: function_values is not a list of scalars,\n",
      "                        the first element equals [7748.04869204] with non-scalar type <class 'numpy.ndarray'>.\n",
      "                        Using now ``[v[0] for v in function_values]`` instead (further warnings are suppressed) ()\n",
      "  ')')\n",
      "/usr/local/lib/python3.6/dist-packages/cma/utilities/utils.py:333: UserWarning: function_values is not a list of scalars,\n",
      "                        the first element equals [7748.04869204] with non-scalar type <class 'numpy.ndarray'>.\n",
      "                        Using now ``[v[0] for v in function_values]`` instead (further warnings are suppressed) ()\n",
      "  ')')\n"
     ]
    },
    {
     "name": "stdout",
     "output_type": "stream",
     "text": [
      "  100   1500 7.406712270201406e+03 1.4e+00 2.43e-02  2e-02  2e-02 0:01.3\n",
      "  200   3000 7.382060866953966e+03 1.5e+00 1.61e-03  1e-03  2e-03 0:02.6\n",
      "  300   4500 7.381950281004038e+03 1.5e+00 1.09e-04  9e-05  1e-04 0:04.0\n",
      "  400   6000 7.381949991584260e+03 1.5e+00 5.93e-06  5e-06  5e-06 0:05.3\n",
      "  500   7500 7.381949990578922e+03 1.6e+00 3.85e-07  3e-07  3e-07 0:06.6\n",
      "  600   9000 7.381949990574642e+03 1.6e+00 3.37e-08  3e-08  3e-08 0:07.9\n"
     ]
    },
    {
     "name": "stderr",
     "output_type": "stream",
     "text": [
      "/usr/local/lib/python3.6/dist-packages/cma/utilities/utils.py:333: UserWarning: flat fitness (f=7381.949991, sigma=4.40e-09).\n",
      "                    For small sigma, this could indicate numerical convergence.\n",
      "                    Otherwise, please (re)consider how to compute the fitness more elaborately. (iteration=686)\n",
      "  ')')\n",
      "/usr/local/lib/python3.6/dist-packages/cma/utilities/utils.py:333: UserWarning: flat fitness (f=7381.949991, sigma=4.17e-09).\n",
      "                    For small sigma, this could indicate numerical convergence.\n",
      "                    Otherwise, please (re)consider how to compute the fitness more elaborately. (iteration=691)\n",
      "  ')')\n"
     ]
    },
    {
     "name": "stdout",
     "output_type": "stream",
     "text": [
      "  700  10500 7.381949990574615e+03 1.7e+00 3.80e-09  3e-09  3e-09 0:09.3\n"
     ]
    },
    {
     "name": "stderr",
     "output_type": "stream",
     "text": [
      "/usr/local/lib/python3.6/dist-packages/cma/utilities/utils.py:333: UserWarning: flat fitness (f=7381.949991, sigma=3.52e-09).\n",
      "                    For small sigma, this could indicate numerical convergence.\n",
      "                    Otherwise, please (re)consider how to compute the fitness more elaborately. (iteration=709)\n",
      "  ')')\n",
      "/usr/local/lib/python3.6/dist-packages/cma/utilities/utils.py:333: UserWarning: flat fitness (f=7381.949991, sigma=3.34e-09).\n",
      "                    For small sigma, this could indicate numerical convergence.\n",
      "                    Otherwise, please (re)consider how to compute the fitness more elaborately. (iteration=712)\n",
      "  ')')\n"
     ]
    },
    {
     "name": "stdout",
     "output_type": "stream",
     "text": [
      "  722  10830 7.381949990574615e+03 1.7e+00 3.22e-09  2e-09  3e-09 0:09.6\n",
      "termination on tolfun=1e-11 (Mon Apr 13 14:51:19 2020)\n",
      "final/bestever f-value = 7.381950e+03 7.381950e+03\n",
      "incumbent solution: [ 0.63689385 -0.27138336 -0.0633597   0.21077128  0.23935962 -0.46249985\n",
      "  0.31039049 -0.04959118 ...]\n",
      "std deviations: [2.52900843e-09 2.47748691e-09 2.64446543e-09 2.53190721e-09\n",
      " 2.43613041e-09 2.63479569e-09 2.61002643e-09 2.60225971e-09 ...]\n",
      "(7_w,15)-aCMA-ES (mu_w=4.5,w_1=34%) in dimension 50 (seed=948804, Mon Apr 13 14:51:19 2020)\n",
      "Iterat #Fevals   function value  axis ratio  sigma  min&max std  t[m:s]\n",
      "    1     15 7.841801002823666e+03 1.0e+00 2.57e-01  3e-01  3e-01 0:00.0\n",
      "    2     30 7.445916144749070e+03 1.0e+00 2.48e-01  2e-01  2e-01 0:00.0\n",
      "    3     45 6.912066675142287e+03 1.0e+00 2.46e-01  2e-01  2e-01 0:00.1\n"
     ]
    },
    {
     "name": "stderr",
     "output_type": "stream",
     "text": [
      "/usr/local/lib/python3.6/dist-packages/cma/utilities/utils.py:333: UserWarning: function_values is not a list of scalars,\n",
      "                        the first element equals [8348.11142003] with non-scalar type <class 'numpy.ndarray'>.\n",
      "                        Using now ``[v[0] for v in function_values]`` instead (further warnings are suppressed) ()\n",
      "  ')')\n",
      "/usr/local/lib/python3.6/dist-packages/cma/utilities/utils.py:333: UserWarning: function_values is not a list of scalars,\n",
      "                        the first element equals [7922.62290799] with non-scalar type <class 'numpy.ndarray'>.\n",
      "                        Using now ``[v[0] for v in function_values]`` instead (further warnings are suppressed) ()\n",
      "  ')')\n"
     ]
    },
    {
     "name": "stdout",
     "output_type": "stream",
     "text": [
      "  100   1500 -1.749643252334839e+09 1.5e+00 1.85e+02  2e+02  2e+02 0:01.8\n",
      "  105   1575 -3.563288435570718e+09 1.5e+00 2.71e+02  3e+02  3e+02 0:01.9\n",
      "termination on tolfacupx=1000.0 (Mon Apr 13 14:51:22 2020)\n",
      "final/bestever f-value = -3.540151e+09 -3.563288e+09\n",
      "incumbent solution: [-157.38397162 1390.58785865 -741.25026496  762.68389115  566.69199534\n",
      " -452.89976906  162.0032387  -581.58427387 ...]\n",
      "std deviations: [256.65506494 261.43513301 265.28955903 259.3263494  267.57178642\n",
      " 261.74521624 263.85486511 259.59788374 ...]\n",
      "Run : 8\n",
      "(7_w,15)-aCMA-ES (mu_w=4.5,w_1=34%) in dimension 50 (seed=825024, Mon Apr 13 14:51:22 2020)\n",
      "Iterat #Fevals   function value  axis ratio  sigma  min&max std  t[m:s]\n",
      "    1     15 7.739617845914807e+03 1.0e+00 2.57e-01  3e-01  3e-01 0:00.0\n",
      "    2     30 7.737323250410435e+03 1.0e+00 2.50e-01  2e-01  3e-01 0:00.0\n",
      "    3     45 7.734685518696378e+03 1.1e+00 2.46e-01  2e-01  2e-01 0:00.1\n"
     ]
    },
    {
     "name": "stderr",
     "output_type": "stream",
     "text": [
      "/usr/local/lib/python3.6/dist-packages/cma/utilities/utils.py:333: UserWarning: function_values is not a list of scalars,\n",
      "                        the first element equals [7741.16872216] with non-scalar type <class 'numpy.ndarray'>.\n",
      "                        Using now ``[v[0] for v in function_values]`` instead (further warnings are suppressed) ()\n",
      "  ')')\n",
      "/usr/local/lib/python3.6/dist-packages/cma/utilities/utils.py:333: UserWarning: function_values is not a list of scalars,\n",
      "                        the first element equals [7739.87226908] with non-scalar type <class 'numpy.ndarray'>.\n",
      "                        Using now ``[v[0] for v in function_values]`` instead (further warnings are suppressed) ()\n",
      "  ')')\n"
     ]
    },
    {
     "name": "stdout",
     "output_type": "stream",
     "text": [
      "  100   1500 3.239852996348990e+03 1.4e+00 2.37e-02  2e-02  2e-02 0:01.9\n",
      "  200   3000 3.160378423729962e+03 1.4e+00 1.47e-03  1e-03  1e-03 0:03.8\n",
      "  300   4500 3.160077482785577e+03 1.5e+00 9.02e-05  7e-05  9e-05 0:05.7\n",
      "  400   6000 3.160076285469382e+03 1.6e+00 5.05e-06  4e-06  5e-06 0:07.5\n",
      "  500   7500 3.160076282164831e+03 1.6e+00 3.36e-07  3e-07  3e-07 0:09.4\n",
      "  600   9000 3.160076282154464e+03 1.7e+00 2.01e-08  1e-08  2e-08 0:11.3\n",
      "  700  10500 3.160076282154423e+03 1.8e+00 2.80e-09  2e-09  2e-09 0:13.2\n",
      "  742  11130 3.160076282154424e+03 1.8e+00 1.48e-09  1e-09  1e-09 0:14.0\n",
      "termination on tolfun=1e-11 (Mon Apr 13 14:51:38 2020)\n",
      "final/bestever f-value = 3.160076e+03 3.160076e+03\n",
      "incumbent solution: [-0.03729193  0.16792747 -0.24733188  0.21473332  0.14182239 -0.02816851\n",
      " -0.12247466  0.07988004 ...]\n",
      "std deviations: [1.13628750e-09 1.08061028e-09 1.19332386e-09 1.18782481e-09\n",
      " 1.09644259e-09 1.19013995e-09 1.11828828e-09 1.11484831e-09 ...]\n",
      "(7_w,15)-aCMA-ES (mu_w=4.5,w_1=34%) in dimension 50 (seed=904171, Mon Apr 13 14:51:38 2020)\n",
      "Iterat #Fevals   function value  axis ratio  sigma  min&max std  t[m:s]\n",
      "    1     15 7.748048683072061e+03 1.0e+00 2.55e-01  3e-01  3e-01 0:00.0\n",
      "    2     30 7.748048526805964e+03 1.0e+00 2.47e-01  2e-01  2e-01 0:00.0\n",
      "    3     45 7.748047926713465e+03 1.1e+00 2.42e-01  2e-01  2e-01 0:00.0\n"
     ]
    },
    {
     "name": "stderr",
     "output_type": "stream",
     "text": [
      "/usr/local/lib/python3.6/dist-packages/cma/utilities/utils.py:333: UserWarning: function_values is not a list of scalars,\n",
      "                        the first element equals [7748.04869197] with non-scalar type <class 'numpy.ndarray'>.\n",
      "                        Using now ``[v[0] for v in function_values]`` instead (further warnings are suppressed) ()\n",
      "  ')')\n",
      "/usr/local/lib/python3.6/dist-packages/cma/utilities/utils.py:333: UserWarning: function_values is not a list of scalars,\n",
      "                        the first element equals [7748.04868712] with non-scalar type <class 'numpy.ndarray'>.\n",
      "                        Using now ``[v[0] for v in function_values]`` instead (further warnings are suppressed) ()\n",
      "  ')')\n"
     ]
    },
    {
     "name": "stdout",
     "output_type": "stream",
     "text": [
      "  100   1500 7.395135583607343e+03 1.4e+00 1.98e-02  2e-02  2e-02 0:01.3\n",
      "  200   3000 7.381272718859225e+03 1.4e+00 1.02e-03  9e-04  1e-03 0:02.7\n",
      "  300   4500 7.381248672831474e+03 1.4e+00 4.53e-05  4e-05  4e-05 0:04.1\n",
      "  400   6000 7.381248621232307e+03 1.5e+00 2.67e-06  2e-06  2e-06 0:05.4\n",
      "  500   7500 7.381248621041576e+03 1.5e+00 1.77e-07  1e-07  2e-07 0:06.7\n",
      "  600   9000 7.381248621040791e+03 1.6e+00 8.73e-09  6e-09  7e-09 0:08.0\n"
     ]
    },
    {
     "name": "stderr",
     "output_type": "stream",
     "text": [
      "/usr/local/lib/python3.6/dist-packages/cma/utilities/utils.py:333: UserWarning: flat fitness (f=7381.248621, sigma=4.25e-09).\n",
      "                    For small sigma, this could indicate numerical convergence.\n",
      "                    Otherwise, please (re)consider how to compute the fitness more elaborately. (iteration=633)\n",
      "  ')')\n",
      "/usr/local/lib/python3.6/dist-packages/cma/utilities/utils.py:333: UserWarning: flat fitness (f=7381.248621, sigma=4.19e-09).\n",
      "                    For small sigma, this could indicate numerical convergence.\n",
      "                    Otherwise, please (re)consider how to compute the fitness more elaborately. (iteration=634)\n",
      "  ')')\n",
      "/usr/local/lib/python3.6/dist-packages/cma/utilities/utils.py:333: UserWarning: flat fitness (f=7381.248621, sigma=3.48e-09).\n",
      "                    For small sigma, this could indicate numerical convergence.\n",
      "                    Otherwise, please (re)consider how to compute the fitness more elaborately. (iteration=649)\n",
      "  ')')\n",
      "/usr/local/lib/python3.6/dist-packages/cma/utilities/utils.py:333: UserWarning: flat fitness (f=7381.248621, sigma=3.46e-09).\n",
      "                    For small sigma, this could indicate numerical convergence.\n",
      "                    Otherwise, please (re)consider how to compute the fitness more elaborately. (iteration=652)\n",
      "  ')')\n",
      "/usr/local/lib/python3.6/dist-packages/cma/utilities/utils.py:333: UserWarning: flat fitness (f=7381.248621, sigma=3.51e-09).\n",
      "                    For small sigma, this could indicate numerical convergence.\n",
      "                    Otherwise, please (re)consider how to compute the fitness more elaborately. (iteration=653)\n",
      "  ')')\n",
      "/usr/local/lib/python3.6/dist-packages/cma/utilities/utils.py:333: UserWarning: flat fitness (f=7381.248621, sigma=3.51e-09).\n",
      "                    For small sigma, this could indicate numerical convergence.\n",
      "                    Otherwise, please (re)consider how to compute the fitness more elaborately. (iteration=655)\n",
      "  ')')\n",
      "/usr/local/lib/python3.6/dist-packages/cma/utilities/utils.py:333: UserWarning: flat fitness (f=7381.248621, sigma=3.35e-09).\n",
      "                    For small sigma, this could indicate numerical convergence.\n",
      "                    Otherwise, please (re)consider how to compute the fitness more elaborately. (iteration=669)\n",
      "  ')')\n",
      "/usr/local/lib/python3.6/dist-packages/cma/utilities/utils.py:333: UserWarning: flat fitness (f=7381.248621, sigma=3.26e-09).\n",
      "                    For small sigma, this could indicate numerical convergence.\n",
      "                    Otherwise, please (re)consider how to compute the fitness more elaborately. (iteration=673)\n",
      "  ')')\n",
      "/usr/local/lib/python3.6/dist-packages/cma/utilities/utils.py:333: UserWarning: flat fitness (f=7381.248621, sigma=3.25e-09).\n",
      "                    For small sigma, this could indicate numerical convergence.\n",
      "                    Otherwise, please (re)consider how to compute the fitness more elaborately. (iteration=674)\n",
      "  ')')\n",
      "/usr/local/lib/python3.6/dist-packages/cma/utilities/utils.py:333: UserWarning: flat fitness (f=7381.248621, sigma=3.19e-09).\n",
      "                    For small sigma, this could indicate numerical convergence.\n",
      "                    Otherwise, please (re)consider how to compute the fitness more elaborately. (iteration=678)\n",
      "  ')')\n",
      "/usr/local/lib/python3.6/dist-packages/cma/utilities/utils.py:333: UserWarning: flat fitness (f=7381.248621, sigma=3.13e-09).\n",
      "                    For small sigma, this could indicate numerical convergence.\n",
      "                    Otherwise, please (re)consider how to compute the fitness more elaborately. (iteration=679)\n",
      "  ')')\n"
     ]
    },
    {
     "name": "stdout",
     "output_type": "stream",
     "text": [
      "  682  10230 7.381248621040790e+03 1.6e+00 2.97e-09  2e-09  3e-09 0:09.2\n",
      "termination on tolfun=1e-11 (Mon Apr 13 14:51:49 2020)\n",
      "final/bestever f-value = 7.381249e+03 7.381249e+03\n",
      "incumbent solution: [-0.45463973 -0.0550435   0.34589939  0.33568244  0.21536162  0.17683739\n",
      "  0.04454482  0.07946454 ...]\n",
      "std deviations: [2.34948552e-09 2.36554970e-09 2.30133965e-09 2.38351821e-09\n",
      " 2.37826074e-09 2.43517363e-09 2.28144289e-09 2.29933785e-09 ...]\n",
      "(7_w,15)-aCMA-ES (mu_w=4.5,w_1=34%) in dimension 50 (seed=854299, Mon Apr 13 14:51:50 2020)\n",
      "Iterat #Fevals   function value  axis ratio  sigma  min&max std  t[m:s]\n",
      "    1     15 7.475616387565258e+03 1.0e+00 2.55e-01  3e-01  3e-01 0:00.0\n",
      "    2     30 7.277284574334344e+03 1.0e+00 2.46e-01  2e-01  2e-01 0:00.0\n",
      "    3     45 6.776844639918862e+03 1.1e+00 2.40e-01  2e-01  2e-01 0:00.1\n"
     ]
    },
    {
     "name": "stderr",
     "output_type": "stream",
     "text": [
      "/usr/local/lib/python3.6/dist-packages/cma/utilities/utils.py:333: UserWarning: flat fitness (f=7381.248621, sigma=2.97e-09).\n",
      "                    For small sigma, this could indicate numerical convergence.\n",
      "                    Otherwise, please (re)consider how to compute the fitness more elaborately. (iteration=682)\n",
      "  ')')\n",
      "/usr/local/lib/python3.6/dist-packages/cma/utilities/utils.py:333: UserWarning: flat fitness (f=7381.248621, sigma=2.97e-09).\n",
      "                    For small sigma, this could indicate numerical convergence.\n",
      "                    Otherwise, please (re)consider how to compute the fitness more elaborately. (iteration=682)\n",
      "  ')')\n",
      "/usr/local/lib/python3.6/dist-packages/cma/utilities/utils.py:333: UserWarning: function_values is not a list of scalars,\n",
      "                        the first element equals [8231.7707414] with non-scalar type <class 'numpy.ndarray'>.\n",
      "                        Using now ``[v[0] for v in function_values]`` instead (further warnings are suppressed) ()\n",
      "  ')')\n",
      "/usr/local/lib/python3.6/dist-packages/cma/utilities/utils.py:333: UserWarning: function_values is not a list of scalars,\n",
      "                        the first element equals [8409.82467196] with non-scalar type <class 'numpy.ndarray'>.\n",
      "                        Using now ``[v[0] for v in function_values]`` instead (further warnings are suppressed) ()\n",
      "  ')')\n"
     ]
    },
    {
     "name": "stdout",
     "output_type": "stream",
     "text": [
      "  100   1500 -2.013324796835768e+09 1.7e+00 1.58e+02  1e+02  2e+02 0:01.8\n",
      "  108   1620 -6.129377908498000e+09 1.7e+00 2.61e+02  2e+02  3e+02 0:02.0\n",
      "termination on tolfacupx=1000.0 (Mon Apr 13 14:51:52 2020)\n",
      "final/bestever f-value = -6.049794e+09 -6.129378e+09\n",
      "incumbent solution: [-710.01604143 1571.25931595 -970.01722549  373.27294978 1621.63758676\n",
      " -120.53415575  569.32433217  367.9162256  ...]\n",
      "std deviations: [258.54497716 252.12100311 259.05582854 254.47971708 261.56017178\n",
      " 248.43257336 252.61733562 255.16210405 ...]\n",
      "Run : 9\n",
      "(7_w,15)-aCMA-ES (mu_w=4.5,w_1=34%) in dimension 50 (seed=857914, Mon Apr 13 14:51:52 2020)\n",
      "Iterat #Fevals   function value  axis ratio  sigma  min&max std  t[m:s]\n",
      "    1     15 7.741252795731411e+03 1.0e+00 2.54e-01  3e-01  3e-01 0:00.0\n",
      "    2     30 7.741218206274270e+03 1.0e+00 2.44e-01  2e-01  2e-01 0:00.0\n",
      "    3     45 7.740972459800728e+03 1.0e+00 2.37e-01  2e-01  2e-01 0:00.1\n"
     ]
    },
    {
     "name": "stderr",
     "output_type": "stream",
     "text": [
      "/usr/local/lib/python3.6/dist-packages/cma/utilities/utils.py:333: UserWarning: function_values is not a list of scalars,\n",
      "                        the first element equals [7741.32906605] with non-scalar type <class 'numpy.ndarray'>.\n",
      "                        Using now ``[v[0] for v in function_values]`` instead (further warnings are suppressed) ()\n",
      "  ')')\n",
      "/usr/local/lib/python3.6/dist-packages/cma/utilities/utils.py:333: UserWarning: function_values is not a list of scalars,\n",
      "                        the first element equals [7741.26386847] with non-scalar type <class 'numpy.ndarray'>.\n",
      "                        Using now ``[v[0] for v in function_values]`` instead (further warnings are suppressed) ()\n",
      "  ')')\n"
     ]
    },
    {
     "name": "stdout",
     "output_type": "stream",
     "text": [
      "  100   1500 3.385675408510525e+03 1.5e+00 3.80e-02  4e-02  4e-02 0:01.9\n",
      "  200   3000 3.160593831018759e+03 1.6e+00 1.99e-03  2e-03  2e-03 0:03.8\n",
      "  300   4500 3.160077557150654e+03 1.6e+00 1.04e-04  9e-05  1e-04 0:05.7\n",
      "  400   6000 3.160076286894610e+03 1.6e+00 6.85e-06  6e-06  6e-06 0:07.5\n",
      "  500   7500 3.160076282171831e+03 1.6e+00 3.51e-07  3e-07  3e-07 0:09.4\n",
      "  600   9000 3.160076282154499e+03 1.6e+00 2.52e-08  2e-08  2e-08 0:11.3\n",
      "  700  10500 3.160076282154425e+03 1.7e+00 3.31e-09  2e-09  3e-09 0:13.1\n",
      "  749  11235 3.160076282154423e+03 1.8e+00 1.98e-09  1e-09  2e-09 0:14.1\n",
      "termination on tolfun=1e-11 (Mon Apr 13 14:52:08 2020)\n",
      "final/bestever f-value = 3.160076e+03 3.160076e+03\n",
      "incumbent solution: [-0.03729192  0.16792747 -0.24733188  0.21473332  0.1418224  -0.02816851\n",
      " -0.12247468  0.07988004 ...]\n",
      "std deviations: [1.52902582e-09 1.53916281e-09 1.53696647e-09 1.58416094e-09\n",
      " 1.52052010e-09 1.65885530e-09 1.50334585e-09 1.56642679e-09 ...]\n",
      "(7_w,15)-aCMA-ES (mu_w=4.5,w_1=34%) in dimension 50 (seed=919645, Mon Apr 13 14:52:08 2020)\n",
      "Iterat #Fevals   function value  axis ratio  sigma  min&max std  t[m:s]\n",
      "    1     15 7.748048692041254e+03 1.0e+00 2.54e-01  3e-01  3e-01 0:00.0\n",
      "    2     30 7.748048692042571e+03 1.0e+00 2.45e-01  2e-01  2e-01 0:00.0\n",
      "    3     45 7.748048692036217e+03 1.0e+00 2.37e-01  2e-01  2e-01 0:00.0\n"
     ]
    },
    {
     "name": "stderr",
     "output_type": "stream",
     "text": [
      "/usr/local/lib/python3.6/dist-packages/cma/utilities/utils.py:333: UserWarning: function_values is not a list of scalars,\n",
      "                        the first element equals [7748.04869204] with non-scalar type <class 'numpy.ndarray'>.\n",
      "                        Using now ``[v[0] for v in function_values]`` instead (further warnings are suppressed) ()\n",
      "  ')')\n",
      "/usr/local/lib/python3.6/dist-packages/cma/utilities/utils.py:333: UserWarning: function_values is not a list of scalars,\n",
      "                        the first element equals [7748.04869204] with non-scalar type <class 'numpy.ndarray'>.\n",
      "                        Using now ``[v[0] for v in function_values]`` instead (further warnings are suppressed) ()\n",
      "  ')')\n"
     ]
    },
    {
     "name": "stdout",
     "output_type": "stream",
     "text": [
      "  100   1500 7.420722896491367e+03 1.5e+00 3.10e-02  3e-02  3e-02 0:01.3\n",
      "  200   3000 7.380764898035874e+03 1.5e+00 2.09e-03  2e-03  2e-03 0:02.7\n",
      "  300   4500 7.380638046910765e+03 1.6e+00 1.05e-04  9e-05  1e-04 0:04.0\n",
      "  400   6000 7.380637671314699e+03 1.6e+00 6.97e-06  6e-06  7e-06 0:05.3\n",
      "  500   7500 7.380637669902369e+03 1.7e+00 4.01e-07  3e-07  4e-07 0:06.6\n",
      "  600   9000 7.380637669898334e+03 1.6e+00 2.93e-08  2e-08  3e-08 0:08.0\n",
      "  700  10500 7.380637669898308e+03 1.7e+00 3.56e-09  3e-09  3e-09 0:09.3\n",
      "  730  10950 7.380637669898307e+03 1.7e+00 2.71e-09  2e-09  2e-09 0:09.7\n",
      "termination on tolfun=1e-11 (Mon Apr 13 14:52:20 2020)\n",
      "final/bestever f-value = 7.380638e+03 7.380638e+03\n",
      "incumbent solution: [ 0.32699826  0.42219202 -0.34946149  0.20905327  0.45569204 -0.21453394\n",
      " -0.03395531  0.13064035 ...]\n",
      "std deviations: [2.14130399e-09 2.06843453e-09 2.06454079e-09 2.23630839e-09\n",
      " 2.00741729e-09 2.16848565e-09 2.07829445e-09 2.02194428e-09 ...]\n",
      "(7_w,15)-aCMA-ES (mu_w=4.5,w_1=34%) in dimension 50 (seed=901605, Mon Apr 13 14:52:20 2020)\n",
      "Iterat #Fevals   function value  axis ratio  sigma  min&max std  t[m:s]\n",
      "    1     15 8.520171687796359e+03 1.0e+00 2.53e-01  3e-01  3e-01 0:00.0\n",
      "    2     30 8.064674309050898e+03 1.0e+00 2.45e-01  2e-01  2e-01 0:00.0\n",
      "    3     45 7.530621904074781e+03 1.1e+00 2.41e-01  2e-01  2e-01 0:00.1\n"
     ]
    },
    {
     "name": "stderr",
     "output_type": "stream",
     "text": [
      "/usr/local/lib/python3.6/dist-packages/cma/utilities/utils.py:333: UserWarning: function_values is not a list of scalars,\n",
      "                        the first element equals [9038.10853815] with non-scalar type <class 'numpy.ndarray'>.\n",
      "                        Using now ``[v[0] for v in function_values]`` instead (further warnings are suppressed) ()\n",
      "  ')')\n",
      "/usr/local/lib/python3.6/dist-packages/cma/utilities/utils.py:333: UserWarning: function_values is not a list of scalars,\n",
      "                        the first element equals [8583.12897011] with non-scalar type <class 'numpy.ndarray'>.\n",
      "                        Using now ``[v[0] for v in function_values]`` instead (further warnings are suppressed) ()\n",
      "  ')')\n"
     ]
    },
    {
     "name": "stdout",
     "output_type": "stream",
     "text": [
      "  100   1500 -2.237484075521616e+09 1.4e+00 1.94e+02  2e+02  2e+02 0:01.8\n",
      "  105   1575 -4.922733217236613e+09 1.4e+00 2.90e+02  3e+02  3e+02 0:01.9\n",
      "termination on tolfacupx=1000.0 (Mon Apr 13 14:52:23 2020)\n",
      "final/bestever f-value = -4.965421e+09 -4.965421e+09\n",
      "incumbent solution: [ 277.64202199   63.39565032 -777.52206935  -96.54935846  226.19804025\n",
      " -820.83941078   92.23361084  381.01252738 ...]\n",
      "std deviations: [277.82007459 280.9406233  278.51083884 282.32068171 279.70527592\n",
      " 282.47932615 284.25461548 282.10994228 ...]\n",
      "Run : 10\n",
      "(7_w,15)-aCMA-ES (mu_w=4.5,w_1=34%) in dimension 50 (seed=877620, Mon Apr 13 14:52:23 2020)\n",
      "Iterat #Fevals   function value  axis ratio  sigma  min&max std  t[m:s]\n",
      "    1     15 7.738110441095871e+03 1.0e+00 2.54e-01  3e-01  3e-01 0:00.0\n",
      "    2     30 7.738410628448576e+03 1.0e+00 2.44e-01  2e-01  2e-01 0:00.0\n",
      "    3     45 7.732759148456234e+03 1.0e+00 2.37e-01  2e-01  2e-01 0:00.1\n"
     ]
    },
    {
     "name": "stderr",
     "output_type": "stream",
     "text": [
      "/usr/local/lib/python3.6/dist-packages/cma/utilities/utils.py:333: UserWarning: function_values is not a list of scalars,\n",
      "                        the first element equals [7740.8646027] with non-scalar type <class 'numpy.ndarray'>.\n",
      "                        Using now ``[v[0] for v in function_values]`` instead (further warnings are suppressed) ()\n",
      "  ')')\n",
      "/usr/local/lib/python3.6/dist-packages/cma/utilities/utils.py:333: UserWarning: function_values is not a list of scalars,\n",
      "                        the first element equals [7739.29521872] with non-scalar type <class 'numpy.ndarray'>.\n",
      "                        Using now ``[v[0] for v in function_values]`` instead (further warnings are suppressed) ()\n",
      "  ')')\n"
     ]
    },
    {
     "name": "stdout",
     "output_type": "stream",
     "text": [
      "  100   1500 3.320066961608292e+03 1.4e+00 2.90e-02  3e-02  3e-02 0:01.9\n",
      "  200   3000 3.160299581927477e+03 1.4e+00 1.34e-03  1e-03  1e-03 0:03.8\n",
      "  300   4500 3.160077222397133e+03 1.5e+00 7.49e-05  6e-05  7e-05 0:05.7\n",
      "  400   6000 3.160076285229410e+03 1.5e+00 5.21e-06  4e-06  5e-06 0:07.5\n",
      "  500   7500 3.160076282167081e+03 1.6e+00 3.52e-07  3e-07  3e-07 0:09.4\n",
      "  600   9000 3.160076282154479e+03 1.6e+00 2.27e-08  2e-08  2e-08 0:11.3\n",
      "  700  10500 3.160076282154423e+03 1.6e+00 2.34e-09  2e-09  2e-09 0:13.2\n",
      "  745  11175 3.160076282154423e+03 1.8e+00 1.25e-09  9e-10  1e-09 0:14.0\n",
      "termination on tolfun=1e-11 (Mon Apr 13 14:52:39 2020)\n",
      "final/bestever f-value = 3.160076e+03 3.160076e+03\n",
      "incumbent solution: [-0.03729193  0.16792746 -0.24733189  0.21473333  0.14182239 -0.02816853\n",
      " -0.12247467  0.07988004 ...]\n",
      "std deviations: [1.01550388e-09 9.22823408e-10 1.00130748e-09 9.57805795e-10\n",
      " 9.33723146e-10 1.09515326e-09 9.98450332e-10 9.92461431e-10 ...]\n",
      "(7_w,15)-aCMA-ES (mu_w=4.5,w_1=34%) in dimension 50 (seed=906947, Mon Apr 13 14:52:39 2020)\n",
      "Iterat #Fevals   function value  axis ratio  sigma  min&max std  t[m:s]\n",
      "    1     15 7.748048666971525e+03 1.0e+00 2.54e-01  3e-01  3e-01 0:00.0\n",
      "    2     30 7.748048487945804e+03 1.0e+00 2.43e-01  2e-01  2e-01 0:00.0\n",
      "    3     45 7.748047985563379e+03 1.0e+00 2.33e-01  2e-01  2e-01 0:00.0\n"
     ]
    },
    {
     "name": "stderr",
     "output_type": "stream",
     "text": [
      "/usr/local/lib/python3.6/dist-packages/cma/utilities/utils.py:333: UserWarning: function_values is not a list of scalars,\n",
      "                        the first element equals [7748.04869137] with non-scalar type <class 'numpy.ndarray'>.\n",
      "                        Using now ``[v[0] for v in function_values]`` instead (further warnings are suppressed) ()\n",
      "  ')')\n",
      "/usr/local/lib/python3.6/dist-packages/cma/utilities/utils.py:333: UserWarning: function_values is not a list of scalars,\n",
      "                        the first element equals [7748.04869123] with non-scalar type <class 'numpy.ndarray'>.\n",
      "                        Using now ``[v[0] for v in function_values]`` instead (further warnings are suppressed) ()\n",
      "  ')')\n"
     ]
    },
    {
     "name": "stdout",
     "output_type": "stream",
     "text": [
      "  100   1500 7.465291192933487e+03 1.4e+00 2.21e-02  2e-02  2e-02 0:01.3\n",
      "  200   3000 7.452489710955670e+03 1.4e+00 1.08e-03  1e-03  1e-03 0:02.6\n",
      "  300   4500 7.452450477586092e+03 1.5e+00 8.40e-05  7e-05  8e-05 0:04.0\n",
      "  400   6000 7.452450254929430e+03 1.5e+00 5.25e-06  4e-06  5e-06 0:05.3\n",
      "  500   7500 7.452450254211997e+03 1.5e+00 3.82e-07  3e-07  3e-07 0:06.6\n",
      "  600   9000 7.452450254208148e+03 1.6e+00 1.93e-08  1e-08  2e-08 0:07.9\n",
      "  700  10500 7.452450254208141e+03 1.7e+00 3.84e-09  3e-09  3e-09 0:09.2\n",
      "  707  10605 7.452450254208140e+03 1.7e+00 3.63e-09  3e-09  3e-09 0:09.3\n",
      "termination on tolfun=1e-11 (Mon Apr 13 14:52:51 2020)\n",
      "final/bestever f-value = 7.452450e+03 7.452450e+03\n",
      "incumbent solution: [ 0.23796508 -0.4215181  -0.30045163  0.01802127  0.19291307 -0.04983126\n",
      " -0.73366666 -0.14218703 ...]\n",
      "std deviations: [2.93700986e-09 2.76783080e-09 3.08426237e-09 2.99786135e-09\n",
      " 2.83249993e-09 3.00497791e-09 3.01129422e-09 2.75551598e-09 ...]\n",
      "(7_w,15)-aCMA-ES (mu_w=4.5,w_1=34%) in dimension 50 (seed=819903, Mon Apr 13 14:52:51 2020)\n",
      "Iterat #Fevals   function value  axis ratio  sigma  min&max std  t[m:s]\n",
      "    1     15 7.352754821814789e+03 1.0e+00 2.55e-01  3e-01  3e-01 0:00.0\n",
      "    2     30 6.848179487144800e+03 1.0e+00 2.47e-01  2e-01  2e-01 0:00.0\n",
      "    3     45 6.578585842519556e+03 1.1e+00 2.41e-01  2e-01  2e-01 0:00.1\n"
     ]
    },
    {
     "name": "stderr",
     "output_type": "stream",
     "text": [
      "/usr/local/lib/python3.6/dist-packages/cma/utilities/utils.py:333: UserWarning: function_values is not a list of scalars,\n",
      "                        the first element equals [8114.67736713] with non-scalar type <class 'numpy.ndarray'>.\n",
      "                        Using now ``[v[0] for v in function_values]`` instead (further warnings are suppressed) ()\n",
      "  ')')\n",
      "/usr/local/lib/python3.6/dist-packages/cma/utilities/utils.py:333: UserWarning: function_values is not a list of scalars,\n",
      "                        the first element equals [7547.5503311] with non-scalar type <class 'numpy.ndarray'>.\n",
      "                        Using now ``[v[0] for v in function_values]`` instead (further warnings are suppressed) ()\n",
      "  ')')\n"
     ]
    },
    {
     "name": "stdout",
     "output_type": "stream",
     "text": [
      "  100   1500 -1.491452422757493e+09 1.5e+00 1.51e+02  1e+02  2e+02 0:01.8\n",
      "  107   1605 -4.164411003684882e+09 1.5e+00 2.71e+02  3e+02  3e+02 0:01.9\n",
      "termination on tolfacupx=1000.0 (Mon Apr 13 14:52:53 2020)\n",
      "final/bestever f-value = -4.050905e+09 -4.164411e+09\n",
      "incumbent solution: [ 134.62121889 1056.68469146 -228.03208399  563.88765546  534.47460912\n",
      " -486.47141413  107.82758747 -576.59440096 ...]\n",
      "std deviations: [260.2856466  264.82823713 264.17811816 271.30994935 266.53711732\n",
      " 265.81837194 261.71562581 258.60831518 ...]\n",
      "Run : 11\n",
      "(7_w,15)-aCMA-ES (mu_w=4.5,w_1=34%) in dimension 50 (seed=880328, Mon Apr 13 14:52:53 2020)\n",
      "Iterat #Fevals   function value  axis ratio  sigma  min&max std  t[m:s]\n",
      "    1     15 7.739209090276196e+03 1.0e+00 2.55e-01  3e-01  3e-01 0:00.0\n",
      "    2     30 7.739867550960300e+03 1.0e+00 2.45e-01  2e-01  2e-01 0:00.0\n",
      "    3     45 7.738171500240442e+03 1.0e+00 2.40e-01  2e-01  2e-01 0:00.1\n"
     ]
    },
    {
     "name": "stderr",
     "output_type": "stream",
     "text": [
      "/usr/local/lib/python3.6/dist-packages/cma/utilities/utils.py:333: UserWarning: function_values is not a list of scalars,\n",
      "                        the first element equals [7741.27613675] with non-scalar type <class 'numpy.ndarray'>.\n",
      "                        Using now ``[v[0] for v in function_values]`` instead (further warnings are suppressed) ()\n",
      "  ')')\n",
      "/usr/local/lib/python3.6/dist-packages/cma/utilities/utils.py:333: UserWarning: function_values is not a list of scalars,\n",
      "                        the first element equals [7740.66323761] with non-scalar type <class 'numpy.ndarray'>.\n",
      "                        Using now ``[v[0] for v in function_values]`` instead (further warnings are suppressed) ()\n",
      "  ')')\n"
     ]
    },
    {
     "name": "stdout",
     "output_type": "stream",
     "text": [
      "  100   1500 3.249845837355429e+03 1.4e+00 2.54e-02  2e-02  3e-02 0:01.9\n",
      "  200   3000 3.160447589289642e+03 1.4e+00 1.58e-03  1e-03  2e-03 0:03.8\n",
      "  300   4500 3.160076808788229e+03 1.5e+00 7.21e-05  6e-05  7e-05 0:05.7\n",
      "  400   6000 3.160076285180417e+03 1.6e+00 4.29e-06  3e-06  4e-06 0:07.6\n",
      "  500   7500 3.160076282165641e+03 1.6e+00 3.03e-07  2e-07  3e-07 0:09.4\n",
      "  600   9000 3.160076282154450e+03 1.6e+00 1.61e-08  1e-08  1e-08 0:11.3\n",
      "  700  10500 3.160076282154425e+03 1.8e+00 3.04e-09  2e-09  3e-09 0:13.2\n",
      "  737  11055 3.160076282154423e+03 1.8e+00 2.27e-09  2e-09  2e-09 0:13.9\n",
      "termination on tolfun=1e-11 (Mon Apr 13 14:53:09 2020)\n",
      "final/bestever f-value = 3.160076e+03 3.160076e+03\n",
      "incumbent solution: [-0.03729193  0.16792746 -0.24733188  0.21473333  0.1418224  -0.02816852\n",
      " -0.12247467  0.07988004 ...]\n",
      "std deviations: [1.71043980e-09 1.82298157e-09 1.78505951e-09 1.79334162e-09\n",
      " 1.67142897e-09 1.83811020e-09 1.80415479e-09 1.75320989e-09 ...]\n",
      "(7_w,15)-aCMA-ES (mu_w=4.5,w_1=34%) in dimension 50 (seed=878330, Mon Apr 13 14:53:09 2020)\n",
      "Iterat #Fevals   function value  axis ratio  sigma  min&max std  t[m:s]\n",
      "    1     15 7.748048689314915e+03 1.0e+00 2.56e-01  3e-01  3e-01 0:00.0\n",
      "    2     30 7.748048691094381e+03 1.0e+00 2.45e-01  2e-01  2e-01 0:00.0\n",
      "    3     45 7.748048680128027e+03 1.1e+00 2.37e-01  2e-01  2e-01 0:00.0\n"
     ]
    },
    {
     "name": "stderr",
     "output_type": "stream",
     "text": [
      "/usr/local/lib/python3.6/dist-packages/cma/utilities/utils.py:333: UserWarning: function_values is not a list of scalars,\n",
      "                        the first element equals [7748.04868931] with non-scalar type <class 'numpy.ndarray'>.\n",
      "                        Using now ``[v[0] for v in function_values]`` instead (further warnings are suppressed) ()\n",
      "  ')')\n",
      "/usr/local/lib/python3.6/dist-packages/cma/utilities/utils.py:333: UserWarning: function_values is not a list of scalars,\n",
      "                        the first element equals [7748.04869203] with non-scalar type <class 'numpy.ndarray'>.\n",
      "                        Using now ``[v[0] for v in function_values]`` instead (further warnings are suppressed) ()\n",
      "  ')')\n"
     ]
    },
    {
     "name": "stdout",
     "output_type": "stream",
     "text": [
      "  100   1500 7.530735356386350e+03 1.4e+00 3.58e-02  3e-02  4e-02 0:01.3\n",
      "  200   3000 7.506782085729333e+03 1.5e+00 2.26e-03  2e-03  2e-03 0:02.6\n",
      "  300   4500 7.506684008459245e+03 1.6e+00 1.41e-04  1e-04  1e-04 0:04.0\n",
      "  400   6000 7.506683666346652e+03 1.6e+00 9.68e-06  8e-06  9e-06 0:05.3\n",
      "  500   7500 7.506683664730520e+03 1.7e+00 7.51e-07  6e-07  7e-07 0:06.6\n",
      "  600   9000 7.506683664720584e+03 1.7e+00 4.90e-08  4e-08  4e-08 0:07.9\n",
      "  700  10500 7.506683664720559e+03 1.8e+00 5.72e-09  4e-09  5e-09 0:09.3\n"
     ]
    },
    {
     "name": "stderr",
     "output_type": "stream",
     "text": [
      "/usr/local/lib/python3.6/dist-packages/cma/utilities/utils.py:333: UserWarning: flat fitness (f=7506.683665, sigma=4.93e-09).\n",
      "                    For small sigma, this could indicate numerical convergence.\n",
      "                    Otherwise, please (re)consider how to compute the fitness more elaborately. (iteration=717)\n",
      "  ')')\n",
      "/usr/local/lib/python3.6/dist-packages/cma/utilities/utils.py:333: UserWarning: flat fitness (f=7506.683665, sigma=4.52e-09).\n",
      "                    For small sigma, this could indicate numerical convergence.\n",
      "                    Otherwise, please (re)consider how to compute the fitness more elaborately. (iteration=728)\n",
      "  ')')\n"
     ]
    },
    {
     "name": "stdout",
     "output_type": "stream",
     "text": [
      "  730  10950 7.506683664720559e+03 1.8e+00 4.45e-09  3e-09  4e-09 0:09.7\n",
      "termination on tolfun=1e-11 (Mon Apr 13 14:53:21 2020)\n",
      "final/bestever f-value = 7.506684e+03 7.506684e+03\n",
      "incumbent solution: [-0.03043294  0.07527817 -0.17371064  0.12669347  0.12777737 -0.06348447\n",
      " -0.05164055  0.00230376 ...]\n",
      "std deviations: [3.63367136e-09 3.42614129e-09 3.59899523e-09 3.60630593e-09\n",
      " 3.26028515e-09 3.73190540e-09 3.57100794e-09 3.48815108e-09 ...]\n",
      "(7_w,15)-aCMA-ES (mu_w=4.5,w_1=34%) in dimension 50 (seed=930506, Mon Apr 13 14:53:21 2020)\n",
      "Iterat #Fevals   function value  axis ratio  sigma  min&max std  t[m:s]\n",
      "    1     15 7.658018101426760e+03 1.0e+00 2.53e-01  3e-01  3e-01 0:00.0\n",
      "    2     30 7.200917475414547e+03 1.0e+00 2.45e-01  2e-01  2e-01 0:00.0\n",
      "    3     45 6.853370872216951e+03 1.1e+00 2.41e-01  2e-01  2e-01 0:00.1\n"
     ]
    },
    {
     "name": "stderr",
     "output_type": "stream",
     "text": [
      "/usr/local/lib/python3.6/dist-packages/cma/utilities/utils.py:333: UserWarning: function_values is not a list of scalars,\n",
      "                        the first element equals [8526.0647318] with non-scalar type <class 'numpy.ndarray'>.\n",
      "                        Using now ``[v[0] for v in function_values]`` instead (further warnings are suppressed) ()\n",
      "  ')')\n",
      "/usr/local/lib/python3.6/dist-packages/cma/utilities/utils.py:333: UserWarning: function_values is not a list of scalars,\n",
      "                        the first element equals [7965.26098843] with non-scalar type <class 'numpy.ndarray'>.\n",
      "                        Using now ``[v[0] for v in function_values]`` instead (further warnings are suppressed) ()\n",
      "  ')')\n"
     ]
    },
    {
     "name": "stdout",
     "output_type": "stream",
     "text": [
      "  100   1500 -5.724947490695876e+08 1.5e+00 1.02e+02  1e+02  1e+02 0:01.9\n",
      "  114   1710 -3.899045916943862e+09 1.6e+00 2.73e+02  3e+02  3e+02 0:02.1\n",
      "termination on tolfacupx=1000.0 (Mon Apr 13 14:53:24 2020)\n",
      "final/bestever f-value = -4.015286e+09 -4.015286e+09\n",
      "incumbent solution: [ -649.86786375   617.45377876 -1047.12555401   -43.59184474\n",
      "  1119.89800913  -342.35140899   476.3522336    679.03393501 ...]\n",
      "std deviations: [258.82914493 262.69244123 273.47214486 265.31189345 267.83120126\n",
      " 264.07306787 262.57731492 268.99667262 ...]\n",
      "Run : 12\n",
      "(7_w,15)-aCMA-ES (mu_w=4.5,w_1=34%) in dimension 50 (seed=846082, Mon Apr 13 14:53:24 2020)\n",
      "Iterat #Fevals   function value  axis ratio  sigma  min&max std  t[m:s]\n",
      "    1     15 7.741252048005110e+03 1.0e+00 2.55e-01  3e-01  3e-01 0:00.0\n",
      "    2     30 7.741254467735153e+03 1.0e+00 2.48e-01  2e-01  2e-01 0:00.0\n",
      "    3     45 7.741243745293564e+03 1.1e+00 2.44e-01  2e-01  2e-01 0:00.1\n"
     ]
    },
    {
     "name": "stderr",
     "output_type": "stream",
     "text": [
      "/usr/local/lib/python3.6/dist-packages/cma/utilities/utils.py:333: UserWarning: function_values is not a list of scalars,\n",
      "                        the first element equals [7741.59562941] with non-scalar type <class 'numpy.ndarray'>.\n",
      "                        Using now ``[v[0] for v in function_values]`` instead (further warnings are suppressed) ()\n",
      "  ')')\n",
      "/usr/local/lib/python3.6/dist-packages/cma/utilities/utils.py:333: UserWarning: function_values is not a list of scalars,\n",
      "                        the first element equals [7741.25767428] with non-scalar type <class 'numpy.ndarray'>.\n",
      "                        Using now ``[v[0] for v in function_values]`` instead (further warnings are suppressed) ()\n",
      "  ')')\n"
     ]
    },
    {
     "name": "stdout",
     "output_type": "stream",
     "text": [
      "  100   1500 3.361461130192053e+03 1.5e+00 3.66e-02  3e-02  4e-02 0:01.9\n",
      "  200   3000 3.161076717034179e+03 1.5e+00 2.76e-03  2e-03  3e-03 0:03.8\n",
      "  300   4500 3.160080762362628e+03 1.5e+00 1.69e-04  1e-04  2e-04 0:05.6\n",
      "  400   6000 3.160076295561988e+03 1.6e+00 1.02e-05  8e-06  1e-05 0:07.5\n",
      "  500   7500 3.160076282199021e+03 1.6e+00 5.30e-07  4e-07  5e-07 0:09.4\n",
      "  600   9000 3.160076282154579e+03 1.7e+00 4.04e-08  3e-08  4e-08 0:11.3\n",
      "  700  10500 3.160076282154427e+03 1.8e+00 3.89e-09  3e-09  3e-09 0:13.2\n",
      "  768  11520 3.160076282154423e+03 1.8e+00 2.09e-09  1e-09  2e-09 0:14.4\n",
      "termination on tolfun=1e-11 (Mon Apr 13 14:53:41 2020)\n",
      "final/bestever f-value = 3.160076e+03 3.160076e+03\n",
      "incumbent solution: [-0.03729192  0.16792745 -0.24733189  0.21473332  0.1418224  -0.02816851\n",
      " -0.12247467  0.07988004 ...]\n",
      "std deviations: [1.58212345e-09 1.60407580e-09 1.64736680e-09 1.59364935e-09\n",
      " 1.58875733e-09 1.82526203e-09 1.60502735e-09 1.67294807e-09 ...]\n",
      "(7_w,15)-aCMA-ES (mu_w=4.5,w_1=34%) in dimension 50 (seed=863071, Mon Apr 13 14:53:41 2020)\n",
      "Iterat #Fevals   function value  axis ratio  sigma  min&max std  t[m:s]\n",
      "    1     15 7.748048691991872e+03 1.0e+00 2.56e-01  3e-01  3e-01 0:00.0\n",
      "    2     30 7.748048691267684e+03 1.0e+00 2.45e-01  2e-01  2e-01 0:00.0\n",
      "    3     45 7.748048682964362e+03 1.1e+00 2.37e-01  2e-01  2e-01 0:00.0\n"
     ]
    },
    {
     "name": "stderr",
     "output_type": "stream",
     "text": [
      "/usr/local/lib/python3.6/dist-packages/cma/utilities/utils.py:333: UserWarning: function_values is not a list of scalars,\n",
      "                        the first element equals [7748.04869204] with non-scalar type <class 'numpy.ndarray'>.\n",
      "                        Using now ``[v[0] for v in function_values]`` instead (further warnings are suppressed) ()\n",
      "  ')')\n",
      "/usr/local/lib/python3.6/dist-packages/cma/utilities/utils.py:333: UserWarning: function_values is not a list of scalars,\n",
      "                        the first element equals [7748.04869204] with non-scalar type <class 'numpy.ndarray'>.\n",
      "                        Using now ``[v[0] for v in function_values]`` instead (further warnings are suppressed) ()\n",
      "  ')')\n"
     ]
    },
    {
     "name": "stdout",
     "output_type": "stream",
     "text": [
      "  100   1500 7.400453636660945e+03 1.4e+00 2.33e-02  2e-02  2e-02 0:01.3\n",
      "  200   3000 7.381799205892645e+03 1.5e+00 1.25e-03  1e-03  1e-03 0:02.6\n",
      "  300   4500 7.381737172993599e+03 1.5e+00 7.25e-05  6e-05  7e-05 0:04.0\n",
      "  400   6000 7.381737020921531e+03 1.6e+00 4.10e-06  3e-06  4e-06 0:05.3\n",
      "  500   7500 7.381737020432020e+03 1.6e+00 2.35e-07  2e-07  2e-07 0:06.6\n",
      "  600   9000 7.381737020430001e+03 1.6e+00 1.40e-08  1e-08  1e-08 0:07.9\n",
      "  700  10500 7.381737020429997e+03 1.8e+00 3.36e-09  2e-09  3e-09 0:09.2\n",
      "  703  10545 7.381737020429996e+03 1.8e+00 3.43e-09  2e-09  3e-09 0:09.2\n",
      "termination on tolfun=1e-11 (Mon Apr 13 14:53:52 2020)\n",
      "final/bestever f-value = 7.381737e+03 7.381737e+03\n",
      "incumbent solution: [ 0.04082774  0.05015944 -0.22429442  0.08494284 -0.01408819  0.26466187\n",
      "  0.79780365 -0.13145807 ...]\n",
      "std deviations: [2.66350934e-09 2.61071182e-09 2.68486543e-09 2.80861340e-09\n",
      " 2.56161241e-09 2.92138936e-09 2.81813080e-09 2.78301571e-09 ...]\n",
      "(7_w,15)-aCMA-ES (mu_w=4.5,w_1=34%) in dimension 50 (seed=899800, Mon Apr 13 14:53:52 2020)\n",
      "Iterat #Fevals   function value  axis ratio  sigma  min&max std  t[m:s]\n",
      "    1     15 8.589255678576081e+03 1.0e+00 2.56e-01  3e-01  3e-01 0:00.0\n",
      "    2     30 7.840990254049179e+03 1.0e+00 2.49e-01  2e-01  2e-01 0:00.0\n",
      "    3     45 7.855072657839513e+03 1.1e+00 2.44e-01  2e-01  2e-01 0:00.0\n"
     ]
    },
    {
     "name": "stderr",
     "output_type": "stream",
     "text": [
      "/usr/local/lib/python3.6/dist-packages/cma/utilities/utils.py:333: UserWarning: function_values is not a list of scalars,\n",
      "                        the first element equals [9914.69062186] with non-scalar type <class 'numpy.ndarray'>.\n",
      "                        Using now ``[v[0] for v in function_values]`` instead (further warnings are suppressed) ()\n",
      "  ')')\n",
      "/usr/local/lib/python3.6/dist-packages/cma/utilities/utils.py:333: UserWarning: function_values is not a list of scalars,\n",
      "                        the first element equals [7840.99025405] with non-scalar type <class 'numpy.ndarray'>.\n",
      "                        Using now ``[v[0] for v in function_values]`` instead (further warnings are suppressed) ()\n",
      "  ')')\n"
     ]
    },
    {
     "name": "stdout",
     "output_type": "stream",
     "text": [
      "   99   1485 -4.122030070899918e+09 1.5e+00 2.72e+02  3e+02  3e+02 0:01.8\n",
      "termination on tolfacupx=1000.0 (Mon Apr 13 14:53:54 2020)\n",
      "final/bestever f-value = -4.169296e+09 -4.169296e+09\n",
      "incumbent solution: [-730.29415202  513.45283732 -189.4130395  -550.22571092 -313.85566293\n",
      " 1258.56796128  709.90870012 -324.4011097  ...]\n",
      "std deviations: [261.08696419 265.37658263 265.26422261 263.28650878 263.92246071\n",
      " 268.0391193  262.3477525  266.20433713 ...]\n",
      "Run : 13\n",
      "(7_w,15)-aCMA-ES (mu_w=4.5,w_1=34%) in dimension 50 (seed=857658, Mon Apr 13 14:53:55 2020)\n",
      "Iterat #Fevals   function value  axis ratio  sigma  min&max std  t[m:s]\n",
      "    1     15 7.741291331590615e+03 1.0e+00 2.54e-01  3e-01  3e-01 0:00.0\n",
      "    2     30 7.740990025476291e+03 1.0e+00 2.48e-01  2e-01  3e-01 0:00.0\n",
      "    3     45 7.740235860724172e+03 1.1e+00 2.44e-01  2e-01  2e-01 0:00.1\n"
     ]
    },
    {
     "name": "stderr",
     "output_type": "stream",
     "text": [
      "/usr/local/lib/python3.6/dist-packages/cma/utilities/utils.py:333: UserWarning: function_values is not a list of scalars,\n",
      "                        the first element equals [7742.15687421] with non-scalar type <class 'numpy.ndarray'>.\n",
      "                        Using now ``[v[0] for v in function_values]`` instead (further warnings are suppressed) ()\n",
      "  ')')\n",
      "/usr/local/lib/python3.6/dist-packages/cma/utilities/utils.py:333: UserWarning: function_values is not a list of scalars,\n",
      "                        the first element equals [7741.32423037] with non-scalar type <class 'numpy.ndarray'>.\n",
      "                        Using now ``[v[0] for v in function_values]`` instead (further warnings are suppressed) ()\n",
      "  ')')\n"
     ]
    },
    {
     "name": "stdout",
     "output_type": "stream",
     "text": [
      "  100   1500 3.289924588149831e+03 1.4e+00 2.99e-02  3e-02  3e-02 0:01.9\n",
      "  200   3000 3.160599398776335e+03 1.4e+00 1.92e-03  2e-03  2e-03 0:03.7\n",
      "  300   4500 3.160077829244538e+03 1.5e+00 1.12e-04  9e-05  1e-04 0:05.6\n",
      "  400   6000 3.160076285701961e+03 1.5e+00 5.64e-06  5e-06  5e-06 0:07.5\n",
      "  500   7500 3.160076282170388e+03 1.6e+00 3.82e-07  3e-07  3e-07 0:09.4\n",
      "  600   9000 3.160076282154456e+03 1.6e+00 1.78e-08  1e-08  2e-08 0:11.3\n",
      "  700  10500 3.160076282154425e+03 1.7e+00 2.88e-09  2e-09  2e-09 0:13.1\n",
      "  732  10980 3.160076282154423e+03 1.7e+00 2.34e-09  2e-09  2e-09 0:13.7\n",
      "termination on tolfun=1e-11 (Mon Apr 13 14:54:10 2020)\n",
      "final/bestever f-value = 3.160076e+03 3.160076e+03\n",
      "incumbent solution: [-0.03729192  0.16792746 -0.24733188  0.21473332  0.1418224  -0.02816852\n",
      " -0.12247467  0.07988004 ...]\n",
      "std deviations: [1.79118976e-09 1.70587603e-09 1.83245492e-09 1.87969755e-09\n",
      " 1.81385872e-09 1.82786429e-09 1.84258733e-09 1.76484613e-09 ...]\n",
      "(7_w,15)-aCMA-ES (mu_w=4.5,w_1=34%) in dimension 50 (seed=815936, Mon Apr 13 14:54:11 2020)\n",
      "Iterat #Fevals   function value  axis ratio  sigma  min&max std  t[m:s]\n",
      "    1     15 7.748048686312343e+03 1.0e+00 2.55e-01  3e-01  3e-01 0:00.0\n",
      "    2     30 7.748048675855151e+03 1.0e+00 2.44e-01  2e-01  2e-01 0:00.0\n",
      "    3     45 7.748048635503579e+03 1.0e+00 2.38e-01  2e-01  2e-01 0:00.0\n"
     ]
    },
    {
     "name": "stderr",
     "output_type": "stream",
     "text": [
      "/usr/local/lib/python3.6/dist-packages/cma/utilities/utils.py:333: UserWarning: function_values is not a list of scalars,\n",
      "                        the first element equals [7748.0486922] with non-scalar type <class 'numpy.ndarray'>.\n",
      "                        Using now ``[v[0] for v in function_values]`` instead (further warnings are suppressed) ()\n",
      "  ')')\n",
      "/usr/local/lib/python3.6/dist-packages/cma/utilities/utils.py:333: UserWarning: function_values is not a list of scalars,\n",
      "                        the first element equals [7748.0486923] with non-scalar type <class 'numpy.ndarray'>.\n",
      "                        Using now ``[v[0] for v in function_values]`` instead (further warnings are suppressed) ()\n",
      "  ')')\n"
     ]
    },
    {
     "name": "stdout",
     "output_type": "stream",
     "text": [
      "  100   1500 7.409115688881212e+03 1.4e+00 2.61e-02  2e-02  3e-02 0:01.3\n",
      "  200   3000 7.380423270626721e+03 1.4e+00 1.43e-03  1e-03  1e-03 0:02.7\n",
      "  300   4500 7.380345136554095e+03 1.4e+00 7.93e-05  7e-05  8e-05 0:04.0\n",
      "  400   6000 7.380344976871766e+03 1.5e+00 4.71e-06  4e-06  4e-06 0:05.3\n",
      "  500   7500 7.380344976185145e+03 1.5e+00 2.27e-07  2e-07  2e-07 0:06.6\n",
      "  600   9000 7.380344976183875e+03 1.5e+00 1.10e-08  8e-09  1e-08 0:07.9\n",
      "  693  10395 7.380344976183873e+03 1.7e+00 3.85e-09  3e-09  3e-09 0:09.2\n",
      "termination on tolfun=1e-11 (Mon Apr 13 14:54:22 2020)\n",
      "final/bestever f-value = 7.380345e+03 7.380345e+03\n",
      "incumbent solution: [-0.23489366  0.13928594  0.23101485  0.27704071 -0.12980725  0.08138133\n",
      "  0.09936907  0.15496321 ...]\n",
      "std deviations: [2.87282690e-09 2.98191582e-09 3.03259682e-09 3.08939120e-09\n",
      " 2.92659844e-09 3.24865008e-09 3.07502400e-09 2.91376114e-09 ...]\n",
      "(7_w,15)-aCMA-ES (mu_w=4.5,w_1=34%) in dimension 50 (seed=920186, Mon Apr 13 14:54:22 2020)\n",
      "Iterat #Fevals   function value  axis ratio  sigma  min&max std  t[m:s]\n",
      "    1     15 7.504427530468633e+03 1.0e+00 2.56e-01  3e-01  3e-01 0:00.0\n",
      "    2     30 7.037983465107208e+03 1.0e+00 2.51e-01  2e-01  3e-01 0:00.0\n",
      "    3     45 6.786563548030515e+03 1.1e+00 2.48e-01  2e-01  2e-01 0:00.1\n"
     ]
    },
    {
     "name": "stderr",
     "output_type": "stream",
     "text": [
      "/usr/local/lib/python3.6/dist-packages/cma/utilities/utils.py:333: UserWarning: function_values is not a list of scalars,\n",
      "                        the first element equals [8279.70208903] with non-scalar type <class 'numpy.ndarray'>.\n",
      "                        Using now ``[v[0] for v in function_values]`` instead (further warnings are suppressed) ()\n",
      "  ')')\n",
      "/usr/local/lib/python3.6/dist-packages/cma/utilities/utils.py:333: UserWarning: function_values is not a list of scalars,\n",
      "                        the first element equals [7289.43956493] with non-scalar type <class 'numpy.ndarray'>.\n",
      "                        Using now ``[v[0] for v in function_values]`` instead (further warnings are suppressed) ()\n",
      "  ')')\n"
     ]
    },
    {
     "name": "stdout",
     "output_type": "stream",
     "text": [
      "   95   1425 -3.163477470834634e+09 1.5e+00 2.67e+02  3e+02  3e+02 0:01.7\n",
      "termination on tolfacupx=1000.0 (Mon Apr 13 14:54:24 2020)\n",
      "final/bestever f-value = -2.937371e+09 -3.163477e+09\n",
      "incumbent solution: [ 382.75532069 1021.07078872  421.61114127  447.77793715 -276.45565216\n",
      " -329.58725774  457.33200138 -153.44948413 ...]\n",
      "std deviations: [258.19379926 258.6970502  259.5026836  259.14443266 258.17574932\n",
      " 260.73106374 258.29474479 261.44076799 ...]\n",
      "Run : 14\n",
      "(7_w,15)-aCMA-ES (mu_w=4.5,w_1=34%) in dimension 50 (seed=881563, Mon Apr 13 14:54:24 2020)\n",
      "Iterat #Fevals   function value  axis ratio  sigma  min&max std  t[m:s]\n",
      "    1     15 7.741259415642299e+03 1.0e+00 2.57e-01  3e-01  3e-01 0:00.0\n",
      "    2     30 7.741249032473182e+03 1.1e+00 2.49e-01  2e-01  3e-01 0:00.0\n",
      "    3     45 7.741244138830343e+03 1.1e+00 2.42e-01  2e-01  2e-01 0:00.1\n"
     ]
    },
    {
     "name": "stderr",
     "output_type": "stream",
     "text": [
      "/usr/local/lib/python3.6/dist-packages/cma/utilities/utils.py:333: UserWarning: function_values is not a list of scalars,\n",
      "                        the first element equals [7741.43676839] with non-scalar type <class 'numpy.ndarray'>.\n",
      "                        Using now ``[v[0] for v in function_values]`` instead (further warnings are suppressed) ()\n",
      "  ')')\n",
      "/usr/local/lib/python3.6/dist-packages/cma/utilities/utils.py:333: UserWarning: function_values is not a list of scalars,\n",
      "                        the first element equals [7741.27907175] with non-scalar type <class 'numpy.ndarray'>.\n",
      "                        Using now ``[v[0] for v in function_values]`` instead (further warnings are suppressed) ()\n",
      "  ')')\n"
     ]
    },
    {
     "name": "stdout",
     "output_type": "stream",
     "text": [
      "  100   1500 3.403872037111337e+03 1.5e+00 4.44e-02  4e-02  4e-02 0:01.9\n",
      "  200   3000 3.160680348046285e+03 1.5e+00 2.52e-03  2e-03  2e-03 0:03.7\n",
      "  300   4500 3.160078408109791e+03 1.6e+00 1.24e-04  1e-04  1e-04 0:05.6\n",
      "  400   6000 3.160076286861686e+03 1.6e+00 6.16e-06  5e-06  6e-06 0:07.5\n",
      "  500   7500 3.160076282174166e+03 1.6e+00 3.92e-07  3e-07  4e-07 0:09.4\n",
      "  600   9000 3.160076282154454e+03 1.7e+00 1.93e-08  1e-08  2e-08 0:11.3\n",
      "  700  10500 3.160076282154423e+03 1.7e+00 2.25e-09  2e-09  2e-09 0:13.1\n",
      "  737  11055 3.160076282154423e+03 1.7e+00 1.62e-09  1e-09  1e-09 0:13.8\n",
      "termination on tolfun=1e-11 (Mon Apr 13 14:54:40 2020)\n",
      "final/bestever f-value = 3.160076e+03 3.160076e+03\n",
      "incumbent solution: [-0.03729192  0.16792745 -0.24733189  0.21473333  0.1418224  -0.02816852\n",
      " -0.12247466  0.07988004 ...]\n",
      "std deviations: [1.25390957e-09 1.18415168e-09 1.27201266e-09 1.21321779e-09\n",
      " 1.24289973e-09 1.34171769e-09 1.21190023e-09 1.27480131e-09 ...]\n",
      "(7_w,15)-aCMA-ES (mu_w=4.5,w_1=34%) in dimension 50 (seed=884453, Mon Apr 13 14:54:40 2020)\n",
      "Iterat #Fevals   function value  axis ratio  sigma  min&max std  t[m:s]\n",
      "    1     15 7.748048692042226e+03 1.0e+00 2.55e-01  3e-01  3e-01 0:00.0\n",
      "    2     30 7.748048692025127e+03 1.0e+00 2.45e-01  2e-01  2e-01 0:00.0\n",
      "    3     45 7.748048691987017e+03 1.0e+00 2.40e-01  2e-01  2e-01 0:00.0\n"
     ]
    },
    {
     "name": "stderr",
     "output_type": "stream",
     "text": [
      "/usr/local/lib/python3.6/dist-packages/cma/utilities/utils.py:333: UserWarning: function_values is not a list of scalars,\n",
      "                        the first element equals [7748.04869204] with non-scalar type <class 'numpy.ndarray'>.\n",
      "                        Using now ``[v[0] for v in function_values]`` instead (further warnings are suppressed) ()\n",
      "  ')')\n",
      "/usr/local/lib/python3.6/dist-packages/cma/utilities/utils.py:333: UserWarning: function_values is not a list of scalars,\n",
      "                        the first element equals [7748.04869204] with non-scalar type <class 'numpy.ndarray'>.\n",
      "                        Using now ``[v[0] for v in function_values]`` instead (further warnings are suppressed) ()\n",
      "  ')')\n"
     ]
    },
    {
     "name": "stdout",
     "output_type": "stream",
     "text": [
      "  100   1500 7.408647529121817e+03 1.5e+00 2.58e-02  2e-02  3e-02 0:01.3\n",
      "  200   3000 7.382550957811246e+03 1.5e+00 1.45e-03  1e-03  1e-03 0:02.7\n",
      "  300   4500 7.382484337265541e+03 1.5e+00 8.55e-05  7e-05  8e-05 0:04.0\n",
      "  400   6000 7.382484105850959e+03 1.6e+00 5.27e-06  4e-06  5e-06 0:05.3\n",
      "  500   7500 7.382484104843033e+03 1.6e+00 2.62e-07  2e-07  2e-07 0:06.6\n",
      "  600   9000 7.382484104841032e+03 1.6e+00 1.81e-08  1e-08  2e-08 0:07.9\n",
      "  700  10500 7.382484104841024e+03 1.7e+00 3.24e-09  2e-09  3e-09 0:09.2\n",
      "  711  10665 7.382484104841023e+03 1.8e+00 3.05e-09  2e-09  3e-09 0:09.4\n",
      "termination on tolfun=1e-11 (Mon Apr 13 14:54:52 2020)\n",
      "final/bestever f-value = 7.382484e+03 7.382484e+03\n",
      "incumbent solution: [-0.12455118  0.21977661  0.26925155 -0.18280195  0.23665624 -0.07328157\n",
      "  0.26445342 -0.18463517 ...]\n",
      "std deviations: [2.48613337e-09 2.35350996e-09 2.46137836e-09 2.35425703e-09\n",
      " 2.27276879e-09 2.51410249e-09 2.23252496e-09 2.38622076e-09 ...]\n",
      "(7_w,15)-aCMA-ES (mu_w=4.5,w_1=34%) in dimension 50 (seed=875667, Mon Apr 13 14:54:52 2020)\n",
      "Iterat #Fevals   function value  axis ratio  sigma  min&max std  t[m:s]\n",
      "    1     15 8.038507590761012e+03 1.0e+00 2.54e-01  3e-01  3e-01 0:00.0\n",
      "    2     30 7.539403184053904e+03 1.0e+00 2.45e-01  2e-01  2e-01 0:00.0\n",
      "    3     45 7.160528911321793e+03 1.0e+00 2.40e-01  2e-01  2e-01 0:00.1\n"
     ]
    },
    {
     "name": "stderr",
     "output_type": "stream",
     "text": [
      "/usr/local/lib/python3.6/dist-packages/cma/utilities/utils.py:333: UserWarning: function_values is not a list of scalars,\n",
      "                        the first element equals [9121.22769037] with non-scalar type <class 'numpy.ndarray'>.\n",
      "                        Using now ``[v[0] for v in function_values]`` instead (further warnings are suppressed) ()\n",
      "  ')')\n",
      "/usr/local/lib/python3.6/dist-packages/cma/utilities/utils.py:333: UserWarning: function_values is not a list of scalars,\n",
      "                        the first element equals [7671.7543735] with non-scalar type <class 'numpy.ndarray'>.\n",
      "                        Using now ``[v[0] for v in function_values]`` instead (further warnings are suppressed) ()\n",
      "  ')')\n"
     ]
    },
    {
     "name": "stdout",
     "output_type": "stream",
     "text": [
      "  100   1500 -1.557288378134410e+09 1.6e+00 1.55e+02  1e+02  2e+02 0:01.8\n",
      "  108   1620 -4.468814937757543e+09 1.6e+00 2.59e+02  2e+02  3e+02 0:02.0\n",
      "termination on tolfacupx=1000.0 (Mon Apr 13 14:54:54 2020)\n",
      "final/bestever f-value = -4.312984e+09 -4.468815e+09\n",
      "incumbent solution: [-761.44824234  944.39604876 -731.16709637 -477.92402956  630.84852196\n",
      "  195.6292105   229.17948305 -376.49035098 ...]\n",
      "std deviations: [257.20145858 248.66974937 252.78446338 251.50058395 250.25196016\n",
      " 252.53320493 246.41571589 250.4930865  ...]\n",
      "Run : 15\n",
      "(7_w,15)-aCMA-ES (mu_w=4.5,w_1=34%) in dimension 50 (seed=875149, Mon Apr 13 14:54:54 2020)\n",
      "Iterat #Fevals   function value  axis ratio  sigma  min&max std  t[m:s]\n",
      "    1     15 7.740361473002641e+03 1.0e+00 2.54e-01  3e-01  3e-01 0:00.0\n",
      "    2     30 7.738728440999614e+03 1.0e+00 2.43e-01  2e-01  2e-01 0:00.0\n",
      "    3     45 7.732978311467545e+03 1.0e+00 2.37e-01  2e-01  2e-01 0:00.1\n"
     ]
    },
    {
     "name": "stderr",
     "output_type": "stream",
     "text": [
      "/usr/local/lib/python3.6/dist-packages/cma/utilities/utils.py:333: UserWarning: function_values is not a list of scalars,\n",
      "                        the first element equals [7746.17448403] with non-scalar type <class 'numpy.ndarray'>.\n",
      "                        Using now ``[v[0] for v in function_values]`` instead (further warnings are suppressed) ()\n",
      "  ')')\n",
      "/usr/local/lib/python3.6/dist-packages/cma/utilities/utils.py:333: UserWarning: function_values is not a list of scalars,\n",
      "                        the first element equals [7742.668151] with non-scalar type <class 'numpy.ndarray'>.\n",
      "                        Using now ``[v[0] for v in function_values]`` instead (further warnings are suppressed) ()\n",
      "  ')')\n"
     ]
    },
    {
     "name": "stdout",
     "output_type": "stream",
     "text": [
      "  100   1500 3.216804210833167e+03 1.4e+00 2.29e-02  2e-02  2e-02 0:01.9\n",
      "  200   3000 3.160384697732500e+03 1.5e+00 1.31e-03  1e-03  1e-03 0:03.7\n",
      "  300   4500 3.160076972931105e+03 1.5e+00 7.87e-05  7e-05  7e-05 0:05.6\n",
      "  400   6000 3.160076284002766e+03 1.6e+00 3.62e-06  3e-06  3e-06 0:07.5\n",
      "  500   7500 3.160076282158615e+03 1.6e+00 2.04e-07  2e-07  2e-07 0:09.4\n",
      "  600   9000 3.160076282154438e+03 1.6e+00 1.14e-08  9e-09  1e-08 0:11.3\n",
      "  700  10500 3.160076282154424e+03 1.8e+00 2.38e-09  2e-09  2e-09 0:13.2\n",
      "  718  10770 3.160076282154423e+03 1.8e+00 1.97e-09  1e-09  2e-09 0:13.5\n",
      "termination on tolfun=1e-11 (Mon Apr 13 14:55:10 2020)\n",
      "final/bestever f-value = 3.160076e+03 3.160076e+03\n",
      "incumbent solution: [-0.03729192  0.16792746 -0.24733188  0.21473332  0.1418224  -0.02816853\n",
      " -0.12247468  0.07988004 ...]\n",
      "std deviations: [1.53115537e-09 1.45819818e-09 1.58161227e-09 1.51236142e-09\n",
      " 1.46030705e-09 1.67970323e-09 1.56137171e-09 1.54610359e-09 ...]\n",
      "(7_w,15)-aCMA-ES (mu_w=4.5,w_1=34%) in dimension 50 (seed=918635, Mon Apr 13 14:55:10 2020)\n",
      "Iterat #Fevals   function value  axis ratio  sigma  min&max std  t[m:s]\n",
      "    1     15 7.748048655474934e+03 1.0e+00 2.55e-01  3e-01  3e-01 0:00.0\n",
      "    2     30 7.748048662384197e+03 1.0e+00 2.45e-01  2e-01  2e-01 0:00.0\n",
      "    3     45 7.748048435101918e+03 1.0e+00 2.39e-01  2e-01  2e-01 0:00.0\n"
     ]
    },
    {
     "name": "stderr",
     "output_type": "stream",
     "text": [
      "/usr/local/lib/python3.6/dist-packages/cma/utilities/utils.py:333: UserWarning: function_values is not a list of scalars,\n",
      "                        the first element equals [7748.04869029] with non-scalar type <class 'numpy.ndarray'>.\n",
      "                        Using now ``[v[0] for v in function_values]`` instead (further warnings are suppressed) ()\n",
      "  ')')\n",
      "/usr/local/lib/python3.6/dist-packages/cma/utilities/utils.py:333: UserWarning: function_values is not a list of scalars,\n",
      "                        the first element equals [7748.04869199] with non-scalar type <class 'numpy.ndarray'>.\n",
      "                        Using now ``[v[0] for v in function_values]`` instead (further warnings are suppressed) ()\n",
      "  ')')\n"
     ]
    },
    {
     "name": "stdout",
     "output_type": "stream",
     "text": [
      "  100   1500 7.521040281738304e+03 1.4e+00 2.83e-02  3e-02  3e-02 0:01.3\n",
      "  200   3000 7.506762322434740e+03 1.4e+00 2.08e-03  2e-03  2e-03 0:02.7\n",
      "  300   4500 7.506683955127574e+03 1.5e+00 1.27e-04  1e-04  1e-04 0:04.0\n",
      "  400   6000 7.506683665573543e+03 1.5e+00 7.64e-06  6e-06  7e-06 0:05.3\n",
      "  500   7500 7.506683664724116e+03 1.6e+00 5.61e-07  4e-07  5e-07 0:06.6\n",
      "  600   9000 7.506683664720572e+03 1.6e+00 2.99e-08  2e-08  3e-08 0:07.9\n"
     ]
    },
    {
     "name": "stderr",
     "output_type": "stream",
     "text": [
      "/usr/local/lib/python3.6/dist-packages/cma/utilities/utils.py:333: UserWarning: flat fitness (f=7506.683665, sigma=4.88e-09).\n",
      "                    For small sigma, this could indicate numerical convergence.\n",
      "                    Otherwise, please (re)consider how to compute the fitness more elaborately. (iteration=682)\n",
      "  ')')\n"
     ]
    },
    {
     "name": "stdout",
     "output_type": "stream",
     "text": [
      "  700  10500 7.506683664720560e+03 1.7e+00 3.49e-09  3e-09  3e-09 0:09.2\n",
      "  711  10665 7.506683664720560e+03 1.8e+00 3.66e-09  3e-09  3e-09 0:09.4\n",
      "termination on tolfun=1e-11 (Mon Apr 13 14:55:22 2020)\n",
      "final/bestever f-value = 7.506684e+03 7.506684e+03\n",
      "incumbent solution: [-0.03043295  0.07527818 -0.17371064  0.12669348  0.12777736 -0.06348446\n",
      " -0.05164057  0.00230375 ...]\n",
      "std deviations: [2.91125194e-09 2.76678026e-09 2.87903652e-09 2.88055128e-09\n",
      " 2.75140681e-09 3.08113120e-09 2.92296500e-09 3.08627289e-09 ...]\n",
      "(7_w,15)-aCMA-ES (mu_w=4.5,w_1=34%) in dimension 50 (seed=856515, Mon Apr 13 14:55:22 2020)\n",
      "Iterat #Fevals   function value  axis ratio  sigma  min&max std  t[m:s]\n",
      "    1     15 7.939448042506760e+03 1.0e+00 2.57e-01  3e-01  3e-01 0:00.0\n",
      "    2     30 7.104947333087648e+03 1.0e+00 2.53e-01  3e-01  3e-01 0:00.0\n",
      "    3     45 7.071582782162312e+03 1.1e+00 2.52e-01  3e-01  3e-01 0:00.1\n"
     ]
    },
    {
     "name": "stderr",
     "output_type": "stream",
     "text": [
      "/usr/local/lib/python3.6/dist-packages/cma/utilities/utils.py:333: UserWarning: flat fitness (f=7506.683665, sigma=3.66e-09).\n",
      "                    For small sigma, this could indicate numerical convergence.\n",
      "                    Otherwise, please (re)consider how to compute the fitness more elaborately. (iteration=711)\n",
      "  ')')\n",
      "/usr/local/lib/python3.6/dist-packages/cma/utilities/utils.py:333: UserWarning: flat fitness (f=7506.683665, sigma=3.66e-09).\n",
      "                    For small sigma, this could indicate numerical convergence.\n",
      "                    Otherwise, please (re)consider how to compute the fitness more elaborately. (iteration=711)\n",
      "  ')')\n",
      "/usr/local/lib/python3.6/dist-packages/cma/utilities/utils.py:333: UserWarning: function_values is not a list of scalars,\n",
      "                        the first element equals [8832.9183078] with non-scalar type <class 'numpy.ndarray'>.\n",
      "                        Using now ``[v[0] for v in function_values]`` instead (further warnings are suppressed) ()\n",
      "  ')')\n",
      "/usr/local/lib/python3.6/dist-packages/cma/utilities/utils.py:333: UserWarning: function_values is not a list of scalars,\n",
      "                        the first element equals [8041.48499889] with non-scalar type <class 'numpy.ndarray'>.\n",
      "                        Using now ``[v[0] for v in function_values]`` instead (further warnings are suppressed) ()\n",
      "  ')')\n"
     ]
    },
    {
     "name": "stdout",
     "output_type": "stream",
     "text": [
      "  100   1500 -8.348340413081926e+08 1.7e+00 1.12e+02  1e+02  1e+02 0:01.8\n",
      "  112   1680 -4.593093904902822e+09 1.7e+00 2.69e+02  3e+02  3e+02 0:02.0\n",
      "termination on tolfacupx=1000.0 (Mon Apr 13 14:55:24 2020)\n",
      "final/bestever f-value = -4.501284e+09 -4.593094e+09\n",
      "incumbent solution: [ -229.87081729  1220.75226948 -1381.00951052   487.06912564\n",
      "   522.8657711     91.64998303    39.07707304  -882.74999452 ...]\n",
      "std deviations: [262.30286284 261.29382451 280.64879568 257.93537318 259.27287326\n",
      " 261.42028115 261.91972989 261.63745552 ...]\n",
      "Run : 16\n",
      "(7_w,15)-aCMA-ES (mu_w=4.5,w_1=34%) in dimension 50 (seed=935733, Mon Apr 13 14:55:24 2020)\n",
      "Iterat #Fevals   function value  axis ratio  sigma  min&max std  t[m:s]\n",
      "    1     15 7.741280207863684e+03 1.0e+00 2.55e-01  3e-01  3e-01 0:00.0\n",
      "    2     30 7.741253309993139e+03 1.0e+00 2.47e-01  2e-01  2e-01 0:00.0\n",
      "    3     45 7.741190341147419e+03 1.1e+00 2.40e-01  2e-01  2e-01 0:00.1\n"
     ]
    },
    {
     "name": "stderr",
     "output_type": "stream",
     "text": [
      "/usr/local/lib/python3.6/dist-packages/cma/utilities/utils.py:333: UserWarning: function_values is not a list of scalars,\n",
      "                        the first element equals [7741.53125696] with non-scalar type <class 'numpy.ndarray'>.\n",
      "                        Using now ``[v[0] for v in function_values]`` instead (further warnings are suppressed) ()\n",
      "  ')')\n",
      "/usr/local/lib/python3.6/dist-packages/cma/utilities/utils.py:333: UserWarning: function_values is not a list of scalars,\n",
      "                        the first element equals [7741.53905426] with non-scalar type <class 'numpy.ndarray'>.\n",
      "                        Using now ``[v[0] for v in function_values]`` instead (further warnings are suppressed) ()\n",
      "  ')')\n"
     ]
    },
    {
     "name": "stdout",
     "output_type": "stream",
     "text": [
      "  100   1500 3.549207693179871e+03 1.5e+00 5.39e-02  5e-02  5e-02 0:01.9\n",
      "  200   3000 3.161478875081192e+03 1.5e+00 2.93e-03  3e-03  3e-03 0:03.8\n",
      "  300   4500 3.160080704982726e+03 1.5e+00 1.78e-04  1e-04  2e-04 0:05.7\n",
      "  400   6000 3.160076290924743e+03 1.6e+00 9.26e-06  7e-06  9e-06 0:07.6\n",
      "  500   7500 3.160076282185664e+03 1.6e+00 5.10e-07  4e-07  5e-07 0:09.4\n",
      "  600   9000 3.160076282154536e+03 1.6e+00 3.10e-08  2e-08  3e-08 0:11.3\n",
      "  700  10500 3.160076282154423e+03 1.7e+00 2.96e-09  2e-09  3e-09 0:13.2\n",
      "  759  11385 3.160076282154423e+03 1.8e+00 1.38e-09  1e-09  1e-09 0:14.3\n",
      "termination on tolfun=1e-11 (Mon Apr 13 14:55:41 2020)\n",
      "final/bestever f-value = 3.160076e+03 3.160076e+03\n",
      "incumbent solution: [-0.03729193  0.16792746 -0.24733188  0.21473333  0.1418224  -0.02816852\n",
      " -0.12247466  0.07988004 ...]\n",
      "std deviations: [1.05528403e-09 1.01935444e-09 1.10643728e-09 1.07386942e-09\n",
      " 9.80866058e-10 1.13432811e-09 1.11198042e-09 1.06158643e-09 ...]\n",
      "(7_w,15)-aCMA-ES (mu_w=4.5,w_1=34%) in dimension 50 (seed=857155, Mon Apr 13 14:55:41 2020)\n",
      "Iterat #Fevals   function value  axis ratio  sigma  min&max std  t[m:s]\n",
      "    1     15 7.748048690266482e+03 1.0e+00 2.56e-01  3e-01  3e-01 0:00.0\n",
      "    2     30 7.748048666966451e+03 1.0e+00 2.45e-01  2e-01  2e-01 0:00.0\n",
      "    3     45 7.748048606366362e+03 1.1e+00 2.37e-01  2e-01  2e-01 0:00.0\n"
     ]
    },
    {
     "name": "stderr",
     "output_type": "stream",
     "text": [
      "/usr/local/lib/python3.6/dist-packages/cma/utilities/utils.py:333: UserWarning: function_values is not a list of scalars,\n",
      "                        the first element equals [7748.04869221] with non-scalar type <class 'numpy.ndarray'>.\n",
      "                        Using now ``[v[0] for v in function_values]`` instead (further warnings are suppressed) ()\n",
      "  ')')\n",
      "/usr/local/lib/python3.6/dist-packages/cma/utilities/utils.py:333: UserWarning: function_values is not a list of scalars,\n",
      "                        the first element equals [7748.04869178] with non-scalar type <class 'numpy.ndarray'>.\n",
      "                        Using now ``[v[0] for v in function_values]`` instead (further warnings are suppressed) ()\n",
      "  ')')\n"
     ]
    },
    {
     "name": "stdout",
     "output_type": "stream",
     "text": [
      "  100   1500 7.394603438707235e+03 1.3e+00 2.23e-02  2e-02  2e-02 0:01.3\n",
      "  200   3000 7.382536231325947e+03 1.4e+00 1.17e-03  1e-03  1e-03 0:02.6\n",
      "  300   4500 7.382484253671319e+03 1.4e+00 6.13e-05  5e-05  6e-05 0:04.0\n",
      "  400   6000 7.382484105097398e+03 1.5e+00 2.97e-06  2e-06  3e-06 0:05.3\n",
      "  500   7500 7.382484104841662e+03 1.5e+00 1.60e-07  1e-07  1e-07 0:06.6\n",
      "  600   9000 7.382484104841024e+03 1.6e+00 8.73e-09  6e-09  8e-09 0:07.9\n",
      "  684  10260 7.382484104841023e+03 1.8e+00 3.73e-09  3e-09  3e-09 0:09.0\n",
      "termination on tolfun=1e-11 (Mon Apr 13 14:55:52 2020)\n",
      "final/bestever f-value = 7.382484e+03 7.382484e+03\n",
      "incumbent solution: [-0.1245512   0.21977661  0.26925154 -0.18280197  0.23665624 -0.07328158\n",
      "  0.26445344 -0.18463517 ...]\n",
      "std deviations: [2.81844806e-09 2.96704716e-09 2.93656617e-09 2.96409576e-09\n",
      " 2.70934106e-09 3.13691220e-09 3.05265713e-09 2.92866745e-09 ...]\n",
      "(7_w,15)-aCMA-ES (mu_w=4.5,w_1=34%) in dimension 50 (seed=941219, Mon Apr 13 14:55:52 2020)\n",
      "Iterat #Fevals   function value  axis ratio  sigma  min&max std  t[m:s]\n",
      "    1     15 8.433042586537660e+03 1.0e+00 2.56e-01  3e-01  3e-01 0:00.0\n",
      "    2     30 8.081162317747247e+03 1.0e+00 2.49e-01  2e-01  2e-01 0:00.0\n",
      "    3     45 7.777215311939490e+03 1.1e+00 2.46e-01  2e-01  2e-01 0:00.0\n"
     ]
    },
    {
     "name": "stderr",
     "output_type": "stream",
     "text": [
      "/usr/local/lib/python3.6/dist-packages/cma/utilities/utils.py:333: UserWarning: function_values is not a list of scalars,\n",
      "                        the first element equals [10148.3360406] with non-scalar type <class 'numpy.ndarray'>.\n",
      "                        Using now ``[v[0] for v in function_values]`` instead (further warnings are suppressed) ()\n",
      "  ')')\n",
      "/usr/local/lib/python3.6/dist-packages/cma/utilities/utils.py:333: UserWarning: function_values is not a list of scalars,\n",
      "                        the first element equals [8958.16034893] with non-scalar type <class 'numpy.ndarray'>.\n",
      "                        Using now ``[v[0] for v in function_values]`` instead (further warnings are suppressed) ()\n",
      "  ')')\n"
     ]
    },
    {
     "name": "stdout",
     "output_type": "stream",
     "text": [
      "  100   1500 -9.152535403250808e+08 1.4e+00 1.25e+02  1e+02  1e+02 0:01.8\n",
      "  111   1665 -4.783443589160069e+09 1.4e+00 2.77e+02  3e+02  3e+02 0:02.1\n",
      "termination on tolfacupx=1000.0 (Mon Apr 13 14:55:55 2020)\n",
      "final/bestever f-value = -4.749050e+09 -4.783444e+09\n",
      "incumbent solution: [-138.54142888 -202.05830248 -957.44115503 -367.71517297 1001.53286211\n",
      " -991.1392267   -54.45888376   -6.83837954 ...]\n",
      "std deviations: [261.4181619  267.35358518 272.22327723 263.01276625 272.50438502\n",
      " 268.56718705 269.0145464  271.51872531 ...]\n",
      "Run : 17\n",
      "(7_w,15)-aCMA-ES (mu_w=4.5,w_1=34%) in dimension 50 (seed=868020, Mon Apr 13 14:55:55 2020)\n",
      "Iterat #Fevals   function value  axis ratio  sigma  min&max std  t[m:s]\n",
      "    1     15 7.741354481997726e+03 1.0e+00 2.54e-01  3e-01  3e-01 0:00.0\n",
      "    2     30 7.741267504132840e+03 1.0e+00 2.49e-01  2e-01  3e-01 0:00.0\n",
      "    3     45 7.741258450886658e+03 1.1e+00 2.50e-01  2e-01  3e-01 0:00.1\n"
     ]
    },
    {
     "name": "stderr",
     "output_type": "stream",
     "text": [
      "/usr/local/lib/python3.6/dist-packages/cma/utilities/utils.py:333: UserWarning: function_values is not a list of scalars,\n",
      "                        the first element equals [7741.354482] with non-scalar type <class 'numpy.ndarray'>.\n",
      "                        Using now ``[v[0] for v in function_values]`` instead (further warnings are suppressed) ()\n",
      "  ')')\n",
      "/usr/local/lib/python3.6/dist-packages/cma/utilities/utils.py:333: UserWarning: function_values is not a list of scalars,\n",
      "                        the first element equals [7742.18620413] with non-scalar type <class 'numpy.ndarray'>.\n",
      "                        Using now ``[v[0] for v in function_values]`` instead (further warnings are suppressed) ()\n",
      "  ')')\n"
     ]
    },
    {
     "name": "stdout",
     "output_type": "stream",
     "text": [
      "  100   1500 3.558360255844836e+03 1.5e+00 4.42e-02  4e-02  4e-02 0:01.9\n",
      "  200   3000 3.161281936947767e+03 1.6e+00 2.91e-03  3e-03  3e-03 0:03.8\n",
      "  300   4500 3.160079377831384e+03 1.6e+00 1.49e-04  1e-04  1e-04 0:05.6\n",
      "  400   6000 3.160076292852255e+03 1.6e+00 1.05e-05  9e-06  1e-05 0:07.5\n",
      "  500   7500 3.160076282204095e+03 1.6e+00 6.41e-07  5e-07  6e-07 0:09.4\n",
      "  600   9000 3.160076282154626e+03 1.6e+00 3.96e-08  3e-08  3e-08 0:11.3\n",
      "  700  10500 3.160076282154423e+03 1.7e+00 3.46e-09  2e-09  3e-09 0:13.2\n",
      "  764  11460 3.160076282154424e+03 1.7e+00 1.79e-09  1e-09  2e-09 0:14.4\n",
      "termination on tolfun=1e-11 (Mon Apr 13 14:56:12 2020)\n",
      "final/bestever f-value = 3.160076e+03 3.160076e+03\n",
      "incumbent solution: [-0.03729193  0.16792746 -0.24733189  0.21473333  0.14182239 -0.02816851\n",
      " -0.12247466  0.07988005 ...]\n",
      "std deviations: [1.34244221e-09 1.28860350e-09 1.34801743e-09 1.32156320e-09\n",
      " 1.44207022e-09 1.42244799e-09 1.40172544e-09 1.37224929e-09 ...]\n",
      "(7_w,15)-aCMA-ES (mu_w=4.5,w_1=34%) in dimension 50 (seed=866876, Mon Apr 13 14:56:12 2020)\n",
      "Iterat #Fevals   function value  axis ratio  sigma  min&max std  t[m:s]\n",
      "    1     15 7.748048691697390e+03 1.0e+00 2.55e-01  3e-01  3e-01 0:00.0\n",
      "    2     30 7.748048691624049e+03 1.0e+00 2.44e-01  2e-01  2e-01 0:00.0\n",
      "    3     45 7.748048665383908e+03 1.0e+00 2.37e-01  2e-01  2e-01 0:00.0\n"
     ]
    },
    {
     "name": "stderr",
     "output_type": "stream",
     "text": [
      "/usr/local/lib/python3.6/dist-packages/cma/utilities/utils.py:333: UserWarning: function_values is not a list of scalars,\n",
      "                        the first element equals [7748.0486917] with non-scalar type <class 'numpy.ndarray'>.\n",
      "                        Using now ``[v[0] for v in function_values]`` instead (further warnings are suppressed) ()\n",
      "  ')')\n",
      "/usr/local/lib/python3.6/dist-packages/cma/utilities/utils.py:333: UserWarning: function_values is not a list of scalars,\n",
      "                        the first element equals [7748.04869187] with non-scalar type <class 'numpy.ndarray'>.\n",
      "                        Using now ``[v[0] for v in function_values]`` instead (further warnings are suppressed) ()\n",
      "  ')')\n"
     ]
    },
    {
     "name": "stdout",
     "output_type": "stream",
     "text": [
      "  100   1500 7.539434703115675e+03 1.4e+00 2.54e-02  2e-02  3e-02 0:01.4\n",
      "  200   3000 7.521046733967814e+03 1.4e+00 1.51e-03  1e-03  1e-03 0:02.7\n",
      "  300   4500 7.520999007456280e+03 1.5e+00 9.41e-05  8e-05  9e-05 0:04.0\n",
      "  400   6000 7.520998835817385e+03 1.5e+00 5.11e-06  4e-06  5e-06 0:05.3\n",
      "  500   7500 7.520998835380606e+03 1.6e+00 2.74e-07  2e-07  2e-07 0:06.7\n",
      "  600   9000 7.520998835379252e+03 1.6e+00 1.47e-08  1e-08  1e-08 0:08.0\n",
      "  693  10395 7.520998835379250e+03 1.7e+00 4.11e-09  3e-09  4e-09 0:09.2\n",
      "termination on tolfun=1e-11 (Mon Apr 13 14:56:23 2020)\n",
      "final/bestever f-value = 7.520999e+03 7.520999e+03\n",
      "incumbent solution: [ 0.11265064 -0.10734742 -0.69750375  0.57997494 -0.14992857 -0.2490308\n",
      " -0.08436446 -0.19902019 ...]\n",
      "std deviations: [3.23443510e-09 3.16485572e-09 3.43543648e-09 3.20808196e-09\n",
      " 3.25263471e-09 3.56431185e-09 3.14020763e-09 3.36189456e-09 ...]\n",
      "(7_w,15)-aCMA-ES (mu_w=4.5,w_1=34%) in dimension 50 (seed=880430, Mon Apr 13 14:56:23 2020)\n",
      "Iterat #Fevals   function value  axis ratio  sigma  min&max std  t[m:s]\n",
      "    1     15 8.831984413496393e+03 1.0e+00 2.53e-01  3e-01  3e-01 0:00.0\n",
      "    2     30 8.156804565994923e+03 1.0e+00 2.45e-01  2e-01  2e-01 0:00.0\n",
      "    3     45 7.804014822734491e+03 1.0e+00 2.41e-01  2e-01  2e-01 0:00.0\n"
     ]
    },
    {
     "name": "stderr",
     "output_type": "stream",
     "text": [
      "/usr/local/lib/python3.6/dist-packages/cma/utilities/utils.py:333: UserWarning: function_values is not a list of scalars,\n",
      "                        the first element equals [10118.92859499] with non-scalar type <class 'numpy.ndarray'>.\n",
      "                        Using now ``[v[0] for v in function_values]`` instead (further warnings are suppressed) ()\n",
      "  ')')\n",
      "/usr/local/lib/python3.6/dist-packages/cma/utilities/utils.py:333: UserWarning: function_values is not a list of scalars,\n",
      "                        the first element equals [8806.75931667] with non-scalar type <class 'numpy.ndarray'>.\n",
      "                        Using now ``[v[0] for v in function_values]`` instead (further warnings are suppressed) ()\n",
      "  ')')\n"
     ]
    },
    {
     "name": "stdout",
     "output_type": "stream",
     "text": [
      "  100   1500 -7.532253609655193e+08 1.5e+00 1.15e+02  1e+02  1e+02 0:01.8\n",
      "  111   1665 -4.215774378813682e+09 1.5e+00 2.76e+02  3e+02  3e+02 0:02.0\n",
      "termination on tolfacupx=1000.0 (Mon Apr 13 14:56:25 2020)\n",
      "final/bestever f-value = -4.064279e+09 -4.215774e+09\n",
      "incumbent solution: [ 139.59611288 1160.56751805 -928.36615176 -115.93664291  233.31690686\n",
      " -678.81113116 -572.53170184 -263.12358862 ...]\n",
      "std deviations: [263.26041571 262.35177115 277.13818958 268.22227972 266.40044269\n",
      " 270.90214504 258.53894797 267.93581421 ...]\n",
      "Run : 18\n",
      "(7_w,15)-aCMA-ES (mu_w=4.5,w_1=34%) in dimension 50 (seed=834974, Mon Apr 13 14:56:26 2020)\n",
      "Iterat #Fevals   function value  axis ratio  sigma  min&max std  t[m:s]\n",
      "    1     15 7.741149962038848e+03 1.0e+00 2.56e-01  3e-01  3e-01 0:00.0\n",
      "    2     30 7.741006673262305e+03 1.0e+00 2.48e-01  2e-01  2e-01 0:00.0\n",
      "    3     45 7.739217771875367e+03 1.1e+00 2.44e-01  2e-01  2e-01 0:00.1\n"
     ]
    },
    {
     "name": "stderr",
     "output_type": "stream",
     "text": [
      "/usr/local/lib/python3.6/dist-packages/cma/utilities/utils.py:333: UserWarning: function_values is not a list of scalars,\n",
      "                        the first element equals [7741.65217671] with non-scalar type <class 'numpy.ndarray'>.\n",
      "                        Using now ``[v[0] for v in function_values]`` instead (further warnings are suppressed) ()\n",
      "  ')')\n",
      "/usr/local/lib/python3.6/dist-packages/cma/utilities/utils.py:333: UserWarning: function_values is not a list of scalars,\n",
      "                        the first element equals [7741.28369821] with non-scalar type <class 'numpy.ndarray'>.\n",
      "                        Using now ``[v[0] for v in function_values]`` instead (further warnings are suppressed) ()\n",
      "  ')')\n"
     ]
    },
    {
     "name": "stdout",
     "output_type": "stream",
     "text": [
      "  100   1500 3.300640571736032e+03 1.4e+00 2.89e-02  3e-02  3e-02 0:01.9\n",
      "  200   3000 3.160509888455123e+03 1.5e+00 1.97e-03  2e-03  2e-03 0:03.7\n",
      "  300   4500 3.160079156476730e+03 1.5e+00 1.39e-04  1e-04  1e-04 0:05.6\n",
      "  400   6000 3.160076293063166e+03 1.6e+00 8.45e-06  7e-06  8e-06 0:07.5\n",
      "  500   7500 3.160076282193318e+03 1.6e+00 5.57e-07  4e-07  5e-07 0:09.4\n",
      "  600   9000 3.160076282154567e+03 1.6e+00 3.89e-08  3e-08  3e-08 0:11.3\n",
      "  700  10500 3.160076282154425e+03 1.7e+00 3.99e-09  3e-09  3e-09 0:13.2\n",
      "  774  11610 3.160076282154424e+03 1.8e+00 2.59e-09  2e-09  2e-09 0:14.5\n",
      "termination on tolfun=1e-11 (Mon Apr 13 14:56:42 2020)\n",
      "final/bestever f-value = 3.160076e+03 3.160076e+03\n",
      "incumbent solution: [-0.03729192  0.16792745 -0.24733188  0.21473333  0.1418224  -0.02816852\n",
      " -0.12247467  0.07988004 ...]\n",
      "std deviations: [2.07461744e-09 2.04981053e-09 1.96867635e-09 1.91194318e-09\n",
      " 1.93998568e-09 2.09181618e-09 1.94223050e-09 2.11399863e-09 ...]\n",
      "(7_w,15)-aCMA-ES (mu_w=4.5,w_1=34%) in dimension 50 (seed=824600, Mon Apr 13 14:56:43 2020)\n",
      "Iterat #Fevals   function value  axis ratio  sigma  min&max std  t[m:s]\n",
      "    1     15 7.748048690636710e+03 1.0e+00 2.54e-01  3e-01  3e-01 0:00.0\n",
      "    2     30 7.748048688703500e+03 1.0e+00 2.42e-01  2e-01  2e-01 0:00.0\n",
      "    3     45 7.748048679049303e+03 1.1e+00 2.36e-01  2e-01  2e-01 0:00.0\n"
     ]
    },
    {
     "name": "stderr",
     "output_type": "stream",
     "text": [
      "/usr/local/lib/python3.6/dist-packages/cma/utilities/utils.py:333: UserWarning: function_values is not a list of scalars,\n",
      "                        the first element equals [7748.04869204] with non-scalar type <class 'numpy.ndarray'>.\n",
      "                        Using now ``[v[0] for v in function_values]`` instead (further warnings are suppressed) ()\n",
      "  ')')\n",
      "/usr/local/lib/python3.6/dist-packages/cma/utilities/utils.py:333: UserWarning: function_values is not a list of scalars,\n",
      "                        the first element equals [7748.04869203] with non-scalar type <class 'numpy.ndarray'>.\n",
      "                        Using now ``[v[0] for v in function_values]`` instead (further warnings are suppressed) ()\n",
      "  ')')\n"
     ]
    },
    {
     "name": "stdout",
     "output_type": "stream",
     "text": [
      "  100   1500 7.396150525091196e+03 1.4e+00 1.94e-02  2e-02  2e-02 0:01.3\n",
      "  200   3000 7.381616721786731e+03 1.5e+00 1.53e-03  1e-03  1e-03 0:02.7\n",
      "  300   4500 7.381541536202806e+03 1.5e+00 1.20e-04  1e-04  1e-04 0:04.0\n",
      "  400   6000 7.381541138122147e+03 1.5e+00 5.91e-06  5e-06  5e-06 0:05.3\n",
      "  500   7500 7.381541136799394e+03 1.6e+00 4.44e-07  3e-07  4e-07 0:06.6\n",
      "  600   9000 7.381541136794698e+03 1.6e+00 2.33e-08  2e-08  2e-08 0:07.9\n",
      "  700  10500 7.381541136794686e+03 1.7e+00 3.89e-09  3e-09  3e-09 0:09.3\n",
      "  717  10755 7.381541136794686e+03 1.8e+00 3.72e-09  3e-09  3e-09 0:09.5\n",
      "termination on tolfun=1e-11 (Mon Apr 13 14:56:54 2020)\n",
      "final/bestever f-value = 7.381541e+03 7.381541e+03\n",
      "incumbent solution: [-0.26419412  0.02924217 -0.17928448  0.47214778 -0.0852867  -0.1709677\n",
      " -0.05479283 -0.08017185 ...]\n",
      "std deviations: [2.75745988e-09 2.86456927e-09 2.83115550e-09 2.91982425e-09\n",
      " 2.88590506e-09 3.07084172e-09 2.96749723e-09 3.06090299e-09 ...]\n",
      "(7_w,15)-aCMA-ES (mu_w=4.5,w_1=34%) in dimension 50 (seed=877415, Mon Apr 13 14:56:54 2020)\n",
      "Iterat #Fevals   function value  axis ratio  sigma  min&max std  t[m:s]\n",
      "    1     15 8.536832619595540e+03 1.0e+00 2.54e-01  3e-01  3e-01 0:00.0\n",
      "    2     30 8.260284824967799e+03 1.0e+00 2.45e-01  2e-01  2e-01 0:00.0\n",
      "    3     45 7.964112345792557e+03 1.0e+00 2.38e-01  2e-01  2e-01 0:00.1\n"
     ]
    },
    {
     "name": "stderr",
     "output_type": "stream",
     "text": [
      "/usr/local/lib/python3.6/dist-packages/cma/utilities/utils.py:333: UserWarning: function_values is not a list of scalars,\n",
      "                        the first element equals [9282.50749257] with non-scalar type <class 'numpy.ndarray'>.\n",
      "                        Using now ``[v[0] for v in function_values]`` instead (further warnings are suppressed) ()\n",
      "  ')')\n",
      "/usr/local/lib/python3.6/dist-packages/cma/utilities/utils.py:333: UserWarning: function_values is not a list of scalars,\n",
      "                        the first element equals [8260.28482497] with non-scalar type <class 'numpy.ndarray'>.\n",
      "                        Using now ``[v[0] for v in function_values]`` instead (further warnings are suppressed) ()\n",
      "  ')')\n"
     ]
    },
    {
     "name": "stdout",
     "output_type": "stream",
     "text": [
      "  100   1500 -2.362899040138456e+08 1.7e+00 6.09e+01  6e+01  6e+01 0:01.8\n",
      "  119   1785 -4.754435110588173e+09 1.7e+00 2.65e+02  2e+02  3e+02 0:02.2\n",
      "termination on tolfacupx=1000.0 (Mon Apr 13 14:56:57 2020)\n",
      "final/bestever f-value = -4.757725e+09 -4.757725e+09\n",
      "incumbent solution: [ -78.2739774   668.34347226   10.31969881 -744.70053931  568.73753825\n",
      " -905.49021075  196.1681201   111.85964635 ...]\n",
      "std deviations: [252.29788903 254.82558308 256.09723094 256.92812206 258.40996844\n",
      " 254.213965   254.2816469  263.90751672 ...]\n",
      "Run : 19\n",
      "(7_w,15)-aCMA-ES (mu_w=4.5,w_1=34%) in dimension 50 (seed=840291, Mon Apr 13 14:56:57 2020)\n",
      "Iterat #Fevals   function value  axis ratio  sigma  min&max std  t[m:s]\n",
      "    1     15 7.741537314754989e+03 1.0e+00 2.56e-01  3e-01  3e-01 0:00.0\n",
      "    2     30 7.741373058008256e+03 1.1e+00 2.50e-01  2e-01  3e-01 0:00.0\n",
      "    3     45 7.741276350532995e+03 1.1e+00 2.48e-01  2e-01  2e-01 0:00.1\n"
     ]
    },
    {
     "name": "stderr",
     "output_type": "stream",
     "text": [
      "/usr/local/lib/python3.6/dist-packages/cma/utilities/utils.py:333: UserWarning: function_values is not a list of scalars,\n",
      "                        the first element equals [7743.67910176] with non-scalar type <class 'numpy.ndarray'>.\n",
      "                        Using now ``[v[0] for v in function_values]`` instead (further warnings are suppressed) ()\n",
      "  ')')\n",
      "/usr/local/lib/python3.6/dist-packages/cma/utilities/utils.py:333: UserWarning: function_values is not a list of scalars,\n",
      "                        the first element equals [7742.38485318] with non-scalar type <class 'numpy.ndarray'>.\n",
      "                        Using now ``[v[0] for v in function_values]`` instead (further warnings are suppressed) ()\n",
      "  ')')\n"
     ]
    },
    {
     "name": "stdout",
     "output_type": "stream",
     "text": [
      "  100   1500 4.481310230781828e+03 1.6e+00 9.54e-02  9e-02  1e-01 0:01.9\n",
      "  200   3000 3.164043242449704e+03 1.6e+00 5.05e-03  5e-03  5e-03 0:03.7\n",
      "  300   4500 3.160092672979526e+03 1.7e+00 3.19e-04  3e-04  3e-04 0:05.6\n",
      "  400   6000 3.160076325794429e+03 1.7e+00 1.85e-05  2e-05  2e-05 0:07.5\n",
      "  500   7500 3.160076282286138e+03 1.7e+00 1.06e-06  8e-07  1e-06 0:09.3\n",
      "  600   9000 3.160076282154978e+03 1.7e+00 8.05e-08  6e-08  7e-08 0:11.2\n",
      "  700  10500 3.160076282154430e+03 1.8e+00 6.75e-09  5e-09  6e-09 0:13.1\n",
      "  800  12000 3.160076282154423e+03 1.8e+00 1.50e-09  1e-09  1e-09 0:14.9\n",
      "  802  12030 3.160076282154424e+03 1.8e+00 1.52e-09  1e-09  1e-09 0:15.0\n",
      "termination on tolfun=1e-11 (Mon Apr 13 14:57:14 2020)\n",
      "final/bestever f-value = 3.160076e+03 3.160076e+03\n",
      "incumbent solution: [-0.03729192  0.16792746 -0.24733188  0.21473332  0.1418224  -0.02816851\n",
      " -0.12247467  0.07988005 ...]\n",
      "std deviations: [1.10697300e-09 1.10454616e-09 1.21193928e-09 1.15094220e-09\n",
      " 1.09135783e-09 1.25326766e-09 1.15674329e-09 1.21964312e-09 ...]\n",
      "(7_w,15)-aCMA-ES (mu_w=4.5,w_1=34%) in dimension 50 (seed=985589, Mon Apr 13 14:57:14 2020)\n",
      "Iterat #Fevals   function value  axis ratio  sigma  min&max std  t[m:s]\n",
      "    1     15 7.748048677003145e+03 1.0e+00 2.57e-01  3e-01  3e-01 0:00.0\n",
      "    2     30 7.748048685922950e+03 1.0e+00 2.47e-01  2e-01  2e-01 0:00.0\n",
      "    3     45 7.748048689298289e+03 1.1e+00 2.40e-01  2e-01  2e-01 0:00.0\n"
     ]
    },
    {
     "name": "stderr",
     "output_type": "stream",
     "text": [
      "/usr/local/lib/python3.6/dist-packages/cma/utilities/utils.py:333: UserWarning: function_values is not a list of scalars,\n",
      "                        the first element equals [7748.04869209] with non-scalar type <class 'numpy.ndarray'>.\n",
      "                        Using now ``[v[0] for v in function_values]`` instead (further warnings are suppressed) ()\n",
      "  ')')\n",
      "/usr/local/lib/python3.6/dist-packages/cma/utilities/utils.py:333: UserWarning: function_values is not a list of scalars,\n",
      "                        the first element equals [7748.04869192] with non-scalar type <class 'numpy.ndarray'>.\n",
      "                        Using now ``[v[0] for v in function_values]`` instead (further warnings are suppressed) ()\n",
      "  ')')\n"
     ]
    },
    {
     "name": "stdout",
     "output_type": "stream",
     "text": [
      "  100   1500 7.469229256297598e+03 1.3e+00 2.30e-02  2e-02  2e-02 0:01.3\n",
      "  200   3000 7.452519337791227e+03 1.4e+00 1.46e-03  1e-03  1e-03 0:02.6\n",
      "  300   4500 7.452450477472409e+03 1.4e+00 9.13e-05  8e-05  9e-05 0:04.0\n",
      "  400   6000 7.452450254811230e+03 1.5e+00 5.51e-06  4e-06  5e-06 0:05.3\n",
      "  500   7500 7.452450254210108e+03 1.5e+00 2.83e-07  2e-07  3e-07 0:06.6\n",
      "  600   9000 7.452450254208146e+03 1.5e+00 1.71e-08  1e-08  2e-08 0:08.0\n",
      "  698  10470 7.452450254208140e+03 1.7e+00 4.25e-09  3e-09  4e-09 0:09.3\n",
      "termination on tolfun=1e-11 (Mon Apr 13 14:57:26 2020)\n",
      "final/bestever f-value = 7.452450e+03 7.452450e+03\n",
      "incumbent solution: [ 0.23796511 -0.4215181  -0.30045163  0.01802127  0.19291308 -0.04983127\n",
      " -0.73366667 -0.14218703 ...]\n",
      "std deviations: [3.39845460e-09 3.22466032e-09 3.26278684e-09 3.31239814e-09\n",
      " 3.25828601e-09 3.68681308e-09 3.58092658e-09 3.40303708e-09 ...]\n",
      "(7_w,15)-aCMA-ES (mu_w=4.5,w_1=34%) in dimension 50 (seed=924618, Mon Apr 13 14:57:26 2020)\n",
      "Iterat #Fevals   function value  axis ratio  sigma  min&max std  t[m:s]\n",
      "    1     15 8.976710690562642e+03 1.0e+00 2.54e-01  3e-01  3e-01 0:00.0\n",
      "    2     30 8.886167454711654e+03 1.0e+00 2.46e-01  2e-01  2e-01 0:00.0\n",
      "    3     45 8.492457496853149e+03 1.1e+00 2.40e-01  2e-01  2e-01 0:00.0\n"
     ]
    },
    {
     "name": "stderr",
     "output_type": "stream",
     "text": [
      "/usr/local/lib/python3.6/dist-packages/cma/utilities/utils.py:333: UserWarning: function_values is not a list of scalars,\n",
      "                        the first element equals [9241.2595804] with non-scalar type <class 'numpy.ndarray'>.\n",
      "                        Using now ``[v[0] for v in function_values]`` instead (further warnings are suppressed) ()\n",
      "  ')')\n",
      "/usr/local/lib/python3.6/dist-packages/cma/utilities/utils.py:333: UserWarning: function_values is not a list of scalars,\n",
      "                        the first element equals [9293.18612684] with non-scalar type <class 'numpy.ndarray'>.\n",
      "                        Using now ``[v[0] for v in function_values]`` instead (further warnings are suppressed) ()\n",
      "  ')')\n"
     ]
    },
    {
     "name": "stdout",
     "output_type": "stream",
     "text": [
      "  100   1500 -5.770518345237849e+08 1.5e+00 1.02e+02  1e+02  1e+02 0:01.8\n",
      "  115   1725 -3.716684318712691e+09 1.5e+00 2.75e+02  3e+02  3e+02 0:02.1\n",
      "termination on tolfacupx=1000.0 (Mon Apr 13 14:57:28 2020)\n",
      "final/bestever f-value = -3.783645e+09 -3.891666e+09\n",
      "incumbent solution: [ 701.27126691  563.31747972  168.62977933  388.29967651 -151.61166755\n",
      " -927.81889215 -146.12003125 -190.92857186 ...]\n",
      "std deviations: [264.97489436 265.6368653  264.42366293 269.87377326 265.48918257\n",
      " 259.39925853 270.57841527 270.88663632 ...]\n",
      "Run : 20\n",
      "(7_w,15)-aCMA-ES (mu_w=4.5,w_1=34%) in dimension 50 (seed=816763, Mon Apr 13 14:57:29 2020)\n",
      "Iterat #Fevals   function value  axis ratio  sigma  min&max std  t[m:s]\n",
      "    1     15 7.741299600157323e+03 1.0e+00 2.56e-01  3e-01  3e-01 0:00.0\n",
      "    2     30 7.741262316510624e+03 1.0e+00 2.49e-01  2e-01  3e-01 0:00.0\n",
      "    3     45 7.741259388306824e+03 1.1e+00 2.46e-01  2e-01  2e-01 0:00.1\n"
     ]
    },
    {
     "name": "stderr",
     "output_type": "stream",
     "text": [
      "/usr/local/lib/python3.6/dist-packages/cma/utilities/utils.py:333: UserWarning: function_values is not a list of scalars,\n",
      "                        the first element equals [7741.71348886] with non-scalar type <class 'numpy.ndarray'>.\n",
      "                        Using now ``[v[0] for v in function_values]`` instead (further warnings are suppressed) ()\n",
      "  ')')\n",
      "/usr/local/lib/python3.6/dist-packages/cma/utilities/utils.py:333: UserWarning: function_values is not a list of scalars,\n",
      "                        the first element equals [7741.29517394] with non-scalar type <class 'numpy.ndarray'>.\n",
      "                        Using now ``[v[0] for v in function_values]`` instead (further warnings are suppressed) ()\n",
      "  ')')\n"
     ]
    },
    {
     "name": "stdout",
     "output_type": "stream",
     "text": [
      "  100   1500 4.223846248398915e+03 1.6e+00 8.27e-02  8e-02  8e-02 0:01.9\n",
      "  200   3000 3.163970177092577e+03 1.6e+00 4.93e-03  4e-03  5e-03 0:03.8\n",
      "  300   4500 3.160086452495317e+03 1.6e+00 2.78e-04  2e-04  3e-04 0:05.6\n",
      "  400   6000 3.160076322262766e+03 1.6e+00 2.06e-05  2e-05  2e-05 0:07.5\n",
      "  500   7500 3.160076282363581e+03 1.7e+00 1.22e-06  1e-06  1e-06 0:09.3\n",
      "  600   9000 3.160076282155300e+03 1.7e+00 8.76e-08  7e-08  8e-08 0:11.2\n",
      "  700  10500 3.160076282154427e+03 1.7e+00 5.73e-09  4e-09  5e-09 0:13.1\n",
      "  789  11835 3.160076282154423e+03 1.8e+00 1.90e-09  1e-09  2e-09 0:14.7\n",
      "termination on tolfun=1e-11 (Mon Apr 13 14:57:46 2020)\n",
      "final/bestever f-value = 3.160076e+03 3.160076e+03\n",
      "incumbent solution: [-0.03729192  0.16792746 -0.24733189  0.21473332  0.1418224  -0.02816851\n",
      " -0.12247467  0.07988004 ...]\n",
      "std deviations: [1.47177188e-09 1.41477874e-09 1.45312839e-09 1.47286246e-09\n",
      " 1.39802801e-09 1.51390808e-09 1.46912185e-09 1.43546407e-09 ...]\n",
      "(7_w,15)-aCMA-ES (mu_w=4.5,w_1=34%) in dimension 50 (seed=849787, Mon Apr 13 14:57:46 2020)\n",
      "Iterat #Fevals   function value  axis ratio  sigma  min&max std  t[m:s]\n",
      "    1     15 7.748048692017738e+03 1.0e+00 2.53e-01  3e-01  3e-01 0:00.0\n",
      "    2     30 7.748048691991472e+03 1.0e+00 2.46e-01  2e-01  2e-01 0:00.0\n",
      "    3     45 7.748048691974818e+03 1.1e+00 2.38e-01  2e-01  2e-01 0:00.0\n"
     ]
    },
    {
     "name": "stderr",
     "output_type": "stream",
     "text": [
      "/usr/local/lib/python3.6/dist-packages/cma/utilities/utils.py:333: UserWarning: function_values is not a list of scalars,\n",
      "                        the first element equals [7748.04869204] with non-scalar type <class 'numpy.ndarray'>.\n",
      "                        Using now ``[v[0] for v in function_values]`` instead (further warnings are suppressed) ()\n",
      "  ')')\n",
      "/usr/local/lib/python3.6/dist-packages/cma/utilities/utils.py:333: UserWarning: function_values is not a list of scalars,\n",
      "                        the first element equals [7748.04869204] with non-scalar type <class 'numpy.ndarray'>.\n",
      "                        Using now ``[v[0] for v in function_values]`` instead (further warnings are suppressed) ()\n",
      "  ')')\n"
     ]
    },
    {
     "name": "stdout",
     "output_type": "stream",
     "text": [
      "  100   1500 7.605900031057123e+03 1.4e+00 2.37e-02  2e-02  2e-02 0:01.3\n",
      "  200   3000 7.596055042356934e+03 1.5e+00 1.80e-03  2e-03  2e-03 0:02.6\n",
      "  300   4500 7.596003258385438e+03 1.5e+00 1.09e-04  9e-05  1e-04 0:03.9\n",
      "  400   6000 7.596003130877678e+03 1.5e+00 6.47e-06  5e-06  6e-06 0:05.3\n",
      "  500   7500 7.596003130226060e+03 1.5e+00 3.49e-07  3e-07  3e-07 0:06.6\n",
      "  600   9000 7.596003130224890e+03 1.6e+00 1.98e-08  2e-08  2e-08 0:07.9\n",
      "  695  10425 7.596003130224886e+03 1.6e+00 5.23e-09  4e-09  5e-09 0:09.2\n",
      "termination on tolfun=1e-11 (Mon Apr 13 14:57:57 2020)\n",
      "final/bestever f-value = 7.596003e+03 7.596003e+03\n",
      "incumbent solution: [ 0.41646837  0.39738203 -0.13325649  0.44492618  0.40504919  0.4552531\n",
      "  0.11623364  0.06015168 ...]\n",
      "std deviations: [4.00495887e-09 4.08184958e-09 4.24124072e-09 4.10626682e-09\n",
      " 4.07790423e-09 4.51099949e-09 4.09508717e-09 3.95995635e-09 ...]\n",
      "(7_w,15)-aCMA-ES (mu_w=4.5,w_1=34%) in dimension 50 (seed=853084, Mon Apr 13 14:57:57 2020)\n",
      "Iterat #Fevals   function value  axis ratio  sigma  min&max std  t[m:s]\n",
      "    1     15 8.976875251003446e+03 1.0e+00 2.57e-01  3e-01  3e-01 0:00.0\n",
      "    2     30 9.017791301430188e+03 1.0e+00 2.48e-01  2e-01  2e-01 0:00.0\n",
      "    3     45 8.360086978696369e+03 1.1e+00 2.47e-01  2e-01  2e-01 0:00.0\n"
     ]
    },
    {
     "name": "stderr",
     "output_type": "stream",
     "text": [
      "/usr/local/lib/python3.6/dist-packages/cma/utilities/utils.py:333: UserWarning: function_values is not a list of scalars,\n",
      "                        the first element equals [9209.96220256] with non-scalar type <class 'numpy.ndarray'>.\n",
      "                        Using now ``[v[0] for v in function_values]`` instead (further warnings are suppressed) ()\n",
      "  ')')\n",
      "/usr/local/lib/python3.6/dist-packages/cma/utilities/utils.py:333: UserWarning: function_values is not a list of scalars,\n",
      "                        the first element equals [9477.026969] with non-scalar type <class 'numpy.ndarray'>.\n",
      "                        Using now ``[v[0] for v in function_values]`` instead (further warnings are suppressed) ()\n",
      "  ')')\n"
     ]
    },
    {
     "name": "stdout",
     "output_type": "stream",
     "text": [
      "  100   1500 -7.124596564368324e+08 1.5e+00 1.25e+02  1e+02  1e+02 0:01.8\n",
      "  110   1650 -4.222072740914575e+09 1.5e+00 2.75e+02  3e+02  3e+02 0:02.0\n",
      "termination on tolfacupx=1000.0 (Mon Apr 13 14:57:59 2020)\n",
      "final/bestever f-value = -3.586938e+09 -4.222073e+09\n",
      "incumbent solution: [ 475.84431022  -52.65601108 -463.9181457  -483.87457662  245.02108823\n",
      " -991.00905974 -232.10277842  -45.91449911 ...]\n",
      "std deviations: [265.24155359 265.54253916 264.97764718 266.89420935 267.39256065\n",
      " 267.74599227 265.23453155 268.01656209 ...]\n",
      "Run : 21\n",
      "(7_w,15)-aCMA-ES (mu_w=4.5,w_1=34%) in dimension 50 (seed=860423, Mon Apr 13 14:58:00 2020)\n",
      "Iterat #Fevals   function value  axis ratio  sigma  min&max std  t[m:s]\n",
      "    1     15 7.741136132390513e+03 1.0e+00 2.55e-01  3e-01  3e-01 0:00.0\n",
      "    2     30 7.741083600585886e+03 1.0e+00 2.49e-01  2e-01  3e-01 0:00.0\n",
      "    3     45 7.740718390590109e+03 1.1e+00 2.43e-01  2e-01  2e-01 0:00.1\n"
     ]
    },
    {
     "name": "stderr",
     "output_type": "stream",
     "text": [
      "/usr/local/lib/python3.6/dist-packages/cma/utilities/utils.py:333: UserWarning: function_values is not a list of scalars,\n",
      "                        the first element equals [7741.28299139] with non-scalar type <class 'numpy.ndarray'>.\n",
      "                        Using now ``[v[0] for v in function_values]`` instead (further warnings are suppressed) ()\n",
      "  ')')\n",
      "/usr/local/lib/python3.6/dist-packages/cma/utilities/utils.py:333: UserWarning: function_values is not a list of scalars,\n",
      "                        the first element equals [7741.24917286] with non-scalar type <class 'numpy.ndarray'>.\n",
      "                        Using now ``[v[0] for v in function_values]`` instead (further warnings are suppressed) ()\n",
      "  ')')\n"
     ]
    },
    {
     "name": "stdout",
     "output_type": "stream",
     "text": [
      "  100   1500 3.359959327302319e+03 1.5e+00 3.45e-02  3e-02  3e-02 0:01.9\n",
      "  200   3000 3.160518710977747e+03 1.5e+00 1.79e-03  2e-03  2e-03 0:03.7\n",
      "  300   4500 3.160077382489178e+03 1.5e+00 9.78e-05  8e-05  9e-05 0:05.6\n",
      "  400   6000 3.160076285518056e+03 1.5e+00 6.36e-06  5e-06  6e-06 0:07.5\n",
      "  500   7500 3.160076282171937e+03 1.6e+00 3.73e-07  3e-07  3e-07 0:09.3\n",
      "  600   9000 3.160076282154486e+03 1.6e+00 2.56e-08  2e-08  2e-08 0:11.1\n",
      "  700  10500 3.160076282154423e+03 1.7e+00 2.75e-09  2e-09  2e-09 0:13.0\n",
      "  744  11160 3.160076282154423e+03 1.8e+00 2.11e-09  2e-09  2e-09 0:13.8\n",
      "termination on tolfun=1e-11 (Mon Apr 13 14:58:16 2020)\n",
      "final/bestever f-value = 3.160076e+03 3.160076e+03\n",
      "incumbent solution: [-0.03729192  0.16792746 -0.24733188  0.21473333  0.14182239 -0.02816852\n",
      " -0.12247467  0.07988005 ...]\n",
      "std deviations: [1.60475098e-09 1.58165670e-09 1.69306768e-09 1.68025080e-09\n",
      " 1.60071324e-09 1.76755996e-09 1.61014101e-09 1.62658050e-09 ...]\n",
      "(7_w,15)-aCMA-ES (mu_w=4.5,w_1=34%) in dimension 50 (seed=918282, Mon Apr 13 14:58:16 2020)\n",
      "Iterat #Fevals   function value  axis ratio  sigma  min&max std  t[m:s]\n",
      "    1     15 7.748048689865434e+03 1.0e+00 2.55e-01  3e-01  3e-01 0:00.0\n",
      "    2     30 7.748048688491944e+03 1.0e+00 2.45e-01  2e-01  2e-01 0:00.0\n",
      "    3     45 7.748048565046915e+03 1.0e+00 2.39e-01  2e-01  2e-01 0:00.0\n"
     ]
    },
    {
     "name": "stderr",
     "output_type": "stream",
     "text": [
      "/usr/local/lib/python3.6/dist-packages/cma/utilities/utils.py:333: UserWarning: function_values is not a list of scalars,\n",
      "                        the first element equals [7748.04868988] with non-scalar type <class 'numpy.ndarray'>.\n",
      "                        Using now ``[v[0] for v in function_values]`` instead (further warnings are suppressed) ()\n",
      "  ')')\n",
      "/usr/local/lib/python3.6/dist-packages/cma/utilities/utils.py:333: UserWarning: function_values is not a list of scalars,\n",
      "                        the first element equals [7748.04869197] with non-scalar type <class 'numpy.ndarray'>.\n",
      "                        Using now ``[v[0] for v in function_values]`` instead (further warnings are suppressed) ()\n",
      "  ')')\n"
     ]
    },
    {
     "name": "stdout",
     "output_type": "stream",
     "text": [
      "  100   1500 7.522996903699632e+03 1.4e+00 2.84e-02  3e-02  3e-02 0:01.3\n",
      "  200   3000 7.506714845248744e+03 1.5e+00 1.40e-03  1e-03  1e-03 0:02.6\n",
      "  300   4500 7.506683827482148e+03 1.5e+00 8.95e-05  8e-05  9e-05 0:03.9\n",
      "  400   6000 7.506683665303352e+03 1.6e+00 6.07e-06  5e-06  6e-06 0:05.3\n",
      "  500   7500 7.506683664723339e+03 1.6e+00 4.53e-07  4e-07  4e-07 0:06.6\n",
      "  600   9000 7.506683664720570e+03 1.6e+00 3.05e-08  2e-08  3e-08 0:07.9\n",
      "  700  10500 7.506683664720558e+03 1.7e+00 4.46e-09  3e-09  4e-09 0:09.2\n",
      "  713  10695 7.506683664720559e+03 1.7e+00 4.03e-09  3e-09  4e-09 0:09.4\n",
      "termination on tolfun=1e-11 (Mon Apr 13 14:58:27 2020)\n",
      "final/bestever f-value = 7.506684e+03 7.506684e+03\n",
      "incumbent solution: [-0.03043295  0.07527818 -0.17371062  0.12669348  0.12777736 -0.06348448\n",
      " -0.05164056  0.00230375 ...]\n",
      "std deviations: [3.13813560e-09 3.00697742e-09 3.17677966e-09 3.26465464e-09\n",
      " 2.95707824e-09 3.21575237e-09 2.99048856e-09 3.20877989e-09 ...]\n",
      "(7_w,15)-aCMA-ES (mu_w=4.5,w_1=34%) in dimension 50 (seed=947869, Mon Apr 13 14:58:27 2020)\n",
      "Iterat #Fevals   function value  axis ratio  sigma  min&max std  t[m:s]\n",
      "    1     15 8.204863403541769e+03 1.0e+00 2.56e-01  3e-01  3e-01 0:00.0\n",
      "    2     30 7.745060545799678e+03 1.0e+00 2.47e-01  2e-01  2e-01 0:00.0\n",
      "    3     45 7.495881634134495e+03 1.1e+00 2.41e-01  2e-01  2e-01 0:00.1\n"
     ]
    },
    {
     "name": "stderr",
     "output_type": "stream",
     "text": [
      "/usr/local/lib/python3.6/dist-packages/cma/utilities/utils.py:333: UserWarning: function_values is not a list of scalars,\n",
      "                        the first element equals [9424.3968885] with non-scalar type <class 'numpy.ndarray'>.\n",
      "                        Using now ``[v[0] for v in function_values]`` instead (further warnings are suppressed) ()\n",
      "  ')')\n",
      "/usr/local/lib/python3.6/dist-packages/cma/utilities/utils.py:333: UserWarning: function_values is not a list of scalars,\n",
      "                        the first element equals [8594.27231305] with non-scalar type <class 'numpy.ndarray'>.\n",
      "                        Using now ``[v[0] for v in function_values]`` instead (further warnings are suppressed) ()\n",
      "  ')')\n"
     ]
    },
    {
     "name": "stdout",
     "output_type": "stream",
     "text": [
      "  100   1500 -9.672863116176468e+08 1.6e+00 1.29e+02  1e+02  1e+02 0:01.8\n",
      "  109   1635 -3.775031642139064e+09 1.6e+00 2.78e+02  3e+02  3e+02 0:02.0\n",
      "termination on tolfacupx=1000.0 (Mon Apr 13 14:58:30 2020)\n",
      "final/bestever f-value = -3.800811e+09 -3.800811e+09\n",
      "incumbent solution: [ 450.76613296 1427.30102379 -466.97379598 -412.56273739  210.53531047\n",
      " -725.2725938  -603.21688454  298.12322683 ...]\n",
      "std deviations: [267.20107125 271.98756883 265.79692949 269.84684125 268.66676813\n",
      " 267.02308616 269.78299007 277.91189759 ...]\n",
      "Run : 22\n",
      "(7_w,15)-aCMA-ES (mu_w=4.5,w_1=34%) in dimension 50 (seed=917997, Mon Apr 13 14:58:30 2020)\n",
      "Iterat #Fevals   function value  axis ratio  sigma  min&max std  t[m:s]\n",
      "    1     15 7.740982380911196e+03 1.0e+00 2.55e-01  3e-01  3e-01 0:00.0\n",
      "    2     30 7.741184780739318e+03 1.0e+00 2.46e-01  2e-01  2e-01 0:00.0\n",
      "    3     45 7.741192994476493e+03 1.1e+00 2.39e-01  2e-01  2e-01 0:00.1\n"
     ]
    },
    {
     "name": "stderr",
     "output_type": "stream",
     "text": [
      "/usr/local/lib/python3.6/dist-packages/cma/utilities/utils.py:333: UserWarning: function_values is not a list of scalars,\n",
      "                        the first element equals [7741.42024248] with non-scalar type <class 'numpy.ndarray'>.\n",
      "                        Using now ``[v[0] for v in function_values]`` instead (further warnings are suppressed) ()\n",
      "  ')')\n",
      "/usr/local/lib/python3.6/dist-packages/cma/utilities/utils.py:333: UserWarning: function_values is not a list of scalars,\n",
      "                        the first element equals [7741.25890857] with non-scalar type <class 'numpy.ndarray'>.\n",
      "                        Using now ``[v[0] for v in function_values]`` instead (further warnings are suppressed) ()\n",
      "  ')')\n"
     ]
    },
    {
     "name": "stdout",
     "output_type": "stream",
     "text": [
      "  100   1500 3.303252750149322e+03 1.5e+00 3.03e-02  3e-02  3e-02 0:01.9\n",
      "  200   3000 3.160382779029749e+03 1.5e+00 1.40e-03  1e-03  1e-03 0:03.8\n",
      "  300   4500 3.160077379019787e+03 1.6e+00 1.02e-04  9e-05  1e-04 0:05.7\n",
      "  400   6000 3.160076285467324e+03 1.6e+00 5.25e-06  4e-06  5e-06 0:07.6\n",
      "  500   7500 3.160076282168079e+03 1.6e+00 3.46e-07  3e-07  3e-07 0:09.4\n",
      "  600   9000 3.160076282154493e+03 1.6e+00 2.39e-08  2e-08  2e-08 0:11.3\n",
      "  700  10500 3.160076282154423e+03 1.7e+00 2.76e-09  2e-09  2e-09 0:13.2\n",
      "  747  11205 3.160076282154424e+03 1.8e+00 1.82e-09  1e-09  2e-09 0:14.0\n",
      "termination on tolfun=1e-11 (Mon Apr 13 14:58:46 2020)\n",
      "final/bestever f-value = 3.160076e+03 3.160076e+03\n",
      "incumbent solution: [-0.03729192  0.16792746 -0.24733189  0.21473332  0.14182239 -0.02816852\n",
      " -0.12247467  0.07988005 ...]\n",
      "std deviations: [1.48570864e-09 1.32078185e-09 1.43540617e-09 1.45657541e-09\n",
      " 1.31932051e-09 1.45502380e-09 1.44679665e-09 1.44208818e-09 ...]\n",
      "(7_w,15)-aCMA-ES (mu_w=4.5,w_1=34%) in dimension 50 (seed=966532, Mon Apr 13 14:58:46 2020)\n",
      "Iterat #Fevals   function value  axis ratio  sigma  min&max std  t[m:s]\n",
      "    1     15 7.748048691464735e+03 1.0e+00 2.55e-01  3e-01  3e-01 0:00.0\n",
      "    2     30 7.748048658150907e+03 1.0e+00 2.46e-01  2e-01  2e-01 0:00.0\n",
      "    3     45 7.748048684079722e+03 1.0e+00 2.42e-01  2e-01  2e-01 0:00.0\n"
     ]
    },
    {
     "name": "stderr",
     "output_type": "stream",
     "text": [
      "/usr/local/lib/python3.6/dist-packages/cma/utilities/utils.py:333: UserWarning: function_values is not a list of scalars,\n",
      "                        the first element equals [7748.04869146] with non-scalar type <class 'numpy.ndarray'>.\n",
      "                        Using now ``[v[0] for v in function_values]`` instead (further warnings are suppressed) ()\n",
      "  ')')\n",
      "/usr/local/lib/python3.6/dist-packages/cma/utilities/utils.py:333: UserWarning: function_values is not a list of scalars,\n",
      "                        the first element equals [7748.04869204] with non-scalar type <class 'numpy.ndarray'>.\n",
      "                        Using now ``[v[0] for v in function_values]`` instead (further warnings are suppressed) ()\n",
      "  ')')\n"
     ]
    },
    {
     "name": "stdout",
     "output_type": "stream",
     "text": [
      "  100   1500 7.519753152874798e+03 1.5e+00 2.61e-02  2e-02  3e-02 0:01.3\n",
      "  200   3000 7.506705111564927e+03 1.5e+00 1.32e-03  1e-03  1e-03 0:02.6\n",
      "  300   4500 7.506683781803836e+03 1.5e+00 7.57e-05  7e-05  7e-05 0:03.9\n",
      "  400   6000 7.506683665383362e+03 1.6e+00 5.51e-06  5e-06  5e-06 0:05.2\n",
      "  500   7500 7.506683664721547e+03 1.6e+00 2.76e-07  2e-07  2e-07 0:06.6\n",
      "  600   9000 7.506683664720562e+03 1.6e+00 1.60e-08  1e-08  1e-08 0:07.9\n",
      "  690  10350 7.506683664720559e+03 1.7e+00 5.08e-09  4e-09  4e-09 0:09.1\n",
      "termination on tolfun=1e-11 (Mon Apr 13 14:58:58 2020)\n",
      "final/bestever f-value = 7.506684e+03 7.506684e+03\n",
      "incumbent solution: [-0.03043294  0.07527816 -0.17371063  0.12669349  0.12777738 -0.06348448\n",
      " -0.05164056  0.00230377 ...]\n",
      "std deviations: [3.83590960e-09 3.83367295e-09 4.21258373e-09 3.97477486e-09\n",
      " 3.97171916e-09 4.15964942e-09 4.19114968e-09 3.99808794e-09 ...]\n",
      "(7_w,15)-aCMA-ES (mu_w=4.5,w_1=34%) in dimension 50 (seed=804792, Mon Apr 13 14:58:58 2020)\n",
      "Iterat #Fevals   function value  axis ratio  sigma  min&max std  t[m:s]\n",
      "    1     15 8.745776319319164e+03 1.0e+00 2.56e-01  3e-01  3e-01 0:00.0\n",
      "    2     30 8.366826293532606e+03 1.0e+00 2.47e-01  2e-01  2e-01 0:00.0\n",
      "    3     45 7.874375296533689e+03 1.1e+00 2.41e-01  2e-01  2e-01 0:00.0\n"
     ]
    },
    {
     "name": "stderr",
     "output_type": "stream",
     "text": [
      "/usr/local/lib/python3.6/dist-packages/cma/utilities/utils.py:333: UserWarning: function_values is not a list of scalars,\n",
      "                        the first element equals [9631.90973083] with non-scalar type <class 'numpy.ndarray'>.\n",
      "                        Using now ``[v[0] for v in function_values]`` instead (further warnings are suppressed) ()\n",
      "  ')')\n",
      "/usr/local/lib/python3.6/dist-packages/cma/utilities/utils.py:333: UserWarning: function_values is not a list of scalars,\n",
      "                        the first element equals [9246.5357039] with non-scalar type <class 'numpy.ndarray'>.\n",
      "                        Using now ``[v[0] for v in function_values]`` instead (further warnings are suppressed) ()\n",
      "  ')')\n"
     ]
    },
    {
     "name": "stdout",
     "output_type": "stream",
     "text": [
      "  100   1500 -2.905537682452810e+08 1.6e+00 6.84e+01  6e+01  7e+01 0:01.8\n",
      "  119   1785 -4.921058100246110e+09 1.6e+00 2.75e+02  3e+02  3e+02 0:02.2\n",
      "termination on tolfacupx=1000.0 (Mon Apr 13 14:59:00 2020)\n",
      "final/bestever f-value = -4.471855e+09 -4.921058e+09\n",
      "incumbent solution: [-1194.11353704  1412.7418277   -316.46854599   536.63907832\n",
      "  -175.94440981   200.19142648   549.14225356  -417.45298905 ...]\n",
      "std deviations: [271.79626746 266.06559792 274.23126069 265.52296733 265.98665749\n",
      " 268.22184271 260.90539135 256.75318802 ...]\n",
      "Run : 23\n",
      "(7_w,15)-aCMA-ES (mu_w=4.5,w_1=34%) in dimension 50 (seed=953275, Mon Apr 13 14:59:00 2020)\n",
      "Iterat #Fevals   function value  axis ratio  sigma  min&max std  t[m:s]\n",
      "    1     15 7.741033486515256e+03 1.0e+00 2.54e-01  3e-01  3e-01 0:00.0\n",
      "    2     30 7.740899112176290e+03 1.0e+00 2.50e-01  2e-01  3e-01 0:00.0\n",
      "    3     45 7.740955679696280e+03 1.1e+00 2.47e-01  2e-01  2e-01 0:00.1\n"
     ]
    },
    {
     "name": "stderr",
     "output_type": "stream",
     "text": [
      "/usr/local/lib/python3.6/dist-packages/cma/utilities/utils.py:333: UserWarning: function_values is not a list of scalars,\n",
      "                        the first element equals [7741.29292346] with non-scalar type <class 'numpy.ndarray'>.\n",
      "                        Using now ``[v[0] for v in function_values]`` instead (further warnings are suppressed) ()\n",
      "  ')')\n",
      "/usr/local/lib/python3.6/dist-packages/cma/utilities/utils.py:333: UserWarning: function_values is not a list of scalars,\n",
      "                        the first element equals [7741.32455773] with non-scalar type <class 'numpy.ndarray'>.\n",
      "                        Using now ``[v[0] for v in function_values]`` instead (further warnings are suppressed) ()\n",
      "  ')')\n"
     ]
    },
    {
     "name": "stdout",
     "output_type": "stream",
     "text": [
      "  100   1500 3.333330431358293e+03 1.4e+00 3.43e-02  3e-02  3e-02 0:01.9\n",
      "  200   3000 3.160540690137841e+03 1.4e+00 1.74e-03  2e-03  2e-03 0:03.8\n",
      "  300   4500 3.160078158285160e+03 1.5e+00 1.19e-04  1e-04  1e-04 0:05.7\n",
      "  400   6000 3.160076293501984e+03 1.6e+00 8.34e-06  7e-06  8e-06 0:07.5\n",
      "  500   7500 3.160076282181481e+03 1.6e+00 5.27e-07  4e-07  5e-07 0:09.4\n",
      "  600   9000 3.160076282154530e+03 1.6e+00 3.02e-08  2e-08  3e-08 0:11.3\n",
      "  700  10500 3.160076282154425e+03 1.7e+00 3.64e-09  3e-09  3e-09 0:13.1\n",
      "  754  11310 3.160076282154423e+03 1.8e+00 2.29e-09  2e-09  2e-09 0:14.1\n",
      "termination on tolfun=1e-11 (Mon Apr 13 14:59:17 2020)\n",
      "final/bestever f-value = 3.160076e+03 3.160076e+03\n",
      "incumbent solution: [-0.03729192  0.16792746 -0.24733188  0.21473332  0.1418224  -0.02816852\n",
      " -0.12247467  0.07988004 ...]\n",
      "std deviations: [1.71551229e-09 1.71450127e-09 1.85107606e-09 1.76162272e-09\n",
      " 1.74762833e-09 1.84509883e-09 1.80795545e-09 1.76893632e-09 ...]\n",
      "(7_w,15)-aCMA-ES (mu_w=4.5,w_1=34%) in dimension 50 (seed=904863, Mon Apr 13 14:59:17 2020)\n",
      "Iterat #Fevals   function value  axis ratio  sigma  min&max std  t[m:s]\n",
      "    1     15 7.748048691995003e+03 1.0e+00 2.54e-01  3e-01  3e-01 0:00.0\n",
      "    2     30 7.748048691807465e+03 1.0e+00 2.44e-01  2e-01  2e-01 0:00.0\n",
      "    3     45 7.748048691707908e+03 1.1e+00 2.38e-01  2e-01  2e-01 0:00.0\n"
     ]
    },
    {
     "name": "stderr",
     "output_type": "stream",
     "text": [
      "/usr/local/lib/python3.6/dist-packages/cma/utilities/utils.py:333: UserWarning: function_values is not a list of scalars,\n",
      "                        the first element equals [7748.04869204] with non-scalar type <class 'numpy.ndarray'>.\n",
      "                        Using now ``[v[0] for v in function_values]`` instead (further warnings are suppressed) ()\n",
      "  ')')\n",
      "/usr/local/lib/python3.6/dist-packages/cma/utilities/utils.py:333: UserWarning: function_values is not a list of scalars,\n",
      "                        the first element equals [7748.04869203] with non-scalar type <class 'numpy.ndarray'>.\n",
      "                        Using now ``[v[0] for v in function_values]`` instead (further warnings are suppressed) ()\n",
      "  ')')\n"
     ]
    },
    {
     "name": "stdout",
     "output_type": "stream",
     "text": [
      "  100   1500 7.532552690924637e+03 1.4e+00 2.46e-02  2e-02  2e-02 0:01.3\n",
      "  200   3000 7.521047480644516e+03 1.5e+00 1.60e-03  1e-03  2e-03 0:02.6\n",
      "  300   4500 7.520999053769034e+03 1.5e+00 1.08e-04  9e-05  1e-04 0:03.9\n",
      "  400   6000 7.520998835875667e+03 1.5e+00 5.62e-06  5e-06  5e-06 0:05.3\n",
      "  500   7500 7.520998835380682e+03 1.6e+00 2.88e-07  2e-07  3e-07 0:06.6\n",
      "  600   9000 7.520998835379253e+03 1.6e+00 1.62e-08  1e-08  1e-08 0:07.9\n",
      "  696  10440 7.520998835379251e+03 1.7e+00 4.30e-09  3e-09  4e-09 0:09.1\n",
      "termination on tolfun=1e-11 (Mon Apr 13 14:59:28 2020)\n",
      "final/bestever f-value = 7.520999e+03 7.520999e+03\n",
      "incumbent solution: [ 0.11265063 -0.10734743 -0.69750375  0.57997495 -0.14992857 -0.24903081\n",
      " -0.08436445 -0.1990202  ...]\n",
      "std deviations: [3.36629222e-09 3.38179109e-09 3.30572894e-09 3.26336348e-09\n",
      " 3.37213539e-09 3.57877049e-09 3.44158347e-09 3.29061708e-09 ...]\n",
      "(7_w,15)-aCMA-ES (mu_w=4.5,w_1=34%) in dimension 50 (seed=910548, Mon Apr 13 14:59:28 2020)\n",
      "Iterat #Fevals   function value  axis ratio  sigma  min&max std  t[m:s]\n",
      "    1     15 8.039873336009623e+03 1.0e+00 2.55e-01  3e-01  3e-01 0:00.0\n",
      "    2     30 7.603374963860934e+03 1.0e+00 2.46e-01  2e-01  2e-01 0:00.0\n",
      "    3     45 7.274838338467366e+03 1.1e+00 2.44e-01  2e-01  2e-01 0:00.1\n"
     ]
    },
    {
     "name": "stderr",
     "output_type": "stream",
     "text": [
      "/usr/local/lib/python3.6/dist-packages/cma/utilities/utils.py:333: UserWarning: function_values is not a list of scalars,\n",
      "                        the first element equals [8729.60020071] with non-scalar type <class 'numpy.ndarray'>.\n",
      "                        Using now ``[v[0] for v in function_values]`` instead (further warnings are suppressed) ()\n",
      "  ')')\n",
      "/usr/local/lib/python3.6/dist-packages/cma/utilities/utils.py:333: UserWarning: function_values is not a list of scalars,\n",
      "                        the first element equals [8689.0648641] with non-scalar type <class 'numpy.ndarray'>.\n",
      "                        Using now ``[v[0] for v in function_values]`` instead (further warnings are suppressed) ()\n",
      "  ')')\n"
     ]
    },
    {
     "name": "stdout",
     "output_type": "stream",
     "text": [
      "  100   1500 -1.115453558697753e+09 1.7e+00 1.29e+02  1e+02  1e+02 0:01.8\n",
      "  111   1665 -5.615880581980742e+09 1.7e+00 2.71e+02  3e+02  3e+02 0:02.0\n",
      "termination on tolfacupx=1000.0 (Mon Apr 13 14:59:31 2020)\n",
      "final/bestever f-value = -5.443590e+09 -5.615881e+09\n",
      "incumbent solution: [-470.40084962 1443.39272899  358.61161605  623.07762808 -216.33946444\n",
      " -498.66210937 1291.7808114  -171.58078058 ...]\n",
      "std deviations: [260.30420938 268.43640097 270.4710826  265.61728404 258.66253668\n",
      " 261.40493641 272.38883204 256.86966841 ...]\n",
      "Run : 24\n",
      "(7_w,15)-aCMA-ES (mu_w=4.5,w_1=34%) in dimension 50 (seed=812547, Mon Apr 13 14:59:31 2020)\n",
      "Iterat #Fevals   function value  axis ratio  sigma  min&max std  t[m:s]\n",
      "    1     15 7.741260873364504e+03 1.0e+00 2.55e-01  3e-01  3e-01 0:00.0\n",
      "    2     30 7.740997195733117e+03 1.0e+00 2.46e-01  2e-01  2e-01 0:00.0\n",
      "    3     45 7.740165997905485e+03 1.0e+00 2.44e-01  2e-01  2e-01 0:00.1\n"
     ]
    },
    {
     "name": "stderr",
     "output_type": "stream",
     "text": [
      "/usr/local/lib/python3.6/dist-packages/cma/utilities/utils.py:333: UserWarning: function_values is not a list of scalars,\n",
      "                        the first element equals [7741.84251552] with non-scalar type <class 'numpy.ndarray'>.\n",
      "                        Using now ``[v[0] for v in function_values]`` instead (further warnings are suppressed) ()\n",
      "  ')')\n",
      "/usr/local/lib/python3.6/dist-packages/cma/utilities/utils.py:333: UserWarning: function_values is not a list of scalars,\n",
      "                        the first element equals [7741.257119] with non-scalar type <class 'numpy.ndarray'>.\n",
      "                        Using now ``[v[0] for v in function_values]`` instead (further warnings are suppressed) ()\n",
      "  ')')\n"
     ]
    },
    {
     "name": "stdout",
     "output_type": "stream",
     "text": [
      "  100   1500 3.378639797958213e+03 1.4e+00 3.81e-02  4e-02  4e-02 0:01.9\n",
      "  200   3000 3.160677271063397e+03 1.5e+00 1.83e-03  2e-03  2e-03 0:03.8\n",
      "  300   4500 3.160077186137576e+03 1.5e+00 9.61e-05  8e-05  9e-05 0:05.6\n",
      "  400   6000 3.160076285791280e+03 1.6e+00 5.02e-06  4e-06  5e-06 0:07.5\n",
      "  500   7500 3.160076282163899e+03 1.6e+00 3.01e-07  2e-07  3e-07 0:09.3\n",
      "  600   9000 3.160076282154452e+03 1.6e+00 1.96e-08  1e-08  2e-08 0:11.2\n",
      "  700  10500 3.160076282154424e+03 1.7e+00 2.62e-09  2e-09  2e-09 0:13.0\n",
      "  740  11100 3.160076282154425e+03 1.8e+00 2.36e-09  2e-09  2e-09 0:13.8\n",
      "termination on tolfun=1e-11 (Mon Apr 13 14:59:47 2020)\n",
      "final/bestever f-value = 3.160076e+03 3.160076e+03\n",
      "incumbent solution: [-0.03729192  0.16792747 -0.24733188  0.21473332  0.14182239 -0.02816851\n",
      " -0.12247467  0.07988004 ...]\n",
      "std deviations: [1.82757473e-09 1.78038538e-09 1.91070347e-09 1.89368114e-09\n",
      " 1.79902556e-09 1.95264488e-09 1.83495043e-09 1.80089124e-09 ...]\n",
      "(7_w,15)-aCMA-ES (mu_w=4.5,w_1=34%) in dimension 50 (seed=830221, Mon Apr 13 14:59:47 2020)\n",
      "Iterat #Fevals   function value  axis ratio  sigma  min&max std  t[m:s]\n",
      "    1     15 7.748048691839663e+03 1.0e+00 2.54e-01  3e-01  3e-01 0:00.0\n",
      "    2     30 7.748048690658919e+03 1.0e+00 2.43e-01  2e-01  2e-01 0:00.0\n",
      "    3     45 7.748048691235521e+03 1.0e+00 2.33e-01  2e-01  2e-01 0:00.0\n"
     ]
    },
    {
     "name": "stderr",
     "output_type": "stream",
     "text": [
      "/usr/local/lib/python3.6/dist-packages/cma/utilities/utils.py:333: UserWarning: function_values is not a list of scalars,\n",
      "                        the first element equals [7748.04869503] with non-scalar type <class 'numpy.ndarray'>.\n",
      "                        Using now ``[v[0] for v in function_values]`` instead (further warnings are suppressed) ()\n",
      "  ')')\n",
      "/usr/local/lib/python3.6/dist-packages/cma/utilities/utils.py:333: UserWarning: function_values is not a list of scalars,\n",
      "                        the first element equals [7748.04869194] with non-scalar type <class 'numpy.ndarray'>.\n",
      "                        Using now ``[v[0] for v in function_values]`` instead (further warnings are suppressed) ()\n",
      "  ')')\n"
     ]
    },
    {
     "name": "stdout",
     "output_type": "stream",
     "text": [
      "  100   1500 7.406205062716504e+03 1.4e+00 2.42e-02  2e-02  2e-02 0:01.3\n",
      "  200   3000 7.381747623625349e+03 1.5e+00 1.35e-03  1e-03  1e-03 0:02.6\n",
      "  300   4500 7.381677280499579e+03 1.5e+00 9.78e-05  8e-05  9e-05 0:04.0\n",
      "  400   6000 7.381676950523723e+03 1.5e+00 5.08e-06  4e-06  5e-06 0:05.3\n",
      "  500   7500 7.381676949632838e+03 1.6e+00 3.57e-07  3e-07  3e-07 0:06.6\n",
      "  600   9000 7.381676949629008e+03 1.6e+00 1.98e-08  1e-08  2e-08 0:07.9\n",
      "  700  10500 7.381676949629000e+03 1.6e+00 4.13e-09  3e-09  4e-09 0:09.3\n",
      "  711  10665 7.381676949629000e+03 1.7e+00 3.76e-09  3e-09  3e-09 0:09.4\n",
      "termination on tolfun=1e-11 (Mon Apr 13 14:59:58 2020)\n",
      "final/bestever f-value = 7.381677e+03 7.381677e+03\n",
      "incumbent solution: [ 0.0941063   0.5515241   0.1760655   0.29182049  0.24718675  0.23258397\n",
      " -0.50096308 -0.17066477 ...]\n",
      "std deviations: [2.90074471e-09 2.79581884e-09 2.97916256e-09 3.09114608e-09\n",
      " 2.72614618e-09 3.01944615e-09 2.96944682e-09 3.07935158e-09 ...]\n",
      "(7_w,15)-aCMA-ES (mu_w=4.5,w_1=34%) in dimension 50 (seed=897250, Mon Apr 13 14:59:58 2020)\n",
      "Iterat #Fevals   function value  axis ratio  sigma  min&max std  t[m:s]\n",
      "    1     15 8.566796989605675e+03 1.0e+00 2.55e-01  3e-01  3e-01 0:00.0\n",
      "    2     30 7.905075305242365e+03 1.0e+00 2.49e-01  2e-01  2e-01 0:00.0\n",
      "    3     45 7.870237022820511e+03 1.1e+00 2.45e-01  2e-01  2e-01 0:00.1\n"
     ]
    },
    {
     "name": "stderr",
     "output_type": "stream",
     "text": [
      "/usr/local/lib/python3.6/dist-packages/cma/utilities/utils.py:333: UserWarning: function_values is not a list of scalars,\n",
      "                        the first element equals [8918.94613676] with non-scalar type <class 'numpy.ndarray'>.\n",
      "                        Using now ``[v[0] for v in function_values]`` instead (further warnings are suppressed) ()\n",
      "  ')')\n",
      "/usr/local/lib/python3.6/dist-packages/cma/utilities/utils.py:333: UserWarning: function_values is not a list of scalars,\n",
      "                        the first element equals [9025.08615663] with non-scalar type <class 'numpy.ndarray'>.\n",
      "                        Using now ``[v[0] for v in function_values]`` instead (further warnings are suppressed) ()\n",
      "  ')')\n"
     ]
    },
    {
     "name": "stdout",
     "output_type": "stream",
     "text": [
      "  100   1500 -1.024216183632020e+09 1.6e+00 1.13e+02  1e+02  1e+02 0:01.8\n",
      "  114   1710 -5.561447394918955e+09 1.6e+00 2.74e+02  3e+02  3e+02 0:02.1\n",
      "termination on tolfacupx=1000.0 (Mon Apr 13 15:00:01 2020)\n",
      "final/bestever f-value = -5.198640e+09 -5.561447e+09\n",
      "incumbent solution: [ -107.9454223   1458.5462668   -480.23589729   -97.9753712\n",
      "  -802.83068828  -627.04092762   615.63614573 -1244.34631167 ...]\n",
      "std deviations: [260.50798372 263.86452891 263.05246514 261.29524391 268.85968022\n",
      " 271.08329902 269.92656438 271.90624563 ...]\n",
      "Run : 25\n",
      "(7_w,15)-aCMA-ES (mu_w=4.5,w_1=34%) in dimension 50 (seed=852612, Mon Apr 13 15:00:01 2020)\n",
      "Iterat #Fevals   function value  axis ratio  sigma  min&max std  t[m:s]\n",
      "    1     15 7.740886559807583e+03 1.0e+00 2.54e-01  3e-01  3e-01 0:00.0\n",
      "    2     30 7.740706873733387e+03 1.0e+00 2.42e-01  2e-01  2e-01 0:00.1\n",
      "    3     45 7.739026363528098e+03 1.0e+00 2.34e-01  2e-01  2e-01 0:00.1\n"
     ]
    },
    {
     "name": "stderr",
     "output_type": "stream",
     "text": [
      "/usr/local/lib/python3.6/dist-packages/cma/utilities/utils.py:333: UserWarning: function_values is not a list of scalars,\n",
      "                        the first element equals [7740.88655981] with non-scalar type <class 'numpy.ndarray'>.\n",
      "                        Using now ``[v[0] for v in function_values]`` instead (further warnings are suppressed) ()\n",
      "  ')')\n",
      "/usr/local/lib/python3.6/dist-packages/cma/utilities/utils.py:333: UserWarning: function_values is not a list of scalars,\n",
      "                        the first element equals [7740.72332807] with non-scalar type <class 'numpy.ndarray'>.\n",
      "                        Using now ``[v[0] for v in function_values]`` instead (further warnings are suppressed) ()\n",
      "  ')')\n"
     ]
    },
    {
     "name": "stdout",
     "output_type": "stream",
     "text": [
      "  100   1500 3.266850873859533e+03 1.4e+00 2.95e-02  3e-02  3e-02 0:01.9\n",
      "  200   3000 3.160443950856181e+03 1.5e+00 1.60e-03  1e-03  2e-03 0:03.8\n",
      "  300   4500 3.160078144015662e+03 1.5e+00 1.09e-04  9e-05  1e-04 0:05.6\n",
      "  400   6000 3.160076289136174e+03 1.6e+00 7.75e-06  6e-06  7e-06 0:07.5\n",
      "  500   7500 3.160076282174770e+03 1.6e+00 4.00e-07  3e-07  3e-07 0:09.4\n",
      "  600   9000 3.160076282154508e+03 1.6e+00 2.52e-08  2e-08  2e-08 0:11.2\n",
      "  700  10500 3.160076282154424e+03 1.8e+00 2.74e-09  2e-09  2e-09 0:13.1\n",
      "  750  11250 3.160076282154424e+03 1.8e+00 1.70e-09  1e-09  1e-09 0:14.0\n",
      "termination on tolfun=1e-11 (Mon Apr 13 15:00:17 2020)\n",
      "final/bestever f-value = 3.160076e+03 3.160076e+03\n",
      "incumbent solution: [-0.03729193  0.16792746 -0.24733188  0.21473333  0.1418224  -0.02816852\n",
      " -0.12247467  0.07988004 ...]\n",
      "std deviations: [1.34201938e-09 1.29635656e-09 1.37747609e-09 1.24337528e-09\n",
      " 1.27143880e-09 1.34789243e-09 1.36044165e-09 1.35231177e-09 ...]\n",
      "(7_w,15)-aCMA-ES (mu_w=4.5,w_1=34%) in dimension 50 (seed=914548, Mon Apr 13 15:00:17 2020)\n",
      "Iterat #Fevals   function value  axis ratio  sigma  min&max std  t[m:s]\n",
      "    1     15 7.748048691660371e+03 1.0e+00 2.54e-01  3e-01  3e-01 0:00.0\n",
      "    2     30 7.748048687447586e+03 1.0e+00 2.44e-01  2e-01  2e-01 0:00.0\n",
      "    3     45 7.748048689372821e+03 1.0e+00 2.40e-01  2e-01  2e-01 0:00.0\n"
     ]
    },
    {
     "name": "stderr",
     "output_type": "stream",
     "text": [
      "/usr/local/lib/python3.6/dist-packages/cma/utilities/utils.py:333: UserWarning: function_values is not a list of scalars,\n",
      "                        the first element equals [7748.048692] with non-scalar type <class 'numpy.ndarray'>.\n",
      "                        Using now ``[v[0] for v in function_values]`` instead (further warnings are suppressed) ()\n",
      "  ')')\n",
      "/usr/local/lib/python3.6/dist-packages/cma/utilities/utils.py:333: UserWarning: function_values is not a list of scalars,\n",
      "                        the first element equals [7748.04869201] with non-scalar type <class 'numpy.ndarray'>.\n",
      "                        Using now ``[v[0] for v in function_values]`` instead (further warnings are suppressed) ()\n",
      "  ')')\n"
     ]
    },
    {
     "name": "stdout",
     "output_type": "stream",
     "text": [
      "  100   1500 7.414493973527362e+03 1.4e+00 2.99e-02  3e-02  3e-02 0:01.3\n",
      "  200   3000 7.382390672927962e+03 1.5e+00 1.71e-03  2e-03  2e-03 0:02.6\n",
      "  300   4500 7.382288971801840e+03 1.5e+00 8.73e-05  7e-05  8e-05 0:03.9\n",
      "  400   6000 7.382288742745009e+03 1.6e+00 4.68e-06  4e-06  4e-06 0:05.3\n",
      "  500   7500 7.382288742221175e+03 1.6e+00 3.39e-07  3e-07  3e-07 0:06.6\n",
      "  600   9000 7.382288742217790e+03 1.7e+00 2.33e-08  2e-08  2e-08 0:07.9\n",
      "  700  10500 7.382288742217775e+03 1.7e+00 3.71e-09  3e-09  3e-09 0:09.2\n",
      "  715  10725 7.382288742217776e+03 1.7e+00 3.51e-09  2e-09  3e-09 0:09.4\n",
      "termination on tolfun=1e-11 (Mon Apr 13 15:00:29 2020)\n",
      "final/bestever f-value = 7.382289e+03 7.382289e+03\n",
      "incumbent solution: [ 0.12318637  0.50508746  0.0728872  -0.15459336 -0.06782141  0.03077645\n",
      " -0.53411237  0.21023916 ...]\n",
      "std deviations: [2.73946258e-09 2.74041067e-09 2.74133517e-09 2.81515452e-09\n",
      " 2.76112878e-09 3.02036901e-09 2.69560969e-09 2.95108587e-09 ...]\n",
      "(7_w,15)-aCMA-ES (mu_w=4.5,w_1=34%) in dimension 50 (seed=854438, Mon Apr 13 15:00:29 2020)\n",
      "Iterat #Fevals   function value  axis ratio  sigma  min&max std  t[m:s]\n",
      "    1     15 8.156262248870948e+03 1.0e+00 2.51e-01  3e-01  3e-01 0:00.0\n",
      "    2     30 7.681962985898652e+03 1.0e+00 2.43e-01  2e-01  2e-01 0:00.0\n",
      "    3     45 7.257442791699761e+03 1.1e+00 2.39e-01  2e-01  2e-01 0:00.1\n"
     ]
    },
    {
     "name": "stderr",
     "output_type": "stream",
     "text": [
      "/usr/local/lib/python3.6/dist-packages/cma/utilities/utils.py:333: UserWarning: function_values is not a list of scalars,\n",
      "                        the first element equals [8851.95588351] with non-scalar type <class 'numpy.ndarray'>.\n",
      "                        Using now ``[v[0] for v in function_values]`` instead (further warnings are suppressed) ()\n",
      "  ')')\n",
      "/usr/local/lib/python3.6/dist-packages/cma/utilities/utils.py:333: UserWarning: function_values is not a list of scalars,\n",
      "                        the first element equals [8376.07824776] with non-scalar type <class 'numpy.ndarray'>.\n",
      "                        Using now ``[v[0] for v in function_values]`` instead (further warnings are suppressed) ()\n",
      "  ')')\n"
     ]
    },
    {
     "name": "stdout",
     "output_type": "stream",
     "text": [
      "  100   1500 -2.744889853325733e+09 1.4e+00 2.15e+02  2e+02  2e+02 0:01.8\n",
      "  104   1560 -5.089664474024470e+09 1.4e+00 2.86e+02  3e+02  3e+02 0:01.9\n",
      "termination on tolfacupx=1000.0 (Mon Apr 13 15:00:31 2020)\n",
      "final/bestever f-value = -4.546133e+09 -5.089664e+09\n",
      "incumbent solution: [  649.82783355   845.55712731  -176.15623219   299.23309303\n",
      "   528.09678547 -1710.6777068   -623.68241423  -521.26499766 ...]\n",
      "std deviations: [279.59537209 279.55707163 270.81887552 282.14417348 275.67848396\n",
      " 284.88982939 276.06067945 270.11800023 ...]\n",
      "Run : 26\n",
      "(7_w,15)-aCMA-ES (mu_w=4.5,w_1=34%) in dimension 50 (seed=968584, Mon Apr 13 15:00:31 2020)\n",
      "Iterat #Fevals   function value  axis ratio  sigma  min&max std  t[m:s]\n",
      "    1     15 7.741159043166028e+03 1.0e+00 2.53e-01  3e-01  3e-01 0:00.0\n",
      "    2     30 7.740831010472209e+03 1.0e+00 2.44e-01  2e-01  2e-01 0:00.0\n",
      "    3     45 7.740542866301323e+03 1.0e+00 2.38e-01  2e-01  2e-01 0:00.1\n"
     ]
    },
    {
     "name": "stderr",
     "output_type": "stream",
     "text": [
      "/usr/local/lib/python3.6/dist-packages/cma/utilities/utils.py:333: UserWarning: function_values is not a list of scalars,\n",
      "                        the first element equals [7741.45646956] with non-scalar type <class 'numpy.ndarray'>.\n",
      "                        Using now ``[v[0] for v in function_values]`` instead (further warnings are suppressed) ()\n",
      "  ')')\n",
      "/usr/local/lib/python3.6/dist-packages/cma/utilities/utils.py:333: UserWarning: function_values is not a list of scalars,\n",
      "                        the first element equals [7741.2670707] with non-scalar type <class 'numpy.ndarray'>.\n",
      "                        Using now ``[v[0] for v in function_values]`` instead (further warnings are suppressed) ()\n",
      "  ')')\n"
     ]
    },
    {
     "name": "stdout",
     "output_type": "stream",
     "text": [
      "  100   1500 3.306112355608217e+03 1.4e+00 3.12e-02  3e-02  3e-02 0:01.9\n",
      "  200   3000 3.160813842528249e+03 1.5e+00 2.10e-03  2e-03  2e-03 0:03.7\n",
      "  300   4500 3.160079697315463e+03 1.5e+00 1.60e-04  1e-04  2e-04 0:05.6\n",
      "  400   6000 3.160076299401019e+03 1.5e+00 1.09e-05  9e-06  1e-05 0:07.5\n",
      "  500   7500 3.160076282225060e+03 1.5e+00 7.93e-07  6e-07  7e-07 0:09.3\n",
      "  600   9000 3.160076282154671e+03 1.6e+00 4.97e-08  4e-08  4e-08 0:11.2\n",
      "  700  10500 3.160076282154423e+03 1.7e+00 3.57e-09  3e-09  3e-09 0:13.1\n",
      "  764  11460 3.160076282154423e+03 1.8e+00 1.68e-09  1e-09  1e-09 0:14.3\n",
      "termination on tolfun=1e-11 (Mon Apr 13 15:00:48 2020)\n",
      "final/bestever f-value = 3.160076e+03 3.160076e+03\n",
      "incumbent solution: [-0.03729192  0.16792746 -0.24733188  0.21473333  0.1418224  -0.02816852\n",
      " -0.12247466  0.07988004 ...]\n",
      "std deviations: [1.27790715e-09 1.26857004e-09 1.33432645e-09 1.30778272e-09\n",
      " 1.25114830e-09 1.42614785e-09 1.34678844e-09 1.34573435e-09 ...]\n",
      "(7_w,15)-aCMA-ES (mu_w=4.5,w_1=34%) in dimension 50 (seed=903009, Mon Apr 13 15:00:48 2020)\n",
      "Iterat #Fevals   function value  axis ratio  sigma  min&max std  t[m:s]\n",
      "    1     15 7.748048691940373e+03 1.0e+00 2.56e-01  3e-01  3e-01 0:00.0\n",
      "    2     30 7.748048688686995e+03 1.0e+00 2.48e-01  2e-01  2e-01 0:00.0\n",
      "    3     45 7.748048667490951e+03 1.1e+00 2.44e-01  2e-01  2e-01 0:00.0\n"
     ]
    },
    {
     "name": "stderr",
     "output_type": "stream",
     "text": [
      "/usr/local/lib/python3.6/dist-packages/cma/utilities/utils.py:333: UserWarning: function_values is not a list of scalars,\n",
      "                        the first element equals [7748.04869204] with non-scalar type <class 'numpy.ndarray'>.\n",
      "                        Using now ``[v[0] for v in function_values]`` instead (further warnings are suppressed) ()\n",
      "  ')')\n",
      "/usr/local/lib/python3.6/dist-packages/cma/utilities/utils.py:333: UserWarning: function_values is not a list of scalars,\n",
      "                        the first element equals [7748.04869204] with non-scalar type <class 'numpy.ndarray'>.\n",
      "                        Using now ``[v[0] for v in function_values]`` instead (further warnings are suppressed) ()\n",
      "  ')')\n"
     ]
    },
    {
     "name": "stdout",
     "output_type": "stream",
     "text": [
      "  100   1500 7.569404732282835e+03 1.4e+00 2.15e-02  2e-02  2e-02 0:01.3\n",
      "  200   3000 7.561149950567552e+03 1.4e+00 1.55e-03  1e-03  2e-03 0:02.6\n",
      "  300   4500 7.561111566678444e+03 1.5e+00 8.29e-05  7e-05  8e-05 0:04.0\n",
      "  400   6000 7.561111459899517e+03 1.5e+00 4.05e-06  3e-06  4e-06 0:05.3\n",
      "  500   7500 7.561111459589952e+03 1.5e+00 2.20e-07  2e-07  2e-07 0:06.6\n",
      "  600   9000 7.561111459589201e+03 1.5e+00 1.08e-08  8e-09  9e-09 0:07.9\n"
     ]
    },
    {
     "name": "stderr",
     "output_type": "stream",
     "text": [
      "/usr/local/lib/python3.6/dist-packages/cma/utilities/utils.py:333: UserWarning: flat fitness (f=7561.111460, sigma=5.29e-09).\n",
      "                    For small sigma, this could indicate numerical convergence.\n",
      "                    Otherwise, please (re)consider how to compute the fitness more elaborately. (iteration=639)\n",
      "  ')')\n"
     ]
    },
    {
     "name": "stdout",
     "output_type": "stream",
     "text": [
      "  677  10155 7.561111459589201e+03 1.6e+00 3.65e-09  3e-09  3e-09 0:09.0\n",
      "termination on tolfun=1e-11 (Mon Apr 13 15:00:59 2020)\n",
      "final/bestever f-value = 7.561111e+03 7.561111e+03\n",
      "incumbent solution: [-0.29565049  0.46405464  0.43810833  0.21361427  0.3885369   0.14196966\n",
      "  0.28659446  0.03432017 ...]\n",
      "std deviations: [2.92523701e-09 2.90468269e-09 2.93863129e-09 3.06951802e-09\n",
      " 2.79144228e-09 2.98030128e-09 2.96675165e-09 2.87452198e-09 ...]\n",
      "(7_w,15)-aCMA-ES (mu_w=4.5,w_1=34%) in dimension 50 (seed=884760, Mon Apr 13 15:00:59 2020)\n",
      "Iterat #Fevals   function value  axis ratio  sigma  min&max std  t[m:s]\n",
      "    1     15 7.256597674360914e+03 1.0e+00 2.54e-01  3e-01  3e-01 0:00.0\n",
      "    2     30 7.183319301058335e+03 1.0e+00 2.46e-01  2e-01  2e-01 0:00.0\n",
      "    3     45 6.697280905120424e+03 1.1e+00 2.45e-01  2e-01  2e-01 0:00.1\n"
     ]
    },
    {
     "name": "stderr",
     "output_type": "stream",
     "text": [
      "/usr/local/lib/python3.6/dist-packages/cma/utilities/utils.py:333: UserWarning: function_values is not a list of scalars,\n",
      "                        the first element equals [8291.28044186] with non-scalar type <class 'numpy.ndarray'>.\n",
      "                        Using now ``[v[0] for v in function_values]`` instead (further warnings are suppressed) ()\n",
      "  ')')\n",
      "/usr/local/lib/python3.6/dist-packages/cma/utilities/utils.py:333: UserWarning: function_values is not a list of scalars,\n",
      "                        the first element equals [7479.30663574] with non-scalar type <class 'numpy.ndarray'>.\n",
      "                        Using now ``[v[0] for v in function_values]`` instead (further warnings are suppressed) ()\n",
      "  ')')\n"
     ]
    },
    {
     "name": "stdout",
     "output_type": "stream",
     "text": [
      "  100   1500 -9.066141672330388e+08 1.8e+00 1.08e+02  1e+02  1e+02 0:01.8\n",
      "  112   1680 -5.379244565852841e+09 1.8e+00 2.66e+02  3e+02  3e+02 0:02.1\n",
      "termination on tolfacupx=1000.0 (Mon Apr 13 15:01:02 2020)\n",
      "final/bestever f-value = -5.206753e+09 -5.379245e+09\n",
      "incumbent solution: [ -781.33721596  1135.03289746 -1461.23704722    -9.97577098\n",
      "   565.99218613   324.34896077    86.77345611  -694.39656264 ...]\n",
      "std deviations: [254.16520503 256.6513969  269.56393829 259.32879437 260.11847784\n",
      " 259.52976803 257.19562034 262.02360796 ...]\n",
      "Run : 27\n",
      "(7_w,15)-aCMA-ES (mu_w=4.5,w_1=34%) in dimension 50 (seed=907740, Mon Apr 13 15:01:02 2020)\n",
      "Iterat #Fevals   function value  axis ratio  sigma  min&max std  t[m:s]\n",
      "    1     15 7.741262996134044e+03 1.0e+00 2.56e-01  3e-01  3e-01 0:00.0\n",
      "    2     30 7.740547775653125e+03 1.0e+00 2.47e-01  2e-01  2e-01 0:00.0\n",
      "    3     45 7.737983004487300e+03 1.0e+00 2.44e-01  2e-01  2e-01 0:00.1\n"
     ]
    },
    {
     "name": "stderr",
     "output_type": "stream",
     "text": [
      "/usr/local/lib/python3.6/dist-packages/cma/utilities/utils.py:333: UserWarning: function_values is not a list of scalars,\n",
      "                        the first element equals [7741.71622174] with non-scalar type <class 'numpy.ndarray'>.\n",
      "                        Using now ``[v[0] for v in function_values]`` instead (further warnings are suppressed) ()\n",
      "  ')')\n",
      "/usr/local/lib/python3.6/dist-packages/cma/utilities/utils.py:333: UserWarning: function_values is not a list of scalars,\n",
      "                        the first element equals [7741.70616057] with non-scalar type <class 'numpy.ndarray'>.\n",
      "                        Using now ``[v[0] for v in function_values]`` instead (further warnings are suppressed) ()\n",
      "  ')')\n"
     ]
    },
    {
     "name": "stdout",
     "output_type": "stream",
     "text": [
      "  100   1500 3.263896497807164e+03 1.4e+00 2.83e-02  3e-02  3e-02 0:01.9\n",
      "  200   3000 3.160352521250134e+03 1.4e+00 1.32e-03  1e-03  1e-03 0:03.7\n",
      "  300   4500 3.160077131244791e+03 1.5e+00 8.57e-05  7e-05  8e-05 0:05.6\n",
      "  400   6000 3.160076284659144e+03 1.5e+00 4.65e-06  4e-06  4e-06 0:07.5\n",
      "  500   7500 3.160076282161441e+03 1.6e+00 2.66e-07  2e-07  2e-07 0:09.3\n",
      "  600   9000 3.160076282154442e+03 1.7e+00 1.43e-08  1e-08  1e-08 0:11.2\n",
      "  700  10500 3.160076282154424e+03 1.8e+00 2.61e-09  2e-09  2e-09 0:13.1\n",
      "  727  10905 3.160076282154423e+03 1.8e+00 1.94e-09  1e-09  2e-09 0:13.6\n",
      "termination on tolfun=1e-11 (Mon Apr 13 15:01:18 2020)\n",
      "final/bestever f-value = 3.160076e+03 3.160076e+03\n",
      "incumbent solution: [-0.03729192  0.16792746 -0.24733188  0.21473332  0.1418224  -0.02816851\n",
      " -0.12247466  0.07988005 ...]\n",
      "std deviations: [1.52173405e-09 1.57165754e-09 1.54734736e-09 1.51342117e-09\n",
      " 1.43298562e-09 1.54236704e-09 1.49802466e-09 1.41098632e-09 ...]\n",
      "(7_w,15)-aCMA-ES (mu_w=4.5,w_1=34%) in dimension 50 (seed=842364, Mon Apr 13 15:01:18 2020)\n",
      "Iterat #Fevals   function value  axis ratio  sigma  min&max std  t[m:s]\n",
      "    1     15 7.748048690935621e+03 1.0e+00 2.55e-01  3e-01  3e-01 0:00.0\n",
      "    2     30 7.748048678675987e+03 1.0e+00 2.47e-01  2e-01  2e-01 0:00.0\n",
      "    3     45 7.748048661441545e+03 1.0e+00 2.43e-01  2e-01  2e-01 0:00.0\n"
     ]
    },
    {
     "name": "stderr",
     "output_type": "stream",
     "text": [
      "/usr/local/lib/python3.6/dist-packages/cma/utilities/utils.py:333: UserWarning: function_values is not a list of scalars,\n",
      "                        the first element equals [7748.0486921] with non-scalar type <class 'numpy.ndarray'>.\n",
      "                        Using now ``[v[0] for v in function_values]`` instead (further warnings are suppressed) ()\n",
      "  ')')\n",
      "/usr/local/lib/python3.6/dist-packages/cma/utilities/utils.py:333: UserWarning: function_values is not a list of scalars,\n",
      "                        the first element equals [7748.04869201] with non-scalar type <class 'numpy.ndarray'>.\n",
      "                        Using now ``[v[0] for v in function_values]`` instead (further warnings are suppressed) ()\n",
      "  ')')\n"
     ]
    },
    {
     "name": "stdout",
     "output_type": "stream",
     "text": [
      "  100   1500 7.529694370998741e+03 1.4e+00 2.69e-02  2e-02  3e-02 0:01.3\n",
      "  200   3000 7.506728426280293e+03 1.5e+00 1.64e-03  1e-03  2e-03 0:02.6\n",
      "  300   4500 7.506683817507764e+03 1.6e+00 8.29e-05  7e-05  8e-05 0:03.9\n",
      "  400   6000 7.506683664958588e+03 1.6e+00 3.92e-06  3e-06  4e-06 0:05.3\n",
      "  500   7500 7.506683664721319e+03 1.6e+00 2.09e-07  2e-07  2e-07 0:06.6\n",
      "  600   9000 7.506683664720560e+03 1.7e+00 1.18e-08  9e-09  1e-08 0:07.9\n",
      "  679  10185 7.506683664720559e+03 1.7e+00 4.63e-09  3e-09  4e-09 0:09.0\n",
      "termination on tolfun=1e-11 (Mon Apr 13 15:01:29 2020)\n",
      "final/bestever f-value = 7.506684e+03 7.506684e+03\n",
      "incumbent solution: [-0.03043294  0.07527818 -0.17371064  0.12669347  0.12777737 -0.06348447\n",
      " -0.05164057  0.00230376 ...]\n",
      "std deviations: [3.67094868e-09 3.55235718e-09 3.69461192e-09 3.78072708e-09\n",
      " 3.63543836e-09 3.87652793e-09 3.82452132e-09 3.57178214e-09 ...]\n",
      "(7_w,15)-aCMA-ES (mu_w=4.5,w_1=34%) in dimension 50 (seed=827961, Mon Apr 13 15:01:29 2020)\n",
      "Iterat #Fevals   function value  axis ratio  sigma  min&max std  t[m:s]\n",
      "    1     15 8.213066417228896e+03 1.0e+00 2.55e-01  3e-01  3e-01 0:00.0\n",
      "    2     30 7.828556219610744e+03 1.0e+00 2.49e-01  2e-01  3e-01 0:00.0\n",
      "    3     45 6.780057617305510e+03 1.1e+00 2.48e-01  2e-01  2e-01 0:00.0\n"
     ]
    },
    {
     "name": "stderr",
     "output_type": "stream",
     "text": [
      "/usr/local/lib/python3.6/dist-packages/cma/utilities/utils.py:333: UserWarning: flat fitness (f=7506.683665, sigma=4.63e-09).\n",
      "                    For small sigma, this could indicate numerical convergence.\n",
      "                    Otherwise, please (re)consider how to compute the fitness more elaborately. (iteration=679)\n",
      "  ')')\n",
      "/usr/local/lib/python3.6/dist-packages/cma/utilities/utils.py:333: UserWarning: function_values is not a list of scalars,\n",
      "                        the first element equals [9031.52863804] with non-scalar type <class 'numpy.ndarray'>.\n",
      "                        Using now ``[v[0] for v in function_values]`` instead (further warnings are suppressed) ()\n",
      "  ')')\n",
      "/usr/local/lib/python3.6/dist-packages/cma/utilities/utils.py:333: UserWarning: function_values is not a list of scalars,\n",
      "                        the first element equals [7904.90784405] with non-scalar type <class 'numpy.ndarray'>.\n",
      "                        Using now ``[v[0] for v in function_values]`` instead (further warnings are suppressed) ()\n",
      "  ')')\n"
     ]
    },
    {
     "name": "stdout",
     "output_type": "stream",
     "text": [
      "  100   1500 -3.217576613707263e+09 1.4e+00 2.14e+02  2e+02  2e+02 0:01.8\n",
      "  103   1545 -4.855219112309207e+09 1.4e+00 2.79e+02  3e+02  3e+02 0:01.9\n",
      "termination on tolfacupx=1000.0 (Mon Apr 13 15:01:31 2020)\n",
      "final/bestever f-value = -4.497732e+09 -4.855219e+09\n",
      "incumbent solution: [ 8.66715286e-01  4.79565030e+02 -4.79099967e+02 -7.75751172e+02\n",
      "  9.62254256e+02  8.38901981e+02  1.10200550e+03  2.45773709e+02 ...]\n",
      "std deviations: [266.95854942 269.54236987 267.1102359  268.28850643 272.22877683\n",
      " 272.60919926 270.98523027 270.72930098 ...]\n",
      "Run : 28\n",
      "(7_w,15)-aCMA-ES (mu_w=4.5,w_1=34%) in dimension 50 (seed=910823, Mon Apr 13 15:01:31 2020)\n",
      "Iterat #Fevals   function value  axis ratio  sigma  min&max std  t[m:s]\n",
      "    1     15 7.740590867838102e+03 1.0e+00 2.54e-01  3e-01  3e-01 0:00.0\n",
      "    2     30 7.740877797167796e+03 1.0e+00 2.46e-01  2e-01  2e-01 0:00.0\n",
      "    3     45 7.741075121533287e+03 1.0e+00 2.40e-01  2e-01  2e-01 0:00.1\n"
     ]
    },
    {
     "name": "stderr",
     "output_type": "stream",
     "text": [
      "/usr/local/lib/python3.6/dist-packages/cma/utilities/utils.py:333: UserWarning: function_values is not a list of scalars,\n",
      "                        the first element equals [7741.27777636] with non-scalar type <class 'numpy.ndarray'>.\n",
      "                        Using now ``[v[0] for v in function_values]`` instead (further warnings are suppressed) ()\n",
      "  ')')\n",
      "/usr/local/lib/python3.6/dist-packages/cma/utilities/utils.py:333: UserWarning: function_values is not a list of scalars,\n",
      "                        the first element equals [7741.22649524] with non-scalar type <class 'numpy.ndarray'>.\n",
      "                        Using now ``[v[0] for v in function_values]`` instead (further warnings are suppressed) ()\n",
      "  ')')\n"
     ]
    },
    {
     "name": "stdout",
     "output_type": "stream",
     "text": [
      "  100   1500 3.311456676785935e+03 1.4e+00 2.87e-02  3e-02  3e-02 0:01.9\n",
      "  200   3000 3.160587564588738e+03 1.5e+00 1.92e-03  2e-03  2e-03 0:03.8\n",
      "  300   4500 3.160077230046491e+03 1.5e+00 9.36e-05  8e-05  9e-05 0:05.6\n",
      "  400   6000 3.160076285339645e+03 1.6e+00 5.25e-06  4e-06  5e-06 0:07.5\n",
      "  500   7500 3.160076282167507e+03 1.6e+00 3.98e-07  3e-07  4e-07 0:09.4\n",
      "  600   9000 3.160076282154489e+03 1.6e+00 2.77e-08  2e-08  2e-08 0:11.3\n",
      "  700  10500 3.160076282154425e+03 1.7e+00 3.11e-09  2e-09  3e-09 0:13.1\n",
      "  755  11325 3.160076282154423e+03 1.8e+00 1.75e-09  1e-09  1e-09 0:14.2\n",
      "termination on tolfun=1e-11 (Mon Apr 13 15:01:48 2020)\n",
      "final/bestever f-value = 3.160076e+03 3.160076e+03\n",
      "incumbent solution: [-0.03729192  0.16792746 -0.24733188  0.21473332  0.1418224  -0.02816852\n",
      " -0.12247466  0.07988004 ...]\n",
      "std deviations: [1.35144195e-09 1.28939690e-09 1.36393145e-09 1.34769947e-09\n",
      " 1.29754609e-09 1.47834273e-09 1.39268159e-09 1.37260154e-09 ...]\n",
      "(7_w,15)-aCMA-ES (mu_w=4.5,w_1=34%) in dimension 50 (seed=807792, Mon Apr 13 15:01:48 2020)\n",
      "Iterat #Fevals   function value  axis ratio  sigma  min&max std  t[m:s]\n",
      "    1     15 7.748048691811289e+03 1.0e+00 2.54e-01  3e-01  3e-01 0:00.0\n",
      "    2     30 7.748048687802006e+03 1.0e+00 2.42e-01  2e-01  2e-01 0:00.0\n",
      "    3     45 7.748048689360542e+03 1.0e+00 2.34e-01  2e-01  2e-01 0:00.0\n"
     ]
    },
    {
     "name": "stderr",
     "output_type": "stream",
     "text": [
      "/usr/local/lib/python3.6/dist-packages/cma/utilities/utils.py:333: UserWarning: function_values is not a list of scalars,\n",
      "                        the first element equals [7748.04869204] with non-scalar type <class 'numpy.ndarray'>.\n",
      "                        Using now ``[v[0] for v in function_values]`` instead (further warnings are suppressed) ()\n",
      "  ')')\n",
      "/usr/local/lib/python3.6/dist-packages/cma/utilities/utils.py:333: UserWarning: function_values is not a list of scalars,\n",
      "                        the first element equals [7748.04869202] with non-scalar type <class 'numpy.ndarray'>.\n",
      "                        Using now ``[v[0] for v in function_values]`` instead (further warnings are suppressed) ()\n",
      "  ')')\n"
     ]
    },
    {
     "name": "stdout",
     "output_type": "stream",
     "text": [
      "  100   1500 7.600808698693343e+03 1.4e+00 2.12e-02  2e-02  2e-02 0:01.3\n",
      "  200   3000 7.596018319052929e+03 1.5e+00 1.01e-03  9e-04  1e-03 0:02.6\n",
      "  300   4500 7.596003159050293e+03 1.5e+00 5.45e-05  5e-05  5e-05 0:03.9\n",
      "  400   6000 7.596003130338687e+03 1.5e+00 2.85e-06  2e-06  3e-06 0:05.3\n",
      "  500   7500 7.596003130225121e+03 1.5e+00 1.38e-07  1e-07  1e-07 0:06.6\n",
      "  600   9000 7.596003130224888e+03 1.6e+00 1.03e-08  8e-09  9e-09 0:07.9\n",
      "  659   9885 7.596003130224887e+03 1.6e+00 6.05e-09  4e-09  5e-09 0:08.7\n",
      "termination on tolfun=1e-11 (Mon Apr 13 15:01:58 2020)\n",
      "final/bestever f-value = 7.596003e+03 7.596003e+03\n",
      "incumbent solution: [ 0.41646839  0.39738201 -0.13325647  0.44492618  0.40504919  0.45525312\n",
      "  0.11623364  0.06015169 ...]\n",
      "std deviations: [4.99017436e-09 4.78077422e-09 4.95334445e-09 4.77849593e-09\n",
      " 4.64783593e-09 5.04523336e-09 4.75036286e-09 5.04358869e-09 ...]\n",
      "(7_w,15)-aCMA-ES (mu_w=4.5,w_1=34%) in dimension 50 (seed=899379, Mon Apr 13 15:01:58 2020)\n",
      "Iterat #Fevals   function value  axis ratio  sigma  min&max std  t[m:s]\n",
      "    1     15 8.299482304488442e+03 1.0e+00 2.54e-01  3e-01  3e-01 0:00.0\n",
      "    2     30 7.832486967256703e+03 1.0e+00 2.47e-01  2e-01  2e-01 0:00.0\n",
      "    3     45 7.565450598334854e+03 1.1e+00 2.44e-01  2e-01  2e-01 0:00.1\n"
     ]
    },
    {
     "name": "stderr",
     "output_type": "stream",
     "text": [
      "/usr/local/lib/python3.6/dist-packages/cma/utilities/utils.py:333: UserWarning: function_values is not a list of scalars,\n",
      "                        the first element equals [9299.33498127] with non-scalar type <class 'numpy.ndarray'>.\n",
      "                        Using now ``[v[0] for v in function_values]`` instead (further warnings are suppressed) ()\n",
      "  ')')\n",
      "/usr/local/lib/python3.6/dist-packages/cma/utilities/utils.py:333: UserWarning: function_values is not a list of scalars,\n",
      "                        the first element equals [9102.71415983] with non-scalar type <class 'numpy.ndarray'>.\n",
      "                        Using now ``[v[0] for v in function_values]`` instead (further warnings are suppressed) ()\n",
      "  ')')\n"
     ]
    },
    {
     "name": "stdout",
     "output_type": "stream",
     "text": [
      "  100   1500 -1.815591134890197e+09 1.6e+00 1.68e+02  2e+02  2e+02 0:01.8\n",
      "  106   1590 -5.414040605447759e+09 1.6e+00 2.65e+02  2e+02  3e+02 0:01.9\n",
      "termination on tolfacupx=1000.0 (Mon Apr 13 15:02:01 2020)\n",
      "final/bestever f-value = -4.980846e+09 -5.414041e+09\n",
      "incumbent solution: [  452.7095675   1218.54104028  -731.4963201     96.45542549\n",
      "   237.40465799 -1762.18435357  -332.52460552   257.78284577 ...]\n",
      "std deviations: [260.42940791 259.72765644 261.43313663 261.99193143 253.56033585\n",
      " 268.25285524 251.79929652 261.77170183 ...]\n",
      "Run : 29\n",
      "(7_w,15)-aCMA-ES (mu_w=4.5,w_1=34%) in dimension 50 (seed=866894, Mon Apr 13 15:02:01 2020)\n",
      "Iterat #Fevals   function value  axis ratio  sigma  min&max std  t[m:s]\n",
      "    1     15 7.741206234542016e+03 1.0e+00 2.55e-01  3e-01  3e-01 0:00.0\n",
      "    2     30 7.740836048933320e+03 1.0e+00 2.47e-01  2e-01  2e-01 0:00.0\n",
      "    3     45 7.740273099124104e+03 1.1e+00 2.43e-01  2e-01  2e-01 0:00.1\n"
     ]
    },
    {
     "name": "stderr",
     "output_type": "stream",
     "text": [
      "/usr/local/lib/python3.6/dist-packages/cma/utilities/utils.py:333: UserWarning: function_values is not a list of scalars,\n",
      "                        the first element equals [7741.75100119] with non-scalar type <class 'numpy.ndarray'>.\n",
      "                        Using now ``[v[0] for v in function_values]`` instead (further warnings are suppressed) ()\n",
      "  ')')\n",
      "/usr/local/lib/python3.6/dist-packages/cma/utilities/utils.py:333: UserWarning: function_values is not a list of scalars,\n",
      "                        the first element equals [7741.22505117] with non-scalar type <class 'numpy.ndarray'>.\n",
      "                        Using now ``[v[0] for v in function_values]`` instead (further warnings are suppressed) ()\n",
      "  ')')\n"
     ]
    },
    {
     "name": "stdout",
     "output_type": "stream",
     "text": [
      "  100   1500 3.280464308202032e+03 1.4e+00 2.54e-02  2e-02  3e-02 0:01.9\n",
      "  200   3000 3.160457744902318e+03 1.5e+00 1.41e-03  1e-03  1e-03 0:03.8\n",
      "  300   4500 3.160077788842707e+03 1.5e+00 9.96e-05  8e-05  1e-04 0:05.6\n",
      "  400   6000 3.160076285920710e+03 1.6e+00 4.92e-06  4e-06  5e-06 0:07.5\n",
      "  500   7500 3.160076282163388e+03 1.7e+00 2.82e-07  2e-07  3e-07 0:09.4\n",
      "  600   9000 3.160076282154462e+03 1.7e+00 1.77e-08  1e-08  2e-08 0:11.2\n",
      "  700  10500 3.160076282154424e+03 1.7e+00 2.89e-09  2e-09  2e-09 0:13.1\n",
      "  743  11145 3.160076282154423e+03 1.8e+00 2.61e-09  2e-09  2e-09 0:14.0\n",
      "termination on tolfun=1e-11 (Mon Apr 13 15:02:17 2020)\n",
      "final/bestever f-value = 3.160076e+03 3.160076e+03\n",
      "incumbent solution: [-0.03729192  0.16792746 -0.24733188  0.21473332  0.1418224  -0.02816852\n",
      " -0.12247466  0.07988004 ...]\n",
      "std deviations: [2.09794486e-09 2.14576597e-09 2.06475221e-09 2.00102177e-09\n",
      " 1.86096783e-09 2.09299161e-09 2.03849585e-09 2.00075878e-09 ...]\n",
      "(7_w,15)-aCMA-ES (mu_w=4.5,w_1=34%) in dimension 50 (seed=949721, Mon Apr 13 15:02:17 2020)\n",
      "Iterat #Fevals   function value  axis ratio  sigma  min&max std  t[m:s]\n",
      "    1     15 7.748048691255744e+03 1.0e+00 2.57e-01  3e-01  3e-01 0:00.0\n",
      "    2     30 7.748048689788214e+03 1.0e+00 2.51e-01  2e-01  3e-01 0:00.0\n",
      "    3     45 7.748048684379287e+03 1.1e+00 2.48e-01  2e-01  2e-01 0:00.0\n"
     ]
    },
    {
     "name": "stderr",
     "output_type": "stream",
     "text": [
      "/usr/local/lib/python3.6/dist-packages/cma/utilities/utils.py:333: UserWarning: function_values is not a list of scalars,\n",
      "                        the first element equals [7748.04869219] with non-scalar type <class 'numpy.ndarray'>.\n",
      "                        Using now ``[v[0] for v in function_values]`` instead (further warnings are suppressed) ()\n",
      "  ')')\n",
      "/usr/local/lib/python3.6/dist-packages/cma/utilities/utils.py:333: UserWarning: function_values is not a list of scalars,\n",
      "                        the first element equals [7748.04869186] with non-scalar type <class 'numpy.ndarray'>.\n",
      "                        Using now ``[v[0] for v in function_values]`` instead (further warnings are suppressed) ()\n",
      "  ')')\n"
     ]
    },
    {
     "name": "stdout",
     "output_type": "stream",
     "text": [
      "  100   1500 7.517811326039877e+03 1.4e+00 2.44e-02  2e-02  2e-02 0:01.3\n",
      "  200   3000 7.506716782211991e+03 1.4e+00 1.36e-03  1e-03  1e-03 0:02.7\n",
      "  300   4500 7.506683773302469e+03 1.4e+00 7.89e-05  7e-05  7e-05 0:04.0\n",
      "  400   6000 7.506683665093630e+03 1.5e+00 4.50e-06  4e-06  4e-06 0:05.3\n",
      "  500   7500 7.506683664722289e+03 1.6e+00 3.32e-07  3e-07  3e-07 0:06.7\n",
      "  600   9000 7.506683664720566e+03 1.6e+00 2.59e-08  2e-08  2e-08 0:08.0\n"
     ]
    },
    {
     "name": "stderr",
     "output_type": "stream",
     "text": [
      "/usr/local/lib/python3.6/dist-packages/cma/utilities/utils.py:333: UserWarning: flat fitness (f=7506.683665, sigma=8.09e-09).\n",
      "                    For small sigma, this could indicate numerical convergence.\n",
      "                    Otherwise, please (re)consider how to compute the fitness more elaborately. (iteration=643)\n",
      "  ')')\n"
     ]
    },
    {
     "name": "stdout",
     "output_type": "stream",
     "text": [
      "  700  10500 7.506683664720559e+03 1.7e+00 4.87e-09  4e-09  4e-09 0:09.3\n",
      "  709  10635 7.506683664720559e+03 1.7e+00 5.06e-09  4e-09  4e-09 0:09.5\n",
      "termination on tolfun=1e-11 (Mon Apr 13 15:02:29 2020)\n",
      "final/bestever f-value = 7.506684e+03 7.506684e+03\n",
      "incumbent solution: [-0.03043294  0.07527816 -0.17371063  0.12669349  0.12777737 -0.06348448\n",
      " -0.05164055  0.00230375 ...]\n",
      "std deviations: [4.10330102e-09 3.91613549e-09 3.99802960e-09 4.07147414e-09\n",
      " 3.96307876e-09 4.24574606e-09 3.93707619e-09 3.98962073e-09 ...]\n",
      "(7_w,15)-aCMA-ES (mu_w=4.5,w_1=34%) in dimension 50 (seed=859809, Mon Apr 13 15:02:29 2020)\n",
      "Iterat #Fevals   function value  axis ratio  sigma  min&max std  t[m:s]\n",
      "    1     15 8.153014007917244e+03 1.0e+00 2.54e-01  3e-01  3e-01 0:00.0\n",
      "    2     30 7.687504478381024e+03 1.0e+00 2.44e-01  2e-01  2e-01 0:00.0\n",
      "    3     45 7.522965590553720e+03 1.1e+00 2.38e-01  2e-01  2e-01 0:00.1\n"
     ]
    },
    {
     "name": "stderr",
     "output_type": "stream",
     "text": [
      "/usr/local/lib/python3.6/dist-packages/cma/utilities/utils.py:333: UserWarning: function_values is not a list of scalars,\n",
      "                        the first element equals [8826.89834418] with non-scalar type <class 'numpy.ndarray'>.\n",
      "                        Using now ``[v[0] for v in function_values]`` instead (further warnings are suppressed) ()\n",
      "  ')')\n",
      "/usr/local/lib/python3.6/dist-packages/cma/utilities/utils.py:333: UserWarning: function_values is not a list of scalars,\n",
      "                        the first element equals [7687.50447838] with non-scalar type <class 'numpy.ndarray'>.\n",
      "                        Using now ``[v[0] for v in function_values]`` instead (further warnings are suppressed) ()\n",
      "  ')')\n"
     ]
    },
    {
     "name": "stdout",
     "output_type": "stream",
     "text": [
      "  100   1500 -1.229301020909008e+09 1.9e+00 1.19e+02  1e+02  1e+02 0:01.8\n",
      "  110   1650 -5.476124298098316e+09 1.9e+00 2.74e+02  3e+02  3e+02 0:02.0\n",
      "termination on tolfacupx=1000.0 (Mon Apr 13 15:02:31 2020)\n",
      "final/bestever f-value = -5.489658e+09 -5.489658e+09\n",
      "incumbent solution: [-576.54956265 1504.22571206 -789.02724897  488.43050579  891.07459714\n",
      " -852.33459153 -784.1565518  -407.78609369 ...]\n",
      "std deviations: [267.62803995 261.93050802 273.09598396 270.92900429 272.70574189\n",
      " 273.32349153 276.86393651 261.4506844  ...]\n"
     ]
    }
   ],
   "source": [
    "Columns = ['Kri' , 'SVR' , 'ELN' ]\n",
    "Cols = []\n",
    "for j in range(len(Columns)):\n",
    "    for i in range(1,51):\n",
    "        Cols.append(Columns[j]+'_Z'+str(i))\n",
    "\n",
    "opt = cma.CMAOptions()\n",
    "opt.set (\"seed\" , 0)\n",
    "opt.set (\"maxfevals\" , 50000)\n",
    "\n",
    "n_obs , dim =  30, 50\n",
    "G = DOE(n_obs, dim)\n",
    "G = [ G[idx].reshape(n_obs,1) for idx in range(len(G)) ]\n",
    "X_Values = np.zeros([30,150])\n",
    "for i in range(G[1].shape[0]):\n",
    "    print ('Run : '+ str(i))\n",
    "    min_kri = cma.fmin(predict_kri , np.concatenate(G, 1)[i] , 0.2689433305566933 , options=opt) [0]\n",
    "    min_svr = cma.fmin(predict_svr , np.concatenate(G, 1)[i] , 0.2689433305566933 , options=opt) [0]\n",
    "    min_eln = cma.fmin(predict_eln , np.concatenate(G, 1)[i] , 0.2689433305566933 , options=opt) [0]\n",
    "    X_Values [i,:] = list(min_kri)+list(min_svr)+list(min_eln)"
   ]
  },
  {
   "cell_type": "code",
   "execution_count": 7,
   "metadata": {
    "colab": {
     "base_uri": "https://localhost:8080/",
     "height": 121
    },
    "colab_type": "code",
    "id": "9SYW02OkZ6MM",
    "outputId": "e7c30d82-0a67-4014-9e98-f6d2f78b9450"
   },
   "outputs": [
    {
     "name": "stdout",
     "output_type": "stream",
     "text": [
      "Kriging\n",
      "ModeResult(mode=array([3157.39032352]), count=array([1])) 9.287160478897406e-07\n",
      "SVM\n",
      "ModeResult(mode=array([3009.4942693]), count=array([1])) 72.04115004257552\n",
      "ELN\n",
      "ModeResult(mode=array([933576.2981575]), count=array([1])) 2445228.9849652164\n"
     ]
    }
   ],
   "source": [
    "X_Values = pd.DataFrame(X_Values)\n",
    "X_Values.columns = Cols\n",
    "X_Values.to_csv('F13_100_X_Values.csv')\n",
    "Krig_Fun = np.zeros(30)\n",
    "SVM_Fun = np.zeros(30)\n",
    "KNN_Fun = np.zeros(30)\n",
    "ELN_Fun = np.zeros(30)\n",
    "for i in range(X_Values.shape[0]):\n",
    "    Krig_Fun [i] = F13(X_Values.iloc[i,:50])\n",
    "    SVM_Fun [i] = F13(X_Values.iloc[i,50:100])\n",
    "    ELN_Fun [i] = F13(X_Values.iloc[i,100:150])\n",
    "print ('Kriging')\n",
    "print (stats.mode(Krig_Fun) , np.std(Krig_Fun))\n",
    "print ('SVM')\n",
    "print (stats.mode(SVM_Fun) , np.std(SVM_Fun))\n",
    "print ('ELN')\n",
    "print (stats.mode(ELN_Fun) , np.std(ELN_Fun))"
   ]
  }
 ],
 "metadata": {
  "colab": {
   "collapsed_sections": [],
   "name": "F13_100.ipynb",
   "provenance": []
  },
  "kernelspec": {
   "display_name": "Python 3",
   "language": "python",
   "name": "python3"
  },
  "language_info": {
   "codemirror_mode": {
    "name": "ipython",
    "version": 3
   },
   "file_extension": ".py",
   "mimetype": "text/x-python",
   "name": "python",
   "nbconvert_exporter": "python",
   "pygments_lexer": "ipython3",
   "version": "3.7.0"
  }
 },
 "nbformat": 4,
 "nbformat_minor": 1
}
