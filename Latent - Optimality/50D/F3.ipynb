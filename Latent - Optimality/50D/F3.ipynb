{
 "cells": [
  {
   "cell_type": "code",
   "execution_count": 1,
   "metadata": {
    "colab": {
     "base_uri": "https://localhost:8080/",
     "height": 315
    },
    "colab_type": "code",
    "id": "6zkV22S_a51g",
    "outputId": "62f06be2-9373-4e6b-b8b3-3748cbbc7c7e"
   },
   "outputs": [
    {
     "name": "stdout",
     "output_type": "stream",
     "text": [
      "Collecting pyDOE\n",
      "  Downloading https://files.pythonhosted.org/packages/bc/ac/91fe4c039e2744466621343d3b8af4a485193ed0aab53af5b1db03be0989/pyDOE-0.3.8.zip\n",
      "Requirement already satisfied: numpy in /usr/local/lib/python3.6/dist-packages (from pyDOE) (1.18.2)\n",
      "Requirement already satisfied: scipy in /usr/local/lib/python3.6/dist-packages (from pyDOE) (1.4.1)\n",
      "Building wheels for collected packages: pyDOE\n",
      "  Building wheel for pyDOE (setup.py) ... \u001b[?25l\u001b[?25hdone\n",
      "  Created wheel for pyDOE: filename=pyDOE-0.3.8-cp36-none-any.whl size=18178 sha256=4ed3d9d2502d0d9fb27bd3c4630439251f4caa70dd024afaa636a847072495de\n",
      "  Stored in directory: /root/.cache/pip/wheels/7c/c8/58/a6493bd415e8ba5735082b5e0c096d7c1f2933077a8ce34544\n",
      "Successfully built pyDOE\n",
      "Installing collected packages: pyDOE\n",
      "Successfully installed pyDOE-0.3.8\n",
      "Collecting cma\n",
      "\u001b[?25l  Downloading https://files.pythonhosted.org/packages/b9/3b/87a4efbcfeaf3172d81ef843f0b0c34c3ba60ec884aa6777f34f68b57418/cma-2.7.0-py2.py3-none-any.whl (239kB)\n",
      "\u001b[K     |████████████████████████████████| 245kB 4.7MB/s \n",
      "\u001b[?25hInstalling collected packages: cma\n",
      "Successfully installed cma-2.7.0\n"
     ]
    }
   ],
   "source": [
    "!pip install pyDOE\n",
    "!pip install cma\n"
   ]
  },
  {
   "cell_type": "code",
   "execution_count": 0,
   "metadata": {
    "colab": {},
    "colab_type": "code",
    "id": "-SLdZF_crfs5"
   },
   "outputs": [],
   "source": []
  },
  {
   "cell_type": "code",
   "execution_count": 0,
   "metadata": {
    "colab": {},
    "colab_type": "code",
    "id": "G7KSBbE6rjkt"
   },
   "outputs": [],
   "source": []
  },
  {
   "cell_type": "code",
   "execution_count": 0,
   "metadata": {
    "colab": {},
    "colab_type": "code",
    "id": "gtM9rgADZ6Ly"
   },
   "outputs": [],
   "source": [
    "import pyDOE\n",
    "from scipy import stats\n",
    "import pandas as pd\n",
    "import numpy as np\n",
    "from scipy.optimize import minimize\n",
    "from scipy.optimize import Bounds\n",
    "from collections import namedtuple\n",
    "import cma\n",
    "from sklearn.preprocessing import MinMaxScaler\n",
    "import scipy.stats.distributions as dist\n",
    "from sklearn.gaussian_process import GaussianProcessRegressor\n",
    "from sklearn.gaussian_process.kernels import RBF, ConstantKernel as C\n",
    "from sklearn.gaussian_process.kernels import DotProduct\n",
    "from sklearn.model_selection import train_test_split\n",
    "from sklearn import preprocessing\n",
    "from sklearn.neighbors import KNeighborsRegressor\n",
    "from sklearn.svm import SVR\n",
    "from sklearn.linear_model import ElasticNet\n",
    "from sklearn.preprocessing import PolynomialFeatures\n",
    "import bbobbenchmarks as bn\n",
    "import sklearn"
   ]
  },
  {
   "cell_type": "markdown",
   "metadata": {
    "colab_type": "text",
    "id": "yl7hfUygZ6L3"
   },
   "source": [
    "## Surrogate Models & Helper Functions"
   ]
  },
  {
   "cell_type": "code",
   "execution_count": 0,
   "metadata": {
    "colab": {},
    "colab_type": "code",
    "id": "7laVf7KtZ6L3"
   },
   "outputs": [],
   "source": [
    "ValueRange = namedtuple('ValueRange', ['min', 'max'])\n",
    "\n",
    "def determinerange(values):\n",
    "    \"\"\"Determine the range of values in each dimension\"\"\"\n",
    "    return ValueRange(np.min(values, axis=0), np.max(values, axis=0))\n",
    "\n",
    "\n",
    "def linearscaletransform(values, *, range_in=None, range_out=ValueRange(0, 1), scale_only=False):\n",
    "    \"\"\"Perform a scale transformation of `values`: [range_in] --> [range_out]\"\"\"\n",
    "\n",
    "    if range_in is None:\n",
    "        range_in = determinerange(values)\n",
    "    elif not isinstance(range_in, ValueRange):\n",
    "        range_in = ValueRange(*range_in)\n",
    "\n",
    "    if not isinstance(range_out, ValueRange):\n",
    "        range_out = ValueRange(*range_out)\n",
    "\n",
    "    scale_out = range_out.max - range_out.min\n",
    "    scale_in = range_in.max - range_in.min\n",
    "\n",
    "    if scale_only:\n",
    "        scaled_values = (values / scale_in) * scale_out\n",
    "    else:\n",
    "        scaled_values = (values - range_in.min) / scale_in\n",
    "        scaled_values = (scaled_values * scale_out) + range_out.min\n",
    "\n",
    "    return scaled_values\n",
    "\n",
    "\n",
    "''' F3 '''\n",
    "def F3(X):\n",
    "    f = bn.F3()\n",
    "    X = np.array(X)\n",
    "    return f(X)\n",
    "\n",
    "''' Latin HyperCube Sampling Design of Experiment '''\n",
    "def DOE(n_obs, dim):\n",
    "    np.random.seed(0)\n",
    "    lhd = pyDOE.lhs(n=dim, samples=n_obs, criterion='m')\n",
    "    X = [lhd[:,idx] for idx in range(dim)]\n",
    "    return X\n",
    "\n",
    "def create_basis_function(data):\n",
    "    true = np.array(data['Y'])\n",
    "    data = pd.DataFrame(np.atleast_2d(PolynomialFeatures(degree=2).fit_transform(data.iloc[:,:-1])))\n",
    "    data['Y'] = pd.Series(true)\n",
    "    return data\n",
    "\n",
    "''' Create Basis Functions '''\n",
    "def create_function_basis(x):\n",
    "    return np.atleast_2d(PolynomialFeatures(degree=2).fit_transform(x.reshape(1,-1)))\n",
    "      \n",
    "\n",
    "''' Elastic Net Regression '''\n",
    "def elastic_net(train_data,test_data):\n",
    "    scaler =  MinMaxScaler().fit(np.r_[train_data.iloc[:,:-1].values])\n",
    "    regr = ElasticNet(alpha= 0.11160 ,random_state=0 , l1_ratio= 0.9799, fit_intercept =True, max_iter=3000,selection='random').fit(scaler.transform ( np.array(train_data.iloc[:,:-1])) ,  np.array(train_data.iloc[:,-1]))\n",
    "    pred = regr.predict(scaler.transform(test_data))\n",
    "    def predict(scaler, regr):\n",
    "        def __predict__(x):\n",
    "            x = create_function_basis(x)\n",
    "            return regr.predict(scaler.transform(x))\n",
    "        return __predict__\n",
    "    return regr,pred, predict(scaler, regr)\n",
    "    \n",
    "\n",
    "''' Kriging'''\n",
    "def kriging(train_data,test_data):\n",
    "    kernel =  RBF()\n",
    "    scaler = MinMaxScaler().fit(np.r_[train_data.iloc[:,:-1].values])\n",
    "    gpr = GaussianProcessRegressor(kernel=kernel,n_restarts_optimizer= 15,random_state=0,\n",
    "                                   normalize_y=True ).fit(scaler.transform(train_data.iloc[:,:-1]), train_data.iloc[:,-1])\n",
    "    pred = gpr.predict(scaler.transform(test_data))\n",
    "    def predict(scaler, gpr):\n",
    "        def __predict__(x):\n",
    "            x = np.atleast_2d(x)\n",
    "            return gpr.predict(scaler.transform(x))\n",
    "        return __predict__\n",
    "    return gpr,pred, predict(scaler,gpr)\n",
    "\n",
    "''' Support Vector Regression'''\n",
    "def _SVR(train_data,test_data):\n",
    "    scaler = MinMaxScaler().fit(np.r_[train_data.iloc[:,:-1].values])\n",
    "    gpr = sklearn.svm.SVR(kernel='rbf', gamma = 4.96 , C = 1000.000000 ,max_iter=1500).fit( scaler.transform(train_data.iloc[:,:-1]), train_data.iloc[:,-1])\n",
    "    pred = gpr.predict(scaler.transform(test_data))\n",
    "    def predict(scaler, gpr):\n",
    "        def __predict__(x):\n",
    "            x = np.atleast_2d(x)\n",
    "            return gpr.predict(scaler.transform(x))\n",
    "        return __predict__\n",
    "    return gpr,pred, predict(scaler,gpr)"
   ]
  },
  {
   "cell_type": "markdown",
   "metadata": {
    "colab_type": "text",
    "id": "s5Dro9woZ6L7"
   },
   "source": [
    "## Load Training and Test Data Set initially Generated"
   ]
  },
  {
   "cell_type": "code",
   "execution_count": 0,
   "metadata": {
    "colab": {},
    "colab_type": "code",
    "id": "j9jwRavXZ6L8"
   },
   "outputs": [],
   "source": [
    "path = \"train_3_1000Samples.csv\"\n",
    "train_y = pd.read_csv(path).iloc[:,-1]\n",
    "test_y = pd.read_csv('test_3_200Samples.csv').iloc[:,-1]\n",
    "path = \"train_latent_50D.csv\"\n",
    "train = pd.read_csv(path, index_col = 0)\n",
    "test = pd.read_csv('test_latent_50D.csv', index_col = 0)\n",
    "train ['Y'] = train_y\n",
    "test ['Y'] = test_y\n",
    "del train_y\n",
    "del test_y\n",
    "true = np.array(test['Y'])"
   ]
  },
  {
   "cell_type": "markdown",
   "metadata": {
    "colab_type": "text",
    "id": "c1az15PJZ6MA"
   },
   "source": [
    "## Surrogate Models"
   ]
  },
  {
   "cell_type": "code",
   "execution_count": 0,
   "metadata": {
    "colab": {},
    "colab_type": "code",
    "id": "Fw-8Jpm1Z6MA"
   },
   "outputs": [],
   "source": [
    "model_kri , pred_kri , predict_kri = kriging(train,test.iloc[:,:-1])\n",
    "model_svr , pred_svr , predict_svr = _SVR(train,test.iloc[:,:-1])\n",
    "train = create_basis_function(train)\n",
    "test = create_basis_function(test)\n",
    "model_eln , pred_eln , predict_eln = elastic_net(train,test.iloc[:,:-1])"
   ]
  },
  {
   "cell_type": "markdown",
   "metadata": {
    "colab_type": "text",
    "id": "ehujGygVZ6ME"
   },
   "source": [
    "## CMA-ES"
   ]
  },
  {
   "cell_type": "code",
   "execution_count": 6,
   "metadata": {
    "colab": {
     "base_uri": "https://localhost:8080/",
     "height": 1000
    },
    "colab_type": "code",
    "id": "eTYv39UzZ6MF",
    "outputId": "2d3d650b-f178-42ff-94d8-df78f671662d"
   },
   "outputs": [
    {
     "name": "stdout",
     "output_type": "stream",
     "text": [
      "Run : 0\n",
      "(6_w,13)-aCMA-ES (mu_w=4.0,w_1=38%) in dimension 25 (seed=838996, Mon Apr 13 13:03:30 2020)\n",
      "Iterat #Fevals   function value  axis ratio  sigma  min&max std  t[m:s]\n",
      "    1     13 6.480118784517267e+03 1.0e+00 1.23e-01  1e-01  1e-01 0:00.0\n",
      "    2     26 6.474132280182680e+03 1.1e+00 1.22e-01  1e-01  1e-01 0:00.0\n",
      "    3     39 6.462539499017828e+03 1.2e+00 1.23e-01  1e-01  1e-01 0:00.0\n"
     ]
    },
    {
     "name": "stderr",
     "output_type": "stream",
     "text": [
      "/usr/local/lib/python3.6/dist-packages/cma/utilities/utils.py:333: UserWarning: function_values is not a list of scalars,\n",
      "                        the first element equals [6488.58091598] with non-scalar type <class 'numpy.ndarray'>.\n",
      "                        Using now ``[v[0] for v in function_values]`` instead (further warnings are suppressed) ()\n",
      "  ')')\n",
      "/usr/local/lib/python3.6/dist-packages/cma/utilities/utils.py:333: UserWarning: function_values is not a list of scalars,\n",
      "                        the first element equals [6480.49756621] with non-scalar type <class 'numpy.ndarray'>.\n",
      "                        Using now ``[v[0] for v in function_values]`` instead (further warnings are suppressed) ()\n",
      "  ')')\n"
     ]
    },
    {
     "name": "stdout",
     "output_type": "stream",
     "text": [
      "  100   1300 -7.718260552439606e+02 1.8e+00 9.36e-03  8e-03  1e-02 0:01.1\n",
      "  200   2600 -7.900276351738030e+02 2.1e+00 1.20e-04  8e-05  1e-04 0:02.2\n",
      "  300   3900 -7.900296067970930e+02 2.5e+00 2.12e-06  1e-06  2e-06 0:03.3\n",
      "  400   5200 -7.900296071266612e+02 2.7e+00 2.22e-08  1e-08  2e-08 0:04.4\n",
      "  492   6396 -7.900296071267157e+02 3.2e+00 1.81e-09  7e-10  1e-09 0:05.4\n",
      "termination on tolfun=1e-11 (Mon Apr 13 13:03:37 2020)\n",
      "final/bestever f-value = -7.900296e+02 -7.900296e+02\n",
      "incumbent solution: [-0.00982798  0.07743961 -0.05328936 -0.04366306 -0.25058487  0.22432777\n",
      " -0.00688878 -0.00087847 ...]\n",
      "std deviations: [9.89875721e-10 9.77977452e-10 7.48054957e-10 9.58124068e-10\n",
      " 9.22095682e-10 9.24060186e-10 1.03340631e-09 9.31953044e-10 ...]\n",
      "(6_w,13)-aCMA-ES (mu_w=4.0,w_1=38%) in dimension 25 (seed=846444, Mon Apr 13 13:03:37 2020)\n",
      "Iterat #Fevals   function value  axis ratio  sigma  min&max std  t[m:s]\n",
      "    1     13 6.134101434611265e+03 1.0e+00 1.20e-01  1e-01  1e-01 0:00.0\n",
      "    2     26 6.129647522616635e+03 1.1e+00 1.13e-01  1e-01  1e-01 0:00.0\n",
      "    3     39 6.114171447852049e+03 1.1e+00 1.09e-01  1e-01  1e-01 0:00.0\n"
     ]
    },
    {
     "name": "stderr",
     "output_type": "stream",
     "text": [
      "/usr/local/lib/python3.6/dist-packages/cma/utilities/utils.py:333: UserWarning: function_values is not a list of scalars,\n",
      "                        the first element equals [6138.24428102] with non-scalar type <class 'numpy.ndarray'>.\n",
      "                        Using now ``[v[0] for v in function_values]`` instead (further warnings are suppressed) ()\n",
      "  ')')\n",
      "/usr/local/lib/python3.6/dist-packages/cma/utilities/utils.py:333: UserWarning: function_values is not a list of scalars,\n",
      "                        the first element equals [6141.29949873] with non-scalar type <class 'numpy.ndarray'>.\n",
      "                        Using now ``[v[0] for v in function_values]`` instead (further warnings are suppressed) ()\n",
      "  ')')\n"
     ]
    },
    {
     "name": "stdout",
     "output_type": "stream",
     "text": [
      "  100   1300 5.026481706648383e+02 1.8e+00 9.47e-03  8e-03  9e-03 0:00.9\n",
      "  200   2600 4.911994567889224e+02 2.0e+00 1.76e-04  1e-04  1e-04 0:01.8\n",
      "  300   3900 4.911971297457221e+02 2.0e+00 2.33e-06  1e-06  2e-06 0:02.7\n",
      "  400   5200 4.911971294213545e+02 2.2e+00 2.89e-08  1e-08  2e-08 0:03.6\n",
      "  500   6500 4.911971294213045e+02 2.6e+00 4.86e-09  2e-09  3e-09 0:04.5\n",
      "  600   7800 4.911971294212990e+02 3.2e+00 3.62e-09  1e-09  2e-09 0:05.4\n",
      "  700   9100 4.911971294212972e+02 3.7e+00 2.10e-09  7e-10  1e-09 0:06.3\n",
      "  800  10400 4.911971294212963e+02 4.3e+00 1.25e-09  4e-10  8e-10 0:07.2\n",
      "  900  11700 4.911971294212963e+02 5.2e+00 9.43e-10  3e-10  7e-10 0:08.0\n",
      " 1000  13000 4.911971294212944e+02 5.7e+00 1.27e-09  4e-10  8e-10 0:08.9\n",
      "Iterat #Fevals   function value  axis ratio  sigma  min&max std  t[m:s]\n",
      " 1100  14300 4.911971294212963e+02 5.9e+00 1.43e-09  4e-10  9e-10 0:09.8\n",
      " 1200  15600 4.911971294212999e+02 6.9e+00 3.77e-10  1e-10  2e-10 0:10.7\n",
      " 1300  16900 4.911971294212990e+02 9.6e+00 4.96e-10  1e-10  3e-10 0:11.6\n",
      " 1400  18200 4.911971294213026e+02 1.0e+01 3.39e-10  1e-10  2e-10 0:12.5\n",
      " 1500  19500 4.911971294213008e+02 1.3e+01 3.87e-10  1e-10  3e-10 0:13.4\n",
      " 1600  20800 4.911971294212990e+02 1.4e+01 2.77e-10  8e-11  2e-10 0:14.3\n",
      "termination on tolstagnation=1061 (Mon Apr 13 13:03:56 2020)\n",
      "final/bestever f-value = 4.911971e+02 4.911971e+02\n",
      "incumbent solution: [-0.03480841  0.08888245 -0.08279112 -0.03537029 -0.27922569  0.20285758\n",
      " -0.0404153   0.01401395 ...]\n",
      "std deviations: [1.11440431e-10 1.25075403e-10 1.17945509e-10 1.02393240e-10\n",
      " 9.40089961e-11 1.39770309e-10 1.03414121e-10 1.91971775e-10 ...]\n",
      "(6_w,13)-aCMA-ES (mu_w=4.0,w_1=38%) in dimension 25 (seed=937608, Mon Apr 13 13:03:56 2020)\n",
      "Iterat #Fevals   function value  axis ratio  sigma  min&max std  t[m:s]\n",
      "    1     13 1.076179429086470e+04 1.0e+00 1.20e-01  1e-01  1e-01 0:00.0\n",
      "    2     26 9.749564183270506e+03 1.1e+00 1.17e-01  1e-01  1e-01 0:00.0\n",
      "    3     39 7.515998970243572e+03 1.1e+00 1.19e-01  1e-01  1e-01 0:00.0\n"
     ]
    },
    {
     "name": "stderr",
     "output_type": "stream",
     "text": [
      "/usr/local/lib/python3.6/dist-packages/cma/utilities/utils.py:333: UserWarning: function_values is not a list of scalars,\n",
      "                        the first element equals [14121.6011529] with non-scalar type <class 'numpy.ndarray'>.\n",
      "                        Using now ``[v[0] for v in function_values]`` instead (further warnings are suppressed) ()\n",
      "  ')')\n",
      "/usr/local/lib/python3.6/dist-packages/cma/utilities/utils.py:333: UserWarning: function_values is not a list of scalars,\n",
      "                        the first element equals [10881.35667345] with non-scalar type <class 'numpy.ndarray'>.\n",
      "                        Using now ``[v[0] for v in function_values]`` instead (further warnings are suppressed) ()\n",
      "  ')')\n"
     ]
    },
    {
     "name": "stdout",
     "output_type": "stream",
     "text": [
      "   73    949 -5.054732860539104e+09 1.8e+00 1.25e+02  1e+02  1e+02 0:01.0\n",
      "termination on tolfacupx=1000.0 (Mon Apr 13 13:03:57 2020)\n",
      "final/bestever f-value = -4.643138e+09 -5.054733e+09\n",
      "incumbent solution: [ 192.89962982 -694.68287147  382.650272    336.62942502  153.49932819\n",
      " -116.29630289  102.93385556  -31.41697796 ...]\n",
      "std deviations: [117.75212621 129.90324704 124.81028815 123.34499556 117.21509619\n",
      " 120.58995895 113.29393847 111.28805449 ...]\n",
      "Run : 1\n",
      "(6_w,13)-aCMA-ES (mu_w=4.0,w_1=38%) in dimension 25 (seed=937190, Mon Apr 13 13:03:57 2020)\n",
      "Iterat #Fevals   function value  axis ratio  sigma  min&max std  t[m:s]\n",
      "    1     13 6.482903019896696e+03 1.0e+00 1.21e-01  1e-01  1e-01 0:00.0\n",
      "    2     26 6.482884898031190e+03 1.1e+00 1.19e-01  1e-01  1e-01 0:00.0\n",
      "    3     39 6.482880782414239e+03 1.1e+00 1.19e-01  1e-01  1e-01 0:00.0\n"
     ]
    },
    {
     "name": "stderr",
     "output_type": "stream",
     "text": [
      "/usr/local/lib/python3.6/dist-packages/cma/utilities/utils.py:333: UserWarning: function_values is not a list of scalars,\n",
      "                        the first element equals [6482.91896575] with non-scalar type <class 'numpy.ndarray'>.\n",
      "                        Using now ``[v[0] for v in function_values]`` instead (further warnings are suppressed) ()\n",
      "  ')')\n",
      "/usr/local/lib/python3.6/dist-packages/cma/utilities/utils.py:333: UserWarning: function_values is not a list of scalars,\n",
      "                        the first element equals [6482.97468941] with non-scalar type <class 'numpy.ndarray'>.\n",
      "                        Using now ``[v[0] for v in function_values]`` instead (further warnings are suppressed) ()\n",
      "  ')')\n"
     ]
    },
    {
     "name": "stdout",
     "output_type": "stream",
     "text": [
      "  100   1300 -7.089206644787309e+02 2.0e+00 1.98e-02  2e-02  2e-02 0:01.1\n",
      "  200   2600 -7.900138180053855e+02 2.1e+00 2.83e-04  2e-04  2e-04 0:02.2\n",
      "  300   3900 -7.900296008367532e+02 2.3e+00 6.06e-06  3e-06  5e-06 0:03.3\n",
      "  400   5200 -7.900296071263911e+02 2.4e+00 6.66e-08  3e-08  4e-08 0:04.4\n",
      "  500   6500 -7.900296071267148e+02 2.7e+00 3.13e-09  1e-09  2e-09 0:05.4\n",
      "  510   6630 -7.900296071267148e+02 2.8e+00 2.46e-09  1e-09  1e-09 0:05.6\n",
      "termination on tolfun=1e-11 (Mon Apr 13 13:04:04 2020)\n",
      "final/bestever f-value = -7.900296e+02 -7.900296e+02\n",
      "incumbent solution: [-0.00982798  0.07743961 -0.05328936 -0.04366305 -0.25058487  0.22432776\n",
      " -0.00688878 -0.00087847 ...]\n",
      "std deviations: [1.19723995e-09 1.42008296e-09 1.10935166e-09 1.37619862e-09\n",
      " 1.16702236e-09 1.25754783e-09 1.25042994e-09 1.20444964e-09 ...]\n",
      "(6_w,13)-aCMA-ES (mu_w=4.0,w_1=38%) in dimension 25 (seed=911664, Mon Apr 13 13:04:04 2020)\n",
      "Iterat #Fevals   function value  axis ratio  sigma  min&max std  t[m:s]\n",
      "    1     13 6.139405673948857e+03 1.0e+00 1.21e-01  1e-01  1e-01 0:00.0\n",
      "    2     26 6.139399310264825e+03 1.1e+00 1.15e-01  1e-01  1e-01 0:00.0\n",
      "    3     39 6.138678099645486e+03 1.1e+00 1.14e-01  1e-01  1e-01 0:00.0\n"
     ]
    },
    {
     "name": "stderr",
     "output_type": "stream",
     "text": [
      "/usr/local/lib/python3.6/dist-packages/cma/utilities/utils.py:333: UserWarning: function_values is not a list of scalars,\n",
      "                        the first element equals [6139.50867858] with non-scalar type <class 'numpy.ndarray'>.\n",
      "                        Using now ``[v[0] for v in function_values]`` instead (further warnings are suppressed) ()\n",
      "  ')')\n",
      "/usr/local/lib/python3.6/dist-packages/cma/utilities/utils.py:333: UserWarning: function_values is not a list of scalars,\n",
      "                        the first element equals [6139.39931026] with non-scalar type <class 'numpy.ndarray'>.\n",
      "                        Using now ``[v[0] for v in function_values]`` instead (further warnings are suppressed) ()\n",
      "  ')')\n"
     ]
    },
    {
     "name": "stdout",
     "output_type": "stream",
     "text": [
      "  100   1300 5.084585968411702e+02 1.9e+00 1.07e-02  9e-03  1e-02 0:00.9\n",
      "  200   2600 4.912007477183161e+02 1.9e+00 1.83e-04  1e-04  2e-04 0:01.8\n",
      "  300   3900 4.911971302166003e+02 2.2e+00 3.23e-06  2e-06  2e-06 0:02.7\n",
      "  400   5200 4.911971294214782e+02 2.4e+00 6.36e-08  3e-08  4e-08 0:03.6\n",
      "  500   6500 4.911971294212908e+02 2.8e+00 4.50e-09  2e-09  3e-09 0:04.5\n",
      "  600   7800 4.911971294212981e+02 3.3e+00 3.35e-09  1e-09  2e-09 0:05.3\n",
      "  700   9100 4.911971294212981e+02 3.7e+00 3.24e-09  1e-09  2e-09 0:06.2\n",
      "  800  10400 4.911971294213017e+02 4.3e+00 2.51e-09  9e-10  2e-09 0:07.1\n",
      "  900  11700 4.911971294212944e+02 5.2e+00 6.25e-10  2e-10  4e-10 0:08.0\n",
      " 1000  13000 4.911971294212981e+02 6.5e+00 8.90e-10  3e-10  6e-10 0:08.9\n",
      "Iterat #Fevals   function value  axis ratio  sigma  min&max std  t[m:s]\n",
      " 1100  14300 4.911971294213008e+02 7.9e+00 7.48e-10  3e-10  5e-10 0:09.8\n",
      " 1200  15600 4.911971294212963e+02 1.1e+01 4.34e-10  1e-10  3e-10 0:10.6\n",
      " 1275  16575 4.911971294213008e+02 1.2e+01 3.61e-10  1e-10  3e-10 0:11.3\n",
      "termination on tolfun=1e-11 (Mon Apr 13 13:04:19 2020)\n",
      "final/bestever f-value = 4.911971e+02 4.911971e+02\n",
      "incumbent solution: [-0.03480841  0.08888245 -0.08279112 -0.03537028 -0.27922571  0.20285759\n",
      " -0.04041531  0.01401395 ...]\n",
      "std deviations: [1.64187264e-10 1.58906317e-10 1.56419316e-10 2.66228409e-10\n",
      " 1.96756608e-10 1.91582333e-10 1.40421175e-10 1.61967350e-10 ...]\n",
      "(6_w,13)-aCMA-ES (mu_w=4.0,w_1=38%) in dimension 25 (seed=956950, Mon Apr 13 13:04:19 2020)\n",
      "Iterat #Fevals   function value  axis ratio  sigma  min&max std  t[m:s]\n",
      "    1     13 8.816563601956213e+03 1.0e+00 1.21e-01  1e-01  1e-01 0:00.0\n",
      "    2     26 8.694073517254763e+03 1.1e+00 1.17e-01  1e-01  1e-01 0:00.0\n",
      "    3     39 6.808232231685312e+03 1.1e+00 1.17e-01  1e-01  1e-01 0:00.0\n"
     ]
    },
    {
     "name": "stderr",
     "output_type": "stream",
     "text": [
      "/usr/local/lib/python3.6/dist-packages/cma/utilities/utils.py:333: UserWarning: function_values is not a list of scalars,\n",
      "                        the first element equals [11361.94759448] with non-scalar type <class 'numpy.ndarray'>.\n",
      "                        Using now ``[v[0] for v in function_values]`` instead (further warnings are suppressed) ()\n",
      "  ')')\n",
      "/usr/local/lib/python3.6/dist-packages/cma/utilities/utils.py:333: UserWarning: function_values is not a list of scalars,\n",
      "                        the first element equals [10934.20803956] with non-scalar type <class 'numpy.ndarray'>.\n",
      "                        Using now ``[v[0] for v in function_values]`` instead (further warnings are suppressed) ()\n",
      "  ')')\n"
     ]
    },
    {
     "name": "stdout",
     "output_type": "stream",
     "text": [
      "   79   1027 -4.921561115172270e+09 2.0e+00 1.20e+02  1e+02  1e+02 0:01.1\n",
      "termination on tolfacupx=1000.0 (Mon Apr 13 13:04:21 2020)\n",
      "final/bestever f-value = -4.762548e+09 -4.921561e+09\n",
      "incumbent solution: [ 157.56556862 -670.88142154  363.2969955    96.77703524  175.18917491\n",
      " -189.58221146    7.64557437   42.53928743 ...]\n",
      "std deviations: [118.77885834 122.99088324 114.54634058 109.7296521  114.3537853\n",
      " 108.6743067  106.39510831 109.20633372 ...]\n",
      "Run : 2\n",
      "(6_w,13)-aCMA-ES (mu_w=4.0,w_1=38%) in dimension 25 (seed=832977, Mon Apr 13 13:04:21 2020)\n",
      "Iterat #Fevals   function value  axis ratio  sigma  min&max std  t[m:s]\n",
      "    1     13 6.482436213989908e+03 1.0e+00 1.21e-01  1e-01  1e-01 0:00.0\n",
      "    2     26 6.481905023796635e+03 1.1e+00 1.22e-01  1e-01  1e-01 0:00.0\n",
      "    3     39 6.481290442037391e+03 1.1e+00 1.27e-01  1e-01  1e-01 0:00.0\n"
     ]
    },
    {
     "name": "stderr",
     "output_type": "stream",
     "text": [
      "/usr/local/lib/python3.6/dist-packages/cma/utilities/utils.py:333: UserWarning: function_values is not a list of scalars,\n",
      "                        the first element equals [6482.8852755] with non-scalar type <class 'numpy.ndarray'>.\n",
      "                        Using now ``[v[0] for v in function_values]`` instead (further warnings are suppressed) ()\n",
      "  ')')\n",
      "/usr/local/lib/python3.6/dist-packages/cma/utilities/utils.py:333: UserWarning: function_values is not a list of scalars,\n",
      "                        the first element equals [6482.72810761] with non-scalar type <class 'numpy.ndarray'>.\n",
      "                        Using now ``[v[0] for v in function_values]`` instead (further warnings are suppressed) ()\n",
      "  ')')\n"
     ]
    },
    {
     "name": "stdout",
     "output_type": "stream",
     "text": [
      "  100   1300 -7.475005419939989e+02 1.8e+00 1.48e-02  1e-02  2e-02 0:01.1\n",
      "  200   2600 -7.900166006189129e+02 2.0e+00 2.55e-04  2e-04  2e-04 0:02.2\n",
      "  300   3900 -7.900296055819499e+02 2.2e+00 3.14e-06  2e-06  2e-06 0:03.3\n",
      "  400   5200 -7.900296071263292e+02 2.4e+00 6.98e-08  3e-08  5e-08 0:04.4\n",
      "  500   6500 -7.900296071267139e+02 2.6e+00 1.45e-09  6e-10  9e-10 0:05.5\n",
      "  513   6669 -7.900296071267148e+02 2.7e+00 1.17e-09  5e-10  7e-10 0:05.6\n",
      "termination on tolfun=1e-11 (Mon Apr 13 13:04:28 2020)\n",
      "final/bestever f-value = -7.900296e+02 -7.900296e+02\n",
      "incumbent solution: [-0.00982798  0.07743961 -0.05328936 -0.04366305 -0.25058487  0.22432777\n",
      " -0.00688878 -0.00087847 ...]\n",
      "std deviations: [5.60552777e-10 6.69692601e-10 5.28904414e-10 6.43378090e-10\n",
      " 5.86269621e-10 5.82824432e-10 5.63440770e-10 5.79433492e-10 ...]\n",
      "(6_w,13)-aCMA-ES (mu_w=4.0,w_1=38%) in dimension 25 (seed=883865, Mon Apr 13 13:04:28 2020)\n",
      "Iterat #Fevals   function value  axis ratio  sigma  min&max std  t[m:s]\n",
      "    1     13 6.139006076196464e+03 1.0e+00 1.20e-01  1e-01  1e-01 0:00.0\n",
      "    2     26 6.139135462544552e+03 1.1e+00 1.17e-01  1e-01  1e-01 0:00.0\n",
      "    3     39 6.135025093168577e+03 1.1e+00 1.21e-01  1e-01  1e-01 0:00.0\n"
     ]
    },
    {
     "name": "stderr",
     "output_type": "stream",
     "text": [
      "/usr/local/lib/python3.6/dist-packages/cma/utilities/utils.py:333: UserWarning: function_values is not a list of scalars,\n",
      "                        the first element equals [6139.46509436] with non-scalar type <class 'numpy.ndarray'>.\n",
      "                        Using now ``[v[0] for v in function_values]`` instead (further warnings are suppressed) ()\n",
      "  ')')\n",
      "/usr/local/lib/python3.6/dist-packages/cma/utilities/utils.py:333: UserWarning: function_values is not a list of scalars,\n",
      "                        the first element equals [6139.35784231] with non-scalar type <class 'numpy.ndarray'>.\n",
      "                        Using now ``[v[0] for v in function_values]`` instead (further warnings are suppressed) ()\n",
      "  ')')\n"
     ]
    },
    {
     "name": "stdout",
     "output_type": "stream",
     "text": [
      "  100   1300 5.046628915906631e+02 2.0e+00 9.04e-03  7e-03  9e-03 0:00.9\n",
      "  200   2600 4.912020205288072e+02 2.0e+00 1.86e-04  1e-04  2e-04 0:01.8\n",
      "  300   3900 4.911971299241814e+02 2.1e+00 2.42e-06  1e-06  2e-06 0:02.7\n",
      "  400   5200 4.911971294215273e+02 2.3e+00 5.91e-08  3e-08  4e-08 0:03.6\n",
      "  500   6500 4.911971294212926e+02 2.7e+00 5.12e-09  2e-09  3e-09 0:04.5\n",
      "  600   7800 4.911971294212990e+02 2.9e+00 2.10e-09  8e-10  1e-09 0:05.4\n",
      "  700   9100 4.911971294212981e+02 3.8e+00 1.29e-09  5e-10  8e-10 0:06.3\n",
      "  800  10400 4.911971294212917e+02 4.5e+00 1.43e-09  5e-10  9e-10 0:07.2\n",
      "  900  11700 4.911971294212981e+02 5.1e+00 1.12e-09  4e-10  7e-10 0:08.1\n",
      " 1000  13000 4.911971294212999e+02 5.5e+00 9.76e-10  3e-10  6e-10 0:08.9\n",
      "Iterat #Fevals   function value  axis ratio  sigma  min&max std  t[m:s]\n",
      " 1100  14300 4.911971294213026e+02 6.2e+00 4.31e-10  1e-10  3e-10 0:09.8\n",
      " 1200  15600 4.911971294212972e+02 7.5e+00 1.20e-09  4e-10  7e-10 0:10.7\n",
      " 1300  16900 4.911971294212963e+02 8.3e+00 8.44e-10  3e-10  5e-10 0:11.6\n",
      " 1400  18200 4.911971294212972e+02 1.1e+01 8.36e-10  3e-10  5e-10 0:12.5\n",
      " 1500  19500 4.911971294212990e+02 1.2e+01 7.25e-10  2e-10  5e-10 0:13.4\n",
      " 1600  20800 4.911971294212999e+02 1.5e+01 1.22e-09  4e-10  9e-10 0:14.3\n",
      " 1700  22100 4.911971294212981e+02 1.8e+01 9.03e-10  3e-10  7e-10 0:15.1\n",
      " 1790  23270 4.911971294212990e+02 2.2e+01 1.67e-09  5e-10  1e-09 0:15.9\n",
      "termination on tolstagnation=1061 (Mon Apr 13 13:04:49 2020)\n",
      "final/bestever f-value = 4.911971e+02 4.911971e+02\n",
      "incumbent solution: [-0.03480841  0.08888245 -0.08279111 -0.03537028 -0.27922571  0.20285759\n",
      " -0.04041532  0.01401395 ...]\n",
      "std deviations: [8.27043777e-10 6.24349109e-10 6.39654413e-10 7.28563498e-10\n",
      " 9.25716902e-10 7.02597472e-10 8.53088094e-10 5.88768398e-10 ...]\n",
      "(6_w,13)-aCMA-ES (mu_w=4.0,w_1=38%) in dimension 25 (seed=951609, Mon Apr 13 13:04:50 2020)\n",
      "Iterat #Fevals   function value  axis ratio  sigma  min&max std  t[m:s]\n",
      "    1     13 9.688026399960185e+03 1.0e+00 1.22e-01  1e-01  1e-01 0:00.0\n",
      "    2     26 7.869617872791857e+03 1.1e+00 1.19e-01  1e-01  1e-01 0:00.0\n",
      "    3     39 6.085178476262814e+03 1.1e+00 1.21e-01  1e-01  1e-01 0:00.0\n"
     ]
    },
    {
     "name": "stderr",
     "output_type": "stream",
     "text": [
      "/usr/local/lib/python3.6/dist-packages/cma/utilities/utils.py:333: UserWarning: function_values is not a list of scalars,\n",
      "                        the first element equals [9688.02639996] with non-scalar type <class 'numpy.ndarray'>.\n",
      "                        Using now ``[v[0] for v in function_values]`` instead (further warnings are suppressed) ()\n",
      "  ')')\n",
      "/usr/local/lib/python3.6/dist-packages/cma/utilities/utils.py:333: UserWarning: function_values is not a list of scalars,\n",
      "                        the first element equals [10929.06839157] with non-scalar type <class 'numpy.ndarray'>.\n",
      "                        Using now ``[v[0] for v in function_values]`` instead (further warnings are suppressed) ()\n",
      "  ')')\n"
     ]
    },
    {
     "name": "stdout",
     "output_type": "stream",
     "text": [
      "   60    780 -2.796960072477917e+09 1.8e+00 1.26e+02  1e+02  1e+02 0:00.8\n",
      "termination on tolfacupx=1000.0 (Mon Apr 13 13:04:51 2020)\n",
      "final/bestever f-value = -2.667508e+09 -2.796960e+09\n",
      "incumbent solution: [ 174.17567196 -330.56887825  433.06824584  128.32579212  413.82108416\n",
      "  -46.67927317   50.38660049  -31.07114392 ...]\n",
      "std deviations: [115.82735684 124.35175191 123.98586297 116.69509252 118.48902808\n",
      " 126.15576124 117.48862697 115.95320919 ...]\n",
      "Run : 3\n",
      "(6_w,13)-aCMA-ES (mu_w=4.0,w_1=38%) in dimension 25 (seed=809823, Mon Apr 13 13:04:51 2020)\n",
      "Iterat #Fevals   function value  axis ratio  sigma  min&max std  t[m:s]\n",
      "    1     13 6.482880349144377e+03 1.0e+00 1.21e-01  1e-01  1e-01 0:00.0\n",
      "    2     26 6.482880075876998e+03 1.1e+00 1.15e-01  1e-01  1e-01 0:00.0\n",
      "    3     39 6.482879337698103e+03 1.1e+00 1.11e-01  1e-01  1e-01 0:00.0\n"
     ]
    },
    {
     "name": "stderr",
     "output_type": "stream",
     "text": [
      "/usr/local/lib/python3.6/dist-packages/cma/utilities/utils.py:333: UserWarning: function_values is not a list of scalars,\n",
      "                        the first element equals [6482.882719] with non-scalar type <class 'numpy.ndarray'>.\n",
      "                        Using now ``[v[0] for v in function_values]`` instead (further warnings are suppressed) ()\n",
      "  ')')\n",
      "/usr/local/lib/python3.6/dist-packages/cma/utilities/utils.py:333: UserWarning: function_values is not a list of scalars,\n",
      "                        the first element equals [6482.88954424] with non-scalar type <class 'numpy.ndarray'>.\n",
      "                        Using now ``[v[0] for v in function_values]`` instead (further warnings are suppressed) ()\n",
      "  ')')\n"
     ]
    },
    {
     "name": "stdout",
     "output_type": "stream",
     "text": [
      "  100   1300 -7.060975978736069e+02 1.8e+00 2.01e-02  2e-02  2e-02 0:01.1\n",
      "  200   2600 -7.900080900618450e+02 2.1e+00 3.35e-04  2e-04  3e-04 0:02.2\n",
      "  300   3900 -7.900296055167419e+02 2.3e+00 3.70e-06  2e-06  3e-06 0:03.3\n",
      "  400   5200 -7.900296071263774e+02 2.4e+00 5.29e-08  2e-08  4e-08 0:04.4\n",
      "  500   6500 -7.900296071267157e+02 2.6e+00 2.20e-09  9e-10  1e-09 0:05.5\n",
      "  507   6591 -7.900296071267148e+02 2.6e+00 2.36e-09  1e-09  1e-09 0:05.6\n",
      "termination on tolfun=1e-11 (Mon Apr 13 13:04:58 2020)\n",
      "final/bestever f-value = -7.900296e+02 -7.900296e+02\n",
      "incumbent solution: [-0.00982798  0.07743961 -0.05328936 -0.04366305 -0.25058487  0.22432777\n",
      " -0.00688878 -0.00087846 ...]\n",
      "std deviations: [1.18555328e-09 1.31594486e-09 1.02534132e-09 1.32667157e-09\n",
      " 1.03004513e-09 1.19597774e-09 1.09414858e-09 1.15556354e-09 ...]\n",
      "(6_w,13)-aCMA-ES (mu_w=4.0,w_1=38%) in dimension 25 (seed=826579, Mon Apr 13 13:04:58 2020)\n",
      "Iterat #Fevals   function value  axis ratio  sigma  min&max std  t[m:s]\n",
      "    1     13 6.139469210160678e+03 1.0e+00 1.22e-01  1e-01  1e-01 0:00.0\n",
      "    2     26 6.139444732696164e+03 1.1e+00 1.22e-01  1e-01  1e-01 0:00.0\n",
      "    3     39 6.139447835938162e+03 1.1e+00 1.21e-01  1e-01  1e-01 0:00.0\n"
     ]
    },
    {
     "name": "stderr",
     "output_type": "stream",
     "text": [
      "/usr/local/lib/python3.6/dist-packages/cma/utilities/utils.py:333: UserWarning: function_values is not a list of scalars,\n",
      "                        the first element equals [6139.47843642] with non-scalar type <class 'numpy.ndarray'>.\n",
      "                        Using now ``[v[0] for v in function_values]`` instead (further warnings are suppressed) ()\n",
      "  ')')\n",
      "/usr/local/lib/python3.6/dist-packages/cma/utilities/utils.py:333: UserWarning: function_values is not a list of scalars,\n",
      "                        the first element equals [6139.46653305] with non-scalar type <class 'numpy.ndarray'>.\n",
      "                        Using now ``[v[0] for v in function_values]`` instead (further warnings are suppressed) ()\n",
      "  ')')\n"
     ]
    },
    {
     "name": "stdout",
     "output_type": "stream",
     "text": [
      "  100   1300 5.081010593779411e+02 1.8e+00 1.27e-02  1e-02  1e-02 0:00.9\n",
      "  200   2600 4.911992463743627e+02 1.9e+00 1.51e-04  1e-04  1e-04 0:01.8\n",
      "  300   3900 4.911971296859638e+02 2.2e+00 2.09e-06  1e-06  2e-06 0:02.7\n",
      "  400   5200 4.911971294213272e+02 2.2e+00 1.76e-08  8e-09  1e-08 0:03.6\n",
      "  500   6500 4.911971294212981e+02 2.6e+00 4.38e-09  2e-09  3e-09 0:04.5\n",
      "  600   7800 4.911971294213035e+02 3.2e+00 2.07e-09  8e-10  1e-09 0:05.4\n",
      "  700   9100 4.911971294213017e+02 4.2e+00 1.96e-09  8e-10  1e-09 0:06.3\n",
      "  785  10205 4.911971294213026e+02 4.9e+00 2.05e-09  8e-10  1e-09 0:07.0\n",
      "termination on tolfun=1e-11 (Mon Apr 13 13:05:07 2020)\n",
      "final/bestever f-value = 4.911971e+02 4.911971e+02\n",
      "incumbent solution: [-0.0348084   0.08888245 -0.08279111 -0.03537028 -0.27922571  0.2028576\n",
      " -0.04041531  0.01401395 ...]\n",
      "std deviations: [8.46163823e-10 1.28188607e-09 8.02600834e-10 1.09129311e-09\n",
      " 1.10581017e-09 1.13736102e-09 8.90156814e-10 1.26106519e-09 ...]\n",
      "(6_w,13)-aCMA-ES (mu_w=4.0,w_1=38%) in dimension 25 (seed=900064, Mon Apr 13 13:05:07 2020)\n",
      "Iterat #Fevals   function value  axis ratio  sigma  min&max std  t[m:s]\n",
      "    1     13 1.379685120227454e+04 1.0e+00 1.19e-01  1e-01  1e-01 0:00.0\n",
      "    2     26 1.312355643912940e+04 1.1e+00 1.15e-01  1e-01  1e-01 0:00.0\n",
      "    3     39 1.106895053349184e+04 1.1e+00 1.14e-01  1e-01  1e-01 0:00.0\n"
     ]
    },
    {
     "name": "stderr",
     "output_type": "stream",
     "text": [
      "/usr/local/lib/python3.6/dist-packages/cma/utilities/utils.py:333: UserWarning: function_values is not a list of scalars,\n",
      "                        the first element equals [16068.35103593] with non-scalar type <class 'numpy.ndarray'>.\n",
      "                        Using now ``[v[0] for v in function_values]`` instead (further warnings are suppressed) ()\n",
      "  ')')\n",
      "/usr/local/lib/python3.6/dist-packages/cma/utilities/utils.py:333: UserWarning: function_values is not a list of scalars,\n",
      "                        the first element equals [13123.55643913] with non-scalar type <class 'numpy.ndarray'>.\n",
      "                        Using now ``[v[0] for v in function_values]`` instead (further warnings are suppressed) ()\n",
      "  ')')\n"
     ]
    },
    {
     "name": "stdout",
     "output_type": "stream",
     "text": [
      "   71    923 -3.914243405019732e+09 1.8e+00 1.31e+02  1e+02  1e+02 0:01.0\n",
      "termination on tolfacupx=1000.0 (Mon Apr 13 13:05:08 2020)\n",
      "final/bestever f-value = -3.466003e+09 -3.914243e+09\n",
      "incumbent solution: [-190.95453578 -374.84945198  691.76252899    8.1212916   144.04184899\n",
      " -288.53264353 -112.02710836  135.33883739 ...]\n",
      "std deviations: [123.84879385 131.14438764 128.639197   121.64659265 117.86557317\n",
      " 123.43626589 118.7864072  124.15694381 ...]\n",
      "Run : 4\n",
      "(6_w,13)-aCMA-ES (mu_w=4.0,w_1=38%) in dimension 25 (seed=931218, Mon Apr 13 13:05:08 2020)\n",
      "Iterat #Fevals   function value  axis ratio  sigma  min&max std  t[m:s]\n",
      "    1     13 6.482883683755889e+03 1.0e+00 1.21e-01  1e-01  1e-01 0:00.0\n",
      "    2     26 6.482881482849178e+03 1.1e+00 1.17e-01  1e-01  1e-01 0:00.0\n",
      "    3     39 6.482880494419686e+03 1.1e+00 1.16e-01  1e-01  1e-01 0:00.0\n"
     ]
    },
    {
     "name": "stderr",
     "output_type": "stream",
     "text": [
      "/usr/local/lib/python3.6/dist-packages/cma/utilities/utils.py:333: UserWarning: function_values is not a list of scalars,\n",
      "                        the first element equals [6482.88368376] with non-scalar type <class 'numpy.ndarray'>.\n",
      "                        Using now ``[v[0] for v in function_values]`` instead (further warnings are suppressed) ()\n",
      "  ')')\n",
      "/usr/local/lib/python3.6/dist-packages/cma/utilities/utils.py:333: UserWarning: function_values is not a list of scalars,\n",
      "                        the first element equals [6482.88148285] with non-scalar type <class 'numpy.ndarray'>.\n",
      "                        Using now ``[v[0] for v in function_values]`` instead (further warnings are suppressed) ()\n",
      "  ')')\n"
     ]
    },
    {
     "name": "stdout",
     "output_type": "stream",
     "text": [
      "  100   1300 -6.835133819814155e+02 1.8e+00 2.07e-02  2e-02  2e-02 0:01.1\n",
      "  200   2600 -7.900090555847046e+02 1.9e+00 3.21e-04  2e-04  3e-04 0:02.2\n",
      "  300   3900 -7.900296043423523e+02 2.0e+00 6.33e-06  4e-06  5e-06 0:03.3\n",
      "  400   5200 -7.900296071263565e+02 2.2e+00 7.15e-08  3e-08  5e-08 0:04.3\n",
      "  500   6500 -7.900296071267157e+02 2.5e+00 2.61e-09  1e-09  2e-09 0:05.4\n",
      "  510   6630 -7.900296071267157e+02 2.5e+00 2.03e-09  9e-10  1e-09 0:05.5\n",
      "termination on tolfun=1e-11 (Mon Apr 13 13:05:15 2020)\n",
      "final/bestever f-value = -7.900296e+02 -7.900296e+02\n",
      "incumbent solution: [-0.00982798  0.07743961 -0.05328936 -0.04366306 -0.25058487  0.22432777\n",
      " -0.00688878 -0.00087847 ...]\n",
      "std deviations: [1.12381398e-09 1.02791280e-09 9.40135597e-10 1.05655650e-09\n",
      " 9.37568043e-10 1.10158695e-09 1.01807537e-09 9.15516913e-10 ...]\n",
      "(6_w,13)-aCMA-ES (mu_w=4.0,w_1=38%) in dimension 25 (seed=920456, Mon Apr 13 13:05:15 2020)\n",
      "Iterat #Fevals   function value  axis ratio  sigma  min&max std  t[m:s]\n",
      "    1     13 6.139470428433796e+03 1.0e+00 1.23e-01  1e-01  1e-01 0:00.0\n",
      "    2     26 6.139470976369020e+03 1.1e+00 1.21e-01  1e-01  1e-01 0:00.0\n",
      "    3     39 6.139467740703691e+03 1.1e+00 1.23e-01  1e-01  1e-01 0:00.0\n"
     ]
    },
    {
     "name": "stderr",
     "output_type": "stream",
     "text": [
      "/usr/local/lib/python3.6/dist-packages/cma/utilities/utils.py:333: UserWarning: function_values is not a list of scalars,\n",
      "                        the first element equals [6139.50756145] with non-scalar type <class 'numpy.ndarray'>.\n",
      "                        Using now ``[v[0] for v in function_values]`` instead (further warnings are suppressed) ()\n",
      "  ')')\n",
      "/usr/local/lib/python3.6/dist-packages/cma/utilities/utils.py:333: UserWarning: function_values is not a list of scalars,\n",
      "                        the first element equals [6139.47358614] with non-scalar type <class 'numpy.ndarray'>.\n",
      "                        Using now ``[v[0] for v in function_values]`` instead (further warnings are suppressed) ()\n",
      "  ')')\n"
     ]
    },
    {
     "name": "stdout",
     "output_type": "stream",
     "text": [
      "  100   1300 5.558117339495329e+02 1.8e+00 1.81e-02  2e-02  2e-02 0:00.9\n",
      "  200   2600 4.912260832129705e+02 2.0e+00 4.56e-04  3e-04  4e-04 0:01.8\n",
      "  300   3900 4.911971346530227e+02 2.3e+00 8.75e-06  5e-06  7e-06 0:02.7\n",
      "  400   5200 4.911971294222594e+02 2.2e+00 1.57e-07  7e-08  1e-07 0:03.7\n",
      "  500   6500 4.911971294213026e+02 2.5e+00 6.04e-09  2e-09  4e-09 0:04.6\n",
      "  600   7800 4.911971294213017e+02 2.9e+00 3.69e-09  1e-09  2e-09 0:05.5\n",
      "  700   9100 4.911971294212999e+02 4.0e+00 1.90e-09  7e-10  1e-09 0:06.4\n",
      "  800  10400 4.911971294213035e+02 4.3e+00 4.06e-09  1e-09  2e-09 0:07.3\n",
      "  900  11700 4.911971294213008e+02 5.2e+00 2.19e-09  8e-10  1e-09 0:08.2\n",
      " 1000  13000 4.911971294213026e+02 6.0e+00 1.91e-09  7e-10  1e-09 0:09.1\n",
      "Iterat #Fevals   function value  axis ratio  sigma  min&max std  t[m:s]\n",
      " 1100  14300 4.911971294213008e+02 6.4e+00 1.23e-09  4e-10  7e-10 0:10.0\n",
      " 1200  15600 4.911971294212981e+02 7.4e+00 1.86e-09  6e-10  1e-09 0:10.9\n",
      " 1300  16900 4.911971294212999e+02 8.1e+00 8.85e-10  3e-10  6e-10 0:11.8\n",
      " 1388  18044 4.911971294213008e+02 8.5e+00 5.49e-10  2e-10  4e-10 0:12.6\n",
      "termination on tolfun=1e-11 (Mon Apr 13 13:05:32 2020)\n",
      "final/bestever f-value = 4.911971e+02 4.911971e+02\n",
      "incumbent solution: [-0.0348084   0.08888245 -0.0827911  -0.03537028 -0.2792257   0.20285759\n",
      " -0.04041531  0.01401394 ...]\n",
      "std deviations: [2.05333660e-10 2.41878042e-10 1.96161890e-10 1.99757794e-10\n",
      " 1.97196985e-10 2.28525462e-10 2.40991487e-10 2.41665160e-10 ...]\n",
      "(6_w,13)-aCMA-ES (mu_w=4.0,w_1=38%) in dimension 25 (seed=925972, Mon Apr 13 13:05:32 2020)\n",
      "Iterat #Fevals   function value  axis ratio  sigma  min&max std  t[m:s]\n",
      "    1     13 9.283508487234092e+03 1.0e+00 1.23e-01  1e-01  1e-01 0:00.0\n",
      "    2     26 8.076783445858994e+03 1.1e+00 1.21e-01  1e-01  1e-01 0:00.0\n",
      "    3     39 6.322551220781425e+03 1.1e+00 1.25e-01  1e-01  1e-01 0:00.0\n"
     ]
    },
    {
     "name": "stderr",
     "output_type": "stream",
     "text": [
      "/usr/local/lib/python3.6/dist-packages/cma/utilities/utils.py:333: UserWarning: function_values is not a list of scalars,\n",
      "                        the first element equals [13118.42405529] with non-scalar type <class 'numpy.ndarray'>.\n",
      "                        Using now ``[v[0] for v in function_values]`` instead (further warnings are suppressed) ()\n",
      "  ')')\n",
      "/usr/local/lib/python3.6/dist-packages/cma/utilities/utils.py:333: UserWarning: function_values is not a list of scalars,\n",
      "                        the first element equals [11071.04724783] with non-scalar type <class 'numpy.ndarray'>.\n",
      "                        Using now ``[v[0] for v in function_values]`` instead (further warnings are suppressed) ()\n",
      "  ')')\n"
     ]
    },
    {
     "name": "stdout",
     "output_type": "stream",
     "text": [
      "   72    936 -4.974341853693601e+09 1.9e+00 1.44e+02  1e+02  1e+02 0:01.0\n",
      "termination on tolfacupx=1000.0 (Mon Apr 13 13:05:33 2020)\n",
      "final/bestever f-value = -4.805845e+09 -4.974342e+09\n",
      "incumbent solution: [ -75.75276469 -459.03573456  -83.52828359   29.56281527  491.43370446\n",
      " -129.42300201 -367.42951803  119.58178723 ...]\n",
      "std deviations: [132.27632674 134.0170619  129.95693014 134.38116781 137.73809445\n",
      " 128.4961169  129.69950555 132.65717961 ...]\n",
      "Run : 5\n",
      "(6_w,13)-aCMA-ES (mu_w=4.0,w_1=38%) in dimension 25 (seed=922322, Mon Apr 13 13:05:33 2020)\n",
      "Iterat #Fevals   function value  axis ratio  sigma  min&max std  t[m:s]\n",
      "    1     13 6.482880528169750e+03 1.0e+00 1.21e-01  1e-01  1e-01 0:00.0\n",
      "    2     26 6.482880196415023e+03 1.1e+00 1.20e-01  1e-01  1e-01 0:00.0\n",
      "    3     39 6.482880164230229e+03 1.1e+00 1.21e-01  1e-01  1e-01 0:00.0\n"
     ]
    },
    {
     "name": "stderr",
     "output_type": "stream",
     "text": [
      "/usr/local/lib/python3.6/dist-packages/cma/utilities/utils.py:333: UserWarning: function_values is not a list of scalars,\n",
      "                        the first element equals [6482.88153536] with non-scalar type <class 'numpy.ndarray'>.\n",
      "                        Using now ``[v[0] for v in function_values]`` instead (further warnings are suppressed) ()\n",
      "  ')')\n",
      "/usr/local/lib/python3.6/dist-packages/cma/utilities/utils.py:333: UserWarning: function_values is not a list of scalars,\n",
      "                        the first element equals [6482.88035027] with non-scalar type <class 'numpy.ndarray'>.\n",
      "                        Using now ``[v[0] for v in function_values]`` instead (further warnings are suppressed) ()\n",
      "  ')')\n",
      "/usr/local/lib/python3.6/dist-packages/cma/utilities/utils.py:333: UserWarning: flat fitness (f=6482.880149, sigma=2.21e-01).\n",
      "                    For small sigma, this could indicate numerical convergence.\n",
      "                    Otherwise, please (re)consider how to compute the fitness more elaborately. (iteration=15)\n",
      "  ')')\n",
      "/usr/local/lib/python3.6/dist-packages/cma/utilities/utils.py:333: UserWarning: flat fitness (f=6482.880149, sigma=2.31e-01).\n",
      "                    For small sigma, this could indicate numerical convergence.\n",
      "                    Otherwise, please (re)consider how to compute the fitness more elaborately. (iteration=16)\n",
      "  ')')\n",
      "/usr/local/lib/python3.6/dist-packages/cma/utilities/utils.py:333: UserWarning: flat fitness (f=6482.880149, sigma=2.51e-01).\n",
      "                    For small sigma, this could indicate numerical convergence.\n",
      "                    Otherwise, please (re)consider how to compute the fitness more elaborately. (iteration=19)\n",
      "  ')')\n",
      "/usr/local/lib/python3.6/dist-packages/cma/utilities/utils.py:333: UserWarning: flat fitness (f=6482.880149, sigma=2.53e-01).\n",
      "                    For small sigma, this could indicate numerical convergence.\n",
      "                    Otherwise, please (re)consider how to compute the fitness more elaborately. (iteration=20)\n",
      "  ')')\n",
      "/usr/local/lib/python3.6/dist-packages/cma/utilities/utils.py:333: UserWarning: flat fitness (f=6482.880149, sigma=2.51e-01).\n",
      "                    For small sigma, this could indicate numerical convergence.\n",
      "                    Otherwise, please (re)consider how to compute the fitness more elaborately. (iteration=21)\n",
      "  ')')\n",
      "/usr/local/lib/python3.6/dist-packages/cma/utilities/utils.py:333: UserWarning: flat fitness (f=6482.880149, sigma=2.59e-01).\n",
      "                    For small sigma, this could indicate numerical convergence.\n",
      "                    Otherwise, please (re)consider how to compute the fitness more elaborately. (iteration=23)\n",
      "  ')')\n",
      "/usr/local/lib/python3.6/dist-packages/cma/utilities/utils.py:333: UserWarning: flat fitness (f=6482.880149, sigma=2.63e-01).\n",
      "                    For small sigma, this could indicate numerical convergence.\n",
      "                    Otherwise, please (re)consider how to compute the fitness more elaborately. (iteration=24)\n",
      "  ')')\n",
      "/usr/local/lib/python3.6/dist-packages/cma/utilities/utils.py:333: UserWarning: flat fitness (f=6482.880149, sigma=2.51e-01).\n",
      "                    For small sigma, this could indicate numerical convergence.\n",
      "                    Otherwise, please (re)consider how to compute the fitness more elaborately. (iteration=26)\n",
      "  ')')\n",
      "/usr/local/lib/python3.6/dist-packages/cma/utilities/utils.py:333: UserWarning: flat fitness (f=6482.880149, sigma=2.41e-01).\n",
      "                    For small sigma, this could indicate numerical convergence.\n",
      "                    Otherwise, please (re)consider how to compute the fitness more elaborately. (iteration=28)\n",
      "  ')')\n",
      "/usr/local/lib/python3.6/dist-packages/cma/utilities/utils.py:333: UserWarning: flat fitness (f=6482.880149, sigma=2.35e-01).\n",
      "                    For small sigma, this could indicate numerical convergence.\n",
      "                    Otherwise, please (re)consider how to compute the fitness more elaborately. (iteration=29)\n",
      "  ')')\n",
      "/usr/local/lib/python3.6/dist-packages/cma/utilities/utils.py:333: UserWarning: flat fitness (f=6482.880149, sigma=2.35e-01).\n",
      "                    For small sigma, this could indicate numerical convergence.\n",
      "                    Otherwise, please (re)consider how to compute the fitness more elaborately. (iteration=30)\n",
      "  ')')\n",
      "/usr/local/lib/python3.6/dist-packages/cma/utilities/utils.py:333: UserWarning: flat fitness (f=6482.880149, sigma=2.31e-01).\n",
      "                    For small sigma, this could indicate numerical convergence.\n",
      "                    Otherwise, please (re)consider how to compute the fitness more elaborately. (iteration=31)\n",
      "  ')')\n",
      "/usr/local/lib/python3.6/dist-packages/cma/utilities/utils.py:333: UserWarning: flat fitness (f=6482.880149, sigma=2.27e-01).\n",
      "                    For small sigma, this could indicate numerical convergence.\n",
      "                    Otherwise, please (re)consider how to compute the fitness more elaborately. (iteration=32)\n",
      "  ')')\n",
      "/usr/local/lib/python3.6/dist-packages/cma/utilities/utils.py:333: UserWarning: flat fitness (f=6482.880149, sigma=2.15e-01).\n",
      "                    For small sigma, this could indicate numerical convergence.\n",
      "                    Otherwise, please (re)consider how to compute the fitness more elaborately. (iteration=33)\n",
      "  ')')\n",
      "/usr/local/lib/python3.6/dist-packages/cma/utilities/utils.py:333: UserWarning: flat fitness (f=6482.880149, sigma=2.11e-01).\n",
      "                    For small sigma, this could indicate numerical convergence.\n",
      "                    Otherwise, please (re)consider how to compute the fitness more elaborately. (iteration=34)\n",
      "  ')')\n",
      "/usr/local/lib/python3.6/dist-packages/cma/utilities/utils.py:333: UserWarning: flat fitness (f=6482.880149, sigma=2.07e-01).\n",
      "                    For small sigma, this could indicate numerical convergence.\n",
      "                    Otherwise, please (re)consider how to compute the fitness more elaborately. (iteration=35)\n",
      "  ')')\n",
      "/usr/local/lib/python3.6/dist-packages/cma/utilities/utils.py:333: UserWarning: flat fitness (f=6482.880149, sigma=2.01e-01).\n",
      "                    For small sigma, this could indicate numerical convergence.\n",
      "                    Otherwise, please (re)consider how to compute the fitness more elaborately. (iteration=36)\n",
      "  ')')\n",
      "/usr/local/lib/python3.6/dist-packages/cma/utilities/utils.py:333: UserWarning: flat fitness (f=6482.880149, sigma=1.97e-01).\n",
      "                    For small sigma, this could indicate numerical convergence.\n",
      "                    Otherwise, please (re)consider how to compute the fitness more elaborately. (iteration=37)\n",
      "  ')')\n",
      "/usr/local/lib/python3.6/dist-packages/cma/utilities/utils.py:333: UserWarning: flat fitness (f=6482.880149, sigma=1.94e-01).\n",
      "                    For small sigma, this could indicate numerical convergence.\n",
      "                    Otherwise, please (re)consider how to compute the fitness more elaborately. (iteration=38)\n",
      "  ')')\n",
      "/usr/local/lib/python3.6/dist-packages/cma/utilities/utils.py:333: UserWarning: flat fitness (f=6482.880149, sigma=1.94e-01).\n",
      "                    For small sigma, this could indicate numerical convergence.\n",
      "                    Otherwise, please (re)consider how to compute the fitness more elaborately. (iteration=39)\n",
      "  ')')\n",
      "/usr/local/lib/python3.6/dist-packages/cma/utilities/utils.py:333: UserWarning: flat fitness (f=6482.880149, sigma=1.93e-01).\n",
      "                    For small sigma, this could indicate numerical convergence.\n",
      "                    Otherwise, please (re)consider how to compute the fitness more elaborately. (iteration=40)\n",
      "  ')')\n",
      "/usr/local/lib/python3.6/dist-packages/cma/utilities/utils.py:333: UserWarning: flat fitness (f=6482.880149, sigma=1.94e-01).\n",
      "                    For small sigma, this could indicate numerical convergence.\n",
      "                    Otherwise, please (re)consider how to compute the fitness more elaborately. (iteration=41)\n",
      "  ')')\n",
      "/usr/local/lib/python3.6/dist-packages/cma/utilities/utils.py:333: UserWarning: flat fitness (f=6482.880149, sigma=1.91e-01).\n",
      "                    For small sigma, this could indicate numerical convergence.\n",
      "                    Otherwise, please (re)consider how to compute the fitness more elaborately. (iteration=42)\n",
      "  ')')\n",
      "/usr/local/lib/python3.6/dist-packages/cma/utilities/utils.py:333: UserWarning: flat fitness (f=6482.880149, sigma=1.84e-01).\n",
      "                    For small sigma, this could indicate numerical convergence.\n",
      "                    Otherwise, please (re)consider how to compute the fitness more elaborately. (iteration=43)\n",
      "  ')')\n",
      "/usr/local/lib/python3.6/dist-packages/cma/utilities/utils.py:333: UserWarning: flat fitness (f=6482.880149, sigma=1.82e-01).\n",
      "                    For small sigma, this could indicate numerical convergence.\n",
      "                    Otherwise, please (re)consider how to compute the fitness more elaborately. (iteration=44)\n",
      "  ')')\n",
      "/usr/local/lib/python3.6/dist-packages/cma/utilities/utils.py:333: UserWarning: flat fitness (f=6482.880149, sigma=1.82e-01).\n",
      "                    For small sigma, this could indicate numerical convergence.\n",
      "                    Otherwise, please (re)consider how to compute the fitness more elaborately. (iteration=45)\n",
      "  ')')\n",
      "/usr/local/lib/python3.6/dist-packages/cma/utilities/utils.py:333: UserWarning: flat fitness (f=6482.880149, sigma=1.82e-01).\n",
      "                    For small sigma, this could indicate numerical convergence.\n",
      "                    Otherwise, please (re)consider how to compute the fitness more elaborately. (iteration=46)\n",
      "  ')')\n",
      "/usr/local/lib/python3.6/dist-packages/cma/utilities/utils.py:333: UserWarning: flat fitness (f=6482.880149, sigma=1.78e-01).\n",
      "                    For small sigma, this could indicate numerical convergence.\n",
      "                    Otherwise, please (re)consider how to compute the fitness more elaborately. (iteration=47)\n",
      "  ')')\n",
      "/usr/local/lib/python3.6/dist-packages/cma/utilities/utils.py:333: UserWarning: flat fitness (f=6482.880149, sigma=1.72e-01).\n",
      "                    For small sigma, this could indicate numerical convergence.\n",
      "                    Otherwise, please (re)consider how to compute the fitness more elaborately. (iteration=48)\n",
      "  ')')\n",
      "/usr/local/lib/python3.6/dist-packages/cma/utilities/utils.py:333: UserWarning: flat fitness (f=6482.880149, sigma=1.63e-01).\n",
      "                    For small sigma, this could indicate numerical convergence.\n",
      "                    Otherwise, please (re)consider how to compute the fitness more elaborately. (iteration=49)\n",
      "  ')')\n",
      "/usr/local/lib/python3.6/dist-packages/cma/utilities/utils.py:333: UserWarning: flat fitness (f=6482.880149, sigma=1.58e-01).\n",
      "                    For small sigma, this could indicate numerical convergence.\n",
      "                    Otherwise, please (re)consider how to compute the fitness more elaborately. (iteration=50)\n",
      "  ')')\n",
      "/usr/local/lib/python3.6/dist-packages/cma/utilities/utils.py:333: UserWarning: flat fitness (f=6482.880149, sigma=1.57e-01).\n",
      "                    For small sigma, this could indicate numerical convergence.\n",
      "                    Otherwise, please (re)consider how to compute the fitness more elaborately. (iteration=51)\n",
      "  ')')\n",
      "/usr/local/lib/python3.6/dist-packages/cma/utilities/utils.py:333: UserWarning: flat fitness (f=6482.880149, sigma=1.54e-01).\n",
      "                    For small sigma, this could indicate numerical convergence.\n",
      "                    Otherwise, please (re)consider how to compute the fitness more elaborately. (iteration=52)\n",
      "  ')')\n",
      "/usr/local/lib/python3.6/dist-packages/cma/utilities/utils.py:333: UserWarning: flat fitness (f=6482.880149, sigma=1.50e-01).\n",
      "                    For small sigma, this could indicate numerical convergence.\n",
      "                    Otherwise, please (re)consider how to compute the fitness more elaborately. (iteration=53)\n",
      "  ')')\n",
      "/usr/local/lib/python3.6/dist-packages/cma/utilities/utils.py:333: UserWarning: flat fitness (f=6482.880149, sigma=1.47e-01).\n",
      "                    For small sigma, this could indicate numerical convergence.\n",
      "                    Otherwise, please (re)consider how to compute the fitness more elaborately. (iteration=54)\n",
      "  ')')\n",
      "/usr/local/lib/python3.6/dist-packages/cma/utilities/utils.py:333: UserWarning: flat fitness (f=6482.880149, sigma=1.46e-01).\n",
      "                    For small sigma, this could indicate numerical convergence.\n",
      "                    Otherwise, please (re)consider how to compute the fitness more elaborately. (iteration=55)\n",
      "  ')')\n",
      "/usr/local/lib/python3.6/dist-packages/cma/utilities/utils.py:333: UserWarning: flat fitness (f=6482.880149, sigma=1.44e-01).\n",
      "                    For small sigma, this could indicate numerical convergence.\n",
      "                    Otherwise, please (re)consider how to compute the fitness more elaborately. (iteration=56)\n",
      "  ')')\n",
      "/usr/local/lib/python3.6/dist-packages/cma/utilities/utils.py:333: UserWarning: flat fitness (f=6482.880149, sigma=1.44e-01).\n",
      "                    For small sigma, this could indicate numerical convergence.\n",
      "                    Otherwise, please (re)consider how to compute the fitness more elaborately. (iteration=57)\n",
      "  ')')\n",
      "/usr/local/lib/python3.6/dist-packages/cma/utilities/utils.py:333: UserWarning: flat fitness (f=6482.880149, sigma=1.42e-01).\n",
      "                    For small sigma, this could indicate numerical convergence.\n",
      "                    Otherwise, please (re)consider how to compute the fitness more elaborately. (iteration=58)\n",
      "  ')')\n",
      "/usr/local/lib/python3.6/dist-packages/cma/utilities/utils.py:333: UserWarning: flat fitness (f=6482.880149, sigma=1.45e-01).\n",
      "                    For small sigma, this could indicate numerical convergence.\n",
      "                    Otherwise, please (re)consider how to compute the fitness more elaborately. (iteration=59)\n",
      "  ')')\n",
      "/usr/local/lib/python3.6/dist-packages/cma/utilities/utils.py:333: UserWarning: flat fitness (f=6482.880149, sigma=1.47e-01).\n",
      "                    For small sigma, this could indicate numerical convergence.\n",
      "                    Otherwise, please (re)consider how to compute the fitness more elaborately. (iteration=60)\n",
      "  ')')\n",
      "/usr/local/lib/python3.6/dist-packages/cma/utilities/utils.py:333: UserWarning: flat fitness (f=6482.880149, sigma=1.49e-01).\n",
      "                    For small sigma, this could indicate numerical convergence.\n",
      "                    Otherwise, please (re)consider how to compute the fitness more elaborately. (iteration=61)\n",
      "  ')')\n",
      "/usr/local/lib/python3.6/dist-packages/cma/utilities/utils.py:333: UserWarning: flat fitness (f=6482.880149, sigma=1.54e-01).\n",
      "                    For small sigma, this could indicate numerical convergence.\n",
      "                    Otherwise, please (re)consider how to compute the fitness more elaborately. (iteration=62)\n",
      "  ')')\n",
      "/usr/local/lib/python3.6/dist-packages/cma/utilities/utils.py:333: UserWarning: flat fitness (f=6482.880149, sigma=1.57e-01).\n",
      "                    For small sigma, this could indicate numerical convergence.\n",
      "                    Otherwise, please (re)consider how to compute the fitness more elaborately. (iteration=63)\n",
      "  ')')\n",
      "/usr/local/lib/python3.6/dist-packages/cma/utilities/utils.py:333: UserWarning: flat fitness (f=6482.880149, sigma=1.56e-01).\n",
      "                    For small sigma, this could indicate numerical convergence.\n",
      "                    Otherwise, please (re)consider how to compute the fitness more elaborately. (iteration=64)\n",
      "  ')')\n",
      "/usr/local/lib/python3.6/dist-packages/cma/utilities/utils.py:333: UserWarning: flat fitness (f=6482.880149, sigma=1.54e-01).\n",
      "                    For small sigma, this could indicate numerical convergence.\n",
      "                    Otherwise, please (re)consider how to compute the fitness more elaborately. (iteration=65)\n",
      "  ')')\n",
      "/usr/local/lib/python3.6/dist-packages/cma/utilities/utils.py:333: UserWarning: flat fitness (f=6482.880149, sigma=1.52e-01).\n",
      "                    For small sigma, this could indicate numerical convergence.\n",
      "                    Otherwise, please (re)consider how to compute the fitness more elaborately. (iteration=66)\n",
      "  ')')\n",
      "/usr/local/lib/python3.6/dist-packages/cma/utilities/utils.py:333: UserWarning: flat fitness (f=6482.880149, sigma=1.57e-01).\n",
      "                    For small sigma, this could indicate numerical convergence.\n",
      "                    Otherwise, please (re)consider how to compute the fitness more elaborately. (iteration=67)\n",
      "  ')')\n",
      "/usr/local/lib/python3.6/dist-packages/cma/utilities/utils.py:333: UserWarning: flat fitness (f=6482.880149, sigma=1.56e-01).\n",
      "                    For small sigma, this could indicate numerical convergence.\n",
      "                    Otherwise, please (re)consider how to compute the fitness more elaborately. (iteration=68)\n",
      "  ')')\n",
      "/usr/local/lib/python3.6/dist-packages/cma/utilities/utils.py:333: UserWarning: flat fitness (f=6482.880149, sigma=1.56e-01).\n",
      "                    For small sigma, this could indicate numerical convergence.\n",
      "                    Otherwise, please (re)consider how to compute the fitness more elaborately. (iteration=69)\n",
      "  ')')\n",
      "/usr/local/lib/python3.6/dist-packages/cma/utilities/utils.py:333: UserWarning: flat fitness (f=6482.880149, sigma=1.57e-01).\n",
      "                    For small sigma, this could indicate numerical convergence.\n",
      "                    Otherwise, please (re)consider how to compute the fitness more elaborately. (iteration=70)\n",
      "  ')')\n",
      "/usr/local/lib/python3.6/dist-packages/cma/utilities/utils.py:333: UserWarning: flat fitness (f=6482.880149, sigma=1.57e-01).\n",
      "                    For small sigma, this could indicate numerical convergence.\n",
      "                    Otherwise, please (re)consider how to compute the fitness more elaborately. (iteration=71)\n",
      "  ')')\n",
      "/usr/local/lib/python3.6/dist-packages/cma/utilities/utils.py:333: UserWarning: flat fitness (f=6482.880149, sigma=1.56e-01).\n",
      "                    For small sigma, this could indicate numerical convergence.\n",
      "                    Otherwise, please (re)consider how to compute the fitness more elaborately. (iteration=72)\n",
      "  ')')\n",
      "/usr/local/lib/python3.6/dist-packages/cma/utilities/utils.py:333: UserWarning: flat fitness (f=6482.880149, sigma=1.60e-01).\n",
      "                    For small sigma, this could indicate numerical convergence.\n",
      "                    Otherwise, please (re)consider how to compute the fitness more elaborately. (iteration=73)\n",
      "  ')')\n",
      "/usr/local/lib/python3.6/dist-packages/cma/utilities/utils.py:333: UserWarning: flat fitness (f=6482.880149, sigma=1.60e-01).\n",
      "                    For small sigma, this could indicate numerical convergence.\n",
      "                    Otherwise, please (re)consider how to compute the fitness more elaborately. (iteration=74)\n",
      "  ')')\n"
     ]
    },
    {
     "name": "stdout",
     "output_type": "stream",
     "text": [
      "   75    975 6.482880149046558e+03 2.1e+00 1.62e-01  1e-01  2e-01 0:00.8\n",
      "termination on tolfun=1e-11 (Mon Apr 13 13:05:35 2020)\n",
      "final/bestever f-value = 6.482880e+03 6.482880e+03\n",
      "incumbent solution: [1.33534371 0.97065772 0.82076961 0.49850709 2.62730199 0.13091249\n",
      " 1.21792302 0.69576593 ...]\n",
      "std deviations: [0.15269023 0.14951016 0.15707039 0.1472122  0.18039381 0.15190189\n",
      " 0.1625213  0.15684796 ...]\n",
      "(6_w,13)-aCMA-ES (mu_w=4.0,w_1=38%) in dimension 25 (seed=809459, Mon Apr 13 13:05:35 2020)\n",
      "Iterat #Fevals   function value  axis ratio  sigma  min&max std  t[m:s]\n",
      "    1     13 6.139469403978896e+03 1.0e+00 1.22e-01  1e-01  1e-01 0:00.0\n",
      "    2     26 6.139468034258120e+03 1.1e+00 1.23e-01  1e-01  1e-01 0:00.0\n",
      "    3     39 6.139466314774120e+03 1.1e+00 1.22e-01  1e-01  1e-01 0:00.0\n"
     ]
    },
    {
     "name": "stderr",
     "output_type": "stream",
     "text": [
      "/usr/local/lib/python3.6/dist-packages/cma/utilities/utils.py:333: UserWarning: flat fitness (f=6482.880149, sigma=1.62e-01).\n",
      "                    For small sigma, this could indicate numerical convergence.\n",
      "                    Otherwise, please (re)consider how to compute the fitness more elaborately. (iteration=75)\n",
      "  ')')\n",
      "/usr/local/lib/python3.6/dist-packages/cma/utilities/utils.py:333: UserWarning: flat fitness (f=6482.880149, sigma=1.62e-01).\n",
      "                    For small sigma, this could indicate numerical convergence.\n",
      "                    Otherwise, please (re)consider how to compute the fitness more elaborately. (iteration=75)\n",
      "  ')')\n",
      "/usr/local/lib/python3.6/dist-packages/cma/utilities/utils.py:333: UserWarning: function_values is not a list of scalars,\n",
      "                        the first element equals [6139.47865769] with non-scalar type <class 'numpy.ndarray'>.\n",
      "                        Using now ``[v[0] for v in function_values]`` instead (further warnings are suppressed) ()\n",
      "  ')')\n",
      "/usr/local/lib/python3.6/dist-packages/cma/utilities/utils.py:333: UserWarning: function_values is not a list of scalars,\n",
      "                        the first element equals [6139.46898338] with non-scalar type <class 'numpy.ndarray'>.\n",
      "                        Using now ``[v[0] for v in function_values]`` instead (further warnings are suppressed) ()\n",
      "  ')')\n"
     ]
    },
    {
     "name": "stdout",
     "output_type": "stream",
     "text": [
      "  100   1300 4.989491966851301e+02 1.8e+00 7.89e-03  6e-03  8e-03 0:00.9\n",
      "  200   2600 4.912004367896707e+02 2.0e+00 1.70e-04  1e-04  2e-04 0:01.8\n",
      "  300   3900 4.911971298947992e+02 2.2e+00 2.51e-06  1e-06  2e-06 0:02.7\n",
      "  400   5200 4.911971294213272e+02 2.5e+00 2.02e-08  9e-09  1e-08 0:03.6\n",
      "  500   6500 4.911971294213008e+02 3.0e+00 2.60e-09  1e-09  2e-09 0:04.5\n",
      "  600   7800 4.911971294213026e+02 4.0e+00 1.76e-09  6e-10  1e-09 0:05.4\n",
      "  700   9100 4.911971294212954e+02 4.1e+00 1.45e-09  5e-10  1e-09 0:06.3\n",
      "  800  10400 4.911971294212981e+02 4.7e+00 8.12e-10  3e-10  6e-10 0:07.2\n",
      "  900  11700 4.911971294212954e+02 4.8e+00 3.17e-10  1e-10  2e-10 0:08.0\n",
      " 1000  13000 4.911971294212990e+02 6.5e+00 1.97e-10  7e-11  1e-10 0:08.9\n",
      "Iterat #Fevals   function value  axis ratio  sigma  min&max std  t[m:s]\n",
      " 1100  14300 4.911971294212999e+02 7.4e+00 4.89e-11  2e-11  3e-11 0:09.8\n",
      " 1200  15600 4.911971294212944e+02 8.9e+00 2.92e-11  9e-12  2e-11 0:10.7\n",
      " 1300  16900 4.911971294212972e+02 9.4e+00 1.89e-11  6e-12  1e-11 0:11.6\n",
      " 1400  18200 4.911971294212981e+02 9.8e+00 3.32e-11  1e-11  2e-11 0:12.5\n",
      " 1500  19500 4.911971294212981e+02 1.1e+01 8.09e-11  2e-11  5e-11 0:13.4\n",
      " 1600  20800 4.911971294212926e+02 1.2e+01 8.86e-11  2e-11  6e-11 0:14.2\n",
      " 1700  22100 4.911971294213008e+02 1.3e+01 8.96e-11  2e-11  6e-11 0:15.1\n",
      " 1710  22230 4.911971294213008e+02 1.3e+01 9.16e-11  2e-11  6e-11 0:15.2\n",
      "termination on tolstagnation=1061 (Mon Apr 13 13:05:55 2020)\n",
      "final/bestever f-value = 4.911971e+02 4.911971e+02\n",
      "incumbent solution: [-0.03480842  0.08888245 -0.08279111 -0.03537029 -0.2792257   0.20285759\n",
      " -0.0404153   0.01401394 ...]\n",
      "std deviations: [2.99630987e-11 3.03906178e-11 4.53214685e-11 3.40738232e-11\n",
      " 3.70476452e-11 3.91921178e-11 3.84365275e-11 4.33167508e-11 ...]\n",
      "(6_w,13)-aCMA-ES (mu_w=4.0,w_1=38%) in dimension 25 (seed=905015, Mon Apr 13 13:05:55 2020)\n",
      "Iterat #Fevals   function value  axis ratio  sigma  min&max std  t[m:s]\n",
      "    1     13 1.274244306695037e+04 1.0e+00 1.24e-01  1e-01  1e-01 0:00.0\n",
      "    2     26 1.025185658786230e+04 1.1e+00 1.26e-01  1e-01  1e-01 0:00.0\n",
      "    3     39 8.130448696412856e+03 1.1e+00 1.30e-01  1e-01  1e-01 0:00.0\n"
     ]
    },
    {
     "name": "stderr",
     "output_type": "stream",
     "text": [
      "/usr/local/lib/python3.6/dist-packages/cma/utilities/utils.py:333: UserWarning: function_values is not a list of scalars,\n",
      "                        the first element equals [14578.37416343] with non-scalar type <class 'numpy.ndarray'>.\n",
      "                        Using now ``[v[0] for v in function_values]`` instead (further warnings are suppressed) ()\n",
      "  ')')\n",
      "/usr/local/lib/python3.6/dist-packages/cma/utilities/utils.py:333: UserWarning: function_values is not a list of scalars,\n",
      "                        the first element equals [10251.85658786] with non-scalar type <class 'numpy.ndarray'>.\n",
      "                        Using now ``[v[0] for v in function_values]`` instead (further warnings are suppressed) ()\n",
      "  ')')\n"
     ]
    },
    {
     "name": "stdout",
     "output_type": "stream",
     "text": [
      "   72    936 -4.625591691129298e+09 2.5e+00 1.13e+02  1e+02  1e+02 0:01.0\n",
      "termination on tolfacupx=1000.0 (Mon Apr 13 13:05:57 2020)\n",
      "final/bestever f-value = -4.190438e+09 -4.625592e+09\n",
      "incumbent solution: [ 903.6484857   -57.13661813 -712.31798261 -131.42782428   43.95019458\n",
      " -401.07043723  190.28398593 -912.87732783 ...]\n",
      "std deviations: [136.39297179 108.77201335 121.85481909 112.23670496 104.81709225\n",
      " 111.12867124 103.77937475 133.22091719 ...]\n",
      "Run : 6\n",
      "(6_w,13)-aCMA-ES (mu_w=4.0,w_1=38%) in dimension 25 (seed=802273, Mon Apr 13 13:05:57 2020)\n",
      "Iterat #Fevals   function value  axis ratio  sigma  min&max std  t[m:s]\n",
      "    1     13 6.482883877443469e+03 1.0e+00 1.21e-01  1e-01  1e-01 0:00.0\n",
      "    2     26 6.482880632454893e+03 1.1e+00 1.19e-01  1e-01  1e-01 0:00.0\n",
      "    3     39 6.482880257180872e+03 1.1e+00 1.22e-01  1e-01  1e-01 0:00.0\n"
     ]
    },
    {
     "name": "stderr",
     "output_type": "stream",
     "text": [
      "/usr/local/lib/python3.6/dist-packages/cma/utilities/utils.py:333: UserWarning: function_values is not a list of scalars,\n",
      "                        the first element equals [6482.99049134] with non-scalar type <class 'numpy.ndarray'>.\n",
      "                        Using now ``[v[0] for v in function_values]`` instead (further warnings are suppressed) ()\n",
      "  ')')\n",
      "/usr/local/lib/python3.6/dist-packages/cma/utilities/utils.py:333: UserWarning: function_values is not a list of scalars,\n",
      "                        the first element equals [6482.88663078] with non-scalar type <class 'numpy.ndarray'>.\n",
      "                        Using now ``[v[0] for v in function_values]`` instead (further warnings are suppressed) ()\n",
      "  ')')\n"
     ]
    },
    {
     "name": "stdout",
     "output_type": "stream",
     "text": [
      "  100   1300 -6.775848926535855e+02 2.0e+00 1.86e-02  2e-02  2e-02 0:01.1\n",
      "  200   2600 -7.899921376468801e+02 2.2e+00 4.90e-04  4e-04  4e-04 0:02.2\n",
      "  300   3900 -7.900296010458242e+02 2.5e+00 8.06e-06  5e-06  6e-06 0:03.3\n",
      "  400   5200 -7.900296071261837e+02 2.7e+00 7.77e-08  4e-08  5e-08 0:04.4\n",
      "  500   6500 -7.900296071267157e+02 2.8e+00 3.02e-09  1e-09  2e-09 0:05.4\n",
      "  527   6851 -7.900296071267157e+02 3.0e+00 1.75e-09  8e-10  1e-09 0:05.7\n",
      "termination on tolfun=1e-11 (Mon Apr 13 13:06:04 2020)\n",
      "final/bestever f-value = -7.900296e+02 -7.900296e+02\n",
      "incumbent solution: [-0.00982798  0.07743961 -0.05328936 -0.04366306 -0.25058487  0.22432777\n",
      " -0.00688878 -0.00087847 ...]\n",
      "std deviations: [8.91147080e-10 9.37958023e-10 8.27991943e-10 8.82258312e-10\n",
      " 8.11989068e-10 9.06443044e-10 8.20307961e-10 9.03585273e-10 ...]\n",
      "(6_w,13)-aCMA-ES (mu_w=4.0,w_1=38%) in dimension 25 (seed=851759, Mon Apr 13 13:06:04 2020)\n",
      "Iterat #Fevals   function value  axis ratio  sigma  min&max std  t[m:s]\n",
      "    1     13 6.139476539346865e+03 1.0e+00 1.21e-01  1e-01  1e-01 0:00.0\n",
      "    2     26 6.139469216302728e+03 1.1e+00 1.22e-01  1e-01  1e-01 0:00.0\n",
      "    3     39 6.139468735614169e+03 1.1e+00 1.24e-01  1e-01  1e-01 0:00.0\n"
     ]
    },
    {
     "name": "stderr",
     "output_type": "stream",
     "text": [
      "/usr/local/lib/python3.6/dist-packages/cma/utilities/utils.py:333: UserWarning: function_values is not a list of scalars,\n",
      "                        the first element equals [6139.56066171] with non-scalar type <class 'numpy.ndarray'>.\n",
      "                        Using now ``[v[0] for v in function_values]`` instead (further warnings are suppressed) ()\n",
      "  ')')\n",
      "/usr/local/lib/python3.6/dist-packages/cma/utilities/utils.py:333: UserWarning: function_values is not a list of scalars,\n",
      "                        the first element equals [6139.47850333] with non-scalar type <class 'numpy.ndarray'>.\n",
      "                        Using now ``[v[0] for v in function_values]`` instead (further warnings are suppressed) ()\n",
      "  ')')\n"
     ]
    },
    {
     "name": "stdout",
     "output_type": "stream",
     "text": [
      "  100   1300 5.016086783659593e+02 1.8e+00 9.79e-03  8e-03  9e-03 0:00.9\n",
      "  200   2600 4.912010605584019e+02 1.8e+00 2.02e-04  1e-04  2e-04 0:01.8\n",
      "  300   3900 4.911971302253860e+02 2.0e+00 2.78e-06  2e-06  2e-06 0:02.6\n",
      "  400   5200 4.911971294214063e+02 2.3e+00 3.74e-08  2e-08  2e-08 0:03.5\n",
      "  500   6500 4.911971294212981e+02 2.8e+00 4.16e-09  2e-09  3e-09 0:04.4\n",
      "  567   7371 4.911971294212999e+02 3.5e+00 1.57e-09  7e-10  1e-09 0:05.0\n",
      "termination on tolfun=1e-11 (Mon Apr 13 13:06:10 2020)\n",
      "final/bestever f-value = 4.911971e+02 4.911971e+02\n",
      "incumbent solution: [-0.03480841  0.08888245 -0.0827911  -0.03537028 -0.2792257   0.20285759\n",
      " -0.04041531  0.01401395 ...]\n",
      "std deviations: [7.85926699e-10 8.63997313e-10 7.28811869e-10 8.05580198e-10\n",
      " 7.01637865e-10 7.61063026e-10 7.83998526e-10 7.65847384e-10 ...]\n",
      "(6_w,13)-aCMA-ES (mu_w=4.0,w_1=38%) in dimension 25 (seed=976077, Mon Apr 13 13:06:11 2020)\n",
      "Iterat #Fevals   function value  axis ratio  sigma  min&max std  t[m:s]\n",
      "    1     13 1.156191613222740e+04 1.0e+00 1.19e-01  1e-01  1e-01 0:00.0\n",
      "    2     26 9.235708296776473e+03 1.1e+00 1.16e-01  1e-01  1e-01 0:00.0\n",
      "    3     39 7.404653144595170e+03 1.1e+00 1.15e-01  1e-01  1e-01 0:00.0\n"
     ]
    },
    {
     "name": "stderr",
     "output_type": "stream",
     "text": [
      "/usr/local/lib/python3.6/dist-packages/cma/utilities/utils.py:333: UserWarning: function_values is not a list of scalars,\n",
      "                        the first element equals [16619.14951903] with non-scalar type <class 'numpy.ndarray'>.\n",
      "                        Using now ``[v[0] for v in function_values]`` instead (further warnings are suppressed) ()\n",
      "  ')')\n",
      "/usr/local/lib/python3.6/dist-packages/cma/utilities/utils.py:333: UserWarning: function_values is not a list of scalars,\n",
      "                        the first element equals [10801.06699431] with non-scalar type <class 'numpy.ndarray'>.\n",
      "                        Using now ``[v[0] for v in function_values]`` instead (further warnings are suppressed) ()\n",
      "  ')')\n"
     ]
    },
    {
     "name": "stdout",
     "output_type": "stream",
     "text": [
      "   81   1053 -4.303381687802898e+09 2.1e+00 1.19e+02  1e+02  1e+02 0:01.1\n",
      "termination on tolfacupx=1000.0 (Mon Apr 13 13:06:12 2020)\n",
      "final/bestever f-value = -4.264721e+09 -4.303382e+09\n",
      "incumbent solution: [ -39.26655987 -508.95951352  153.55340024  181.48687868  270.14940551\n",
      " -160.8725713  -173.51414422   -9.34969694 ...]\n",
      "std deviations: [106.5710444  122.94952655 110.07337551 110.46111985 117.68265347\n",
      " 106.48872067 106.98189673 111.44737832 ...]\n",
      "Run : 7\n",
      "(6_w,13)-aCMA-ES (mu_w=4.0,w_1=38%) in dimension 25 (seed=921139, Mon Apr 13 13:06:12 2020)\n",
      "Iterat #Fevals   function value  axis ratio  sigma  min&max std  t[m:s]\n",
      "    1     13 6.482899907823414e+03 1.0e+00 1.19e-01  1e-01  1e-01 0:00.0\n",
      "    2     26 6.482884116139371e+03 1.1e+00 1.16e-01  1e-01  1e-01 0:00.0\n",
      "    3     39 6.482880728701681e+03 1.1e+00 1.17e-01  1e-01  1e-01 0:00.0\n"
     ]
    },
    {
     "name": "stderr",
     "output_type": "stream",
     "text": [
      "/usr/local/lib/python3.6/dist-packages/cma/utilities/utils.py:333: UserWarning: function_values is not a list of scalars,\n",
      "                        the first element equals [6482.91240049] with non-scalar type <class 'numpy.ndarray'>.\n",
      "                        Using now ``[v[0] for v in function_values]`` instead (further warnings are suppressed) ()\n",
      "  ')')\n",
      "/usr/local/lib/python3.6/dist-packages/cma/utilities/utils.py:333: UserWarning: function_values is not a list of scalars,\n",
      "                        the first element equals [6482.89778294] with non-scalar type <class 'numpy.ndarray'>.\n",
      "                        Using now ``[v[0] for v in function_values]`` instead (further warnings are suppressed) ()\n",
      "  ')')\n"
     ]
    },
    {
     "name": "stdout",
     "output_type": "stream",
     "text": [
      "  100   1300 -7.247577649933128e+02 1.9e+00 1.98e-02  2e-02  2e-02 0:01.1\n",
      "  200   2600 -7.899947977303100e+02 2.0e+00 3.72e-04  3e-04  3e-04 0:02.2\n",
      "  300   3900 -7.900296037301268e+02 2.6e+00 4.51e-06  3e-06  4e-06 0:03.3\n",
      "  400   5200 -7.900296071261055e+02 2.8e+00 9.48e-08  5e-08  7e-08 0:04.4\n",
      "  500   6500 -7.900296071267139e+02 2.9e+00 2.98e-09  1e-09  2e-09 0:05.4\n",
      "  526   6838 -7.900296071267157e+02 3.1e+00 2.23e-09  9e-10  1e-09 0:05.7\n",
      "termination on tolfun=1e-11 (Mon Apr 13 13:06:19 2020)\n",
      "final/bestever f-value = -7.900296e+02 -7.900296e+02\n",
      "incumbent solution: [-0.00982798  0.07743961 -0.05328937 -0.04366306 -0.25058487  0.22432777\n",
      " -0.00688878 -0.00087847 ...]\n",
      "std deviations: [1.19539810e-09 1.19356755e-09 9.31883973e-10 1.16155336e-09\n",
      " 9.82580215e-10 9.99531106e-10 1.09674563e-09 1.20309912e-09 ...]\n",
      "(6_w,13)-aCMA-ES (mu_w=4.0,w_1=38%) in dimension 25 (seed=909663, Mon Apr 13 13:06:19 2020)\n",
      "Iterat #Fevals   function value  axis ratio  sigma  min&max std  t[m:s]\n",
      "    1     13 6.139586215712820e+03 1.0e+00 1.20e-01  1e-01  1e-01 0:00.0\n",
      "    2     26 6.139473051765424e+03 1.1e+00 1.16e-01  1e-01  1e-01 0:00.0\n",
      "    3     39 6.139464472564521e+03 1.1e+00 1.16e-01  1e-01  1e-01 0:00.0\n"
     ]
    },
    {
     "name": "stderr",
     "output_type": "stream",
     "text": [
      "/usr/local/lib/python3.6/dist-packages/cma/utilities/utils.py:333: UserWarning: function_values is not a list of scalars,\n",
      "                        the first element equals [6140.04556545] with non-scalar type <class 'numpy.ndarray'>.\n",
      "                        Using now ``[v[0] for v in function_values]`` instead (further warnings are suppressed) ()\n",
      "  ')')\n",
      "/usr/local/lib/python3.6/dist-packages/cma/utilities/utils.py:333: UserWarning: function_values is not a list of scalars,\n",
      "                        the first element equals [6139.60916417] with non-scalar type <class 'numpy.ndarray'>.\n",
      "                        Using now ``[v[0] for v in function_values]`` instead (further warnings are suppressed) ()\n",
      "  ')')\n"
     ]
    },
    {
     "name": "stdout",
     "output_type": "stream",
     "text": [
      "  100   1300 5.290846435284193e+02 1.7e+00 1.28e-02  1e-02  1e-02 0:00.9\n",
      "  200   2600 4.912094960840996e+02 1.9e+00 2.90e-04  2e-04  2e-04 0:01.8\n",
      "  300   3900 4.911971322736954e+02 2.2e+00 6.88e-06  4e-06  5e-06 0:02.7\n",
      "  400   5200 4.911971294223404e+02 2.3e+00 1.42e-07  7e-08  9e-08 0:03.6\n",
      "  500   6500 4.911971294213035e+02 2.6e+00 6.57e-09  3e-09  4e-09 0:04.5\n",
      "  600   7800 4.911971294212944e+02 3.0e+00 2.98e-09  1e-09  2e-09 0:05.4\n",
      "  700   9100 4.911971294212954e+02 3.5e+00 4.14e-09  2e-09  2e-09 0:06.3\n",
      "  800  10400 4.911971294212990e+02 4.1e+00 2.48e-09  9e-10  1e-09 0:07.2\n",
      "  900  11700 4.911971294213008e+02 4.6e+00 9.13e-10  3e-10  5e-10 0:08.1\n",
      " 1000  13000 4.911971294212999e+02 5.5e+00 1.23e-09  4e-10  7e-10 0:09.0\n",
      "Iterat #Fevals   function value  axis ratio  sigma  min&max std  t[m:s]\n",
      " 1100  14300 4.911971294212908e+02 6.3e+00 2.13e-09  7e-10  1e-09 0:09.9\n",
      " 1200  15600 4.911971294213008e+02 6.6e+00 2.86e-09  1e-09  2e-09 0:10.8\n",
      " 1300  16900 4.911971294212981e+02 7.1e+00 2.13e-09  7e-10  1e-09 0:11.7\n",
      " 1395  18135 4.911971294213045e+02 8.9e+00 7.84e-10  2e-10  4e-10 0:12.5\n",
      "termination on tolstagnation=1061 (Mon Apr 13 13:06:36 2020)\n",
      "final/bestever f-value = 4.911971e+02 4.911971e+02\n",
      "incumbent solution: [-0.03480841  0.08888245 -0.08279111 -0.03537028 -0.2792257   0.20285758\n",
      " -0.04041531  0.01401394 ...]\n",
      "std deviations: [3.84065889e-10 3.91540155e-10 4.27755701e-10 2.92749412e-10\n",
      " 2.68270154e-10 3.72601441e-10 3.40415306e-10 3.45949754e-10 ...]\n",
      "(6_w,13)-aCMA-ES (mu_w=4.0,w_1=38%) in dimension 25 (seed=853869, Mon Apr 13 13:06:36 2020)\n",
      "Iterat #Fevals   function value  axis ratio  sigma  min&max std  t[m:s]\n",
      "    1     13 5.761922863320398e+03 1.0e+00 1.22e-01  1e-01  1e-01 0:00.0\n",
      "    2     26 4.866746881062512e+03 1.1e+00 1.20e-01  1e-01  1e-01 0:00.0\n",
      "    3     39 2.308435152979732e+03 1.1e+00 1.22e-01  1e-01  1e-01 0:00.0\n"
     ]
    },
    {
     "name": "stderr",
     "output_type": "stream",
     "text": [
      "/usr/local/lib/python3.6/dist-packages/cma/utilities/utils.py:333: UserWarning: function_values is not a list of scalars,\n",
      "                        the first element equals [9953.20787381] with non-scalar type <class 'numpy.ndarray'>.\n",
      "                        Using now ``[v[0] for v in function_values]`` instead (further warnings are suppressed) ()\n",
      "  ')')\n",
      "/usr/local/lib/python3.6/dist-packages/cma/utilities/utils.py:333: UserWarning: function_values is not a list of scalars,\n",
      "                        the first element equals [8970.22911072] with non-scalar type <class 'numpy.ndarray'>.\n",
      "                        Using now ``[v[0] for v in function_values]`` instead (further warnings are suppressed) ()\n",
      "  ')')\n"
     ]
    },
    {
     "name": "stdout",
     "output_type": "stream",
     "text": [
      "   72    936 -2.790388035976082e+09 1.9e+00 1.19e+02  1e+02  1e+02 0:01.0\n",
      "termination on tolfacupx=1000.0 (Mon Apr 13 13:06:37 2020)\n",
      "final/bestever f-value = -2.766889e+09 -2.790388e+09\n",
      "incumbent solution: [-232.89974108 -394.31184152  308.54350423  -54.00758865  373.85563773\n",
      " -123.52490878  -84.41657263  141.09344626 ...]\n",
      "std deviations: [116.62184366 130.46269647 106.72122975 115.33765441 111.39631817\n",
      " 113.32245845 117.96177963 111.74064762 ...]\n",
      "Run : 8\n",
      "(6_w,13)-aCMA-ES (mu_w=4.0,w_1=38%) in dimension 25 (seed=918056, Mon Apr 13 13:06:37 2020)\n",
      "Iterat #Fevals   function value  axis ratio  sigma  min&max std  t[m:s]\n",
      "    1     13 6.482880322256228e+03 1.0e+00 1.20e-01  1e-01  1e-01 0:00.0\n",
      "    2     26 6.482880191692896e+03 1.1e+00 1.18e-01  1e-01  1e-01 0:00.0\n",
      "    3     39 6.482880154674471e+03 1.1e+00 1.20e-01  1e-01  1e-01 0:00.0\n"
     ]
    },
    {
     "name": "stderr",
     "output_type": "stream",
     "text": [
      "/usr/local/lib/python3.6/dist-packages/cma/utilities/utils.py:333: UserWarning: function_values is not a list of scalars,\n",
      "                        the first element equals [6482.88068619] with non-scalar type <class 'numpy.ndarray'>.\n",
      "                        Using now ``[v[0] for v in function_values]`` instead (further warnings are suppressed) ()\n",
      "  ')')\n",
      "/usr/local/lib/python3.6/dist-packages/cma/utilities/utils.py:333: UserWarning: function_values is not a list of scalars,\n",
      "                        the first element equals [6482.88030579] with non-scalar type <class 'numpy.ndarray'>.\n",
      "                        Using now ``[v[0] for v in function_values]`` instead (further warnings are suppressed) ()\n",
      "  ')')\n"
     ]
    },
    {
     "name": "stdout",
     "output_type": "stream",
     "text": [
      "  100   1300 -6.689524084733321e+02 1.9e+00 2.01e-02  2e-02  2e-02 0:01.1\n",
      "  200   2600 -7.900058651860736e+02 2.0e+00 3.47e-04  2e-04  3e-04 0:02.2\n",
      "  300   3900 -7.900296034700850e+02 2.2e+00 4.65e-06  3e-06  4e-06 0:03.3\n",
      "  400   5200 -7.900296071261691e+02 2.5e+00 7.01e-08  3e-08  5e-08 0:04.4\n",
      "  500   6500 -7.900296071267139e+02 2.8e+00 2.23e-09  9e-10  1e-09 0:05.5\n",
      "  509   6617 -7.900296071267157e+02 2.8e+00 1.85e-09  7e-10  1e-09 0:05.6\n",
      "termination on tolfun=1e-11 (Mon Apr 13 13:06:44 2020)\n",
      "final/bestever f-value = -7.900296e+02 -7.900296e+02\n",
      "incumbent solution: [-0.00982798  0.07743961 -0.05328936 -0.04366305 -0.25058487  0.22432776\n",
      " -0.00688877 -0.00087847 ...]\n",
      "std deviations: [9.89405497e-10 9.55734960e-10 8.68109118e-10 1.06179496e-09\n",
      " 8.39740315e-10 9.16402376e-10 9.17613642e-10 9.74295098e-10 ...]\n",
      "(6_w,13)-aCMA-ES (mu_w=4.0,w_1=38%) in dimension 25 (seed=928769, Mon Apr 13 13:06:44 2020)\n",
      "Iterat #Fevals   function value  axis ratio  sigma  min&max std  t[m:s]\n",
      "    1     13 6.139468546141804e+03 1.0e+00 1.21e-01  1e-01  1e-01 0:00.0\n",
      "    2     26 6.139466351446717e+03 1.1e+00 1.17e-01  1e-01  1e-01 0:00.0\n",
      "    3     39 6.139460354436394e+03 1.1e+00 1.14e-01  1e-01  1e-01 0:00.0\n"
     ]
    },
    {
     "name": "stderr",
     "output_type": "stream",
     "text": [
      "/usr/local/lib/python3.6/dist-packages/cma/utilities/utils.py:333: UserWarning: function_values is not a list of scalars,\n",
      "                        the first element equals [6139.47894564] with non-scalar type <class 'numpy.ndarray'>.\n",
      "                        Using now ``[v[0] for v in function_values]`` instead (further warnings are suppressed) ()\n",
      "  ')')\n",
      "/usr/local/lib/python3.6/dist-packages/cma/utilities/utils.py:333: UserWarning: function_values is not a list of scalars,\n",
      "                        the first element equals [6139.46763575] with non-scalar type <class 'numpy.ndarray'>.\n",
      "                        Using now ``[v[0] for v in function_values]`` instead (further warnings are suppressed) ()\n",
      "  ')')\n"
     ]
    },
    {
     "name": "stdout",
     "output_type": "stream",
     "text": [
      "  100   1300 5.044773514492217e+02 2.0e+00 8.38e-03  7e-03  8e-03 0:00.9\n",
      "  200   2600 4.912015016805763e+02 2.0e+00 1.88e-04  1e-04  2e-04 0:01.8\n",
      "  300   3900 4.911971299158758e+02 2.3e+00 2.48e-06  1e-06  2e-06 0:02.7\n",
      "  400   5200 4.911971294213836e+02 2.4e+00 3.84e-08  2e-08  2e-08 0:03.6\n",
      "  500   6500 4.911971294212972e+02 2.9e+00 3.65e-09  2e-09  2e-09 0:04.5\n",
      "  600   7800 4.911971294212944e+02 3.9e+00 2.68e-09  1e-09  2e-09 0:05.4\n",
      "  700   9100 4.911971294212981e+02 4.5e+00 3.72e-09  2e-09  2e-09 0:06.3\n",
      "  800  10400 4.911971294212963e+02 5.4e+00 3.22e-09  1e-09  2e-09 0:07.2\n",
      "  900  11700 4.911971294212990e+02 6.9e+00 3.09e-09  1e-09  2e-09 0:08.1\n",
      "  971  12623 4.911971294213035e+02 7.4e+00 2.21e-09  8e-10  2e-09 0:08.8\n",
      "termination on tolfun=1e-11 (Mon Apr 13 13:06:56 2020)\n",
      "final/bestever f-value = 4.911971e+02 4.911971e+02\n",
      "incumbent solution: [-0.03480842  0.08888245 -0.08279111 -0.03537029 -0.27922571  0.20285759\n",
      " -0.0404153   0.01401395 ...]\n",
      "std deviations: [1.13968052e-09 8.91118136e-10 1.12042611e-09 1.66493697e-09\n",
      " 9.22603408e-10 1.25866515e-09 9.44194191e-10 9.91947161e-10 ...]\n",
      "(6_w,13)-aCMA-ES (mu_w=4.0,w_1=38%) in dimension 25 (seed=906455, Mon Apr 13 13:06:56 2020)\n",
      "Iterat #Fevals   function value  axis ratio  sigma  min&max std  t[m:s]\n",
      "    1     13 1.268834846787762e+04 1.0e+00 1.20e-01  1e-01  1e-01 0:00.0\n",
      "    2     26 1.162772913515736e+04 1.1e+00 1.23e-01  1e-01  1e-01 0:00.0\n",
      "    3     39 1.152392694241134e+04 1.1e+00 1.26e-01  1e-01  1e-01 0:00.0\n"
     ]
    },
    {
     "name": "stderr",
     "output_type": "stream",
     "text": [
      "/usr/local/lib/python3.6/dist-packages/cma/utilities/utils.py:333: UserWarning: function_values is not a list of scalars,\n",
      "                        the first element equals [17926.18722923] with non-scalar type <class 'numpy.ndarray'>.\n",
      "                        Using now ``[v[0] for v in function_values]`` instead (further warnings are suppressed) ()\n",
      "  ')')\n",
      "/usr/local/lib/python3.6/dist-packages/cma/utilities/utils.py:333: UserWarning: function_values is not a list of scalars,\n",
      "                        the first element equals [14381.03282496] with non-scalar type <class 'numpy.ndarray'>.\n",
      "                        Using now ``[v[0] for v in function_values]`` instead (further warnings are suppressed) ()\n",
      "  ')')\n"
     ]
    },
    {
     "name": "stdout",
     "output_type": "stream",
     "text": [
      "   71    923 -4.926081640257372e+09 1.8e+00 1.43e+02  1e+02  1e+02 0:01.0\n",
      "termination on tolfacupx=1000.0 (Mon Apr 13 13:06:57 2020)\n",
      "final/bestever f-value = -4.651980e+09 -4.926082e+09\n",
      "incumbent solution: [ 139.33110234 -506.85794869  411.32999531  188.98953124  -17.741105\n",
      "  -81.37684796   95.72841553 -143.048954   ...]\n",
      "std deviations: [133.1325839  129.91526011 133.78418383 140.84839328 129.56274577\n",
      " 136.08989158 129.41297996 129.06375133 ...]\n",
      "Run : 9\n",
      "(6_w,13)-aCMA-ES (mu_w=4.0,w_1=38%) in dimension 25 (seed=948322, Mon Apr 13 13:06:57 2020)\n",
      "Iterat #Fevals   function value  axis ratio  sigma  min&max std  t[m:s]\n",
      "    1     13 6.482875712374843e+03 1.0e+00 1.20e-01  1e-01  1e-01 0:00.0\n",
      "    2     26 6.482871075618331e+03 1.1e+00 1.15e-01  1e-01  1e-01 0:00.0\n",
      "    3     39 6.482834789097778e+03 1.1e+00 1.15e-01  1e-01  1e-01 0:00.0\n"
     ]
    },
    {
     "name": "stderr",
     "output_type": "stream",
     "text": [
      "/usr/local/lib/python3.6/dist-packages/cma/utilities/utils.py:333: UserWarning: function_values is not a list of scalars,\n",
      "                        the first element equals [6482.88059115] with non-scalar type <class 'numpy.ndarray'>.\n",
      "                        Using now ``[v[0] for v in function_values]`` instead (further warnings are suppressed) ()\n",
      "  ')')\n",
      "/usr/local/lib/python3.6/dist-packages/cma/utilities/utils.py:333: UserWarning: function_values is not a list of scalars,\n",
      "                        the first element equals [6482.87976316] with non-scalar type <class 'numpy.ndarray'>.\n",
      "                        Using now ``[v[0] for v in function_values]`` instead (further warnings are suppressed) ()\n",
      "  ')')\n"
     ]
    },
    {
     "name": "stdout",
     "output_type": "stream",
     "text": [
      "  100   1300 -7.579628924962981e+02 1.7e+00 1.39e-02  1e-02  1e-02 0:01.1\n",
      "  200   2600 -7.900207640844355e+02 1.9e+00 2.25e-04  2e-04  2e-04 0:02.2\n",
      "  300   3900 -7.900296025820908e+02 2.4e+00 5.40e-06  3e-06  4e-06 0:03.3\n",
      "  400   5200 -7.900296071264311e+02 2.6e+00 6.88e-08  3e-08  5e-08 0:04.4\n",
      "  500   6500 -7.900296071267148e+02 2.9e+00 2.23e-09  9e-10  1e-09 0:05.5\n",
      "  512   6656 -7.900296071267157e+02 2.9e+00 1.93e-09  8e-10  1e-09 0:05.7\n",
      "termination on tolfun=1e-11 (Mon Apr 13 13:07:04 2020)\n",
      "final/bestever f-value = -7.900296e+02 -7.900296e+02\n",
      "incumbent solution: [-0.00982798  0.07743961 -0.05328936 -0.04366306 -0.25058487  0.22432777\n",
      " -0.00688878 -0.00087847 ...]\n",
      "std deviations: [9.63278300e-10 1.10729063e-09 8.59259284e-10 1.06341692e-09\n",
      " 9.32186667e-10 9.83826856e-10 1.05399921e-09 9.65207930e-10 ...]\n",
      "(6_w,13)-aCMA-ES (mu_w=4.0,w_1=38%) in dimension 25 (seed=891244, Mon Apr 13 13:07:04 2020)\n",
      "Iterat #Fevals   function value  axis ratio  sigma  min&max std  t[m:s]\n",
      "    1     13 6.139431756801418e+03 1.0e+00 1.20e-01  1e-01  1e-01 0:00.0\n",
      "    2     26 6.139430613279818e+03 1.1e+00 1.17e-01  1e-01  1e-01 0:00.0\n",
      "    3     39 6.139377096938998e+03 1.1e+00 1.12e-01  1e-01  1e-01 0:00.0\n"
     ]
    },
    {
     "name": "stderr",
     "output_type": "stream",
     "text": [
      "/usr/local/lib/python3.6/dist-packages/cma/utilities/utils.py:333: UserWarning: function_values is not a list of scalars,\n",
      "                        the first element equals [6139.45826724] with non-scalar type <class 'numpy.ndarray'>.\n",
      "                        Using now ``[v[0] for v in function_values]`` instead (further warnings are suppressed) ()\n",
      "  ')')\n",
      "/usr/local/lib/python3.6/dist-packages/cma/utilities/utils.py:333: UserWarning: function_values is not a list of scalars,\n",
      "                        the first element equals [6139.46026981] with non-scalar type <class 'numpy.ndarray'>.\n",
      "                        Using now ``[v[0] for v in function_values]`` instead (further warnings are suppressed) ()\n",
      "  ')')\n"
     ]
    },
    {
     "name": "stdout",
     "output_type": "stream",
     "text": [
      "  100   1300 5.060848728928568e+02 1.7e+00 1.24e-02  1e-02  1e-02 0:00.9\n",
      "  200   2600 4.911991396273443e+02 1.9e+00 1.40e-04  9e-05  1e-04 0:01.8\n",
      "  300   3900 4.911971296632419e+02 1.9e+00 1.75e-06  1e-06  1e-06 0:02.7\n",
      "  400   5200 4.911971294213217e+02 2.3e+00 1.97e-08  9e-09  1e-08 0:03.6\n",
      "  500   6500 4.911971294212990e+02 2.9e+00 6.49e-09  3e-09  4e-09 0:04.5\n",
      "  600   7800 4.911971294213008e+02 3.2e+00 5.06e-09  2e-09  3e-09 0:05.4\n",
      "  700   9100 4.911971294212972e+02 4.2e+00 1.37e-09  5e-10  9e-10 0:06.3\n",
      "  800  10400 4.911971294213008e+02 4.8e+00 1.15e-09  4e-10  8e-10 0:07.2\n",
      "  900  11700 4.911971294212999e+02 6.3e+00 1.27e-09  4e-10  8e-10 0:08.2\n",
      " 1000  13000 4.911971294212981e+02 6.6e+00 2.13e-09  7e-10  1e-09 0:09.1\n",
      "Iterat #Fevals   function value  axis ratio  sigma  min&max std  t[m:s]\n",
      " 1100  14300 4.911971294212990e+02 7.7e+00 3.59e-09  1e-09  2e-09 0:09.9\n",
      " 1200  15600 4.911971294213008e+02 8.8e+00 2.56e-09  1e-09  2e-09 0:10.8\n",
      " 1300  16900 4.911971294213035e+02 1.0e+01 1.62e-09  6e-10  1e-09 0:11.8\n",
      " 1400  18200 4.911971294212990e+02 1.2e+01 1.87e-09  7e-10  1e-09 0:12.7\n",
      " 1481  19253 4.911971294213008e+02 1.4e+01 2.40e-09  8e-10  2e-09 0:13.4\n",
      "termination on tolfun=1e-11 (Mon Apr 13 13:07:22 2020)\n",
      "final/bestever f-value = 4.911971e+02 4.911971e+02\n",
      "incumbent solution: [-0.03480841  0.08888245 -0.08279112 -0.03537029 -0.2792257   0.20285758\n",
      " -0.04041531  0.01401394 ...]\n",
      "std deviations: [1.26815209e-09 1.07368557e-09 1.05817540e-09 9.84873100e-10\n",
      " 9.28434307e-10 1.10847000e-09 1.12293584e-09 1.45007489e-09 ...]\n",
      "(6_w,13)-aCMA-ES (mu_w=4.0,w_1=38%) in dimension 25 (seed=892744, Mon Apr 13 13:07:22 2020)\n",
      "Iterat #Fevals   function value  axis ratio  sigma  min&max std  t[m:s]\n",
      "    1     13 1.224060594835507e+04 1.0e+00 1.22e-01  1e-01  1e-01 0:00.0\n",
      "    2     26 1.029720750772219e+04 1.1e+00 1.20e-01  1e-01  1e-01 0:00.0\n",
      "    3     39 7.685726776363334e+03 1.1e+00 1.20e-01  1e-01  1e-01 0:00.0\n"
     ]
    },
    {
     "name": "stderr",
     "output_type": "stream",
     "text": [
      "/usr/local/lib/python3.6/dist-packages/cma/utilities/utils.py:333: UserWarning: function_values is not a list of scalars,\n",
      "                        the first element equals [16991.5113034] with non-scalar type <class 'numpy.ndarray'>.\n",
      "                        Using now ``[v[0] for v in function_values]`` instead (further warnings are suppressed) ()\n",
      "  ')')\n",
      "/usr/local/lib/python3.6/dist-packages/cma/utilities/utils.py:333: UserWarning: function_values is not a list of scalars,\n",
      "                        the first element equals [13429.90654344] with non-scalar type <class 'numpy.ndarray'>.\n",
      "                        Using now ``[v[0] for v in function_values]`` instead (further warnings are suppressed) ()\n",
      "  ')')\n"
     ]
    },
    {
     "name": "stdout",
     "output_type": "stream",
     "text": [
      "   66    858 -3.871213153424783e+09 2.0e+00 1.21e+02  1e+02  1e+02 0:00.9\n",
      "termination on tolfacupx=1000.0 (Mon Apr 13 13:07:23 2020)\n",
      "final/bestever f-value = -3.494315e+09 -3.871213e+09\n",
      "incumbent solution: [ 216.14990715 -385.04672255  611.58650604  -33.25480616   38.81232095\n",
      " -258.86347471   98.85269732  329.94820201 ...]\n",
      "std deviations: [116.88023299 117.55363519 120.90044907 109.43923725 110.81273247\n",
      " 122.05003636 113.66947404 114.25152888 ...]\n",
      "Run : 10\n",
      "(6_w,13)-aCMA-ES (mu_w=4.0,w_1=38%) in dimension 25 (seed=824367, Mon Apr 13 13:07:24 2020)\n",
      "Iterat #Fevals   function value  axis ratio  sigma  min&max std  t[m:s]\n",
      "    1     13 6.481945838551366e+03 1.0e+00 1.20e-01  1e-01  1e-01 0:00.0\n",
      "    2     26 6.482275370380449e+03 1.1e+00 1.17e-01  1e-01  1e-01 0:00.0\n",
      "    3     39 6.481712788650416e+03 1.1e+00 1.16e-01  1e-01  1e-01 0:00.0\n"
     ]
    },
    {
     "name": "stderr",
     "output_type": "stream",
     "text": [
      "/usr/local/lib/python3.6/dist-packages/cma/utilities/utils.py:333: UserWarning: function_values is not a list of scalars,\n",
      "                        the first element equals [6482.78788568] with non-scalar type <class 'numpy.ndarray'>.\n",
      "                        Using now ``[v[0] for v in function_values]`` instead (further warnings are suppressed) ()\n",
      "  ')')\n",
      "/usr/local/lib/python3.6/dist-packages/cma/utilities/utils.py:333: UserWarning: function_values is not a list of scalars,\n",
      "                        the first element equals [6482.54550359] with non-scalar type <class 'numpy.ndarray'>.\n",
      "                        Using now ``[v[0] for v in function_values]`` instead (further warnings are suppressed) ()\n",
      "  ')')\n"
     ]
    },
    {
     "name": "stdout",
     "output_type": "stream",
     "text": [
      "  100   1300 3.372620542617669e+03 2.1e+00 1.22e-02  1e-02  1e-02 0:01.2\n",
      "  200   2600 -7.784442125199830e+02 2.4e+00 7.02e-03  5e-03  8e-03 0:02.3\n",
      "  300   3900 -7.900270111309665e+02 2.2e+00 1.44e-04  8e-05  1e-04 0:03.3\n",
      "  400   5200 -7.900296065220382e+02 2.3e+00 2.63e-06  1e-06  2e-06 0:04.5\n",
      "  500   6500 -7.900296071265648e+02 2.5e+00 6.35e-08  3e-08  4e-08 0:05.6\n",
      "  600   7800 -7.900296071267157e+02 2.9e+00 3.48e-09  1e-09  2e-09 0:06.7\n",
      "  610   7930 -7.900296071267157e+02 3.0e+00 2.95e-09  1e-09  2e-09 0:06.8\n",
      "termination on tolfun=1e-11 (Mon Apr 13 13:07:32 2020)\n",
      "final/bestever f-value = -7.900296e+02 -7.900296e+02\n",
      "incumbent solution: [-0.00982798  0.07743961 -0.05328936 -0.04366305 -0.25058487  0.22432777\n",
      " -0.00688878 -0.00087847 ...]\n",
      "std deviations: [1.34254509e-09 1.33996754e-09 1.24619828e-09 1.53545628e-09\n",
      " 1.07378828e-09 1.48285288e-09 1.31478038e-09 1.31866791e-09 ...]\n",
      "(6_w,13)-aCMA-ES (mu_w=4.0,w_1=38%) in dimension 25 (seed=901217, Mon Apr 13 13:07:32 2020)\n",
      "Iterat #Fevals   function value  axis ratio  sigma  min&max std  t[m:s]\n",
      "    1     13 6.138224349625987e+03 1.0e+00 1.22e-01  1e-01  1e-01 0:00.0\n",
      "    2     26 6.134287253765203e+03 1.1e+00 1.22e-01  1e-01  1e-01 0:00.0\n",
      "    3     39 6.135592354608981e+03 1.1e+00 1.23e-01  1e-01  1e-01 0:00.0\n"
     ]
    },
    {
     "name": "stderr",
     "output_type": "stream",
     "text": [
      "/usr/local/lib/python3.6/dist-packages/cma/utilities/utils.py:333: UserWarning: function_values is not a list of scalars,\n",
      "                        the first element equals [6138.81273198] with non-scalar type <class 'numpy.ndarray'>.\n",
      "                        Using now ``[v[0] for v in function_values]`` instead (further warnings are suppressed) ()\n",
      "  ')')\n",
      "/usr/local/lib/python3.6/dist-packages/cma/utilities/utils.py:333: UserWarning: function_values is not a list of scalars,\n",
      "                        the first element equals [6138.85174696] with non-scalar type <class 'numpy.ndarray'>.\n",
      "                        Using now ``[v[0] for v in function_values]`` instead (further warnings are suppressed) ()\n",
      "  ')')\n"
     ]
    },
    {
     "name": "stdout",
     "output_type": "stream",
     "text": [
      "  100   1300 5.127146544060142e+02 1.8e+00 9.96e-03  8e-03  9e-03 0:00.9\n",
      "  200   2600 4.911993507283078e+02 1.8e+00 1.24e-04  8e-05  1e-04 0:01.8\n",
      "  300   3900 4.911971297881400e+02 2.1e+00 2.41e-06  1e-06  2e-06 0:02.7\n",
      "  400   5200 4.911971294213517e+02 2.3e+00 2.89e-08  1e-08  2e-08 0:03.6\n",
      "  500   6500 4.911971294212981e+02 2.7e+00 3.14e-09  1e-09  2e-09 0:04.5\n",
      "  600   7800 4.911971294212926e+02 3.9e+00 2.36e-09  1e-09  1e-09 0:05.4\n",
      "  700   9100 4.911971294212990e+02 4.6e+00 2.14e-09  8e-10  1e-09 0:06.3\n",
      "  800  10400 4.911971294213035e+02 6.2e+00 1.55e-09  5e-10  1e-09 0:07.2\n",
      "  900  11700 4.911971294213017e+02 7.7e+00 1.60e-09  6e-10  1e-09 0:08.2\n",
      " 1000  13000 4.911971294212972e+02 8.3e+00 1.41e-09  5e-10  9e-10 0:09.1\n",
      "Iterat #Fevals   function value  axis ratio  sigma  min&max std  t[m:s]\n",
      " 1100  14300 4.911971294213008e+02 9.5e+00 1.35e-09  4e-10  9e-10 0:10.0\n",
      " 1200  15600 4.911971294212999e+02 1.1e+01 8.65e-10  3e-10  6e-10 0:10.9\n",
      " 1300  16900 4.911971294212981e+02 1.2e+01 8.68e-10  3e-10  6e-10 0:11.8\n",
      " 1400  18200 4.911971294213017e+02 1.4e+01 9.63e-10  3e-10  6e-10 0:12.7\n",
      " 1500  19500 4.911971294213008e+02 1.4e+01 7.74e-10  2e-10  5e-10 0:13.6\n",
      " 1600  20800 4.911971294213026e+02 1.6e+01 6.79e-10  2e-10  4e-10 0:14.5\n",
      " 1700  22100 4.911971294213017e+02 1.8e+01 1.14e-09  3e-10  7e-10 0:15.3\n",
      " 1800  23400 4.911971294212999e+02 2.0e+01 1.14e-09  3e-10  7e-10 0:16.2\n",
      " 1900  24700 4.911971294213017e+02 2.1e+01 1.43e-09  4e-10  8e-10 0:17.1\n",
      " 1920  24960 4.911971294213026e+02 2.1e+01 1.44e-09  4e-10  9e-10 0:17.3\n",
      "termination on tolstagnation=1061 (Mon Apr 13 13:07:55 2020)\n",
      "final/bestever f-value = 4.911971e+02 4.911971e+02\n",
      "incumbent solution: [-0.03480841  0.08888244 -0.0827911  -0.03537028 -0.2792257   0.20285759\n",
      " -0.0404153   0.01401394 ...]\n",
      "std deviations: [7.71585925e-10 4.85252042e-10 3.63805757e-10 5.63479850e-10\n",
      " 5.01206577e-10 6.07305913e-10 8.52156221e-10 6.89390336e-10 ...]\n",
      "(6_w,13)-aCMA-ES (mu_w=4.0,w_1=38%) in dimension 25 (seed=834069, Mon Apr 13 13:07:56 2020)\n",
      "Iterat #Fevals   function value  axis ratio  sigma  min&max std  t[m:s]\n",
      "    1     13 8.129525227858786e+03 1.0e+00 1.20e-01  1e-01  1e-01 0:00.0\n",
      "    2     26 6.508295232888201e+03 1.1e+00 1.17e-01  1e-01  1e-01 0:00.0\n",
      "    3     39 5.219170373066050e+03 1.1e+00 1.18e-01  1e-01  1e-01 0:00.0\n"
     ]
    },
    {
     "name": "stderr",
     "output_type": "stream",
     "text": [
      "/usr/local/lib/python3.6/dist-packages/cma/utilities/utils.py:333: UserWarning: function_values is not a list of scalars,\n",
      "                        the first element equals [13661.70832772] with non-scalar type <class 'numpy.ndarray'>.\n",
      "                        Using now ``[v[0] for v in function_values]`` instead (further warnings are suppressed) ()\n",
      "  ')')\n",
      "/usr/local/lib/python3.6/dist-packages/cma/utilities/utils.py:333: UserWarning: function_values is not a list of scalars,\n",
      "                        the first element equals [8648.67467914] with non-scalar type <class 'numpy.ndarray'>.\n",
      "                        Using now ``[v[0] for v in function_values]`` instead (further warnings are suppressed) ()\n",
      "  ')')\n"
     ]
    },
    {
     "name": "stdout",
     "output_type": "stream",
     "text": [
      "   69    897 -3.416713888786855e+09 1.9e+00 1.22e+02  1e+02  1e+02 0:00.9\n",
      "termination on tolfacupx=1000.0 (Mon Apr 13 13:07:57 2020)\n",
      "final/bestever f-value = -3.458741e+09 -3.458741e+09\n",
      "incumbent solution: [ 120.14341433 -339.28567645  149.58341581   58.6061666   126.98720951\n",
      " -195.55871614   40.78258167  140.60602858 ...]\n",
      "std deviations: [118.45156602 118.32457668 115.48486773 114.56338932 116.67593382\n",
      " 118.00811646 110.059574   108.1413173  ...]\n",
      "Run : 11\n",
      "(6_w,13)-aCMA-ES (mu_w=4.0,w_1=38%) in dimension 25 (seed=820202, Mon Apr 13 13:07:57 2020)\n",
      "Iterat #Fevals   function value  axis ratio  sigma  min&max std  t[m:s]\n",
      "    1     13 6.482880204917681e+03 1.0e+00 1.18e-01  1e-01  1e-01 0:00.0\n",
      "    2     26 6.482880080610650e+03 1.1e+00 1.15e-01  1e-01  1e-01 0:00.0\n",
      "    3     39 6.482880030421413e+03 1.1e+00 1.12e-01  1e-01  1e-01 0:00.0\n"
     ]
    },
    {
     "name": "stderr",
     "output_type": "stream",
     "text": [
      "/usr/local/lib/python3.6/dist-packages/cma/utilities/utils.py:333: UserWarning: function_values is not a list of scalars,\n",
      "                        the first element equals [6482.88022779] with non-scalar type <class 'numpy.ndarray'>.\n",
      "                        Using now ``[v[0] for v in function_values]`` instead (further warnings are suppressed) ()\n",
      "  ')')\n",
      "/usr/local/lib/python3.6/dist-packages/cma/utilities/utils.py:333: UserWarning: function_values is not a list of scalars,\n",
      "                        the first element equals [6482.88019445] with non-scalar type <class 'numpy.ndarray'>.\n",
      "                        Using now ``[v[0] for v in function_values]`` instead (further warnings are suppressed) ()\n",
      "  ')')\n"
     ]
    },
    {
     "name": "stdout",
     "output_type": "stream",
     "text": [
      "  100   1300 -7.083849637259118e+02 1.7e+00 1.86e-02  2e-02  2e-02 0:01.1\n",
      "  200   2600 -7.900167616486942e+02 2.0e+00 2.77e-04  2e-04  2e-04 0:02.2\n",
      "  300   3900 -7.900296041440224e+02 2.1e+00 4.27e-06  2e-06  3e-06 0:03.3\n",
      "  400   5200 -7.900296071264975e+02 2.5e+00 4.89e-08  2e-08  3e-08 0:04.4\n",
      "  500   6500 -7.900296071267148e+02 2.7e+00 2.69e-09  1e-09  2e-09 0:05.5\n",
      "  501   6513 -7.900296071267157e+02 2.7e+00 2.62e-09  1e-09  2e-09 0:05.5\n",
      "termination on tolfun=1e-11 (Mon Apr 13 13:08:04 2020)\n",
      "final/bestever f-value = -7.900296e+02 -7.900296e+02\n",
      "incumbent solution: [-0.00982798  0.07743961 -0.05328936 -0.04366306 -0.25058487  0.22432777\n",
      " -0.00688878 -0.00087847 ...]\n",
      "std deviations: [1.34016647e-09 1.37961383e-09 1.25106034e-09 1.49207190e-09\n",
      " 1.10758929e-09 1.22820119e-09 1.43568136e-09 1.31880508e-09 ...]\n",
      "(6_w,13)-aCMA-ES (mu_w=4.0,w_1=38%) in dimension 25 (seed=832522, Mon Apr 13 13:08:04 2020)\n",
      "Iterat #Fevals   function value  axis ratio  sigma  min&max std  t[m:s]\n",
      "    1     13 6.139452729517859e+03 1.0e+00 1.21e-01  1e-01  1e-01 0:00.0\n",
      "    2     26 6.139407402229340e+03 1.1e+00 1.19e-01  1e-01  1e-01 0:00.0\n",
      "    3     39 6.139344423089803e+03 1.1e+00 1.20e-01  1e-01  1e-01 0:00.0\n"
     ]
    },
    {
     "name": "stderr",
     "output_type": "stream",
     "text": [
      "/usr/local/lib/python3.6/dist-packages/cma/utilities/utils.py:333: UserWarning: function_values is not a list of scalars,\n",
      "                        the first element equals [6139.47131222] with non-scalar type <class 'numpy.ndarray'>.\n",
      "                        Using now ``[v[0] for v in function_values]`` instead (further warnings are suppressed) ()\n",
      "  ')')\n",
      "/usr/local/lib/python3.6/dist-packages/cma/utilities/utils.py:333: UserWarning: function_values is not a list of scalars,\n",
      "                        the first element equals [6139.40740223] with non-scalar type <class 'numpy.ndarray'>.\n",
      "                        Using now ``[v[0] for v in function_values]`` instead (further warnings are suppressed) ()\n",
      "  ')')\n"
     ]
    },
    {
     "name": "stdout",
     "output_type": "stream",
     "text": [
      "  100   1300 5.099100459581450e+02 1.9e+00 9.68e-03  8e-03  9e-03 0:00.9\n",
      "  200   2600 4.912002334891677e+02 1.9e+00 1.75e-04  1e-04  1e-04 0:01.8\n",
      "  300   3900 4.911971301758940e+02 2.2e+00 3.17e-06  2e-06  2e-06 0:02.7\n",
      "  400   5200 4.911971294213636e+02 2.2e+00 3.18e-08  1e-08  2e-08 0:03.6\n",
      "  500   6500 4.911971294212999e+02 2.7e+00 3.43e-09  1e-09  2e-09 0:04.5\n",
      "  600   7800 4.911971294213008e+02 3.4e+00 2.96e-09  1e-09  2e-09 0:05.4\n",
      "  700   9100 4.911971294212944e+02 4.5e+00 3.03e-09  1e-09  2e-09 0:06.3\n",
      "  772  10036 4.911971294212999e+02 4.6e+00 1.63e-09  6e-10  1e-09 0:06.9\n",
      "termination on tolfun=1e-11 (Mon Apr 13 13:08:13 2020)\n",
      "final/bestever f-value = 4.911971e+02 4.911971e+02\n",
      "incumbent solution: [-0.03480841  0.08888245 -0.08279112 -0.03537028 -0.2792257   0.20285759\n",
      " -0.04041531  0.01401394 ...]\n",
      "std deviations: [8.72006470e-10 7.33508528e-10 6.53169837e-10 8.83570224e-10\n",
      " 7.55587314e-10 8.14299869e-10 9.14696663e-10 7.39419699e-10 ...]\n",
      "(6_w,13)-aCMA-ES (mu_w=4.0,w_1=38%) in dimension 25 (seed=880065, Mon Apr 13 13:08:13 2020)\n",
      "Iterat #Fevals   function value  axis ratio  sigma  min&max std  t[m:s]\n",
      "    1     13 1.161419660984124e+04 1.0e+00 1.19e-01  1e-01  1e-01 0:00.0\n",
      "    2     26 1.048551267951036e+04 1.1e+00 1.15e-01  1e-01  1e-01 0:00.0\n",
      "    3     39 9.539176655671217e+03 1.1e+00 1.12e-01  1e-01  1e-01 0:00.0\n"
     ]
    },
    {
     "name": "stderr",
     "output_type": "stream",
     "text": [
      "/usr/local/lib/python3.6/dist-packages/cma/utilities/utils.py:333: UserWarning: function_values is not a list of scalars,\n",
      "                        the first element equals [11614.19660984] with non-scalar type <class 'numpy.ndarray'>.\n",
      "                        Using now ``[v[0] for v in function_values]`` instead (further warnings are suppressed) ()\n",
      "  ')')\n",
      "/usr/local/lib/python3.6/dist-packages/cma/utilities/utils.py:333: UserWarning: function_values is not a list of scalars,\n",
      "                        the first element equals [11574.14605922] with non-scalar type <class 'numpy.ndarray'>.\n",
      "                        Using now ``[v[0] for v in function_values]`` instead (further warnings are suppressed) ()\n",
      "  ')')\n"
     ]
    },
    {
     "name": "stdout",
     "output_type": "stream",
     "text": [
      "   74    962 -4.148120714937204e+09 2.0e+00 1.20e+02  1e+02  1e+02 0:01.0\n",
      "termination on tolfacupx=1000.0 (Mon Apr 13 13:08:14 2020)\n",
      "final/bestever f-value = -3.556901e+09 -4.148121e+09\n",
      "incumbent solution: [-149.84108456 -558.79540864  557.43372535 -145.13885011 -140.36281946\n",
      "  -58.52567667  -44.1033827   106.99299995 ...]\n",
      "std deviations: [109.88908732 123.99447886 112.53669026 109.53348773 122.16603837\n",
      " 117.00376913 109.81368997 113.88274214 ...]\n",
      "Run : 12\n",
      "(6_w,13)-aCMA-ES (mu_w=4.0,w_1=38%) in dimension 25 (seed=858444, Mon Apr 13 13:08:14 2020)\n",
      "Iterat #Fevals   function value  axis ratio  sigma  min&max std  t[m:s]\n",
      "    1     13 6.482880295361947e+03 1.0e+00 1.19e-01  1e-01  1e-01 0:00.0\n",
      "    2     26 6.482880174164357e+03 1.1e+00 1.14e-01  1e-01  1e-01 0:00.0\n",
      "    3     39 6.482880152414297e+03 1.1e+00 1.14e-01  1e-01  1e-01 0:00.0\n"
     ]
    },
    {
     "name": "stderr",
     "output_type": "stream",
     "text": [
      "/usr/local/lib/python3.6/dist-packages/cma/utilities/utils.py:333: UserWarning: function_values is not a list of scalars,\n",
      "                        the first element equals [6482.88092978] with non-scalar type <class 'numpy.ndarray'>.\n",
      "                        Using now ``[v[0] for v in function_values]`` instead (further warnings are suppressed) ()\n",
      "  ')')\n",
      "/usr/local/lib/python3.6/dist-packages/cma/utilities/utils.py:333: UserWarning: function_values is not a list of scalars,\n",
      "                        the first element equals [6482.88023539] with non-scalar type <class 'numpy.ndarray'>.\n",
      "                        Using now ``[v[0] for v in function_values]`` instead (further warnings are suppressed) ()\n",
      "  ')')\n"
     ]
    },
    {
     "name": "stdout",
     "output_type": "stream",
     "text": [
      "  100   1300 -6.477258214834255e+02 1.9e+00 2.50e-02  2e-02  2e-02 0:01.1\n",
      "  200   2600 -7.899069184822738e+02 1.8e+00 6.79e-04  5e-04  6e-04 0:02.2\n",
      "  300   3900 -7.900295445805377e+02 2.2e+00 2.16e-05  1e-05  2e-05 0:03.2\n",
      "  400   5200 -7.900296071203265e+02 2.5e+00 2.43e-07  1e-07  2e-07 0:04.3\n",
      "  500   6500 -7.900296071267130e+02 2.7e+00 4.67e-09  2e-09  3e-09 0:05.4\n",
      "  542   7046 -7.900296071267148e+02 2.8e+00 2.31e-09  1e-09  1e-09 0:05.9\n",
      "termination on tolfun=1e-11 (Mon Apr 13 13:08:22 2020)\n",
      "final/bestever f-value = -7.900296e+02 -7.900296e+02\n",
      "incumbent solution: [-0.00982798  0.07743961 -0.05328936 -0.04366306 -0.25058487  0.22432776\n",
      " -0.00688878 -0.00087847 ...]\n",
      "std deviations: [1.24012219e-09 1.16047413e-09 9.90121176e-10 1.16862668e-09\n",
      " 9.50094273e-10 1.25701597e-09 1.15680548e-09 1.18548250e-09 ...]\n",
      "(6_w,13)-aCMA-ES (mu_w=4.0,w_1=38%) in dimension 25 (seed=805516, Mon Apr 13 13:08:22 2020)\n",
      "Iterat #Fevals   function value  axis ratio  sigma  min&max std  t[m:s]\n",
      "    1     13 6.139468560114818e+03 1.0e+00 1.22e-01  1e-01  1e-01 0:00.0\n",
      "    2     26 6.139468450731553e+03 1.1e+00 1.19e-01  1e-01  1e-01 0:00.0\n",
      "    3     39 6.139468470490423e+03 1.1e+00 1.24e-01  1e-01  1e-01 0:00.0\n"
     ]
    },
    {
     "name": "stderr",
     "output_type": "stream",
     "text": [
      "/usr/local/lib/python3.6/dist-packages/cma/utilities/utils.py:333: UserWarning: function_values is not a list of scalars,\n",
      "                        the first element equals [6139.47268879] with non-scalar type <class 'numpy.ndarray'>.\n",
      "                        Using now ``[v[0] for v in function_values]`` instead (further warnings are suppressed) ()\n",
      "  ')')\n",
      "/usr/local/lib/python3.6/dist-packages/cma/utilities/utils.py:333: UserWarning: function_values is not a list of scalars,\n",
      "                        the first element equals [6139.46932927] with non-scalar type <class 'numpy.ndarray'>.\n",
      "                        Using now ``[v[0] for v in function_values]`` instead (further warnings are suppressed) ()\n",
      "  ')')\n"
     ]
    },
    {
     "name": "stdout",
     "output_type": "stream",
     "text": [
      "  100   1300 5.337261029102010e+02 1.8e+00 1.66e-02  1e-02  2e-02 0:00.9\n",
      "  200   2600 4.912038054304194e+02 1.9e+00 2.63e-04  2e-04  2e-04 0:01.8\n",
      "  300   3900 4.911971302833681e+02 2.1e+00 3.63e-06  2e-06  3e-06 0:02.7\n",
      "  400   5200 4.911971294215455e+02 2.4e+00 6.21e-08  3e-08  4e-08 0:03.6\n",
      "  500   6500 4.911971294213035e+02 2.6e+00 4.85e-09  2e-09  3e-09 0:04.5\n",
      "  600   7800 4.911971294213017e+02 2.8e+00 3.54e-09  1e-09  2e-09 0:05.4\n",
      "  700   9100 4.911971294213017e+02 3.7e+00 2.06e-09  8e-10  1e-09 0:06.3\n",
      "  800  10400 4.911971294213008e+02 4.8e+00 2.30e-09  8e-10  1e-09 0:07.2\n",
      "  900  11700 4.911971294213054e+02 4.7e+00 2.39e-09  8e-10  1e-09 0:08.2\n",
      " 1000  13000 4.911971294213026e+02 5.4e+00 2.28e-09  8e-10  1e-09 0:09.0\n",
      "Iterat #Fevals   function value  axis ratio  sigma  min&max std  t[m:s]\n",
      " 1100  14300 4.911971294212990e+02 7.2e+00 1.34e-09  4e-10  8e-10 0:09.9\n",
      " 1200  15600 4.911971294213063e+02 8.6e+00 4.87e-10  2e-10  3e-10 0:10.8\n",
      " 1230  15990 4.911971294213026e+02 9.6e+00 3.94e-10  1e-10  2e-10 0:11.1\n",
      "termination on tolfun=1e-11 (Mon Apr 13 13:08:36 2020)\n",
      "final/bestever f-value = 4.911971e+02 4.911971e+02\n",
      "incumbent solution: [-0.03480839  0.08888244 -0.08279111 -0.03537028 -0.2792257   0.20285759\n",
      " -0.04041531  0.01401394 ...]\n",
      "std deviations: [1.87555608e-10 2.08976535e-10 1.36982367e-10 1.54115529e-10\n",
      " 1.28049550e-10 1.69954023e-10 1.61524084e-10 2.01734807e-10 ...]\n",
      "(6_w,13)-aCMA-ES (mu_w=4.0,w_1=38%) in dimension 25 (seed=911217, Mon Apr 13 13:08:36 2020)\n",
      "Iterat #Fevals   function value  axis ratio  sigma  min&max std  t[m:s]\n",
      "    1     13 1.443189978372294e+04 1.0e+00 1.20e-01  1e-01  1e-01 0:00.0\n",
      "    2     26 1.252601402192012e+04 1.1e+00 1.18e-01  1e-01  1e-01 0:00.0\n",
      "    3     39 1.171485941375644e+04 1.1e+00 1.17e-01  1e-01  1e-01 0:00.0\n"
     ]
    },
    {
     "name": "stderr",
     "output_type": "stream",
     "text": [
      "/usr/local/lib/python3.6/dist-packages/cma/utilities/utils.py:333: UserWarning: function_values is not a list of scalars,\n",
      "                        the first element equals [18292.59945403] with non-scalar type <class 'numpy.ndarray'>.\n",
      "                        Using now ``[v[0] for v in function_values]`` instead (further warnings are suppressed) ()\n",
      "  ')')\n",
      "/usr/local/lib/python3.6/dist-packages/cma/utilities/utils.py:333: UserWarning: function_values is not a list of scalars,\n",
      "                        the first element equals [14679.59212478] with non-scalar type <class 'numpy.ndarray'>.\n",
      "                        Using now ``[v[0] for v in function_values]`` instead (further warnings are suppressed) ()\n",
      "  ')')\n"
     ]
    },
    {
     "name": "stdout",
     "output_type": "stream",
     "text": [
      "   62    806 -4.078414189405736e+09 2.3e+00 1.22e+02  1e+02  1e+02 0:00.9\n",
      "termination on tolfacupx=1000.0 (Mon Apr 13 13:08:37 2020)\n",
      "final/bestever f-value = -3.549810e+09 -4.078414e+09\n",
      "incumbent solution: [-169.00600941 -750.34485243  479.69807671 -331.33120073 -144.82444826\n",
      " -372.45728396  250.11589215  303.9998227  ...]\n",
      "std deviations: [115.90627036 134.83111918 120.2509647  114.21255249 115.78722157\n",
      " 131.12590444 111.45983431 113.50262103 ...]\n",
      "Run : 13\n",
      "(6_w,13)-aCMA-ES (mu_w=4.0,w_1=38%) in dimension 25 (seed=804432, Mon Apr 13 13:08:38 2020)\n",
      "Iterat #Fevals   function value  axis ratio  sigma  min&max std  t[m:s]\n",
      "    1     13 6.482874652671668e+03 1.0e+00 1.23e-01  1e-01  1e-01 0:00.0\n",
      "    2     26 6.482836643310445e+03 1.1e+00 1.22e-01  1e-01  1e-01 0:00.0\n",
      "    3     39 6.482581549832623e+03 1.1e+00 1.24e-01  1e-01  1e-01 0:00.0\n"
     ]
    },
    {
     "name": "stderr",
     "output_type": "stream",
     "text": [
      "/usr/local/lib/python3.6/dist-packages/cma/utilities/utils.py:333: UserWarning: function_values is not a list of scalars,\n",
      "                        the first element equals [6482.99800565] with non-scalar type <class 'numpy.ndarray'>.\n",
      "                        Using now ``[v[0] for v in function_values]`` instead (further warnings are suppressed) ()\n",
      "  ')')\n",
      "/usr/local/lib/python3.6/dist-packages/cma/utilities/utils.py:333: UserWarning: function_values is not a list of scalars,\n",
      "                        the first element equals [6482.83664331] with non-scalar type <class 'numpy.ndarray'>.\n",
      "                        Using now ``[v[0] for v in function_values]`` instead (further warnings are suppressed) ()\n",
      "  ')')\n"
     ]
    },
    {
     "name": "stdout",
     "output_type": "stream",
     "text": [
      "  100   1300 -7.785246747508845e+02 1.8e+00 7.47e-03  6e-03  7e-03 0:01.1\n",
      "  200   2600 -7.900261090282511e+02 1.9e+00 1.44e-04  1e-04  1e-04 0:02.2\n",
      "  300   3900 -7.900296061655608e+02 2.2e+00 2.27e-06  1e-06  2e-06 0:03.3\n",
      "  400   5200 -7.900296071266284e+02 2.5e+00 3.28e-08  2e-08  2e-08 0:04.4\n",
      "  497   6461 -7.900296071267157e+02 2.9e+00 1.74e-09  7e-10  1e-09 0:05.5\n",
      "termination on tolfun=1e-11 (Mon Apr 13 13:08:44 2020)\n",
      "final/bestever f-value = -7.900296e+02 -7.900296e+02\n",
      "incumbent solution: [-0.00982798  0.07743961 -0.05328936 -0.04366305 -0.25058487  0.22432777\n",
      " -0.00688878 -0.00087847 ...]\n",
      "std deviations: [8.94666871e-10 1.02573306e-09 8.57014751e-10 9.53795466e-10\n",
      " 7.63041985e-10 8.27753573e-10 9.12313169e-10 8.72757697e-10 ...]\n",
      "(6_w,13)-aCMA-ES (mu_w=4.0,w_1=38%) in dimension 25 (seed=953211, Mon Apr 13 13:08:45 2020)\n",
      "Iterat #Fevals   function value  axis ratio  sigma  min&max std  t[m:s]\n",
      "    1     13 6.139395824324392e+03 1.0e+00 1.23e-01  1e-01  1e-01 0:00.0\n",
      "    2     26 6.139278460454342e+03 1.1e+00 1.20e-01  1e-01  1e-01 0:00.0\n",
      "    3     39 6.139014134480805e+03 1.1e+00 1.19e-01  1e-01  1e-01 0:00.0\n"
     ]
    },
    {
     "name": "stderr",
     "output_type": "stream",
     "text": [
      "/usr/local/lib/python3.6/dist-packages/cma/utilities/utils.py:333: UserWarning: function_values is not a list of scalars,\n",
      "                        the first element equals [6139.50461471] with non-scalar type <class 'numpy.ndarray'>.\n",
      "                        Using now ``[v[0] for v in function_values]`` instead (further warnings are suppressed) ()\n",
      "  ')')\n",
      "/usr/local/lib/python3.6/dist-packages/cma/utilities/utils.py:333: UserWarning: function_values is not a list of scalars,\n",
      "                        the first element equals [6139.46123259] with non-scalar type <class 'numpy.ndarray'>.\n",
      "                        Using now ``[v[0] for v in function_values]`` instead (further warnings are suppressed) ()\n",
      "  ')')\n"
     ]
    },
    {
     "name": "stdout",
     "output_type": "stream",
     "text": [
      "  100   1300 5.036189039432193e+02 1.7e+00 8.54e-03  7e-03  8e-03 0:00.9\n",
      "  200   2600 4.911998944482375e+02 2.0e+00 1.52e-04  1e-04  1e-04 0:01.8\n",
      "  300   3900 4.911971296572037e+02 2.2e+00 2.02e-06  1e-06  2e-06 0:02.7\n",
      "  400   5200 4.911971294213317e+02 2.2e+00 2.15e-08  1e-08  1e-08 0:03.6\n",
      "  500   6500 4.911971294212999e+02 2.7e+00 2.89e-09  1e-09  2e-09 0:04.6\n",
      "  600   7800 4.911971294212926e+02 4.0e+00 2.10e-09  9e-10  1e-09 0:05.5\n",
      "  700   9100 4.911971294212935e+02 5.3e+00 5.78e-10  2e-10  4e-10 0:06.4\n",
      "  800  10400 4.911971294212981e+02 5.7e+00 3.57e-10  1e-10  2e-10 0:07.3\n",
      "  900  11700 4.911971294212963e+02 6.4e+00 8.92e-10  4e-10  6e-10 0:08.2\n",
      " 1000  13000 4.911971294212990e+02 7.4e+00 1.16e-09  4e-10  8e-10 0:09.1\n",
      "Iterat #Fevals   function value  axis ratio  sigma  min&max std  t[m:s]\n",
      " 1100  14300 4.911971294212954e+02 8.6e+00 4.98e-10  2e-10  3e-10 0:10.0\n",
      " 1133  14729 4.911971294213017e+02 9.3e+00 3.65e-10  1e-10  2e-10 0:10.3\n",
      "termination on tolfun=1e-11 (Mon Apr 13 13:08:58 2020)\n",
      "final/bestever f-value = 4.911971e+02 4.911971e+02\n",
      "incumbent solution: [-0.0348084   0.08888245 -0.08279111 -0.03537029 -0.2792257   0.2028576\n",
      " -0.0404153   0.01401394 ...]\n",
      "std deviations: [1.48326942e-10 1.89004306e-10 1.46794863e-10 1.98355706e-10\n",
      " 1.44995937e-10 1.79588416e-10 1.37469625e-10 2.44863842e-10 ...]\n",
      "(6_w,13)-aCMA-ES (mu_w=4.0,w_1=38%) in dimension 25 (seed=866483, Mon Apr 13 13:08:58 2020)\n",
      "Iterat #Fevals   function value  axis ratio  sigma  min&max std  t[m:s]\n",
      "    1     13 1.271309464973245e+04 1.0e+00 1.22e-01  1e-01  1e-01 0:00.0\n",
      "    2     26 1.115565754095815e+04 1.1e+00 1.21e-01  1e-01  1e-01 0:00.0\n",
      "    3     39 1.042811745432562e+04 1.1e+00 1.23e-01  1e-01  1e-01 0:00.0\n"
     ]
    },
    {
     "name": "stderr",
     "output_type": "stream",
     "text": [
      "/usr/local/lib/python3.6/dist-packages/cma/utilities/utils.py:333: UserWarning: function_values is not a list of scalars,\n",
      "                        the first element equals [13046.75593847] with non-scalar type <class 'numpy.ndarray'>.\n",
      "                        Using now ``[v[0] for v in function_values]`` instead (further warnings are suppressed) ()\n",
      "  ')')\n",
      "/usr/local/lib/python3.6/dist-packages/cma/utilities/utils.py:333: UserWarning: function_values is not a list of scalars,\n",
      "                        the first element equals [13407.68819372] with non-scalar type <class 'numpy.ndarray'>.\n",
      "                        Using now ``[v[0] for v in function_values]`` instead (further warnings are suppressed) ()\n",
      "  ')')\n"
     ]
    },
    {
     "name": "stdout",
     "output_type": "stream",
     "text": [
      "   83   1079 -5.924158025303824e+09 2.0e+00 1.28e+02  1e+02  1e+02 0:01.1\n",
      "termination on tolfacupx=1000.0 (Mon Apr 13 13:08:59 2020)\n",
      "final/bestever f-value = -5.924784e+09 -5.924784e+09\n",
      "incumbent solution: [-344.07076523 -269.59911988 1185.38657077 -129.31747532 -303.94360925\n",
      " -190.26150053  115.39765684  465.84651976 ...]\n",
      "std deviations: [124.37937725 121.1710159  137.55880293 134.45944933 115.78021989\n",
      " 124.7302986  112.14883295 135.20706191 ...]\n",
      "Run : 14\n",
      "(6_w,13)-aCMA-ES (mu_w=4.0,w_1=38%) in dimension 25 (seed=849178, Mon Apr 13 13:09:00 2020)\n",
      "Iterat #Fevals   function value  axis ratio  sigma  min&max std  t[m:s]\n",
      "    1     13 6.482544032465336e+03 1.0e+00 1.23e-01  1e-01  1e-01 0:00.0\n",
      "    2     26 6.482616153131520e+03 1.1e+00 1.19e-01  1e-01  1e-01 0:00.0\n",
      "    3     39 6.481881008584352e+03 1.1e+00 1.16e-01  1e-01  1e-01 0:00.0\n"
     ]
    },
    {
     "name": "stderr",
     "output_type": "stream",
     "text": [
      "/usr/local/lib/python3.6/dist-packages/cma/utilities/utils.py:333: UserWarning: function_values is not a list of scalars,\n",
      "                        the first element equals [6482.90178027] with non-scalar type <class 'numpy.ndarray'>.\n",
      "                        Using now ``[v[0] for v in function_values]`` instead (further warnings are suppressed) ()\n",
      "  ')')\n",
      "/usr/local/lib/python3.6/dist-packages/cma/utilities/utils.py:333: UserWarning: function_values is not a list of scalars,\n",
      "                        the first element equals [6483.07888284] with non-scalar type <class 'numpy.ndarray'>.\n",
      "                        Using now ``[v[0] for v in function_values]`` instead (further warnings are suppressed) ()\n",
      "  ')')\n"
     ]
    },
    {
     "name": "stdout",
     "output_type": "stream",
     "text": [
      "  100   1300 -6.529265820860783e+02 2.0e+00 2.24e-02  2e-02  2e-02 0:01.1\n",
      "  200   2600 -7.900043005745783e+02 2.0e+00 3.53e-04  2e-04  3e-04 0:02.2\n",
      "  300   3900 -7.900296045344467e+02 2.2e+00 4.52e-06  3e-06  4e-06 0:03.3\n",
      "  400   5200 -7.900296071263856e+02 2.5e+00 6.31e-08  3e-08  4e-08 0:04.4\n",
      "  500   6500 -7.900296071267157e+02 2.8e+00 2.59e-09  1e-09  2e-09 0:05.5\n",
      "  515   6695 -7.900296071267139e+02 2.7e+00 1.90e-09  8e-10  1e-09 0:05.6\n",
      "termination on tolfun=1e-11 (Mon Apr 13 13:09:07 2020)\n",
      "final/bestever f-value = -7.900296e+02 -7.900296e+02\n",
      "incumbent solution: [-0.00982798  0.07743961 -0.05328936 -0.04366306 -0.25058487  0.22432777\n",
      " -0.00688878 -0.00087847 ...]\n",
      "std deviations: [1.02213944e-09 1.03485351e-09 8.17195264e-10 1.07411634e-09\n",
      " 7.84935343e-10 9.93510970e-10 9.10099721e-10 9.65869305e-10 ...]\n",
      "(6_w,13)-aCMA-ES (mu_w=4.0,w_1=38%) in dimension 25 (seed=870501, Mon Apr 13 13:09:07 2020)\n",
      "Iterat #Fevals   function value  axis ratio  sigma  min&max std  t[m:s]\n",
      "    1     13 6.138825404569901e+03 1.0e+00 1.20e-01  1e-01  1e-01 0:00.0\n",
      "    2     26 6.137356239634202e+03 1.1e+00 1.15e-01  1e-01  1e-01 0:00.0\n",
      "    3     39 6.138281169143569e+03 1.1e+00 1.15e-01  1e-01  1e-01 0:00.0\n"
     ]
    },
    {
     "name": "stderr",
     "output_type": "stream",
     "text": [
      "/usr/local/lib/python3.6/dist-packages/cma/utilities/utils.py:333: UserWarning: function_values is not a list of scalars,\n",
      "                        the first element equals [6138.82540457] with non-scalar type <class 'numpy.ndarray'>.\n",
      "                        Using now ``[v[0] for v in function_values]`` instead (further warnings are suppressed) ()\n",
      "  ')')\n",
      "/usr/local/lib/python3.6/dist-packages/cma/utilities/utils.py:333: UserWarning: function_values is not a list of scalars,\n",
      "                        the first element equals [6139.50280999] with non-scalar type <class 'numpy.ndarray'>.\n",
      "                        Using now ``[v[0] for v in function_values]`` instead (further warnings are suppressed) ()\n",
      "  ')')\n"
     ]
    },
    {
     "name": "stdout",
     "output_type": "stream",
     "text": [
      "  100   1300 5.052472429843892e+02 1.7e+00 8.43e-03  7e-03  9e-03 0:00.9\n",
      "  200   2600 4.911991798500903e+02 1.9e+00 1.21e-04  8e-05  1e-04 0:01.8\n",
      "  300   3900 4.911971296646789e+02 2.4e+00 1.67e-06  9e-07  1e-06 0:02.7\n",
      "  400   5200 4.911971294213354e+02 2.5e+00 2.12e-08  1e-08  1e-08 0:03.6\n",
      "  500   6500 4.911971294213008e+02 3.2e+00 5.58e-09  2e-09  4e-09 0:04.5\n",
      "  600   7800 4.911971294212990e+02 3.5e+00 2.74e-09  1e-09  2e-09 0:05.4\n",
      "  670   8710 4.911971294213045e+02 4.4e+00 3.59e-09  1e-09  2e-09 0:06.1\n",
      "termination on tolfun=1e-11 (Mon Apr 13 13:09:15 2020)\n",
      "final/bestever f-value = 4.911971e+02 4.911971e+02\n",
      "incumbent solution: [-0.03480841  0.08888243 -0.08279112 -0.03537028 -0.27922571  0.20285759\n",
      " -0.04041532  0.01401394 ...]\n",
      "std deviations: [2.19430428e-09 1.69971284e-09 1.46590485e-09 2.26692076e-09\n",
      " 1.29460416e-09 1.71221146e-09 1.85635188e-09 1.88592069e-09 ...]\n",
      "(6_w,13)-aCMA-ES (mu_w=4.0,w_1=38%) in dimension 25 (seed=854378, Mon Apr 13 13:09:15 2020)\n",
      "Iterat #Fevals   function value  axis ratio  sigma  min&max std  t[m:s]\n",
      "    1     13 7.800642021897804e+03 1.0e+00 1.19e-01  1e-01  1e-01 0:00.0\n",
      "    2     26 5.828963860211267e+03 1.1e+00 1.18e-01  1e-01  1e-01 0:00.0\n",
      "    3     39 4.569387630140678e+03 1.1e+00 1.21e-01  1e-01  1e-01 0:00.0\n"
     ]
    },
    {
     "name": "stderr",
     "output_type": "stream",
     "text": [
      "/usr/local/lib/python3.6/dist-packages/cma/utilities/utils.py:333: UserWarning: function_values is not a list of scalars,\n",
      "                        the first element equals [11647.44137874] with non-scalar type <class 'numpy.ndarray'>.\n",
      "                        Using now ``[v[0] for v in function_values]`` instead (further warnings are suppressed) ()\n",
      "  ')')\n",
      "/usr/local/lib/python3.6/dist-packages/cma/utilities/utils.py:333: UserWarning: function_values is not a list of scalars,\n",
      "                        the first element equals [7503.04219078] with non-scalar type <class 'numpy.ndarray'>.\n",
      "                        Using now ``[v[0] for v in function_values]`` instead (further warnings are suppressed) ()\n",
      "  ')')\n"
     ]
    },
    {
     "name": "stdout",
     "output_type": "stream",
     "text": [
      "   61    793 -3.305540566740684e+09 1.7e+00 1.30e+02  1e+02  1e+02 0:00.8\n",
      "termination on tolfacupx=1000.0 (Mon Apr 13 13:09:16 2020)\n",
      "final/bestever f-value = -3.106853e+09 -3.305541e+09\n",
      "incumbent solution: [ 123.20183826 -373.17004245  808.53039802 -126.90550891   33.77281174\n",
      " -419.73625767  304.30149243  230.09244579 ...]\n",
      "std deviations: [128.77528281 127.98266594 133.39710922 121.70682386 127.96610249\n",
      " 123.43380596 123.46627712 125.45756634 ...]\n",
      "Run : 15\n",
      "(6_w,13)-aCMA-ES (mu_w=4.0,w_1=38%) in dimension 25 (seed=891763, Mon Apr 13 13:09:16 2020)\n",
      "Iterat #Fevals   function value  axis ratio  sigma  min&max std  t[m:s]\n",
      "    1     13 6.482879761510469e+03 1.0e+00 1.17e-01  1e-01  1e-01 0:00.0\n",
      "    2     26 6.482878737117831e+03 1.1e+00 1.11e-01  1e-01  1e-01 0:00.0\n",
      "    3     39 6.482866447864808e+03 1.1e+00 1.11e-01  1e-01  1e-01 0:00.0\n"
     ]
    },
    {
     "name": "stderr",
     "output_type": "stream",
     "text": [
      "/usr/local/lib/python3.6/dist-packages/cma/utilities/utils.py:333: UserWarning: function_values is not a list of scalars,\n",
      "                        the first element equals [6482.88006941] with non-scalar type <class 'numpy.ndarray'>.\n",
      "                        Using now ``[v[0] for v in function_values]`` instead (further warnings are suppressed) ()\n",
      "  ')')\n",
      "/usr/local/lib/python3.6/dist-packages/cma/utilities/utils.py:333: UserWarning: function_values is not a list of scalars,\n",
      "                        the first element equals [6482.87958655] with non-scalar type <class 'numpy.ndarray'>.\n",
      "                        Using now ``[v[0] for v in function_values]`` instead (further warnings are suppressed) ()\n",
      "  ')')\n"
     ]
    },
    {
     "name": "stdout",
     "output_type": "stream",
     "text": [
      "  100   1300 -7.010239447365639e+02 1.9e+00 1.84e-02  1e-02  2e-02 0:01.1\n",
      "  200   2600 -7.899970903740832e+02 2.0e+00 3.69e-04  2e-04  3e-04 0:02.2\n",
      "  300   3900 -7.900295994366543e+02 2.3e+00 6.92e-06  4e-06  5e-06 0:03.3\n",
      "  400   5200 -7.900296071248258e+02 2.8e+00 1.53e-07  7e-08  1e-07 0:04.3\n",
      "  500   6500 -7.900296071267139e+02 2.9e+00 3.35e-09  1e-09  2e-09 0:05.4\n",
      "  529   6877 -7.900296071267157e+02 2.9e+00 2.91e-09  1e-09  2e-09 0:05.8\n",
      "termination on tolfun=1e-11 (Mon Apr 13 13:09:23 2020)\n",
      "final/bestever f-value = -7.900296e+02 -7.900296e+02\n",
      "incumbent solution: [-0.00982798  0.07743961 -0.05328936 -0.04366305 -0.25058487  0.22432777\n",
      " -0.00688878 -0.00087847 ...]\n",
      "std deviations: [1.32545525e-09 1.61344954e-09 1.22760481e-09 1.45577421e-09\n",
      " 1.39786806e-09 1.39773680e-09 1.43516073e-09 1.55698188e-09 ...]\n",
      "(6_w,13)-aCMA-ES (mu_w=4.0,w_1=38%) in dimension 25 (seed=849899, Mon Apr 13 13:09:23 2020)\n",
      "Iterat #Fevals   function value  axis ratio  sigma  min&max std  t[m:s]\n",
      "    1     13 6.139456363310675e+03 1.0e+00 1.17e-01  1e-01  1e-01 0:00.0\n",
      "    2     26 6.139450374218994e+03 1.1e+00 1.12e-01  1e-01  1e-01 0:00.0\n",
      "    3     39 6.139407945921688e+03 1.1e+00 1.14e-01  1e-01  1e-01 0:00.0\n"
     ]
    },
    {
     "name": "stderr",
     "output_type": "stream",
     "text": [
      "/usr/local/lib/python3.6/dist-packages/cma/utilities/utils.py:333: UserWarning: function_values is not a list of scalars,\n",
      "                        the first element equals [6139.46668354] with non-scalar type <class 'numpy.ndarray'>.\n",
      "                        Using now ``[v[0] for v in function_values]`` instead (further warnings are suppressed) ()\n",
      "  ')')\n",
      "/usr/local/lib/python3.6/dist-packages/cma/utilities/utils.py:333: UserWarning: function_values is not a list of scalars,\n",
      "                        the first element equals [6139.45037422] with non-scalar type <class 'numpy.ndarray'>.\n",
      "                        Using now ``[v[0] for v in function_values]`` instead (further warnings are suppressed) ()\n",
      "  ')')\n"
     ]
    },
    {
     "name": "stdout",
     "output_type": "stream",
     "text": [
      "  100   1300 5.064588501737389e+02 1.8e+00 1.04e-02  8e-03  1e-02 0:00.9\n",
      "  200   2600 4.912030199903247e+02 1.9e+00 2.26e-04  2e-04  2e-04 0:01.8\n",
      "  300   3900 4.911971300439618e+02 2.1e+00 2.99e-06  2e-06  2e-06 0:02.7\n",
      "  400   5200 4.911971294214363e+02 2.3e+00 4.58e-08  2e-08  3e-08 0:03.6\n",
      "  500   6500 4.911971294212981e+02 2.7e+00 4.61e-09  2e-09  3e-09 0:04.5\n",
      "  600   7800 4.911971294213026e+02 3.4e+00 3.68e-09  1e-09  2e-09 0:05.4\n",
      "  700   9100 4.911971294213008e+02 4.5e+00 2.09e-09  8e-10  2e-09 0:06.3\n",
      "  800  10400 4.911971294213045e+02 5.5e+00 1.17e-09  5e-10  9e-10 0:07.2\n",
      "  900  11700 4.911971294212972e+02 6.8e+00 1.35e-09  5e-10  1e-09 0:08.1\n",
      "  915  11895 4.911971294213026e+02 6.8e+00 1.04e-09  4e-10  7e-10 0:08.3\n",
      "termination on tolfun=1e-11 (Mon Apr 13 13:09:34 2020)\n",
      "final/bestever f-value = 4.911971e+02 4.911971e+02\n",
      "incumbent solution: [-0.0348084   0.08888244 -0.0827911  -0.03537029 -0.27922571  0.20285759\n",
      " -0.04041531  0.01401394 ...]\n",
      "std deviations: [5.42561096e-10 5.99562901e-10 4.76997280e-10 7.26847369e-10\n",
      " 5.51330641e-10 4.93776583e-10 5.64603839e-10 5.38303381e-10 ...]\n",
      "(6_w,13)-aCMA-ES (mu_w=4.0,w_1=38%) in dimension 25 (seed=913306, Mon Apr 13 13:09:34 2020)\n",
      "Iterat #Fevals   function value  axis ratio  sigma  min&max std  t[m:s]\n",
      "    1     13 9.729211356409953e+03 1.0e+00 1.24e-01  1e-01  1e-01 0:00.0\n",
      "    2     26 9.249109114771163e+03 1.1e+00 1.28e-01  1e-01  1e-01 0:00.0\n",
      "    3     39 6.937524610839891e+03 1.1e+00 1.35e-01  1e-01  1e-01 0:00.0\n"
     ]
    },
    {
     "name": "stderr",
     "output_type": "stream",
     "text": [
      "/usr/local/lib/python3.6/dist-packages/cma/utilities/utils.py:333: UserWarning: function_values is not a list of scalars,\n",
      "                        the first element equals [14543.84867845] with non-scalar type <class 'numpy.ndarray'>.\n",
      "                        Using now ``[v[0] for v in function_values]`` instead (further warnings are suppressed) ()\n",
      "  ')')\n",
      "/usr/local/lib/python3.6/dist-packages/cma/utilities/utils.py:333: UserWarning: function_values is not a list of scalars,\n",
      "                        the first element equals [11611.8554941] with non-scalar type <class 'numpy.ndarray'>.\n",
      "                        Using now ``[v[0] for v in function_values]`` instead (further warnings are suppressed) ()\n",
      "  ')')\n"
     ]
    },
    {
     "name": "stdout",
     "output_type": "stream",
     "text": [
      "   68    884 -3.521839266397551e+09 1.7e+00 1.30e+02  1e+02  1e+02 0:01.0\n",
      "termination on tolfacupx=1000.0 (Mon Apr 13 13:09:35 2020)\n",
      "final/bestever f-value = -3.462487e+09 -3.521839e+09\n",
      "incumbent solution: [ -91.40012741 -425.13828991  638.01592383   -4.48752367  427.52859384\n",
      " -173.83210725 -140.54022576  522.43181718 ...]\n",
      "std deviations: [114.78296828 119.89548956 123.37251334 117.52018206 122.88212344\n",
      " 125.60177657 116.56303855 130.80755115 ...]\n",
      "Run : 16\n",
      "(6_w,13)-aCMA-ES (mu_w=4.0,w_1=38%) in dimension 25 (seed=848147, Mon Apr 13 13:09:35 2020)\n",
      "Iterat #Fevals   function value  axis ratio  sigma  min&max std  t[m:s]\n",
      "    1     13 6.482873968705620e+03 1.0e+00 1.21e-01  1e-01  1e-01 0:00.0\n",
      "    2     26 6.482865790892737e+03 1.1e+00 1.17e-01  1e-01  1e-01 0:00.0\n",
      "    3     39 6.482825579006027e+03 1.1e+00 1.19e-01  1e-01  1e-01 0:00.0\n"
     ]
    },
    {
     "name": "stderr",
     "output_type": "stream",
     "text": [
      "/usr/local/lib/python3.6/dist-packages/cma/utilities/utils.py:333: UserWarning: function_values is not a list of scalars,\n",
      "                        the first element equals [6482.90496653] with non-scalar type <class 'numpy.ndarray'>.\n",
      "                        Using now ``[v[0] for v in function_values]`` instead (further warnings are suppressed) ()\n",
      "  ')')\n",
      "/usr/local/lib/python3.6/dist-packages/cma/utilities/utils.py:333: UserWarning: function_values is not a list of scalars,\n",
      "                        the first element equals [6482.88049451] with non-scalar type <class 'numpy.ndarray'>.\n",
      "                        Using now ``[v[0] for v in function_values]`` instead (further warnings are suppressed) ()\n",
      "  ')')\n"
     ]
    },
    {
     "name": "stdout",
     "output_type": "stream",
     "text": [
      "  100   1300 -5.349865731556456e+02 2.1e+00 3.29e-02  3e-02  4e-02 0:01.1\n",
      "  200   2600 -7.899433978533789e+02 2.1e+00 6.06e-04  4e-04  5e-04 0:02.2\n",
      "  300   3900 -7.900295907038026e+02 2.2e+00 1.07e-05  6e-06  8e-06 0:03.3\n",
      "  400   5200 -7.900296071240382e+02 2.5e+00 1.64e-07  8e-08  1e-07 0:04.4\n",
      "  500   6500 -7.900296071267148e+02 2.8e+00 3.19e-09  1e-09  2e-09 0:05.5\n",
      "  533   6929 -7.900296071267148e+02 2.9e+00 1.70e-09  7e-10  1e-09 0:05.9\n",
      "termination on tolfun=1e-11 (Mon Apr 13 13:09:42 2020)\n",
      "final/bestever f-value = -7.900296e+02 -7.900296e+02\n",
      "incumbent solution: [-0.00982798  0.07743961 -0.05328936 -0.04366306 -0.25058487  0.22432777\n",
      " -0.00688878 -0.00087846 ...]\n",
      "std deviations: [8.98768973e-10 9.35187968e-10 6.90565916e-10 1.00792132e-09\n",
      " 7.94677007e-10 8.22951781e-10 7.64125208e-10 8.42755560e-10 ...]\n",
      "(6_w,13)-aCMA-ES (mu_w=4.0,w_1=38%) in dimension 25 (seed=857895, Mon Apr 13 13:09:43 2020)\n",
      "Iterat #Fevals   function value  axis ratio  sigma  min&max std  t[m:s]\n",
      "    1     13 6.139411787458856e+03 1.0e+00 1.19e-01  1e-01  1e-01 0:00.0\n",
      "    2     26 6.139210718989084e+03 1.1e+00 1.20e-01  1e-01  1e-01 0:00.0\n",
      "    3     39 6.139095443227697e+03 1.1e+00 1.25e-01  1e-01  1e-01 0:00.0\n"
     ]
    },
    {
     "name": "stderr",
     "output_type": "stream",
     "text": [
      "/usr/local/lib/python3.6/dist-packages/cma/utilities/utils.py:333: UserWarning: function_values is not a list of scalars,\n",
      "                        the first element equals [6139.48211975] with non-scalar type <class 'numpy.ndarray'>.\n",
      "                        Using now ``[v[0] for v in function_values]`` instead (further warnings are suppressed) ()\n",
      "  ')')\n",
      "/usr/local/lib/python3.6/dist-packages/cma/utilities/utils.py:333: UserWarning: function_values is not a list of scalars,\n",
      "                        the first element equals [6139.34764187] with non-scalar type <class 'numpy.ndarray'>.\n",
      "                        Using now ``[v[0] for v in function_values]`` instead (further warnings are suppressed) ()\n",
      "  ')')\n"
     ]
    },
    {
     "name": "stdout",
     "output_type": "stream",
     "text": [
      "  100   1300 5.038508532227761e+02 1.6e+00 9.03e-03  7e-03  9e-03 0:00.9\n",
      "  200   2600 4.912001944425228e+02 1.9e+00 1.65e-04  1e-04  1e-04 0:01.8\n",
      "  300   3900 4.911971296846823e+02 2.2e+00 1.72e-06  1e-06  1e-06 0:02.7\n",
      "  400   5200 4.911971294213281e+02 2.4e+00 2.22e-08  1e-08  1e-08 0:03.6\n",
      "  500   6500 4.911971294212981e+02 2.9e+00 2.91e-09  1e-09  2e-09 0:04.5\n",
      "  600   7800 4.911971294212999e+02 3.8e+00 1.71e-09  7e-10  1e-09 0:05.4\n",
      "  700   9100 4.911971294213008e+02 4.7e+00 1.18e-09  5e-10  8e-10 0:06.3\n",
      "  800  10400 4.911971294213008e+02 5.4e+00 1.07e-09  4e-10  8e-10 0:07.2\n",
      "  900  11700 4.911971294212954e+02 6.8e+00 7.26e-10  3e-10  5e-10 0:08.1\n",
      " 1000  13000 4.911971294213008e+02 8.3e+00 1.02e-09  3e-10  7e-10 0:09.0\n",
      "Iterat #Fevals   function value  axis ratio  sigma  min&max std  t[m:s]\n",
      " 1100  14300 4.911971294213008e+02 9.1e+00 6.93e-10  2e-10  5e-10 0:10.0\n",
      " 1200  15600 4.911971294212981e+02 9.9e+00 4.31e-10  1e-10  3e-10 0:10.9\n",
      " 1300  16900 4.911971294213008e+02 1.1e+01 2.47e-10  8e-11  1e-10 0:11.8\n",
      " 1400  18200 4.911971294213017e+02 1.2e+01 1.75e-10  6e-11  1e-10 0:12.7\n",
      " 1500  19500 4.911971294213035e+02 1.3e+01 9.54e-11  3e-11  5e-11 0:13.6\n",
      " 1521  19773 4.911971294213008e+02 1.4e+01 8.00e-11  2e-11  4e-11 0:13.8\n",
      "termination on tolfun=1e-11 (Mon Apr 13 13:10:01 2020)\n",
      "final/bestever f-value = 4.911971e+02 4.911971e+02\n",
      "incumbent solution: [-0.03480841  0.08888245 -0.08279112 -0.03537029 -0.2792257   0.20285758\n",
      " -0.0404153   0.01401394 ...]\n",
      "std deviations: [3.09615865e-11 2.87908536e-11 2.34238049e-11 3.72310353e-11\n",
      " 2.70855289e-11 2.88913227e-11 3.00378279e-11 4.22741339e-11 ...]\n",
      "(6_w,13)-aCMA-ES (mu_w=4.0,w_1=38%) in dimension 25 (seed=893560, Mon Apr 13 13:10:01 2020)\n",
      "Iterat #Fevals   function value  axis ratio  sigma  min&max std  t[m:s]\n",
      "    1     13 7.925697120983598e+03 1.0e+00 1.21e-01  1e-01  1e-01 0:00.0\n",
      "    2     26 6.762583443981399e+03 1.1e+00 1.18e-01  1e-01  1e-01 0:00.0\n",
      "    3     39 5.494693835281355e+03 1.1e+00 1.18e-01  1e-01  1e-01 0:00.0\n"
     ]
    },
    {
     "name": "stderr",
     "output_type": "stream",
     "text": [
      "/usr/local/lib/python3.6/dist-packages/cma/utilities/utils.py:333: UserWarning: function_values is not a list of scalars,\n",
      "                        the first element equals [7925.69712098] with non-scalar type <class 'numpy.ndarray'>.\n",
      "                        Using now ``[v[0] for v in function_values]`` instead (further warnings are suppressed) ()\n",
      "  ')')\n",
      "/usr/local/lib/python3.6/dist-packages/cma/utilities/utils.py:333: UserWarning: function_values is not a list of scalars,\n",
      "                        the first element equals [9645.30594709] with non-scalar type <class 'numpy.ndarray'>.\n",
      "                        Using now ``[v[0] for v in function_values]`` instead (further warnings are suppressed) ()\n",
      "  ')')\n"
     ]
    },
    {
     "name": "stdout",
     "output_type": "stream",
     "text": [
      "   69    897 -3.672413602500067e+09 1.7e+00 1.35e+02  1e+02  1e+02 0:01.0\n",
      "termination on tolfacupx=1000.0 (Mon Apr 13 13:10:02 2020)\n",
      "final/bestever f-value = -3.282422e+09 -3.672414e+09\n",
      "incumbent solution: [ -32.00664088   31.3046619  -463.19820653  111.19942789   36.03301344\n",
      "   65.66198648 -244.99877566 -354.65369322 ...]\n",
      "std deviations: [127.69392992 136.17392623 123.43225178 122.95081401 127.2613055\n",
      " 128.51383738 126.58891652 123.45513539 ...]\n",
      "Run : 17\n",
      "(6_w,13)-aCMA-ES (mu_w=4.0,w_1=38%) in dimension 25 (seed=931995, Mon Apr 13 13:10:02 2020)\n",
      "Iterat #Fevals   function value  axis ratio  sigma  min&max std  t[m:s]\n",
      "    1     13 6.482201136835653e+03 1.0e+00 1.21e-01  1e-01  1e-01 0:00.0\n",
      "    2     26 6.480683875319292e+03 1.1e+00 1.19e-01  1e-01  1e-01 0:00.0\n",
      "    3     39 6.477031723959578e+03 1.1e+00 1.21e-01  1e-01  1e-01 0:00.0\n"
     ]
    },
    {
     "name": "stderr",
     "output_type": "stream",
     "text": [
      "/usr/local/lib/python3.6/dist-packages/cma/utilities/utils.py:333: UserWarning: function_values is not a list of scalars,\n",
      "                        the first element equals [6482.76765851] with non-scalar type <class 'numpy.ndarray'>.\n",
      "                        Using now ``[v[0] for v in function_values]`` instead (further warnings are suppressed) ()\n",
      "  ')')\n",
      "/usr/local/lib/python3.6/dist-packages/cma/utilities/utils.py:333: UserWarning: function_values is not a list of scalars,\n",
      "                        the first element equals [6482.71963501] with non-scalar type <class 'numpy.ndarray'>.\n",
      "                        Using now ``[v[0] for v in function_values]`` instead (further warnings are suppressed) ()\n",
      "  ')')\n"
     ]
    },
    {
     "name": "stdout",
     "output_type": "stream",
     "text": [
      "  100   1300 -7.711815705107265e+02 1.9e+00 8.69e-03  7e-03  9e-03 0:01.1\n",
      "  200   2600 -7.900256724682895e+02 2.2e+00 1.58e-04  1e-04  1e-04 0:02.2\n",
      "  300   3900 -7.900296064568984e+02 2.2e+00 2.15e-06  1e-06  2e-06 0:03.3\n",
      "  400   5200 -7.900296071266121e+02 2.5e+00 3.06e-08  1e-08  2e-08 0:04.4\n",
      "  486   6318 -7.900296071267157e+02 2.8e+00 3.02e-09  1e-09  2e-09 0:05.4\n",
      "termination on tolfun=1e-11 (Mon Apr 13 13:10:09 2020)\n",
      "final/bestever f-value = -7.900296e+02 -7.900296e+02\n",
      "incumbent solution: [-0.00982798  0.07743961 -0.05328936 -0.04366306 -0.25058487  0.22432776\n",
      " -0.00688878 -0.00087847 ...]\n",
      "std deviations: [1.66155195e-09 1.70703167e-09 1.30509683e-09 1.68698988e-09\n",
      " 1.51674728e-09 1.47537690e-09 1.58960021e-09 1.75107939e-09 ...]\n",
      "(6_w,13)-aCMA-ES (mu_w=4.0,w_1=38%) in dimension 25 (seed=909519, Mon Apr 13 13:10:09 2020)\n",
      "Iterat #Fevals   function value  axis ratio  sigma  min&max std  t[m:s]\n",
      "    1     13 6.138812628307596e+03 1.0e+00 1.21e-01  1e-01  1e-01 0:00.0\n",
      "    2     26 6.139036127459495e+03 1.1e+00 1.18e-01  1e-01  1e-01 0:00.0\n",
      "    3     39 6.138483916081269e+03 1.1e+00 1.18e-01  1e-01  1e-01 0:00.0\n"
     ]
    },
    {
     "name": "stderr",
     "output_type": "stream",
     "text": [
      "/usr/local/lib/python3.6/dist-packages/cma/utilities/utils.py:333: UserWarning: function_values is not a list of scalars,\n",
      "                        the first element equals [6139.42105403] with non-scalar type <class 'numpy.ndarray'>.\n",
      "                        Using now ``[v[0] for v in function_values]`` instead (further warnings are suppressed) ()\n",
      "  ')')\n",
      "/usr/local/lib/python3.6/dist-packages/cma/utilities/utils.py:333: UserWarning: function_values is not a list of scalars,\n",
      "                        the first element equals [6139.21781375] with non-scalar type <class 'numpy.ndarray'>.\n",
      "                        Using now ``[v[0] for v in function_values]`` instead (further warnings are suppressed) ()\n",
      "  ')')\n"
     ]
    },
    {
     "name": "stdout",
     "output_type": "stream",
     "text": [
      "  100   1300 5.154926713430623e+02 1.7e+00 1.21e-02  1e-02  1e-02 0:00.9\n",
      "  200   2600 4.911987809119910e+02 1.7e+00 1.34e-04  9e-05  1e-04 0:01.8\n",
      "  300   3900 4.911971298013323e+02 1.9e+00 1.97e-06  1e-06  1e-06 0:02.7\n",
      "  400   5200 4.911971294214172e+02 2.3e+00 3.92e-08  2e-08  3e-08 0:03.6\n",
      "  500   6500 4.911971294212999e+02 2.6e+00 5.62e-09  2e-09  4e-09 0:04.5\n",
      "  600   7800 4.911971294212981e+02 3.9e+00 6.34e-09  3e-09  4e-09 0:05.4\n",
      "  700   9100 4.911971294213008e+02 4.4e+00 3.33e-09  1e-09  2e-09 0:06.3\n",
      "  800  10400 4.911971294213008e+02 6.2e+00 2.39e-09  9e-10  2e-09 0:07.1\n",
      "  900  11700 4.911971294212944e+02 7.6e+00 3.71e-09  1e-09  3e-09 0:08.0\n",
      " 1000  13000 4.911971294212981e+02 8.9e+00 2.24e-09  7e-10  2e-09 0:08.9\n",
      "Iterat #Fevals   function value  axis ratio  sigma  min&max std  t[m:s]\n",
      " 1100  14300 4.911971294213017e+02 1.0e+01 1.74e-09  5e-10  1e-09 0:09.9\n",
      " 1200  15600 4.911971294212990e+02 1.2e+01 1.28e-09  4e-10  8e-10 0:10.8\n",
      " 1239  16107 4.911971294213026e+02 1.2e+01 1.92e-09  6e-10  1e-09 0:11.1\n",
      "termination on tolfun=1e-11 (Mon Apr 13 13:10:24 2020)\n",
      "final/bestever f-value = 4.911971e+02 4.911971e+02\n",
      "incumbent solution: [-0.03480841  0.08888246 -0.08279112 -0.03537028 -0.27922571  0.20285758\n",
      " -0.0404153   0.01401394 ...]\n",
      "std deviations: [1.07840189e-09 8.95397539e-10 1.17387455e-09 9.86591116e-10\n",
      " 9.52700315e-10 1.06897779e-09 9.92831352e-10 8.08085424e-10 ...]\n",
      "(6_w,13)-aCMA-ES (mu_w=4.0,w_1=38%) in dimension 25 (seed=866555, Mon Apr 13 13:10:24 2020)\n",
      "Iterat #Fevals   function value  axis ratio  sigma  min&max std  t[m:s]\n",
      "    1     13 6.833866397156595e+03 1.0e+00 1.24e-01  1e-01  1e-01 0:00.0\n",
      "    2     26 5.725183014193214e+03 1.1e+00 1.25e-01  1e-01  1e-01 0:00.0\n",
      "    3     39 4.870040373498740e+03 1.1e+00 1.29e-01  1e-01  1e-01 0:00.1\n"
     ]
    },
    {
     "name": "stderr",
     "output_type": "stream",
     "text": [
      "/usr/local/lib/python3.6/dist-packages/cma/utilities/utils.py:333: UserWarning: function_values is not a list of scalars,\n",
      "                        the first element equals [10249.07040342] with non-scalar type <class 'numpy.ndarray'>.\n",
      "                        Using now ``[v[0] for v in function_values]`` instead (further warnings are suppressed) ()\n",
      "  ')')\n",
      "/usr/local/lib/python3.6/dist-packages/cma/utilities/utils.py:333: UserWarning: function_values is not a list of scalars,\n",
      "                        the first element equals [7421.36775294] with non-scalar type <class 'numpy.ndarray'>.\n",
      "                        Using now ``[v[0] for v in function_values]`` instead (further warnings are suppressed) ()\n",
      "  ')')\n"
     ]
    },
    {
     "name": "stdout",
     "output_type": "stream",
     "text": [
      "   68    884 -2.885848751383971e+09 1.7e+00 1.27e+02  1e+02  1e+02 0:01.0\n",
      "termination on tolfacupx=1000.0 (Mon Apr 13 13:10:25 2020)\n",
      "final/bestever f-value = -2.831773e+09 -2.885849e+09\n",
      "incumbent solution: [-439.58531775  233.59622073 -491.87610605  -61.71144802 -180.07351365\n",
      "  499.46714817 -131.50542766  306.03893559 ...]\n",
      "std deviations: [120.35077278 121.37032558 119.89826421 118.71429361 119.53783939\n",
      " 116.99703279 116.40362178 124.00147593 ...]\n",
      "Run : 18\n",
      "(6_w,13)-aCMA-ES (mu_w=4.0,w_1=38%) in dimension 25 (seed=850242, Mon Apr 13 13:10:25 2020)\n",
      "Iterat #Fevals   function value  axis ratio  sigma  min&max std  t[m:s]\n",
      "    1     13 6.482198224677456e+03 1.0e+00 1.21e-01  1e-01  1e-01 0:00.0\n",
      "    2     26 6.481242902698436e+03 1.1e+00 1.17e-01  1e-01  1e-01 0:00.0\n",
      "    3     39 6.480427916289632e+03 1.1e+00 1.14e-01  1e-01  1e-01 0:00.0\n"
     ]
    },
    {
     "name": "stderr",
     "output_type": "stream",
     "text": [
      "/usr/local/lib/python3.6/dist-packages/cma/utilities/utils.py:333: UserWarning: function_values is not a list of scalars,\n",
      "                        the first element equals [6482.49977723] with non-scalar type <class 'numpy.ndarray'>.\n",
      "                        Using now ``[v[0] for v in function_values]`` instead (further warnings are suppressed) ()\n",
      "  ')')\n",
      "/usr/local/lib/python3.6/dist-packages/cma/utilities/utils.py:333: UserWarning: function_values is not a list of scalars,\n",
      "                        the first element equals [6482.74690965] with non-scalar type <class 'numpy.ndarray'>.\n",
      "                        Using now ``[v[0] for v in function_values]`` instead (further warnings are suppressed) ()\n",
      "  ')')\n"
     ]
    },
    {
     "name": "stdout",
     "output_type": "stream",
     "text": [
      "  100   1300 -7.585707875782164e+02 1.8e+00 1.13e-02  1e-02  1e-02 0:01.1\n",
      "  200   2600 -7.900229372090562e+02 2.1e+00 2.23e-04  2e-04  2e-04 0:02.2\n",
      "  300   3900 -7.900296065803641e+02 2.3e+00 2.08e-06  1e-06  2e-06 0:03.3\n",
      "  400   5200 -7.900296071266357e+02 2.4e+00 2.86e-08  1e-08  2e-08 0:04.5\n",
      "  490   6370 -7.900296071267139e+02 2.6e+00 2.77e-09  1e-09  2e-09 0:05.5\n",
      "termination on tolfun=1e-11 (Mon Apr 13 13:10:32 2020)\n",
      "final/bestever f-value = -7.900296e+02 -7.900296e+02\n",
      "incumbent solution: [-0.00982798  0.07743961 -0.05328936 -0.04366305 -0.25058487  0.22432776\n",
      " -0.00688878 -0.00087847 ...]\n",
      "std deviations: [1.51620530e-09 1.53639513e-09 1.28017902e-09 1.56310964e-09\n",
      " 1.28822817e-09 1.52596164e-09 1.56143781e-09 1.56615808e-09 ...]\n",
      "(6_w,13)-aCMA-ES (mu_w=4.0,w_1=38%) in dimension 25 (seed=905618, Mon Apr 13 13:10:32 2020)\n",
      "Iterat #Fevals   function value  axis ratio  sigma  min&max std  t[m:s]\n",
      "    1     13 6.136107188793758e+03 1.0e+00 1.19e-01  1e-01  1e-01 0:00.0\n",
      "    2     26 6.131207598930800e+03 1.1e+00 1.15e-01  1e-01  1e-01 0:00.0\n",
      "    3     39 6.126591156295599e+03 1.1e+00 1.13e-01  1e-01  1e-01 0:00.0\n"
     ]
    },
    {
     "name": "stderr",
     "output_type": "stream",
     "text": [
      "/usr/local/lib/python3.6/dist-packages/cma/utilities/utils.py:333: UserWarning: function_values is not a list of scalars,\n",
      "                        the first element equals [6138.68821267] with non-scalar type <class 'numpy.ndarray'>.\n",
      "                        Using now ``[v[0] for v in function_values]`` instead (further warnings are suppressed) ()\n",
      "  ')')\n",
      "/usr/local/lib/python3.6/dist-packages/cma/utilities/utils.py:333: UserWarning: function_values is not a list of scalars,\n",
      "                        the first element equals [6136.39357411] with non-scalar type <class 'numpy.ndarray'>.\n",
      "                        Using now ``[v[0] for v in function_values]`` instead (further warnings are suppressed) ()\n",
      "  ')')\n"
     ]
    },
    {
     "name": "stdout",
     "output_type": "stream",
     "text": [
      "  100   1300 4.956438185724974e+02 1.8e+00 6.19e-03  5e-03  6e-03 0:00.9\n",
      "  200   2600 4.911982453660730e+02 1.8e+00 1.00e-04  7e-05  8e-05 0:01.9\n",
      "  300   3900 4.911971295982703e+02 1.9e+00 1.17e-06  7e-07  8e-07 0:02.8\n",
      "  400   5200 4.911971294213245e+02 2.0e+00 2.07e-08  1e-08  1e-08 0:03.6\n",
      "  500   6500 4.911971294213017e+02 2.7e+00 4.71e-09  2e-09  3e-09 0:04.6\n",
      "  600   7800 4.911971294212963e+02 3.3e+00 4.13e-09  2e-09  3e-09 0:05.4\n",
      "  700   9100 4.911971294212990e+02 4.1e+00 2.75e-09  1e-09  2e-09 0:06.4\n",
      "  800  10400 4.911971294213035e+02 5.2e+00 2.91e-09  1e-09  2e-09 0:07.3\n",
      "  900  11700 4.911971294213008e+02 6.2e+00 1.79e-09  6e-10  1e-09 0:08.2\n",
      " 1000  13000 4.911971294212990e+02 8.1e+00 1.51e-09  5e-10  1e-09 0:09.1\n",
      "Iterat #Fevals   function value  axis ratio  sigma  min&max std  t[m:s]\n",
      " 1100  14300 4.911971294212972e+02 1.1e+01 1.03e-09  4e-10  9e-10 0:10.0\n",
      " 1200  15600 4.911971294212908e+02 1.4e+01 1.01e-09  3e-10  9e-10 0:10.9\n",
      " 1300  16900 4.911971294213035e+02 1.7e+01 6.52e-10  2e-10  6e-10 0:11.8\n",
      " 1400  18200 4.911971294212954e+02 1.8e+01 1.17e-09  4e-10  1e-09 0:12.6\n",
      " 1500  19500 4.911971294213008e+02 1.8e+01 1.87e-09  6e-10  2e-09 0:13.5\n",
      " 1600  20800 4.911971294213008e+02 2.0e+01 5.77e-10  2e-10  5e-10 0:14.4\n",
      " 1700  22100 4.911971294213026e+02 2.6e+01 8.54e-10  3e-10  8e-10 0:15.3\n",
      " 1800  23400 4.911971294213045e+02 3.0e+01 1.18e-09  3e-10  1e-09 0:16.2\n",
      " 1890  24570 4.911971294212990e+02 3.4e+01 7.28e-10  2e-10  7e-10 0:17.0\n",
      "termination on tolstagnation=1061 (Mon Apr 13 13:10:55 2020)\n",
      "final/bestever f-value = 4.911971e+02 4.911971e+02\n",
      "incumbent solution: [-0.03480841  0.08888244 -0.08279111 -0.03537029 -0.27922571  0.2028576\n",
      " -0.04041531  0.01401394 ...]\n",
      "std deviations: [2.94001495e-10 2.64910270e-10 4.26182520e-10 3.65165658e-10\n",
      " 3.10193393e-10 2.54319857e-10 4.38855792e-10 3.21551889e-10 ...]\n",
      "(6_w,13)-aCMA-ES (mu_w=4.0,w_1=38%) in dimension 25 (seed=840443, Mon Apr 13 13:10:55 2020)\n",
      "Iterat #Fevals   function value  axis ratio  sigma  min&max std  t[m:s]\n",
      "    1     13 7.594358201957518e+03 1.0e+00 1.24e-01  1e-01  1e-01 0:00.0\n",
      "    2     26 6.089428883388198e+03 1.1e+00 1.22e-01  1e-01  1e-01 0:00.0\n",
      "    3     39 5.025138753322493e+03 1.1e+00 1.22e-01  1e-01  1e-01 0:00.0\n"
     ]
    },
    {
     "name": "stderr",
     "output_type": "stream",
     "text": [
      "/usr/local/lib/python3.6/dist-packages/cma/utilities/utils.py:333: UserWarning: function_values is not a list of scalars,\n",
      "                        the first element equals [8614.04187045] with non-scalar type <class 'numpy.ndarray'>.\n",
      "                        Using now ``[v[0] for v in function_values]`` instead (further warnings are suppressed) ()\n",
      "  ')')\n",
      "/usr/local/lib/python3.6/dist-packages/cma/utilities/utils.py:333: UserWarning: function_values is not a list of scalars,\n",
      "                        the first element equals [7996.94542086] with non-scalar type <class 'numpy.ndarray'>.\n",
      "                        Using now ``[v[0] for v in function_values]`` instead (further warnings are suppressed) ()\n",
      "  ')')\n"
     ]
    },
    {
     "name": "stdout",
     "output_type": "stream",
     "text": [
      "   70    910 -3.699832563699115e+09 1.8e+00 1.29e+02  1e+02  1e+02 0:01.0\n",
      "termination on tolfacupx=1000.0 (Mon Apr 13 13:10:56 2020)\n",
      "final/bestever f-value = -3.386358e+09 -3.699833e+09\n",
      "incumbent solution: [ 115.11203038 -352.35800361  188.92972988   82.81966803  -71.07768751\n",
      " -181.81880063 -198.20705574   70.86654542 ...]\n",
      "std deviations: [123.1279658  126.40465234 117.43882132 126.67294086 122.69989542\n",
      " 127.25514577 121.69946123 121.56278334 ...]\n",
      "Run : 19\n",
      "(6_w,13)-aCMA-ES (mu_w=4.0,w_1=38%) in dimension 25 (seed=861099, Mon Apr 13 13:10:56 2020)\n",
      "Iterat #Fevals   function value  axis ratio  sigma  min&max std  t[m:s]\n",
      "    1     13 6.482889950292631e+03 1.0e+00 1.23e-01  1e-01  1e-01 0:00.0\n",
      "    2     26 6.482881470303764e+03 1.1e+00 1.23e-01  1e-01  1e-01 0:00.0\n",
      "    3     39 6.482879977072072e+03 1.1e+00 1.24e-01  1e-01  1e-01 0:00.0\n"
     ]
    },
    {
     "name": "stderr",
     "output_type": "stream",
     "text": [
      "/usr/local/lib/python3.6/dist-packages/cma/utilities/utils.py:333: UserWarning: function_values is not a list of scalars,\n",
      "                        the first element equals [6483.45808453] with non-scalar type <class 'numpy.ndarray'>.\n",
      "                        Using now ``[v[0] for v in function_values]`` instead (further warnings are suppressed) ()\n",
      "  ')')\n",
      "/usr/local/lib/python3.6/dist-packages/cma/utilities/utils.py:333: UserWarning: function_values is not a list of scalars,\n",
      "                        the first element equals [6482.93921591] with non-scalar type <class 'numpy.ndarray'>.\n",
      "                        Using now ``[v[0] for v in function_values]`` instead (further warnings are suppressed) ()\n",
      "  ')')\n"
     ]
    },
    {
     "name": "stdout",
     "output_type": "stream",
     "text": [
      "  100   1300 -7.183538864470811e+02 1.7e+00 1.45e-02  1e-02  1e-02 0:01.1\n",
      "  200   2600 -7.900187716745550e+02 2.1e+00 3.04e-04  2e-04  3e-04 0:02.2\n",
      "  300   3900 -7.900296045956484e+02 2.4e+00 4.43e-06  3e-06  3e-06 0:03.3\n",
      "  400   5200 -7.900296071265693e+02 2.4e+00 4.29e-08  2e-08  3e-08 0:04.4\n",
      "  500   6500 -7.900296071267157e+02 2.8e+00 2.73e-09  1e-09  2e-09 0:05.5\n",
      "  503   6539 -7.900296071267148e+02 2.8e+00 2.80e-09  1e-09  2e-09 0:05.6\n",
      "termination on tolfun=1e-11 (Mon Apr 13 13:11:03 2020)\n",
      "final/bestever f-value = -7.900296e+02 -7.900296e+02\n",
      "incumbent solution: [-0.00982798  0.07743962 -0.05328936 -0.04366306 -0.25058487  0.22432777\n",
      " -0.00688878 -0.00087847 ...]\n",
      "std deviations: [1.53226706e-09 1.64532148e-09 1.22907287e-09 1.76167696e-09\n",
      " 1.20822684e-09 1.43180344e-09 1.38209409e-09 1.46643498e-09 ...]\n",
      "(6_w,13)-aCMA-ES (mu_w=4.0,w_1=38%) in dimension 25 (seed=867097, Mon Apr 13 13:11:03 2020)\n",
      "Iterat #Fevals   function value  axis ratio  sigma  min&max std  t[m:s]\n",
      "    1     13 6.139473282174225e+03 1.0e+00 1.23e-01  1e-01  1e-01 0:00.0\n",
      "    2     26 6.139469931676692e+03 1.1e+00 1.26e-01  1e-01  1e-01 0:00.0\n",
      "    3     39 6.139456202272625e+03 1.1e+00 1.27e-01  1e-01  1e-01 0:00.0\n"
     ]
    },
    {
     "name": "stderr",
     "output_type": "stream",
     "text": [
      "/usr/local/lib/python3.6/dist-packages/cma/utilities/utils.py:333: UserWarning: function_values is not a list of scalars,\n",
      "                        the first element equals [6139.68467526] with non-scalar type <class 'numpy.ndarray'>.\n",
      "                        Using now ``[v[0] for v in function_values]`` instead (further warnings are suppressed) ()\n",
      "  ')')\n",
      "/usr/local/lib/python3.6/dist-packages/cma/utilities/utils.py:333: UserWarning: function_values is not a list of scalars,\n",
      "                        the first element equals [6139.55967743] with non-scalar type <class 'numpy.ndarray'>.\n",
      "                        Using now ``[v[0] for v in function_values]`` instead (further warnings are suppressed) ()\n",
      "  ')')\n"
     ]
    },
    {
     "name": "stdout",
     "output_type": "stream",
     "text": [
      "  100   1300 5.127127487531379e+02 1.9e+00 1.35e-02  1e-02  1e-02 0:00.9\n",
      "  200   2600 4.912055606527583e+02 2.0e+00 2.62e-04  2e-04  2e-04 0:01.8\n",
      "  300   3900 4.911971320738321e+02 2.1e+00 5.81e-06  3e-06  4e-06 0:02.7\n",
      "  400   5200 4.911971294239702e+02 2.3e+00 1.98e-07  1e-07  1e-07 0:03.6\n",
      "  500   6500 4.911971294213026e+02 2.4e+00 6.68e-09  3e-09  4e-09 0:04.5\n",
      "  600   7800 4.911971294212999e+02 3.3e+00 3.11e-09  1e-09  2e-09 0:05.4\n",
      "  700   9100 4.911971294212990e+02 4.2e+00 1.81e-09  7e-10  1e-09 0:06.3\n",
      "  800  10400 4.911971294212972e+02 5.2e+00 2.06e-09  8e-10  1e-09 0:07.2\n",
      "  900  11700 4.911971294212935e+02 5.8e+00 2.08e-09  8e-10  1e-09 0:08.1\n",
      " 1000  13000 4.911971294212954e+02 6.7e+00 1.03e-09  4e-10  7e-10 0:09.0\n",
      "Iterat #Fevals   function value  axis ratio  sigma  min&max std  t[m:s]\n",
      " 1100  14300 4.911971294212935e+02 8.8e+00 1.34e-09  5e-10  9e-10 0:09.9\n",
      " 1200  15600 4.911971294213017e+02 9.6e+00 3.36e-09  1e-09  2e-09 0:10.8\n",
      " 1300  16900 4.911971294212963e+02 1.0e+01 1.20e-09  4e-10  8e-10 0:11.7\n",
      " 1400  18200 4.911971294212999e+02 1.3e+01 1.20e-09  4e-10  8e-10 0:12.6\n",
      " 1500  19500 4.911971294212981e+02 1.3e+01 1.22e-09  4e-10  8e-10 0:13.5\n",
      " 1575  20475 4.911971294213017e+02 1.4e+01 7.94e-10  3e-10  5e-10 0:14.2\n",
      "termination on tolstagnation=1061 (Mon Apr 13 13:11:22 2020)\n",
      "final/bestever f-value = 4.911971e+02 4.911971e+02\n",
      "incumbent solution: [-0.03480842  0.08888246 -0.08279111 -0.03537028 -0.2792257   0.2028576\n",
      " -0.04041531  0.01401393 ...]\n",
      "std deviations: [3.42166287e-10 3.19812735e-10 3.82291799e-10 5.05283579e-10\n",
      " 3.23192967e-10 3.44119947e-10 4.10007119e-10 3.68972244e-10 ...]\n",
      "(6_w,13)-aCMA-ES (mu_w=4.0,w_1=38%) in dimension 25 (seed=879073, Mon Apr 13 13:11:22 2020)\n",
      "Iterat #Fevals   function value  axis ratio  sigma  min&max std  t[m:s]\n",
      "    1     13 8.321363349833091e+03 1.0e+00 1.23e-01  1e-01  1e-01 0:00.0\n",
      "    2     26 7.185423502622112e+03 1.1e+00 1.18e-01  1e-01  1e-01 0:00.0\n",
      "    3     39 5.467412421541252e+03 1.1e+00 1.18e-01  1e-01  1e-01 0:00.0\n"
     ]
    },
    {
     "name": "stderr",
     "output_type": "stream",
     "text": [
      "/usr/local/lib/python3.6/dist-packages/cma/utilities/utils.py:333: UserWarning: function_values is not a list of scalars,\n",
      "                        the first element equals [12380.50708024] with non-scalar type <class 'numpy.ndarray'>.\n",
      "                        Using now ``[v[0] for v in function_values]`` instead (further warnings are suppressed) ()\n",
      "  ')')\n",
      "/usr/local/lib/python3.6/dist-packages/cma/utilities/utils.py:333: UserWarning: function_values is not a list of scalars,\n",
      "                        the first element equals [7797.31132546] with non-scalar type <class 'numpy.ndarray'>.\n",
      "                        Using now ``[v[0] for v in function_values]`` instead (further warnings are suppressed) ()\n",
      "  ')')\n"
     ]
    },
    {
     "name": "stdout",
     "output_type": "stream",
     "text": [
      "   80   1040 -5.704476353520755e+09 2.3e+00 1.35e+02  1e+02  1e+02 0:01.1\n",
      "termination on tolfacupx=1000.0 (Mon Apr 13 13:11:24 2020)\n",
      "final/bestever f-value = -5.266387e+09 -5.704476e+09\n",
      "incumbent solution: [ -39.01360178 -568.32125348  910.93909687 -194.29010948  -22.60618505\n",
      " -648.96126518   75.33187436   90.65072102 ...]\n",
      "std deviations: [123.85614753 127.14317892 140.73795805 124.07901855 121.42071582\n",
      " 134.05151007 129.21246322 128.02538575 ...]\n",
      "Run : 20\n",
      "(6_w,13)-aCMA-ES (mu_w=4.0,w_1=38%) in dimension 25 (seed=880995, Mon Apr 13 13:11:24 2020)\n",
      "Iterat #Fevals   function value  axis ratio  sigma  min&max std  t[m:s]\n",
      "    1     13 6.482863611808007e+03 1.0e+00 1.19e-01  1e-01  1e-01 0:00.0\n",
      "    2     26 6.482803694955344e+03 1.1e+00 1.14e-01  1e-01  1e-01 0:00.0\n",
      "    3     39 6.482665276299791e+03 1.1e+00 1.16e-01  1e-01  1e-01 0:00.0\n"
     ]
    },
    {
     "name": "stderr",
     "output_type": "stream",
     "text": [
      "/usr/local/lib/python3.6/dist-packages/cma/utilities/utils.py:333: UserWarning: function_values is not a list of scalars,\n",
      "                        the first element equals [6482.87903195] with non-scalar type <class 'numpy.ndarray'>.\n",
      "                        Using now ``[v[0] for v in function_values]`` instead (further warnings are suppressed) ()\n",
      "  ')')\n",
      "/usr/local/lib/python3.6/dist-packages/cma/utilities/utils.py:333: UserWarning: function_values is not a list of scalars,\n",
      "                        the first element equals [6482.87493133] with non-scalar type <class 'numpy.ndarray'>.\n",
      "                        Using now ``[v[0] for v in function_values]`` instead (further warnings are suppressed) ()\n",
      "  ')')\n"
     ]
    },
    {
     "name": "stdout",
     "output_type": "stream",
     "text": [
      "  100   1300 -7.636458178915318e+02 1.9e+00 1.12e-02  9e-03  1e-02 0:01.1\n",
      "  200   2600 -7.900196718068864e+02 2.0e+00 2.46e-04  2e-04  2e-04 0:02.2\n",
      "  300   3900 -7.900296050600537e+02 2.2e+00 3.99e-06  2e-06  3e-06 0:03.3\n",
      "  400   5200 -7.900296071265202e+02 2.6e+00 5.29e-08  2e-08  4e-08 0:04.4\n",
      "  500   6500 -7.900296071267148e+02 3.0e+00 2.38e-09  1e-09  1e-09 0:05.5\n",
      "  508   6604 -7.900296071267167e+02 3.0e+00 2.12e-09  9e-10  1e-09 0:05.6\n",
      "termination on tolfun=1e-11 (Mon Apr 13 13:11:31 2020)\n",
      "final/bestever f-value = -7.900296e+02 -7.900296e+02\n",
      "incumbent solution: [-0.00982798  0.07743961 -0.05328936 -0.04366305 -0.25058487  0.22432777\n",
      " -0.00688878 -0.00087847 ...]\n",
      "std deviations: [1.18429528e-09 1.20034361e-09 1.04864685e-09 1.21136578e-09\n",
      " 1.00816875e-09 1.16329575e-09 9.50629069e-10 1.05552950e-09 ...]\n",
      "(6_w,13)-aCMA-ES (mu_w=4.0,w_1=38%) in dimension 25 (seed=841956, Mon Apr 13 13:11:31 2020)\n",
      "Iterat #Fevals   function value  axis ratio  sigma  min&max std  t[m:s]\n",
      "    1     13 6.139415710816541e+03 1.0e+00 1.19e-01  1e-01  1e-01 0:00.0\n",
      "    2     26 6.139152347062319e+03 1.1e+00 1.19e-01  1e-01  1e-01 0:00.0\n",
      "    3     39 6.139138998033677e+03 1.1e+00 1.19e-01  1e-01  1e-01 0:00.0\n"
     ]
    },
    {
     "name": "stderr",
     "output_type": "stream",
     "text": [
      "/usr/local/lib/python3.6/dist-packages/cma/utilities/utils.py:333: UserWarning: function_values is not a list of scalars,\n",
      "                        the first element equals [6139.45405703] with non-scalar type <class 'numpy.ndarray'>.\n",
      "                        Using now ``[v[0] for v in function_values]`` instead (further warnings are suppressed) ()\n",
      "  ')')\n",
      "/usr/local/lib/python3.6/dist-packages/cma/utilities/utils.py:333: UserWarning: function_values is not a list of scalars,\n",
      "                        the first element equals [6139.45271083] with non-scalar type <class 'numpy.ndarray'>.\n",
      "                        Using now ``[v[0] for v in function_values]`` instead (further warnings are suppressed) ()\n",
      "  ')')\n"
     ]
    },
    {
     "name": "stdout",
     "output_type": "stream",
     "text": [
      "  100   1300 5.200198856013940e+02 1.8e+00 1.60e-02  1e-02  2e-02 0:00.9\n",
      "  200   2600 4.912026239445377e+02 2.0e+00 2.36e-04  2e-04  2e-04 0:01.9\n",
      "  300   3900 4.911971299346751e+02 2.1e+00 3.02e-06  2e-06  2e-06 0:02.8\n",
      "  400   5200 4.911971294213390e+02 2.1e+00 2.62e-08  1e-08  2e-08 0:03.6\n",
      "  500   6500 4.911971294213008e+02 2.3e+00 5.60e-09  2e-09  3e-09 0:04.5\n",
      "  600   7800 4.911971294213035e+02 3.0e+00 4.14e-09  2e-09  2e-09 0:05.4\n",
      "  700   9100 4.911971294212963e+02 3.5e+00 1.65e-09  6e-10  1e-09 0:06.3\n",
      "  800  10400 4.911971294212990e+02 4.2e+00 2.23e-09  8e-10  1e-09 0:07.2\n",
      "  900  11700 4.911971294212954e+02 4.9e+00 1.46e-09  5e-10  9e-10 0:08.1\n",
      " 1000  13000 4.911971294213045e+02 5.9e+00 2.09e-09  8e-10  1e-09 0:09.0\n",
      "Iterat #Fevals   function value  axis ratio  sigma  min&max std  t[m:s]\n",
      " 1100  14300 4.911971294212972e+02 6.5e+00 2.31e-09  9e-10  1e-09 0:10.0\n",
      " 1200  15600 4.911971294213026e+02 7.4e+00 1.25e-09  4e-10  8e-10 0:10.9\n",
      " 1300  16900 4.911971294212999e+02 8.8e+00 2.01e-09  7e-10  1e-09 0:11.8\n",
      " 1400  18200 4.911971294212990e+02 1.0e+01 1.31e-09  4e-10  8e-10 0:12.7\n",
      " 1420  18460 4.911971294212963e+02 1.1e+01 9.25e-10  3e-10  6e-10 0:12.8\n",
      "termination on tolstagnation=1061 (Mon Apr 13 13:11:48 2020)\n",
      "final/bestever f-value = 4.911971e+02 4.911971e+02\n",
      "incumbent solution: [-0.03480841  0.08888245 -0.08279112 -0.03537028 -0.27922571  0.20285759\n",
      " -0.04041531  0.01401394 ...]\n",
      "std deviations: [3.28115209e-10 4.35241357e-10 3.53209206e-10 4.92038356e-10\n",
      " 5.19541698e-10 4.78704626e-10 5.07754760e-10 5.72889525e-10 ...]\n",
      "(6_w,13)-aCMA-ES (mu_w=4.0,w_1=38%) in dimension 25 (seed=914193, Mon Apr 13 13:11:48 2020)\n",
      "Iterat #Fevals   function value  axis ratio  sigma  min&max std  t[m:s]\n",
      "    1     13 7.562422329808674e+03 1.0e+00 1.16e-01  1e-01  1e-01 0:00.0\n",
      "    2     26 6.100490155073566e+03 1.1e+00 1.13e-01  1e-01  1e-01 0:00.0\n",
      "    3     39 6.037456647703481e+03 1.1e+00 1.10e-01  1e-01  1e-01 0:00.0\n"
     ]
    },
    {
     "name": "stderr",
     "output_type": "stream",
     "text": [
      "/usr/local/lib/python3.6/dist-packages/cma/utilities/utils.py:333: UserWarning: function_values is not a list of scalars,\n",
      "                        the first element equals [10932.53859014] with non-scalar type <class 'numpy.ndarray'>.\n",
      "                        Using now ``[v[0] for v in function_values]`` instead (further warnings are suppressed) ()\n",
      "  ')')\n",
      "/usr/local/lib/python3.6/dist-packages/cma/utilities/utils.py:333: UserWarning: function_values is not a list of scalars,\n",
      "                        the first element equals [9386.67879585] with non-scalar type <class 'numpy.ndarray'>.\n",
      "                        Using now ``[v[0] for v in function_values]`` instead (further warnings are suppressed) ()\n",
      "  ')')\n"
     ]
    },
    {
     "name": "stdout",
     "output_type": "stream",
     "text": [
      "   77   1001 -4.558950285080705e+09 2.7e+00 1.08e+02  9e+01  1e+02 0:01.1\n",
      "termination on tolfacupx=1000.0 (Mon Apr 13 13:11:49 2020)\n",
      "final/bestever f-value = -4.645035e+09 -4.645035e+09\n",
      "incumbent solution: [-388.85352829 -419.66224967  360.08881223  241.702006   -454.25473047\n",
      "  -23.6431489   -16.01829074  425.12093028 ...]\n",
      "std deviations: [102.73975025 118.12496973 102.05033184  98.62523928 108.87959825\n",
      " 100.61699937 106.81395757 106.10804557 ...]\n",
      "Run : 21\n",
      "(6_w,13)-aCMA-ES (mu_w=4.0,w_1=38%) in dimension 25 (seed=911175, Mon Apr 13 13:11:49 2020)\n",
      "Iterat #Fevals   function value  axis ratio  sigma  min&max std  t[m:s]\n",
      "    1     13 6.482880758527872e+03 1.0e+00 1.20e-01  1e-01  1e-01 0:00.0\n",
      "    2     26 6.482880089595082e+03 1.1e+00 1.19e-01  1e-01  1e-01 0:00.0\n",
      "    3     39 6.482879179954773e+03 1.1e+00 1.20e-01  1e-01  1e-01 0:00.0\n"
     ]
    },
    {
     "name": "stderr",
     "output_type": "stream",
     "text": [
      "/usr/local/lib/python3.6/dist-packages/cma/utilities/utils.py:333: UserWarning: function_values is not a list of scalars,\n",
      "                        the first element equals [6482.88225007] with non-scalar type <class 'numpy.ndarray'>.\n",
      "                        Using now ``[v[0] for v in function_values]`` instead (further warnings are suppressed) ()\n",
      "  ')')\n",
      "/usr/local/lib/python3.6/dist-packages/cma/utilities/utils.py:333: UserWarning: function_values is not a list of scalars,\n",
      "                        the first element equals [6482.88010409] with non-scalar type <class 'numpy.ndarray'>.\n",
      "                        Using now ``[v[0] for v in function_values]`` instead (further warnings are suppressed) ()\n",
      "  ')')\n"
     ]
    },
    {
     "name": "stdout",
     "output_type": "stream",
     "text": [
      "  100   1300 -6.307953560854885e+02 1.8e+00 2.37e-02  2e-02  2e-02 0:01.1\n",
      "  200   2600 -7.899990442986755e+02 2.0e+00 4.22e-04  3e-04  4e-04 0:02.2\n",
      "  300   3900 -7.900296057094956e+02 2.1e+00 4.16e-06  2e-06  3e-06 0:03.3\n",
      "  400   5200 -7.900296071264829e+02 2.5e+00 4.47e-08  2e-08  3e-08 0:04.4\n",
      "  500   6500 -7.900296071267139e+02 3.1e+00 3.20e-09  1e-09  2e-09 0:05.5\n",
      "  504   6552 -7.900296071267148e+02 3.1e+00 3.19e-09  1e-09  2e-09 0:05.6\n",
      "termination on tolfun=1e-11 (Mon Apr 13 13:11:56 2020)\n",
      "final/bestever f-value = -7.900296e+02 -7.900296e+02\n",
      "incumbent solution: [-0.00982798  0.07743961 -0.05328936 -0.04366305 -0.25058487  0.22432777\n",
      " -0.00688878 -0.00087846 ...]\n",
      "std deviations: [1.54894480e-09 1.93179536e-09 1.47393288e-09 1.74182651e-09\n",
      " 1.29656692e-09 1.64448910e-09 1.58089071e-09 1.65538499e-09 ...]\n",
      "(6_w,13)-aCMA-ES (mu_w=4.0,w_1=38%) in dimension 25 (seed=821543, Mon Apr 13 13:11:57 2020)\n",
      "Iterat #Fevals   function value  axis ratio  sigma  min&max std  t[m:s]\n",
      "    1     13 6.139459456732860e+03 1.0e+00 1.20e-01  1e-01  1e-01 0:00.0\n",
      "    2     26 6.139434504975204e+03 1.1e+00 1.16e-01  1e-01  1e-01 0:00.0\n",
      "    3     39 6.139273288992004e+03 1.1e+00 1.17e-01  1e-01  1e-01 0:00.0\n"
     ]
    },
    {
     "name": "stderr",
     "output_type": "stream",
     "text": [
      "/usr/local/lib/python3.6/dist-packages/cma/utilities/utils.py:333: UserWarning: function_values is not a list of scalars,\n",
      "                        the first element equals [6139.53511872] with non-scalar type <class 'numpy.ndarray'>.\n",
      "                        Using now ``[v[0] for v in function_values]`` instead (further warnings are suppressed) ()\n",
      "  ')')\n",
      "/usr/local/lib/python3.6/dist-packages/cma/utilities/utils.py:333: UserWarning: function_values is not a list of scalars,\n",
      "                        the first element equals [6139.47657173] with non-scalar type <class 'numpy.ndarray'>.\n",
      "                        Using now ``[v[0] for v in function_values]`` instead (further warnings are suppressed) ()\n",
      "  ')')\n"
     ]
    },
    {
     "name": "stdout",
     "output_type": "stream",
     "text": [
      "  100   1300 5.257461779810228e+02 1.7e+00 1.27e-02  1e-02  1e-02 0:00.9\n",
      "  200   2600 4.912017618790305e+02 2.0e+00 1.87e-04  1e-04  2e-04 0:01.9\n",
      "  300   3900 4.911971296899746e+02 2.3e+00 2.03e-06  1e-06  2e-06 0:02.8\n",
      "  400   5200 4.911971294213936e+02 2.2e+00 3.83e-08  2e-08  3e-08 0:03.7\n",
      "  500   6500 4.911971294213026e+02 2.4e+00 4.96e-09  2e-09  3e-09 0:04.6\n",
      "  600   7800 4.911971294212999e+02 3.2e+00 3.34e-09  1e-09  2e-09 0:05.6\n",
      "  700   9100 4.911971294212981e+02 3.9e+00 1.88e-09  8e-10  1e-09 0:06.5\n",
      "  800  10400 4.911971294213008e+02 4.5e+00 1.29e-09  5e-10  9e-10 0:07.4\n",
      "  900  11700 4.911971294212999e+02 5.2e+00 1.08e-09  4e-10  7e-10 0:08.3\n",
      " 1000  13000 4.911971294212954e+02 5.8e+00 7.60e-10  3e-10  5e-10 0:09.2\n",
      "Iterat #Fevals   function value  axis ratio  sigma  min&max std  t[m:s]\n",
      " 1100  14300 4.911971294212981e+02 7.7e+00 2.89e-09  1e-09  2e-09 0:10.0\n",
      " 1200  15600 4.911971294212963e+02 8.7e+00 1.17e-09  4e-10  8e-10 0:10.9\n",
      " 1300  16900 4.911971294212926e+02 9.2e+00 8.90e-10  3e-10  6e-10 0:11.8\n",
      " 1400  18200 4.911971294213008e+02 1.1e+01 6.24e-10  2e-10  5e-10 0:12.7\n",
      " 1500  19500 4.911971294212999e+02 1.2e+01 1.11e-09  3e-10  8e-10 0:13.6\n",
      " 1600  20800 4.911971294212954e+02 1.3e+01 4.56e-10  1e-10  3e-10 0:14.5\n",
      " 1620  21060 4.911971294213017e+02 1.3e+01 6.31e-10  2e-10  5e-10 0:14.7\n",
      "termination on tolstagnation=1061 (Mon Apr 13 13:12:16 2020)\n",
      "final/bestever f-value = 4.911971e+02 4.911971e+02\n",
      "incumbent solution: [-0.03480841  0.08888245 -0.0827911  -0.03537029 -0.27922571  0.20285759\n",
      " -0.04041531  0.01401394 ...]\n",
      "std deviations: [2.10021885e-10 2.93703436e-10 2.20380304e-10 3.88433014e-10\n",
      " 2.75264951e-10 3.27644895e-10 3.00481959e-10 3.54951768e-10 ...]\n",
      "(6_w,13)-aCMA-ES (mu_w=4.0,w_1=38%) in dimension 25 (seed=902883, Mon Apr 13 13:12:16 2020)\n",
      "Iterat #Fevals   function value  axis ratio  sigma  min&max std  t[m:s]\n",
      "    1     13 1.319793435918288e+04 1.0e+00 1.21e-01  1e-01  1e-01 0:00.0\n",
      "    2     26 1.242938312512510e+04 1.1e+00 1.17e-01  1e-01  1e-01 0:00.0\n",
      "    3     39 1.024311995908093e+04 1.1e+00 1.15e-01  1e-01  1e-01 0:00.0\n"
     ]
    },
    {
     "name": "stderr",
     "output_type": "stream",
     "text": [
      "/usr/local/lib/python3.6/dist-packages/cma/utilities/utils.py:333: UserWarning: function_values is not a list of scalars,\n",
      "                        the first element equals [17167.46700004] with non-scalar type <class 'numpy.ndarray'>.\n",
      "                        Using now ``[v[0] for v in function_values]`` instead (further warnings are suppressed) ()\n",
      "  ')')\n",
      "/usr/local/lib/python3.6/dist-packages/cma/utilities/utils.py:333: UserWarning: function_values is not a list of scalars,\n",
      "                        the first element equals [12429.38312513] with non-scalar type <class 'numpy.ndarray'>.\n",
      "                        Using now ``[v[0] for v in function_values]`` instead (further warnings are suppressed) ()\n",
      "  ')')\n"
     ]
    },
    {
     "name": "stdout",
     "output_type": "stream",
     "text": [
      "   75    975 -4.559003389642417e+09 1.8e+00 1.30e+02  1e+02  1e+02 0:01.1\n",
      "termination on tolfacupx=1000.0 (Mon Apr 13 13:12:18 2020)\n",
      "final/bestever f-value = -4.089608e+09 -4.559003e+09\n",
      "incumbent solution: [-276.09146208 -358.0555043   470.26285553   77.65909714 -267.56583535\n",
      " -429.01349099  272.71120487  523.28319038 ...]\n",
      "std deviations: [116.97900946 125.63023319 125.69061576 116.80630519 128.65185174\n",
      " 125.29247151 123.00428058 115.02447864 ...]\n",
      "Run : 22\n",
      "(6_w,13)-aCMA-ES (mu_w=4.0,w_1=38%) in dimension 25 (seed=884536, Mon Apr 13 13:12:18 2020)\n",
      "Iterat #Fevals   function value  axis ratio  sigma  min&max std  t[m:s]\n",
      "    1     13 6.482952260006709e+03 1.0e+00 1.22e-01  1e-01  1e-01 0:00.0\n",
      "    2     26 6.482859706051139e+03 1.1e+00 1.22e-01  1e-01  1e-01 0:00.0\n",
      "    3     39 6.482675462477453e+03 1.1e+00 1.22e-01  1e-01  1e-01 0:00.0\n"
     ]
    },
    {
     "name": "stderr",
     "output_type": "stream",
     "text": [
      "/usr/local/lib/python3.6/dist-packages/cma/utilities/utils.py:333: UserWarning: function_values is not a list of scalars,\n",
      "                        the first element equals [6483.03087483] with non-scalar type <class 'numpy.ndarray'>.\n",
      "                        Using now ``[v[0] for v in function_values]`` instead (further warnings are suppressed) ()\n",
      "  ')')\n",
      "/usr/local/lib/python3.6/dist-packages/cma/utilities/utils.py:333: UserWarning: function_values is not a list of scalars,\n",
      "                        the first element equals [6482.92592558] with non-scalar type <class 'numpy.ndarray'>.\n",
      "                        Using now ``[v[0] for v in function_values]`` instead (further warnings are suppressed) ()\n",
      "  ')')\n"
     ]
    },
    {
     "name": "stdout",
     "output_type": "stream",
     "text": [
      "  100   1300 -7.463338675331288e+02 1.8e+00 1.27e-02  1e-02  1e-02 0:01.1\n",
      "  200   2600 -7.900054788407087e+02 2.2e+00 3.41e-04  2e-04  3e-04 0:02.2\n",
      "  300   3900 -7.900296043454691e+02 2.3e+00 4.80e-06  3e-06  4e-06 0:03.3\n",
      "  400   5200 -7.900296071264756e+02 2.4e+00 4.74e-08  2e-08  3e-08 0:04.4\n",
      "  500   6500 -7.900296071267148e+02 2.9e+00 2.17e-09  9e-10  1e-09 0:05.5\n",
      "  506   6578 -7.900296071267139e+02 2.9e+00 2.06e-09  9e-10  1e-09 0:05.6\n",
      "termination on tolfun=1e-11 (Mon Apr 13 13:12:25 2020)\n",
      "final/bestever f-value = -7.900296e+02 -7.900296e+02\n",
      "incumbent solution: [-0.00982798  0.07743961 -0.05328937 -0.04366306 -0.25058487  0.22432777\n",
      " -0.00688878 -0.00087847 ...]\n",
      "std deviations: [1.09407086e-09 1.07203101e-09 9.82391436e-10 1.10510604e-09\n",
      " 9.45506559e-10 1.04679712e-09 1.03968507e-09 1.03432705e-09 ...]\n",
      "(6_w,13)-aCMA-ES (mu_w=4.0,w_1=38%) in dimension 25 (seed=899601, Mon Apr 13 13:12:25 2020)\n",
      "Iterat #Fevals   function value  axis ratio  sigma  min&max std  t[m:s]\n",
      "    1     13 6.139511940086215e+03 1.0e+00 1.20e-01  1e-01  1e-01 0:00.0\n",
      "    2     26 6.138899611869793e+03 1.1e+00 1.18e-01  1e-01  1e-01 0:00.0\n",
      "    3     39 6.137865603595851e+03 1.1e+00 1.18e-01  1e-01  1e-01 0:00.0\n"
     ]
    },
    {
     "name": "stderr",
     "output_type": "stream",
     "text": [
      "/usr/local/lib/python3.6/dist-packages/cma/utilities/utils.py:333: UserWarning: function_values is not a list of scalars,\n",
      "                        the first element equals [6139.8911275] with non-scalar type <class 'numpy.ndarray'>.\n",
      "                        Using now ``[v[0] for v in function_values]`` instead (further warnings are suppressed) ()\n",
      "  ')')\n",
      "/usr/local/lib/python3.6/dist-packages/cma/utilities/utils.py:333: UserWarning: function_values is not a list of scalars,\n",
      "                        the first element equals [6139.85995502] with non-scalar type <class 'numpy.ndarray'>.\n",
      "                        Using now ``[v[0] for v in function_values]`` instead (further warnings are suppressed) ()\n",
      "  ')')\n"
     ]
    },
    {
     "name": "stdout",
     "output_type": "stream",
     "text": [
      "  100   1300 5.089786559362801e+02 1.9e+00 9.77e-03  8e-03  1e-02 0:01.0\n",
      "  200   2600 4.911993011274062e+02 2.0e+00 1.37e-04  9e-05  1e-04 0:01.8\n",
      "  300   3900 4.911971297472073e+02 2.3e+00 2.32e-06  1e-06  2e-06 0:02.7\n",
      "  400   5200 4.911971294213336e+02 2.4e+00 2.81e-08  1e-08  2e-08 0:03.6\n",
      "  500   6500 4.911971294213008e+02 3.0e+00 4.03e-09  2e-09  3e-09 0:04.5\n",
      "  600   7800 4.911971294212999e+02 3.8e+00 2.94e-09  1e-09  2e-09 0:05.5\n",
      "  700   9100 4.911971294212990e+02 4.6e+00 3.36e-09  1e-09  2e-09 0:06.4\n",
      "  800  10400 4.911971294212990e+02 5.4e+00 2.31e-09  8e-10  2e-09 0:07.3\n",
      "  900  11700 4.911971294212963e+02 6.5e+00 1.48e-09  5e-10  1e-09 0:08.2\n",
      " 1000  13000 4.911971294212981e+02 8.1e+00 1.66e-09  6e-10  1e-09 0:09.1\n",
      "Iterat #Fevals   function value  axis ratio  sigma  min&max std  t[m:s]\n",
      " 1100  14300 4.911971294212990e+02 9.1e+00 1.95e-09  7e-10  1e-09 0:10.0\n",
      " 1200  15600 4.911971294212981e+02 1.1e+01 1.13e-09  3e-10  7e-10 0:10.8\n",
      " 1300  16900 4.911971294212981e+02 1.0e+01 1.67e-09  5e-10  1e-09 0:11.8\n",
      " 1400  18200 4.911971294213008e+02 1.3e+01 2.21e-09  7e-10  1e-09 0:12.6\n",
      " 1445  18785 4.911971294212972e+02 1.3e+01 1.72e-09  5e-10  1e-09 0:13.1\n",
      "termination on tolstagnation=1061 (Mon Apr 13 13:12:42 2020)\n",
      "final/bestever f-value = 4.911971e+02 4.911971e+02\n",
      "incumbent solution: [-0.0348084   0.08888245 -0.08279112 -0.03537028 -0.2792257   0.2028576\n",
      " -0.0404153   0.01401394 ...]\n",
      "std deviations: [7.62481075e-10 8.67378039e-10 9.92698009e-10 8.80748598e-10\n",
      " 6.31257759e-10 1.00558485e-09 8.15447665e-10 7.55367010e-10 ...]\n",
      "(6_w,13)-aCMA-ES (mu_w=4.0,w_1=38%) in dimension 25 (seed=943662, Mon Apr 13 13:12:42 2020)\n",
      "Iterat #Fevals   function value  axis ratio  sigma  min&max std  t[m:s]\n",
      "    1     13 7.333577594814758e+03 1.0e+00 1.17e-01  1e-01  1e-01 0:00.0\n",
      "    2     26 5.870004633997512e+03 1.1e+00 1.15e-01  1e-01  1e-01 0:00.0\n",
      "    3     39 4.362230538242336e+03 1.1e+00 1.13e-01  1e-01  1e-01 0:00.0\n"
     ]
    },
    {
     "name": "stderr",
     "output_type": "stream",
     "text": [
      "/usr/local/lib/python3.6/dist-packages/cma/utilities/utils.py:333: UserWarning: function_values is not a list of scalars,\n",
      "                        the first element equals [8679.19209868] with non-scalar type <class 'numpy.ndarray'>.\n",
      "                        Using now ``[v[0] for v in function_values]`` instead (further warnings are suppressed) ()\n",
      "  ')')\n",
      "/usr/local/lib/python3.6/dist-packages/cma/utilities/utils.py:333: UserWarning: function_values is not a list of scalars,\n",
      "                        the first element equals [10319.35100745] with non-scalar type <class 'numpy.ndarray'>.\n",
      "                        Using now ``[v[0] for v in function_values]`` instead (further warnings are suppressed) ()\n",
      "  ')')\n"
     ]
    },
    {
     "name": "stdout",
     "output_type": "stream",
     "text": [
      "   72    936 -4.268016304784950e+09 1.6e+00 1.39e+02  1e+02  1e+02 0:01.0\n",
      "termination on tolfacupx=1000.0 (Mon Apr 13 13:12:44 2020)\n",
      "final/bestever f-value = -4.158327e+09 -4.268016e+09\n",
      "incumbent solution: [ 217.97645525 -413.45452477  711.20018518  -18.48195511 -100.12562242\n",
      " -172.10932686  199.10468223  300.46592615 ...]\n",
      "std deviations: [126.99988049 124.31724694 133.18977379 131.19981031 121.01453534\n",
      " 128.67373327 125.15330086 126.59167575 ...]\n",
      "Run : 23\n",
      "(6_w,13)-aCMA-ES (mu_w=4.0,w_1=38%) in dimension 25 (seed=895561, Mon Apr 13 13:12:44 2020)\n",
      "Iterat #Fevals   function value  axis ratio  sigma  min&max std  t[m:s]\n",
      "    1     13 6.482094995701612e+03 1.0e+00 1.21e-01  1e-01  1e-01 0:00.0\n",
      "    2     26 6.479967402980576e+03 1.1e+00 1.18e-01  1e-01  1e-01 0:00.0\n",
      "    3     39 6.478508763326804e+03 1.1e+00 1.16e-01  1e-01  1e-01 0:00.0\n"
     ]
    },
    {
     "name": "stderr",
     "output_type": "stream",
     "text": [
      "/usr/local/lib/python3.6/dist-packages/cma/utilities/utils.py:333: UserWarning: function_values is not a list of scalars,\n",
      "                        the first element equals [6482.84877322] with non-scalar type <class 'numpy.ndarray'>.\n",
      "                        Using now ``[v[0] for v in function_values]`` instead (further warnings are suppressed) ()\n",
      "  ')')\n",
      "/usr/local/lib/python3.6/dist-packages/cma/utilities/utils.py:333: UserWarning: function_values is not a list of scalars,\n",
      "                        the first element equals [6482.75348461] with non-scalar type <class 'numpy.ndarray'>.\n",
      "                        Using now ``[v[0] for v in function_values]`` instead (further warnings are suppressed) ()\n",
      "  ')')\n"
     ]
    },
    {
     "name": "stdout",
     "output_type": "stream",
     "text": [
      "  100   1300 -7.659117806672157e+02 1.8e+00 1.06e-02  8e-03  1e-02 0:01.1\n",
      "  200   2600 -7.900215722092953e+02 2.1e+00 2.21e-04  1e-04  2e-04 0:02.2\n",
      "  300   3900 -7.900296066244446e+02 2.3e+00 2.38e-06  1e-06  2e-06 0:03.3\n",
      "  400   5200 -7.900296071266457e+02 2.6e+00 3.01e-08  1e-08  2e-08 0:04.4\n",
      "  493   6409 -7.900296071267148e+02 3.1e+00 2.88e-09  1e-09  2e-09 0:05.4\n",
      "termination on tolfun=1e-11 (Mon Apr 13 13:12:50 2020)\n",
      "final/bestever f-value = -7.900296e+02 -7.900296e+02\n",
      "incumbent solution: [-0.00982798  0.07743961 -0.05328936 -0.04366306 -0.25058487  0.22432777\n",
      " -0.00688878 -0.00087847 ...]\n",
      "std deviations: [1.58142132e-09 1.52916394e-09 1.40123174e-09 1.43680000e-09\n",
      " 1.18347261e-09 1.56452175e-09 1.46236159e-09 1.50787408e-09 ...]\n",
      "(6_w,13)-aCMA-ES (mu_w=4.0,w_1=38%) in dimension 25 (seed=929840, Mon Apr 13 13:12:50 2020)\n",
      "Iterat #Fevals   function value  axis ratio  sigma  min&max std  t[m:s]\n",
      "    1     13 6.138695869976021e+03 1.0e+00 1.18e-01  1e-01  1e-01 0:00.0\n",
      "    2     26 6.137748417374152e+03 1.1e+00 1.17e-01  1e-01  1e-01 0:00.0\n",
      "    3     39 6.135121712957521e+03 1.1e+00 1.19e-01  1e-01  1e-01 0:00.0\n"
     ]
    },
    {
     "name": "stderr",
     "output_type": "stream",
     "text": [
      "/usr/local/lib/python3.6/dist-packages/cma/utilities/utils.py:333: UserWarning: function_values is not a list of scalars,\n",
      "                        the first element equals [6139.34605063] with non-scalar type <class 'numpy.ndarray'>.\n",
      "                        Using now ``[v[0] for v in function_values]`` instead (further warnings are suppressed) ()\n",
      "  ')')\n",
      "/usr/local/lib/python3.6/dist-packages/cma/utilities/utils.py:333: UserWarning: function_values is not a list of scalars,\n",
      "                        the first element equals [6139.30717195] with non-scalar type <class 'numpy.ndarray'>.\n",
      "                        Using now ``[v[0] for v in function_values]`` instead (further warnings are suppressed) ()\n",
      "  ')')\n"
     ]
    },
    {
     "name": "stdout",
     "output_type": "stream",
     "text": [
      "  100   1300 5.208621514062424e+02 1.7e+00 1.27e-02  1e-02  1e-02 0:00.9\n",
      "  200   2600 4.912014229729693e+02 1.9e+00 1.73e-04  1e-04  2e-04 0:01.8\n",
      "  300   3900 4.911971299205479e+02 2.0e+00 2.40e-06  1e-06  2e-06 0:02.7\n",
      "  400   5200 4.911971294213836e+02 2.2e+00 3.61e-08  2e-08  2e-08 0:03.6\n",
      "  500   6500 4.911971294212972e+02 2.7e+00 3.46e-09  2e-09  2e-09 0:04.5\n",
      "  600   7800 4.911971294213035e+02 3.5e+00 2.50e-09  1e-09  2e-09 0:05.4\n",
      "  700   9100 4.911971294212963e+02 4.6e+00 1.81e-09  7e-10  1e-09 0:06.3\n",
      "  800  10400 4.911971294212963e+02 5.1e+00 9.47e-10  4e-10  7e-10 0:07.2\n",
      "  900  11700 4.911971294213008e+02 6.2e+00 1.73e-09  6e-10  1e-09 0:08.1\n",
      " 1000  13000 4.911971294212990e+02 6.7e+00 1.54e-09  5e-10  1e-09 0:09.0\n",
      "Iterat #Fevals   function value  axis ratio  sigma  min&max std  t[m:s]\n",
      " 1100  14300 4.911971294213090e+02 7.2e+00 1.50e-09  5e-10  1e-09 0:09.9\n",
      " 1200  15600 4.911971294212981e+02 9.8e+00 1.91e-09  6e-10  1e-09 0:10.8\n",
      " 1300  16900 4.911971294212954e+02 1.1e+01 1.96e-09  6e-10  1e-09 0:11.6\n",
      " 1400  18200 4.911971294212963e+02 1.2e+01 1.43e-09  5e-10  1e-09 0:12.5\n",
      " 1420  18460 4.911971294213017e+02 1.2e+01 1.49e-09  5e-10  1e-09 0:12.7\n",
      "termination on tolstagnation=1061 (Mon Apr 13 13:13:07 2020)\n",
      "final/bestever f-value = 4.911971e+02 4.911971e+02\n",
      "incumbent solution: [-0.03480841  0.08888245 -0.08279111 -0.03537029 -0.2792257   0.20285759\n",
      " -0.0404153   0.01401393 ...]\n",
      "std deviations: [6.22313256e-10 5.30623848e-10 6.64580322e-10 6.79064239e-10\n",
      " 6.85721737e-10 8.04544396e-10 7.26755428e-10 9.80930658e-10 ...]\n",
      "(6_w,13)-aCMA-ES (mu_w=4.0,w_1=38%) in dimension 25 (seed=902469, Mon Apr 13 13:13:07 2020)\n",
      "Iterat #Fevals   function value  axis ratio  sigma  min&max std  t[m:s]\n",
      "    1     13 6.567702043203628e+03 1.0e+00 1.18e-01  1e-01  1e-01 0:00.0\n",
      "    2     26 5.102388706838358e+03 1.1e+00 1.14e-01  1e-01  1e-01 0:00.0\n",
      "    3     39 2.858609230013788e+03 1.1e+00 1.14e-01  1e-01  1e-01 0:00.0\n"
     ]
    },
    {
     "name": "stderr",
     "output_type": "stream",
     "text": [
      "/usr/local/lib/python3.6/dist-packages/cma/utilities/utils.py:333: UserWarning: function_values is not a list of scalars,\n",
      "                        the first element equals [7027.04580349] with non-scalar type <class 'numpy.ndarray'>.\n",
      "                        Using now ``[v[0] for v in function_values]`` instead (further warnings are suppressed) ()\n",
      "  ')')\n",
      "/usr/local/lib/python3.6/dist-packages/cma/utilities/utils.py:333: UserWarning: function_values is not a list of scalars,\n",
      "                        the first element equals [5206.97298877] with non-scalar type <class 'numpy.ndarray'>.\n",
      "                        Using now ``[v[0] for v in function_values]`` instead (further warnings are suppressed) ()\n",
      "  ')')\n"
     ]
    },
    {
     "name": "stdout",
     "output_type": "stream",
     "text": [
      "   72    936 -4.742214724420871e+09 1.8e+00 1.34e+02  1e+02  1e+02 0:01.0\n",
      "termination on tolfacupx=1000.0 (Mon Apr 13 13:13:09 2020)\n",
      "final/bestever f-value = -4.609531e+09 -4.742215e+09\n",
      "incumbent solution: [-194.16732195 -386.67203744 -375.71969239  562.91022198    5.8262897\n",
      "   33.9877209   -90.76585313 -262.25782441 ...]\n",
      "std deviations: [123.95431786 130.22635762 130.34851272 128.29198157 122.46659646\n",
      " 121.82625501 123.35634261 127.61288703 ...]\n",
      "Run : 24\n",
      "(6_w,13)-aCMA-ES (mu_w=4.0,w_1=38%) in dimension 25 (seed=836461, Mon Apr 13 13:13:09 2020)\n",
      "Iterat #Fevals   function value  axis ratio  sigma  min&max std  t[m:s]\n",
      "    1     13 6.482879780827079e+03 1.0e+00 1.22e-01  1e-01  1e-01 0:00.0\n",
      "    2     26 6.482878829313569e+03 1.1e+00 1.19e-01  1e-01  1e-01 0:00.0\n",
      "    3     39 6.482876442663252e+03 1.1e+00 1.18e-01  1e-01  1e-01 0:00.0\n"
     ]
    },
    {
     "name": "stderr",
     "output_type": "stream",
     "text": [
      "/usr/local/lib/python3.6/dist-packages/cma/utilities/utils.py:333: UserWarning: function_values is not a list of scalars,\n",
      "                        the first element equals [6482.87978083] with non-scalar type <class 'numpy.ndarray'>.\n",
      "                        Using now ``[v[0] for v in function_values]`` instead (further warnings are suppressed) ()\n",
      "  ')')\n",
      "/usr/local/lib/python3.6/dist-packages/cma/utilities/utils.py:333: UserWarning: function_values is not a list of scalars,\n",
      "                        the first element equals [6482.88007348] with non-scalar type <class 'numpy.ndarray'>.\n",
      "                        Using now ``[v[0] for v in function_values]`` instead (further warnings are suppressed) ()\n",
      "  ')')\n"
     ]
    },
    {
     "name": "stdout",
     "output_type": "stream",
     "text": [
      "  100   1300 -7.453378608692283e+02 1.9e+00 1.22e-02  1e-02  1e-02 0:01.1\n",
      "  200   2600 -7.900225729327422e+02 2.1e+00 2.40e-04  2e-04  2e-04 0:02.2\n",
      "  300   3900 -7.900296064093636e+02 2.3e+00 2.80e-06  2e-06  2e-06 0:03.3\n",
      "  400   5200 -7.900296071266348e+02 2.6e+00 2.87e-08  1e-08  2e-08 0:04.4\n",
      "  490   6370 -7.900296071267139e+02 2.8e+00 1.69e-09  7e-10  1e-09 0:05.4\n",
      "termination on tolfun=1e-11 (Mon Apr 13 13:13:15 2020)\n",
      "final/bestever f-value = -7.900296e+02 -7.900296e+02\n",
      "incumbent solution: [-0.00982798  0.07743961 -0.05328936 -0.04366305 -0.25058487  0.22432777\n",
      " -0.00688878 -0.00087846 ...]\n",
      "std deviations: [8.56082584e-10 9.51945154e-10 8.03384422e-10 9.36271829e-10\n",
      " 7.59923615e-10 9.37070036e-10 8.50315824e-10 9.24535585e-10 ...]\n",
      "(6_w,13)-aCMA-ES (mu_w=4.0,w_1=38%) in dimension 25 (seed=788461, Mon Apr 13 13:13:16 2020)\n",
      "Iterat #Fevals   function value  axis ratio  sigma  min&max std  t[m:s]\n",
      "    1     13 6.139466667246129e+03 1.0e+00 1.18e-01  1e-01  1e-01 0:00.0\n",
      "    2     26 6.139464627415261e+03 1.1e+00 1.13e-01  1e-01  1e-01 0:00.0\n",
      "    3     39 6.139455506614439e+03 1.1e+00 1.12e-01  1e-01  1e-01 0:00.0\n"
     ]
    },
    {
     "name": "stderr",
     "output_type": "stream",
     "text": [
      "/usr/local/lib/python3.6/dist-packages/cma/utilities/utils.py:333: UserWarning: function_values is not a list of scalars,\n",
      "                        the first element equals [6139.46832144] with non-scalar type <class 'numpy.ndarray'>.\n",
      "                        Using now ``[v[0] for v in function_values]`` instead (further warnings are suppressed) ()\n",
      "  ')')\n",
      "/usr/local/lib/python3.6/dist-packages/cma/utilities/utils.py:333: UserWarning: function_values is not a list of scalars,\n",
      "                        the first element equals [6139.46831987] with non-scalar type <class 'numpy.ndarray'>.\n",
      "                        Using now ``[v[0] for v in function_values]`` instead (further warnings are suppressed) ()\n",
      "  ')')\n"
     ]
    },
    {
     "name": "stdout",
     "output_type": "stream",
     "text": [
      "  100   1300 5.114127083335634e+02 1.9e+00 1.33e-02  1e-02  1e-02 0:00.9\n",
      "  200   2600 4.912049883309546e+02 1.9e+00 2.58e-04  2e-04  2e-04 0:01.8\n",
      "  300   3900 4.911971319403847e+02 2.2e+00 4.43e-06  2e-06  3e-06 0:02.7\n",
      "  400   5200 4.911971294215118e+02 2.3e+00 6.33e-08  3e-08  4e-08 0:03.6\n",
      "  500   6500 4.911971294212954e+02 3.0e+00 3.80e-09  2e-09  2e-09 0:04.5\n",
      "  600   7800 4.911971294212999e+02 3.9e+00 7.31e-10  3e-10  5e-10 0:05.4\n",
      "  700   9100 4.911971294212990e+02 4.2e+00 6.13e-10  2e-10  4e-10 0:06.3\n",
      "  800  10400 4.911971294212972e+02 4.9e+00 7.45e-10  3e-10  5e-10 0:07.2\n",
      "  900  11700 4.911971294213008e+02 6.3e+00 1.83e-09  7e-10  1e-09 0:08.1\n",
      " 1000  13000 4.911971294213017e+02 7.5e+00 1.31e-09  5e-10  9e-10 0:09.0\n",
      "Iterat #Fevals   function value  axis ratio  sigma  min&max std  t[m:s]\n",
      " 1100  14300 4.911971294212926e+02 9.0e+00 7.33e-10  2e-10  5e-10 0:09.9\n",
      " 1198  15574 4.911971294213008e+02 1.0e+01 1.42e-09  4e-10  1e-09 0:10.8\n",
      "termination on tolfun=1e-11 (Mon Apr 13 13:13:30 2020)\n",
      "final/bestever f-value = 4.911971e+02 4.911971e+02\n",
      "incumbent solution: [-0.03480841  0.08888245 -0.0827911  -0.03537029 -0.27922571  0.20285758\n",
      " -0.04041531  0.01401394 ...]\n",
      "std deviations: [7.44683870e-10 6.85260601e-10 7.42565327e-10 1.01246798e-09\n",
      " 7.70910351e-10 6.73662773e-10 5.80908110e-10 8.36559457e-10 ...]\n",
      "(6_w,13)-aCMA-ES (mu_w=4.0,w_1=38%) in dimension 25 (seed=810163, Mon Apr 13 13:13:30 2020)\n",
      "Iterat #Fevals   function value  axis ratio  sigma  min&max std  t[m:s]\n",
      "    1     13 1.482317854488160e+04 1.0e+00 1.22e-01  1e-01  1e-01 0:00.0\n",
      "    2     26 1.265136852512876e+04 1.1e+00 1.22e-01  1e-01  1e-01 0:00.0\n",
      "    3     39 1.174129313139626e+04 1.1e+00 1.24e-01  1e-01  1e-01 0:00.0\n"
     ]
    },
    {
     "name": "stderr",
     "output_type": "stream",
     "text": [
      "/usr/local/lib/python3.6/dist-packages/cma/utilities/utils.py:333: UserWarning: function_values is not a list of scalars,\n",
      "                        the first element equals [21590.20055103] with non-scalar type <class 'numpy.ndarray'>.\n",
      "                        Using now ``[v[0] for v in function_values]`` instead (further warnings are suppressed) ()\n",
      "  ')')\n",
      "/usr/local/lib/python3.6/dist-packages/cma/utilities/utils.py:333: UserWarning: function_values is not a list of scalars,\n",
      "                        the first element equals [19689.0826165] with non-scalar type <class 'numpy.ndarray'>.\n",
      "                        Using now ``[v[0] for v in function_values]`` instead (further warnings are suppressed) ()\n",
      "  ')')\n"
     ]
    },
    {
     "name": "stdout",
     "output_type": "stream",
     "text": [
      "   74    962 -3.151178825177934e+09 1.7e+00 1.40e+02  1e+02  1e+02 0:01.0\n",
      "termination on tolfacupx=1000.0 (Mon Apr 13 13:13:31 2020)\n",
      "final/bestever f-value = -3.048904e+09 -3.151179e+09\n",
      "incumbent solution: [-204.69609208 -199.9189991   256.54566312  354.6949522  -374.55759382\n",
      "   69.328601     46.20458341   52.55128013 ...]\n",
      "std deviations: [125.88433197 129.35604721 133.07276872 137.88364895 132.45751395\n",
      " 135.29668653 132.18993781 132.35250674 ...]\n",
      "Run : 25\n",
      "(6_w,13)-aCMA-ES (mu_w=4.0,w_1=38%) in dimension 25 (seed=930464, Mon Apr 13 13:13:31 2020)\n",
      "Iterat #Fevals   function value  axis ratio  sigma  min&max std  t[m:s]\n",
      "    1     13 6.482851755419838e+03 1.0e+00 1.17e-01  1e-01  1e-01 0:00.0\n",
      "    2     26 6.482767303377796e+03 1.1e+00 1.13e-01  1e-01  1e-01 0:00.0\n",
      "    3     39 6.482211743902461e+03 1.1e+00 1.13e-01  1e-01  1e-01 0:00.0\n"
     ]
    },
    {
     "name": "stderr",
     "output_type": "stream",
     "text": [
      "/usr/local/lib/python3.6/dist-packages/cma/utilities/utils.py:333: UserWarning: function_values is not a list of scalars,\n",
      "                        the first element equals [6482.88861877] with non-scalar type <class 'numpy.ndarray'>.\n",
      "                        Using now ``[v[0] for v in function_values]`` instead (further warnings are suppressed) ()\n",
      "  ')')\n",
      "/usr/local/lib/python3.6/dist-packages/cma/utilities/utils.py:333: UserWarning: function_values is not a list of scalars,\n",
      "                        the first element equals [6482.88376829] with non-scalar type <class 'numpy.ndarray'>.\n",
      "                        Using now ``[v[0] for v in function_values]`` instead (further warnings are suppressed) ()\n",
      "  ')')\n"
     ]
    },
    {
     "name": "stdout",
     "output_type": "stream",
     "text": [
      "  100   1300 -7.555825789902256e+02 1.7e+00 1.23e-02  1e-02  1e-02 0:01.1\n",
      "  200   2600 -7.900242137968589e+02 2.0e+00 1.79e-04  1e-04  2e-04 0:02.2\n",
      "  300   3900 -7.900296066783285e+02 2.2e+00 2.02e-06  1e-06  2e-06 0:03.3\n",
      "  400   5200 -7.900296071266366e+02 2.4e+00 2.81e-08  1e-08  2e-08 0:04.4\n",
      "  495   6435 -7.900296071267148e+02 2.7e+00 2.02e-09  9e-10  1e-09 0:05.4\n",
      "termination on tolfun=1e-11 (Mon Apr 13 13:13:38 2020)\n",
      "final/bestever f-value = -7.900296e+02 -7.900296e+02\n",
      "incumbent solution: [-0.00982797  0.0774396  -0.05328936 -0.04366305 -0.25058487  0.22432776\n",
      " -0.00688878 -0.00087847 ...]\n",
      "std deviations: [1.09857413e-09 1.04792722e-09 9.25268154e-10 1.10664165e-09\n",
      " 8.77239946e-10 9.64475948e-10 1.04122198e-09 9.38484126e-10 ...]\n",
      "(6_w,13)-aCMA-ES (mu_w=4.0,w_1=38%) in dimension 25 (seed=859165, Mon Apr 13 13:13:38 2020)\n",
      "Iterat #Fevals   function value  axis ratio  sigma  min&max std  t[m:s]\n",
      "    1     13 6.137950497598133e+03 1.0e+00 1.21e-01  1e-01  1e-01 0:00.0\n",
      "    2     26 6.135062349801815e+03 1.1e+00 1.20e-01  1e-01  1e-01 0:00.0\n",
      "    3     39 6.131446874822464e+03 1.1e+00 1.22e-01  1e-01  1e-01 0:00.0\n"
     ]
    },
    {
     "name": "stderr",
     "output_type": "stream",
     "text": [
      "/usr/local/lib/python3.6/dist-packages/cma/utilities/utils.py:333: UserWarning: function_values is not a list of scalars,\n",
      "                        the first element equals [6139.02484466] with non-scalar type <class 'numpy.ndarray'>.\n",
      "                        Using now ``[v[0] for v in function_values]`` instead (further warnings are suppressed) ()\n",
      "  ')')\n",
      "/usr/local/lib/python3.6/dist-packages/cma/utilities/utils.py:333: UserWarning: function_values is not a list of scalars,\n",
      "                        the first element equals [6139.12263012] with non-scalar type <class 'numpy.ndarray'>.\n",
      "                        Using now ``[v[0] for v in function_values]`` instead (further warnings are suppressed) ()\n",
      "  ')')\n"
     ]
    },
    {
     "name": "stdout",
     "output_type": "stream",
     "text": [
      "  100   1300 4.998442917886632e+02 1.8e+00 6.29e-03  5e-03  6e-03 0:00.9\n",
      "  200   2600 4.911984284558675e+02 1.9e+00 9.90e-05  6e-05  8e-05 0:01.9\n",
      "  300   3900 4.911971295498688e+02 2.1e+00 1.30e-06  8e-07  9e-07 0:02.8\n",
      "  400   5200 4.911971294213272e+02 2.5e+00 1.85e-08  9e-09  1e-08 0:03.7\n",
      "  500   6500 4.911971294212999e+02 2.6e+00 3.83e-09  2e-09  2e-09 0:04.6\n",
      "  600   7800 4.911971294212999e+02 3.2e+00 2.49e-09  1e-09  2e-09 0:05.5\n",
      "  700   9100 4.911971294212963e+02 4.2e+00 2.07e-09  8e-10  1e-09 0:06.3\n",
      "  735   9555 4.911971294212990e+02 4.5e+00 1.70e-09  7e-10  1e-09 0:06.7\n",
      "termination on tolfun=1e-11 (Mon Apr 13 13:13:47 2020)\n",
      "final/bestever f-value = 4.911971e+02 4.911971e+02\n",
      "incumbent solution: [-0.0348084   0.08888244 -0.08279111 -0.03537028 -0.2792257   0.20285758\n",
      " -0.04041531  0.01401394 ...]\n",
      "std deviations: [9.00476552e-10 1.04686481e-09 7.88978937e-10 8.58684378e-10\n",
      " 8.37465166e-10 9.08579594e-10 8.26425141e-10 7.97888225e-10 ...]\n",
      "(6_w,13)-aCMA-ES (mu_w=4.0,w_1=38%) in dimension 25 (seed=899036, Mon Apr 13 13:13:47 2020)\n",
      "Iterat #Fevals   function value  axis ratio  sigma  min&max std  t[m:s]\n",
      "    1     13 1.056419758527530e+04 1.0e+00 1.21e-01  1e-01  1e-01 0:00.0\n",
      "    2     26 8.555135215006949e+03 1.1e+00 1.20e-01  1e-01  1e-01 0:00.0\n",
      "    3     39 6.562386301943267e+03 1.1e+00 1.22e-01  1e-01  1e-01 0:00.0\n"
     ]
    },
    {
     "name": "stderr",
     "output_type": "stream",
     "text": [
      "/usr/local/lib/python3.6/dist-packages/cma/utilities/utils.py:333: UserWarning: function_values is not a list of scalars,\n",
      "                        the first element equals [12210.29468229] with non-scalar type <class 'numpy.ndarray'>.\n",
      "                        Using now ``[v[0] for v in function_values]`` instead (further warnings are suppressed) ()\n",
      "  ')')\n",
      "/usr/local/lib/python3.6/dist-packages/cma/utilities/utils.py:333: UserWarning: function_values is not a list of scalars,\n",
      "                        the first element equals [11411.45994306] with non-scalar type <class 'numpy.ndarray'>.\n",
      "                        Using now ``[v[0] for v in function_values]`` instead (further warnings are suppressed) ()\n",
      "  ')')\n"
     ]
    },
    {
     "name": "stdout",
     "output_type": "stream",
     "text": [
      "   68    884 -2.579014781961228e+09 1.7e+00 1.30e+02  1e+02  1e+02 0:00.9\n",
      "termination on tolfacupx=1000.0 (Mon Apr 13 13:13:48 2020)\n",
      "final/bestever f-value = -2.446248e+09 -2.579015e+09\n",
      "incumbent solution: [-157.32979251 -448.9468736   643.52300528   89.48654264 -333.0280302\n",
      " -279.24071414  157.41546285  437.00811628 ...]\n",
      "std deviations: [125.86040535 131.4953524  124.09944796 116.44341332 121.85443055\n",
      " 131.55660287 122.77663916 126.65931224 ...]\n",
      "Run : 26\n",
      "(6_w,13)-aCMA-ES (mu_w=4.0,w_1=38%) in dimension 25 (seed=870377, Mon Apr 13 13:13:48 2020)\n",
      "Iterat #Fevals   function value  axis ratio  sigma  min&max std  t[m:s]\n",
      "    1     13 6.482915845015781e+03 1.0e+00 1.24e-01  1e-01  1e-01 0:00.0\n",
      "    2     26 6.482898326594508e+03 1.1e+00 1.22e-01  1e-01  1e-01 0:00.0\n",
      "    3     39 6.482881886305533e+03 1.1e+00 1.25e-01  1e-01  1e-01 0:00.0\n"
     ]
    },
    {
     "name": "stderr",
     "output_type": "stream",
     "text": [
      "/usr/local/lib/python3.6/dist-packages/cma/utilities/utils.py:333: UserWarning: function_values is not a list of scalars,\n",
      "                        the first element equals [6483.1350543] with non-scalar type <class 'numpy.ndarray'>.\n",
      "                        Using now ``[v[0] for v in function_values]`` instead (further warnings are suppressed) ()\n",
      "  ')')\n",
      "/usr/local/lib/python3.6/dist-packages/cma/utilities/utils.py:333: UserWarning: function_values is not a list of scalars,\n",
      "                        the first element equals [6482.9229294] with non-scalar type <class 'numpy.ndarray'>.\n",
      "                        Using now ``[v[0] for v in function_values]`` instead (further warnings are suppressed) ()\n",
      "  ')')\n"
     ]
    },
    {
     "name": "stdout",
     "output_type": "stream",
     "text": [
      "  100   1300 -7.379580818482063e+02 1.9e+00 1.46e-02  1e-02  1e-02 0:01.1\n",
      "  200   2600 -7.900030949605880e+02 2.1e+00 4.41e-04  3e-04  4e-04 0:02.2\n",
      "  300   3900 -7.900296023950968e+02 2.4e+00 7.65e-06  4e-06  6e-06 0:03.2\n",
      "  400   5200 -7.900296071242037e+02 2.5e+00 1.74e-07  9e-08  1e-07 0:04.3\n",
      "  500   6500 -7.900296071267148e+02 2.7e+00 3.97e-09  2e-09  2e-09 0:05.3\n",
      "  532   6916 -7.900296071267157e+02 2.8e+00 2.64e-09  1e-09  2e-09 0:05.7\n",
      "termination on tolfun=1e-11 (Mon Apr 13 13:13:55 2020)\n",
      "final/bestever f-value = -7.900296e+02 -7.900296e+02\n",
      "incumbent solution: [-0.00982798  0.07743961 -0.05328936 -0.04366305 -0.25058487  0.22432777\n",
      " -0.00688878 -0.00087847 ...]\n",
      "std deviations: [1.34137143e-09 1.37214240e-09 1.16831491e-09 1.39398846e-09\n",
      " 1.23780603e-09 1.25229287e-09 1.35074082e-09 1.30798751e-09 ...]\n",
      "(6_w,13)-aCMA-ES (mu_w=4.0,w_1=38%) in dimension 25 (seed=920843, Mon Apr 13 13:13:55 2020)\n",
      "Iterat #Fevals   function value  axis ratio  sigma  min&max std  t[m:s]\n",
      "    1     13 6.139534762997214e+03 1.0e+00 1.19e-01  1e-01  1e-01 0:00.0\n",
      "    2     26 6.139508003766863e+03 1.1e+00 1.18e-01  1e-01  1e-01 0:00.0\n",
      "    3     39 6.139484922571447e+03 1.1e+00 1.19e-01  1e-01  1e-01 0:00.0\n"
     ]
    },
    {
     "name": "stderr",
     "output_type": "stream",
     "text": [
      "/usr/local/lib/python3.6/dist-packages/cma/utilities/utils.py:333: UserWarning: function_values is not a list of scalars,\n",
      "                        the first element equals [6140.02934172] with non-scalar type <class 'numpy.ndarray'>.\n",
      "                        Using now ``[v[0] for v in function_values]`` instead (further warnings are suppressed) ()\n",
      "  ')')\n",
      "/usr/local/lib/python3.6/dist-packages/cma/utilities/utils.py:333: UserWarning: function_values is not a list of scalars,\n",
      "                        the first element equals [6139.87968967] with non-scalar type <class 'numpy.ndarray'>.\n",
      "                        Using now ``[v[0] for v in function_values]`` instead (further warnings are suppressed) ()\n",
      "  ')')\n"
     ]
    },
    {
     "name": "stdout",
     "output_type": "stream",
     "text": [
      "  100   1300 5.318717529227606e+02 1.8e+00 1.55e-02  1e-02  2e-02 0:00.9\n",
      "  200   2600 4.912011398565101e+02 2.3e+00 2.08e-04  1e-04  2e-04 0:01.8\n",
      "  300   3900 4.911971305024636e+02 2.4e+00 3.79e-06  2e-06  3e-06 0:02.7\n",
      "  400   5200 4.911971294214582e+02 2.4e+00 4.19e-08  2e-08  3e-08 0:03.6\n",
      "  500   6500 4.911971294212999e+02 2.7e+00 3.92e-09  2e-09  2e-09 0:04.5\n",
      "  600   7800 4.911971294213008e+02 3.6e+00 2.48e-09  1e-09  2e-09 0:05.3\n",
      "  700   9100 4.911971294212990e+02 4.3e+00 1.92e-09  7e-10  1e-09 0:06.2\n",
      "  800  10400 4.911971294213008e+02 4.9e+00 1.32e-09  5e-10  9e-10 0:07.1\n",
      "  900  11700 4.911971294213017e+02 5.5e+00 7.82e-10  3e-10  5e-10 0:08.0\n",
      " 1000  13000 4.911971294213017e+02 7.3e+00 1.64e-09  5e-10  1e-09 0:08.9\n",
      "Iterat #Fevals   function value  axis ratio  sigma  min&max std  t[m:s]\n",
      " 1064  13832 4.911971294213035e+02 7.7e+00 2.82e-09  9e-10  2e-09 0:09.4\n",
      "termination on tolfun=1e-11 (Mon Apr 13 13:14:07 2020)\n",
      "final/bestever f-value = 4.911971e+02 4.911971e+02\n",
      "incumbent solution: [-0.03480841  0.08888244 -0.08279112 -0.03537029 -0.2792257   0.20285758\n",
      " -0.0404153   0.01401395 ...]\n",
      "std deviations: [1.27860162e-09 1.49364848e-09 1.13804822e-09 1.74545205e-09\n",
      " 1.30588584e-09 1.54928716e-09 1.32336384e-09 1.76180496e-09 ...]\n",
      "(6_w,13)-aCMA-ES (mu_w=4.0,w_1=38%) in dimension 25 (seed=907932, Mon Apr 13 13:14:07 2020)\n",
      "Iterat #Fevals   function value  axis ratio  sigma  min&max std  t[m:s]\n",
      "    1     13 9.505604836857397e+03 1.0e+00 1.22e-01  1e-01  1e-01 0:00.0\n",
      "    2     26 9.122582550529911e+03 1.1e+00 1.18e-01  1e-01  1e-01 0:00.0\n",
      "    3     39 7.738856754491179e+03 1.1e+00 1.17e-01  1e-01  1e-01 0:00.0\n"
     ]
    },
    {
     "name": "stderr",
     "output_type": "stream",
     "text": [
      "/usr/local/lib/python3.6/dist-packages/cma/utilities/utils.py:333: UserWarning: function_values is not a list of scalars,\n",
      "                        the first element equals [14958.08440064] with non-scalar type <class 'numpy.ndarray'>.\n",
      "                        Using now ``[v[0] for v in function_values]`` instead (further warnings are suppressed) ()\n",
      "  ')')\n",
      "/usr/local/lib/python3.6/dist-packages/cma/utilities/utils.py:333: UserWarning: function_values is not a list of scalars,\n",
      "                        the first element equals [12261.03457051] with non-scalar type <class 'numpy.ndarray'>.\n",
      "                        Using now ``[v[0] for v in function_values]`` instead (further warnings are suppressed) ()\n",
      "  ')')\n"
     ]
    },
    {
     "name": "stdout",
     "output_type": "stream",
     "text": [
      "   74    962 -4.876404690500519e+09 2.4e+00 1.35e+02  1e+02  1e+02 0:01.0\n",
      "termination on tolfacupx=1000.0 (Mon Apr 13 13:14:09 2020)\n",
      "final/bestever f-value = -4.701241e+09 -4.876405e+09\n",
      "incumbent solution: [-147.92804605 -257.64803655  201.72925879  402.183192     49.0018626\n",
      " -669.4004431  -118.06968533  161.80437979 ...]\n",
      "std deviations: [127.15015573 140.18849252 131.18326805 139.62596668 124.59022008\n",
      " 138.92228553 122.88309    122.20015301 ...]\n",
      "Run : 27\n",
      "(6_w,13)-aCMA-ES (mu_w=4.0,w_1=38%) in dimension 25 (seed=891667, Mon Apr 13 13:14:09 2020)\n",
      "Iterat #Fevals   function value  axis ratio  sigma  min&max std  t[m:s]\n",
      "    1     13 6.482462068086727e+03 1.0e+00 1.24e-01  1e-01  1e-01 0:00.0\n",
      "    2     26 6.482380037834935e+03 1.1e+00 1.23e-01  1e-01  1e-01 0:00.0\n",
      "    3     39 6.481320447603933e+03 1.1e+00 1.22e-01  1e-01  1e-01 0:00.0\n"
     ]
    },
    {
     "name": "stderr",
     "output_type": "stream",
     "text": [
      "/usr/local/lib/python3.6/dist-packages/cma/utilities/utils.py:333: UserWarning: function_values is not a list of scalars,\n",
      "                        the first element equals [6485.67479979] with non-scalar type <class 'numpy.ndarray'>.\n",
      "                        Using now ``[v[0] for v in function_values]`` instead (further warnings are suppressed) ()\n",
      "  ')')\n",
      "/usr/local/lib/python3.6/dist-packages/cma/utilities/utils.py:333: UserWarning: function_values is not a list of scalars,\n",
      "                        the first element equals [6484.34748874] with non-scalar type <class 'numpy.ndarray'>.\n",
      "                        Using now ``[v[0] for v in function_values]`` instead (further warnings are suppressed) ()\n",
      "  ')')\n"
     ]
    },
    {
     "name": "stdout",
     "output_type": "stream",
     "text": [
      "  100   1300 -7.714021288591475e+02 1.7e+00 7.13e-03  6e-03  7e-03 0:01.1\n",
      "  200   2600 -7.900208843709424e+02 2.1e+00 2.17e-04  2e-04  2e-04 0:02.2\n",
      "  300   3900 -7.900296062678881e+02 2.4e+00 2.74e-06  2e-06  2e-06 0:03.2\n",
      "  400   5200 -7.900296071265284e+02 2.7e+00 4.98e-08  2e-08  3e-08 0:04.3\n",
      "  498   6474 -7.900296071267148e+02 2.8e+00 2.80e-09  1e-09  2e-09 0:05.4\n",
      "termination on tolfun=1e-11 (Mon Apr 13 13:14:15 2020)\n",
      "final/bestever f-value = -7.900296e+02 -7.900296e+02\n",
      "incumbent solution: [-0.00982798  0.07743961 -0.05328936 -0.04366306 -0.25058487  0.22432777\n",
      " -0.00688878 -0.00087846 ...]\n",
      "std deviations: [1.41578704e-09 1.64613750e-09 1.29720048e-09 1.65221512e-09\n",
      " 1.40729730e-09 1.48677797e-09 1.30547871e-09 1.57448509e-09 ...]\n",
      "(6_w,13)-aCMA-ES (mu_w=4.0,w_1=38%) in dimension 25 (seed=819623, Mon Apr 13 13:14:16 2020)\n",
      "Iterat #Fevals   function value  axis ratio  sigma  min&max std  t[m:s]\n",
      "    1     13 6.136463963361171e+03 1.0e+00 1.21e-01  1e-01  1e-01 0:00.0\n",
      "    2     26 6.131803975182697e+03 1.1e+00 1.17e-01  1e-01  1e-01 0:00.0\n",
      "    3     39 6.129256922873820e+03 1.1e+00 1.20e-01  1e-01  1e-01 0:00.0\n"
     ]
    },
    {
     "name": "stderr",
     "output_type": "stream",
     "text": [
      "/usr/local/lib/python3.6/dist-packages/cma/utilities/utils.py:333: UserWarning: function_values is not a list of scalars,\n",
      "                        the first element equals [6136.46396336] with non-scalar type <class 'numpy.ndarray'>.\n",
      "                        Using now ``[v[0] for v in function_values]`` instead (further warnings are suppressed) ()\n",
      "  ')')\n",
      "/usr/local/lib/python3.6/dist-packages/cma/utilities/utils.py:333: UserWarning: function_values is not a list of scalars,\n",
      "                        the first element equals [6134.99096503] with non-scalar type <class 'numpy.ndarray'>.\n",
      "                        Using now ``[v[0] for v in function_values]`` instead (further warnings are suppressed) ()\n",
      "  ')')\n"
     ]
    },
    {
     "name": "stdout",
     "output_type": "stream",
     "text": [
      "  100   1300 4.959888112139261e+02 1.8e+00 6.29e-03  5e-03  6e-03 0:00.9\n",
      "  200   2600 4.911980703830850e+02 1.9e+00 1.02e-04  7e-05  9e-05 0:01.8\n",
      "  300   3900 4.911971297276614e+02 2.1e+00 1.96e-06  1e-06  1e-06 0:02.7\n",
      "  400   5200 4.911971294213608e+02 2.2e+00 3.30e-08  2e-08  2e-08 0:03.5\n",
      "  500   6500 4.911971294213054e+02 2.6e+00 4.08e-09  2e-09  3e-09 0:04.4\n",
      "  600   7800 4.911971294212999e+02 3.1e+00 4.34e-09  2e-09  3e-09 0:05.3\n",
      "  700   9100 4.911971294213017e+02 4.0e+00 3.65e-09  1e-09  2e-09 0:06.2\n",
      "  800  10400 4.911971294212954e+02 4.7e+00 2.17e-09  8e-10  1e-09 0:07.1\n",
      "  900  11700 4.911971294213026e+02 6.2e+00 1.95e-09  8e-10  1e-09 0:08.0\n",
      " 1000  13000 4.911971294212972e+02 6.3e+00 2.19e-09  8e-10  1e-09 0:08.9\n",
      "Iterat #Fevals   function value  axis ratio  sigma  min&max std  t[m:s]\n",
      " 1100  14300 4.911971294212981e+02 7.7e+00 1.98e-09  7e-10  1e-09 0:09.8\n",
      " 1200  15600 4.911971294213008e+02 9.2e+00 1.14e-09  4e-10  8e-10 0:10.7\n",
      " 1300  16900 4.911971294213045e+02 1.2e+01 1.04e-09  4e-10  7e-10 0:11.6\n",
      " 1330  17290 4.911971294213035e+02 1.2e+01 9.38e-10  3e-10  6e-10 0:11.8\n",
      "termination on tolstagnation=1061 (Mon Apr 13 13:14:31 2020)\n",
      "final/bestever f-value = 4.911971e+02 4.911971e+02\n",
      "incumbent solution: [-0.03480841  0.08888245 -0.08279111 -0.03537028 -0.27922571  0.20285759\n",
      " -0.04041531  0.01401394 ...]\n",
      "std deviations: [3.87251592e-10 5.32786299e-10 4.01775401e-10 6.29855936e-10\n",
      " 3.83470562e-10 4.43596639e-10 4.67787062e-10 5.44728141e-10 ...]\n",
      "(6_w,13)-aCMA-ES (mu_w=4.0,w_1=38%) in dimension 25 (seed=943976, Mon Apr 13 13:14:31 2020)\n",
      "Iterat #Fevals   function value  axis ratio  sigma  min&max std  t[m:s]\n",
      "    1     13 4.579682411115042e+03 1.0e+00 1.24e-01  1e-01  1e-01 0:00.0\n",
      "    2     26 4.092404974010734e+03 1.1e+00 1.25e-01  1e-01  1e-01 0:00.0\n",
      "    3     39 3.287448929120776e+03 1.2e+00 1.26e-01  1e-01  1e-01 0:00.0\n"
     ]
    },
    {
     "name": "stderr",
     "output_type": "stream",
     "text": [
      "/usr/local/lib/python3.6/dist-packages/cma/utilities/utils.py:333: UserWarning: function_values is not a list of scalars,\n",
      "                        the first element equals [6584.45595852] with non-scalar type <class 'numpy.ndarray'>.\n",
      "                        Using now ``[v[0] for v in function_values]`` instead (further warnings are suppressed) ()\n",
      "  ')')\n",
      "/usr/local/lib/python3.6/dist-packages/cma/utilities/utils.py:333: UserWarning: function_values is not a list of scalars,\n",
      "                        the first element equals [4333.19032912] with non-scalar type <class 'numpy.ndarray'>.\n",
      "                        Using now ``[v[0] for v in function_values]`` instead (further warnings are suppressed) ()\n",
      "  ')')\n"
     ]
    },
    {
     "name": "stdout",
     "output_type": "stream",
     "text": [
      "   76    988 -3.938393982455899e+09 1.8e+00 1.22e+02  1e+02  1e+02 0:01.1\n",
      "termination on tolfacupx=1000.0 (Mon Apr 13 13:14:32 2020)\n",
      "final/bestever f-value = -3.873633e+09 -3.938394e+09\n",
      "incumbent solution: [-130.41786515 -269.84495833  429.47231664  225.41931457 -112.1213723\n",
      " -260.57748536  256.17916635  229.34609158 ...]\n",
      "std deviations: [109.83315342 116.329772   118.81623497 110.7047926  113.75584591\n",
      " 109.81651813 111.91718827 126.52000324 ...]\n",
      "Run : 28\n",
      "(6_w,13)-aCMA-ES (mu_w=4.0,w_1=38%) in dimension 25 (seed=854483, Mon Apr 13 13:14:33 2020)\n",
      "Iterat #Fevals   function value  axis ratio  sigma  min&max std  t[m:s]\n",
      "    1     13 6.482859716510101e+03 1.0e+00 1.21e-01  1e-01  1e-01 0:00.0\n",
      "    2     26 6.482859326410079e+03 1.1e+00 1.19e-01  1e-01  1e-01 0:00.0\n",
      "    3     39 6.482708179327959e+03 1.1e+00 1.19e-01  1e-01  1e-01 0:00.0\n"
     ]
    },
    {
     "name": "stderr",
     "output_type": "stream",
     "text": [
      "/usr/local/lib/python3.6/dist-packages/cma/utilities/utils.py:333: UserWarning: function_values is not a list of scalars,\n",
      "                        the first element equals [6482.8915069] with non-scalar type <class 'numpy.ndarray'>.\n",
      "                        Using now ``[v[0] for v in function_values]`` instead (further warnings are suppressed) ()\n",
      "  ')')\n",
      "/usr/local/lib/python3.6/dist-packages/cma/utilities/utils.py:333: UserWarning: function_values is not a list of scalars,\n",
      "                        the first element equals [6482.8791853] with non-scalar type <class 'numpy.ndarray'>.\n",
      "                        Using now ``[v[0] for v in function_values]`` instead (further warnings are suppressed) ()\n",
      "  ')')\n"
     ]
    },
    {
     "name": "stdout",
     "output_type": "stream",
     "text": [
      "  100   1300 -7.253491566889188e+02 1.9e+00 1.89e-02  2e-02  2e-02 0:01.1\n",
      "  200   2600 -7.900106934475407e+02 2.0e+00 3.11e-04  2e-04  3e-04 0:02.1\n",
      "  300   3900 -7.900295986600850e+02 2.2e+00 8.22e-06  5e-06  7e-06 0:03.2\n",
      "  400   5200 -7.900296071256889e+02 2.2e+00 1.06e-07  5e-08  7e-08 0:04.3\n",
      "  500   6500 -7.900296071267139e+02 2.4e+00 3.48e-09  1e-09  2e-09 0:05.4\n",
      "  526   6838 -7.900296071267157e+02 2.7e+00 1.87e-09  8e-10  1e-09 0:05.7\n",
      "termination on tolfun=1e-11 (Mon Apr 13 13:14:40 2020)\n",
      "final/bestever f-value = -7.900296e+02 -7.900296e+02\n",
      "incumbent solution: [-0.00982798  0.07743961 -0.05328936 -0.04366305 -0.25058487  0.22432777\n",
      " -0.00688878 -0.00087847 ...]\n",
      "std deviations: [9.54006100e-10 1.02324031e-09 8.18083378e-10 1.04843945e-09\n",
      " 8.64986506e-10 8.76845160e-10 8.95530631e-10 1.05574537e-09 ...]\n",
      "(6_w,13)-aCMA-ES (mu_w=4.0,w_1=38%) in dimension 25 (seed=889843, Mon Apr 13 13:14:40 2020)\n",
      "Iterat #Fevals   function value  axis ratio  sigma  min&max std  t[m:s]\n",
      "    1     13 6.139185153921580e+03 1.0e+00 1.19e-01  1e-01  1e-01 0:00.0\n",
      "    2     26 6.139069765094714e+03 1.1e+00 1.12e-01  1e-01  1e-01 0:00.0\n",
      "    3     39 6.138940947818077e+03 1.1e+00 1.08e-01  1e-01  1e-01 0:00.0\n"
     ]
    },
    {
     "name": "stderr",
     "output_type": "stream",
     "text": [
      "/usr/local/lib/python3.6/dist-packages/cma/utilities/utils.py:333: UserWarning: function_values is not a list of scalars,\n",
      "                        the first element equals [6139.51289785] with non-scalar type <class 'numpy.ndarray'>.\n",
      "                        Using now ``[v[0] for v in function_values]`` instead (further warnings are suppressed) ()\n",
      "  ')')\n",
      "/usr/local/lib/python3.6/dist-packages/cma/utilities/utils.py:333: UserWarning: function_values is not a list of scalars,\n",
      "                        the first element equals [6139.36990955] with non-scalar type <class 'numpy.ndarray'>.\n",
      "                        Using now ``[v[0] for v in function_values]`` instead (further warnings are suppressed) ()\n",
      "  ')')\n"
     ]
    },
    {
     "name": "stdout",
     "output_type": "stream",
     "text": [
      "  100   1300 5.099371529513028e+02 1.7e+00 1.07e-02  9e-03  1e-02 0:00.9\n",
      "  200   2600 4.911992904568733e+02 2.0e+00 1.24e-04  8e-05  1e-04 0:01.8\n",
      "  300   3900 4.911971297195769e+02 2.3e+00 1.88e-06  1e-06  1e-06 0:02.6\n",
      "  400   5200 4.911971294213381e+02 2.6e+00 2.92e-08  1e-08  2e-08 0:03.5\n",
      "  500   6500 4.911971294212954e+02 3.0e+00 3.22e-09  1e-09  2e-09 0:04.4\n",
      "  600   7800 4.911971294213054e+02 3.7e+00 2.52e-09  1e-09  2e-09 0:05.3\n",
      "  700   9100 4.911971294213008e+02 4.9e+00 2.43e-09  1e-09  2e-09 0:06.1\n",
      "  800  10400 4.911971294212999e+02 6.2e+00 2.45e-09  9e-10  2e-09 0:07.0\n",
      "  900  11700 4.911971294212990e+02 6.9e+00 2.17e-09  8e-10  1e-09 0:07.9\n",
      " 1000  13000 4.911971294212972e+02 6.9e+00 2.83e-09  1e-09  2e-09 0:08.8\n",
      "Iterat #Fevals   function value  axis ratio  sigma  min&max std  t[m:s]\n",
      " 1100  14300 4.911971294213035e+02 7.5e+00 2.33e-09  8e-10  1e-09 0:09.7\n",
      " 1200  15600 4.911971294212972e+02 8.7e+00 1.39e-09  4e-10  8e-10 0:10.5\n",
      " 1300  16900 4.911971294212963e+02 1.2e+01 2.28e-09  7e-10  1e-09 0:11.5\n",
      " 1400  18200 4.911971294212981e+02 1.2e+01 3.26e-09  1e-09  2e-09 0:12.3\n",
      " 1500  19500 4.911971294212990e+02 1.3e+01 2.94e-09  8e-10  2e-09 0:13.3\n",
      "termination on tolstagnation=1061 (Mon Apr 13 13:14:57 2020)\n",
      "final/bestever f-value = 4.911971e+02 4.911971e+02\n",
      "incumbent solution: [-0.03480841  0.08888246 -0.0827911  -0.03537029 -0.2792257   0.20285759\n",
      " -0.04041532  0.01401394 ...]\n",
      "std deviations: [1.32758486e-09 9.78959740e-10 8.45559625e-10 1.15690057e-09\n",
      " 1.14546128e-09 1.48607881e-09 1.11280195e-09 1.54006026e-09 ...]\n",
      "(6_w,13)-aCMA-ES (mu_w=4.0,w_1=38%) in dimension 25 (seed=964647, Mon Apr 13 13:14:57 2020)\n",
      "Iterat #Fevals   function value  axis ratio  sigma  min&max std  t[m:s]\n",
      "    1     13 1.185653844218120e+04 1.0e+00 1.18e-01  1e-01  1e-01 0:00.0\n",
      "    2     26 1.000411683937607e+04 1.1e+00 1.14e-01  1e-01  1e-01 0:00.0\n",
      "    3     39 8.638661647720908e+03 1.1e+00 1.16e-01  1e-01  1e-01 0:00.0\n"
     ]
    },
    {
     "name": "stderr",
     "output_type": "stream",
     "text": [
      "/usr/local/lib/python3.6/dist-packages/cma/utilities/utils.py:333: UserWarning: function_values is not a list of scalars,\n",
      "                        the first element equals [15557.1812912] with non-scalar type <class 'numpy.ndarray'>.\n",
      "                        Using now ``[v[0] for v in function_values]`` instead (further warnings are suppressed) ()\n",
      "  ')')\n",
      "/usr/local/lib/python3.6/dist-packages/cma/utilities/utils.py:333: UserWarning: function_values is not a list of scalars,\n",
      "                        the first element equals [10004.11683938] with non-scalar type <class 'numpy.ndarray'>.\n",
      "                        Using now ``[v[0] for v in function_values]`` instead (further warnings are suppressed) ()\n",
      "  ')')\n"
     ]
    },
    {
     "name": "stdout",
     "output_type": "stream",
     "text": [
      "   75    975 -3.277058776552767e+09 2.2e+00 1.19e+02  1e+02  1e+02 0:01.0\n",
      "termination on tolfacupx=1000.0 (Mon Apr 13 13:14:59 2020)\n",
      "final/bestever f-value = -3.295328e+09 -3.295328e+09\n",
      "incumbent solution: [-363.72289043 -534.09684715  416.17847063  334.18604318 -186.06465554\n",
      " -170.78773889   12.29278772  243.64236095 ...]\n",
      "std deviations: [115.88556032 140.08563775 109.16016567 111.47433802 107.91724716\n",
      " 114.80626274 117.90385697 114.29563925 ...]\n",
      "Run : 29\n",
      "(6_w,13)-aCMA-ES (mu_w=4.0,w_1=38%) in dimension 25 (seed=844342, Mon Apr 13 13:14:59 2020)\n",
      "Iterat #Fevals   function value  axis ratio  sigma  min&max std  t[m:s]\n",
      "    1     13 6.482878856196975e+03 1.0e+00 1.21e-01  1e-01  1e-01 0:00.0\n",
      "    2     26 6.482874342001931e+03 1.1e+00 1.17e-01  1e-01  1e-01 0:00.0\n",
      "    3     39 6.482864267093765e+03 1.1e+00 1.17e-01  1e-01  1e-01 0:00.0\n"
     ]
    },
    {
     "name": "stderr",
     "output_type": "stream",
     "text": [
      "/usr/local/lib/python3.6/dist-packages/cma/utilities/utils.py:333: UserWarning: function_values is not a list of scalars,\n",
      "                        the first element equals [6482.8788562] with non-scalar type <class 'numpy.ndarray'>.\n",
      "                        Using now ``[v[0] for v in function_values]`` instead (further warnings are suppressed) ()\n",
      "  ')')\n",
      "/usr/local/lib/python3.6/dist-packages/cma/utilities/utils.py:333: UserWarning: function_values is not a list of scalars,\n",
      "                        the first element equals [6482.8825945] with non-scalar type <class 'numpy.ndarray'>.\n",
      "                        Using now ``[v[0] for v in function_values]`` instead (further warnings are suppressed) ()\n",
      "  ')')\n"
     ]
    },
    {
     "name": "stdout",
     "output_type": "stream",
     "text": [
      "  100   1300 -7.483462574153646e+02 1.9e+00 1.08e-02  9e-03  1e-02 0:01.1\n",
      "  200   2600 -7.900197943811809e+02 2.1e+00 2.08e-04  1e-04  2e-04 0:02.2\n",
      "  300   3900 -7.900296029922756e+02 2.3e+00 4.96e-06  3e-06  4e-06 0:03.3\n",
      "  400   5200 -7.900296071263210e+02 2.5e+00 6.77e-08  3e-08  5e-08 0:04.4\n",
      "  500   6500 -7.900296071267130e+02 2.9e+00 2.54e-09  1e-09  1e-09 0:05.4\n",
      "  518   6734 -7.900296071267148e+02 3.0e+00 2.58e-09  1e-09  2e-09 0:05.6\n",
      "termination on tolfun=1e-11 (Mon Apr 13 13:15:06 2020)\n",
      "final/bestever f-value = -7.900296e+02 -7.900296e+02\n",
      "incumbent solution: [-0.00982798  0.07743961 -0.05328936 -0.04366306 -0.25058487  0.22432777\n",
      " -0.00688878 -0.00087847 ...]\n",
      "std deviations: [1.37563560e-09 1.34866905e-09 1.11210505e-09 1.32790974e-09\n",
      " 1.14684480e-09 1.27600789e-09 1.32608769e-09 1.36674262e-09 ...]\n",
      "(6_w,13)-aCMA-ES (mu_w=4.0,w_1=38%) in dimension 25 (seed=907191, Mon Apr 13 13:15:06 2020)\n",
      "Iterat #Fevals   function value  axis ratio  sigma  min&max std  t[m:s]\n",
      "    1     13 6.139403942974792e+03 1.0e+00 1.20e-01  1e-01  1e-01 0:00.0\n",
      "    2     26 6.138932499773916e+03 1.1e+00 1.15e-01  1e-01  1e-01 0:00.0\n",
      "    3     39 6.138789704591836e+03 1.1e+00 1.11e-01  1e-01  1e-01 0:00.0\n"
     ]
    },
    {
     "name": "stderr",
     "output_type": "stream",
     "text": [
      "/usr/local/lib/python3.6/dist-packages/cma/utilities/utils.py:333: UserWarning: function_values is not a list of scalars,\n",
      "                        the first element equals [6139.47856802] with non-scalar type <class 'numpy.ndarray'>.\n",
      "                        Using now ``[v[0] for v in function_values]`` instead (further warnings are suppressed) ()\n",
      "  ')')\n",
      "/usr/local/lib/python3.6/dist-packages/cma/utilities/utils.py:333: UserWarning: function_values is not a list of scalars,\n",
      "                        the first element equals [6139.40114554] with non-scalar type <class 'numpy.ndarray'>.\n",
      "                        Using now ``[v[0] for v in function_values]`` instead (further warnings are suppressed) ()\n",
      "  ')')\n"
     ]
    },
    {
     "name": "stdout",
     "output_type": "stream",
     "text": [
      "  100   1300 5.005257021315001e+02 1.7e+00 8.08e-03  7e-03  8e-03 0:00.9\n",
      "  200   2600 4.911986107775892e+02 1.9e+00 1.28e-04  8e-05  1e-04 0:01.8\n",
      "  300   3900 4.911971296309857e+02 2.2e+00 1.44e-06  7e-07  1e-06 0:02.7\n",
      "  400   5200 4.911971294213308e+02 2.3e+00 2.00e-08  9e-09  1e-08 0:03.6\n",
      "  500   6500 4.911971294213045e+02 2.8e+00 4.54e-09  2e-09  3e-09 0:04.5\n",
      "  600   7800 4.911971294212981e+02 3.2e+00 3.02e-09  1e-09  2e-09 0:05.4\n",
      "  700   9100 4.911971294213008e+02 3.7e+00 2.57e-09  1e-09  1e-09 0:06.3\n",
      "  800  10400 4.911971294212990e+02 4.5e+00 9.52e-10  3e-10  6e-10 0:07.2\n",
      "  884  11492 4.911971294212999e+02 4.9e+00 7.29e-10  3e-10  4e-10 0:07.9\n",
      "termination on tolfun=1e-11 (Mon Apr 13 13:15:16 2020)\n",
      "final/bestever f-value = 4.911971e+02 4.911971e+02\n",
      "incumbent solution: [-0.03480841  0.08888245 -0.08279111 -0.03537029 -0.27922571  0.20285759\n",
      " -0.04041531  0.01401394 ...]\n",
      "std deviations: [3.52161066e-10 3.28248955e-10 3.28931886e-10 3.08632269e-10\n",
      " 3.08869316e-10 3.55543673e-10 4.05307609e-10 3.50715405e-10 ...]\n",
      "(6_w,13)-aCMA-ES (mu_w=4.0,w_1=38%) in dimension 25 (seed=930331, Mon Apr 13 13:15:16 2020)\n",
      "Iterat #Fevals   function value  axis ratio  sigma  min&max std  t[m:s]\n",
      "    1     13 4.813579833215900e+03 1.0e+00 1.23e-01  1e-01  1e-01 0:00.0\n",
      "    2     26 4.763044831391288e+03 1.1e+00 1.20e-01  1e-01  1e-01 0:00.0\n",
      "    3     39 4.356704626086233e+03 1.1e+00 1.22e-01  1e-01  1e-01 0:00.0\n"
     ]
    },
    {
     "name": "stderr",
     "output_type": "stream",
     "text": [
      "/usr/local/lib/python3.6/dist-packages/cma/utilities/utils.py:333: UserWarning: function_values is not a list of scalars,\n",
      "                        the first element equals [6256.7166613] with non-scalar type <class 'numpy.ndarray'>.\n",
      "                        Using now ``[v[0] for v in function_values]`` instead (further warnings are suppressed) ()\n",
      "  ')')\n",
      "/usr/local/lib/python3.6/dist-packages/cma/utilities/utils.py:333: UserWarning: function_values is not a list of scalars,\n",
      "                        the first element equals [6886.18859152] with non-scalar type <class 'numpy.ndarray'>.\n",
      "                        Using now ``[v[0] for v in function_values]`` instead (further warnings are suppressed) ()\n",
      "  ')')\n"
     ]
    },
    {
     "name": "stdout",
     "output_type": "stream",
     "text": [
      "   67    871 -2.780204815057489e+09 2.1e+00 1.04e+02  9e+01  1e+02 0:00.9\n",
      "termination on tolfacupx=1000.0 (Mon Apr 13 13:15:17 2020)\n",
      "final/bestever f-value = -2.639603e+09 -2.780205e+09\n",
      "incumbent solution: [ 162.45753847 -453.59252412  359.99106326   74.05321665  -25.98986039\n",
      " -106.70542094    6.11938797  -14.60812402 ...]\n",
      "std deviations: [ 97.49593681 104.84158958  96.60735693 103.04911365  94.28971425\n",
      "  97.10648425  99.41756195  94.60889098 ...]\n"
     ]
    }
   ],
   "source": [
    "Columns = ['Kri' , 'SVR' , 'ELN' ]\n",
    "Cols = []\n",
    "for j in range(len(Columns)):\n",
    "    for i in range(1,26):\n",
    "        Cols.append(Columns[j]+'_Z'+str(i))\n",
    "\n",
    "opt = cma.CMAOptions()\n",
    "opt.set (\"seed\" , 0)\n",
    "opt.set (\"maxfevals\" , 25000)\n",
    "\n",
    "n_obs , dim =  30, 25\n",
    "G = DOE(n_obs, dim)\n",
    "G = [ G[idx].reshape(n_obs,1) for idx in range(len(G)) ]\n",
    "X_Values = np.zeros([30,75])\n",
    "for i in range(G[1].shape[0]):\n",
    "    print ('Run : '+ str(i))\n",
    "    min_kri = cma.fmin(predict_kri , np.concatenate(G, 1)[i] , 0.1278 , options=opt) [0]\n",
    "    min_svr = cma.fmin(predict_svr , np.concatenate(G, 1)[i] , 0.1278 , options=opt) [0]\n",
    "    min_eln = cma.fmin(predict_eln , np.concatenate(G, 1)[i] , 0.1278 , options=opt) [0]\n",
    "    X_Values [i,:] = list(min_kri)+list(min_svr)+list(min_eln)"
   ]
  },
  {
   "cell_type": "code",
   "execution_count": 7,
   "metadata": {
    "colab": {
     "base_uri": "https://localhost:8080/",
     "height": 121
    },
    "colab_type": "code",
    "id": "9SYW02OkZ6MM",
    "outputId": "4878a5be-159a-40b1-f29c-a88c923b1e36"
   },
   "outputs": [
    {
     "name": "stdout",
     "output_type": "stream",
     "text": [
      "Kriging\n",
      "ModeResult(mode=array([1675.22633051]), count=array([1])) 151.03726192440234\n",
      "SVM\n",
      "ModeResult(mode=array([1674.7038684]), count=array([1])) 3.955140976365404e-06\n",
      "ELN\n",
      "ModeResult(mode=array([3.79850113e+20]), count=array([1])) 8.164452112764524e+40\n"
     ]
    }
   ],
   "source": [
    "X_Values = pd.DataFrame(X_Values)\n",
    "X_Values.columns = Cols\n",
    "X_Values.to_csv('F3_X_Values.csv')\n",
    "Krig_Fun = np.zeros(30)\n",
    "SVM_Fun = np.zeros(30)\n",
    "ELN_Fun = np.zeros(30)\n",
    "for i in range(X_Values.shape[0]):\n",
    "    Krig_Fun [i] = F3(X_Values.iloc[i,:25])\n",
    "    SVM_Fun [i] = F3(X_Values.iloc[i,25:50])\n",
    "    ELN_Fun [i] = F3(X_Values.iloc[i,50:75])\n",
    "print ('Kriging')\n",
    "print (stats.mode(Krig_Fun) , np.std(Krig_Fun))\n",
    "print ('SVM')\n",
    "print (stats.mode(SVM_Fun) , np.std(SVM_Fun))\n",
    "print ('ELN')\n",
    "print (stats.mode(ELN_Fun) , np.std(ELN_Fun))"
   ]
  }
 ],
 "metadata": {
  "colab": {
   "collapsed_sections": [],
   "name": "F3.ipynb",
   "provenance": []
  },
  "kernelspec": {
   "display_name": "Python 3",
   "language": "python",
   "name": "python3"
  },
  "language_info": {
   "codemirror_mode": {
    "name": "ipython",
    "version": 3
   },
   "file_extension": ".py",
   "mimetype": "text/x-python",
   "name": "python",
   "nbconvert_exporter": "python",
   "pygments_lexer": "ipython3",
   "version": "3.7.0"
  }
 },
 "nbformat": 4,
 "nbformat_minor": 1
}
