{
  "nbformat": 4,
  "nbformat_minor": 0,
  "metadata": {
    "kernelspec": {
      "name": "python3",
      "display_name": "Python 3"
    },
    "language_info": {
      "codemirror_mode": {
        "name": "ipython",
        "version": 3
      },
      "file_extension": ".py",
      "mimetype": "text/x-python",
      "name": "python",
      "nbconvert_exporter": "python",
      "pygments_lexer": "ipython3",
      "version": "3.7.0"
    },
    "colab": {
      "name": "F7.ipynb",
      "provenance": [],
      "collapsed_sections": []
    }
  },
  "cells": [
    {
      "cell_type": "code",
      "metadata": {
        "id": "6zkV22S_a51g",
        "colab_type": "code",
        "outputId": "45449e19-0c49-4d02-c3f7-db2c8c4cc5ea",
        "colab": {
          "base_uri": "https://localhost:8080/",
          "height": 315
        }
      },
      "source": [
        "!pip install pyDOE\n",
        "!pip install cma\n"
      ],
      "execution_count": 1,
      "outputs": [
        {
          "output_type": "stream",
          "text": [
            "Collecting pyDOE\n",
            "  Downloading https://files.pythonhosted.org/packages/bc/ac/91fe4c039e2744466621343d3b8af4a485193ed0aab53af5b1db03be0989/pyDOE-0.3.8.zip\n",
            "Requirement already satisfied: numpy in /usr/local/lib/python3.6/dist-packages (from pyDOE) (1.18.2)\n",
            "Requirement already satisfied: scipy in /usr/local/lib/python3.6/dist-packages (from pyDOE) (1.4.1)\n",
            "Building wheels for collected packages: pyDOE\n",
            "  Building wheel for pyDOE (setup.py) ... \u001b[?25l\u001b[?25hdone\n",
            "  Created wheel for pyDOE: filename=pyDOE-0.3.8-cp36-none-any.whl size=18178 sha256=bc086a417f7471e8fadbc086be861fca6c6656e46acb105b8962b281721dd273\n",
            "  Stored in directory: /root/.cache/pip/wheels/7c/c8/58/a6493bd415e8ba5735082b5e0c096d7c1f2933077a8ce34544\n",
            "Successfully built pyDOE\n",
            "Installing collected packages: pyDOE\n",
            "Successfully installed pyDOE-0.3.8\n",
            "Collecting cma\n",
            "\u001b[?25l  Downloading https://files.pythonhosted.org/packages/b9/3b/87a4efbcfeaf3172d81ef843f0b0c34c3ba60ec884aa6777f34f68b57418/cma-2.7.0-py2.py3-none-any.whl (239kB)\n",
            "\u001b[K     |████████████████████████████████| 245kB 5.0MB/s \n",
            "\u001b[?25hInstalling collected packages: cma\n",
            "Successfully installed cma-2.7.0\n"
          ],
          "name": "stdout"
        }
      ]
    },
    {
      "cell_type": "code",
      "metadata": {
        "id": "-SLdZF_crfs5",
        "colab_type": "code",
        "colab": {}
      },
      "source": [
        ""
      ],
      "execution_count": 0,
      "outputs": []
    },
    {
      "cell_type": "code",
      "metadata": {
        "id": "G7KSBbE6rjkt",
        "colab_type": "code",
        "colab": {}
      },
      "source": [
        ""
      ],
      "execution_count": 0,
      "outputs": []
    },
    {
      "cell_type": "code",
      "metadata": {
        "id": "gtM9rgADZ6Ly",
        "colab_type": "code",
        "colab": {}
      },
      "source": [
        "import pyDOE\n",
        "from scipy import stats\n",
        "import pandas as pd\n",
        "import numpy as np\n",
        "from scipy.optimize import minimize\n",
        "from scipy.optimize import Bounds\n",
        "from collections import namedtuple\n",
        "import cma\n",
        "from sklearn.preprocessing import MinMaxScaler\n",
        "import scipy.stats.distributions as dist\n",
        "from sklearn.gaussian_process import GaussianProcessRegressor\n",
        "from sklearn.gaussian_process.kernels import RBF, ConstantKernel as C\n",
        "from sklearn.gaussian_process.kernels import DotProduct\n",
        "from sklearn.model_selection import train_test_split\n",
        "from sklearn import preprocessing\n",
        "from sklearn.neighbors import KNeighborsRegressor\n",
        "from sklearn.svm import SVR\n",
        "from sklearn.linear_model import ElasticNet\n",
        "from sklearn.preprocessing import PolynomialFeatures\n",
        "import bbobbenchmarks as bn\n",
        "import sklearn"
      ],
      "execution_count": 0,
      "outputs": []
    },
    {
      "cell_type": "markdown",
      "metadata": {
        "id": "yl7hfUygZ6L3",
        "colab_type": "text"
      },
      "source": [
        "## Surrogate Models & Helper Functions"
      ]
    },
    {
      "cell_type": "code",
      "metadata": {
        "id": "7laVf7KtZ6L3",
        "colab_type": "code",
        "colab": {}
      },
      "source": [
        "ValueRange = namedtuple('ValueRange', ['min', 'max'])\n",
        "\n",
        "def determinerange(values):\n",
        "    \"\"\"Determine the range of values in each dimension\"\"\"\n",
        "    return ValueRange(np.min(values, axis=0), np.max(values, axis=0))\n",
        "\n",
        "\n",
        "def linearscaletransform(values, *, range_in=None, range_out=ValueRange(0, 1), scale_only=False):\n",
        "    \"\"\"Perform a scale transformation of `values`: [range_in] --> [range_out]\"\"\"\n",
        "\n",
        "    if range_in is None:\n",
        "        range_in = determinerange(values)\n",
        "    elif not isinstance(range_in, ValueRange):\n",
        "        range_in = ValueRange(*range_in)\n",
        "\n",
        "    if not isinstance(range_out, ValueRange):\n",
        "        range_out = ValueRange(*range_out)\n",
        "\n",
        "    scale_out = range_out.max - range_out.min\n",
        "    scale_in = range_in.max - range_in.min\n",
        "\n",
        "    if scale_only:\n",
        "        scaled_values = (values / scale_in) * scale_out\n",
        "    else:\n",
        "        scaled_values = (values - range_in.min) / scale_in\n",
        "        scaled_values = (scaled_values * scale_out) + range_out.min\n",
        "\n",
        "    return scaled_values\n",
        "\n",
        "\n",
        "''' F7 '''\n",
        "def F7(X):\n",
        "    f = bn.F7()\n",
        "    X = np.array(X)\n",
        "    return f(X)\n",
        "\n",
        "''' Latin HyperCube Sampling Design of Experiment '''\n",
        "def DOE(n_obs, dim):\n",
        "    np.random.seed(0)\n",
        "    lhd = pyDOE.lhs(n=dim, samples=n_obs, criterion='m')\n",
        "    X = [lhd[:,idx] for idx in range(dim)]\n",
        "    return X\n",
        "\n",
        "def create_basis_function(data):\n",
        "    true = np.array(data['Y'])\n",
        "    data = pd.DataFrame(np.atleast_2d(PolynomialFeatures(degree=2).fit_transform(data.iloc[:,:-1])))\n",
        "    data['Y'] = pd.Series(true)\n",
        "    return data\n",
        "\n",
        "''' Create Basis Functions '''\n",
        "def create_function_basis(x):\n",
        "    return np.atleast_2d(PolynomialFeatures(degree=2).fit_transform(x.reshape(1,-1)))\n",
        "      \n",
        "\n",
        "''' Elastic Net Regression '''\n",
        "def elastic_net(train_data,test_data):\n",
        "    scaler =  MinMaxScaler().fit(np.r_[train_data.iloc[:,:-1].values])\n",
        "    regr = ElasticNet(alpha= 0.33 ,random_state=0 , l1_ratio= 0.985 , fit_intercept =True, max_iter=3000,selection='random').fit(scaler.transform ( np.array(train_data.iloc[:,:-1])) ,  np.array(train_data.iloc[:,-1]))\n",
        "    pred = regr.predict(scaler.transform(test_data))\n",
        "    def predict(scaler, regr):\n",
        "        def __predict__(x):\n",
        "            x = create_function_basis(x)\n",
        "            return regr.predict(scaler.transform(x))\n",
        "        return __predict__\n",
        "    return regr,pred, predict(scaler, regr)\n",
        "    \n",
        "\n",
        "''' Kriging'''\n",
        "def kriging(train_data,test_data):\n",
        "    kernel =  RBF()\n",
        "    scaler = MinMaxScaler().fit(np.r_[train_data.iloc[:,:-1].values])\n",
        "    gpr = GaussianProcessRegressor(kernel=kernel,n_restarts_optimizer= 15,random_state=0,\n",
        "                                   normalize_y=True ).fit(scaler.transform(train_data.iloc[:,:-1]), train_data.iloc[:,-1])\n",
        "    pred = gpr.predict(scaler.transform(test_data))\n",
        "    def predict(scaler, gpr):\n",
        "        def __predict__(x):\n",
        "            x = np.atleast_2d(x)\n",
        "            return gpr.predict(scaler.transform(x))\n",
        "        return __predict__\n",
        "    return gpr,pred, predict(scaler,gpr)\n",
        "\n",
        "''' Support Vector Regression'''\n",
        "def _SVR(train_data,test_data):\n",
        "    scaler = MinMaxScaler().fit(np.r_[train_data.iloc[:,:-1].values])\n",
        "    gpr = sklearn.svm.SVR(kernel='rbf', gamma = 4.96 , C = 1000.000000 ,max_iter=1500).fit( scaler.transform(train_data.iloc[:,:-1]), train_data.iloc[:,-1])\n",
        "    pred = gpr.predict(scaler.transform(test_data))\n",
        "    def predict(scaler, gpr):\n",
        "        def __predict__(x):\n",
        "            x = np.atleast_2d(x)\n",
        "            return gpr.predict(scaler.transform(x))\n",
        "        return __predict__\n",
        "    return gpr,pred, predict(scaler,gpr)"
      ],
      "execution_count": 0,
      "outputs": []
    },
    {
      "cell_type": "markdown",
      "metadata": {
        "id": "s5Dro9woZ6L7",
        "colab_type": "text"
      },
      "source": [
        "## Load Training and Test Data Set initially Generated"
      ]
    },
    {
      "cell_type": "code",
      "metadata": {
        "id": "j9jwRavXZ6L8",
        "colab_type": "code",
        "colab": {}
      },
      "source": [
        "path = \"train_7_1000Samples.csv\"\n",
        "train_y = pd.read_csv(path).iloc[:,-1]\n",
        "test_y = pd.read_csv('test_7_200Samples.csv').iloc[:,-1]\n",
        "path = \"train_latent_50D.csv\"\n",
        "train = pd.read_csv(path, index_col = 0)\n",
        "test = pd.read_csv('test_latent_50D.csv', index_col = 0)\n",
        "train ['Y'] = train_y\n",
        "test ['Y'] = test_y\n",
        "del train_y\n",
        "del test_y\n",
        "true = np.array(test['Y'])"
      ],
      "execution_count": 0,
      "outputs": []
    },
    {
      "cell_type": "markdown",
      "metadata": {
        "id": "c1az15PJZ6MA",
        "colab_type": "text"
      },
      "source": [
        "## Surrogate Models"
      ]
    },
    {
      "cell_type": "code",
      "metadata": {
        "id": "Fw-8Jpm1Z6MA",
        "colab_type": "code",
        "colab": {}
      },
      "source": [
        "model_kri , pred_kri , predict_kri = kriging(train,test.iloc[:,:-1])\n",
        "model_svr , pred_svr , predict_svr = _SVR(train,test.iloc[:,:-1])\n",
        "train = create_basis_function(train)\n",
        "test = create_basis_function(test)\n",
        "model_eln , pred_eln , predict_eln = elastic_net(train,test.iloc[:,:-1])"
      ],
      "execution_count": 0,
      "outputs": []
    },
    {
      "cell_type": "markdown",
      "metadata": {
        "id": "ehujGygVZ6ME",
        "colab_type": "text"
      },
      "source": [
        "## CMA-ES"
      ]
    },
    {
      "cell_type": "code",
      "metadata": {
        "id": "eTYv39UzZ6MF",
        "colab_type": "code",
        "outputId": "459abf0d-6baf-4488-cc95-5f0e0f185f07",
        "colab": {
          "base_uri": "https://localhost:8080/",
          "height": 1000
        }
      },
      "source": [
        "Columns = ['Kri' , 'SVR' , 'ELN' ]\n",
        "Cols = []\n",
        "for j in range(len(Columns)):\n",
        "    for i in range(1,26):\n",
        "        Cols.append(Columns[j]+'_Z'+str(i))\n",
        "\n",
        "opt = cma.CMAOptions()\n",
        "opt.set (\"seed\" , 0)\n",
        "opt.set (\"maxfevals\" , 25000)\n",
        "\n",
        "n_obs , dim =  30, 25\n",
        "G = DOE(n_obs, dim)\n",
        "G = [ G[idx].reshape(n_obs,1) for idx in range(len(G)) ]\n",
        "X_Values = np.zeros([30,75])\n",
        "for i in range(G[1].shape[0]):\n",
        "    print ('Run : '+ str(i))\n",
        "    min_kri = cma.fmin(predict_kri , np.concatenate(G, 1)[i] , 0.1278 , options=opt) [0]\n",
        "    min_svr = cma.fmin(predict_svr , np.concatenate(G, 1)[i] , 0.1278 , options=opt) [0]\n",
        "    min_eln = cma.fmin(predict_eln , np.concatenate(G, 1)[i] , 0.1278 , options=opt) [0]\n",
        "    X_Values [i,:] = list(min_kri)+list(min_svr)+list(min_eln)"
      ],
      "execution_count": 6,
      "outputs": [
        {
          "output_type": "stream",
          "text": [
            "Run : 0\n",
            "(6_w,13)-aCMA-ES (mu_w=4.0,w_1=38%) in dimension 25 (seed=894904, Mon Apr 13 13:03:34 2020)\n",
            "Iterat #Fevals   function value  axis ratio  sigma  min&max std  t[m:s]\n",
            "    1     13 8.659182270949599e+03 1.0e+00 1.22e-01  1e-01  1e-01 0:00.0\n",
            "    2     26 8.646658600890816e+03 1.1e+00 1.22e-01  1e-01  1e-01 0:00.0\n",
            "    3     39 8.565543408538369e+03 1.1e+00 1.24e-01  1e-01  1e-01 0:00.0\n"
          ],
          "name": "stdout"
        },
        {
          "output_type": "stream",
          "text": [
            "/usr/local/lib/python3.6/dist-packages/cma/utilities/utils.py:333: UserWarning: function_values is not a list of scalars,\n",
            "                        the first element equals [8723.75984396] with non-scalar type <class 'numpy.ndarray'>.\n",
            "                        Using now ``[v[0] for v in function_values]`` instead (further warnings are suppressed) ()\n",
            "  ')')\n",
            "/usr/local/lib/python3.6/dist-packages/cma/utilities/utils.py:333: UserWarning: function_values is not a list of scalars,\n",
            "                        the first element equals [8703.82137822] with non-scalar type <class 'numpy.ndarray'>.\n",
            "                        Using now ``[v[0] for v in function_values]`` instead (further warnings are suppressed) ()\n",
            "  ')')\n"
          ],
          "name": "stderr"
        },
        {
          "output_type": "stream",
          "text": [
            "  100   1300 -5.652027127986048e+03 1.7e+00 5.47e-03  4e-03  5e-03 0:00.9\n",
            "  200   2600 -5.660926008548695e+03 2.0e+00 1.08e-04  7e-05  9e-05 0:01.8\n",
            "  300   3900 -5.660929617447786e+03 2.2e+00 3.06e-06  2e-06  2e-06 0:02.8\n",
            "  400   5200 -5.660929618682354e+03 2.3e+00 4.36e-08  2e-08  3e-08 0:03.7\n",
            "  500   6500 -5.660929618682700e+03 2.5e+00 1.89e-09  8e-10  1e-09 0:04.6\n",
            "  505   6565 -5.660929618682700e+03 2.5e+00 1.83e-09  8e-10  1e-09 0:04.7\n",
            "termination on tolfun=1e-11 (Mon Apr 13 13:03:40 2020)\n",
            "final/bestever f-value = -5.660930e+03 -5.660930e+03\n",
            "incumbent solution: [-0.10824531  0.0218181   0.23798786 -0.32829555 -0.1673149  -0.17437785\n",
            "  0.09472679  0.11535658 ...]\n",
            "std deviations: [9.41719601e-10 9.19382655e-10 7.81938911e-10 9.41634567e-10\n",
            " 9.15408355e-10 9.51624560e-10 9.37110137e-10 1.12854181e-09 ...]\n",
            "(6_w,13)-aCMA-ES (mu_w=4.0,w_1=38%) in dimension 25 (seed=838506, Mon Apr 13 13:03:40 2020)\n",
            "Iterat #Fevals   function value  axis ratio  sigma  min&max std  t[m:s]\n",
            "    1     13 8.503182869510503e+03 1.0e+00 1.18e-01  1e-01  1e-01 0:00.0\n",
            "    2     26 8.441952524048605e+03 1.1e+00 1.15e-01  1e-01  1e-01 0:00.0\n",
            "    3     39 8.361093513127251e+03 1.1e+00 1.17e-01  1e-01  1e-01 0:00.0\n"
          ],
          "name": "stdout"
        },
        {
          "output_type": "stream",
          "text": [
            "/usr/local/lib/python3.6/dist-packages/cma/utilities/utils.py:333: UserWarning: function_values is not a list of scalars,\n",
            "                        the first element equals [8507.88763528] with non-scalar type <class 'numpy.ndarray'>.\n",
            "                        Using now ``[v[0] for v in function_values]`` instead (further warnings are suppressed) ()\n",
            "  ')')\n",
            "/usr/local/lib/python3.6/dist-packages/cma/utilities/utils.py:333: UserWarning: function_values is not a list of scalars,\n",
            "                        the first element equals [8531.6504423] with non-scalar type <class 'numpy.ndarray'>.\n",
            "                        Using now ``[v[0] for v in function_values]`` instead (further warnings are suppressed) ()\n",
            "  ')')\n"
          ],
          "name": "stderr"
        },
        {
          "output_type": "stream",
          "text": [
            "  100   1300 1.455058291469742e+03 1.8e+00 5.74e-03  5e-03  6e-03 0:00.8\n",
            "  200   2600 1.449131170965396e+03 1.8e+00 7.18e-05  5e-05  6e-05 0:01.6\n",
            "  300   3900 1.449130146839509e+03 1.9e+00 1.30e-06  7e-07  9e-07 0:02.3\n",
            "  400   5200 1.449130146672861e+03 2.1e+00 1.78e-08  9e-09  1e-08 0:03.1\n",
            "  500   6500 1.449130146672826e+03 2.7e+00 4.24e-09  2e-09  3e-09 0:03.9\n",
            "  600   7800 1.449130146672831e+03 3.4e+00 3.89e-09  2e-09  2e-09 0:04.6\n",
            "  700   9100 1.449130146672824e+03 4.2e+00 3.07e-09  1e-09  2e-09 0:05.4\n",
            "  800  10400 1.449130146672823e+03 4.6e+00 2.40e-09  9e-10  2e-09 0:06.2\n",
            "  900  11700 1.449130146672823e+03 5.3e+00 2.29e-09  9e-10  1e-09 0:07.0\n",
            " 1000  13000 1.449130146672823e+03 6.5e+00 8.68e-10  3e-10  5e-10 0:07.7\n",
            "Iterat #Fevals   function value  axis ratio  sigma  min&max std  t[m:s]\n",
            " 1100  14300 1.449130146672822e+03 8.0e+00 1.25e-09  5e-10  8e-10 0:08.5\n",
            " 1200  15600 1.449130146672820e+03 1.0e+01 6.92e-10  2e-10  4e-10 0:09.3\n",
            " 1300  16900 1.449130146672824e+03 1.1e+01 1.09e-09  4e-10  7e-10 0:10.1\n",
            " 1400  18200 1.449130146672818e+03 1.2e+01 1.06e-09  4e-10  7e-10 0:10.8\n",
            " 1500  19500 1.449130146672822e+03 1.2e+01 1.54e-09  5e-10  1e-09 0:11.6\n",
            " 1600  20800 1.449130146672828e+03 1.5e+01 1.52e-09  5e-10  1e-09 0:12.4\n",
            " 1700  22100 1.449130146672827e+03 1.7e+01 2.07e-09  7e-10  1e-09 0:13.1\n",
            " 1800  23400 1.449130146672829e+03 1.7e+01 1.25e-09  4e-10  7e-10 0:13.9\n",
            " 1835  23855 1.449130146672826e+03 1.8e+01 9.54e-10  3e-10  6e-10 0:14.2\n",
            "termination on tolstagnation=1061 (Mon Apr 13 13:03:59 2020)\n",
            "final/bestever f-value = 1.449130e+03 1.449130e+03\n",
            "incumbent solution: [-0.13348988  0.04772924  0.20936674 -0.3089567  -0.13875618 -0.172137\n",
            "  0.2155367   0.14328291 ...]\n",
            "std deviations: [4.48141377e-10 3.78511869e-10 2.93266255e-10 3.80850117e-10\n",
            " 3.49480701e-10 4.34199705e-10 3.90934001e-10 4.80116584e-10 ...]\n",
            "(6_w,13)-aCMA-ES (mu_w=4.0,w_1=38%) in dimension 25 (seed=870403, Mon Apr 13 13:03:59 2020)\n",
            "Iterat #Fevals   function value  axis ratio  sigma  min&max std  t[m:s]\n",
            "    1     13 8.045005510858730e+03 1.0e+00 1.21e-01  1e-01  1e-01 0:00.0\n",
            "    2     26 7.056677720190923e+03 1.1e+00 1.19e-01  1e-01  1e-01 0:00.0\n",
            "    3     39 6.560728704046166e+03 1.1e+00 1.20e-01  1e-01  1e-01 0:00.0\n"
          ],
          "name": "stdout"
        },
        {
          "output_type": "stream",
          "text": [
            "/usr/local/lib/python3.6/dist-packages/cma/utilities/utils.py:333: UserWarning: function_values is not a list of scalars,\n",
            "                        the first element equals [9629.05023009] with non-scalar type <class 'numpy.ndarray'>.\n",
            "                        Using now ``[v[0] for v in function_values]`` instead (further warnings are suppressed) ()\n",
            "  ')')\n",
            "/usr/local/lib/python3.6/dist-packages/cma/utilities/utils.py:333: UserWarning: function_values is not a list of scalars,\n",
            "                        the first element equals [8456.68090731] with non-scalar type <class 'numpy.ndarray'>.\n",
            "                        Using now ``[v[0] for v in function_values]`` instead (further warnings are suppressed) ()\n",
            "  ')')\n"
          ],
          "name": "stderr"
        },
        {
          "output_type": "stream",
          "text": [
            "   59    767 -4.430829829452347e+09 1.8e+00 1.23e+02  1e+02  1e+02 0:00.7\n",
            "termination on tolfacupx=1000.0 (Mon Apr 13 13:04:00 2020)\n",
            "final/bestever f-value = -3.826525e+09 -4.430830e+09\n",
            "incumbent solution: [-111.58825486  -41.16712267  224.01126988 -296.36403512 -180.05002447\n",
            " -181.63932134  152.95819054  -47.3520728  ...]\n",
            "std deviations: [118.37736414 118.22830596 112.59685551 116.96876308 119.91520581\n",
            " 114.4674391  117.81382563 115.17036295 ...]\n",
            "Run : 1\n",
            "(6_w,13)-aCMA-ES (mu_w=4.0,w_1=38%) in dimension 25 (seed=864090, Mon Apr 13 13:04:00 2020)\n",
            "Iterat #Fevals   function value  axis ratio  sigma  min&max std  t[m:s]\n",
            "    1     13 8.717748459654817e+03 1.0e+00 1.20e-01  1e-01  1e-01 0:00.0\n",
            "    2     26 8.715811391596701e+03 1.1e+00 1.17e-01  1e-01  1e-01 0:00.0\n",
            "    3     39 8.712158056566663e+03 1.1e+00 1.19e-01  1e-01  1e-01 0:00.0\n"
          ],
          "name": "stdout"
        },
        {
          "output_type": "stream",
          "text": [
            "/usr/local/lib/python3.6/dist-packages/cma/utilities/utils.py:333: UserWarning: function_values is not a list of scalars,\n",
            "                        the first element equals [8720.16264269] with non-scalar type <class 'numpy.ndarray'>.\n",
            "                        Using now ``[v[0] for v in function_values]`` instead (further warnings are suppressed) ()\n",
            "  ')')\n",
            "/usr/local/lib/python3.6/dist-packages/cma/utilities/utils.py:333: UserWarning: function_values is not a list of scalars,\n",
            "                        the first element equals [8721.85257104] with non-scalar type <class 'numpy.ndarray'>.\n",
            "                        Using now ``[v[0] for v in function_values]`` instead (further warnings are suppressed) ()\n",
            "  ')')\n"
          ],
          "name": "stderr"
        },
        {
          "output_type": "stream",
          "text": [
            "  100   1300 -5.608945537168291e+03 1.7e+00 1.38e-02  1e-02  1e-02 0:00.9\n",
            "  200   2600 -5.660925087486037e+03 2.0e+00 1.54e-04  1e-04  1e-04 0:01.8\n",
            "  300   3900 -5.660929618165839e+03 2.1e+00 1.63e-06  9e-07  1e-06 0:02.8\n",
            "  400   5200 -5.660929618682658e+03 2.4e+00 1.82e-08  9e-09  1e-08 0:03.7\n",
            "  486   6318 -5.660929618682701e+03 2.7e+00 2.56e-09  1e-09  2e-09 0:04.5\n",
            "termination on tolfun=1e-11 (Mon Apr 13 13:04:05 2020)\n",
            "final/bestever f-value = -5.660930e+03 -5.660930e+03\n",
            "incumbent solution: [-0.10824531  0.02181811  0.23798786 -0.32829555 -0.16731489 -0.17437785\n",
            "  0.09472679  0.11535658 ...]\n",
            "std deviations: [1.47873194e-09 1.26929770e-09 1.21091441e-09 1.34121446e-09\n",
            " 1.19723479e-09 1.36069886e-09 1.29885765e-09 1.61409567e-09 ...]\n",
            "(6_w,13)-aCMA-ES (mu_w=4.0,w_1=38%) in dimension 25 (seed=870089, Mon Apr 13 13:04:06 2020)\n",
            "Iterat #Fevals   function value  axis ratio  sigma  min&max std  t[m:s]\n",
            "    1     13 8.547836874842305e+03 1.0e+00 1.19e-01  1e-01  1e-01 0:00.0\n",
            "    2     26 8.547316228308411e+03 1.1e+00 1.16e-01  1e-01  1e-01 0:00.0\n",
            "    3     39 8.542996597717627e+03 1.1e+00 1.14e-01  1e-01  1e-01 0:00.0\n"
          ],
          "name": "stdout"
        },
        {
          "output_type": "stream",
          "text": [
            "/usr/local/lib/python3.6/dist-packages/cma/utilities/utils.py:333: UserWarning: function_values is not a list of scalars,\n",
            "                        the first element equals [8549.14502453] with non-scalar type <class 'numpy.ndarray'>.\n",
            "                        Using now ``[v[0] for v in function_values]`` instead (further warnings are suppressed) ()\n",
            "  ')')\n",
            "/usr/local/lib/python3.6/dist-packages/cma/utilities/utils.py:333: UserWarning: function_values is not a list of scalars,\n",
            "                        the first element equals [8548.63879877] with non-scalar type <class 'numpy.ndarray'>.\n",
            "                        Using now ``[v[0] for v in function_values]`` instead (further warnings are suppressed) ()\n",
            "  ')')\n"
          ],
          "name": "stderr"
        },
        {
          "output_type": "stream",
          "text": [
            "  100   1300 1.462576414229240e+03 1.6e+00 9.12e-03  8e-03  9e-03 0:00.8\n",
            "  200   2600 1.449133120121375e+03 1.8e+00 1.41e-04  9e-05  1e-04 0:01.6\n",
            "  300   3900 1.449130147129109e+03 1.9e+00 2.19e-06  1e-06  2e-06 0:02.4\n",
            "  400   5200 1.449130146672880e+03 1.9e+00 2.62e-08  1e-08  2e-08 0:03.1\n",
            "  500   6500 1.449130146672824e+03 2.7e+00 3.37e-09  1e-09  2e-09 0:03.9\n",
            "  600   7800 1.449130146672822e+03 3.8e+00 2.54e-09  1e-09  2e-09 0:04.6\n",
            "  700   9100 1.449130146672819e+03 4.6e+00 1.32e-09  5e-10  8e-10 0:05.4\n",
            "  800  10400 1.449130146672825e+03 5.7e+00 2.00e-09  7e-10  1e-09 0:06.2\n",
            "  900  11700 1.449130146672824e+03 6.8e+00 1.99e-09  7e-10  1e-09 0:06.9\n",
            " 1000  13000 1.449130146672825e+03 7.4e+00 9.45e-10  3e-10  7e-10 0:07.7\n",
            "Iterat #Fevals   function value  axis ratio  sigma  min&max std  t[m:s]\n",
            " 1100  14300 1.449130146672826e+03 7.7e+00 7.60e-10  2e-10  5e-10 0:08.5\n",
            " 1200  15600 1.449130146672823e+03 9.3e+00 1.23e-09  4e-10  9e-10 0:09.3\n",
            " 1300  16900 1.449130146672830e+03 1.3e+01 2.69e-09  8e-10  2e-09 0:10.0\n",
            " 1400  18200 1.449130146672813e+03 1.4e+01 3.02e-09  9e-10  2e-09 0:10.8\n",
            " 1475  19175 1.449130146672832e+03 1.5e+01 2.54e-09  8e-10  2e-09 0:11.4\n",
            "termination on tolstagnation=1061 (Mon Apr 13 13:04:21 2020)\n",
            "final/bestever f-value = 1.449130e+03 1.449130e+03\n",
            "incumbent solution: [-0.13348988  0.04772925  0.20936675 -0.30895669 -0.13875619 -0.172137\n",
            "  0.2155367   0.14328293 ...]\n",
            "std deviations: [9.80864781e-10 8.59791533e-10 1.24430675e-09 2.12612732e-09\n",
            " 8.50488558e-10 1.40269192e-09 1.13253095e-09 9.05517289e-10 ...]\n",
            "(6_w,13)-aCMA-ES (mu_w=4.0,w_1=38%) in dimension 25 (seed=890519, Mon Apr 13 13:04:21 2020)\n",
            "Iterat #Fevals   function value  axis ratio  sigma  min&max std  t[m:s]\n",
            "    1     13 1.092480772250238e+04 1.0e+00 1.19e-01  1e-01  1e-01 0:00.0\n",
            "    2     26 8.994392087376971e+03 1.1e+00 1.19e-01  1e-01  1e-01 0:00.0\n",
            "    3     39 7.882661776149629e+03 1.1e+00 1.24e-01  1e-01  1e-01 0:00.0\n"
          ],
          "name": "stdout"
        },
        {
          "output_type": "stream",
          "text": [
            "/usr/local/lib/python3.6/dist-packages/cma/utilities/utils.py:333: UserWarning: function_values is not a list of scalars,\n",
            "                        the first element equals [12349.99892459] with non-scalar type <class 'numpy.ndarray'>.\n",
            "                        Using now ``[v[0] for v in function_values]`` instead (further warnings are suppressed) ()\n",
            "  ')')\n",
            "/usr/local/lib/python3.6/dist-packages/cma/utilities/utils.py:333: UserWarning: function_values is not a list of scalars,\n",
            "                        the first element equals [11413.52128807] with non-scalar type <class 'numpy.ndarray'>.\n",
            "                        Using now ``[v[0] for v in function_values]`` instead (further warnings are suppressed) ()\n",
            "  ')')\n"
          ],
          "name": "stderr"
        },
        {
          "output_type": "stream",
          "text": [
            "   70    910 -4.079338100575305e+09 1.8e+00 1.33e+02  1e+02  1e+02 0:00.8\n",
            "termination on tolfacupx=1000.0 (Mon Apr 13 13:04:22 2020)\n",
            "final/bestever f-value = -3.908770e+09 -4.083850e+09\n",
            "incumbent solution: [ 170.55732081  146.79800856 -197.88352206  -69.98678883  119.3206751\n",
            "   31.584317    136.39684969  341.96838406 ...]\n",
            "std deviations: [120.71675217 125.27262374 122.21522299 129.83144751 126.50847375\n",
            " 120.54088307 132.01319306 123.74522081 ...]\n",
            "Run : 2\n",
            "(6_w,13)-aCMA-ES (mu_w=4.0,w_1=38%) in dimension 25 (seed=876091, Mon Apr 13 13:04:22 2020)\n",
            "Iterat #Fevals   function value  axis ratio  sigma  min&max std  t[m:s]\n",
            "    1     13 8.716972920309059e+03 1.0e+00 1.21e-01  1e-01  1e-01 0:00.0\n",
            "    2     26 8.716724858562831e+03 1.1e+00 1.20e-01  1e-01  1e-01 0:00.0\n",
            "    3     39 8.715830954934308e+03 1.1e+00 1.22e-01  1e-01  1e-01 0:00.0\n"
          ],
          "name": "stdout"
        },
        {
          "output_type": "stream",
          "text": [
            "/usr/local/lib/python3.6/dist-packages/cma/utilities/utils.py:333: UserWarning: function_values is not a list of scalars,\n",
            "                        the first element equals [8719.49153944] with non-scalar type <class 'numpy.ndarray'>.\n",
            "                        Using now ``[v[0] for v in function_values]`` instead (further warnings are suppressed) ()\n",
            "  ')')\n",
            "/usr/local/lib/python3.6/dist-packages/cma/utilities/utils.py:333: UserWarning: function_values is not a list of scalars,\n",
            "                        the first element equals [8717.51951561] with non-scalar type <class 'numpy.ndarray'>.\n",
            "                        Using now ``[v[0] for v in function_values]`` instead (further warnings are suppressed) ()\n",
            "  ')')\n"
          ],
          "name": "stderr"
        },
        {
          "output_type": "stream",
          "text": [
            "  100   1300 -5.629150642535111e+03 1.7e+00 9.62e-03  8e-03  1e-02 0:00.9\n",
            "  200   2600 -5.660922427634938e+03 1.9e+00 1.78e-04  1e-04  2e-04 0:01.8\n",
            "  300   3900 -5.660929616249949e+03 2.0e+00 4.11e-06  2e-06  3e-06 0:02.8\n",
            "  400   5200 -5.660929618681912e+03 2.2e+00 6.13e-08  3e-08  4e-08 0:03.7\n",
            "  500   6500 -5.660929618682701e+03 2.4e+00 3.19e-09  1e-09  2e-09 0:04.6\n",
            "  530   6890 -5.660929618682698e+03 2.7e+00 2.76e-09  1e-09  2e-09 0:04.9\n",
            "termination on tolfun=1e-11 (Mon Apr 13 13:04:28 2020)\n",
            "final/bestever f-value = -5.660930e+03 -5.660930e+03\n",
            "incumbent solution: [-0.1082453   0.0218181   0.23798785 -0.32829556 -0.16731489 -0.17437786\n",
            "  0.09472679  0.11535658 ...]\n",
            "std deviations: [1.46611902e-09 1.31092732e-09 1.16398856e-09 1.48881532e-09\n",
            " 1.14035631e-09 1.52218884e-09 1.50875600e-09 1.46819181e-09 ...]\n",
            "(6_w,13)-aCMA-ES (mu_w=4.0,w_1=38%) in dimension 25 (seed=893926, Mon Apr 13 13:04:28 2020)\n",
            "Iterat #Fevals   function value  axis ratio  sigma  min&max std  t[m:s]\n",
            "    1     13 8.548850088823825e+03 1.0e+00 1.20e-01  1e-01  1e-01 0:00.0\n",
            "    2     26 8.548784702473475e+03 1.1e+00 1.20e-01  1e-01  1e-01 0:00.0\n",
            "    3     39 8.548822469878549e+03 1.1e+00 1.18e-01  1e-01  1e-01 0:00.0\n"
          ],
          "name": "stdout"
        },
        {
          "output_type": "stream",
          "text": [
            "/usr/local/lib/python3.6/dist-packages/cma/utilities/utils.py:333: UserWarning: function_values is not a list of scalars,\n",
            "                        the first element equals [8549.004182] with non-scalar type <class 'numpy.ndarray'>.\n",
            "                        Using now ``[v[0] for v in function_values]`` instead (further warnings are suppressed) ()\n",
            "  ')')\n",
            "/usr/local/lib/python3.6/dist-packages/cma/utilities/utils.py:333: UserWarning: function_values is not a list of scalars,\n",
            "                        the first element equals [8548.93801937] with non-scalar type <class 'numpy.ndarray'>.\n",
            "                        Using now ``[v[0] for v in function_values]`` instead (further warnings are suppressed) ()\n",
            "  ')')\n"
          ],
          "name": "stderr"
        },
        {
          "output_type": "stream",
          "text": [
            "  100   1300 1.459593916051926e+03 1.8e+00 9.97e-03  8e-03  1e-02 0:00.8\n",
            "  200   2600 1.449132534409861e+03 1.9e+00 1.37e-04  9e-05  1e-04 0:01.5\n",
            "  300   3900 1.449130147068805e+03 1.9e+00 1.84e-06  1e-06  1e-06 0:02.3\n",
            "  400   5200 1.449130146672873e+03 2.0e+00 2.23e-08  1e-08  1e-08 0:03.1\n",
            "  500   6500 1.449130146672826e+03 2.6e+00 3.52e-09  2e-09  2e-09 0:03.8\n",
            "  600   7800 1.449130146672823e+03 3.2e+00 2.24e-09  1e-09  1e-09 0:04.6\n",
            "  700   9100 1.449130146672827e+03 3.8e+00 1.78e-09  8e-10  1e-09 0:05.3\n",
            "  800  10400 1.449130146672827e+03 4.7e+00 2.46e-09  1e-09  2e-09 0:06.1\n",
            "  900  11700 1.449130146672827e+03 5.2e+00 2.96e-09  1e-09  2e-09 0:06.9\n",
            " 1000  13000 1.449130146672826e+03 5.9e+00 2.48e-09  1e-09  2e-09 0:07.6\n",
            "Iterat #Fevals   function value  axis ratio  sigma  min&max std  t[m:s]\n",
            " 1100  14300 1.449130146672826e+03 6.4e+00 3.23e-09  1e-09  2e-09 0:08.4\n",
            " 1200  15600 1.449130146672822e+03 6.8e+00 6.03e-09  2e-09  4e-09 0:09.2\n",
            " 1290  16770 1.449130146672830e+03 7.3e+00 2.60e-09  8e-10  2e-09 0:09.9\n",
            "termination on tolstagnation=1061 (Mon Apr 13 13:04:41 2020)\n",
            "final/bestever f-value = 1.449130e+03 1.449130e+03\n",
            "incumbent solution: [-0.13348988  0.04772923  0.20936673 -0.30895669 -0.13875618 -0.17213701\n",
            "  0.21553671  0.14328292 ...]\n",
            "std deviations: [1.14273868e-09 1.32621137e-09 1.05615602e-09 1.28530350e-09\n",
            " 8.88293801e-10 1.40519178e-09 1.59566821e-09 1.65707736e-09 ...]\n",
            "(6_w,13)-aCMA-ES (mu_w=4.0,w_1=38%) in dimension 25 (seed=954471, Mon Apr 13 13:04:41 2020)\n",
            "Iterat #Fevals   function value  axis ratio  sigma  min&max std  t[m:s]\n",
            "    1     13 1.086765677017728e+04 1.0e+00 1.23e-01  1e-01  1e-01 0:00.0\n",
            "    2     26 1.033398622483625e+04 1.1e+00 1.22e-01  1e-01  1e-01 0:00.0\n",
            "    3     39 7.778180167800190e+03 1.1e+00 1.23e-01  1e-01  1e-01 0:00.0\n"
          ],
          "name": "stdout"
        },
        {
          "output_type": "stream",
          "text": [
            "/usr/local/lib/python3.6/dist-packages/cma/utilities/utils.py:333: UserWarning: function_values is not a list of scalars,\n",
            "                        the first element equals [12466.16281719] with non-scalar type <class 'numpy.ndarray'>.\n",
            "                        Using now ``[v[0] for v in function_values]`` instead (further warnings are suppressed) ()\n",
            "  ')')\n",
            "/usr/local/lib/python3.6/dist-packages/cma/utilities/utils.py:333: UserWarning: function_values is not a list of scalars,\n",
            "                        the first element equals [12021.45010425] with non-scalar type <class 'numpy.ndarray'>.\n",
            "                        Using now ``[v[0] for v in function_values]`` instead (further warnings are suppressed) ()\n",
            "  ')')\n"
          ],
          "name": "stderr"
        },
        {
          "output_type": "stream",
          "text": [
            "   67    871 -4.458676734410120e+09 1.7e+00 1.23e+02  1e+02  1e+02 0:00.8\n",
            "termination on tolfacupx=1000.0 (Mon Apr 13 13:04:42 2020)\n",
            "final/bestever f-value = -4.177590e+09 -4.458677e+09\n",
            "incumbent solution: [-225.80848908    2.3222698    11.86982396 -332.25343994 -156.91716687\n",
            " -333.54250581  -91.02114037  266.86945732 ...]\n",
            "std deviations: [117.0282094  114.39741562 115.80866521 116.85007757 116.35420274\n",
            " 121.94429935 117.34718878 125.69560581 ...]\n",
            "Run : 3\n",
            "(6_w,13)-aCMA-ES (mu_w=4.0,w_1=38%) in dimension 25 (seed=788243, Mon Apr 13 13:04:43 2020)\n",
            "Iterat #Fevals   function value  axis ratio  sigma  min&max std  t[m:s]\n",
            "    1     13 8.715521754324747e+03 1.0e+00 1.21e-01  1e-01  1e-01 0:00.0\n",
            "    2     26 8.711950189871313e+03 1.1e+00 1.18e-01  1e-01  1e-01 0:00.0\n",
            "    3     39 8.709172029124657e+03 1.1e+00 1.18e-01  1e-01  1e-01 0:00.0\n"
          ],
          "name": "stdout"
        },
        {
          "output_type": "stream",
          "text": [
            "/usr/local/lib/python3.6/dist-packages/cma/utilities/utils.py:333: UserWarning: function_values is not a list of scalars,\n",
            "                        the first element equals [8716.60653655] with non-scalar type <class 'numpy.ndarray'>.\n",
            "                        Using now ``[v[0] for v in function_values]`` instead (further warnings are suppressed) ()\n",
            "  ')')\n",
            "/usr/local/lib/python3.6/dist-packages/cma/utilities/utils.py:333: UserWarning: function_values is not a list of scalars,\n",
            "                        the first element equals [8716.39223653] with non-scalar type <class 'numpy.ndarray'>.\n",
            "                        Using now ``[v[0] for v in function_values]`` instead (further warnings are suppressed) ()\n",
            "  ')')\n"
          ],
          "name": "stderr"
        },
        {
          "output_type": "stream",
          "text": [
            "  100   1300 -5.640600725274311e+03 1.8e+00 8.20e-03  7e-03  8e-03 0:00.9\n",
            "  200   2600 -5.660926644681578e+03 1.9e+00 1.26e-04  8e-05  1e-04 0:01.9\n",
            "  300   3900 -5.660929617179323e+03 2.1e+00 3.00e-06  2e-06  2e-06 0:02.8\n",
            "  400   5200 -5.660929618682570e+03 2.4e+00 2.99e-08  1e-08  2e-08 0:03.7\n",
            "  500   6500 -5.660929618682703e+03 2.6e+00 1.67e-09  7e-10  1e-09 0:04.7\n",
            "  511   6643 -5.660929618682703e+03 2.8e+00 1.63e-09  7e-10  9e-10 0:04.8\n",
            "termination on tolfun=1e-11 (Mon Apr 13 13:04:49 2020)\n",
            "final/bestever f-value = -5.660930e+03 -5.660930e+03\n",
            "incumbent solution: [-0.10824531  0.02181811  0.23798786 -0.32829555 -0.1673149  -0.17437785\n",
            "  0.09472679  0.11535657 ...]\n",
            "std deviations: [9.22511455e-10 7.54453128e-10 6.82670611e-10 8.08213173e-10\n",
            " 7.13744466e-10 8.59772026e-10 8.66945307e-10 9.24020985e-10 ...]\n",
            "(6_w,13)-aCMA-ES (mu_w=4.0,w_1=38%) in dimension 25 (seed=801013, Mon Apr 13 13:04:49 2020)\n",
            "Iterat #Fevals   function value  axis ratio  sigma  min&max std  t[m:s]\n",
            "    1     13 8.548565405694149e+03 1.0e+00 1.19e-01  1e-01  1e-01 0:00.0\n",
            "    2     26 8.547266512880717e+03 1.1e+00 1.15e-01  1e-01  1e-01 0:00.0\n",
            "    3     39 8.547396182824144e+03 1.1e+00 1.13e-01  1e-01  1e-01 0:00.0\n"
          ],
          "name": "stdout"
        },
        {
          "output_type": "stream",
          "text": [
            "/usr/local/lib/python3.6/dist-packages/cma/utilities/utils.py:333: UserWarning: function_values is not a list of scalars,\n",
            "                        the first element equals [8548.82125211] with non-scalar type <class 'numpy.ndarray'>.\n",
            "                        Using now ``[v[0] for v in function_values]`` instead (further warnings are suppressed) ()\n",
            "  ')')\n",
            "/usr/local/lib/python3.6/dist-packages/cma/utilities/utils.py:333: UserWarning: function_values is not a list of scalars,\n",
            "                        the first element equals [8548.58681503] with non-scalar type <class 'numpy.ndarray'>.\n",
            "                        Using now ``[v[0] for v in function_values]`` instead (further warnings are suppressed) ()\n",
            "  ')')\n"
          ],
          "name": "stderr"
        },
        {
          "output_type": "stream",
          "text": [
            "  100   1300 1.467400054427101e+03 2.0e+00 7.15e-03  6e-03  7e-03 0:00.8\n",
            "  200   2600 1.449132081666301e+03 1.9e+00 1.06e-04  7e-05  9e-05 0:01.6\n",
            "  300   3900 1.449130146860278e+03 2.0e+00 1.54e-06  8e-07  1e-06 0:02.3\n",
            "  400   5200 1.449130146672854e+03 2.0e+00 2.27e-08  1e-08  1e-08 0:03.1\n",
            "  500   6500 1.449130146672827e+03 2.4e+00 4.37e-09  2e-09  3e-09 0:03.9\n",
            "  600   7800 1.449130146672825e+03 3.1e+00 2.70e-09  1e-09  2e-09 0:04.7\n",
            "  700   9100 1.449130146672825e+03 3.6e+00 1.44e-09  5e-10  8e-10 0:05.4\n",
            "  800  10400 1.449130146672823e+03 4.6e+00 1.67e-09  6e-10  1e-09 0:06.2\n",
            "  900  11700 1.449130146672821e+03 5.3e+00 1.93e-09  7e-10  1e-09 0:07.0\n",
            " 1000  13000 1.449130146672817e+03 7.5e+00 1.68e-09  6e-10  1e-09 0:07.7\n",
            "Iterat #Fevals   function value  axis ratio  sigma  min&max std  t[m:s]\n",
            " 1100  14300 1.449130146672824e+03 8.3e+00 1.64e-09  6e-10  1e-09 0:08.5\n",
            " 1200  15600 1.449130146672820e+03 7.8e+00 4.60e-09  1e-09  3e-09 0:09.3\n",
            " 1300  16900 1.449130146672822e+03 1.0e+01 1.71e-09  5e-10  1e-09 0:10.1\n",
            " 1400  18200 1.449130146672824e+03 1.2e+01 3.52e-09  1e-09  2e-09 0:10.9\n",
            " 1500  19500 1.449130146672825e+03 1.2e+01 2.75e-09  8e-10  1e-09 0:11.6\n",
            " 1560  20280 1.449130146672826e+03 1.3e+01 2.95e-09  9e-10  2e-09 0:12.1\n",
            "termination on tolstagnation=1061 (Mon Apr 13 13:05:05 2020)\n",
            "final/bestever f-value = 1.449130e+03 1.449130e+03\n",
            "incumbent solution: [-0.13348988  0.04772924  0.20936675 -0.30895669 -0.13875618 -0.17213701\n",
            "  0.21553669  0.14328291 ...]\n",
            "std deviations: [1.20101116e-09 1.58174081e-09 1.28784283e-09 1.20179505e-09\n",
            " 1.34837424e-09 1.02795882e-09 1.37402258e-09 1.27080291e-09 ...]\n",
            "(6_w,13)-aCMA-ES (mu_w=4.0,w_1=38%) in dimension 25 (seed=899262, Mon Apr 13 13:05:05 2020)\n",
            "Iterat #Fevals   function value  axis ratio  sigma  min&max std  t[m:s]\n",
            "    1     13 9.461309790491514e+03 1.0e+00 1.22e-01  1e-01  1e-01 0:00.0\n",
            "    2     26 7.379979235659645e+03 1.1e+00 1.20e-01  1e-01  1e-01 0:00.0\n",
            "    3     39 6.633300400152172e+03 1.1e+00 1.23e-01  1e-01  1e-01 0:00.0\n"
          ],
          "name": "stdout"
        },
        {
          "output_type": "stream",
          "text": [
            "/usr/local/lib/python3.6/dist-packages/cma/utilities/utils.py:333: UserWarning: function_values is not a list of scalars,\n",
            "                        the first element equals [14367.3000745] with non-scalar type <class 'numpy.ndarray'>.\n",
            "                        Using now ``[v[0] for v in function_values]`` instead (further warnings are suppressed) ()\n",
            "  ')')\n",
            "/usr/local/lib/python3.6/dist-packages/cma/utilities/utils.py:333: UserWarning: function_values is not a list of scalars,\n",
            "                        the first element equals [10463.08431335] with non-scalar type <class 'numpy.ndarray'>.\n",
            "                        Using now ``[v[0] for v in function_values]`` instead (further warnings are suppressed) ()\n",
            "  ')')\n"
          ],
          "name": "stderr"
        },
        {
          "output_type": "stream",
          "text": [
            "   69    897 -4.802550836363235e+09 1.7e+00 1.30e+02  1e+02  1e+02 0:00.8\n",
            "termination on tolfacupx=1000.0 (Mon Apr 13 13:05:06 2020)\n",
            "final/bestever f-value = -4.274174e+09 -4.802551e+09\n",
            "incumbent solution: [-364.62809164  225.09070295  107.95848494 -382.15371203  -51.63550322\n",
            " -157.44966346  118.86271455  421.30136843 ...]\n",
            "std deviations: [123.53394674 134.0523634  116.74722289 120.18730273 126.66682651\n",
            " 127.83552843 116.86593303 124.64272906 ...]\n",
            "Run : 4\n",
            "(6_w,13)-aCMA-ES (mu_w=4.0,w_1=38%) in dimension 25 (seed=831555, Mon Apr 13 13:05:06 2020)\n",
            "Iterat #Fevals   function value  axis ratio  sigma  min&max std  t[m:s]\n",
            "    1     13 8.716773735005663e+03 1.0e+00 1.19e-01  1e-01  1e-01 0:00.0\n",
            "    2     26 8.716837845024655e+03 1.1e+00 1.18e-01  1e-01  1e-01 0:00.0\n",
            "    3     39 8.716787598380475e+03 1.1e+00 1.21e-01  1e-01  1e-01 0:00.0\n"
          ],
          "name": "stdout"
        },
        {
          "output_type": "stream",
          "text": [
            "/usr/local/lib/python3.6/dist-packages/cma/utilities/utils.py:333: UserWarning: function_values is not a list of scalars,\n",
            "                        the first element equals [8717.00629265] with non-scalar type <class 'numpy.ndarray'>.\n",
            "                        Using now ``[v[0] for v in function_values]`` instead (further warnings are suppressed) ()\n",
            "  ')')\n",
            "/usr/local/lib/python3.6/dist-packages/cma/utilities/utils.py:333: UserWarning: function_values is not a list of scalars,\n",
            "                        the first element equals [8716.95348798] with non-scalar type <class 'numpy.ndarray'>.\n",
            "                        Using now ``[v[0] for v in function_values]`` instead (further warnings are suppressed) ()\n",
            "  ')')\n"
          ],
          "name": "stderr"
        },
        {
          "output_type": "stream",
          "text": [
            "  100   1300 -5.631296954090145e+03 1.8e+00 1.07e-02  9e-03  1e-02 0:00.9\n",
            "  200   2600 -5.660922694611474e+03 2.0e+00 1.56e-04  1e-04  1e-04 0:01.9\n",
            "  300   3900 -5.660929617231213e+03 2.3e+00 3.01e-06  2e-06  2e-06 0:02.8\n",
            "  400   5200 -5.660929618682574e+03 2.4e+00 3.39e-08  2e-08  2e-08 0:03.7\n",
            "  500   6500 -5.660929618682703e+03 2.5e+00 2.57e-09  1e-09  2e-09 0:04.6\n",
            "  503   6539 -5.660929618682703e+03 2.6e+00 2.31e-09  1e-09  1e-09 0:04.7\n",
            "termination on tolfun=1e-11 (Mon Apr 13 13:05:12 2020)\n",
            "final/bestever f-value = -5.660930e+03 -5.660930e+03\n",
            "incumbent solution: [-0.10824531  0.02181811  0.23798786 -0.32829556 -0.16731489 -0.17437785\n",
            "  0.0947268   0.11535658 ...]\n",
            "std deviations: [1.28255825e-09 1.05052941e-09 9.98029048e-10 1.31977754e-09\n",
            " 1.11454233e-09 1.07660649e-09 1.25495138e-09 1.42446560e-09 ...]\n",
            "(6_w,13)-aCMA-ES (mu_w=4.0,w_1=38%) in dimension 25 (seed=843113, Mon Apr 13 13:05:12 2020)\n",
            "Iterat #Fevals   function value  axis ratio  sigma  min&max std  t[m:s]\n",
            "    1     13 8.548813226940385e+03 1.0e+00 1.19e-01  1e-01  1e-01 0:00.0\n",
            "    2     26 8.548819997904389e+03 1.1e+00 1.14e-01  1e-01  1e-01 0:00.0\n",
            "    3     39 8.548780699553699e+03 1.1e+00 1.10e-01  1e-01  1e-01 0:00.0\n"
          ],
          "name": "stdout"
        },
        {
          "output_type": "stream",
          "text": [
            "/usr/local/lib/python3.6/dist-packages/cma/utilities/utils.py:333: UserWarning: function_values is not a list of scalars,\n",
            "                        the first element equals [8548.83807168] with non-scalar type <class 'numpy.ndarray'>.\n",
            "                        Using now ``[v[0] for v in function_values]`` instead (further warnings are suppressed) ()\n",
            "  ')')\n",
            "/usr/local/lib/python3.6/dist-packages/cma/utilities/utils.py:333: UserWarning: function_values is not a list of scalars,\n",
            "                        the first element equals [8548.84793773] with non-scalar type <class 'numpy.ndarray'>.\n",
            "                        Using now ``[v[0] for v in function_values]`` instead (further warnings are suppressed) ()\n",
            "  ')')\n"
          ],
          "name": "stderr"
        },
        {
          "output_type": "stream",
          "text": [
            "  100   1300 1.487049766595103e+03 1.9e+00 1.26e-02  1e-02  1e-02 0:00.8\n",
            "  200   2600 1.449134607390343e+03 1.9e+00 1.84e-04  1e-04  2e-04 0:01.6\n",
            "  300   3900 1.449130147230575e+03 1.9e+00 2.37e-06  1e-06  2e-06 0:02.3\n",
            "  400   5200 1.449130146672868e+03 1.9e+00 2.90e-08  1e-08  2e-08 0:03.1\n",
            "  500   6500 1.449130146672833e+03 2.5e+00 3.57e-09  2e-09  2e-09 0:03.9\n",
            "  600   7800 1.449130146672822e+03 3.1e+00 4.32e-09  2e-09  3e-09 0:04.6\n",
            "  700   9100 1.449130146672828e+03 3.6e+00 3.48e-09  1e-09  2e-09 0:05.4\n",
            "  800  10400 1.449130146672829e+03 4.2e+00 1.89e-09  8e-10  1e-09 0:06.2\n",
            "  900  11700 1.449130146672828e+03 5.3e+00 1.67e-09  6e-10  1e-09 0:06.9\n",
            " 1000  13000 1.449130146672825e+03 6.3e+00 1.56e-09  6e-10  1e-09 0:07.7\n",
            "Iterat #Fevals   function value  axis ratio  sigma  min&max std  t[m:s]\n",
            " 1100  14300 1.449130146672823e+03 7.6e+00 3.35e-09  1e-09  2e-09 0:08.5\n",
            " 1200  15600 1.449130146672817e+03 8.5e+00 1.83e-09  6e-10  1e-09 0:09.3\n",
            " 1300  16900 1.449130146672828e+03 9.7e+00 2.15e-09  8e-10  1e-09 0:10.0\n",
            " 1400  18200 1.449130146672828e+03 1.2e+01 1.87e-09  7e-10  1e-09 0:10.8\n",
            " 1500  19500 1.449130146672824e+03 1.2e+01 1.38e-09  5e-10  9e-10 0:11.6\n",
            " 1515  19695 1.449130146672826e+03 1.2e+01 1.81e-09  6e-10  1e-09 0:11.7\n",
            "termination on tolstagnation=1061 (Mon Apr 13 13:05:27 2020)\n",
            "final/bestever f-value = 1.449130e+03 1.449130e+03\n",
            "incumbent solution: [-0.13348987  0.04772922  0.20936674 -0.30895671 -0.13875617 -0.17213701\n",
            "  0.21553669  0.14328292 ...]\n",
            "std deviations: [8.62697285e-10 9.90597782e-10 7.01132061e-10 9.03959283e-10\n",
            " 7.58930558e-10 1.05019964e-09 8.98159139e-10 1.09539453e-09 ...]\n",
            "(6_w,13)-aCMA-ES (mu_w=4.0,w_1=38%) in dimension 25 (seed=796249, Mon Apr 13 13:05:28 2020)\n",
            "Iterat #Fevals   function value  axis ratio  sigma  min&max std  t[m:s]\n",
            "    1     13 1.079955190562233e+04 1.0e+00 1.21e-01  1e-01  1e-01 0:00.0\n",
            "    2     26 9.764705175463270e+03 1.1e+00 1.20e-01  1e-01  1e-01 0:00.0\n",
            "    3     39 8.948813198047776e+03 1.1e+00 1.20e-01  1e-01  1e-01 0:00.0\n"
          ],
          "name": "stdout"
        },
        {
          "output_type": "stream",
          "text": [
            "/usr/local/lib/python3.6/dist-packages/cma/utilities/utils.py:333: UserWarning: function_values is not a list of scalars,\n",
            "                        the first element equals [10905.58365934] with non-scalar type <class 'numpy.ndarray'>.\n",
            "                        Using now ``[v[0] for v in function_values]`` instead (further warnings are suppressed) ()\n",
            "  ')')\n",
            "/usr/local/lib/python3.6/dist-packages/cma/utilities/utils.py:333: UserWarning: function_values is not a list of scalars,\n",
            "                        the first element equals [10220.43376621] with non-scalar type <class 'numpy.ndarray'>.\n",
            "                        Using now ``[v[0] for v in function_values]`` instead (further warnings are suppressed) ()\n",
            "  ')')\n"
          ],
          "name": "stderr"
        },
        {
          "output_type": "stream",
          "text": [
            "   62    806 -3.039875064177637e+09 1.7e+00 1.27e+02  1e+02  1e+02 0:00.7\n",
            "termination on tolfacupx=1000.0 (Mon Apr 13 13:05:28 2020)\n",
            "final/bestever f-value = -2.824501e+09 -3.039875e+09\n",
            "incumbent solution: [ -52.56539709  232.64258392   43.15052792 -338.43421183  -63.99762566\n",
            " -141.49025407   83.31463332  301.0779904  ...]\n",
            "std deviations: [122.81316998 124.98698082 126.94510213 121.48758353 114.83157103\n",
            " 120.93448103 126.17196421 125.51801588 ...]\n",
            "Run : 5\n",
            "(6_w,13)-aCMA-ES (mu_w=4.0,w_1=38%) in dimension 25 (seed=846394, Mon Apr 13 13:05:29 2020)\n",
            "Iterat #Fevals   function value  axis ratio  sigma  min&max std  t[m:s]\n",
            "    1     13 8.716874407777790e+03 1.0e+00 1.21e-01  1e-01  1e-01 0:00.0\n",
            "    2     26 8.716851885411013e+03 1.1e+00 1.18e-01  1e-01  1e-01 0:00.0\n",
            "    3     39 8.716846575154390e+03 1.1e+00 1.21e-01  1e-01  1e-01 0:00.0\n"
          ],
          "name": "stdout"
        },
        {
          "output_type": "stream",
          "text": [
            "/usr/local/lib/python3.6/dist-packages/cma/utilities/utils.py:333: UserWarning: function_values is not a list of scalars,\n",
            "                        the first element equals [8718.20090017] with non-scalar type <class 'numpy.ndarray'>.\n",
            "                        Using now ``[v[0] for v in function_values]`` instead (further warnings are suppressed) ()\n",
            "  ')')\n",
            "/usr/local/lib/python3.6/dist-packages/cma/utilities/utils.py:333: UserWarning: function_values is not a list of scalars,\n",
            "                        the first element equals [8716.85602155] with non-scalar type <class 'numpy.ndarray'>.\n",
            "                        Using now ``[v[0] for v in function_values]`` instead (further warnings are suppressed) ()\n",
            "  ')')\n"
          ],
          "name": "stderr"
        },
        {
          "output_type": "stream",
          "text": [
            "  100   1300 -5.550066294959308e+03 1.7e+00 1.93e-02  2e-02  2e-02 0:00.9\n",
            "  200   2600 -5.660921754974153e+03 1.9e+00 1.98e-04  1e-04  2e-04 0:01.8\n",
            "  300   3900 -5.660929611674554e+03 2.3e+00 6.09e-06  3e-06  5e-06 0:02.8\n",
            "  400   5200 -5.660929618682067e+03 2.3e+00 7.80e-08  4e-08  5e-08 0:03.7\n",
            "  500   6500 -5.660929618682701e+03 2.4e+00 3.95e-09  2e-09  2e-09 0:04.6\n",
            "  533   6929 -5.660929618682701e+03 2.7e+00 2.37e-09  1e-09  1e-09 0:04.9\n",
            "termination on tolfun=1e-11 (Mon Apr 13 13:05:35 2020)\n",
            "final/bestever f-value = -5.660930e+03 -5.660930e+03\n",
            "incumbent solution: [-0.10824531  0.0218181   0.23798786 -0.32829556 -0.1673149  -0.17437785\n",
            "  0.09472679  0.11535658 ...]\n",
            "std deviations: [1.26458815e-09 1.01797191e-09 9.59835427e-10 1.26969772e-09\n",
            " 1.10154680e-09 1.08003112e-09 1.25291763e-09 1.36009562e-09 ...]\n",
            "(6_w,13)-aCMA-ES (mu_w=4.0,w_1=38%) in dimension 25 (seed=857398, Mon Apr 13 13:05:35 2020)\n",
            "Iterat #Fevals   function value  axis ratio  sigma  min&max std  t[m:s]\n",
            "    1     13 8.548820693538715e+03 1.0e+00 1.19e-01  1e-01  1e-01 0:00.0\n",
            "    2     26 8.548689442871428e+03 1.1e+00 1.14e-01  1e-01  1e-01 0:00.0\n",
            "    3     39 8.548245428990120e+03 1.1e+00 1.15e-01  1e-01  1e-01 0:00.0\n"
          ],
          "name": "stdout"
        },
        {
          "output_type": "stream",
          "text": [
            "/usr/local/lib/python3.6/dist-packages/cma/utilities/utils.py:333: UserWarning: function_values is not a list of scalars,\n",
            "                        the first element equals [8548.82825843] with non-scalar type <class 'numpy.ndarray'>.\n",
            "                        Using now ``[v[0] for v in function_values]`` instead (further warnings are suppressed) ()\n",
            "  ')')\n",
            "/usr/local/lib/python3.6/dist-packages/cma/utilities/utils.py:333: UserWarning: function_values is not a list of scalars,\n",
            "                        the first element equals [8548.84816882] with non-scalar type <class 'numpy.ndarray'>.\n",
            "                        Using now ``[v[0] for v in function_values]`` instead (further warnings are suppressed) ()\n",
            "  ')')\n"
          ],
          "name": "stderr"
        },
        {
          "output_type": "stream",
          "text": [
            "  100   1300 1.462898909856419e+03 1.7e+00 9.00e-03  7e-03  8e-03 0:00.8\n",
            "  200   2600 1.449132345343499e+03 1.7e+00 1.27e-04  9e-05  1e-04 0:01.5\n",
            "  300   3900 1.449130147221886e+03 1.9e+00 2.60e-06  1e-06  2e-06 0:02.3\n",
            "  400   5200 1.449130146672937e+03 1.9e+00 3.34e-08  2e-08  2e-08 0:03.1\n",
            "  500   6500 1.449130146672826e+03 2.4e+00 4.09e-09  2e-09  3e-09 0:03.9\n",
            "  600   7800 1.449130146672829e+03 3.2e+00 2.49e-09  1e-09  2e-09 0:04.7\n",
            "  700   9100 1.449130146672823e+03 3.9e+00 2.03e-09  9e-10  1e-09 0:05.4\n",
            "  800  10400 1.449130146672814e+03 3.9e+00 9.54e-10  4e-10  6e-10 0:06.2\n",
            "  900  11700 1.449130146672822e+03 4.9e+00 6.39e-10  2e-10  4e-10 0:06.9\n",
            " 1000  13000 1.449130146672828e+03 5.6e+00 2.65e-10  9e-11  1e-10 0:07.7\n",
            "Iterat #Fevals   function value  axis ratio  sigma  min&max std  t[m:s]\n",
            " 1100  14300 1.449130146672826e+03 7.8e+00 2.11e-10  7e-11  1e-10 0:08.5\n",
            " 1200  15600 1.449130146672826e+03 8.8e+00 1.83e-10  5e-11  1e-10 0:09.2\n",
            " 1300  16900 1.449130146672828e+03 1.0e+01 2.04e-10  6e-11  1e-10 0:10.0\n",
            " 1400  18200 1.449130146672824e+03 1.4e+01 2.43e-10  7e-11  2e-10 0:10.8\n",
            " 1500  19500 1.449130146672824e+03 1.6e+01 1.87e-10  5e-11  1e-10 0:11.5\n",
            " 1600  20800 1.449130146672823e+03 1.9e+01 1.16e-10  3e-11  8e-11 0:12.3\n",
            " 1700  22100 1.449130146672820e+03 1.8e+01 1.98e-10  4e-11  1e-10 0:13.1\n",
            " 1800  23400 1.449130146672824e+03 2.0e+01 2.29e-10  5e-11  1e-10 0:13.8\n",
            " 1900  24700 1.449130146672826e+03 2.5e+01 1.87e-10  4e-11  1e-10 0:14.6\n",
            " 1924  25012 1.449130146672826e+03 2.7e+01 2.68e-10  6e-11  2e-10 0:14.8\n",
            "termination on maxfevals=25000 (Mon Apr 13 13:05:55 2020)\n",
            "final/bestever f-value = 1.449130e+03 1.449130e+03\n",
            "incumbent solution: [-0.13348989  0.04772924  0.20936674 -0.3089567  -0.13875617 -0.17213701\n",
            "  0.21553669  0.14328293 ...]\n",
            "std deviations: [1.18227155e-10 1.03537568e-10 8.91985892e-11 1.12535217e-10\n",
            " 1.33118488e-10 9.92200751e-11 1.86438632e-10 1.45645802e-10 ...]\n",
            "(6_w,13)-aCMA-ES (mu_w=4.0,w_1=38%) in dimension 25 (seed=902305, Mon Apr 13 13:05:55 2020)\n",
            "Iterat #Fevals   function value  axis ratio  sigma  min&max std  t[m:s]\n",
            "    1     13 1.193069642026742e+04 1.0e+00 1.22e-01  1e-01  1e-01 0:00.0\n",
            "    2     26 1.150787326362052e+04 1.1e+00 1.21e-01  1e-01  1e-01 0:00.0\n",
            "    3     39 8.450450951521760e+03 1.1e+00 1.25e-01  1e-01  1e-01 0:00.0\n"
          ],
          "name": "stdout"
        },
        {
          "output_type": "stream",
          "text": [
            "/usr/local/lib/python3.6/dist-packages/cma/utilities/utils.py:333: UserWarning: function_values is not a list of scalars,\n",
            "                        the first element equals [14836.69284542] with non-scalar type <class 'numpy.ndarray'>.\n",
            "                        Using now ``[v[0] for v in function_values]`` instead (further warnings are suppressed) ()\n",
            "  ')')\n",
            "/usr/local/lib/python3.6/dist-packages/cma/utilities/utils.py:333: UserWarning: function_values is not a list of scalars,\n",
            "                        the first element equals [14231.23747951] with non-scalar type <class 'numpy.ndarray'>.\n",
            "                        Using now ``[v[0] for v in function_values]`` instead (further warnings are suppressed) ()\n",
            "  ')')\n"
          ],
          "name": "stderr"
        },
        {
          "output_type": "stream",
          "text": [
            "   68    884 -4.062435561393910e+09 1.8e+00 1.28e+02  1e+02  1e+02 0:00.8\n",
            "termination on tolfacupx=1000.0 (Mon Apr 13 13:05:56 2020)\n",
            "final/bestever f-value = -3.653751e+09 -4.062436e+09\n",
            "incumbent solution: [-309.76469231   92.70015691  -82.67705324  428.58598177  -84.68857886\n",
            "  497.39222681   25.70257778  183.89213054 ...]\n",
            "std deviations: [120.08523979 115.51148884 115.16558546 117.16459552 125.67123672\n",
            " 121.70931291 125.76927554 121.36677153 ...]\n",
            "Run : 6\n",
            "(6_w,13)-aCMA-ES (mu_w=4.0,w_1=38%) in dimension 25 (seed=842094, Mon Apr 13 13:05:56 2020)\n",
            "Iterat #Fevals   function value  axis ratio  sigma  min&max std  t[m:s]\n",
            "    1     13 8.717182648047665e+03 1.0e+00 1.21e-01  1e-01  1e-01 0:00.0\n",
            "    2     26 8.717009732995171e+03 1.1e+00 1.17e-01  1e-01  1e-01 0:00.0\n",
            "    3     39 8.716864544833024e+03 1.1e+00 1.20e-01  1e-01  1e-01 0:00.0\n"
          ],
          "name": "stdout"
        },
        {
          "output_type": "stream",
          "text": [
            "/usr/local/lib/python3.6/dist-packages/cma/utilities/utils.py:333: UserWarning: function_values is not a list of scalars,\n",
            "                        the first element equals [8717.25809171] with non-scalar type <class 'numpy.ndarray'>.\n",
            "                        Using now ``[v[0] for v in function_values]`` instead (further warnings are suppressed) ()\n",
            "  ')')\n",
            "/usr/local/lib/python3.6/dist-packages/cma/utilities/utils.py:333: UserWarning: function_values is not a list of scalars,\n",
            "                        the first element equals [8717.0405887] with non-scalar type <class 'numpy.ndarray'>.\n",
            "                        Using now ``[v[0] for v in function_values]`` instead (further warnings are suppressed) ()\n",
            "  ')')\n"
          ],
          "name": "stderr"
        },
        {
          "output_type": "stream",
          "text": [
            "  100   1300 -5.548633416821494e+03 1.9e+00 1.83e-02  2e-02  2e-02 0:00.9\n",
            "  200   2600 -5.660900447796290e+03 2.0e+00 2.97e-04  2e-04  3e-04 0:01.9\n",
            "  300   3900 -5.660929616615967e+03 2.1e+00 3.23e-06  2e-06  3e-06 0:02.8\n",
            "  400   5200 -5.660929618682496e+03 2.2e+00 4.36e-08  2e-08  3e-08 0:03.7\n",
            "  500   6500 -5.660929618682700e+03 2.7e+00 2.77e-09  1e-09  2e-09 0:04.7\n",
            "  502   6526 -5.660929618682700e+03 2.6e+00 2.88e-09  1e-09  2e-09 0:04.7\n",
            "termination on tolfun=1e-11 (Mon Apr 13 13:06:02 2020)\n",
            "final/bestever f-value = -5.660930e+03 -5.660930e+03\n",
            "incumbent solution: [-0.10824531  0.0218181   0.23798786 -0.32829555 -0.1673149  -0.17437785\n",
            "  0.09472679  0.11535658 ...]\n",
            "std deviations: [1.75755060e-09 1.41062294e-09 1.20500790e-09 1.64695582e-09\n",
            " 1.42754560e-09 1.43559925e-09 1.55119999e-09 1.68452663e-09 ...]\n",
            "(6_w,13)-aCMA-ES (mu_w=4.0,w_1=38%) in dimension 25 (seed=879297, Mon Apr 13 13:06:02 2020)\n",
            "Iterat #Fevals   function value  axis ratio  sigma  min&max std  t[m:s]\n",
            "    1     13 8.548561017997905e+03 1.0e+00 1.21e-01  1e-01  1e-01 0:00.0\n",
            "    2     26 8.548206801217812e+03 1.1e+00 1.20e-01  1e-01  1e-01 0:00.0\n",
            "    3     39 8.546891723166596e+03 1.1e+00 1.22e-01  1e-01  1e-01 0:00.0\n"
          ],
          "name": "stdout"
        },
        {
          "output_type": "stream",
          "text": [
            "/usr/local/lib/python3.6/dist-packages/cma/utilities/utils.py:333: UserWarning: function_values is not a list of scalars,\n",
            "                        the first element equals [8548.84596593] with non-scalar type <class 'numpy.ndarray'>.\n",
            "                        Using now ``[v[0] for v in function_values]`` instead (further warnings are suppressed) ()\n",
            "  ')')\n",
            "/usr/local/lib/python3.6/dist-packages/cma/utilities/utils.py:333: UserWarning: function_values is not a list of scalars,\n",
            "                        the first element equals [8548.79757713] with non-scalar type <class 'numpy.ndarray'>.\n",
            "                        Using now ``[v[0] for v in function_values]`` instead (further warnings are suppressed) ()\n",
            "  ')')\n"
          ],
          "name": "stderr"
        },
        {
          "output_type": "stream",
          "text": [
            "  100   1300 1.461060546909030e+03 1.9e+00 7.84e-03  7e-03  7e-03 0:00.7\n",
            "  200   2600 1.449131291796885e+03 1.9e+00 1.07e-04  7e-05  9e-05 0:01.5\n",
            "  300   3900 1.449130146910936e+03 1.9e+00 1.76e-06  1e-06  1e-06 0:02.3\n",
            "  400   5200 1.449130146672841e+03 2.1e+00 1.30e-08  6e-09  8e-09 0:03.1\n",
            "  500   6500 1.449130146672827e+03 2.5e+00 3.19e-09  1e-09  2e-09 0:03.8\n",
            "  600   7800 1.449130146672822e+03 3.2e+00 1.15e-09  5e-10  6e-10 0:04.6\n",
            "  700   9100 1.449130146672824e+03 4.5e+00 9.97e-10  4e-10  6e-10 0:05.4\n",
            "  800  10400 1.449130146672815e+03 5.9e+00 6.73e-10  2e-10  5e-10 0:06.1\n",
            "  900  11700 1.449130146672822e+03 7.0e+00 8.75e-10  3e-10  6e-10 0:06.9\n",
            " 1000  13000 1.449130146672819e+03 8.3e+00 1.44e-09  5e-10  1e-09 0:07.6\n",
            "Iterat #Fevals   function value  axis ratio  sigma  min&max std  t[m:s]\n",
            " 1100  14300 1.449130146672826e+03 9.5e+00 2.49e-09  8e-10  2e-09 0:08.4\n",
            " 1200  15600 1.449130146672820e+03 1.0e+01 2.37e-09  7e-10  1e-09 0:09.2\n",
            " 1300  16900 1.449130146672825e+03 1.1e+01 1.04e-09  3e-10  7e-10 0:10.0\n",
            " 1400  18200 1.449130146672823e+03 1.3e+01 5.77e-10  2e-10  4e-10 0:10.8\n",
            " 1440  18720 1.449130146672829e+03 1.5e+01 3.78e-10  1e-10  3e-10 0:11.1\n",
            "termination on tolstagnation=1061 (Mon Apr 13 13:06:17 2020)\n",
            "final/bestever f-value = 1.449130e+03 1.449130e+03\n",
            "incumbent solution: [-0.13348989  0.04772924  0.20936674 -0.3089567  -0.13875619 -0.172137\n",
            "  0.2155367   0.14328292 ...]\n",
            "std deviations: [1.29921448e-10 1.95191577e-10 1.78101367e-10 1.67955997e-10\n",
            " 1.78955372e-10 1.45003938e-10 1.78948189e-10 2.17293616e-10 ...]\n",
            "(6_w,13)-aCMA-ES (mu_w=4.0,w_1=38%) in dimension 25 (seed=839919, Mon Apr 13 13:06:17 2020)\n",
            "Iterat #Fevals   function value  axis ratio  sigma  min&max std  t[m:s]\n",
            "    1     13 1.071646059172233e+04 1.0e+00 1.24e-01  1e-01  1e-01 0:00.0\n",
            "    2     26 9.602066472702511e+03 1.1e+00 1.24e-01  1e-01  1e-01 0:00.0\n",
            "    3     39 7.475168786856804e+03 1.1e+00 1.29e-01  1e-01  1e-01 0:00.0\n"
          ],
          "name": "stdout"
        },
        {
          "output_type": "stream",
          "text": [
            "/usr/local/lib/python3.6/dist-packages/cma/utilities/utils.py:333: UserWarning: function_values is not a list of scalars,\n",
            "                        the first element equals [12745.89295235] with non-scalar type <class 'numpy.ndarray'>.\n",
            "                        Using now ``[v[0] for v in function_values]`` instead (further warnings are suppressed) ()\n",
            "  ')')\n",
            "/usr/local/lib/python3.6/dist-packages/cma/utilities/utils.py:333: UserWarning: function_values is not a list of scalars,\n",
            "                        the first element equals [11444.33117793] with non-scalar type <class 'numpy.ndarray'>.\n",
            "                        Using now ``[v[0] for v in function_values]`` instead (further warnings are suppressed) ()\n",
            "  ')')\n"
          ],
          "name": "stderr"
        },
        {
          "output_type": "stream",
          "text": [
            "   62    806 -4.922027368654587e+09 1.6e+00 1.34e+02  1e+02  1e+02 0:00.7\n",
            "termination on tolfacupx=1000.0 (Mon Apr 13 13:06:18 2020)\n",
            "final/bestever f-value = -4.477458e+09 -4.922027e+09\n",
            "incumbent solution: [  76.17074791  -31.11911802  159.34338405 -613.87804419 -445.86079921\n",
            " -221.18887421   37.13021118  159.88387283 ...]\n",
            "std deviations: [125.86389934 125.89974405 127.1859926  131.98212037 123.87156027\n",
            " 119.6916103  130.54566216 125.69193684 ...]\n",
            "Run : 7\n",
            "(6_w,13)-aCMA-ES (mu_w=4.0,w_1=38%) in dimension 25 (seed=922181, Mon Apr 13 13:06:18 2020)\n",
            "Iterat #Fevals   function value  axis ratio  sigma  min&max std  t[m:s]\n",
            "    1     13 8.717883149309326e+03 1.0e+00 1.21e-01  1e-01  1e-01 0:00.0\n",
            "    2     26 8.717332982727343e+03 1.1e+00 1.22e-01  1e-01  1e-01 0:00.0\n",
            "    3     39 8.717024592071941e+03 1.1e+00 1.25e-01  1e-01  1e-01 0:00.0\n"
          ],
          "name": "stdout"
        },
        {
          "output_type": "stream",
          "text": [
            "/usr/local/lib/python3.6/dist-packages/cma/utilities/utils.py:333: UserWarning: function_values is not a list of scalars,\n",
            "                        the first element equals [8717.88314931] with non-scalar type <class 'numpy.ndarray'>.\n",
            "                        Using now ``[v[0] for v in function_values]`` instead (further warnings are suppressed) ()\n",
            "  ')')\n",
            "/usr/local/lib/python3.6/dist-packages/cma/utilities/utils.py:333: UserWarning: function_values is not a list of scalars,\n",
            "                        the first element equals [8718.62722529] with non-scalar type <class 'numpy.ndarray'>.\n",
            "                        Using now ``[v[0] for v in function_values]`` instead (further warnings are suppressed) ()\n",
            "  ')')\n"
          ],
          "name": "stderr"
        },
        {
          "output_type": "stream",
          "text": [
            "  100   1300 -5.617885127568714e+03 1.7e+00 1.26e-02  1e-02  1e-02 0:00.9\n",
            "  200   2600 -5.660920814362633e+03 1.9e+00 1.90e-04  1e-04  2e-04 0:01.9\n",
            "  300   3900 -5.660929614735669e+03 2.0e+00 4.04e-06  2e-06  3e-06 0:02.8\n",
            "  400   5200 -5.660929618682250e+03 2.1e+00 5.97e-08  3e-08  4e-08 0:03.8\n",
            "  500   6500 -5.660929618682700e+03 2.5e+00 3.46e-09  2e-09  2e-09 0:04.7\n",
            "  557   7241 -5.660929618682700e+03 2.9e+00 2.13e-09  9e-10  1e-09 0:05.2\n",
            "termination on tolfun=1e-11 (Mon Apr 13 13:06:24 2020)\n",
            "final/bestever f-value = -5.660930e+03 -5.660930e+03\n",
            "incumbent solution: [-0.1082453   0.02181811  0.23798786 -0.32829555 -0.1673149  -0.17437785\n",
            "  0.09472679  0.11535658 ...]\n",
            "std deviations: [1.08463140e-09 1.04067322e-09 1.00101647e-09 1.09720614e-09\n",
            " 9.91981474e-10 1.10081273e-09 1.07513557e-09 1.20021129e-09 ...]\n",
            "(6_w,13)-aCMA-ES (mu_w=4.0,w_1=38%) in dimension 25 (seed=848450, Mon Apr 13 13:06:25 2020)\n",
            "Iterat #Fevals   function value  axis ratio  sigma  min&max std  t[m:s]\n",
            "    1     13 8.548710397412584e+03 1.0e+00 1.23e-01  1e-01  1e-01 0:00.0\n",
            "    2     26 8.548484773083930e+03 1.1e+00 1.21e-01  1e-01  1e-01 0:00.0\n",
            "    3     39 8.548611026534409e+03 1.1e+00 1.18e-01  1e-01  1e-01 0:00.0\n"
          ],
          "name": "stdout"
        },
        {
          "output_type": "stream",
          "text": [
            "/usr/local/lib/python3.6/dist-packages/cma/utilities/utils.py:333: UserWarning: function_values is not a list of scalars,\n",
            "                        the first element equals [8549.1158144] with non-scalar type <class 'numpy.ndarray'>.\n",
            "                        Using now ``[v[0] for v in function_values]`` instead (further warnings are suppressed) ()\n",
            "  ')')\n",
            "/usr/local/lib/python3.6/dist-packages/cma/utilities/utils.py:333: UserWarning: function_values is not a list of scalars,\n",
            "                        the first element equals [8548.8531471] with non-scalar type <class 'numpy.ndarray'>.\n",
            "                        Using now ``[v[0] for v in function_values]`` instead (further warnings are suppressed) ()\n",
            "  ')')\n"
          ],
          "name": "stderr"
        },
        {
          "output_type": "stream",
          "text": [
            "  100   1300 1.473950907805264e+03 1.7e+00 1.08e-02  9e-03  1e-02 0:00.8\n",
            "  200   2600 1.449132445880770e+03 1.9e+00 1.51e-04  1e-04  1e-04 0:01.6\n",
            "  300   3900 1.449130147306089e+03 1.9e+00 2.35e-06  1e-06  2e-06 0:02.3\n",
            "  400   5200 1.449130146672888e+03 2.0e+00 3.15e-08  1e-08  2e-08 0:03.1\n",
            "  500   6500 1.449130146672831e+03 2.7e+00 5.14e-09  2e-09  3e-09 0:03.9\n",
            "  600   7800 1.449130146672827e+03 3.2e+00 2.01e-09  8e-10  1e-09 0:04.7\n",
            "  700   9100 1.449130146672829e+03 4.0e+00 1.03e-09  4e-10  7e-10 0:05.4\n",
            "  800  10400 1.449130146672827e+03 5.4e+00 1.10e-09  4e-10  8e-10 0:06.2\n",
            "  900  11700 1.449130146672820e+03 6.7e+00 1.20e-09  5e-10  9e-10 0:07.0\n",
            " 1000  13000 1.449130146672828e+03 6.8e+00 9.30e-10  3e-10  7e-10 0:07.7\n",
            "Iterat #Fevals   function value  axis ratio  sigma  min&max std  t[m:s]\n",
            " 1100  14300 1.449130146672820e+03 7.8e+00 1.29e-09  5e-10  9e-10 0:08.5\n",
            " 1200  15600 1.449130146672828e+03 9.6e+00 1.23e-09  4e-10  8e-10 0:09.3\n",
            " 1300  16900 1.449130146672831e+03 1.2e+01 2.25e-09  8e-10  2e-09 0:10.0\n",
            " 1310  17030 1.449130146672830e+03 1.2e+01 2.51e-09  9e-10  2e-09 0:10.1\n",
            "termination on tolstagnation=1061 (Mon Apr 13 13:06:38 2020)\n",
            "final/bestever f-value = 1.449130e+03 1.449130e+03\n",
            "incumbent solution: [-0.13348987  0.04772924  0.20936674 -0.30895669 -0.13875619 -0.172137\n",
            "  0.2155367   0.14328292 ...]\n",
            "std deviations: [1.33352097e-09 9.08210284e-10 9.63284574e-10 1.09707987e-09\n",
            " 1.06457258e-09 1.30729264e-09 1.01368551e-09 1.18409561e-09 ...]\n",
            "(6_w,13)-aCMA-ES (mu_w=4.0,w_1=38%) in dimension 25 (seed=852074, Mon Apr 13 13:06:38 2020)\n",
            "Iterat #Fevals   function value  axis ratio  sigma  min&max std  t[m:s]\n",
            "    1     13 9.803834279858247e+03 1.0e+00 1.20e-01  1e-01  1e-01 0:00.0\n",
            "    2     26 8.911175015401122e+03 1.1e+00 1.20e-01  1e-01  1e-01 0:00.0\n",
            "    3     39 8.045897818742855e+03 1.1e+00 1.23e-01  1e-01  1e-01 0:00.0\n"
          ],
          "name": "stdout"
        },
        {
          "output_type": "stream",
          "text": [
            "/usr/local/lib/python3.6/dist-packages/cma/utilities/utils.py:333: UserWarning: function_values is not a list of scalars,\n",
            "                        the first element equals [9979.17768351] with non-scalar type <class 'numpy.ndarray'>.\n",
            "                        Using now ``[v[0] for v in function_values]`` instead (further warnings are suppressed) ()\n",
            "  ')')\n",
            "/usr/local/lib/python3.6/dist-packages/cma/utilities/utils.py:333: UserWarning: function_values is not a list of scalars,\n",
            "                        the first element equals [10307.62918688] with non-scalar type <class 'numpy.ndarray'>.\n",
            "                        Using now ``[v[0] for v in function_values]`` instead (further warnings are suppressed) ()\n",
            "  ')')\n"
          ],
          "name": "stderr"
        },
        {
          "output_type": "stream",
          "text": [
            "   73    949 -8.266797153605805e+09 1.9e+00 1.37e+02  1e+02  1e+02 0:00.8\n",
            "termination on tolfacupx=1000.0 (Mon Apr 13 13:06:39 2020)\n",
            "final/bestever f-value = -6.138855e+09 -8.266797e+09\n",
            "incumbent solution: [-442.81594654  218.33222729  -58.53261771 -254.76788825  -99.68921462\n",
            " -276.00857564 -122.76228635   62.52227362 ...]\n",
            "std deviations: [132.79348432 139.06614776 124.52030794 122.64395871 129.30093171\n",
            " 137.64221144 132.81664311 134.46596709 ...]\n",
            "Run : 8\n",
            "(6_w,13)-aCMA-ES (mu_w=4.0,w_1=38%) in dimension 25 (seed=907094, Mon Apr 13 13:06:39 2020)\n",
            "Iterat #Fevals   function value  axis ratio  sigma  min&max std  t[m:s]\n",
            "    1     13 8.717004570718607e+03 1.0e+00 1.24e-01  1e-01  1e-01 0:00.0\n",
            "    2     26 8.716902242268330e+03 1.1e+00 1.26e-01  1e-01  1e-01 0:00.0\n",
            "    3     39 8.716849348048767e+03 1.2e+00 1.30e-01  1e-01  1e-01 0:00.0\n"
          ],
          "name": "stdout"
        },
        {
          "output_type": "stream",
          "text": [
            "/usr/local/lib/python3.6/dist-packages/cma/utilities/utils.py:333: UserWarning: function_values is not a list of scalars,\n",
            "                        the first element equals [8717.92070371] with non-scalar type <class 'numpy.ndarray'>.\n",
            "                        Using now ``[v[0] for v in function_values]`` instead (further warnings are suppressed) ()\n",
            "  ')')\n",
            "/usr/local/lib/python3.6/dist-packages/cma/utilities/utils.py:333: UserWarning: function_values is not a list of scalars,\n",
            "                        the first element equals [8716.9053538] with non-scalar type <class 'numpy.ndarray'>.\n",
            "                        Using now ``[v[0] for v in function_values]`` instead (further warnings are suppressed) ()\n",
            "  ')')\n"
          ],
          "name": "stderr"
        },
        {
          "output_type": "stream",
          "text": [
            "  100   1300 -5.459738810018374e+03 1.9e+00 2.97e-02  3e-02  3e-02 0:00.9\n",
            "  200   2600 -5.660844162196256e+03 1.9e+00 5.81e-04  4e-04  5e-04 0:01.9\n",
            "  300   3900 -5.660929599913750e+03 2.1e+00 1.03e-05  6e-06  8e-06 0:02.8\n",
            "  400   5200 -5.660929618677948e+03 2.2e+00 1.59e-07  8e-08  1e-07 0:03.7\n",
            "  500   6500 -5.660929618682700e+03 2.6e+00 4.59e-09  2e-09  3e-09 0:04.7\n",
            "  537   6981 -5.660929618682700e+03 2.8e+00 2.06e-09  9e-10  1e-09 0:05.0\n",
            "termination on tolfun=1e-11 (Mon Apr 13 13:06:45 2020)\n",
            "final/bestever f-value = -5.660930e+03 -5.660930e+03\n",
            "incumbent solution: [-0.10824531  0.02181811  0.23798786 -0.32829556 -0.1673149  -0.17437784\n",
            "  0.09472679  0.11535657 ...]\n",
            "std deviations: [1.19204351e-09 9.75688232e-10 9.45400302e-10 1.16828999e-09\n",
            " 8.83471051e-10 9.90259517e-10 1.00956095e-09 1.09900281e-09 ...]\n",
            "(6_w,13)-aCMA-ES (mu_w=4.0,w_1=38%) in dimension 25 (seed=900684, Mon Apr 13 13:06:46 2020)\n",
            "Iterat #Fevals   function value  axis ratio  sigma  min&max std  t[m:s]\n",
            "    1     13 8.548856344295418e+03 1.0e+00 1.22e-01  1e-01  1e-01 0:00.0\n",
            "    2     26 8.548851315967737e+03 1.1e+00 1.22e-01  1e-01  1e-01 0:00.0\n",
            "    3     39 8.548849865642702e+03 1.1e+00 1.26e-01  1e-01  1e-01 0:00.0\n"
          ],
          "name": "stdout"
        },
        {
          "output_type": "stream",
          "text": [
            "/usr/local/lib/python3.6/dist-packages/cma/utilities/utils.py:333: UserWarning: function_values is not a list of scalars,\n",
            "                        the first element equals [8548.86223794] with non-scalar type <class 'numpy.ndarray'>.\n",
            "                        Using now ``[v[0] for v in function_values]`` instead (further warnings are suppressed) ()\n",
            "  ')')\n",
            "/usr/local/lib/python3.6/dist-packages/cma/utilities/utils.py:333: UserWarning: function_values is not a list of scalars,\n",
            "                        the first element equals [8548.85446175] with non-scalar type <class 'numpy.ndarray'>.\n",
            "                        Using now ``[v[0] for v in function_values]`` instead (further warnings are suppressed) ()\n",
            "  ')')\n"
          ],
          "name": "stderr"
        },
        {
          "output_type": "stream",
          "text": [
            "  100   1300 1.481085446934615e+03 1.9e+00 1.40e-02  1e-02  1e-02 0:00.8\n",
            "  200   2600 1.449140827769376e+03 1.8e+00 2.53e-04  2e-04  2e-04 0:01.6\n",
            "  300   3900 1.449130148243501e+03 2.1e+00 3.40e-06  2e-06  3e-06 0:02.4\n",
            "  400   5200 1.449130146673317e+03 2.1e+00 6.72e-08  3e-08  4e-08 0:03.1\n",
            "  500   6500 1.449130146672826e+03 2.4e+00 5.09e-09  2e-09  3e-09 0:03.9\n",
            "  600   7800 1.449130146672826e+03 3.0e+00 4.42e-09  2e-09  3e-09 0:04.6\n",
            "  700   9100 1.449130146672826e+03 3.9e+00 3.32e-09  1e-09  2e-09 0:05.4\n",
            "  800  10400 1.449130146672821e+03 4.3e+00 2.53e-09  9e-10  2e-09 0:06.2\n",
            "  900  11700 1.449130146672834e+03 5.8e+00 2.20e-09  7e-10  1e-09 0:06.9\n",
            " 1000  13000 1.449130146672828e+03 7.1e+00 1.02e-09  3e-10  7e-10 0:07.7\n",
            "Iterat #Fevals   function value  axis ratio  sigma  min&max std  t[m:s]\n",
            " 1100  14300 1.449130146672822e+03 8.6e+00 1.23e-09  3e-10  8e-10 0:08.5\n",
            " 1200  15600 1.449130146672828e+03 9.6e+00 6.25e-10  2e-10  4e-10 0:09.3\n",
            " 1300  16900 1.449130146672835e+03 1.0e+01 5.90e-10  2e-10  4e-10 0:10.0\n",
            " 1400  18200 1.449130146672828e+03 1.1e+01 6.44e-10  2e-10  4e-10 0:10.8\n",
            " 1450  18850 1.449130146672828e+03 1.2e+01 4.27e-10  1e-10  3e-10 0:11.2\n",
            "termination on tolstagnation=1061 (Mon Apr 13 13:07:01 2020)\n",
            "final/bestever f-value = 1.449130e+03 1.449130e+03\n",
            "incumbent solution: [-0.13348989  0.04772924  0.20936674 -0.30895669 -0.13875618 -0.17213701\n",
            "  0.2155367   0.14328292 ...]\n",
            "std deviations: [1.53573109e-10 1.40705023e-10 1.23251978e-10 2.69200480e-10\n",
            " 2.21724641e-10 2.22166439e-10 2.53680526e-10 2.83461581e-10 ...]\n",
            "(6_w,13)-aCMA-ES (mu_w=4.0,w_1=38%) in dimension 25 (seed=800549, Mon Apr 13 13:07:01 2020)\n",
            "Iterat #Fevals   function value  axis ratio  sigma  min&max std  t[m:s]\n",
            "    1     13 1.445931554407829e+04 1.0e+00 1.22e-01  1e-01  1e-01 0:00.0\n",
            "    2     26 1.418808825354913e+04 1.1e+00 1.23e-01  1e-01  1e-01 0:00.0\n",
            "    3     39 1.302624491449823e+04 1.1e+00 1.24e-01  1e-01  1e-01 0:00.0\n"
          ],
          "name": "stdout"
        },
        {
          "output_type": "stream",
          "text": [
            "/usr/local/lib/python3.6/dist-packages/cma/utilities/utils.py:333: UserWarning: function_values is not a list of scalars,\n",
            "                        the first element equals [16033.8777955] with non-scalar type <class 'numpy.ndarray'>.\n",
            "                        Using now ``[v[0] for v in function_values]`` instead (further warnings are suppressed) ()\n",
            "  ')')\n",
            "/usr/local/lib/python3.6/dist-packages/cma/utilities/utils.py:333: UserWarning: function_values is not a list of scalars,\n",
            "                        the first element equals [17900.34455061] with non-scalar type <class 'numpy.ndarray'>.\n",
            "                        Using now ``[v[0] for v in function_values]`` instead (further warnings are suppressed) ()\n",
            "  ')')\n"
          ],
          "name": "stderr"
        },
        {
          "output_type": "stream",
          "text": [
            "   66    858 -4.441805764586271e+09 2.2e+00 1.24e+02  1e+02  1e+02 0:00.8\n",
            "termination on tolfacupx=1000.0 (Mon Apr 13 13:07:02 2020)\n",
            "final/bestever f-value = -4.296479e+09 -4.441806e+09\n",
            "incumbent solution: [-350.39131251   36.78836203   37.45453617 -228.69072657  -58.25694045\n",
            " -242.95206087  -75.47125168   86.80780455 ...]\n",
            "std deviations: [120.00064765 119.63054677 119.6476676  117.03873651 125.18792551\n",
            " 118.28357002 122.20076897 141.13761794 ...]\n",
            "Run : 9\n",
            "(6_w,13)-aCMA-ES (mu_w=4.0,w_1=38%) in dimension 25 (seed=863794, Mon Apr 13 13:07:02 2020)\n",
            "Iterat #Fevals   function value  axis ratio  sigma  min&max std  t[m:s]\n",
            "    1     13 8.716811417774652e+03 1.0e+00 1.21e-01  1e-01  1e-01 0:00.0\n",
            "    2     26 8.716844702641269e+03 1.1e+00 1.19e-01  1e-01  1e-01 0:00.0\n",
            "    3     39 8.716512543723291e+03 1.1e+00 1.23e-01  1e-01  1e-01 0:00.0\n"
          ],
          "name": "stdout"
        },
        {
          "output_type": "stream",
          "text": [
            "/usr/local/lib/python3.6/dist-packages/cma/utilities/utils.py:333: UserWarning: function_values is not a list of scalars,\n",
            "                        the first element equals [8717.1343047] with non-scalar type <class 'numpy.ndarray'>.\n",
            "                        Using now ``[v[0] for v in function_values]`` instead (further warnings are suppressed) ()\n",
            "  ')')\n",
            "/usr/local/lib/python3.6/dist-packages/cma/utilities/utils.py:333: UserWarning: function_values is not a list of scalars,\n",
            "                        the first element equals [8717.12485774] with non-scalar type <class 'numpy.ndarray'>.\n",
            "                        Using now ``[v[0] for v in function_values]`` instead (further warnings are suppressed) ()\n",
            "  ')')\n"
          ],
          "name": "stderr"
        },
        {
          "output_type": "stream",
          "text": [
            "  100   1300 -5.643528929282889e+03 1.9e+00 6.92e-03  6e-03  7e-03 0:01.0\n",
            "  200   2600 -5.660927975690183e+03 1.9e+00 8.92e-05  6e-05  8e-05 0:01.9\n",
            "  300   3900 -5.660929618435606e+03 2.2e+00 1.18e-06  7e-07  9e-07 0:02.8\n",
            "  400   5200 -5.660929618682660e+03 2.4e+00 1.89e-08  9e-09  1e-08 0:03.8\n",
            "  493   6409 -5.660929618682703e+03 2.8e+00 1.95e-09  8e-10  1e-09 0:04.7\n",
            "termination on tolfun=1e-11 (Mon Apr 13 13:07:08 2020)\n",
            "final/bestever f-value = -5.660930e+03 -5.660930e+03\n",
            "incumbent solution: [-0.1082453   0.0218181   0.23798786 -0.32829556 -0.16731489 -0.17437785\n",
            "  0.09472679  0.11535658 ...]\n",
            "std deviations: [1.11774918e-09 8.76752662e-10 8.46607294e-10 1.11841312e-09\n",
            " 9.52627351e-10 1.09330337e-09 8.76140662e-10 1.18260040e-09 ...]\n",
            "(6_w,13)-aCMA-ES (mu_w=4.0,w_1=38%) in dimension 25 (seed=868492, Mon Apr 13 13:07:08 2020)\n",
            "Iterat #Fevals   function value  axis ratio  sigma  min&max std  t[m:s]\n",
            "    1     13 8.548815273536833e+03 1.0e+00 1.21e-01  1e-01  1e-01 0:00.0\n",
            "    2     26 8.548772073015713e+03 1.1e+00 1.17e-01  1e-01  1e-01 0:00.0\n",
            "    3     39 8.548684281532691e+03 1.1e+00 1.14e-01  1e-01  1e-01 0:00.0\n"
          ],
          "name": "stdout"
        },
        {
          "output_type": "stream",
          "text": [
            "/usr/local/lib/python3.6/dist-packages/cma/utilities/utils.py:333: UserWarning: function_values is not a list of scalars,\n",
            "                        the first element equals [8548.82842112] with non-scalar type <class 'numpy.ndarray'>.\n",
            "                        Using now ``[v[0] for v in function_values]`` instead (further warnings are suppressed) ()\n",
            "  ')')\n",
            "/usr/local/lib/python3.6/dist-packages/cma/utilities/utils.py:333: UserWarning: function_values is not a list of scalars,\n",
            "                        the first element equals [8548.83579035] with non-scalar type <class 'numpy.ndarray'>.\n",
            "                        Using now ``[v[0] for v in function_values]`` instead (further warnings are suppressed) ()\n",
            "  ')')\n"
          ],
          "name": "stderr"
        },
        {
          "output_type": "stream",
          "text": [
            "  100   1300 1.465371212313015e+03 1.9e+00 1.00e-02  8e-03  1e-02 0:00.8\n",
            "  200   2600 1.449131753455007e+03 1.9e+00 1.20e-04  8e-05  1e-04 0:01.6\n",
            "  300   3900 1.449130147361306e+03 2.0e+00 2.53e-06  1e-06  2e-06 0:02.3\n",
            "  400   5200 1.449130146672916e+03 2.1e+00 3.84e-08  2e-08  2e-08 0:03.1\n",
            "  500   6500 1.449130146672826e+03 2.3e+00 2.89e-09  1e-09  2e-09 0:03.9\n",
            "  600   7800 1.449130146672820e+03 3.3e+00 1.53e-09  6e-10  9e-10 0:04.6\n",
            "  700   9100 1.449130146672826e+03 3.6e+00 1.34e-09  5e-10  8e-10 0:05.4\n",
            "  800  10400 1.449130146672825e+03 5.6e+00 1.15e-09  4e-10  7e-10 0:06.2\n",
            "  900  11700 1.449130146672820e+03 6.1e+00 2.26e-09  9e-10  1e-09 0:07.0\n",
            " 1000  13000 1.449130146672825e+03 6.2e+00 1.38e-09  5e-10  9e-10 0:07.7\n",
            "Iterat #Fevals   function value  axis ratio  sigma  min&max std  t[m:s]\n",
            " 1100  14300 1.449130146672826e+03 8.0e+00 2.48e-09  8e-10  2e-09 0:08.5\n",
            " 1200  15600 1.449130146672826e+03 9.7e+00 3.17e-09  1e-09  2e-09 0:09.3\n",
            " 1300  16900 1.449130146672828e+03 1.1e+01 2.88e-09  1e-09  2e-09 0:10.1\n",
            " 1400  18200 1.449130146672813e+03 1.3e+01 2.39e-09  8e-10  2e-09 0:10.8\n",
            " 1460  18980 1.449130146672824e+03 1.4e+01 1.35e-09  5e-10  9e-10 0:11.3\n",
            "termination on tolstagnation=1061 (Mon Apr 13 13:07:23 2020)\n",
            "final/bestever f-value = 1.449130e+03 1.449130e+03\n",
            "incumbent solution: [-0.13348987  0.04772923  0.20936674 -0.30895669 -0.13875619 -0.172137\n",
            "  0.2155367   0.14328293 ...]\n",
            "std deviations: [5.57485630e-10 7.06241124e-10 5.22325901e-10 5.39548315e-10\n",
            " 5.17322893e-10 5.00671777e-10 6.51472010e-10 7.32236394e-10 ...]\n",
            "(6_w,13)-aCMA-ES (mu_w=4.0,w_1=38%) in dimension 25 (seed=840210, Mon Apr 13 13:07:23 2020)\n",
            "Iterat #Fevals   function value  axis ratio  sigma  min&max std  t[m:s]\n",
            "    1     13 1.050364140470721e+04 1.0e+00 1.20e-01  1e-01  1e-01 0:00.0\n",
            "    2     26 9.452314461738220e+03 1.1e+00 1.18e-01  1e-01  1e-01 0:00.0\n",
            "    3     39 8.322007169547807e+03 1.1e+00 1.18e-01  1e-01  1e-01 0:00.0\n"
          ],
          "name": "stdout"
        },
        {
          "output_type": "stream",
          "text": [
            "/usr/local/lib/python3.6/dist-packages/cma/utilities/utils.py:333: UserWarning: function_values is not a list of scalars,\n",
            "                        the first element equals [11174.04390888] with non-scalar type <class 'numpy.ndarray'>.\n",
            "                        Using now ``[v[0] for v in function_values]`` instead (further warnings are suppressed) ()\n",
            "  ')')\n",
            "/usr/local/lib/python3.6/dist-packages/cma/utilities/utils.py:333: UserWarning: function_values is not a list of scalars,\n",
            "                        the first element equals [10139.30725078] with non-scalar type <class 'numpy.ndarray'>.\n",
            "                        Using now ``[v[0] for v in function_values]`` instead (further warnings are suppressed) ()\n",
            "  ')')\n"
          ],
          "name": "stderr"
        },
        {
          "output_type": "stream",
          "text": [
            "   58    754 -3.283735076761381e+09 1.8e+00 1.22e+02  1e+02  1e+02 0:00.7\n",
            "termination on tolfacupx=1000.0 (Mon Apr 13 13:07:24 2020)\n",
            "final/bestever f-value = -2.925085e+09 -3.283735e+09\n",
            "incumbent solution: [ -92.52427165  118.13079185   67.71274454 -523.01486806 -169.64242239\n",
            " -135.92450265  218.24336256  -70.88943892 ...]\n",
            "std deviations: [115.59960198 119.14955612 107.17747226 129.05422963 114.03502097\n",
            " 115.38490858 115.03966363 121.23286603 ...]\n",
            "Run : 10\n",
            "(6_w,13)-aCMA-ES (mu_w=4.0,w_1=38%) in dimension 25 (seed=878066, Mon Apr 13 13:07:24 2020)\n",
            "Iterat #Fevals   function value  axis ratio  sigma  min&max std  t[m:s]\n",
            "    1     13 8.717112252821766e+03 1.0e+00 1.21e-01  1e-01  1e-01 0:00.0\n",
            "    2     26 8.716984449392514e+03 1.1e+00 1.21e-01  1e-01  1e-01 0:00.0\n",
            "    3     39 8.716873013348782e+03 1.1e+00 1.24e-01  1e-01  1e-01 0:00.0\n"
          ],
          "name": "stdout"
        },
        {
          "output_type": "stream",
          "text": [
            "/usr/local/lib/python3.6/dist-packages/cma/utilities/utils.py:333: UserWarning: function_values is not a list of scalars,\n",
            "                        the first element equals [8717.2588718] with non-scalar type <class 'numpy.ndarray'>.\n",
            "                        Using now ``[v[0] for v in function_values]`` instead (further warnings are suppressed) ()\n",
            "  ')')\n",
            "/usr/local/lib/python3.6/dist-packages/cma/utilities/utils.py:333: UserWarning: function_values is not a list of scalars,\n",
            "                        the first element equals [8717.53245722] with non-scalar type <class 'numpy.ndarray'>.\n",
            "                        Using now ``[v[0] for v in function_values]`` instead (further warnings are suppressed) ()\n",
            "  ')')\n"
          ],
          "name": "stderr"
        },
        {
          "output_type": "stream",
          "text": [
            "  100   1300 -5.415041538196323e+03 1.8e+00 2.76e-02  2e-02  3e-02 0:00.9\n",
            "  200   2600 -5.660873173067836e+03 1.8e+00 4.77e-04  3e-04  4e-04 0:01.9\n",
            "  300   3900 -5.660929607398162e+03 2.0e+00 7.88e-06  4e-06  6e-06 0:02.8\n",
            "  400   5200 -5.660929618680766e+03 2.1e+00 1.24e-07  6e-08  8e-08 0:03.8\n",
            "  500   6500 -5.660929618682700e+03 2.3e+00 4.54e-09  2e-09  3e-09 0:04.7\n",
            "  537   6981 -5.660929618682701e+03 2.6e+00 3.33e-09  1e-09  2e-09 0:05.0\n",
            "termination on tolfun=1e-11 (Mon Apr 13 13:07:30 2020)\n",
            "final/bestever f-value = -5.660930e+03 -5.660930e+03\n",
            "incumbent solution: [-0.10824531  0.0218181   0.23798786 -0.32829556 -0.1673149  -0.17437785\n",
            "  0.09472679  0.11535658 ...]\n",
            "std deviations: [1.72345212e-09 1.44132645e-09 1.35449105e-09 1.72947405e-09\n",
            " 1.53098489e-09 1.67479482e-09 1.56020731e-09 2.01803752e-09 ...]\n",
            "(6_w,13)-aCMA-ES (mu_w=4.0,w_1=38%) in dimension 25 (seed=904567, Mon Apr 13 13:07:30 2020)\n",
            "Iterat #Fevals   function value  axis ratio  sigma  min&max std  t[m:s]\n",
            "    1     13 8.548865690291212e+03 1.0e+00 1.22e-01  1e-01  1e-01 0:00.0\n",
            "    2     26 8.548855989431819e+03 1.1e+00 1.22e-01  1e-01  1e-01 0:00.0\n",
            "    3     39 8.548851568637669e+03 1.1e+00 1.28e-01  1e-01  1e-01 0:00.0\n"
          ],
          "name": "stdout"
        },
        {
          "output_type": "stream",
          "text": [
            "/usr/local/lib/python3.6/dist-packages/cma/utilities/utils.py:333: UserWarning: function_values is not a list of scalars,\n",
            "                        the first element equals [8549.08988311] with non-scalar type <class 'numpy.ndarray'>.\n",
            "                        Using now ``[v[0] for v in function_values]`` instead (further warnings are suppressed) ()\n",
            "  ')')\n",
            "/usr/local/lib/python3.6/dist-packages/cma/utilities/utils.py:333: UserWarning: function_values is not a list of scalars,\n",
            "                        the first element equals [8548.8646186] with non-scalar type <class 'numpy.ndarray'>.\n",
            "                        Using now ``[v[0] for v in function_values]`` instead (further warnings are suppressed) ()\n",
            "  ')')\n"
          ],
          "name": "stderr"
        },
        {
          "output_type": "stream",
          "text": [
            "  100   1300 1.486310545779895e+03 1.8e+00 1.39e-02  1e-02  1e-02 0:00.8\n",
            "  200   2600 1.449133003820073e+03 1.8e+00 1.59e-04  1e-04  1e-04 0:01.6\n",
            "  300   3900 1.449130147382998e+03 1.9e+00 2.28e-06  1e-06  2e-06 0:02.3\n",
            "  400   5200 1.449130146672934e+03 2.1e+00 4.03e-08  2e-08  3e-08 0:03.1\n",
            "  500   6500 1.449130146672829e+03 2.5e+00 3.28e-09  1e-09  2e-09 0:03.9\n",
            "  600   7800 1.449130146672823e+03 3.1e+00 2.10e-09  8e-10  1e-09 0:04.7\n",
            "  700   9100 1.449130146672824e+03 3.7e+00 2.04e-09  8e-10  1e-09 0:05.4\n",
            "  800  10400 1.449130146672823e+03 4.7e+00 1.82e-09  7e-10  1e-09 0:06.2\n",
            "  900  11700 1.449130146672821e+03 6.1e+00 1.34e-09  5e-10  9e-10 0:07.0\n",
            " 1000  13000 1.449130146672823e+03 7.3e+00 8.16e-10  3e-10  5e-10 0:07.7\n",
            "Iterat #Fevals   function value  axis ratio  sigma  min&max std  t[m:s]\n",
            " 1100  14300 1.449130146672826e+03 8.8e+00 5.42e-10  2e-10  4e-10 0:08.6\n",
            " 1200  15600 1.449130146672827e+03 9.9e+00 4.18e-10  1e-10  3e-10 0:09.3\n",
            " 1300  16900 1.449130146672823e+03 1.1e+01 2.89e-10  9e-11  2e-10 0:10.1\n",
            " 1400  18200 1.449130146672823e+03 1.1e+01 4.94e-10  1e-10  3e-10 0:10.9\n",
            " 1500  19500 1.449130146672825e+03 1.2e+01 4.27e-10  1e-10  3e-10 0:11.6\n",
            " 1530  19890 1.449130146672826e+03 1.3e+01 5.37e-10  2e-10  3e-10 0:11.9\n",
            "termination on tolstagnation=1061 (Mon Apr 13 13:07:46 2020)\n",
            "final/bestever f-value = 1.449130e+03 1.449130e+03\n",
            "incumbent solution: [-0.13348988  0.04772923  0.20936675 -0.3089567  -0.13875619 -0.17213701\n",
            "  0.2155367   0.1432829  ...]\n",
            "std deviations: [3.12991159e-10 2.04521921e-10 1.63561431e-10 2.78299932e-10\n",
            " 2.53394396e-10 1.87656528e-10 2.63276421e-10 2.22297732e-10 ...]\n",
            "(6_w,13)-aCMA-ES (mu_w=4.0,w_1=38%) in dimension 25 (seed=911849, Mon Apr 13 13:07:46 2020)\n",
            "Iterat #Fevals   function value  axis ratio  sigma  min&max std  t[m:s]\n",
            "    1     13 1.084145453960836e+04 1.0e+00 1.20e-01  1e-01  1e-01 0:00.0\n",
            "    2     26 9.349587169897593e+03 1.1e+00 1.20e-01  1e-01  1e-01 0:00.0\n",
            "    3     39 8.907703025865629e+03 1.1e+00 1.21e-01  1e-01  1e-01 0:00.0\n"
          ],
          "name": "stdout"
        },
        {
          "output_type": "stream",
          "text": [
            "/usr/local/lib/python3.6/dist-packages/cma/utilities/utils.py:333: UserWarning: function_values is not a list of scalars,\n",
            "                        the first element equals [14965.38897538] with non-scalar type <class 'numpy.ndarray'>.\n",
            "                        Using now ``[v[0] for v in function_values]`` instead (further warnings are suppressed) ()\n",
            "  ')')\n",
            "/usr/local/lib/python3.6/dist-packages/cma/utilities/utils.py:333: UserWarning: function_values is not a list of scalars,\n",
            "                        the first element equals [11409.95734899] with non-scalar type <class 'numpy.ndarray'>.\n",
            "                        Using now ``[v[0] for v in function_values]`` instead (further warnings are suppressed) ()\n",
            "  ')')\n"
          ],
          "name": "stderr"
        },
        {
          "output_type": "stream",
          "text": [
            "   64    832 -4.431799337588204e+09 1.6e+00 1.26e+02  1e+02  1e+02 0:00.7\n",
            "termination on tolfacupx=1000.0 (Mon Apr 13 13:07:47 2020)\n",
            "final/bestever f-value = -4.176783e+09 -4.431799e+09\n",
            "incumbent solution: [-335.6829676    26.53118272  -57.10409267 -279.65100142 -282.64736766\n",
            "  123.29081093  -57.2489174   396.90006148 ...]\n",
            "std deviations: [115.19097811 124.15297332 109.07206453 122.38637612 115.65079901\n",
            " 119.55482074 119.72885    118.51372148 ...]\n",
            "Run : 11\n",
            "(6_w,13)-aCMA-ES (mu_w=4.0,w_1=38%) in dimension 25 (seed=842335, Mon Apr 13 13:07:47 2020)\n",
            "Iterat #Fevals   function value  axis ratio  sigma  min&max std  t[m:s]\n",
            "    1     13 8.716928803050110e+03 1.0e+00 1.23e-01  1e-01  1e-01 0:00.0\n",
            "    2     26 8.716864888260474e+03 1.1e+00 1.20e-01  1e-01  1e-01 0:00.0\n",
            "    3     39 8.716850827180728e+03 1.1e+00 1.20e-01  1e-01  1e-01 0:00.0\n"
          ],
          "name": "stdout"
        },
        {
          "output_type": "stream",
          "text": [
            "/usr/local/lib/python3.6/dist-packages/cma/utilities/utils.py:333: UserWarning: function_values is not a list of scalars,\n",
            "                        the first element equals [8717.51707173] with non-scalar type <class 'numpy.ndarray'>.\n",
            "                        Using now ``[v[0] for v in function_values]`` instead (further warnings are suppressed) ()\n",
            "  ')')\n",
            "/usr/local/lib/python3.6/dist-packages/cma/utilities/utils.py:333: UserWarning: function_values is not a list of scalars,\n",
            "                        the first element equals [8716.86488826] with non-scalar type <class 'numpy.ndarray'>.\n",
            "                        Using now ``[v[0] for v in function_values]`` instead (further warnings are suppressed) ()\n",
            "  ')')\n"
          ],
          "name": "stderr"
        },
        {
          "output_type": "stream",
          "text": [
            "  100   1300 -5.371806972766226e+03 1.8e+00 2.49e-02  2e-02  2e-02 0:01.0\n",
            "  200   2600 -5.660887444695247e+03 1.9e+00 3.92e-04  3e-04  4e-04 0:01.9\n",
            "  300   3900 -5.660929615029741e+03 2.2e+00 5.14e-06  3e-06  4e-06 0:02.8\n",
            "  400   5200 -5.660929618681719e+03 2.2e+00 9.42e-08  5e-08  6e-08 0:03.8\n",
            "  500   6500 -5.660929618682701e+03 2.5e+00 3.20e-09  1e-09  2e-09 0:04.7\n",
            "  525   6825 -5.660929618682701e+03 2.5e+00 2.55e-09  1e-09  1e-09 0:05.0\n",
            "termination on tolfun=1e-11 (Mon Apr 13 13:07:53 2020)\n",
            "final/bestever f-value = -5.660930e+03 -5.660930e+03\n",
            "incumbent solution: [-0.1082453   0.02181811  0.23798785 -0.32829556 -0.16731489 -0.17437784\n",
            "  0.09472679  0.11535658 ...]\n",
            "std deviations: [1.43754222e-09 1.13616806e-09 1.04936567e-09 1.47947058e-09\n",
            " 1.19054983e-09 1.41558453e-09 1.31222885e-09 1.46589700e-09 ...]\n",
            "(6_w,13)-aCMA-ES (mu_w=4.0,w_1=38%) in dimension 25 (seed=930216, Mon Apr 13 13:07:53 2020)\n",
            "Iterat #Fevals   function value  axis ratio  sigma  min&max std  t[m:s]\n",
            "    1     13 8.548848045817378e+03 1.0e+00 1.19e-01  1e-01  1e-01 0:00.0\n",
            "    2     26 8.548845322267627e+03 1.1e+00 1.18e-01  1e-01  1e-01 0:00.0\n",
            "    3     39 8.548831226748534e+03 1.1e+00 1.21e-01  1e-01  1e-01 0:00.0\n"
          ],
          "name": "stdout"
        },
        {
          "output_type": "stream",
          "text": [
            "/usr/local/lib/python3.6/dist-packages/cma/utilities/utils.py:333: UserWarning: function_values is not a list of scalars,\n",
            "                        the first element equals [8548.86738618] with non-scalar type <class 'numpy.ndarray'>.\n",
            "                        Using now ``[v[0] for v in function_values]`` instead (further warnings are suppressed) ()\n",
            "  ')')\n",
            "/usr/local/lib/python3.6/dist-packages/cma/utilities/utils.py:333: UserWarning: function_values is not a list of scalars,\n",
            "                        the first element equals [8548.85263204] with non-scalar type <class 'numpy.ndarray'>.\n",
            "                        Using now ``[v[0] for v in function_values]`` instead (further warnings are suppressed) ()\n",
            "  ')')\n"
          ],
          "name": "stderr"
        },
        {
          "output_type": "stream",
          "text": [
            "  100   1300 1.497144980226419e+03 1.7e+00 1.55e-02  1e-02  2e-02 0:00.8\n",
            "  200   2600 1.449133700276473e+03 1.9e+00 1.69e-04  1e-04  1e-04 0:01.6\n",
            "  300   3900 1.449130147367502e+03 1.9e+00 2.60e-06  1e-06  2e-06 0:02.3\n",
            "  400   5200 1.449130146672889e+03 2.0e+00 3.27e-08  1e-08  2e-08 0:03.1\n",
            "  500   6500 1.449130146672829e+03 2.6e+00 2.51e-09  1e-09  2e-09 0:03.9\n",
            "  600   7800 1.449130146672816e+03 3.3e+00 1.51e-09  6e-10  9e-10 0:04.7\n",
            "  700   9100 1.449130146672819e+03 3.9e+00 1.02e-09  4e-10  7e-10 0:05.4\n",
            "  800  10400 1.449130146672829e+03 4.8e+00 1.72e-09  7e-10  1e-09 0:06.2\n",
            "  900  11700 1.449130146672825e+03 6.1e+00 8.30e-10  3e-10  5e-10 0:07.0\n",
            " 1000  13000 1.449130146672822e+03 6.4e+00 9.97e-10  3e-10  7e-10 0:07.7\n",
            "Iterat #Fevals   function value  axis ratio  sigma  min&max std  t[m:s]\n",
            " 1100  14300 1.449130146672825e+03 7.8e+00 1.40e-09  5e-10  1e-09 0:08.5\n",
            " 1200  15600 1.449130146672826e+03 1.0e+01 1.89e-09  6e-10  1e-09 0:09.2\n",
            " 1300  16900 1.449130146672822e+03 1.2e+01 2.30e-09  8e-10  2e-09 0:10.0\n",
            " 1400  18200 1.449130146672815e+03 1.3e+01 2.26e-09  8e-10  2e-09 0:10.8\n",
            " 1500  19500 1.449130146672824e+03 1.4e+01 1.85e-09  7e-10  1e-09 0:11.5\n",
            " 1600  20800 1.449130146672821e+03 1.7e+01 3.20e-09  1e-09  2e-09 0:12.3\n",
            " 1700  22100 1.449130146672819e+03 1.7e+01 1.89e-09  6e-10  1e-09 0:13.1\n",
            " 1800  23400 1.449130146672826e+03 1.7e+01 3.80e-09  1e-09  3e-09 0:13.8\n",
            " 1845  23985 1.449130146672826e+03 1.7e+01 2.89e-09  8e-10  2e-09 0:14.2\n",
            "termination on tolstagnation=1061 (Mon Apr 13 13:08:13 2020)\n",
            "final/bestever f-value = 1.449130e+03 1.449130e+03\n",
            "incumbent solution: [-0.13348988  0.04772924  0.20936673 -0.3089567  -0.13875619 -0.172137\n",
            "  0.21553669  0.14328292 ...]\n",
            "std deviations: [1.28214340e-09 8.45037354e-10 1.65067939e-09 1.07240475e-09\n",
            " 1.59964070e-09 1.14200929e-09 1.34474535e-09 1.73787031e-09 ...]\n",
            "(6_w,13)-aCMA-ES (mu_w=4.0,w_1=38%) in dimension 25 (seed=864890, Mon Apr 13 13:08:13 2020)\n",
            "Iterat #Fevals   function value  axis ratio  sigma  min&max std  t[m:s]\n",
            "    1     13 1.237142109840671e+04 1.0e+00 1.22e-01  1e-01  1e-01 0:00.0\n",
            "    2     26 1.205901104135378e+04 1.1e+00 1.19e-01  1e-01  1e-01 0:00.0\n",
            "    3     39 1.036392603508104e+04 1.1e+00 1.20e-01  1e-01  1e-01 0:00.0\n"
          ],
          "name": "stdout"
        },
        {
          "output_type": "stream",
          "text": [
            "/usr/local/lib/python3.6/dist-packages/cma/utilities/utils.py:333: UserWarning: function_values is not a list of scalars,\n",
            "                        the first element equals [17329.85497836] with non-scalar type <class 'numpy.ndarray'>.\n",
            "                        Using now ``[v[0] for v in function_values]`` instead (further warnings are suppressed) ()\n",
            "  ')')\n",
            "/usr/local/lib/python3.6/dist-packages/cma/utilities/utils.py:333: UserWarning: function_values is not a list of scalars,\n",
            "                        the first element equals [12812.02452428] with non-scalar type <class 'numpy.ndarray'>.\n",
            "                        Using now ``[v[0] for v in function_values]`` instead (further warnings are suppressed) ()\n",
            "  ')')\n"
          ],
          "name": "stderr"
        },
        {
          "output_type": "stream",
          "text": [
            "   77   1001 -5.720746065203506e+09 2.2e+00 1.10e+02  1e+02  1e+02 0:00.9\n",
            "termination on tolfacupx=1000.0 (Mon Apr 13 13:08:14 2020)\n",
            "final/bestever f-value = -5.022188e+09 -5.720746e+09\n",
            "incumbent solution: [ 474.04692141 -137.08583484  -68.1808105   427.80577496  125.09221745\n",
            "   57.26087073  165.27235421 -293.60784779 ...]\n",
            "std deviations: [119.68524676 105.92659291  95.58357199 113.65349346 102.22440722\n",
            " 108.38427602 107.85696437 105.52129324 ...]\n",
            "Run : 12\n",
            "(6_w,13)-aCMA-ES (mu_w=4.0,w_1=38%) in dimension 25 (seed=901281, Mon Apr 13 13:08:14 2020)\n",
            "Iterat #Fevals   function value  axis ratio  sigma  min&max std  t[m:s]\n",
            "    1     13 8.716661756432155e+03 1.0e+00 1.17e-01  1e-01  1e-01 0:00.0\n",
            "    2     26 8.716396009903689e+03 1.1e+00 1.13e-01  1e-01  1e-01 0:00.0\n",
            "    3     39 8.715845661001855e+03 1.1e+00 1.11e-01  1e-01  1e-01 0:00.0\n"
          ],
          "name": "stdout"
        },
        {
          "output_type": "stream",
          "text": [
            "/usr/local/lib/python3.6/dist-packages/cma/utilities/utils.py:333: UserWarning: function_values is not a list of scalars,\n",
            "                        the first element equals [8716.83111098] with non-scalar type <class 'numpy.ndarray'>.\n",
            "                        Using now ``[v[0] for v in function_values]`` instead (further warnings are suppressed) ()\n",
            "  ')')\n",
            "/usr/local/lib/python3.6/dist-packages/cma/utilities/utils.py:333: UserWarning: function_values is not a list of scalars,\n",
            "                        the first element equals [8716.80994157] with non-scalar type <class 'numpy.ndarray'>.\n",
            "                        Using now ``[v[0] for v in function_values]`` instead (further warnings are suppressed) ()\n",
            "  ')')\n"
          ],
          "name": "stderr"
        },
        {
          "output_type": "stream",
          "text": [
            "  100   1300 -5.629491464476941e+03 1.7e+00 9.53e-03  8e-03  9e-03 0:00.9\n",
            "  200   2600 -5.660921384506981e+03 1.9e+00 1.66e-04  1e-04  1e-04 0:01.9\n",
            "  300   3900 -5.660929617732809e+03 2.1e+00 2.80e-06  2e-06  2e-06 0:02.8\n",
            "  400   5200 -5.660929618682589e+03 2.1e+00 2.84e-08  1e-08  2e-08 0:03.7\n",
            "  500   6500 -5.660929618682701e+03 2.4e+00 1.94e-09  9e-10  1e-09 0:04.7\n",
            "  501   6513 -5.660929618682701e+03 2.4e+00 1.95e-09  9e-10  1e-09 0:04.7\n",
            "termination on tolfun=1e-11 (Mon Apr 13 13:08:20 2020)\n",
            "final/bestever f-value = -5.660930e+03 -5.660930e+03\n",
            "incumbent solution: [-0.1082453   0.0218181   0.23798786 -0.32829555 -0.1673149  -0.17437785\n",
            "  0.09472679  0.11535658 ...]\n",
            "std deviations: [1.03507472e-09 9.81925875e-10 9.17561230e-10 1.03865834e-09\n",
            " 9.00800123e-10 1.05324031e-09 1.09219636e-09 1.18124931e-09 ...]\n",
            "(6_w,13)-aCMA-ES (mu_w=4.0,w_1=38%) in dimension 25 (seed=896777, Mon Apr 13 13:08:20 2020)\n",
            "Iterat #Fevals   function value  axis ratio  sigma  min&max std  t[m:s]\n",
            "    1     13 8.548814396732570e+03 1.0e+00 1.22e-01  1e-01  1e-01 0:00.0\n",
            "    2     26 8.548794835945675e+03 1.1e+00 1.18e-01  1e-01  1e-01 0:00.0\n",
            "    3     39 8.548706460871172e+03 1.1e+00 1.19e-01  1e-01  1e-01 0:00.0\n"
          ],
          "name": "stdout"
        },
        {
          "output_type": "stream",
          "text": [
            "/usr/local/lib/python3.6/dist-packages/cma/utilities/utils.py:333: UserWarning: function_values is not a list of scalars,\n",
            "                        the first element equals [8548.84051967] with non-scalar type <class 'numpy.ndarray'>.\n",
            "                        Using now ``[v[0] for v in function_values]`` instead (further warnings are suppressed) ()\n",
            "  ')')\n",
            "/usr/local/lib/python3.6/dist-packages/cma/utilities/utils.py:333: UserWarning: function_values is not a list of scalars,\n",
            "                        the first element equals [8548.84020003] with non-scalar type <class 'numpy.ndarray'>.\n",
            "                        Using now ``[v[0] for v in function_values]`` instead (further warnings are suppressed) ()\n",
            "  ')')\n"
          ],
          "name": "stderr"
        },
        {
          "output_type": "stream",
          "text": [
            "  100   1300 1.481335699898694e+03 1.7e+00 1.22e-02  1e-02  1e-02 0:00.8\n",
            "  200   2600 1.449134470570011e+03 1.8e+00 1.63e-04  1e-04  1e-04 0:01.5\n",
            "  300   3900 1.449130147105015e+03 1.9e+00 2.25e-06  1e-06  2e-06 0:02.3\n",
            "  400   5200 1.449130146672847e+03 2.0e+00 2.00e-08  9e-09  1e-08 0:03.1\n",
            "  500   6500 1.449130146672826e+03 2.5e+00 3.14e-09  1e-09  2e-09 0:03.8\n",
            "  600   7800 1.449130146672819e+03 3.1e+00 2.73e-09  1e-09  2e-09 0:04.6\n",
            "  700   9100 1.449130146672827e+03 4.3e+00 1.24e-09  4e-10  8e-10 0:05.4\n",
            "  800  10400 1.449130146672817e+03 5.0e+00 5.44e-10  2e-10  4e-10 0:06.2\n",
            "  900  11700 1.449130146672826e+03 6.6e+00 1.01e-09  3e-10  6e-10 0:06.9\n",
            " 1000  13000 1.449130146672824e+03 7.8e+00 5.65e-10  2e-10  4e-10 0:07.7\n",
            "Iterat #Fevals   function value  axis ratio  sigma  min&max std  t[m:s]\n",
            " 1100  14300 1.449130146672823e+03 8.7e+00 3.15e-10  8e-11  2e-10 0:08.5\n",
            " 1200  15600 1.449130146672820e+03 9.3e+00 2.88e-10  7e-11  2e-10 0:09.2\n",
            " 1300  16900 1.449130146672816e+03 1.1e+01 3.25e-10  8e-11  2e-10 0:10.0\n",
            " 1400  18200 1.449130146672815e+03 1.3e+01 5.64e-10  1e-10  3e-10 0:10.8\n",
            " 1500  19500 1.449130146672815e+03 1.5e+01 8.33e-10  2e-10  5e-10 0:11.6\n",
            " 1505  19565 1.449130146672821e+03 1.6e+01 8.16e-10  2e-10  5e-10 0:11.6\n",
            "termination on tolstagnation=1061 (Mon Apr 13 13:08:35 2020)\n",
            "final/bestever f-value = 1.449130e+03 1.449130e+03\n",
            "incumbent solution: [-0.13348988  0.04772923  0.20936674 -0.30895669 -0.13875619 -0.17213701\n",
            "  0.2155367   0.14328291 ...]\n",
            "std deviations: [5.27167054e-10 5.06600965e-10 1.89157155e-10 3.80482405e-10\n",
            " 3.27146218e-10 4.45876092e-10 4.25769188e-10 4.38690901e-10 ...]\n",
            "(6_w,13)-aCMA-ES (mu_w=4.0,w_1=38%) in dimension 25 (seed=906768, Mon Apr 13 13:08:35 2020)\n",
            "Iterat #Fevals   function value  axis ratio  sigma  min&max std  t[m:s]\n",
            "    1     13 7.757374824831474e+03 1.0e+00 1.24e-01  1e-01  1e-01 0:00.0\n",
            "    2     26 7.337266411630165e+03 1.1e+00 1.25e-01  1e-01  1e-01 0:00.0\n",
            "    3     39 6.924908575913531e+03 1.2e+00 1.25e-01  1e-01  1e-01 0:00.0\n"
          ],
          "name": "stdout"
        },
        {
          "output_type": "stream",
          "text": [
            "/usr/local/lib/python3.6/dist-packages/cma/utilities/utils.py:333: UserWarning: function_values is not a list of scalars,\n",
            "                        the first element equals [10733.47343426] with non-scalar type <class 'numpy.ndarray'>.\n",
            "                        Using now ``[v[0] for v in function_values]`` instead (further warnings are suppressed) ()\n",
            "  ')')\n",
            "/usr/local/lib/python3.6/dist-packages/cma/utilities/utils.py:333: UserWarning: function_values is not a list of scalars,\n",
            "                        the first element equals [8953.26586149] with non-scalar type <class 'numpy.ndarray'>.\n",
            "                        Using now ``[v[0] for v in function_values]`` instead (further warnings are suppressed) ()\n",
            "  ')')\n"
          ],
          "name": "stderr"
        },
        {
          "output_type": "stream",
          "text": [
            "   65    845 -4.622599282396776e+09 1.8e+00 1.18e+02  1e+02  1e+02 0:00.8\n",
            "termination on tolfacupx=1000.0 (Mon Apr 13 13:08:36 2020)\n",
            "final/bestever f-value = -4.367648e+09 -4.622599e+09\n",
            "incumbent solution: [-335.85191094  230.93423553  146.86518811 -562.54780698 -347.10638863\n",
            "  -31.55852074 -153.74454821  181.29224306 ...]\n",
            "std deviations: [117.19284116 116.36940285 108.88595985 114.77358663 111.73862747\n",
            " 107.03698475 111.0046913  114.10138555 ...]\n",
            "Run : 13\n",
            "(6_w,13)-aCMA-ES (mu_w=4.0,w_1=38%) in dimension 25 (seed=951939, Mon Apr 13 13:08:36 2020)\n",
            "Iterat #Fevals   function value  axis ratio  sigma  min&max std  t[m:s]\n",
            "    1     13 8.716872378386819e+03 1.0e+00 1.22e-01  1e-01  1e-01 0:00.0\n",
            "    2     26 8.717321074052841e+03 1.1e+00 1.20e-01  1e-01  1e-01 0:00.0\n",
            "    3     39 8.716769094682793e+03 1.1e+00 1.21e-01  1e-01  1e-01 0:00.0\n"
          ],
          "name": "stdout"
        },
        {
          "output_type": "stream",
          "text": [
            "/usr/local/lib/python3.6/dist-packages/cma/utilities/utils.py:333: UserWarning: function_values is not a list of scalars,\n",
            "                        the first element equals [8716.87237839] with non-scalar type <class 'numpy.ndarray'>.\n",
            "                        Using now ``[v[0] for v in function_values]`` instead (further warnings are suppressed) ()\n",
            "  ')')\n",
            "/usr/local/lib/python3.6/dist-packages/cma/utilities/utils.py:333: UserWarning: function_values is not a list of scalars,\n",
            "                        the first element equals [8717.50164798] with non-scalar type <class 'numpy.ndarray'>.\n",
            "                        Using now ``[v[0] for v in function_values]`` instead (further warnings are suppressed) ()\n",
            "  ')')\n"
          ],
          "name": "stderr"
        },
        {
          "output_type": "stream",
          "text": [
            "  100   1300 -5.585139279038391e+03 1.8e+00 1.68e-02  1e-02  2e-02 0:00.9\n",
            "  200   2600 -5.660923980124882e+03 2.1e+00 1.96e-04  1e-04  2e-04 0:01.8\n",
            "  300   3900 -5.660929616478988e+03 2.2e+00 3.35e-06  2e-06  3e-06 0:02.8\n",
            "  400   5200 -5.660929618682399e+03 2.1e+00 6.36e-08  3e-08  4e-08 0:03.7\n",
            "  500   6500 -5.660929618682701e+03 2.5e+00 3.24e-09  1e-09  2e-09 0:04.7\n",
            "  508   6604 -5.660929618682700e+03 2.5e+00 2.73e-09  1e-09  2e-09 0:04.8\n",
            "termination on tolfun=1e-11 (Mon Apr 13 13:08:42 2020)\n",
            "final/bestever f-value = -5.660930e+03 -5.660930e+03\n",
            "incumbent solution: [-0.10824531  0.0218181   0.23798786 -0.32829555 -0.1673149  -0.17437785\n",
            "  0.09472679  0.11535658 ...]\n",
            "std deviations: [1.62227541e-09 1.26602836e-09 1.16486678e-09 1.56308804e-09\n",
            " 1.24575952e-09 1.54899246e-09 1.59784688e-09 1.45927830e-09 ...]\n",
            "(6_w,13)-aCMA-ES (mu_w=4.0,w_1=38%) in dimension 25 (seed=942760, Mon Apr 13 13:08:42 2020)\n",
            "Iterat #Fevals   function value  axis ratio  sigma  min&max std  t[m:s]\n",
            "    1     13 8.548672180866832e+03 1.0e+00 1.22e-01  1e-01  1e-01 0:00.0\n",
            "    2     26 8.548005747454128e+03 1.1e+00 1.19e-01  1e-01  1e-01 0:00.0\n",
            "    3     39 8.547217588599166e+03 1.1e+00 1.20e-01  1e-01  1e-01 0:00.0\n"
          ],
          "name": "stdout"
        },
        {
          "output_type": "stream",
          "text": [
            "/usr/local/lib/python3.6/dist-packages/cma/utilities/utils.py:333: UserWarning: function_values is not a list of scalars,\n",
            "                        the first element equals [8548.86530412] with non-scalar type <class 'numpy.ndarray'>.\n",
            "                        Using now ``[v[0] for v in function_values]`` instead (further warnings are suppressed) ()\n",
            "  ')')\n",
            "/usr/local/lib/python3.6/dist-packages/cma/utilities/utils.py:333: UserWarning: function_values is not a list of scalars,\n",
            "                        the first element equals [8548.00574745] with non-scalar type <class 'numpy.ndarray'>.\n",
            "                        Using now ``[v[0] for v in function_values]`` instead (further warnings are suppressed) ()\n",
            "  ')')\n"
          ],
          "name": "stderr"
        },
        {
          "output_type": "stream",
          "text": [
            "  100   1300 1.469218636312543e+03 2.0e+00 1.01e-02  8e-03  1e-02 0:00.8\n",
            "  200   2600 1.449133369924952e+03 1.9e+00 1.44e-04  1e-04  1e-04 0:01.6\n",
            "  300   3900 1.449130146992256e+03 2.0e+00 2.12e-06  1e-06  2e-06 0:02.3\n",
            "  400   5200 1.449130146672852e+03 2.1e+00 2.46e-08  1e-08  2e-08 0:03.1\n",
            "  500   6500 1.449130146672826e+03 2.8e+00 5.55e-09  2e-09  4e-09 0:03.8\n",
            "  600   7800 1.449130146672826e+03 3.1e+00 2.92e-09  1e-09  2e-09 0:04.6\n",
            "  700   9100 1.449130146672826e+03 3.9e+00 1.07e-09  4e-10  7e-10 0:05.4\n",
            "  800  10400 1.449130146672823e+03 4.9e+00 1.22e-09  5e-10  8e-10 0:06.2\n",
            "  900  11700 1.449130146672829e+03 5.9e+00 9.48e-10  3e-10  6e-10 0:06.9\n",
            " 1000  13000 1.449130146672827e+03 6.2e+00 1.28e-09  5e-10  9e-10 0:07.7\n",
            "Iterat #Fevals   function value  axis ratio  sigma  min&max std  t[m:s]\n",
            " 1100  14300 1.449130146672830e+03 7.3e+00 1.44e-09  5e-10  1e-09 0:08.5\n",
            " 1200  15600 1.449130146672829e+03 9.2e+00 1.94e-09  7e-10  1e-09 0:09.2\n",
            " 1300  16900 1.449130146672821e+03 1.1e+01 2.15e-09  7e-10  1e-09 0:10.0\n",
            " 1400  18200 1.449130146672828e+03 1.2e+01 2.51e-09  7e-10  2e-09 0:10.8\n",
            " 1500  19500 1.449130146672833e+03 1.4e+01 1.70e-09  5e-10  1e-09 0:11.5\n",
            " 1515  19695 1.449130146672830e+03 1.3e+01 1.09e-09  3e-10  7e-10 0:11.6\n",
            "termination on tolstagnation=1061 (Mon Apr 13 13:08:58 2020)\n",
            "final/bestever f-value = 1.449130e+03 1.449130e+03\n",
            "incumbent solution: [-0.13348987  0.04772923  0.20936674 -0.30895669 -0.13875618 -0.172137\n",
            "  0.2155367   0.14328293 ...]\n",
            "std deviations: [5.63401155e-10 4.37001371e-10 5.29268704e-10 5.58079639e-10\n",
            " 5.81177970e-10 4.47603699e-10 5.83606924e-10 7.28272475e-10 ...]\n",
            "(6_w,13)-aCMA-ES (mu_w=4.0,w_1=38%) in dimension 25 (seed=861096, Mon Apr 13 13:08:58 2020)\n",
            "Iterat #Fevals   function value  axis ratio  sigma  min&max std  t[m:s]\n",
            "    1     13 1.265186525865766e+04 1.0e+00 1.23e-01  1e-01  1e-01 0:00.0\n",
            "    2     26 1.210099071576373e+04 1.1e+00 1.23e-01  1e-01  1e-01 0:00.0\n",
            "    3     39 1.129588470614738e+04 1.1e+00 1.24e-01  1e-01  1e-01 0:00.0\n"
          ],
          "name": "stdout"
        },
        {
          "output_type": "stream",
          "text": [
            "/usr/local/lib/python3.6/dist-packages/cma/utilities/utils.py:333: UserWarning: function_values is not a list of scalars,\n",
            "                        the first element equals [13089.22030418] with non-scalar type <class 'numpy.ndarray'>.\n",
            "                        Using now ``[v[0] for v in function_values]`` instead (further warnings are suppressed) ()\n",
            "  ')')\n",
            "/usr/local/lib/python3.6/dist-packages/cma/utilities/utils.py:333: UserWarning: function_values is not a list of scalars,\n",
            "                        the first element equals [12100.99071576] with non-scalar type <class 'numpy.ndarray'>.\n",
            "                        Using now ``[v[0] for v in function_values]`` instead (further warnings are suppressed) ()\n",
            "  ')')\n"
          ],
          "name": "stderr"
        },
        {
          "output_type": "stream",
          "text": [
            "   71    923 -4.941792416958337e+09 1.6e+00 1.31e+02  1e+02  1e+02 0:00.8\n",
            "termination on tolfacupx=1000.0 (Mon Apr 13 13:08:59 2020)\n",
            "final/bestever f-value = -4.538982e+09 -4.941792e+09\n",
            "incumbent solution: [  69.4537372  -121.19541763 -274.50487078  112.82264289  495.67327376\n",
            "  333.97341331  225.66441849 -209.04559968 ...]\n",
            "std deviations: [121.25887328 126.65042378 116.26730766 118.99862662 119.79541492\n",
            " 128.60795904 120.4790044  128.42729222 ...]\n",
            "Run : 14\n",
            "(6_w,13)-aCMA-ES (mu_w=4.0,w_1=38%) in dimension 25 (seed=923138, Mon Apr 13 13:08:59 2020)\n",
            "Iterat #Fevals   function value  axis ratio  sigma  min&max std  t[m:s]\n",
            "    1     13 8.714877365027125e+03 1.0e+00 1.20e-01  1e-01  1e-01 0:00.0\n",
            "    2     26 8.710667445880586e+03 1.1e+00 1.18e-01  1e-01  1e-01 0:00.0\n",
            "    3     39 8.705351671997953e+03 1.1e+00 1.18e-01  1e-01  1e-01 0:00.0\n"
          ],
          "name": "stdout"
        },
        {
          "output_type": "stream",
          "text": [
            "/usr/local/lib/python3.6/dist-packages/cma/utilities/utils.py:333: UserWarning: function_values is not a list of scalars,\n",
            "                        the first element equals [8716.11607366] with non-scalar type <class 'numpy.ndarray'>.\n",
            "                        Using now ``[v[0] for v in function_values]`` instead (further warnings are suppressed) ()\n",
            "  ')')\n",
            "/usr/local/lib/python3.6/dist-packages/cma/utilities/utils.py:333: UserWarning: function_values is not a list of scalars,\n",
            "                        the first element equals [8714.96906486] with non-scalar type <class 'numpy.ndarray'>.\n",
            "                        Using now ``[v[0] for v in function_values]`` instead (further warnings are suppressed) ()\n",
            "  ')')\n"
          ],
          "name": "stderr"
        },
        {
          "output_type": "stream",
          "text": [
            "  100   1300 -5.631607211532953e+03 1.7e+00 9.89e-03  8e-03  1e-02 0:01.0\n",
            "  200   2600 -5.660923825829574e+03 1.9e+00 1.64e-04  1e-04  1e-04 0:01.9\n",
            "  300   3900 -5.660929616403826e+03 2.0e+00 3.34e-06  2e-06  2e-06 0:02.8\n",
            "  400   5200 -5.660929618682536e+03 2.3e+00 3.55e-08  2e-08  2e-08 0:03.8\n",
            "  496   6448 -5.660929618682701e+03 2.7e+00 2.89e-09  1e-09  2e-09 0:04.7\n",
            "termination on tolfun=1e-11 (Mon Apr 13 13:09:05 2020)\n",
            "final/bestever f-value = -5.660930e+03 -5.660930e+03\n",
            "incumbent solution: [-0.10824531  0.0218181   0.23798786 -0.32829555 -0.16731489 -0.17437785\n",
            "  0.0947268   0.11535657 ...]\n",
            "std deviations: [1.70518169e-09 1.31719102e-09 1.34268993e-09 1.50941388e-09\n",
            " 1.25425297e-09 1.62483029e-09 1.55463505e-09 1.63678159e-09 ...]\n",
            "(6_w,13)-aCMA-ES (mu_w=4.0,w_1=38%) in dimension 25 (seed=902227, Mon Apr 13 13:09:05 2020)\n",
            "Iterat #Fevals   function value  axis ratio  sigma  min&max std  t[m:s]\n",
            "    1     13 8.547835157883013e+03 1.0e+00 1.20e-01  1e-01  1e-01 0:00.0\n",
            "    2     26 8.547310963406686e+03 1.1e+00 1.14e-01  1e-01  1e-01 0:00.0\n",
            "    3     39 8.542812339128763e+03 1.1e+00 1.12e-01  1e-01  1e-01 0:00.0\n"
          ],
          "name": "stdout"
        },
        {
          "output_type": "stream",
          "text": [
            "/usr/local/lib/python3.6/dist-packages/cma/utilities/utils.py:333: UserWarning: function_values is not a list of scalars,\n",
            "                        the first element equals [8547.83515788] with non-scalar type <class 'numpy.ndarray'>.\n",
            "                        Using now ``[v[0] for v in function_values]`` instead (further warnings are suppressed) ()\n",
            "  ')')\n",
            "/usr/local/lib/python3.6/dist-packages/cma/utilities/utils.py:333: UserWarning: function_values is not a list of scalars,\n",
            "                        the first element equals [8548.6788412] with non-scalar type <class 'numpy.ndarray'>.\n",
            "                        Using now ``[v[0] for v in function_values]`` instead (further warnings are suppressed) ()\n",
            "  ')')\n"
          ],
          "name": "stderr"
        },
        {
          "output_type": "stream",
          "text": [
            "  100   1300 1.462646571054779e+03 1.8e+00 9.52e-03  8e-03  9e-03 0:00.8\n",
            "  200   2600 1.449132419833640e+03 1.8e+00 1.35e-04  9e-05  1e-04 0:01.5\n",
            "  300   3900 1.449130146978717e+03 1.9e+00 1.61e-06  9e-07  1e-06 0:02.3\n",
            "  400   5200 1.449130146672890e+03 2.0e+00 3.10e-08  1e-08  2e-08 0:03.1\n",
            "  500   6500 1.449130146672821e+03 2.5e+00 4.07e-09  2e-09  3e-09 0:03.9\n",
            "  600   7800 1.449130146672827e+03 3.0e+00 2.74e-09  1e-09  2e-09 0:04.6\n",
            "  700   9100 1.449130146672831e+03 4.1e+00 3.61e-09  1e-09  2e-09 0:05.4\n",
            "  800  10400 1.449130146672826e+03 5.2e+00 3.56e-09  1e-09  2e-09 0:06.2\n",
            "  900  11700 1.449130146672825e+03 6.1e+00 1.51e-09  5e-10  1e-09 0:06.9\n",
            " 1000  13000 1.449130146672824e+03 7.9e+00 9.39e-10  3e-10  6e-10 0:07.7\n",
            "Iterat #Fevals   function value  axis ratio  sigma  min&max std  t[m:s]\n",
            " 1100  14300 1.449130146672827e+03 9.8e+00 8.03e-10  3e-10  6e-10 0:08.5\n",
            " 1200  15600 1.449130146672826e+03 1.1e+01 1.47e-09  5e-10  1e-09 0:09.2\n",
            " 1300  16900 1.449130146672818e+03 1.3e+01 1.37e-09  4e-10  9e-10 0:10.0\n",
            " 1400  18200 1.449130146672822e+03 1.4e+01 3.94e-10  1e-10  3e-10 0:10.8\n",
            " 1500  19500 1.449130146672820e+03 1.5e+01 5.97e-10  1e-10  4e-10 0:11.6\n",
            " 1600  20800 1.449130146672819e+03 1.6e+01 6.33e-10  2e-10  4e-10 0:12.3\n",
            " 1700  22100 1.449130146672823e+03 1.8e+01 7.25e-10  2e-10  5e-10 0:13.1\n",
            " 1800  23400 1.449130146672821e+03 2.2e+01 8.36e-10  2e-10  5e-10 0:13.8\n",
            " 1900  24700 1.449130146672826e+03 2.7e+01 8.01e-10  2e-10  5e-10 0:14.6\n",
            " 1924  25012 1.449130146672825e+03 2.7e+01 9.67e-10  3e-10  6e-10 0:14.8\n",
            "termination on maxfevals=25000 (Mon Apr 13 13:09:25 2020)\n",
            "final/bestever f-value = 1.449130e+03 1.449130e+03\n",
            "incumbent solution: [-0.13348988  0.04772924  0.20936673 -0.30895669 -0.13875618 -0.172137\n",
            "  0.2155367   0.14328293 ...]\n",
            "std deviations: [5.17534405e-10 3.23075401e-10 3.97729842e-10 3.69613699e-10\n",
            " 2.68635573e-10 4.00297520e-10 5.16992906e-10 5.43707558e-10 ...]\n",
            "(6_w,13)-aCMA-ES (mu_w=4.0,w_1=38%) in dimension 25 (seed=955103, Mon Apr 13 13:09:25 2020)\n",
            "Iterat #Fevals   function value  axis ratio  sigma  min&max std  t[m:s]\n",
            "    1     13 1.100875547107816e+04 1.0e+00 1.21e-01  1e-01  1e-01 0:00.0\n",
            "    2     26 1.018208130861131e+04 1.1e+00 1.23e-01  1e-01  1e-01 0:00.0\n",
            "    3     39 9.101207895948877e+03 1.2e+00 1.27e-01  1e-01  1e-01 0:00.0\n"
          ],
          "name": "stdout"
        },
        {
          "output_type": "stream",
          "text": [
            "/usr/local/lib/python3.6/dist-packages/cma/utilities/utils.py:333: UserWarning: function_values is not a list of scalars,\n",
            "                        the first element equals [11008.75547108] with non-scalar type <class 'numpy.ndarray'>.\n",
            "                        Using now ``[v[0] for v in function_values]`` instead (further warnings are suppressed) ()\n",
            "  ')')\n",
            "/usr/local/lib/python3.6/dist-packages/cma/utilities/utils.py:333: UserWarning: function_values is not a list of scalars,\n",
            "                        the first element equals [11041.172493] with non-scalar type <class 'numpy.ndarray'>.\n",
            "                        Using now ``[v[0] for v in function_values]`` instead (further warnings are suppressed) ()\n",
            "  ')')\n"
          ],
          "name": "stderr"
        },
        {
          "output_type": "stream",
          "text": [
            "   63    819 -5.146081043208948e+09 1.6e+00 1.31e+02  1e+02  1e+02 0:00.7\n",
            "termination on tolfacupx=1000.0 (Mon Apr 13 13:09:26 2020)\n",
            "final/bestever f-value = -4.323652e+09 -5.146081e+09\n",
            "incumbent solution: [-109.10769799  108.62906043   21.85540561 -274.43225004 -453.48012022\n",
            " -220.6485767  -406.08921121  580.53223583 ...]\n",
            "std deviations: [121.68437533 129.88908712 123.92568514 121.93691265 131.93785586\n",
            " 121.27901056 119.80451141 123.01384581 ...]\n",
            "Run : 15\n",
            "(6_w,13)-aCMA-ES (mu_w=4.0,w_1=38%) in dimension 25 (seed=913794, Mon Apr 13 13:09:26 2020)\n",
            "Iterat #Fevals   function value  axis ratio  sigma  min&max std  t[m:s]\n",
            "    1     13 8.716847003627056e+03 1.0e+00 1.22e-01  1e-01  1e-01 0:00.0\n",
            "    2     26 8.716838219034511e+03 1.1e+00 1.23e-01  1e-01  1e-01 0:00.0\n",
            "    3     39 8.716840845826446e+03 1.1e+00 1.22e-01  1e-01  1e-01 0:00.0\n"
          ],
          "name": "stdout"
        },
        {
          "output_type": "stream",
          "text": [
            "/usr/local/lib/python3.6/dist-packages/cma/utilities/utils.py:333: UserWarning: function_values is not a list of scalars,\n",
            "                        the first element equals [8716.94908707] with non-scalar type <class 'numpy.ndarray'>.\n",
            "                        Using now ``[v[0] for v in function_values]`` instead (further warnings are suppressed) ()\n",
            "  ')')\n",
            "/usr/local/lib/python3.6/dist-packages/cma/utilities/utils.py:333: UserWarning: function_values is not a list of scalars,\n",
            "                        the first element equals [8716.84890888] with non-scalar type <class 'numpy.ndarray'>.\n",
            "                        Using now ``[v[0] for v in function_values]`` instead (further warnings are suppressed) ()\n",
            "  ')')\n"
          ],
          "name": "stderr"
        },
        {
          "output_type": "stream",
          "text": [
            "  100   1300 -5.531761119954370e+03 1.9e+00 1.48e-02  1e-02  1e-02 0:00.9\n",
            "  200   2600 -5.660910297642549e+03 1.9e+00 2.89e-04  2e-04  2e-04 0:01.9\n",
            "  300   3900 -5.660929616194171e+03 2.0e+00 3.99e-06  2e-06  3e-06 0:02.8\n",
            "  400   5200 -5.660929618682132e+03 2.4e+00 6.15e-08  3e-08  4e-08 0:03.7\n",
            "  500   6500 -5.660929618682700e+03 2.7e+00 3.29e-09  1e-09  2e-09 0:04.6\n",
            "  526   6838 -5.660929618682698e+03 3.1e+00 2.04e-09  8e-10  1e-09 0:04.9\n",
            "termination on tolfun=1e-11 (Mon Apr 13 13:09:32 2020)\n",
            "final/bestever f-value = -5.660930e+03 -5.660930e+03\n",
            "incumbent solution: [-0.1082453   0.0218181   0.23798786 -0.32829556 -0.16731489 -0.17437786\n",
            "  0.09472679  0.11535657 ...]\n",
            "std deviations: [1.04171834e-09 9.40010030e-10 8.48236214e-10 1.11721626e-09\n",
            " 8.24533383e-10 1.15014795e-09 1.02898285e-09 1.23166232e-09 ...]\n",
            "(6_w,13)-aCMA-ES (mu_w=4.0,w_1=38%) in dimension 25 (seed=896939, Mon Apr 13 13:09:32 2020)\n",
            "Iterat #Fevals   function value  axis ratio  sigma  min&max std  t[m:s]\n",
            "    1     13 8.548829522479889e+03 1.0e+00 1.22e-01  1e-01  1e-01 0:00.0\n",
            "    2     26 8.548837038698439e+03 1.1e+00 1.18e-01  1e-01  1e-01 0:00.0\n",
            "    3     39 8.548624287419969e+03 1.1e+00 1.18e-01  1e-01  1e-01 0:00.0\n"
          ],
          "name": "stdout"
        },
        {
          "output_type": "stream",
          "text": [
            "/usr/local/lib/python3.6/dist-packages/cma/utilities/utils.py:333: UserWarning: function_values is not a list of scalars,\n",
            "                        the first element equals [8548.84732993] with non-scalar type <class 'numpy.ndarray'>.\n",
            "                        Using now ``[v[0] for v in function_values]`` instead (further warnings are suppressed) ()\n",
            "  ')')\n",
            "/usr/local/lib/python3.6/dist-packages/cma/utilities/utils.py:333: UserWarning: function_values is not a list of scalars,\n",
            "                        the first element equals [8548.84554077] with non-scalar type <class 'numpy.ndarray'>.\n",
            "                        Using now ``[v[0] for v in function_values]`` instead (further warnings are suppressed) ()\n",
            "  ')')\n"
          ],
          "name": "stderr"
        },
        {
          "output_type": "stream",
          "text": [
            "  100   1300 1.477884094478321e+03 1.7e+00 1.20e-02  1e-02  1e-02 0:00.8\n",
            "  200   2600 1.449134813109315e+03 1.8e+00 2.16e-04  1e-04  2e-04 0:01.5\n",
            "  300   3900 1.449130147921363e+03 1.9e+00 3.79e-06  2e-06  3e-06 0:02.3\n",
            "  400   5200 1.449130146672932e+03 2.0e+00 4.32e-08  2e-08  3e-08 0:03.0\n",
            "  500   6500 1.449130146672831e+03 2.2e+00 5.07e-09  2e-09  3e-09 0:03.8\n",
            "  600   7800 1.449130146672817e+03 2.7e+00 3.87e-09  2e-09  2e-09 0:04.6\n",
            "  700   9100 1.449130146672827e+03 3.3e+00 3.24e-09  1e-09  2e-09 0:05.3\n",
            "  800  10400 1.449130146672823e+03 4.2e+00 1.25e-09  5e-10  7e-10 0:06.1\n",
            "  900  11700 1.449130146672829e+03 5.1e+00 1.08e-09  4e-10  6e-10 0:06.9\n",
            " 1000  13000 1.449130146672821e+03 6.1e+00 1.98e-09  7e-10  1e-09 0:07.7\n",
            "Iterat #Fevals   function value  axis ratio  sigma  min&max std  t[m:s]\n",
            " 1100  14300 1.449130146672829e+03 7.1e+00 2.20e-09  8e-10  1e-09 0:08.4\n",
            " 1200  15600 1.449130146672825e+03 7.8e+00 1.04e-09  3e-10  7e-10 0:09.2\n",
            " 1300  16900 1.449130146672824e+03 8.3e+00 1.47e-09  4e-10  9e-10 0:09.9\n",
            " 1400  18200 1.449130146672825e+03 9.7e+00 7.36e-10  2e-10  5e-10 0:10.7\n",
            " 1485  19305 1.449130146672828e+03 1.2e+01 9.36e-10  3e-10  6e-10 0:11.3\n",
            "termination on tolstagnation=1061 (Mon Apr 13 13:09:48 2020)\n",
            "final/bestever f-value = 1.449130e+03 1.449130e+03\n",
            "incumbent solution: [-0.13348989  0.04772924  0.20936674 -0.30895669 -0.13875619 -0.172137\n",
            "  0.2155367   0.14328292 ...]\n",
            "std deviations: [3.64460680e-10 3.91750666e-10 4.08864362e-10 4.39052539e-10\n",
            " 4.45652699e-10 5.54557210e-10 4.14787995e-10 4.23557739e-10 ...]\n",
            "(6_w,13)-aCMA-ES (mu_w=4.0,w_1=38%) in dimension 25 (seed=863328, Mon Apr 13 13:09:48 2020)\n",
            "Iterat #Fevals   function value  axis ratio  sigma  min&max std  t[m:s]\n",
            "    1     13 1.007371567652469e+04 1.0e+00 1.21e-01  1e-01  1e-01 0:00.0\n",
            "    2     26 9.813230403477852e+03 1.1e+00 1.18e-01  1e-01  1e-01 0:00.0\n",
            "    3     39 9.446829624975187e+03 1.1e+00 1.17e-01  1e-01  1e-01 0:00.0\n"
          ],
          "name": "stdout"
        },
        {
          "output_type": "stream",
          "text": [
            "/usr/local/lib/python3.6/dist-packages/cma/utilities/utils.py:333: UserWarning: function_values is not a list of scalars,\n",
            "                        the first element equals [13096.41147634] with non-scalar type <class 'numpy.ndarray'>.\n",
            "                        Using now ``[v[0] for v in function_values]`` instead (further warnings are suppressed) ()\n",
            "  ')')\n",
            "/usr/local/lib/python3.6/dist-packages/cma/utilities/utils.py:333: UserWarning: function_values is not a list of scalars,\n",
            "                        the first element equals [11454.69998031] with non-scalar type <class 'numpy.ndarray'>.\n",
            "                        Using now ``[v[0] for v in function_values]`` instead (further warnings are suppressed) ()\n",
            "  ')')\n"
          ],
          "name": "stderr"
        },
        {
          "output_type": "stream",
          "text": [
            "   73    949 -4.452160494641701e+09 1.8e+00 1.21e+02  1e+02  1e+02 0:00.9\n",
            "termination on tolfacupx=1000.0 (Mon Apr 13 13:09:49 2020)\n",
            "final/bestever f-value = -4.051545e+09 -4.452160e+09\n",
            "incumbent solution: [  99.11345568  -58.98202186 -213.45377638 -356.8245468   124.01916999\n",
            "  -61.18906464    2.62523692   26.09255458 ...]\n",
            "std deviations: [113.33266549 113.64956386 107.86674705 110.4470671  120.42891323\n",
            " 113.2004547  114.52078703 121.49628779 ...]\n",
            "Run : 16\n",
            "(6_w,13)-aCMA-ES (mu_w=4.0,w_1=38%) in dimension 25 (seed=848257, Mon Apr 13 13:09:49 2020)\n",
            "Iterat #Fevals   function value  axis ratio  sigma  min&max std  t[m:s]\n",
            "    1     13 8.716851961077555e+03 1.0e+00 1.25e-01  1e-01  1e-01 0:00.0\n",
            "    2     26 8.716566185400125e+03 1.1e+00 1.25e-01  1e-01  1e-01 0:00.0\n",
            "    3     39 8.715896599237958e+03 1.1e+00 1.25e-01  1e-01  1e-01 0:00.0\n"
          ],
          "name": "stdout"
        },
        {
          "output_type": "stream",
          "text": [
            "/usr/local/lib/python3.6/dist-packages/cma/utilities/utils.py:333: UserWarning: function_values is not a list of scalars,\n",
            "                        the first element equals [8716.92614706] with non-scalar type <class 'numpy.ndarray'>.\n",
            "                        Using now ``[v[0] for v in function_values]`` instead (further warnings are suppressed) ()\n",
            "  ')')\n",
            "/usr/local/lib/python3.6/dist-packages/cma/utilities/utils.py:333: UserWarning: function_values is not a list of scalars,\n",
            "                        the first element equals [8717.53774115] with non-scalar type <class 'numpy.ndarray'>.\n",
            "                        Using now ``[v[0] for v in function_values]`` instead (further warnings are suppressed) ()\n",
            "  ')')\n"
          ],
          "name": "stderr"
        },
        {
          "output_type": "stream",
          "text": [
            "  100   1300 -5.633389018064567e+03 1.8e+00 1.10e-02  9e-03  1e-02 0:00.9\n",
            "  200   2600 -5.660921427414953e+03 2.0e+00 2.00e-04  1e-04  2e-04 0:01.8\n",
            "  300   3900 -5.660929617573094e+03 2.2e+00 2.91e-06  2e-06  2e-06 0:02.8\n",
            "  400   5200 -5.660929618682527e+03 2.3e+00 4.58e-08  2e-08  3e-08 0:03.7\n",
            "  500   6500 -5.660929618682703e+03 2.4e+00 2.70e-09  1e-09  2e-09 0:04.6\n",
            "  511   6643 -5.660929618682701e+03 2.5e+00 2.88e-09  1e-09  2e-09 0:04.7\n",
            "termination on tolfun=1e-11 (Mon Apr 13 13:09:55 2020)\n",
            "final/bestever f-value = -5.660930e+03 -5.660930e+03\n",
            "incumbent solution: [-0.10824531  0.0218181   0.23798786 -0.32829555 -0.16731489 -0.17437785\n",
            "  0.09472679  0.11535658 ...]\n",
            "std deviations: [1.58244193e-09 1.54545326e-09 1.17341168e-09 1.64088093e-09\n",
            " 1.30519281e-09 1.56383313e-09 1.56504405e-09 1.61785319e-09 ...]\n",
            "(6_w,13)-aCMA-ES (mu_w=4.0,w_1=38%) in dimension 25 (seed=903412, Mon Apr 13 13:09:55 2020)\n",
            "Iterat #Fevals   function value  axis ratio  sigma  min&max std  t[m:s]\n",
            "    1     13 8.548459374385362e+03 1.0e+00 1.19e-01  1e-01  1e-01 0:00.0\n",
            "    2     26 8.548456816152191e+03 1.1e+00 1.15e-01  1e-01  1e-01 0:00.0\n",
            "    3     39 8.547682725982058e+03 1.1e+00 1.16e-01  1e-01  1e-01 0:00.0\n"
          ],
          "name": "stdout"
        },
        {
          "output_type": "stream",
          "text": [
            "/usr/local/lib/python3.6/dist-packages/cma/utilities/utils.py:333: UserWarning: function_values is not a list of scalars,\n",
            "                        the first element equals [8548.45937439] with non-scalar type <class 'numpy.ndarray'>.\n",
            "                        Using now ``[v[0] for v in function_values]`` instead (further warnings are suppressed) ()\n",
            "  ')')\n",
            "/usr/local/lib/python3.6/dist-packages/cma/utilities/utils.py:333: UserWarning: function_values is not a list of scalars,\n",
            "                        the first element equals [8548.82973439] with non-scalar type <class 'numpy.ndarray'>.\n",
            "                        Using now ``[v[0] for v in function_values]`` instead (further warnings are suppressed) ()\n",
            "  ')')\n"
          ],
          "name": "stderr"
        },
        {
          "output_type": "stream",
          "text": [
            "  100   1300 1.468552689793735e+03 1.7e+00 8.63e-03  7e-03  9e-03 0:00.8\n",
            "  200   2600 1.449135380258384e+03 1.8e+00 1.76e-04  1e-04  2e-04 0:01.6\n",
            "  300   3900 1.449130147289369e+03 2.0e+00 2.60e-06  1e-06  2e-06 0:02.3\n",
            "  400   5200 1.449130146673044e+03 2.1e+00 4.82e-08  2e-08  3e-08 0:03.1\n",
            "  500   6500 1.449130146672828e+03 2.4e+00 3.42e-09  2e-09  2e-09 0:03.9\n",
            "  600   7800 1.449130146672818e+03 3.2e+00 2.48e-09  1e-09  2e-09 0:04.7\n",
            "  700   9100 1.449130146672821e+03 3.9e+00 1.33e-09  5e-10  9e-10 0:05.4\n",
            "  800  10400 1.449130146672824e+03 4.6e+00 1.69e-09  7e-10  1e-09 0:06.2\n",
            "  900  11700 1.449130146672827e+03 5.3e+00 3.09e-09  1e-09  2e-09 0:07.0\n",
            " 1000  13000 1.449130146672823e+03 5.9e+00 1.89e-09  7e-10  1e-09 0:07.7\n",
            "Iterat #Fevals   function value  axis ratio  sigma  min&max std  t[m:s]\n",
            " 1100  14300 1.449130146672825e+03 6.2e+00 9.40e-10  3e-10  6e-10 0:08.5\n",
            " 1200  15600 1.449130146672827e+03 7.4e+00 1.36e-09  4e-10  9e-10 0:09.2\n",
            " 1300  16900 1.449130146672824e+03 8.4e+00 4.08e-10  1e-10  3e-10 0:10.0\n",
            " 1370  17810 1.449130146672824e+03 1.0e+01 7.25e-10  2e-10  5e-10 0:10.5\n",
            "termination on tolstagnation=1061 (Mon Apr 13 13:10:09 2020)\n",
            "final/bestever f-value = 1.449130e+03 1.449130e+03\n",
            "incumbent solution: [-0.13348987  0.04772922  0.20936674 -0.3089567  -0.13875618 -0.17213701\n",
            "  0.2155367   0.14328293 ...]\n",
            "std deviations: [3.25831253e-10 2.65664516e-10 3.63663006e-10 3.88374601e-10\n",
            " 3.08282567e-10 3.55747948e-10 2.80965074e-10 3.34851483e-10 ...]\n",
            "(6_w,13)-aCMA-ES (mu_w=4.0,w_1=38%) in dimension 25 (seed=832848, Mon Apr 13 13:10:09 2020)\n",
            "Iterat #Fevals   function value  axis ratio  sigma  min&max std  t[m:s]\n",
            "    1     13 8.919676809100234e+03 1.0e+00 1.22e-01  1e-01  1e-01 0:00.0\n",
            "    2     26 7.901614102285178e+03 1.1e+00 1.20e-01  1e-01  1e-01 0:00.0\n",
            "    3     39 7.232328984750627e+03 1.1e+00 1.24e-01  1e-01  1e-01 0:00.0\n"
          ],
          "name": "stdout"
        },
        {
          "output_type": "stream",
          "text": [
            "/usr/local/lib/python3.6/dist-packages/cma/utilities/utils.py:333: UserWarning: function_values is not a list of scalars,\n",
            "                        the first element equals [9143.83324487] with non-scalar type <class 'numpy.ndarray'>.\n",
            "                        Using now ``[v[0] for v in function_values]`` instead (further warnings are suppressed) ()\n",
            "  ')')\n",
            "/usr/local/lib/python3.6/dist-packages/cma/utilities/utils.py:333: UserWarning: function_values is not a list of scalars,\n",
            "                        the first element equals [10602.53550199] with non-scalar type <class 'numpy.ndarray'>.\n",
            "                        Using now ``[v[0] for v in function_values]`` instead (further warnings are suppressed) ()\n",
            "  ')')\n"
          ],
          "name": "stderr"
        },
        {
          "output_type": "stream",
          "text": [
            "   69    897 -4.347620023962536e+09 1.9e+00 1.37e+02  1e+02  1e+02 0:00.8\n",
            "termination on tolfacupx=1000.0 (Mon Apr 13 13:10:10 2020)\n",
            "final/bestever f-value = -3.757074e+09 -4.347620e+09\n",
            "incumbent solution: [-111.35380439  244.75628982  -94.65410792 -480.02032037   96.89968363\n",
            " -178.43644831  -10.56414353   50.31867078 ...]\n",
            "std deviations: [127.86801091 131.97272502 127.59845385 129.3839642  128.34430871\n",
            " 127.03669012 121.74985393 124.0540915  ...]\n",
            "Run : 17\n",
            "(6_w,13)-aCMA-ES (mu_w=4.0,w_1=38%) in dimension 25 (seed=905969, Mon Apr 13 13:10:10 2020)\n",
            "Iterat #Fevals   function value  axis ratio  sigma  min&max std  t[m:s]\n",
            "    1     13 8.714386253836143e+03 1.0e+00 1.19e-01  1e-01  1e-01 0:00.0\n",
            "    2     26 8.711595205713780e+03 1.1e+00 1.14e-01  1e-01  1e-01 0:00.0\n",
            "    3     39 8.708075345364581e+03 1.1e+00 1.12e-01  1e-01  1e-01 0:00.0\n"
          ],
          "name": "stdout"
        },
        {
          "output_type": "stream",
          "text": [
            "/usr/local/lib/python3.6/dist-packages/cma/utilities/utils.py:333: UserWarning: function_values is not a list of scalars,\n",
            "                        the first element equals [8716.80163799] with non-scalar type <class 'numpy.ndarray'>.\n",
            "                        Using now ``[v[0] for v in function_values]`` instead (further warnings are suppressed) ()\n",
            "  ')')\n",
            "/usr/local/lib/python3.6/dist-packages/cma/utilities/utils.py:333: UserWarning: function_values is not a list of scalars,\n",
            "                        the first element equals [8711.59520571] with non-scalar type <class 'numpy.ndarray'>.\n",
            "                        Using now ``[v[0] for v in function_values]`` instead (further warnings are suppressed) ()\n",
            "  ')')\n"
          ],
          "name": "stderr"
        },
        {
          "output_type": "stream",
          "text": [
            "  100   1300 -5.624718085067869e+03 2.0e+00 1.16e-02  9e-03  1e-02 0:01.0\n",
            "  200   2600 -5.660921305567503e+03 1.9e+00 1.78e-04  1e-04  2e-04 0:01.9\n",
            "  300   3900 -5.660929618028211e+03 2.1e+00 2.05e-06  1e-06  2e-06 0:02.8\n",
            "  400   5200 -5.660929618682638e+03 2.2e+00 2.22e-08  1e-08  1e-08 0:03.7\n",
            "  499   6487 -5.660929618682701e+03 2.7e+00 2.57e-09  1e-09  2e-09 0:04.6\n",
            "termination on tolfun=1e-11 (Mon Apr 13 13:10:16 2020)\n",
            "final/bestever f-value = -5.660930e+03 -5.660930e+03\n",
            "incumbent solution: [-0.10824531  0.0218181   0.23798786 -0.32829555 -0.1673149  -0.17437785\n",
            "  0.09472679  0.11535658 ...]\n",
            "std deviations: [1.33910943e-09 1.09505998e-09 1.10209344e-09 1.42385504e-09\n",
            " 1.16921783e-09 1.38549806e-09 1.39356939e-09 1.42180187e-09 ...]\n",
            "(6_w,13)-aCMA-ES (mu_w=4.0,w_1=38%) in dimension 25 (seed=896523, Mon Apr 13 13:10:16 2020)\n",
            "Iterat #Fevals   function value  axis ratio  sigma  min&max std  t[m:s]\n",
            "    1     13 8.548392133196839e+03 1.0e+00 1.22e-01  1e-01  1e-01 0:00.0\n",
            "    2     26 8.548361072343461e+03 1.1e+00 1.19e-01  1e-01  1e-01 0:00.0\n",
            "    3     39 8.547483627818498e+03 1.1e+00 1.18e-01  1e-01  1e-01 0:00.0\n"
          ],
          "name": "stdout"
        },
        {
          "output_type": "stream",
          "text": [
            "/usr/local/lib/python3.6/dist-packages/cma/utilities/utils.py:333: UserWarning: function_values is not a list of scalars,\n",
            "                        the first element equals [8548.79588615] with non-scalar type <class 'numpy.ndarray'>.\n",
            "                        Using now ``[v[0] for v in function_values]`` instead (further warnings are suppressed) ()\n",
            "  ')')\n",
            "/usr/local/lib/python3.6/dist-packages/cma/utilities/utils.py:333: UserWarning: function_values is not a list of scalars,\n",
            "                        the first element equals [8548.73892364] with non-scalar type <class 'numpy.ndarray'>.\n",
            "                        Using now ``[v[0] for v in function_values]`` instead (further warnings are suppressed) ()\n",
            "  ')')\n"
          ],
          "name": "stderr"
        },
        {
          "output_type": "stream",
          "text": [
            "  100   1300 1.471460988770047e+03 1.7e+00 9.89e-03  8e-03  1e-02 0:00.8\n",
            "  200   2600 1.449133533412313e+03 2.0e+00 1.38e-04  9e-05  1e-04 0:01.5\n",
            "  300   3900 1.449130147713350e+03 2.0e+00 2.65e-06  1e-06  2e-06 0:02.3\n",
            "  400   5200 1.449130146672990e+03 2.1e+00 4.59e-08  2e-08  3e-08 0:03.1\n",
            "  500   6500 1.449130146672831e+03 2.5e+00 3.50e-09  1e-09  2e-09 0:03.9\n",
            "  600   7800 1.449130146672815e+03 3.3e+00 2.57e-09  1e-09  2e-09 0:04.7\n",
            "  700   9100 1.449130146672826e+03 4.0e+00 2.27e-09  9e-10  1e-09 0:05.4\n",
            "  800  10400 1.449130146672827e+03 5.0e+00 1.88e-09  7e-10  1e-09 0:06.2\n",
            "  900  11700 1.449130146672821e+03 6.2e+00 2.88e-09  1e-09  2e-09 0:07.0\n",
            " 1000  13000 1.449130146672820e+03 7.0e+00 2.58e-09  9e-10  2e-09 0:07.8\n",
            "Iterat #Fevals   function value  axis ratio  sigma  min&max std  t[m:s]\n",
            " 1100  14300 1.449130146672823e+03 8.5e+00 2.74e-09  8e-10  2e-09 0:08.5\n",
            " 1200  15600 1.449130146672823e+03 9.5e+00 3.10e-09  9e-10  2e-09 0:09.3\n",
            " 1300  16900 1.449130146672819e+03 1.1e+01 2.44e-09  7e-10  1e-09 0:10.1\n",
            " 1400  18200 1.449130146672830e+03 1.2e+01 2.10e-09  6e-10  1e-09 0:10.8\n",
            " 1500  19500 1.449130146672818e+03 1.5e+01 3.21e-09  9e-10  2e-09 0:11.6\n",
            " 1520  19760 1.449130146672825e+03 1.5e+01 2.66e-09  7e-10  2e-09 0:11.8\n",
            "termination on tolstagnation=1061 (Mon Apr 13 13:10:32 2020)\n",
            "final/bestever f-value = 1.449130e+03 1.449130e+03\n",
            "incumbent solution: [-0.13348989  0.04772923  0.20936674 -0.30895669 -0.13875618 -0.172137\n",
            "  0.2155367   0.14328291 ...]\n",
            "std deviations: [1.40040743e-09 8.68388848e-10 7.49358204e-10 1.06277227e-09\n",
            " 1.38891230e-09 1.52601395e-09 1.14088197e-09 1.15873417e-09 ...]\n",
            "(6_w,13)-aCMA-ES (mu_w=4.0,w_1=38%) in dimension 25 (seed=828587, Mon Apr 13 13:10:32 2020)\n",
            "Iterat #Fevals   function value  axis ratio  sigma  min&max std  t[m:s]\n",
            "    1     13 8.584255935391322e+03 1.0e+00 1.22e-01  1e-01  1e-01 0:00.0\n",
            "    2     26 7.050292024914886e+03 1.1e+00 1.21e-01  1e-01  1e-01 0:00.0\n",
            "    3     39 4.471100340909946e+03 1.1e+00 1.24e-01  1e-01  1e-01 0:00.0\n"
          ],
          "name": "stdout"
        },
        {
          "output_type": "stream",
          "text": [
            "/usr/local/lib/python3.6/dist-packages/cma/utilities/utils.py:333: UserWarning: function_values is not a list of scalars,\n",
            "                        the first element equals [8584.25593539] with non-scalar type <class 'numpy.ndarray'>.\n",
            "                        Using now ``[v[0] for v in function_values]`` instead (further warnings are suppressed) ()\n",
            "  ')')\n",
            "/usr/local/lib/python3.6/dist-packages/cma/utilities/utils.py:333: UserWarning: function_values is not a list of scalars,\n",
            "                        the first element equals [7839.60815636] with non-scalar type <class 'numpy.ndarray'>.\n",
            "                        Using now ``[v[0] for v in function_values]`` instead (further warnings are suppressed) ()\n",
            "  ')')\n"
          ],
          "name": "stderr"
        },
        {
          "output_type": "stream",
          "text": [
            "   61    793 -4.322857906963981e+09 1.9e+00 1.26e+02  1e+02  1e+02 0:00.7\n",
            "termination on tolfacupx=1000.0 (Mon Apr 13 13:10:33 2020)\n",
            "final/bestever f-value = -4.133172e+09 -4.322858e+09\n",
            "incumbent solution: [-322.04753345 -159.75781895  -96.08775946 -295.36257344  -81.93386486\n",
            " -437.24771521  -92.14344898  -60.58186677 ...]\n",
            "std deviations: [127.94292827 116.54538514 116.05146205 126.99613841 121.98577566\n",
            " 124.76963648 115.74594642 123.82924152 ...]\n",
            "Run : 18\n",
            "(6_w,13)-aCMA-ES (mu_w=4.0,w_1=38%) in dimension 25 (seed=884603, Mon Apr 13 13:10:33 2020)\n",
            "Iterat #Fevals   function value  axis ratio  sigma  min&max std  t[m:s]\n",
            "    1     13 8.720246672199055e+03 1.0e+00 1.20e-01  1e-01  1e-01 0:00.0\n",
            "    2     26 8.718155989449993e+03 1.1e+00 1.19e-01  1e-01  1e-01 0:00.0\n",
            "    3     39 8.716853418273198e+03 1.1e+00 1.21e-01  1e-01  1e-01 0:00.0\n"
          ],
          "name": "stdout"
        },
        {
          "output_type": "stream",
          "text": [
            "/usr/local/lib/python3.6/dist-packages/cma/utilities/utils.py:333: UserWarning: function_values is not a list of scalars,\n",
            "                        the first element equals [8728.70710393] with non-scalar type <class 'numpy.ndarray'>.\n",
            "                        Using now ``[v[0] for v in function_values]`` instead (further warnings are suppressed) ()\n",
            "  ')')\n",
            "/usr/local/lib/python3.6/dist-packages/cma/utilities/utils.py:333: UserWarning: function_values is not a list of scalars,\n",
            "                        the first element equals [8719.65363557] with non-scalar type <class 'numpy.ndarray'>.\n",
            "                        Using now ``[v[0] for v in function_values]`` instead (further warnings are suppressed) ()\n",
            "  ')')\n"
          ],
          "name": "stderr"
        },
        {
          "output_type": "stream",
          "text": [
            "  100   1300 -5.621553154445364e+03 1.8e+00 1.10e-02  9e-03  1e-02 0:00.9\n",
            "  200   2600 -5.660919823947695e+03 1.8e+00 2.13e-04  1e-04  2e-04 0:01.9\n",
            "  300   3900 -5.660929616917623e+03 2.0e+00 3.06e-06  2e-06  2e-06 0:02.8\n",
            "  400   5200 -5.660929618682521e+03 2.1e+00 4.73e-08  2e-08  3e-08 0:03.8\n",
            "  500   6500 -5.660929618682698e+03 2.4e+00 3.80e-09  2e-09  2e-09 0:04.7\n",
            "  538   6994 -5.660929618682701e+03 2.5e+00 2.23e-09  9e-10  1e-09 0:05.0\n",
            "termination on tolfun=1e-11 (Mon Apr 13 13:10:39 2020)\n",
            "final/bestever f-value = -5.660930e+03 -5.660930e+03\n",
            "incumbent solution: [-0.1082453   0.0218181   0.23798786 -0.32829556 -0.1673149  -0.17437785\n",
            "  0.09472679  0.11535658 ...]\n",
            "std deviations: [1.21350309e-09 1.00633686e-09 9.12199169e-10 1.11466712e-09\n",
            " 9.67998036e-10 1.19947691e-09 1.12856737e-09 1.20669830e-09 ...]\n",
            "(6_w,13)-aCMA-ES (mu_w=4.0,w_1=38%) in dimension 25 (seed=886553, Mon Apr 13 13:10:39 2020)\n",
            "Iterat #Fevals   function value  axis ratio  sigma  min&max std  t[m:s]\n",
            "    1     13 8.549121759079368e+03 1.0e+00 1.20e-01  1e-01  1e-01 0:00.0\n",
            "    2     26 8.548990722423508e+03 1.1e+00 1.17e-01  1e-01  1e-01 0:00.0\n",
            "    3     39 8.548902705390728e+03 1.1e+00 1.16e-01  1e-01  1e-01 0:00.0\n"
          ],
          "name": "stdout"
        },
        {
          "output_type": "stream",
          "text": [
            "/usr/local/lib/python3.6/dist-packages/cma/utilities/utils.py:333: UserWarning: function_values is not a list of scalars,\n",
            "                        the first element equals [8554.64903135] with non-scalar type <class 'numpy.ndarray'>.\n",
            "                        Using now ``[v[0] for v in function_values]`` instead (further warnings are suppressed) ()\n",
            "  ')')\n",
            "/usr/local/lib/python3.6/dist-packages/cma/utilities/utils.py:333: UserWarning: function_values is not a list of scalars,\n",
            "                        the first element equals [8548.99072242] with non-scalar type <class 'numpy.ndarray'>.\n",
            "                        Using now ``[v[0] for v in function_values]`` instead (further warnings are suppressed) ()\n",
            "  ')')\n"
          ],
          "name": "stderr"
        },
        {
          "output_type": "stream",
          "text": [
            "  100   1300 1.459042014091785e+03 1.8e+00 8.94e-03  7e-03  9e-03 0:00.8\n",
            "  200   2600 1.449131653334776e+03 1.9e+00 1.05e-04  7e-05  9e-05 0:01.5\n",
            "  300   3900 1.449130146912346e+03 1.9e+00 1.54e-06  9e-07  1e-06 0:02.3\n",
            "  400   5200 1.449130146672865e+03 2.1e+00 1.99e-08  1e-08  1e-08 0:03.0\n",
            "  500   6500 1.449130146672828e+03 2.3e+00 4.89e-09  2e-09  3e-09 0:03.8\n",
            "  600   7800 1.449130146672815e+03 3.0e+00 2.10e-09  9e-10  1e-09 0:04.6\n",
            "  700   9100 1.449130146672823e+03 4.2e+00 5.89e-10  2e-10  4e-10 0:05.3\n",
            "  800  10400 1.449130146672825e+03 5.3e+00 5.18e-10  2e-10  3e-10 0:06.1\n",
            "  900  11700 1.449130146672815e+03 6.3e+00 3.47e-10  1e-10  2e-10 0:06.9\n",
            " 1000  13000 1.449130146672817e+03 7.8e+00 2.57e-10  9e-11  2e-10 0:07.6\n",
            "Iterat #Fevals   function value  axis ratio  sigma  min&max std  t[m:s]\n",
            " 1100  14300 1.449130146672819e+03 9.3e+00 2.52e-10  9e-11  2e-10 0:08.4\n",
            " 1200  15600 1.449130146672822e+03 9.3e+00 2.41e-10  8e-11  1e-10 0:09.1\n",
            " 1300  16900 1.449130146672827e+03 9.9e+00 1.66e-10  5e-11  9e-11 0:09.8\n",
            " 1400  18200 1.449130146672823e+03 1.1e+01 1.94e-10  6e-11  1e-10 0:10.6\n",
            " 1500  19500 1.449130146672827e+03 1.3e+01 1.14e-10  4e-11  7e-11 0:11.3\n",
            " 1560  20280 1.449130146672824e+03 1.4e+01 1.03e-10  3e-11  6e-11 0:11.8\n",
            "termination on tolstagnation=1061 (Mon Apr 13 13:10:55 2020)\n",
            "final/bestever f-value = 1.449130e+03 1.449130e+03\n",
            "incumbent solution: [-0.13348989  0.04772923  0.20936674 -0.3089567  -0.13875618 -0.17213701\n",
            "  0.2155367   0.14328293 ...]\n",
            "std deviations: [4.72790707e-11 3.61415724e-11 4.10940769e-11 3.94363766e-11\n",
            " 4.76280922e-11 5.81102179e-11 5.15606062e-11 3.68488571e-11 ...]\n",
            "(6_w,13)-aCMA-ES (mu_w=4.0,w_1=38%) in dimension 25 (seed=874316, Mon Apr 13 13:10:55 2020)\n",
            "Iterat #Fevals   function value  axis ratio  sigma  min&max std  t[m:s]\n",
            "    1     13 7.202383639415060e+03 1.0e+00 1.21e-01  1e-01  1e-01 0:00.0\n",
            "    2     26 7.147826522270241e+03 1.1e+00 1.20e-01  1e-01  1e-01 0:00.0\n",
            "    3     39 6.347142031902121e+03 1.1e+00 1.21e-01  1e-01  1e-01 0:00.0\n"
          ],
          "name": "stdout"
        },
        {
          "output_type": "stream",
          "text": [
            "/usr/local/lib/python3.6/dist-packages/cma/utilities/utils.py:333: UserWarning: function_values is not a list of scalars,\n",
            "                        the first element equals [9907.85081224] with non-scalar type <class 'numpy.ndarray'>.\n",
            "                        Using now ``[v[0] for v in function_values]`` instead (further warnings are suppressed) ()\n",
            "  ')')\n",
            "/usr/local/lib/python3.6/dist-packages/cma/utilities/utils.py:333: UserWarning: function_values is not a list of scalars,\n",
            "                        the first element equals [9109.05186425] with non-scalar type <class 'numpy.ndarray'>.\n",
            "                        Using now ``[v[0] for v in function_values]`` instead (further warnings are suppressed) ()\n",
            "  ')')\n"
          ],
          "name": "stderr"
        },
        {
          "output_type": "stream",
          "text": [
            "   68    884 -4.109859983955021e+09 2.0e+00 1.31e+02  1e+02  1e+02 0:00.8\n",
            "termination on tolfacupx=1000.0 (Mon Apr 13 13:10:56 2020)\n",
            "final/bestever f-value = -3.602725e+09 -4.109860e+09\n",
            "incumbent solution: [-455.84635784  286.0027925   -71.27147445 -194.00256731   -5.30945955\n",
            " -367.87377557 -340.77180809 -118.15112709 ...]\n",
            "std deviations: [131.35078678 128.17356643 125.43371424 120.61073412 127.85966746\n",
            " 125.81916187 120.39875947 126.68092279 ...]\n",
            "Run : 19\n",
            "(6_w,13)-aCMA-ES (mu_w=4.0,w_1=38%) in dimension 25 (seed=859553, Mon Apr 13 13:10:56 2020)\n",
            "Iterat #Fevals   function value  axis ratio  sigma  min&max std  t[m:s]\n",
            "    1     13 8.715406324331156e+03 1.0e+00 1.23e-01  1e-01  1e-01 0:00.0\n",
            "    2     26 8.713964525275604e+03 1.1e+00 1.20e-01  1e-01  1e-01 0:00.0\n",
            "    3     39 8.710883561851908e+03 1.1e+00 1.22e-01  1e-01  1e-01 0:00.0\n"
          ],
          "name": "stdout"
        },
        {
          "output_type": "stream",
          "text": [
            "/usr/local/lib/python3.6/dist-packages/cma/utilities/utils.py:333: UserWarning: function_values is not a list of scalars,\n",
            "                        the first element equals [8718.24996911] with non-scalar type <class 'numpy.ndarray'>.\n",
            "                        Using now ``[v[0] for v in function_values]`` instead (further warnings are suppressed) ()\n",
            "  ')')\n",
            "/usr/local/lib/python3.6/dist-packages/cma/utilities/utils.py:333: UserWarning: function_values is not a list of scalars,\n",
            "                        the first element equals [8716.70851662] with non-scalar type <class 'numpy.ndarray'>.\n",
            "                        Using now ``[v[0] for v in function_values]`` instead (further warnings are suppressed) ()\n",
            "  ')')\n"
          ],
          "name": "stderr"
        },
        {
          "output_type": "stream",
          "text": [
            "  100   1300 -5.605256705097543e+03 1.8e+00 1.11e-02  9e-03  1e-02 0:00.9\n",
            "  200   2600 -5.660909179138485e+03 2.0e+00 2.55e-04  2e-04  2e-04 0:01.8\n",
            "  300   3900 -5.660929615180474e+03 2.2e+00 3.57e-06  2e-06  3e-06 0:02.7\n",
            "  400   5200 -5.660929618682027e+03 2.4e+00 7.05e-08  3e-08  5e-08 0:03.6\n",
            "  500   6500 -5.660929618682700e+03 2.6e+00 3.10e-09  1e-09  2e-09 0:04.5\n",
            "  512   6656 -5.660929618682700e+03 2.6e+00 2.51e-09  1e-09  2e-09 0:04.6\n",
            "termination on tolfun=1e-11 (Mon Apr 13 13:11:02 2020)\n",
            "final/bestever f-value = -5.660930e+03 -5.660930e+03\n",
            "incumbent solution: [-0.1082453   0.02181811  0.23798786 -0.32829556 -0.16731489 -0.17437785\n",
            "  0.0947268   0.11535657 ...]\n",
            "std deviations: [1.31604677e-09 1.17249178e-09 1.06809264e-09 1.57037989e-09\n",
            " 1.15013570e-09 1.32056128e-09 1.45296919e-09 1.47217119e-09 ...]\n",
            "(6_w,13)-aCMA-ES (mu_w=4.0,w_1=38%) in dimension 25 (seed=890058, Mon Apr 13 13:11:02 2020)\n",
            "Iterat #Fevals   function value  axis ratio  sigma  min&max std  t[m:s]\n",
            "    1     13 8.547144947789739e+03 1.0e+00 1.23e-01  1e-01  1e-01 0:00.0\n",
            "    2     26 8.543816592589312e+03 1.1e+00 1.22e-01  1e-01  1e-01 0:00.0\n",
            "    3     39 8.525993859568045e+03 1.1e+00 1.25e-01  1e-01  1e-01 0:00.0\n"
          ],
          "name": "stdout"
        },
        {
          "output_type": "stream",
          "text": [
            "/usr/local/lib/python3.6/dist-packages/cma/utilities/utils.py:333: UserWarning: function_values is not a list of scalars,\n",
            "                        the first element equals [8548.56693556] with non-scalar type <class 'numpy.ndarray'>.\n",
            "                        Using now ``[v[0] for v in function_values]`` instead (further warnings are suppressed) ()\n",
            "  ')')\n",
            "/usr/local/lib/python3.6/dist-packages/cma/utilities/utils.py:333: UserWarning: function_values is not a list of scalars,\n",
            "                        the first element equals [8548.57538416] with non-scalar type <class 'numpy.ndarray'>.\n",
            "                        Using now ``[v[0] for v in function_values]`` instead (further warnings are suppressed) ()\n",
            "  ')')\n"
          ],
          "name": "stderr"
        },
        {
          "output_type": "stream",
          "text": [
            "  100   1300 1.460485366022689e+03 1.6e+00 7.80e-03  6e-03  7e-03 0:00.8\n",
            "  200   2600 1.449130681243822e+03 1.8e+00 7.46e-05  5e-05  6e-05 0:01.5\n",
            "  300   3900 1.449130146766513e+03 1.8e+00 9.72e-07  6e-07  7e-07 0:02.3\n",
            "  400   5200 1.449130146672840e+03 1.9e+00 1.46e-08  7e-09  9e-09 0:03.0\n",
            "  500   6500 1.449130146672825e+03 2.5e+00 4.83e-09  2e-09  3e-09 0:03.7\n",
            "  600   7800 1.449130146672817e+03 2.9e+00 1.73e-09  7e-10  1e-09 0:04.5\n",
            "  700   9100 1.449130146672826e+03 3.8e+00 9.20e-10  4e-10  6e-10 0:05.2\n",
            "  800  10400 1.449130146672818e+03 4.0e+00 1.26e-09  5e-10  8e-10 0:06.0\n",
            "  900  11700 1.449130146672826e+03 5.0e+00 5.35e-10  2e-10  3e-10 0:06.8\n",
            " 1000  13000 1.449130146672824e+03 5.6e+00 3.32e-10  1e-10  2e-10 0:07.6\n",
            "Iterat #Fevals   function value  axis ratio  sigma  min&max std  t[m:s]\n",
            " 1100  14300 1.449130146672825e+03 7.1e+00 4.50e-10  2e-10  3e-10 0:08.3\n",
            " 1200  15600 1.449130146672823e+03 8.5e+00 4.28e-10  1e-10  3e-10 0:09.0\n",
            " 1300  16900 1.449130146672817e+03 1.1e+01 6.89e-10  2e-10  5e-10 0:09.8\n",
            " 1400  18200 1.449130146672812e+03 1.3e+01 8.30e-10  3e-10  6e-10 0:10.5\n",
            " 1455  18915 1.449130146672819e+03 1.5e+01 8.98e-10  3e-10  6e-10 0:10.9\n",
            "termination on tolstagnation=1061 (Mon Apr 13 13:11:16 2020)\n",
            "final/bestever f-value = 1.449130e+03 1.449130e+03\n",
            "incumbent solution: [-0.13348989  0.04772924  0.20936674 -0.30895669 -0.13875618 -0.17213701\n",
            "  0.2155367   0.14328292 ...]\n",
            "std deviations: [5.64104141e-10 4.66706968e-10 3.16699399e-10 5.76602465e-10\n",
            " 4.01962745e-10 5.25381481e-10 4.59782660e-10 2.82967066e-10 ...]\n",
            "(6_w,13)-aCMA-ES (mu_w=4.0,w_1=38%) in dimension 25 (seed=980344, Mon Apr 13 13:11:17 2020)\n",
            "Iterat #Fevals   function value  axis ratio  sigma  min&max std  t[m:s]\n",
            "    1     13 1.027852261357013e+04 1.0e+00 1.20e-01  1e-01  1e-01 0:00.0\n",
            "    2     26 8.918113601755280e+03 1.1e+00 1.18e-01  1e-01  1e-01 0:00.0\n",
            "    3     39 7.881229063305582e+03 1.1e+00 1.19e-01  1e-01  1e-01 0:00.0\n"
          ],
          "name": "stdout"
        },
        {
          "output_type": "stream",
          "text": [
            "/usr/local/lib/python3.6/dist-packages/cma/utilities/utils.py:333: UserWarning: function_values is not a list of scalars,\n",
            "                        the first element equals [12221.85695434] with non-scalar type <class 'numpy.ndarray'>.\n",
            "                        Using now ``[v[0] for v in function_values]`` instead (further warnings are suppressed) ()\n",
            "  ')')\n",
            "/usr/local/lib/python3.6/dist-packages/cma/utilities/utils.py:333: UserWarning: function_values is not a list of scalars,\n",
            "                        the first element equals [9575.31316565] with non-scalar type <class 'numpy.ndarray'>.\n",
            "                        Using now ``[v[0] for v in function_values]`` instead (further warnings are suppressed) ()\n",
            "  ')')\n"
          ],
          "name": "stderr"
        },
        {
          "output_type": "stream",
          "text": [
            "   64    832 -3.984242349601419e+09 1.9e+00 1.36e+02  1e+02  1e+02 0:00.7\n",
            "termination on tolfacupx=1000.0 (Mon Apr 13 13:11:17 2020)\n",
            "final/bestever f-value = -3.657468e+09 -3.984242e+09\n",
            "incumbent solution: [-202.44616068  175.92640259  116.95670688 -490.74967424  -30.86628888\n",
            " -194.94346513 -275.38494704  599.95740374 ...]\n",
            "std deviations: [133.84490107 127.80290561 126.64308836 136.3543241  130.40081828\n",
            " 123.01973874 124.80056288 133.6463963  ...]\n",
            "Run : 20\n",
            "(6_w,13)-aCMA-ES (mu_w=4.0,w_1=38%) in dimension 25 (seed=884436, Mon Apr 13 13:11:17 2020)\n",
            "Iterat #Fevals   function value  axis ratio  sigma  min&max std  t[m:s]\n",
            "    1     13 8.716113656988524e+03 1.0e+00 1.20e-01  1e-01  1e-01 0:00.0\n",
            "    2     26 8.711358477736470e+03 1.1e+00 1.19e-01  1e-01  1e-01 0:00.0\n",
            "    3     39 8.711513778400709e+03 1.1e+00 1.19e-01  1e-01  1e-01 0:00.0\n"
          ],
          "name": "stdout"
        },
        {
          "output_type": "stream",
          "text": [
            "/usr/local/lib/python3.6/dist-packages/cma/utilities/utils.py:333: UserWarning: function_values is not a list of scalars,\n",
            "                        the first element equals [8716.24233941] with non-scalar type <class 'numpy.ndarray'>.\n",
            "                        Using now ``[v[0] for v in function_values]`` instead (further warnings are suppressed) ()\n",
            "  ')')\n",
            "/usr/local/lib/python3.6/dist-packages/cma/utilities/utils.py:333: UserWarning: function_values is not a list of scalars,\n",
            "                        the first element equals [8715.94019966] with non-scalar type <class 'numpy.ndarray'>.\n",
            "                        Using now ``[v[0] for v in function_values]`` instead (further warnings are suppressed) ()\n",
            "  ')')\n"
          ],
          "name": "stderr"
        },
        {
          "output_type": "stream",
          "text": [
            "  100   1300 -5.645541732376156e+03 1.9e+00 7.07e-03  6e-03  7e-03 0:01.0\n",
            "  200   2600 -5.660926346853445e+03 2.0e+00 1.15e-04  8e-05  1e-04 0:01.8\n",
            "  300   3900 -5.660929617956261e+03 2.2e+00 2.01e-06  1e-06  1e-06 0:02.7\n",
            "  400   5200 -5.660929618682616e+03 2.2e+00 2.67e-08  1e-08  2e-08 0:03.7\n",
            "  496   6448 -5.660929618682701e+03 2.4e+00 3.13e-09  1e-09  2e-09 0:04.5\n",
            "termination on tolfun=1e-11 (Mon Apr 13 13:11:23 2020)\n",
            "final/bestever f-value = -5.660930e+03 -5.660930e+03\n",
            "incumbent solution: [-0.10824531  0.0218181   0.23798786 -0.32829556 -0.16731489 -0.17437786\n",
            "  0.09472679  0.11535658 ...]\n",
            "std deviations: [1.69744604e-09 1.59837217e-09 1.39626966e-09 1.81217232e-09\n",
            " 1.49715404e-09 1.61497804e-09 1.65760195e-09 1.69681614e-09 ...]\n",
            "(6_w,13)-aCMA-ES (mu_w=4.0,w_1=38%) in dimension 25 (seed=945658, Mon Apr 13 13:11:23 2020)\n",
            "Iterat #Fevals   function value  axis ratio  sigma  min&max std  t[m:s]\n",
            "    1     13 8.548688879411890e+03 1.0e+00 1.19e-01  1e-01  1e-01 0:00.0\n",
            "    2     26 8.548350768561737e+03 1.1e+00 1.17e-01  1e-01  1e-01 0:00.0\n",
            "    3     39 8.547772865503652e+03 1.1e+00 1.20e-01  1e-01  1e-01 0:00.0\n"
          ],
          "name": "stdout"
        },
        {
          "output_type": "stream",
          "text": [
            "/usr/local/lib/python3.6/dist-packages/cma/utilities/utils.py:333: UserWarning: function_values is not a list of scalars,\n",
            "                        the first element equals [8548.86057235] with non-scalar type <class 'numpy.ndarray'>.\n",
            "                        Using now ``[v[0] for v in function_values]`` instead (further warnings are suppressed) ()\n",
            "  ')')\n",
            "/usr/local/lib/python3.6/dist-packages/cma/utilities/utils.py:333: UserWarning: function_values is not a list of scalars,\n",
            "                        the first element equals [8548.69427518] with non-scalar type <class 'numpy.ndarray'>.\n",
            "                        Using now ``[v[0] for v in function_values]`` instead (further warnings are suppressed) ()\n",
            "  ')')\n"
          ],
          "name": "stderr"
        },
        {
          "output_type": "stream",
          "text": [
            "  100   1300 1.457817518726129e+03 1.8e+00 8.12e-03  7e-03  8e-03 0:00.8\n",
            "  200   2600 1.449132592758550e+03 1.9e+00 1.22e-04  8e-05  1e-04 0:01.5\n",
            "  300   3900 1.449130147305784e+03 2.1e+00 2.30e-06  1e-06  2e-06 0:02.3\n",
            "  400   5200 1.449130146673095e+03 2.3e+00 6.28e-08  3e-08  4e-08 0:03.1\n",
            "  500   6500 1.449130146672827e+03 2.6e+00 5.03e-09  2e-09  3e-09 0:03.8\n",
            "  600   7800 1.449130146672816e+03 3.3e+00 1.75e-09  7e-10  1e-09 0:04.6\n",
            "  700   9100 1.449130146672826e+03 3.8e+00 8.81e-10  3e-10  5e-10 0:05.3\n",
            "  800  10400 1.449130146672821e+03 4.6e+00 6.58e-10  2e-10  4e-10 0:06.1\n",
            "  900  11700 1.449130146672821e+03 5.2e+00 5.31e-10  2e-10  3e-10 0:06.8\n",
            " 1000  13000 1.449130146672824e+03 6.8e+00 4.80e-10  2e-10  3e-10 0:07.6\n",
            "Iterat #Fevals   function value  axis ratio  sigma  min&max std  t[m:s]\n",
            " 1100  14300 1.449130146672817e+03 8.6e+00 1.94e-10  6e-11  1e-10 0:08.3\n",
            " 1200  15600 1.449130146672826e+03 1.0e+01 2.19e-10  7e-11  1e-10 0:09.1\n",
            " 1300  16900 1.449130146672826e+03 1.3e+01 4.30e-10  1e-10  3e-10 0:09.9\n",
            " 1400  18200 1.449130146672822e+03 1.7e+01 4.84e-10  1e-10  4e-10 0:10.6\n",
            " 1435  18655 1.449130146672824e+03 1.8e+01 8.72e-10  2e-10  7e-10 0:10.9\n",
            "termination on tolstagnation=1061 (Mon Apr 13 13:11:38 2020)\n",
            "final/bestever f-value = 1.449130e+03 1.449130e+03\n",
            "incumbent solution: [-0.13348989  0.04772924  0.20936675 -0.30895669 -0.13875618 -0.172137\n",
            "  0.2155367   0.14328292 ...]\n",
            "std deviations: [3.90952751e-10 3.13776467e-10 3.46095729e-10 3.43808394e-10\n",
            " 3.16985607e-10 4.96243324e-10 7.37557822e-10 4.13835764e-10 ...]\n",
            "(6_w,13)-aCMA-ES (mu_w=4.0,w_1=38%) in dimension 25 (seed=900970, Mon Apr 13 13:11:38 2020)\n",
            "Iterat #Fevals   function value  axis ratio  sigma  min&max std  t[m:s]\n",
            "    1     13 7.266213941316207e+03 1.0e+00 1.20e-01  1e-01  1e-01 0:00.0\n",
            "    2     26 6.622549543951795e+03 1.1e+00 1.15e-01  1e-01  1e-01 0:00.0\n",
            "    3     39 6.255871115524526e+03 1.1e+00 1.15e-01  1e-01  1e-01 0:00.0\n"
          ],
          "name": "stdout"
        },
        {
          "output_type": "stream",
          "text": [
            "/usr/local/lib/python3.6/dist-packages/cma/utilities/utils.py:333: UserWarning: function_values is not a list of scalars,\n",
            "                        the first element equals [8941.74795183] with non-scalar type <class 'numpy.ndarray'>.\n",
            "                        Using now ``[v[0] for v in function_values]`` instead (further warnings are suppressed) ()\n",
            "  ')')\n",
            "/usr/local/lib/python3.6/dist-packages/cma/utilities/utils.py:333: UserWarning: function_values is not a list of scalars,\n",
            "                        the first element equals [8493.01529776] with non-scalar type <class 'numpy.ndarray'>.\n",
            "                        Using now ``[v[0] for v in function_values]`` instead (further warnings are suppressed) ()\n",
            "  ')')\n"
          ],
          "name": "stderr"
        },
        {
          "output_type": "stream",
          "text": [
            "   65    845 -4.103810788081664e+09 1.6e+00 1.41e+02  1e+02  1e+02 0:00.7\n",
            "termination on tolfacupx=1000.0 (Mon Apr 13 13:11:39 2020)\n",
            "final/bestever f-value = -3.547795e+09 -4.103811e+09\n",
            "incumbent solution: [-267.85422277   58.49996751 -128.43082963 -484.7318694  -235.791159\n",
            " -211.61596565   -5.52165314  368.9010202  ...]\n",
            "std deviations: [130.78565355 134.27413801 131.03221718 135.0235482  130.0510657\n",
            " 131.25043796 141.54427838 135.69316576 ...]\n",
            "Run : 21\n",
            "(6_w,13)-aCMA-ES (mu_w=4.0,w_1=38%) in dimension 25 (seed=886980, Mon Apr 13 13:11:39 2020)\n",
            "Iterat #Fevals   function value  axis ratio  sigma  min&max std  t[m:s]\n",
            "    1     13 8.714380031550218e+03 1.0e+00 1.21e-01  1e-01  1e-01 0:00.0\n",
            "    2     26 8.711744682316352e+03 1.1e+00 1.18e-01  1e-01  1e-01 0:00.0\n",
            "    3     39 8.709160447858594e+03 1.1e+00 1.16e-01  1e-01  1e-01 0:00.0\n"
          ],
          "name": "stdout"
        },
        {
          "output_type": "stream",
          "text": [
            "/usr/local/lib/python3.6/dist-packages/cma/utilities/utils.py:333: UserWarning: function_values is not a list of scalars,\n",
            "                        the first element equals [8716.38608533] with non-scalar type <class 'numpy.ndarray'>.\n",
            "                        Using now ``[v[0] for v in function_values]`` instead (further warnings are suppressed) ()\n",
            "  ')')\n",
            "/usr/local/lib/python3.6/dist-packages/cma/utilities/utils.py:333: UserWarning: function_values is not a list of scalars,\n",
            "                        the first element equals [8713.15053853] with non-scalar type <class 'numpy.ndarray'>.\n",
            "                        Using now ``[v[0] for v in function_values]`` instead (further warnings are suppressed) ()\n",
            "  ')')\n"
          ],
          "name": "stderr"
        },
        {
          "output_type": "stream",
          "text": [
            "  100   1300 -5.645120654448101e+03 1.7e+00 7.60e-03  6e-03  7e-03 0:00.9\n",
            "  200   2600 -5.660925430429224e+03 1.9e+00 1.05e-04  7e-05  9e-05 0:01.8\n",
            "  300   3900 -5.660929617792826e+03 2.3e+00 2.01e-06  1e-06  2e-06 0:02.8\n",
            "  400   5200 -5.660929618682367e+03 2.4e+00 4.53e-08  2e-08  3e-08 0:03.7\n",
            "  500   6500 -5.660929618682700e+03 2.7e+00 3.34e-09  1e-09  2e-09 0:04.6\n",
            "  518   6734 -5.660929618682700e+03 2.8e+00 3.17e-09  1e-09  2e-09 0:04.8\n",
            "termination on tolfun=1e-11 (Mon Apr 13 13:11:45 2020)\n",
            "final/bestever f-value = -5.660930e+03 -5.660930e+03\n",
            "incumbent solution: [-0.10824531  0.02181811  0.23798786 -0.32829556 -0.16731489 -0.17437785\n",
            "  0.09472679  0.11535658 ...]\n",
            "std deviations: [1.84225748e-09 1.43111425e-09 1.28299960e-09 1.64343589e-09\n",
            " 1.49915723e-09 1.68828389e-09 1.62413461e-09 1.73772139e-09 ...]\n",
            "(6_w,13)-aCMA-ES (mu_w=4.0,w_1=38%) in dimension 25 (seed=893243, Mon Apr 13 13:11:45 2020)\n",
            "Iterat #Fevals   function value  axis ratio  sigma  min&max std  t[m:s]\n",
            "    1     13 8.548781461363349e+03 1.0e+00 1.19e-01  1e-01  1e-01 0:00.0\n",
            "    2     26 8.548702279837178e+03 1.1e+00 1.15e-01  1e-01  1e-01 0:00.0\n",
            "    3     39 8.548546336563493e+03 1.1e+00 1.13e-01  1e-01  1e-01 0:00.0\n"
          ],
          "name": "stdout"
        },
        {
          "output_type": "stream",
          "text": [
            "/usr/local/lib/python3.6/dist-packages/cma/utilities/utils.py:333: UserWarning: function_values is not a list of scalars,\n",
            "                        the first element equals [8548.84382479] with non-scalar type <class 'numpy.ndarray'>.\n",
            "                        Using now ``[v[0] for v in function_values]`` instead (further warnings are suppressed) ()\n",
            "  ')')\n",
            "/usr/local/lib/python3.6/dist-packages/cma/utilities/utils.py:333: UserWarning: function_values is not a list of scalars,\n",
            "                        the first element equals [8548.84247209] with non-scalar type <class 'numpy.ndarray'>.\n",
            "                        Using now ``[v[0] for v in function_values]`` instead (further warnings are suppressed) ()\n",
            "  ')')\n"
          ],
          "name": "stderr"
        },
        {
          "output_type": "stream",
          "text": [
            "  100   1300 1.472432516424117e+03 1.8e+00 1.21e-02  1e-02  1e-02 0:00.8\n",
            "  200   2600 1.449132157676528e+03 1.9e+00 1.16e-04  8e-05  1e-04 0:01.6\n",
            "  300   3900 1.449130147040893e+03 1.8e+00 1.93e-06  1e-06  1e-06 0:02.3\n",
            "  400   5200 1.449130146672890e+03 2.0e+00 3.04e-08  1e-08  2e-08 0:03.1\n",
            "  500   6500 1.449130146672830e+03 2.6e+00 4.52e-09  2e-09  3e-09 0:03.9\n",
            "  600   7800 1.449130146672828e+03 3.2e+00 2.89e-09  1e-09  2e-09 0:04.6\n",
            "  700   9100 1.449130146672824e+03 4.2e+00 1.62e-09  6e-10  1e-09 0:05.3\n",
            "  800  10400 1.449130146672824e+03 5.5e+00 2.09e-09  8e-10  2e-09 0:06.1\n",
            "  900  11700 1.449130146672823e+03 5.9e+00 1.18e-09  4e-10  8e-10 0:06.9\n",
            " 1000  13000 1.449130146672820e+03 7.7e+00 1.87e-09  6e-10  1e-09 0:07.7\n",
            "Iterat #Fevals   function value  axis ratio  sigma  min&max std  t[m:s]\n",
            " 1100  14300 1.449130146672827e+03 7.7e+00 8.00e-10  2e-10  5e-10 0:08.4\n",
            " 1200  15600 1.449130146672824e+03 8.7e+00 4.94e-10  1e-10  3e-10 0:09.2\n",
            " 1300  16900 1.449130146672826e+03 9.8e+00 3.03e-10  9e-11  2e-10 0:09.9\n",
            " 1400  18200 1.449130146672815e+03 1.2e+01 2.26e-10  7e-11  2e-10 0:10.7\n",
            " 1500  19500 1.449130146672826e+03 1.5e+01 1.57e-10  5e-11  1e-10 0:11.4\n",
            " 1600  20800 1.449130146672821e+03 1.8e+01 9.06e-11  3e-11  7e-11 0:12.2\n",
            " 1700  22100 1.449130146672821e+03 2.0e+01 1.11e-10  3e-11  8e-11 0:12.9\n",
            " 1800  23400 1.449130146672817e+03 2.3e+01 2.13e-10  7e-11  2e-10 0:13.7\n",
            " 1900  24700 1.449130146672826e+03 2.9e+01 3.64e-10  1e-10  3e-10 0:14.4\n",
            " 1924  25012 1.449130146672827e+03 3.1e+01 5.23e-10  2e-10  4e-10 0:14.6\n",
            "termination on maxfevals=25000 (Mon Apr 13 13:12:05 2020)\n",
            "final/bestever f-value = 1.449130e+03 1.449130e+03\n",
            "incumbent solution: [-0.13348989  0.04772924  0.20936675 -0.3089567  -0.13875618 -0.172137\n",
            "  0.2155367   0.14328291 ...]\n",
            "std deviations: [3.12492066e-10 2.01472015e-10 1.63482531e-10 2.47463419e-10\n",
            " 2.79188621e-10 3.37354094e-10 2.50647827e-10 3.69868696e-10 ...]\n",
            "(6_w,13)-aCMA-ES (mu_w=4.0,w_1=38%) in dimension 25 (seed=821147, Mon Apr 13 13:12:05 2020)\n",
            "Iterat #Fevals   function value  axis ratio  sigma  min&max std  t[m:s]\n",
            "    1     13 6.620310422648756e+03 1.0e+00 1.22e-01  1e-01  1e-01 0:00.0\n",
            "    2     26 6.582268820830536e+03 1.1e+00 1.21e-01  1e-01  1e-01 0:00.0\n",
            "    3     39 4.876292108188284e+03 1.1e+00 1.22e-01  1e-01  1e-01 0:00.0\n"
          ],
          "name": "stdout"
        },
        {
          "output_type": "stream",
          "text": [
            "/usr/local/lib/python3.6/dist-packages/cma/utilities/utils.py:333: UserWarning: function_values is not a list of scalars,\n",
            "                        the first element equals [9885.71175957] with non-scalar type <class 'numpy.ndarray'>.\n",
            "                        Using now ``[v[0] for v in function_values]`` instead (further warnings are suppressed) ()\n",
            "  ')')\n",
            "/usr/local/lib/python3.6/dist-packages/cma/utilities/utils.py:333: UserWarning: function_values is not a list of scalars,\n",
            "                        the first element equals [6628.50488611] with non-scalar type <class 'numpy.ndarray'>.\n",
            "                        Using now ``[v[0] for v in function_values]`` instead (further warnings are suppressed) ()\n",
            "  ')')\n"
          ],
          "name": "stderr"
        },
        {
          "output_type": "stream",
          "text": [
            "   64    832 -4.697607336820547e+09 1.9e+00 1.19e+02  1e+02  1e+02 0:00.7\n",
            "termination on tolfacupx=1000.0 (Mon Apr 13 13:12:06 2020)\n",
            "final/bestever f-value = -4.530409e+09 -4.697607e+09\n",
            "incumbent solution: [-164.70376379  167.19724194 -420.44412183 -409.49133097 -385.40704893\n",
            " -205.20755174   48.48225015  141.53638833 ...]\n",
            "std deviations: [106.6945946  109.76638252 118.51563202 123.09568911 118.67371699\n",
            " 108.75774703 106.78745162 108.08816243 ...]\n",
            "Run : 22\n",
            "(6_w,13)-aCMA-ES (mu_w=4.0,w_1=38%) in dimension 25 (seed=861034, Mon Apr 13 13:12:06 2020)\n",
            "Iterat #Fevals   function value  axis ratio  sigma  min&max std  t[m:s]\n",
            "    1     13 8.719157490251539e+03 1.0e+00 1.22e-01  1e-01  1e-01 0:00.0\n",
            "    2     26 8.714203792151771e+03 1.1e+00 1.21e-01  1e-01  1e-01 0:00.0\n",
            "    3     39 8.707399449336097e+03 1.1e+00 1.19e-01  1e-01  1e-01 0:00.0\n"
          ],
          "name": "stdout"
        },
        {
          "output_type": "stream",
          "text": [
            "/usr/local/lib/python3.6/dist-packages/cma/utilities/utils.py:333: UserWarning: function_values is not a list of scalars,\n",
            "                        the first element equals [8737.22551574] with non-scalar type <class 'numpy.ndarray'>.\n",
            "                        Using now ``[v[0] for v in function_values]`` instead (further warnings are suppressed) ()\n",
            "  ')')\n",
            "/usr/local/lib/python3.6/dist-packages/cma/utilities/utils.py:333: UserWarning: function_values is not a list of scalars,\n",
            "                        the first element equals [8716.53223042] with non-scalar type <class 'numpy.ndarray'>.\n",
            "                        Using now ``[v[0] for v in function_values]`` instead (further warnings are suppressed) ()\n",
            "  ')')\n"
          ],
          "name": "stderr"
        },
        {
          "output_type": "stream",
          "text": [
            "  100   1300 -5.629585295789111e+03 1.7e+00 1.15e-02  9e-03  1e-02 0:00.9\n",
            "  200   2600 -5.660920207908257e+03 1.9e+00 2.19e-04  1e-04  2e-04 0:01.8\n",
            "  300   3900 -5.660929614733732e+03 2.1e+00 5.08e-06  3e-06  4e-06 0:02.7\n",
            "  400   5200 -5.660929618681126e+03 2.3e+00 1.03e-07  5e-08  7e-08 0:03.6\n",
            "  500   6500 -5.660929618682698e+03 2.4e+00 4.39e-09  2e-09  3e-09 0:04.5\n",
            "  541   7033 -5.660929618682701e+03 2.6e+00 2.72e-09  1e-09  2e-09 0:04.9\n",
            "termination on tolfun=1e-11 (Mon Apr 13 13:12:12 2020)\n",
            "final/bestever f-value = -5.660930e+03 -5.660930e+03\n",
            "incumbent solution: [-0.1082453   0.0218181   0.23798786 -0.32829556 -0.16731489 -0.17437785\n",
            "  0.09472679  0.11535657 ...]\n",
            "std deviations: [1.51113243e-09 1.24060209e-09 1.08492817e-09 1.54690191e-09\n",
            " 1.24492937e-09 1.30534505e-09 1.45038299e-09 1.44545539e-09 ...]\n",
            "(6_w,13)-aCMA-ES (mu_w=4.0,w_1=38%) in dimension 25 (seed=888208, Mon Apr 13 13:12:12 2020)\n",
            "Iterat #Fevals   function value  axis ratio  sigma  min&max std  t[m:s]\n",
            "    1     13 8.548814266540832e+03 1.0e+00 1.18e-01  1e-01  1e-01 0:00.0\n",
            "    2     26 8.548453723042798e+03 1.1e+00 1.14e-01  1e-01  1e-01 0:00.0\n",
            "    3     39 8.547743584210180e+03 1.1e+00 1.12e-01  1e-01  1e-01 0:00.0\n"
          ],
          "name": "stdout"
        },
        {
          "output_type": "stream",
          "text": [
            "/usr/local/lib/python3.6/dist-packages/cma/utilities/utils.py:333: UserWarning: function_values is not a list of scalars,\n",
            "                        the first element equals [8549.04251775] with non-scalar type <class 'numpy.ndarray'>.\n",
            "                        Using now ``[v[0] for v in function_values]`` instead (further warnings are suppressed) ()\n",
            "  ')')\n",
            "/usr/local/lib/python3.6/dist-packages/cma/utilities/utils.py:333: UserWarning: function_values is not a list of scalars,\n",
            "                        the first element equals [8548.58612298] with non-scalar type <class 'numpy.ndarray'>.\n",
            "                        Using now ``[v[0] for v in function_values]`` instead (further warnings are suppressed) ()\n",
            "  ')')\n"
          ],
          "name": "stderr"
        },
        {
          "output_type": "stream",
          "text": [
            "  100   1300 1.463095304365062e+03 2.0e+00 8.57e-03  7e-03  9e-03 0:00.8\n",
            "  200   2600 1.449134455940098e+03 2.0e+00 1.67e-04  1e-04  1e-04 0:01.5\n",
            "  300   3900 1.449130147130308e+03 2.1e+00 1.95e-06  1e-06  1e-06 0:02.2\n",
            "  400   5200 1.449130146672927e+03 2.1e+00 3.77e-08  2e-08  2e-08 0:03.0\n",
            "  500   6500 1.449130146672821e+03 2.6e+00 4.34e-09  2e-09  3e-09 0:03.7\n",
            "  600   7800 1.449130146672829e+03 3.7e+00 3.89e-09  1e-09  3e-09 0:04.5\n",
            "  700   9100 1.449130146672823e+03 4.1e+00 2.26e-09  8e-10  1e-09 0:05.3\n",
            "  800  10400 1.449130146672822e+03 4.5e+00 1.13e-09  4e-10  8e-10 0:06.0\n",
            "  900  11700 1.449130146672825e+03 5.8e+00 1.37e-09  4e-10  9e-10 0:06.8\n",
            " 1000  13000 1.449130146672821e+03 7.1e+00 2.15e-09  7e-10  2e-09 0:07.5\n",
            "Iterat #Fevals   function value  axis ratio  sigma  min&max std  t[m:s]\n",
            " 1100  14300 1.449130146672827e+03 8.7e+00 2.17e-09  7e-10  2e-09 0:08.2\n",
            " 1200  15600 1.449130146672815e+03 8.3e+00 2.86e-09  9e-10  2e-09 0:08.9\n",
            " 1300  16900 1.449130146672825e+03 7.9e+00 1.77e-09  5e-10  1e-09 0:09.7\n",
            " 1400  18200 1.449130146672828e+03 9.8e+00 1.20e-09  4e-10  8e-10 0:10.4\n",
            "termination on tolstagnation=1061 (Mon Apr 13 13:12:26 2020)\n",
            "final/bestever f-value = 1.449130e+03 1.449130e+03\n",
            "incumbent solution: [-0.13348988  0.04772924  0.20936674 -0.3089567  -0.13875619 -0.17213701\n",
            "  0.2155367   0.14328292 ...]\n",
            "std deviations: [7.92915538e-10 5.00003457e-10 5.89847747e-10 5.37129372e-10\n",
            " 5.12024602e-10 5.99646521e-10 5.88041922e-10 6.56104633e-10 ...]\n",
            "(6_w,13)-aCMA-ES (mu_w=4.0,w_1=38%) in dimension 25 (seed=842976, Mon Apr 13 13:12:26 2020)\n",
            "Iterat #Fevals   function value  axis ratio  sigma  min&max std  t[m:s]\n",
            "    1     13 9.130139113882318e+03 1.0e+00 1.16e-01  1e-01  1e-01 0:00.0\n",
            "    2     26 8.136281783371930e+03 1.1e+00 1.12e-01  1e-01  1e-01 0:00.0\n",
            "    3     39 7.327239798356826e+03 1.1e+00 1.13e-01  1e-01  1e-01 0:00.0\n"
          ],
          "name": "stdout"
        },
        {
          "output_type": "stream",
          "text": [
            "/usr/local/lib/python3.6/dist-packages/cma/utilities/utils.py:333: UserWarning: function_values is not a list of scalars,\n",
            "                        the first element equals [9531.87700889] with non-scalar type <class 'numpy.ndarray'>.\n",
            "                        Using now ``[v[0] for v in function_values]`` instead (further warnings are suppressed) ()\n",
            "  ')')\n",
            "/usr/local/lib/python3.6/dist-packages/cma/utilities/utils.py:333: UserWarning: function_values is not a list of scalars,\n",
            "                        the first element equals [8194.07020498] with non-scalar type <class 'numpy.ndarray'>.\n",
            "                        Using now ``[v[0] for v in function_values]`` instead (further warnings are suppressed) ()\n",
            "  ')')\n"
          ],
          "name": "stderr"
        },
        {
          "output_type": "stream",
          "text": [
            "   67    871 -5.154560310738499e+09 1.7e+00 1.36e+02  1e+02  1e+02 0:00.8\n",
            "termination on tolfacupx=1000.0 (Mon Apr 13 13:12:27 2020)\n",
            "final/bestever f-value = -4.844249e+09 -5.154560e+09\n",
            "incumbent solution: [ 134.7079972   203.12060858   44.45578927  172.04275005  360.834989\n",
            "  147.62367936  -94.48172683 -107.99885846 ...]\n",
            "std deviations: [132.61378775 126.05895324 128.58691    125.13327768 135.51733223\n",
            " 131.86476338 123.94827791 122.6636081  ...]\n",
            "Run : 23\n",
            "(6_w,13)-aCMA-ES (mu_w=4.0,w_1=38%) in dimension 25 (seed=823035, Mon Apr 13 13:12:27 2020)\n",
            "Iterat #Fevals   function value  axis ratio  sigma  min&max std  t[m:s]\n",
            "    1     13 8.717448782548892e+03 1.0e+00 1.23e-01  1e-01  1e-01 0:00.0\n",
            "    2     26 8.714469752492760e+03 1.1e+00 1.18e-01  1e-01  1e-01 0:00.0\n",
            "    3     39 8.712399100637560e+03 1.1e+00 1.14e-01  1e-01  1e-01 0:00.0\n"
          ],
          "name": "stdout"
        },
        {
          "output_type": "stream",
          "text": [
            "/usr/local/lib/python3.6/dist-packages/cma/utilities/utils.py:333: UserWarning: function_values is not a list of scalars,\n",
            "                        the first element equals [8718.17464992] with non-scalar type <class 'numpy.ndarray'>.\n",
            "                        Using now ``[v[0] for v in function_values]`` instead (further warnings are suppressed) ()\n",
            "  ')')\n",
            "/usr/local/lib/python3.6/dist-packages/cma/utilities/utils.py:333: UserWarning: function_values is not a list of scalars,\n",
            "                        the first element equals [8719.68319534] with non-scalar type <class 'numpy.ndarray'>.\n",
            "                        Using now ``[v[0] for v in function_values]`` instead (further warnings are suppressed) ()\n",
            "  ')')\n"
          ],
          "name": "stderr"
        },
        {
          "output_type": "stream",
          "text": [
            "  100   1300 -5.555149625321908e+03 1.7e+00 1.46e-02  1e-02  1e-02 0:00.9\n",
            "  200   2600 -5.660916716078449e+03 1.9e+00 2.31e-04  1e-04  2e-04 0:01.8\n",
            "  300   3900 -5.660929616769597e+03 2.1e+00 3.35e-06  2e-06  3e-06 0:02.7\n",
            "  400   5200 -5.660929618682489e+03 2.4e+00 5.17e-08  2e-08  3e-08 0:03.6\n",
            "  500   6500 -5.660929618682703e+03 2.7e+00 2.96e-09  1e-09  2e-09 0:04.5\n",
            "  503   6539 -5.660929618682701e+03 2.7e+00 2.63e-09  1e-09  2e-09 0:04.6\n",
            "termination on tolfun=1e-11 (Mon Apr 13 13:12:33 2020)\n",
            "final/bestever f-value = -5.660930e+03 -5.660930e+03\n",
            "incumbent solution: [-0.1082453   0.02181811  0.23798786 -0.32829555 -0.1673149  -0.17437785\n",
            "  0.0947268   0.11535658 ...]\n",
            "std deviations: [1.45465228e-09 1.22828079e-09 1.03888414e-09 1.32451558e-09\n",
            " 1.23895806e-09 1.41323411e-09 1.22323927e-09 1.40098197e-09 ...]\n",
            "(6_w,13)-aCMA-ES (mu_w=4.0,w_1=38%) in dimension 25 (seed=807065, Mon Apr 13 13:12:33 2020)\n",
            "Iterat #Fevals   function value  axis ratio  sigma  min&max std  t[m:s]\n",
            "    1     13 8.547168012014210e+03 1.0e+00 1.19e-01  1e-01  1e-01 0:00.0\n",
            "    2     26 8.544866849454875e+03 1.1e+00 1.17e-01  1e-01  1e-01 0:00.0\n",
            "    3     39 8.537974638366959e+03 1.1e+00 1.14e-01  1e-01  1e-01 0:00.0\n"
          ],
          "name": "stdout"
        },
        {
          "output_type": "stream",
          "text": [
            "/usr/local/lib/python3.6/dist-packages/cma/utilities/utils.py:333: UserWarning: function_values is not a list of scalars,\n",
            "                        the first element equals [8548.0176564] with non-scalar type <class 'numpy.ndarray'>.\n",
            "                        Using now ``[v[0] for v in function_values]`` instead (further warnings are suppressed) ()\n",
            "  ')')\n",
            "/usr/local/lib/python3.6/dist-packages/cma/utilities/utils.py:333: UserWarning: function_values is not a list of scalars,\n",
            "                        the first element equals [8545.59170715] with non-scalar type <class 'numpy.ndarray'>.\n",
            "                        Using now ``[v[0] for v in function_values]`` instead (further warnings are suppressed) ()\n",
            "  ')')\n"
          ],
          "name": "stderr"
        },
        {
          "output_type": "stream",
          "text": [
            "  100   1300 1.468133346749347e+03 1.9e+00 9.68e-03  8e-03  1e-02 0:00.8\n",
            "  200   2600 1.449133416207716e+03 1.9e+00 1.57e-04  1e-04  1e-04 0:01.5\n",
            "  300   3900 1.449130147018997e+03 2.0e+00 2.01e-06  1e-06  2e-06 0:02.3\n",
            "  400   5200 1.449130146672917e+03 2.0e+00 3.10e-08  1e-08  2e-08 0:03.1\n",
            "  500   6500 1.449130146672824e+03 2.4e+00 4.61e-09  2e-09  3e-09 0:03.8\n",
            "  600   7800 1.449130146672830e+03 3.0e+00 3.42e-09  1e-09  2e-09 0:04.6\n",
            "  700   9100 1.449130146672824e+03 4.0e+00 3.32e-09  1e-09  2e-09 0:05.3\n",
            "  800  10400 1.449130146672830e+03 4.3e+00 1.58e-09  6e-10  1e-09 0:06.1\n",
            "  900  11700 1.449130146672827e+03 5.5e+00 1.55e-09  5e-10  1e-09 0:06.9\n",
            " 1000  13000 1.449130146672823e+03 7.3e+00 1.74e-09  5e-10  1e-09 0:07.6\n",
            "Iterat #Fevals   function value  axis ratio  sigma  min&max std  t[m:s]\n",
            " 1100  14300 1.449130146672825e+03 8.3e+00 1.08e-09  3e-10  8e-10 0:08.4\n",
            " 1200  15600 1.449130146672826e+03 8.7e+00 5.58e-10  2e-10  4e-10 0:09.2\n",
            " 1300  16900 1.449130146672820e+03 1.1e+01 8.70e-10  2e-10  5e-10 0:09.9\n",
            " 1400  18200 1.449130146672826e+03 1.2e+01 1.61e-09  5e-10  1e-09 0:10.7\n",
            " 1500  19500 1.449130146672825e+03 1.4e+01 9.84e-10  3e-10  6e-10 0:11.5\n",
            " 1600  20800 1.449130146672819e+03 1.8e+01 9.98e-10  3e-10  7e-10 0:12.2\n",
            " 1700  22100 1.449130146672822e+03 2.1e+01 7.17e-10  2e-10  5e-10 0:13.0\n",
            " 1750  22750 1.449130146672827e+03 2.3e+01 5.90e-10  1e-10  4e-10 0:13.4\n",
            "termination on tolstagnation=1061 (Mon Apr 13 13:12:51 2020)\n",
            "final/bestever f-value = 1.449130e+03 1.449130e+03\n",
            "incumbent solution: [-0.13348988  0.04772925  0.20936674 -0.3089567  -0.13875618 -0.17213701\n",
            "  0.21553671  0.14328294 ...]\n",
            "std deviations: [2.49412643e-10 3.25990296e-10 1.80500417e-10 2.93560447e-10\n",
            " 2.75443651e-10 2.82324962e-10 3.34971468e-10 4.40779436e-10 ...]\n",
            "(6_w,13)-aCMA-ES (mu_w=4.0,w_1=38%) in dimension 25 (seed=864915, Mon Apr 13 13:12:51 2020)\n",
            "Iterat #Fevals   function value  axis ratio  sigma  min&max std  t[m:s]\n",
            "    1     13 7.622583330056541e+03 1.0e+00 1.19e-01  1e-01  1e-01 0:00.0\n",
            "    2     26 6.490274815180148e+03 1.1e+00 1.17e-01  1e-01  1e-01 0:00.0\n",
            "    3     39 4.690548628512427e+03 1.1e+00 1.19e-01  1e-01  1e-01 0:00.0\n"
          ],
          "name": "stdout"
        },
        {
          "output_type": "stream",
          "text": [
            "/usr/local/lib/python3.6/dist-packages/cma/utilities/utils.py:333: UserWarning: function_values is not a list of scalars,\n",
            "                        the first element equals [11599.12283932] with non-scalar type <class 'numpy.ndarray'>.\n",
            "                        Using now ``[v[0] for v in function_values]`` instead (further warnings are suppressed) ()\n",
            "  ')')\n",
            "/usr/local/lib/python3.6/dist-packages/cma/utilities/utils.py:333: UserWarning: function_values is not a list of scalars,\n",
            "                        the first element equals [7781.35829285] with non-scalar type <class 'numpy.ndarray'>.\n",
            "                        Using now ``[v[0] for v in function_values]`` instead (further warnings are suppressed) ()\n",
            "  ')')\n"
          ],
          "name": "stderr"
        },
        {
          "output_type": "stream",
          "text": [
            "   73    949 -5.007442725305037e+09 2.0e+00 1.15e+02  1e+02  1e+02 0:00.8\n",
            "termination on tolfacupx=1000.0 (Mon Apr 13 13:12:52 2020)\n",
            "final/bestever f-value = -4.487426e+09 -5.007443e+09\n",
            "incumbent solution: [ -81.78431278   63.01058794 -108.70686532 -518.87589306 -238.17026589\n",
            " -203.09686815 -234.92817321  284.4622887  ...]\n",
            "std deviations: [111.49033744 112.67244114 100.89505981 109.28465391 105.40401835\n",
            " 102.89324741 107.48031334 100.65050417 ...]\n",
            "Run : 24\n",
            "(6_w,13)-aCMA-ES (mu_w=4.0,w_1=38%) in dimension 25 (seed=893684, Mon Apr 13 13:12:52 2020)\n",
            "Iterat #Fevals   function value  axis ratio  sigma  min&max std  t[m:s]\n",
            "    1     13 8.716816115117219e+03 1.0e+00 1.21e-01  1e-01  1e-01 0:00.0\n",
            "    2     26 8.716796748713386e+03 1.1e+00 1.18e-01  1e-01  1e-01 0:00.0\n",
            "    3     39 8.716702748806674e+03 1.1e+00 1.15e-01  1e-01  1e-01 0:00.0\n"
          ],
          "name": "stdout"
        },
        {
          "output_type": "stream",
          "text": [
            "/usr/local/lib/python3.6/dist-packages/cma/utilities/utils.py:333: UserWarning: function_values is not a list of scalars,\n",
            "                        the first element equals [8716.92055805] with non-scalar type <class 'numpy.ndarray'>.\n",
            "                        Using now ``[v[0] for v in function_values]`` instead (further warnings are suppressed) ()\n",
            "  ')')\n",
            "/usr/local/lib/python3.6/dist-packages/cma/utilities/utils.py:333: UserWarning: function_values is not a list of scalars,\n",
            "                        the first element equals [8716.83969119] with non-scalar type <class 'numpy.ndarray'>.\n",
            "                        Using now ``[v[0] for v in function_values]`` instead (further warnings are suppressed) ()\n",
            "  ')')\n"
          ],
          "name": "stderr"
        },
        {
          "output_type": "stream",
          "text": [
            "  100   1300 -5.602500256885156e+03 2.0e+00 1.40e-02  1e-02  1e-02 0:00.9\n",
            "  200   2600 -5.660918016543690e+03 2.0e+00 2.02e-04  1e-04  2e-04 0:01.9\n",
            "  300   3900 -5.660929616860969e+03 2.1e+00 4.11e-06  2e-06  3e-06 0:02.8\n",
            "  400   5200 -5.660929618682390e+03 2.2e+00 4.70e-08  2e-08  3e-08 0:03.7\n",
            "  500   6500 -5.660929618682700e+03 2.5e+00 3.27e-09  1e-09  2e-09 0:04.7\n",
            "  518   6734 -5.660929618682700e+03 2.6e+00 2.59e-09  1e-09  2e-09 0:04.8\n",
            "termination on tolfun=1e-11 (Mon Apr 13 13:12:58 2020)\n",
            "final/bestever f-value = -5.660930e+03 -5.660930e+03\n",
            "incumbent solution: [-0.10824531  0.0218181   0.23798786 -0.32829555 -0.16731489 -0.17437785\n",
            "  0.09472679  0.11535657 ...]\n",
            "std deviations: [1.44819642e-09 1.22375386e-09 1.04863394e-09 1.31892393e-09\n",
            " 1.18377576e-09 1.45508558e-09 1.53409516e-09 1.49140787e-09 ...]\n",
            "(6_w,13)-aCMA-ES (mu_w=4.0,w_1=38%) in dimension 25 (seed=896471, Mon Apr 13 13:12:58 2020)\n",
            "Iterat #Fevals   function value  axis ratio  sigma  min&max std  t[m:s]\n",
            "    1     13 8.548836350886369e+03 1.0e+00 1.19e-01  1e-01  1e-01 0:00.0\n",
            "    2     26 8.548836948139106e+03 1.1e+00 1.15e-01  1e-01  1e-01 0:00.0\n",
            "    3     39 8.548794676597430e+03 1.1e+00 1.13e-01  1e-01  1e-01 0:00.0\n"
          ],
          "name": "stdout"
        },
        {
          "output_type": "stream",
          "text": [
            "/usr/local/lib/python3.6/dist-packages/cma/utilities/utils.py:333: UserWarning: function_values is not a list of scalars,\n",
            "                        the first element equals [8548.84923612] with non-scalar type <class 'numpy.ndarray'>.\n",
            "                        Using now ``[v[0] for v in function_values]`` instead (further warnings are suppressed) ()\n",
            "  ')')\n",
            "/usr/local/lib/python3.6/dist-packages/cma/utilities/utils.py:333: UserWarning: function_values is not a list of scalars,\n",
            "                        the first element equals [8548.84591356] with non-scalar type <class 'numpy.ndarray'>.\n",
            "                        Using now ``[v[0] for v in function_values]`` instead (further warnings are suppressed) ()\n",
            "  ')')\n"
          ],
          "name": "stderr"
        },
        {
          "output_type": "stream",
          "text": [
            "  100   1300 1.486659124989454e+03 1.7e+00 1.35e-02  1e-02  1e-02 0:00.8\n",
            "  200   2600 1.449136967178028e+03 1.9e+00 2.24e-04  2e-04  2e-04 0:01.6\n",
            "  300   3900 1.449130149181857e+03 2.1e+00 4.83e-06  3e-06  4e-06 0:02.4\n",
            "  400   5200 1.449130146673157e+03 2.1e+00 6.90e-08  3e-08  4e-08 0:03.1\n",
            "  500   6500 1.449130146672833e+03 2.3e+00 5.64e-09  2e-09  4e-09 0:03.9\n",
            "  600   7800 1.449130146672826e+03 3.0e+00 4.95e-09  2e-09  3e-09 0:04.7\n",
            "  700   9100 1.449130146672826e+03 3.4e+00 3.48e-09  1e-09  2e-09 0:05.4\n",
            "  800  10400 1.449130146672830e+03 4.1e+00 4.00e-09  1e-09  2e-09 0:06.2\n",
            "  900  11700 1.449130146672822e+03 4.5e+00 1.68e-09  6e-10  1e-09 0:06.9\n",
            " 1000  13000 1.449130146672828e+03 5.8e+00 1.80e-09  6e-10  1e-09 0:07.7\n",
            "Iterat #Fevals   function value  axis ratio  sigma  min&max std  t[m:s]\n",
            " 1100  14300 1.449130146672826e+03 6.6e+00 9.86e-10  3e-10  5e-10 0:08.5\n",
            " 1200  15600 1.449130146672823e+03 8.4e+00 8.28e-10  3e-10  5e-10 0:09.2\n",
            " 1300  16900 1.449130146672823e+03 8.9e+00 1.65e-09  5e-10  9e-10 0:10.0\n",
            " 1400  18200 1.449130146672827e+03 1.0e+01 2.86e-09  9e-10  2e-09 0:10.8\n",
            " 1500  19500 1.449130146672826e+03 1.2e+01 1.06e-09  3e-10  7e-10 0:11.5\n",
            " 1600  20800 1.449130146672821e+03 1.4e+01 6.88e-10  2e-10  5e-10 0:12.3\n",
            " 1700  22100 1.449130146672824e+03 1.7e+01 8.63e-10  2e-10  7e-10 0:13.0\n",
            " 1800  23400 1.449130146672826e+03 2.0e+01 2.31e-09  6e-10  2e-09 0:13.8\n",
            " 1855  24115 1.449130146672830e+03 2.1e+01 2.35e-09  6e-10  2e-09 0:14.2\n",
            "termination on tolstagnation=1061 (Mon Apr 13 13:13:17 2020)\n",
            "final/bestever f-value = 1.449130e+03 1.449130e+03\n",
            "incumbent solution: [-0.13348988  0.04772925  0.20936674 -0.30895669 -0.13875619 -0.172137\n",
            "  0.2155367   0.14328292 ...]\n",
            "std deviations: [8.06821576e-10 6.43506496e-10 8.85087696e-10 7.70955337e-10\n",
            " 1.13388458e-09 1.17869054e-09 1.16926887e-09 7.46330069e-10 ...]\n",
            "(6_w,13)-aCMA-ES (mu_w=4.0,w_1=38%) in dimension 25 (seed=920518, Mon Apr 13 13:13:17 2020)\n",
            "Iterat #Fevals   function value  axis ratio  sigma  min&max std  t[m:s]\n",
            "    1     13 1.146341653208000e+04 1.0e+00 1.22e-01  1e-01  1e-01 0:00.0\n",
            "    2     26 1.010043521844954e+04 1.1e+00 1.21e-01  1e-01  1e-01 0:00.0\n",
            "    3     39 9.950443412796836e+03 1.1e+00 1.26e-01  1e-01  1e-01 0:00.0\n"
          ],
          "name": "stdout"
        },
        {
          "output_type": "stream",
          "text": [
            "/usr/local/lib/python3.6/dist-packages/cma/utilities/utils.py:333: UserWarning: function_values is not a list of scalars,\n",
            "                        the first element equals [13856.71157072] with non-scalar type <class 'numpy.ndarray'>.\n",
            "                        Using now ``[v[0] for v in function_values]`` instead (further warnings are suppressed) ()\n",
            "  ')')\n",
            "/usr/local/lib/python3.6/dist-packages/cma/utilities/utils.py:333: UserWarning: function_values is not a list of scalars,\n",
            "                        the first element equals [11931.46455435] with non-scalar type <class 'numpy.ndarray'>.\n",
            "                        Using now ``[v[0] for v in function_values]`` instead (further warnings are suppressed) ()\n",
            "  ')')\n"
          ],
          "name": "stderr"
        },
        {
          "output_type": "stream",
          "text": [
            "   66    858 -3.950204807104274e+09 1.7e+00 1.28e+02  1e+02  1e+02 0:00.7\n",
            "termination on tolfacupx=1000.0 (Mon Apr 13 13:13:18 2020)\n",
            "final/bestever f-value = -3.603216e+09 -3.950205e+09\n",
            "incumbent solution: [-369.7016164   -40.40479836  160.03238467 -202.21252463 -176.82657112\n",
            " -123.8639102   -91.24399093  255.58446934 ...]\n",
            "std deviations: [124.38857373 121.94414656 122.6915472  129.43186752 117.92674447\n",
            " 118.87142464 117.35612254 123.53118769 ...]\n",
            "Run : 25\n",
            "(6_w,13)-aCMA-ES (mu_w=4.0,w_1=38%) in dimension 25 (seed=867323, Mon Apr 13 13:13:18 2020)\n",
            "Iterat #Fevals   function value  axis ratio  sigma  min&max std  t[m:s]\n",
            "    1     13 8.717029698229782e+03 1.0e+00 1.19e-01  1e-01  1e-01 0:00.0\n",
            "    2     26 8.716844552100720e+03 1.1e+00 1.19e-01  1e-01  1e-01 0:00.0\n",
            "    3     39 8.716833802097177e+03 1.1e+00 1.19e-01  1e-01  1e-01 0:00.0\n"
          ],
          "name": "stdout"
        },
        {
          "output_type": "stream",
          "text": [
            "/usr/local/lib/python3.6/dist-packages/cma/utilities/utils.py:333: UserWarning: function_values is not a list of scalars,\n",
            "                        the first element equals [8717.02969823] with non-scalar type <class 'numpy.ndarray'>.\n",
            "                        Using now ``[v[0] for v in function_values]`` instead (further warnings are suppressed) ()\n",
            "  ')')\n",
            "/usr/local/lib/python3.6/dist-packages/cma/utilities/utils.py:333: UserWarning: function_values is not a list of scalars,\n",
            "                        the first element equals [8717.38964354] with non-scalar type <class 'numpy.ndarray'>.\n",
            "                        Using now ``[v[0] for v in function_values]`` instead (further warnings are suppressed) ()\n",
            "  ')')\n"
          ],
          "name": "stderr"
        },
        {
          "output_type": "stream",
          "text": [
            "  100   1300 -5.577773469506985e+03 1.9e+00 1.44e-02  1e-02  1e-02 0:00.9\n",
            "  200   2600 -5.660904040116311e+03 1.9e+00 2.82e-04  2e-04  2e-04 0:01.8\n",
            "  300   3900 -5.660929617009442e+03 2.2e+00 3.34e-06  2e-06  2e-06 0:02.8\n",
            "  400   5200 -5.660929618682136e+03 2.4e+00 6.62e-08  3e-08  4e-08 0:03.6\n",
            "  500   6500 -5.660929618682701e+03 2.7e+00 3.74e-09  2e-09  2e-09 0:04.6\n",
            "  547   7111 -5.660929618682700e+03 2.8e+00 2.64e-09  1e-09  2e-09 0:05.0\n",
            "termination on tolfun=1e-11 (Mon Apr 13 13:13:24 2020)\n",
            "final/bestever f-value = -5.660930e+03 -5.660930e+03\n",
            "incumbent solution: [-0.1082453   0.0218181   0.23798785 -0.32829556 -0.16731489 -0.17437785\n",
            "  0.09472679  0.11535658 ...]\n",
            "std deviations: [1.52373104e-09 1.17782816e-09 1.15363267e-09 1.49632390e-09\n",
            " 1.19833844e-09 1.27359815e-09 1.17080162e-09 1.36041435e-09 ...]\n",
            "(6_w,13)-aCMA-ES (mu_w=4.0,w_1=38%) in dimension 25 (seed=841192, Mon Apr 13 13:13:25 2020)\n",
            "Iterat #Fevals   function value  axis ratio  sigma  min&max std  t[m:s]\n",
            "    1     13 8.548860756905558e+03 1.0e+00 1.23e-01  1e-01  1e-01 0:00.0\n",
            "    2     26 8.548854590476834e+03 1.1e+00 1.20e-01  1e-01  1e-01 0:00.0\n",
            "    3     39 8.548850270236127e+03 1.1e+00 1.21e-01  1e-01  1e-01 0:00.0\n"
          ],
          "name": "stdout"
        },
        {
          "output_type": "stream",
          "text": [
            "/usr/local/lib/python3.6/dist-packages/cma/utilities/utils.py:333: UserWarning: function_values is not a list of scalars,\n",
            "                        the first element equals [8549.08689794] with non-scalar type <class 'numpy.ndarray'>.\n",
            "                        Using now ``[v[0] for v in function_values]`` instead (further warnings are suppressed) ()\n",
            "  ')')\n",
            "/usr/local/lib/python3.6/dist-packages/cma/utilities/utils.py:333: UserWarning: function_values is not a list of scalars,\n",
            "                        the first element equals [8548.85459048] with non-scalar type <class 'numpy.ndarray'>.\n",
            "                        Using now ``[v[0] for v in function_values]`` instead (further warnings are suppressed) ()\n",
            "  ')')\n"
          ],
          "name": "stderr"
        },
        {
          "output_type": "stream",
          "text": [
            "  100   1300 1.500392966503098e+03 1.7e+00 1.73e-02  1e-02  2e-02 0:00.8\n",
            "  200   2600 1.449143666908377e+03 2.0e+00 2.97e-04  2e-04  3e-04 0:01.6\n",
            "  300   3900 1.449130149585520e+03 2.0e+00 5.58e-06  3e-06  4e-06 0:02.3\n",
            "  400   5200 1.449130146673390e+03 2.0e+00 8.38e-08  4e-08  6e-08 0:03.1\n",
            "  500   6500 1.449130146672831e+03 2.4e+00 4.68e-09  2e-09  3e-09 0:03.9\n",
            "  600   7800 1.449130146672829e+03 2.6e+00 3.48e-09  1e-09  2e-09 0:04.6\n",
            "  700   9100 1.449130146672817e+03 3.4e+00 3.74e-09  1e-09  2e-09 0:05.4\n",
            "  800  10400 1.449130146672822e+03 3.9e+00 3.28e-09  1e-09  2e-09 0:06.1\n",
            "  900  11700 1.449130146672827e+03 4.9e+00 2.11e-09  7e-10  1e-09 0:06.9\n",
            " 1000  13000 1.449130146672821e+03 5.6e+00 2.69e-09  9e-10  2e-09 0:07.7\n",
            "Iterat #Fevals   function value  axis ratio  sigma  min&max std  t[m:s]\n",
            " 1100  14300 1.449130146672822e+03 6.4e+00 1.17e-09  4e-10  7e-10 0:08.4\n",
            " 1200  15600 1.449130146672815e+03 8.0e+00 1.11e-09  3e-10  7e-10 0:09.2\n",
            " 1300  16900 1.449130146672824e+03 8.6e+00 9.33e-10  3e-10  6e-10 0:09.9\n",
            " 1400  18200 1.449130146672826e+03 1.2e+01 8.29e-10  2e-10  5e-10 0:10.7\n",
            " 1500  19500 1.449130146672825e+03 1.4e+01 7.49e-10  2e-10  5e-10 0:11.4\n",
            " 1600  20800 1.449130146672822e+03 1.8e+01 3.30e-10  9e-11  2e-10 0:12.2\n",
            " 1630  21190 1.449130146672829e+03 1.8e+01 4.00e-10  1e-10  3e-10 0:12.4\n",
            "termination on tolstagnation=1061 (Mon Apr 13 13:13:41 2020)\n",
            "final/bestever f-value = 1.449130e+03 1.449130e+03\n",
            "incumbent solution: [-0.13348987  0.04772923  0.20936674 -0.30895668 -0.13875618 -0.172137\n",
            "  0.21553669  0.14328293 ...]\n",
            "std deviations: [1.38882224e-10 2.20549139e-10 1.76242041e-10 1.60426715e-10\n",
            " 1.53067892e-10 1.67645599e-10 2.42069194e-10 2.67525723e-10 ...]\n",
            "(6_w,13)-aCMA-ES (mu_w=4.0,w_1=38%) in dimension 25 (seed=880761, Mon Apr 13 13:13:41 2020)\n",
            "Iterat #Fevals   function value  axis ratio  sigma  min&max std  t[m:s]\n",
            "    1     13 9.707429224158088e+03 1.0e+00 1.24e-01  1e-01  1e-01 0:00.0\n",
            "    2     26 8.060847278755034e+03 1.1e+00 1.27e-01  1e-01  1e-01 0:00.0\n",
            "    3     39 7.132552336087550e+03 1.1e+00 1.33e-01  1e-01  1e-01 0:00.0\n"
          ],
          "name": "stdout"
        },
        {
          "output_type": "stream",
          "text": [
            "/usr/local/lib/python3.6/dist-packages/cma/utilities/utils.py:333: UserWarning: function_values is not a list of scalars,\n",
            "                        the first element equals [11787.36714051] with non-scalar type <class 'numpy.ndarray'>.\n",
            "                        Using now ``[v[0] for v in function_values]`` instead (further warnings are suppressed) ()\n",
            "  ')')\n",
            "/usr/local/lib/python3.6/dist-packages/cma/utilities/utils.py:333: UserWarning: function_values is not a list of scalars,\n",
            "                        the first element equals [10789.64834716] with non-scalar type <class 'numpy.ndarray'>.\n",
            "                        Using now ``[v[0] for v in function_values]`` instead (further warnings are suppressed) ()\n",
            "  ')')\n"
          ],
          "name": "stderr"
        },
        {
          "output_type": "stream",
          "text": [
            "   65    845 -6.034565085765155e+09 1.7e+00 1.38e+02  1e+02  1e+02 0:00.7\n",
            "termination on tolfacupx=1000.0 (Mon Apr 13 13:13:42 2020)\n",
            "final/bestever f-value = -5.583735e+09 -6.034565e+09\n",
            "incumbent solution: [-253.7380652  -256.37147823   24.47442456 -546.74780523 -542.06799981\n",
            " -504.12078227 -150.80419341  293.08786466 ...]\n",
            "std deviations: [133.41360398 134.25220758 125.29301972 128.81522274 131.24965121\n",
            " 137.21697947 124.88865613 131.38523879 ...]\n",
            "Run : 26\n",
            "(6_w,13)-aCMA-ES (mu_w=4.0,w_1=38%) in dimension 25 (seed=934242, Mon Apr 13 13:13:42 2020)\n",
            "Iterat #Fevals   function value  axis ratio  sigma  min&max std  t[m:s]\n",
            "    1     13 8.681611947616300e+03 1.0e+00 1.19e-01  1e-01  1e-01 0:00.0\n",
            "    2     26 8.692136291195038e+03 1.1e+00 1.15e-01  1e-01  1e-01 0:00.0\n",
            "    3     39 8.616641927152761e+03 1.1e+00 1.14e-01  1e-01  1e-01 0:00.0\n"
          ],
          "name": "stdout"
        },
        {
          "output_type": "stream",
          "text": [
            "/usr/local/lib/python3.6/dist-packages/cma/utilities/utils.py:333: UserWarning: function_values is not a list of scalars,\n",
            "                        the first element equals [8718.17273111] with non-scalar type <class 'numpy.ndarray'>.\n",
            "                        Using now ``[v[0] for v in function_values]`` instead (further warnings are suppressed) ()\n",
            "  ')')\n",
            "/usr/local/lib/python3.6/dist-packages/cma/utilities/utils.py:333: UserWarning: function_values is not a list of scalars,\n",
            "                        the first element equals [8723.87612553] with non-scalar type <class 'numpy.ndarray'>.\n",
            "                        Using now ``[v[0] for v in function_values]`` instead (further warnings are suppressed) ()\n",
            "  ')')\n"
          ],
          "name": "stderr"
        },
        {
          "output_type": "stream",
          "text": [
            "  100   1300 -5.638443523406149e+03 1.8e+00 7.68e-03  6e-03  7e-03 0:00.9\n",
            "  200   2600 -5.660924613016408e+03 1.9e+00 1.76e-04  1e-04  2e-04 0:01.8\n",
            "  300   3900 -5.660929617406957e+03 2.1e+00 2.30e-06  1e-06  2e-06 0:02.8\n",
            "  400   5200 -5.660929618682516e+03 2.5e+00 3.66e-08  2e-08  2e-08 0:03.7\n",
            "  500   6500 -5.660929618682703e+03 2.7e+00 2.05e-09  9e-10  1e-09 0:04.6\n",
            "  505   6565 -5.660929618682701e+03 2.7e+00 1.80e-09  8e-10  1e-09 0:04.7\n",
            "termination on tolfun=1e-11 (Mon Apr 13 13:13:48 2020)\n",
            "final/bestever f-value = -5.660930e+03 -5.660930e+03\n",
            "incumbent solution: [-0.1082453   0.02181811  0.23798786 -0.32829556 -0.16731489 -0.17437785\n",
            "  0.09472679  0.11535658 ...]\n",
            "std deviations: [9.50299884e-10 8.67947295e-10 7.97443045e-10 9.80125240e-10\n",
            " 7.97002938e-10 1.02014851e-09 9.07000837e-10 1.06461443e-09 ...]\n",
            "(6_w,13)-aCMA-ES (mu_w=4.0,w_1=38%) in dimension 25 (seed=937531, Mon Apr 13 13:13:48 2020)\n",
            "Iterat #Fevals   function value  axis ratio  sigma  min&max std  t[m:s]\n",
            "    1     13 8.546474747002037e+03 1.0e+00 1.21e-01  1e-01  1e-01 0:00.0\n",
            "    2     26 8.544837274691019e+03 1.1e+00 1.15e-01  1e-01  1e-01 0:00.0\n",
            "    3     39 8.539640184294940e+03 1.1e+00 1.14e-01  1e-01  1e-01 0:00.0\n"
          ],
          "name": "stdout"
        },
        {
          "output_type": "stream",
          "text": [
            "/usr/local/lib/python3.6/dist-packages/cma/utilities/utils.py:333: UserWarning: function_values is not a list of scalars,\n",
            "                        the first element equals [8547.38055731] with non-scalar type <class 'numpy.ndarray'>.\n",
            "                        Using now ``[v[0] for v in function_values]`` instead (further warnings are suppressed) ()\n",
            "  ')')\n",
            "/usr/local/lib/python3.6/dist-packages/cma/utilities/utils.py:333: UserWarning: function_values is not a list of scalars,\n",
            "                        the first element equals [8545.74459142] with non-scalar type <class 'numpy.ndarray'>.\n",
            "                        Using now ``[v[0] for v in function_values]`` instead (further warnings are suppressed) ()\n",
            "  ')')\n"
          ],
          "name": "stderr"
        },
        {
          "output_type": "stream",
          "text": [
            "  100   1300 1.458629438458795e+03 1.7e+00 7.18e-03  6e-03  7e-03 0:00.8\n",
            "  200   2600 1.449131334279681e+03 1.8e+00 9.07e-05  6e-05  8e-05 0:01.5\n",
            "  300   3900 1.449130146993521e+03 1.9e+00 1.46e-06  9e-07  1e-06 0:02.3\n",
            "  400   5200 1.449130146672850e+03 2.2e+00 1.65e-08  8e-09  1e-08 0:03.0\n",
            "  500   6500 1.449130146672825e+03 2.5e+00 1.77e-09  8e-10  1e-09 0:03.8\n",
            "  600   7800 1.449130146672823e+03 3.7e+00 9.72e-10  4e-10  6e-10 0:04.5\n",
            "  700   9100 1.449130146672826e+03 4.0e+00 7.60e-10  3e-10  5e-10 0:05.3\n",
            "  800  10400 1.449130146672826e+03 4.6e+00 2.27e-10  8e-11  1e-10 0:06.1\n",
            "  900  11700 1.449130146672824e+03 6.4e+00 1.78e-10  6e-11  1e-10 0:06.8\n",
            " 1000  13000 1.449130146672816e+03 8.8e+00 2.63e-10  9e-11  2e-10 0:07.6\n",
            "Iterat #Fevals   function value  axis ratio  sigma  min&max std  t[m:s]\n",
            " 1100  14300 1.449130146672820e+03 1.0e+01 1.55e-10  5e-11  1e-10 0:08.3\n",
            " 1200  15600 1.449130146672820e+03 1.0e+01 1.31e-10  4e-11  1e-10 0:09.1\n",
            " 1300  16900 1.449130146672826e+03 1.1e+01 1.12e-10  3e-11  8e-11 0:09.9\n",
            " 1400  18200 1.449130146672821e+03 1.1e+01 1.22e-10  3e-11  8e-11 0:10.6\n",
            " 1500  19500 1.449130146672818e+03 1.2e+01 7.07e-11  2e-11  5e-11 0:11.3\n",
            " 1555  20215 1.449130146672816e+03 1.6e+01 3.86e-11  1e-11  3e-11 0:11.8\n",
            "termination on tolstagnation=1061 (Mon Apr 13 13:14:04 2020)\n",
            "final/bestever f-value = 1.449130e+03 1.449130e+03\n",
            "incumbent solution: [-0.13348988  0.04772923  0.20936674 -0.3089567  -0.13875618 -0.17213701\n",
            "  0.2155367   0.1432829  ...]\n",
            "std deviations: [1.43451203e-11 1.09527774e-11 1.58054909e-11 1.51093074e-11\n",
            " 1.54707495e-11 1.38606995e-11 1.66698858e-11 1.81121122e-11 ...]\n",
            "(6_w,13)-aCMA-ES (mu_w=4.0,w_1=38%) in dimension 25 (seed=823146, Mon Apr 13 13:14:04 2020)\n",
            "Iterat #Fevals   function value  axis ratio  sigma  min&max std  t[m:s]\n",
            "    1     13 7.121050606686714e+03 1.0e+00 1.23e-01  1e-01  1e-01 0:00.0\n",
            "    2     26 4.915618539152802e+03 1.1e+00 1.24e-01  1e-01  1e-01 0:00.0\n",
            "    3     39 5.204339751721316e+03 1.2e+00 1.25e-01  1e-01  1e-01 0:00.0\n"
          ],
          "name": "stdout"
        },
        {
          "output_type": "stream",
          "text": [
            "/usr/local/lib/python3.6/dist-packages/cma/utilities/utils.py:333: UserWarning: function_values is not a list of scalars,\n",
            "                        the first element equals [7834.45655513] with non-scalar type <class 'numpy.ndarray'>.\n",
            "                        Using now ``[v[0] for v in function_values]`` instead (further warnings are suppressed) ()\n",
            "  ')')\n",
            "/usr/local/lib/python3.6/dist-packages/cma/utilities/utils.py:333: UserWarning: function_values is not a list of scalars,\n",
            "                        the first element equals [7022.10858098] with non-scalar type <class 'numpy.ndarray'>.\n",
            "                        Using now ``[v[0] for v in function_values]`` instead (further warnings are suppressed) ()\n",
            "  ')')\n"
          ],
          "name": "stderr"
        },
        {
          "output_type": "stream",
          "text": [
            "   61    793 -5.411835453865132e+09 1.9e+00 1.28e+02  1e+02  1e+02 0:00.7\n",
            "termination on tolfacupx=1000.0 (Mon Apr 13 13:14:05 2020)\n",
            "final/bestever f-value = -4.523325e+09 -5.411835e+09\n",
            "incumbent solution: [-158.86288192  171.29713439   64.08900278 -417.39317732 -455.47438784\n",
            " -300.04247875 -139.703395    341.43062691 ...]\n",
            "std deviations: [129.20689851 114.55225746 114.03476779 121.58299526 135.84864239\n",
            " 121.56796621 122.51007963 125.13265423 ...]\n",
            "Run : 27\n",
            "(6_w,13)-aCMA-ES (mu_w=4.0,w_1=38%) in dimension 25 (seed=814953, Mon Apr 13 13:14:05 2020)\n",
            "Iterat #Fevals   function value  axis ratio  sigma  min&max std  t[m:s]\n",
            "    1     13 8.709582144943106e+03 1.0e+00 1.20e-01  1e-01  1e-01 0:00.0\n",
            "    2     26 8.703351744196789e+03 1.1e+00 1.16e-01  1e-01  1e-01 0:00.0\n",
            "    3     39 8.698564418874017e+03 1.1e+00 1.16e-01  1e-01  1e-01 0:00.0\n"
          ],
          "name": "stdout"
        },
        {
          "output_type": "stream",
          "text": [
            "/usr/local/lib/python3.6/dist-packages/cma/utilities/utils.py:333: UserWarning: function_values is not a list of scalars,\n",
            "                        the first element equals [8713.73420306] with non-scalar type <class 'numpy.ndarray'>.\n",
            "                        Using now ``[v[0] for v in function_values]`` instead (further warnings are suppressed) ()\n",
            "  ')')\n",
            "/usr/local/lib/python3.6/dist-packages/cma/utilities/utils.py:333: UserWarning: function_values is not a list of scalars,\n",
            "                        the first element equals [8711.51479906] with non-scalar type <class 'numpy.ndarray'>.\n",
            "                        Using now ``[v[0] for v in function_values]`` instead (further warnings are suppressed) ()\n",
            "  ')')\n"
          ],
          "name": "stderr"
        },
        {
          "output_type": "stream",
          "text": [
            "  100   1300 -5.632792921069773e+03 1.7e+00 9.02e-03  7e-03  9e-03 0:00.9\n",
            "  200   2600 -5.660926059100795e+03 1.8e+00 1.14e-04  7e-05  1e-04 0:01.8\n",
            "  300   3900 -5.660929618114082e+03 2.1e+00 1.96e-06  1e-06  1e-06 0:02.7\n",
            "  400   5200 -5.660929618682590e+03 2.2e+00 2.43e-08  1e-08  2e-08 0:03.6\n",
            "  500   6500 -5.660929618682701e+03 2.4e+00 2.06e-09  9e-10  1e-09 0:04.5\n",
            "  509   6617 -5.660929618682701e+03 2.5e+00 2.35e-09  1e-09  1e-09 0:04.6\n",
            "termination on tolfun=1e-11 (Mon Apr 13 13:14:11 2020)\n",
            "final/bestever f-value = -5.660930e+03 -5.660930e+03\n",
            "incumbent solution: [-0.1082453   0.02181811  0.23798786 -0.32829555 -0.16731489 -0.17437784\n",
            "  0.09472679  0.11535657 ...]\n",
            "std deviations: [1.16227078e-09 1.05154447e-09 9.93658220e-10 1.40634551e-09\n",
            " 1.06318821e-09 1.16454807e-09 1.25366199e-09 1.24430189e-09 ...]\n",
            "(6_w,13)-aCMA-ES (mu_w=4.0,w_1=38%) in dimension 25 (seed=847973, Mon Apr 13 13:14:11 2020)\n",
            "Iterat #Fevals   function value  axis ratio  sigma  min&max std  t[m:s]\n",
            "    1     13 8.542352466135640e+03 1.0e+00 1.21e-01  1e-01  1e-01 0:00.0\n",
            "    2     26 8.541466190019897e+03 1.1e+00 1.18e-01  1e-01  1e-01 0:00.0\n",
            "    3     39 8.523586935633150e+03 1.1e+00 1.17e-01  1e-01  1e-01 0:00.0\n"
          ],
          "name": "stdout"
        },
        {
          "output_type": "stream",
          "text": [
            "/usr/local/lib/python3.6/dist-packages/cma/utilities/utils.py:333: UserWarning: function_values is not a list of scalars,\n",
            "                        the first element equals [8546.46457639] with non-scalar type <class 'numpy.ndarray'>.\n",
            "                        Using now ``[v[0] for v in function_values]`` instead (further warnings are suppressed) ()\n",
            "  ')')\n",
            "/usr/local/lib/python3.6/dist-packages/cma/utilities/utils.py:333: UserWarning: function_values is not a list of scalars,\n",
            "                        the first element equals [8547.78558972] with non-scalar type <class 'numpy.ndarray'>.\n",
            "                        Using now ``[v[0] for v in function_values]`` instead (further warnings are suppressed) ()\n",
            "  ')')\n"
          ],
          "name": "stderr"
        },
        {
          "output_type": "stream",
          "text": [
            "  100   1300 1.457140074762436e+03 1.7e+00 5.72e-03  5e-03  5e-03 0:00.8\n",
            "  200   2600 1.449131772657232e+03 1.8e+00 1.22e-04  8e-05  1e-04 0:01.5\n",
            "  300   3900 1.449130147419361e+03 2.0e+00 2.76e-06  2e-06  2e-06 0:02.3\n",
            "  400   5200 1.449130146672933e+03 2.0e+00 4.10e-08  2e-08  3e-08 0:03.1\n",
            "  500   6500 1.449130146672828e+03 2.4e+00 4.38e-09  2e-09  3e-09 0:03.8\n",
            "  600   7800 1.449130146672826e+03 3.1e+00 5.98e-09  2e-09  4e-09 0:04.6\n",
            "  700   9100 1.449130146672826e+03 3.9e+00 1.67e-09  7e-10  1e-09 0:05.3\n",
            "  800  10400 1.449130146672820e+03 5.8e+00 4.96e-09  2e-09  4e-09 0:06.1\n",
            "  900  11700 1.449130146672811e+03 6.6e+00 4.79e-09  2e-09  3e-09 0:06.9\n",
            " 1000  13000 1.449130146672827e+03 7.2e+00 4.38e-09  2e-09  3e-09 0:07.7\n",
            "Iterat #Fevals   function value  axis ratio  sigma  min&max std  t[m:s]\n",
            " 1100  14300 1.449130146672813e+03 7.8e+00 2.26e-09  8e-10  2e-09 0:08.5\n",
            " 1200  15600 1.449130146672828e+03 8.0e+00 2.84e-09  9e-10  2e-09 0:09.2\n",
            " 1300  16900 1.449130146672832e+03 8.1e+00 1.47e-09  4e-10  1e-09 0:10.0\n",
            " 1400  18200 1.449130146672820e+03 1.1e+01 9.48e-10  3e-10  6e-10 0:10.8\n",
            " 1440  18720 1.449130146672826e+03 1.0e+01 1.08e-09  3e-10  7e-10 0:11.1\n",
            "termination on tolstagnation=1061 (Mon Apr 13 13:14:25 2020)\n",
            "final/bestever f-value = 1.449130e+03 1.449130e+03\n",
            "incumbent solution: [-0.13348988  0.04772924  0.20936674 -0.3089567  -0.13875619 -0.17213701\n",
            "  0.2155367   0.14328293 ...]\n",
            "std deviations: [6.70199035e-10 3.72282472e-10 2.95813706e-10 5.95220442e-10\n",
            " 3.38997804e-10 3.81306548e-10 5.37067211e-10 4.38963153e-10 ...]\n",
            "(6_w,13)-aCMA-ES (mu_w=4.0,w_1=38%) in dimension 25 (seed=972532, Mon Apr 13 13:14:25 2020)\n",
            "Iterat #Fevals   function value  axis ratio  sigma  min&max std  t[m:s]\n",
            "    1     13 7.811332285862866e+03 1.0e+00 1.23e-01  1e-01  1e-01 0:00.0\n",
            "    2     26 7.425937394461226e+03 1.1e+00 1.23e-01  1e-01  1e-01 0:00.0\n",
            "    3     39 6.655012307435729e+03 1.1e+00 1.24e-01  1e-01  1e-01 0:00.0\n"
          ],
          "name": "stdout"
        },
        {
          "output_type": "stream",
          "text": [
            "/usr/local/lib/python3.6/dist-packages/cma/utilities/utils.py:333: UserWarning: function_values is not a list of scalars,\n",
            "                        the first element equals [9213.84474784] with non-scalar type <class 'numpy.ndarray'>.\n",
            "                        Using now ``[v[0] for v in function_values]`` instead (further warnings are suppressed) ()\n",
            "  ')')\n",
            "/usr/local/lib/python3.6/dist-packages/cma/utilities/utils.py:333: UserWarning: function_values is not a list of scalars,\n",
            "                        the first element equals [9056.26487313] with non-scalar type <class 'numpy.ndarray'>.\n",
            "                        Using now ``[v[0] for v in function_values]`` instead (further warnings are suppressed) ()\n",
            "  ')')\n"
          ],
          "name": "stderr"
        },
        {
          "output_type": "stream",
          "text": [
            "   67    871 -4.052693929808311e+09 2.1e+00 1.18e+02  1e+02  1e+02 0:00.8\n",
            "termination on tolfacupx=1000.0 (Mon Apr 13 13:14:26 2020)\n",
            "final/bestever f-value = -3.538857e+09 -4.052694e+09\n",
            "incumbent solution: [-273.3698512   488.97775774 -215.64823552  -77.84439883 -191.85279561\n",
            " -245.67853328 -566.62032548  355.60436309 ...]\n",
            "std deviations: [108.25672978 113.07798808 104.07038933 110.87688569 119.02654165\n",
            " 113.35351384 120.65672804 117.80553483 ...]\n",
            "Run : 28\n",
            "(6_w,13)-aCMA-ES (mu_w=4.0,w_1=38%) in dimension 25 (seed=805081, Mon Apr 13 13:14:27 2020)\n",
            "Iterat #Fevals   function value  axis ratio  sigma  min&max std  t[m:s]\n",
            "    1     13 8.703084904404603e+03 1.0e+00 1.21e-01  1e-01  1e-01 0:00.0\n",
            "    2     26 8.700755405220014e+03 1.1e+00 1.19e-01  1e-01  1e-01 0:00.0\n",
            "    3     39 8.683497046702218e+03 1.1e+00 1.18e-01  1e-01  1e-01 0:00.0\n"
          ],
          "name": "stdout"
        },
        {
          "output_type": "stream",
          "text": [
            "/usr/local/lib/python3.6/dist-packages/cma/utilities/utils.py:333: UserWarning: function_values is not a list of scalars,\n",
            "                        the first element equals [8713.70214108] with non-scalar type <class 'numpy.ndarray'>.\n",
            "                        Using now ``[v[0] for v in function_values]`` instead (further warnings are suppressed) ()\n",
            "  ')')\n",
            "/usr/local/lib/python3.6/dist-packages/cma/utilities/utils.py:333: UserWarning: function_values is not a list of scalars,\n",
            "                        the first element equals [8700.75540522] with non-scalar type <class 'numpy.ndarray'>.\n",
            "                        Using now ``[v[0] for v in function_values]`` instead (further warnings are suppressed) ()\n",
            "  ')')\n"
          ],
          "name": "stderr"
        },
        {
          "output_type": "stream",
          "text": [
            "  100   1300 -5.607229139677596e+03 1.8e+00 1.17e-02  1e-02  1e-02 0:00.9\n",
            "  200   2600 -5.660922439728929e+03 1.9e+00 1.58e-04  1e-04  1e-04 0:01.8\n",
            "  300   3900 -5.660929615999406e+03 2.1e+00 3.70e-06  2e-06  3e-06 0:02.7\n",
            "  400   5200 -5.660929618682016e+03 2.1e+00 8.27e-08  4e-08  5e-08 0:03.6\n",
            "  500   6500 -5.660929618682705e+03 2.5e+00 3.13e-09  1e-09  2e-09 0:04.5\n",
            "  539   7007 -5.660929618682703e+03 2.8e+00 2.70e-09  1e-09  2e-09 0:04.9\n",
            "termination on tolfun=1e-11 (Mon Apr 13 13:14:33 2020)\n",
            "final/bestever f-value = -5.660930e+03 -5.660930e+03\n",
            "incumbent solution: [-0.1082453   0.02181811  0.23798785 -0.32829555 -0.16731489 -0.17437785\n",
            "  0.0947268   0.11535657 ...]\n",
            "std deviations: [1.35506853e-09 1.29776899e-09 1.16275553e-09 1.34848073e-09\n",
            " 1.25149786e-09 1.25637109e-09 1.40344258e-09 1.50446756e-09 ...]\n",
            "(6_w,13)-aCMA-ES (mu_w=4.0,w_1=38%) in dimension 25 (seed=887780, Mon Apr 13 13:14:33 2020)\n",
            "Iterat #Fevals   function value  axis ratio  sigma  min&max std  t[m:s]\n",
            "    1     13 8.548197524858375e+03 1.0e+00 1.22e-01  1e-01  1e-01 0:00.0\n",
            "    2     26 8.546973771654390e+03 1.1e+00 1.20e-01  1e-01  1e-01 0:00.0\n",
            "    3     39 8.547043055342547e+03 1.1e+00 1.20e-01  1e-01  1e-01 0:00.0\n"
          ],
          "name": "stdout"
        },
        {
          "output_type": "stream",
          "text": [
            "/usr/local/lib/python3.6/dist-packages/cma/utilities/utils.py:333: UserWarning: function_values is not a list of scalars,\n",
            "                        the first element equals [8548.66700581] with non-scalar type <class 'numpy.ndarray'>.\n",
            "                        Using now ``[v[0] for v in function_values]`` instead (further warnings are suppressed) ()\n",
            "  ')')\n",
            "/usr/local/lib/python3.6/dist-packages/cma/utilities/utils.py:333: UserWarning: function_values is not a list of scalars,\n",
            "                        the first element equals [8546.97377165] with non-scalar type <class 'numpy.ndarray'>.\n",
            "                        Using now ``[v[0] for v in function_values]`` instead (further warnings are suppressed) ()\n",
            "  ')')\n"
          ],
          "name": "stderr"
        },
        {
          "output_type": "stream",
          "text": [
            "  100   1300 1.467297210637579e+03 1.8e+00 9.43e-03  7e-03  9e-03 0:00.8\n",
            "  200   2600 1.449132982292874e+03 1.9e+00 1.40e-04  1e-04  1e-04 0:01.5\n",
            "  300   3900 1.449130147054862e+03 2.0e+00 2.08e-06  1e-06  2e-06 0:02.3\n",
            "  400   5200 1.449130146672857e+03 2.1e+00 2.31e-08  1e-08  2e-08 0:03.0\n",
            "  500   6500 1.449130146672822e+03 2.6e+00 4.04e-09  2e-09  2e-09 0:03.8\n",
            "  600   7800 1.449130146672821e+03 3.4e+00 3.01e-09  1e-09  2e-09 0:04.5\n",
            "  700   9100 1.449130146672820e+03 4.0e+00 2.18e-09  8e-10  1e-09 0:05.3\n",
            "  800  10400 1.449130146672820e+03 4.2e+00 2.74e-09  1e-09  2e-09 0:06.1\n",
            "  900  11700 1.449130146672826e+03 4.6e+00 1.32e-09  5e-10  8e-10 0:06.9\n",
            " 1000  13000 1.449130146672825e+03 5.4e+00 1.29e-09  5e-10  8e-10 0:07.6\n",
            "Iterat #Fevals   function value  axis ratio  sigma  min&max std  t[m:s]\n",
            " 1100  14300 1.449130146672829e+03 6.6e+00 1.01e-09  3e-10  6e-10 0:08.3\n",
            " 1200  15600 1.449130146672826e+03 9.4e+00 1.74e-09  6e-10  1e-09 0:09.1\n",
            " 1300  16900 1.449130146672820e+03 9.6e+00 2.34e-09  7e-10  1e-09 0:09.8\n",
            " 1400  18200 1.449130146672829e+03 1.0e+01 5.17e-09  2e-09  3e-09 0:10.6\n",
            " 1500  19500 1.449130146672823e+03 1.1e+01 4.06e-09  1e-09  3e-09 0:11.3\n",
            " 1600  20800 1.449130146672821e+03 1.2e+01 3.62e-09  1e-09  2e-09 0:12.1\n",
            " 1700  22100 1.449130146672826e+03 1.3e+01 2.09e-09  6e-10  1e-09 0:12.8\n",
            " 1800  23400 1.449130146672826e+03 1.5e+01 1.73e-09  5e-10  1e-09 0:13.5\n",
            " 1825  23725 1.449130146672824e+03 1.5e+01 1.00e-09  3e-10  6e-10 0:13.7\n",
            "termination on tolstagnation=1061 (Mon Apr 13 13:14:51 2020)\n",
            "final/bestever f-value = 1.449130e+03 1.449130e+03\n",
            "incumbent solution: [-0.13348989  0.04772923  0.20936674 -0.3089567  -0.13875619 -0.172137\n",
            "  0.21553669  0.14328292 ...]\n",
            "std deviations: [3.56978167e-10 3.67030933e-10 3.19077990e-10 4.90460030e-10\n",
            " 3.79146157e-10 5.02713498e-10 5.96439721e-10 3.67830471e-10 ...]\n",
            "(6_w,13)-aCMA-ES (mu_w=4.0,w_1=38%) in dimension 25 (seed=948672, Mon Apr 13 13:14:51 2020)\n",
            "Iterat #Fevals   function value  axis ratio  sigma  min&max std  t[m:s]\n",
            "    1     13 7.263164540420826e+03 1.0e+00 1.22e-01  1e-01  1e-01 0:00.0\n",
            "    2     26 7.756570522484104e+03 1.1e+00 1.17e-01  1e-01  1e-01 0:00.0\n",
            "    3     39 7.471318473842301e+03 1.1e+00 1.14e-01  1e-01  1e-01 0:00.0\n"
          ],
          "name": "stdout"
        },
        {
          "output_type": "stream",
          "text": [
            "/usr/local/lib/python3.6/dist-packages/cma/utilities/utils.py:333: UserWarning: function_values is not a list of scalars,\n",
            "                        the first element equals [8832.0760185] with non-scalar type <class 'numpy.ndarray'>.\n",
            "                        Using now ``[v[0] for v in function_values]`` instead (further warnings are suppressed) ()\n",
            "  ')')\n",
            "/usr/local/lib/python3.6/dist-packages/cma/utilities/utils.py:333: UserWarning: function_values is not a list of scalars,\n",
            "                        the first element equals [11807.34626293] with non-scalar type <class 'numpy.ndarray'>.\n",
            "                        Using now ``[v[0] for v in function_values]`` instead (further warnings are suppressed) ()\n",
            "  ')')\n"
          ],
          "name": "stderr"
        },
        {
          "output_type": "stream",
          "text": [
            "   67    871 -7.673521395167859e+09 1.6e+00 1.40e+02  1e+02  1e+02 0:00.7\n",
            "termination on tolfacupx=1000.0 (Mon Apr 13 13:14:52 2020)\n",
            "final/bestever f-value = -6.378296e+09 -7.673521e+09\n",
            "incumbent solution: [-373.31537627  227.43327935  159.88344923 -437.98043731 -107.84359338\n",
            " -246.65863969 -231.40775506  394.13578877 ...]\n",
            "std deviations: [135.16986985 133.78514839 131.81214113 144.13541844 129.48467844\n",
            " 128.1044455  126.64547855 127.68850401 ...]\n",
            "Run : 29\n",
            "(6_w,13)-aCMA-ES (mu_w=4.0,w_1=38%) in dimension 25 (seed=865299, Mon Apr 13 13:14:52 2020)\n",
            "Iterat #Fevals   function value  axis ratio  sigma  min&max std  t[m:s]\n",
            "    1     13 8.716835965417436e+03 1.0e+00 1.19e-01  1e-01  1e-01 0:00.0\n",
            "    2     26 8.716618952732684e+03 1.1e+00 1.15e-01  1e-01  1e-01 0:00.0\n",
            "    3     39 8.714947115463463e+03 1.1e+00 1.15e-01  1e-01  1e-01 0:00.0\n"
          ],
          "name": "stdout"
        },
        {
          "output_type": "stream",
          "text": [
            "/usr/local/lib/python3.6/dist-packages/cma/utilities/utils.py:333: UserWarning: function_values is not a list of scalars,\n",
            "                        the first element equals [8719.01874056] with non-scalar type <class 'numpy.ndarray'>.\n",
            "                        Using now ``[v[0] for v in function_values]`` instead (further warnings are suppressed) ()\n",
            "  ')')\n",
            "/usr/local/lib/python3.6/dist-packages/cma/utilities/utils.py:333: UserWarning: function_values is not a list of scalars,\n",
            "                        the first element equals [8717.21535369] with non-scalar type <class 'numpy.ndarray'>.\n",
            "                        Using now ``[v[0] for v in function_values]`` instead (further warnings are suppressed) ()\n",
            "  ')')\n"
          ],
          "name": "stderr"
        },
        {
          "output_type": "stream",
          "text": [
            "  100   1300 -5.605142880372006e+03 1.8e+00 1.34e-02  1e-02  1e-02 0:00.9\n",
            "  200   2600 -5.660920467450256e+03 1.9e+00 2.10e-04  1e-04  2e-04 0:01.8\n",
            "  300   3900 -5.660929617462290e+03 2.2e+00 2.59e-06  1e-06  2e-06 0:02.7\n",
            "  400   5200 -5.660929618682127e+03 2.2e+00 6.40e-08  3e-08  4e-08 0:03.7\n",
            "  500   6500 -5.660929618682703e+03 2.5e+00 2.31e-09  1e-09  1e-09 0:04.6\n",
            "  532   6916 -5.660929618682698e+03 2.8e+00 2.69e-09  1e-09  2e-09 0:04.8\n",
            "termination on tolfun=1e-11 (Mon Apr 13 13:14:58 2020)\n",
            "final/bestever f-value = -5.660930e+03 -5.660930e+03\n",
            "incumbent solution: [-0.1082453   0.0218181   0.23798786 -0.32829555 -0.16731489 -0.17437784\n",
            "  0.09472679  0.11535657 ...]\n",
            "std deviations: [1.66333739e-09 1.33733000e-09 1.23425386e-09 1.44205692e-09\n",
            " 1.38058427e-09 1.43158935e-09 1.31356575e-09 1.63120913e-09 ...]\n",
            "(6_w,13)-aCMA-ES (mu_w=4.0,w_1=38%) in dimension 25 (seed=955398, Mon Apr 13 13:14:58 2020)\n",
            "Iterat #Fevals   function value  axis ratio  sigma  min&max std  t[m:s]\n",
            "    1     13 8.547867586188904e+03 1.0e+00 1.22e-01  1e-01  1e-01 0:00.0\n",
            "    2     26 8.546924016338635e+03 1.1e+00 1.19e-01  1e-01  1e-01 0:00.0\n",
            "    3     39 8.544464253718485e+03 1.1e+00 1.19e-01  1e-01  1e-01 0:00.0\n"
          ],
          "name": "stdout"
        },
        {
          "output_type": "stream",
          "text": [
            "/usr/local/lib/python3.6/dist-packages/cma/utilities/utils.py:333: UserWarning: function_values is not a list of scalars,\n",
            "                        the first element equals [8548.65127417] with non-scalar type <class 'numpy.ndarray'>.\n",
            "                        Using now ``[v[0] for v in function_values]`` instead (further warnings are suppressed) ()\n",
            "  ')')\n",
            "/usr/local/lib/python3.6/dist-packages/cma/utilities/utils.py:333: UserWarning: function_values is not a list of scalars,\n",
            "                        the first element equals [8548.81505648] with non-scalar type <class 'numpy.ndarray'>.\n",
            "                        Using now ``[v[0] for v in function_values]`` instead (further warnings are suppressed) ()\n",
            "  ')')\n"
          ],
          "name": "stderr"
        },
        {
          "output_type": "stream",
          "text": [
            "  100   1300 1.461050062910375e+03 1.7e+00 8.80e-03  7e-03  8e-03 0:00.8\n",
            "  200   2600 1.449132144460174e+03 1.8e+00 1.21e-04  8e-05  1e-04 0:01.5\n",
            "  300   3900 1.449130146882838e+03 1.9e+00 1.38e-06  8e-07  1e-06 0:02.3\n",
            "  400   5200 1.449130146672850e+03 1.9e+00 1.61e-08  8e-09  1e-08 0:03.1\n",
            "  500   6500 1.449130146672829e+03 2.7e+00 7.49e-09  3e-09  5e-09 0:03.8\n",
            "  600   7800 1.449130146672823e+03 3.3e+00 5.34e-09  2e-09  3e-09 0:04.6\n",
            "  700   9100 1.449130146672819e+03 4.0e+00 1.66e-09  7e-10  1e-09 0:05.3\n",
            "  800  10400 1.449130146672820e+03 5.5e+00 9.75e-10  4e-10  6e-10 0:06.1\n",
            "  900  11700 1.449130146672826e+03 7.0e+00 5.63e-10  2e-10  4e-10 0:06.8\n",
            " 1000  13000 1.449130146672826e+03 8.2e+00 6.99e-10  2e-10  5e-10 0:07.6\n",
            "Iterat #Fevals   function value  axis ratio  sigma  min&max std  t[m:s]\n",
            " 1100  14300 1.449130146672821e+03 8.9e+00 1.25e-09  4e-10  1e-09 0:08.3\n",
            " 1200  15600 1.449130146672820e+03 1.2e+01 9.71e-10  3e-10  1e-09 0:09.1\n",
            " 1300  16900 1.449130146672825e+03 1.4e+01 2.04e-09  6e-10  2e-09 0:09.9\n",
            " 1400  18200 1.449130146672824e+03 1.5e+01 1.14e-09  4e-10  1e-09 0:10.6\n",
            " 1455  18915 1.449130146672826e+03 1.5e+01 1.92e-09  6e-10  2e-09 0:11.0\n",
            "termination on tolstagnation=1061 (Mon Apr 13 13:15:13 2020)\n",
            "final/bestever f-value = 1.449130e+03 1.449130e+03\n",
            "incumbent solution: [-0.13348988  0.04772923  0.20936674 -0.30895669 -0.13875619 -0.17213701\n",
            "  0.2155367   0.1432829  ...]\n",
            "std deviations: [1.16797827e-09 6.77823527e-10 9.72906118e-10 8.13971937e-10\n",
            " 8.65522352e-10 9.91838353e-10 1.06008058e-09 1.83624653e-09 ...]\n",
            "(6_w,13)-aCMA-ES (mu_w=4.0,w_1=38%) in dimension 25 (seed=930908, Mon Apr 13 13:15:13 2020)\n",
            "Iterat #Fevals   function value  axis ratio  sigma  min&max std  t[m:s]\n",
            "    1     13 1.157802589704912e+04 1.0e+00 1.22e-01  1e-01  1e-01 0:00.0\n",
            "    2     26 1.095826387725985e+04 1.1e+00 1.21e-01  1e-01  1e-01 0:00.0\n",
            "    3     39 9.141463005622207e+03 1.1e+00 1.21e-01  1e-01  1e-01 0:00.0\n"
          ],
          "name": "stdout"
        },
        {
          "output_type": "stream",
          "text": [
            "/usr/local/lib/python3.6/dist-packages/cma/utilities/utils.py:333: UserWarning: function_values is not a list of scalars,\n",
            "                        the first element equals [13382.61105264] with non-scalar type <class 'numpy.ndarray'>.\n",
            "                        Using now ``[v[0] for v in function_values]`` instead (further warnings are suppressed) ()\n",
            "  ')')\n",
            "/usr/local/lib/python3.6/dist-packages/cma/utilities/utils.py:333: UserWarning: function_values is not a list of scalars,\n",
            "                        the first element equals [12537.52250571] with non-scalar type <class 'numpy.ndarray'>.\n",
            "                        Using now ``[v[0] for v in function_values]`` instead (further warnings are suppressed) ()\n",
            "  ')')\n"
          ],
          "name": "stderr"
        },
        {
          "output_type": "stream",
          "text": [
            "   65    845 -4.865887609916405e+09 2.0e+00 1.35e+02  1e+02  1e+02 0:00.7\n",
            "termination on tolfacupx=1000.0 (Mon Apr 13 13:15:14 2020)\n",
            "final/bestever f-value = -4.251738e+09 -4.865888e+09\n",
            "incumbent solution: [ 525.35019715  170.82722375 -358.06075314  458.85549275  447.64349552\n",
            "  215.68081775  124.20754501   17.78781217 ...]\n",
            "std deviations: [127.19579155 122.90758714 134.56650938 126.02128547 138.77607678\n",
            " 130.6030654  120.81321623 126.97458927 ...]\n"
          ],
          "name": "stdout"
        }
      ]
    },
    {
      "cell_type": "code",
      "metadata": {
        "id": "9SYW02OkZ6MM",
        "colab_type": "code",
        "outputId": "c2fef968-f3bc-4939-ad84-08864d3c6f0a",
        "colab": {
          "base_uri": "https://localhost:8080/",
          "height": 121
        }
      },
      "source": [
        "X_Values = pd.DataFrame(X_Values)\n",
        "X_Values.columns = Cols\n",
        "X_Values.to_csv('F7_X_Values.csv')\n",
        "Krig_Fun = np.zeros(30)\n",
        "SVM_Fun = np.zeros(30)\n",
        "ELN_Fun = np.zeros(30)\n",
        "for i in range(X_Values.shape[0]):\n",
        "    Krig_Fun [i] = F7(X_Values.iloc[i,:25])\n",
        "    SVM_Fun [i] = F7(X_Values.iloc[i,25:50])\n",
        "    ELN_Fun [i] = F7(X_Values.iloc[i,50:75])\n",
        "print ('Kriging')\n",
        "print (stats.mode(Krig_Fun) , np.std(Krig_Fun))\n",
        "print ('SVM')\n",
        "print (stats.mode(SVM_Fun) , np.std(SVM_Fun))\n",
        "print ('ELN')\n",
        "print (stats.mode(ELN_Fun) , np.std(ELN_Fun))"
      ],
      "execution_count": 7,
      "outputs": [
        {
          "output_type": "stream",
          "text": [
            "Kriging\n",
            "ModeResult(mode=array([382.18596256]), count=array([30])) 1.7053025658242404e-13\n",
            "SVM\n",
            "ModeResult(mode=array([360.39905553]), count=array([30])) 5.684341886080802e-14\n",
            "ELN\n",
            "ModeResult(mode=array([13725219.43525875]), count=array([1])) 9546836.74290575\n"
          ],
          "name": "stdout"
        }
      ]
    }
  ]
}