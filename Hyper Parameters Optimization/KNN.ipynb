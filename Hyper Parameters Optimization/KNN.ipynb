{
 "cells": [
  {
   "cell_type": "code",
   "execution_count": 1,
   "metadata": {},
   "outputs": [],
   "source": [
    "import Utils\n",
    "import pyDOE\n",
    "import pandas as pd\n",
    "import numpy as np\n",
    "import scipy.stats.distributions as dist\n",
    "from sklearn import preprocessing\n",
    "from sklearn.neighbors import KNeighborsRegressor\n",
    "from sklearn.svm import SVR\n",
    "from collections import namedtuple\n",
    "from sklearn.preprocessing import MinMaxScaler"
   ]
  },
  {
   "cell_type": "markdown",
   "metadata": {},
   "source": [
    "## Helper Functions"
   ]
  },
  {
   "cell_type": "code",
   "execution_count": 2,
   "metadata": {},
   "outputs": [],
   "source": [
    "''' KNN Regression Implementation'''\n",
    "def KNN(train_data,test_data,n):\n",
    "    scaler = MinMaxScaler().fit(np.r_[train_data.iloc[:,:-1].values, test_data.values])\n",
    "    regr = KNeighborsRegressor(n_neighbors=n,weights='distance',algorithm='brute',p=2\n",
    "                               ).fit(scaler.transform(train_data.iloc[:,:-1]), train_data.iloc[:,-1])\n",
    "\n",
    "    pred = regr.predict(scaler.transform(test_data))\n",
    "    return regr,pred"
   ]
  },
  {
   "cell_type": "markdown",
   "metadata": {},
   "source": [
    "## Load Training and Test Data Set initially Generated"
   ]
  },
  {
   "cell_type": "code",
   "execution_count": 3,
   "metadata": {},
   "outputs": [],
   "source": [
    "path = \"Training_Data_Sets\\\\train_2_1000Samples.csv\"\n",
    "train = pd.read_csv(path).iloc[:,1:]\n",
    "test = pd.read_csv(path[:-42]+str('Test_Data_Sets\\\\test_2_200Samples.csv')).iloc[:,1:]\n",
    "true_minimax = np.array(test['Y'])"
   ]
  },
  {
   "cell_type": "markdown",
   "metadata": {},
   "source": [
    "## KNN Regression Distance Inverse weights"
   ]
  },
  {
   "cell_type": "code",
   "execution_count": 4,
   "metadata": {},
   "outputs": [],
   "source": [
    "Hyper_Parameters = np.arange(2,1000)\n",
    "mean_abs_error = np.zeros(Hyper_Parameters.shape[0])\n",
    "for i in range(Hyper_Parameters.shape[0]):\n",
    "    model,pred_k_m = KNN(train,test.iloc[:,:-1],Hyper_Parameters[i])\n",
    "    mean_abs_error[i] = np.mean((abs(true_minimax-pred_k_m) / abs(true_minimax) ) * 100)"
   ]
  },
  {
   "cell_type": "code",
   "execution_count": 5,
   "metadata": {},
   "outputs": [
    {
     "name": "stdout",
     "output_type": "stream",
     "text": [
      "Best Configuration of Hyper Parameters for Robust Regularization Using Distance Inverse Weight\n"
     ]
    },
    {
     "data": {
      "text/plain": [
       "(12, 33.26969639116717)"
      ]
     },
     "execution_count": 5,
     "metadata": {},
     "output_type": "execute_result"
    }
   ],
   "source": [
    "print ('Best Configuration of Hyper Parameters for Robust Regularization Using Distance Inverse Weight')\n",
    "Hyper_Parameters[np.argmin(mean_abs_error)] , np.min(mean_abs_error)"
   ]
  }
 ],
 "metadata": {
  "kernelspec": {
   "display_name": "Python 3",
   "language": "python",
   "name": "python3"
  },
  "language_info": {
   "codemirror_mode": {
    "name": "ipython",
    "version": 3
   },
   "file_extension": ".py",
   "mimetype": "text/x-python",
   "name": "python",
   "nbconvert_exporter": "python",
   "pygments_lexer": "ipython3",
   "version": "3.7.0"
  }
 },
 "nbformat": 4,
 "nbformat_minor": 2
}
